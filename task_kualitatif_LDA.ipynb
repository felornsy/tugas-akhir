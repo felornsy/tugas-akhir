{
  "cells": [
    {
      "cell_type": "code",
      "execution_count": 19,
      "metadata": {
        "id": "xLTR8avada_P"
      },
      "outputs": [],
      "source": [
        "import warnings\n",
        "warnings.filterwarnings('ignore')\n",
        "import pandas as pd #a library to make the data more structured55r56y6y"
      ]
    },
    {
      "cell_type": "code",
      "execution_count": 20,
      "metadata": {
        "colab": {
          "base_uri": "https://localhost:8080/",
          "height": 372
        },
        "id": "SqJ6bJwOdmxH",
        "outputId": "4c42ea1b-af2c-4219-d627-0e55f2195cc1"
      },
      "outputs": [
        {
          "data": {
            "text/html": [
              "<div>\n",
              "<style scoped>\n",
              "    .dataframe tbody tr th:only-of-type {\n",
              "        vertical-align: middle;\n",
              "    }\n",
              "\n",
              "    .dataframe tbody tr th {\n",
              "        vertical-align: top;\n",
              "    }\n",
              "\n",
              "    .dataframe thead th {\n",
              "        text-align: right;\n",
              "    }\n",
              "</style>\n",
              "<table border=\"1\" class=\"dataframe\">\n",
              "  <thead>\n",
              "    <tr style=\"text-align: right;\">\n",
              "      <th></th>\n",
              "      <th>Unnamed: 0</th>\n",
              "      <th>tweet_id</th>\n",
              "      <th>author_name</th>\n",
              "      <th>author_username</th>\n",
              "      <th>author_location</th>\n",
              "      <th>content</th>\n",
              "      <th>content_clean</th>\n",
              "      <th>like_count</th>\n",
              "      <th>retweet_count</th>\n",
              "      <th>reply_count</th>\n",
              "      <th>...</th>\n",
              "      <th>latitude</th>\n",
              "      <th>province</th>\n",
              "      <th>city</th>\n",
              "      <th>country</th>\n",
              "      <th>created_at</th>\n",
              "      <th>content_token</th>\n",
              "      <th>tweet_tokens_fdist</th>\n",
              "      <th>tweet_tokens_WSW</th>\n",
              "      <th>tweet_tokens_stemmed</th>\n",
              "      <th>tweet_tokens_stemmed_string</th>\n",
              "    </tr>\n",
              "  </thead>\n",
              "  <tbody>\n",
              "    <tr>\n",
              "      <th>0</th>\n",
              "      <td>0</td>\n",
              "      <td>1.536196e+17</td>\n",
              "      <td>MariBerlomba</td>\n",
              "      <td>MariBerlomba</td>\n",
              "      <td>di dalam asa pemuda</td>\n",
              "      <td>1. lomba poster ilmiah \"energi baru/terbarukan...</td>\n",
              "      <td>lomba poster ilmiah energi baru terbarukan dea...</td>\n",
              "      <td>0.0</td>\n",
              "      <td>1.0</td>\n",
              "      <td>NaN</td>\n",
              "      <td>...</td>\n",
              "      <td>NaN</td>\n",
              "      <td>NaN</td>\n",
              "      <td>NaN</td>\n",
              "      <td>NaN</td>\n",
              "      <td>2012-01-01 23:32:20</td>\n",
              "      <td>['lomba', 'poster', 'ilmiah', 'energi', 'baru'...</td>\n",
              "      <td>&lt;FreqDist with 13 samples and 13 outcomes&gt;</td>\n",
              "      <td>['lomba', 'poster', 'ilmiah', 'energi', 'terba...</td>\n",
              "      <td>['lomba', 'poster', 'ilmiah', 'energi', 'baru'...</td>\n",
              "      <td>lomba poster ilmiah energi baru deadline janua...</td>\n",
              "    </tr>\n",
              "    <tr>\n",
              "      <th>1</th>\n",
              "      <td>1</td>\n",
              "      <td>1.538575e+17</td>\n",
              "      <td>vegaaulia</td>\n",
              "      <td>vegaaulia</td>\n",
              "      <td>Bogor, Indonesia</td>\n",
              "      <td>elaahhh ini si bapak tiba2 ngomong soal energi...</td>\n",
              "      <td>elaahhh ini si bapak tiba ngomong soal energi ...</td>\n",
              "      <td>0.0</td>\n",
              "      <td>NaN</td>\n",
              "      <td>1.0</td>\n",
              "      <td>...</td>\n",
              "      <td>-6.596299</td>\n",
              "      <td>Jawa Barat</td>\n",
              "      <td>Kelurahan Pabaton</td>\n",
              "      <td>Indonesia</td>\n",
              "      <td>2012-01-02 15:17:39</td>\n",
              "      <td>['elaahhh', 'ini', 'si', 'bapak', 'tiba', 'ngo...</td>\n",
              "      <td>&lt;FreqDist with 13 samples and 13 outcomes&gt;</td>\n",
              "      <td>['elaahhh', 'ngomong', 'energi', 'terbarukan',...</td>\n",
              "      <td>['elaahhh', 'ngomong', 'energi', 'baru', 'tv',...</td>\n",
              "      <td>elaahhh ngomong energi baru tv biruu</td>\n",
              "    </tr>\n",
              "    <tr>\n",
              "      <th>2</th>\n",
              "      <td>2</td>\n",
              "      <td>1.543614e+17</td>\n",
              "      <td>enbater</td>\n",
              "      <td>enbater</td>\n",
              "      <td>Indonesia</td>\n",
              "      <td>masih banyak daerah terpencil membutuhkam list...</td>\n",
              "      <td>masih banyak daerah terpencil membutuhkam list...</td>\n",
              "      <td>0.0</td>\n",
              "      <td>NaN</td>\n",
              "      <td>NaN</td>\n",
              "      <td>...</td>\n",
              "      <td>-2.483383</td>\n",
              "      <td>Kalimantan Timur</td>\n",
              "      <td>NaN</td>\n",
              "      <td>Indonesia</td>\n",
              "      <td>2012-01-04 00:40:06</td>\n",
              "      <td>['masih', 'banyak', 'daerah', 'terpencil', 'me...</td>\n",
              "      <td>&lt;FreqDist with 13 samples and 13 outcomes&gt;</td>\n",
              "      <td>['daerah', 'terpencil', 'membutuhkam', 'listri...</td>\n",
              "      <td>['daerah', 'pencil', 'membutuhkam', 'listrik',...</td>\n",
              "      <td>daerah pencil membutuhkam listrik manfaat ener...</td>\n",
              "    </tr>\n",
              "    <tr>\n",
              "      <th>3</th>\n",
              "      <td>3</td>\n",
              "      <td>1.563972e+17</td>\n",
              "      <td>imronrosidin</td>\n",
              "      <td>imronrosidin</td>\n",
              "      <td>ÜT: -6.895087,107.627799</td>\n",
              "      <td>gw kira kalo @provocactive gak tertarik dgn ma...</td>\n",
              "      <td>gw kira kalo gak tertarik dgn materi energi ba...</td>\n",
              "      <td>0.0</td>\n",
              "      <td>NaN</td>\n",
              "      <td>1.0</td>\n",
              "      <td>...</td>\n",
              "      <td>NaN</td>\n",
              "      <td>NaN</td>\n",
              "      <td>NaN</td>\n",
              "      <td>NaN</td>\n",
              "      <td>2012-01-09 15:29:37</td>\n",
              "      <td>['gw', 'kira', 'kalo', 'gak', 'tertarik', 'dgn...</td>\n",
              "      <td>&lt;FreqDist with 18 samples and 18 outcomes&gt;</td>\n",
              "      <td>['tertarik', 'materi', 'energi', 'terbarukan',...</td>\n",
              "      <td>['tarik', 'materi', 'energi', 'baru', 'baek', ...</td>\n",
              "      <td>tarik materi energi baru baek ganti nama propa...</td>\n",
              "    </tr>\n",
              "    <tr>\n",
              "      <th>4</th>\n",
              "      <td>4</td>\n",
              "      <td>1.569363e+17</td>\n",
              "      <td>revozone</td>\n",
              "      <td>revozone</td>\n",
              "      <td>Indonesia</td>\n",
              "      <td>satu lagi yang aneh. inget jatropa? alias miny...</td>\n",
              "      <td>satu lagi yang aneh inget jatropa alias minyak...</td>\n",
              "      <td>0.0</td>\n",
              "      <td>NaN</td>\n",
              "      <td>NaN</td>\n",
              "      <td>...</td>\n",
              "      <td>-2.483383</td>\n",
              "      <td>Kalimantan Timur</td>\n",
              "      <td>NaN</td>\n",
              "      <td>Indonesia</td>\n",
              "      <td>2012-01-11 03:11:53</td>\n",
              "      <td>['satu', 'lagi', 'yang', 'aneh', 'inget', 'jat...</td>\n",
              "      <td>&lt;FreqDist with 20 samples and 21 outcomes&gt;</td>\n",
              "      <td>['aneh', 'inget', 'jatropa', 'alias', 'minyak'...</td>\n",
              "      <td>['aneh', 'inget', 'jatropa', 'alias', 'minyak'...</td>\n",
              "      <td>aneh inget jatropa alias minyak jarak bbrp jat...</td>\n",
              "    </tr>\n",
              "  </tbody>\n",
              "</table>\n",
              "<p>5 rows × 24 columns</p>\n",
              "</div>"
            ],
            "text/plain": [
              "   Unnamed: 0      tweet_id   author_name author_username  \\\n",
              "0           0  1.536196e+17  MariBerlomba    MariBerlomba   \n",
              "1           1  1.538575e+17     vegaaulia       vegaaulia   \n",
              "2           2  1.543614e+17       enbater         enbater   \n",
              "3           3  1.563972e+17  imronrosidin    imronrosidin   \n",
              "4           4  1.569363e+17      revozone        revozone   \n",
              "\n",
              "            author_location  \\\n",
              "0       di dalam asa pemuda   \n",
              "1          Bogor, Indonesia   \n",
              "2                 Indonesia   \n",
              "3  ÜT: -6.895087,107.627799   \n",
              "4                 Indonesia   \n",
              "\n",
              "                                             content  \\\n",
              "0  1. lomba poster ilmiah \"energi baru/terbarukan...   \n",
              "1  elaahhh ini si bapak tiba2 ngomong soal energi...   \n",
              "2  masih banyak daerah terpencil membutuhkam list...   \n",
              "3  gw kira kalo @provocactive gak tertarik dgn ma...   \n",
              "4  satu lagi yang aneh. inget jatropa? alias miny...   \n",
              "\n",
              "                                       content_clean  like_count  \\\n",
              "0  lomba poster ilmiah energi baru terbarukan dea...         0.0   \n",
              "1  elaahhh ini si bapak tiba ngomong soal energi ...         0.0   \n",
              "2  masih banyak daerah terpencil membutuhkam list...         0.0   \n",
              "3  gw kira kalo gak tertarik dgn materi energi ba...         0.0   \n",
              "4  satu lagi yang aneh inget jatropa alias minyak...         0.0   \n",
              "\n",
              "   retweet_count  reply_count  ...  latitude          province  \\\n",
              "0            1.0          NaN  ...       NaN               NaN   \n",
              "1            NaN          1.0  ... -6.596299        Jawa Barat   \n",
              "2            NaN          NaN  ... -2.483383  Kalimantan Timur   \n",
              "3            NaN          1.0  ...       NaN               NaN   \n",
              "4            NaN          NaN  ... -2.483383  Kalimantan Timur   \n",
              "\n",
              "                city    country           created_at  \\\n",
              "0                NaN        NaN  2012-01-01 23:32:20   \n",
              "1  Kelurahan Pabaton  Indonesia  2012-01-02 15:17:39   \n",
              "2                NaN  Indonesia  2012-01-04 00:40:06   \n",
              "3                NaN        NaN  2012-01-09 15:29:37   \n",
              "4                NaN  Indonesia  2012-01-11 03:11:53   \n",
              "\n",
              "                                       content_token  \\\n",
              "0  ['lomba', 'poster', 'ilmiah', 'energi', 'baru'...   \n",
              "1  ['elaahhh', 'ini', 'si', 'bapak', 'tiba', 'ngo...   \n",
              "2  ['masih', 'banyak', 'daerah', 'terpencil', 'me...   \n",
              "3  ['gw', 'kira', 'kalo', 'gak', 'tertarik', 'dgn...   \n",
              "4  ['satu', 'lagi', 'yang', 'aneh', 'inget', 'jat...   \n",
              "\n",
              "                           tweet_tokens_fdist  \\\n",
              "0  <FreqDist with 13 samples and 13 outcomes>   \n",
              "1  <FreqDist with 13 samples and 13 outcomes>   \n",
              "2  <FreqDist with 13 samples and 13 outcomes>   \n",
              "3  <FreqDist with 18 samples and 18 outcomes>   \n",
              "4  <FreqDist with 20 samples and 21 outcomes>   \n",
              "\n",
              "                                    tweet_tokens_WSW  \\\n",
              "0  ['lomba', 'poster', 'ilmiah', 'energi', 'terba...   \n",
              "1  ['elaahhh', 'ngomong', 'energi', 'terbarukan',...   \n",
              "2  ['daerah', 'terpencil', 'membutuhkam', 'listri...   \n",
              "3  ['tertarik', 'materi', 'energi', 'terbarukan',...   \n",
              "4  ['aneh', 'inget', 'jatropa', 'alias', 'minyak'...   \n",
              "\n",
              "                                tweet_tokens_stemmed  \\\n",
              "0  ['lomba', 'poster', 'ilmiah', 'energi', 'baru'...   \n",
              "1  ['elaahhh', 'ngomong', 'energi', 'baru', 'tv',...   \n",
              "2  ['daerah', 'pencil', 'membutuhkam', 'listrik',...   \n",
              "3  ['tarik', 'materi', 'energi', 'baru', 'baek', ...   \n",
              "4  ['aneh', 'inget', 'jatropa', 'alias', 'minyak'...   \n",
              "\n",
              "                         tweet_tokens_stemmed_string  \n",
              "0  lomba poster ilmiah energi baru deadline janua...  \n",
              "1               elaahhh ngomong energi baru tv biruu  \n",
              "2  daerah pencil membutuhkam listrik manfaat ener...  \n",
              "3  tarik materi energi baru baek ganti nama propa...  \n",
              "4  aneh inget jatropa alias minyak jarak bbrp jat...  \n",
              "\n",
              "[5 rows x 24 columns]"
            ]
          },
          "execution_count": 20,
          "metadata": {},
          "output_type": "execute_result"
        }
      ],
      "source": [
        "df = pd.read_excel('data/text-preprocessing.xlsx')\n",
        "df.head()"
      ]
    },
    {
      "cell_type": "code",
      "execution_count": 21,
      "metadata": {
        "colab": {
          "base_uri": "https://localhost:8080/"
        },
        "id": "MxWR5yAqMP_S",
        "outputId": "d9a66715-3b7c-449c-9244-5372b4ced4b5"
      },
      "outputs": [
        {
          "data": {
            "text/plain": [
              "(109705, 24)"
            ]
          },
          "execution_count": 21,
          "metadata": {},
          "output_type": "execute_result"
        }
      ],
      "source": [
        "df.shape"
      ]
    },
    {
      "cell_type": "code",
      "execution_count": 22,
      "metadata": {
        "colab": {
          "base_uri": "https://localhost:8080/"
        },
        "id": "Oy0uwRRPcksH",
        "outputId": "ba7c1c66-ad10-4e2d-cc0c-781bcecd9334"
      },
      "outputs": [
        {
          "name": "stdout",
          "output_type": "stream",
          "text": [
            "<class 'pandas.core.frame.DataFrame'>\n",
            "RangeIndex: 109705 entries, 0 to 109704\n",
            "Data columns (total 24 columns):\n",
            " #   Column                       Non-Null Count   Dtype  \n",
            "---  ------                       --------------   -----  \n",
            " 0   Unnamed: 0                   109705 non-null  int64  \n",
            " 1   tweet_id                     109705 non-null  float64\n",
            " 2   author_name                  109705 non-null  object \n",
            " 3   author_username              109705 non-null  object \n",
            " 4   author_location              78272 non-null   object \n",
            " 5   content                      109705 non-null  object \n",
            " 6   content_clean                109437 non-null  object \n",
            " 7   like_count                   109604 non-null  float64\n",
            " 8   retweet_count                17012 non-null   float64\n",
            " 9   reply_count                  16620 non-null   float64\n",
            " 10  source                       109705 non-null  object \n",
            " 11  keyword                      109705 non-null  object \n",
            " 12  address                      64928 non-null   object \n",
            " 13  longitude                    66438 non-null   float64\n",
            " 14  latitude                     66438 non-null   float64\n",
            " 15  province                     64297 non-null   object \n",
            " 16  city                         41183 non-null   object \n",
            " 17  country                      66419 non-null   object \n",
            " 18  created_at                   109705 non-null  object \n",
            " 19  content_token                109705 non-null  object \n",
            " 20  tweet_tokens_fdist           109705 non-null  object \n",
            " 21  tweet_tokens_WSW             109705 non-null  object \n",
            " 22  tweet_tokens_stemmed         109705 non-null  object \n",
            " 23  tweet_tokens_stemmed_string  109404 non-null  object \n",
            "dtypes: float64(6), int64(1), object(17)\n",
            "memory usage: 20.1+ MB\n"
          ]
        }
      ],
      "source": [
        "df.info()"
      ]
    },
    {
      "cell_type": "code",
      "execution_count": 23,
      "metadata": {
        "id": "3PYA4slIdNBD"
      },
      "outputs": [],
      "source": [
        "df_new = df[df['tweet_tokens_stemmed_string'].notnull()]"
      ]
    },
    {
      "cell_type": "code",
      "execution_count": 24,
      "metadata": {
        "colab": {
          "base_uri": "https://localhost:8080/"
        },
        "id": "uiih8RfJcG3C",
        "outputId": "cdec65c1-675f-4022-e661-e57038cd2a71"
      },
      "outputs": [
        {
          "data": {
            "text/plain": [
              "0    lomba poster ilmiah energi baru deadline janua...\n",
              "1                 elaahhh ngomong energi baru tv biruu\n",
              "2    daerah pencil membutuhkam listrik manfaat ener...\n",
              "3    tarik materi energi baru baek ganti nama propa...\n",
              "4    aneh inget jatropa alias minyak jarak bbrp jat...\n",
              "Name: tweet_tokens_stemmed_string, dtype: object"
            ]
          },
          "execution_count": 24,
          "metadata": {},
          "output_type": "execute_result"
        }
      ],
      "source": [
        "df_new['tweet_tokens_stemmed_string'].head()"
      ]
    },
    {
      "cell_type": "code",
      "execution_count": 25,
      "metadata": {
        "colab": {
          "base_uri": "https://localhost:8080/"
        },
        "id": "GGejGqbRh6W4",
        "outputId": "89c44e3a-3677-4a98-9a81-d3184e372c0d"
      },
      "outputs": [
        {
          "name": "stdout",
          "output_type": "stream",
          "text": [
            "Case Folding Result : \n",
            "\n",
            "0    lomba poster ilmiah energi baru deadline janua...\n",
            "1                 elaahhh ngomong energi baru tv biruu\n",
            "2    daerah pencil membutuhkam listrik manfaat ener...\n",
            "3    tarik materi energi baru baek ganti nama propa...\n",
            "4    aneh inget jatropa alias minyak jarak bbrp jat...\n",
            "Name: tweet_tokens_stemmed_string, dtype: object\n"
          ]
        }
      ],
      "source": [
        "#lower text\n",
        "# ------ Case Folding --------\n",
        "# gunakan fungsi Series.str.lower() pada Pandas\n",
        "df_new['tweet_tokens_stemmed_string'] = df_new['tweet_tokens_stemmed_string'].str.lower()\n",
        "\n",
        "\n",
        "print('Case Folding Result : \\n')\n",
        "print(df_new['tweet_tokens_stemmed_string'].head(5))\n"
      ]
    },
    {
      "cell_type": "code",
      "execution_count": 45,
      "metadata": {
        "colab": {
          "base_uri": "https://localhost:8080/"
        },
        "id": "Aox9mh-NFJaY",
        "outputId": "dc62a84f-cf29-41fc-a1b4-83dbeff37ddc"
      },
      "outputs": [
        {
          "ename": "AttributeError",
          "evalue": "'FreqDist' object has no attribute 'split'",
          "output_type": "error",
          "traceback": [
            "\u001b[0;31m---------------------------------------------------------------------------\u001b[0m",
            "\u001b[0;31mAttributeError\u001b[0m                            Traceback (most recent call last)",
            "\u001b[1;32m/Users/indralionardy/Personal/sara/tugas-akhir/Data_Kualitatif_LDA (1).ipynb Cell 8\u001b[0m in \u001b[0;36m<cell line: 2>\u001b[0;34m()\u001b[0m\n\u001b[1;32m      <a href='vscode-notebook-cell:/Users/indralionardy/Personal/sara/tugas-akhir/Data_Kualitatif_LDA%20%281%29.ipynb#X14sZmlsZQ%3D%3D?line=0'>1</a>\u001b[0m text \u001b[39m=\u001b[39m df_new[\u001b[39m'\u001b[39m\u001b[39mtweet_tokens_stemmed_string\u001b[39m\u001b[39m'\u001b[39m]\n\u001b[0;32m----> <a href='vscode-notebook-cell:/Users/indralionardy/Personal/sara/tugas-akhir/Data_Kualitatif_LDA%20%281%29.ipynb#X14sZmlsZQ%3D%3D?line=1'>2</a>\u001b[0m text_list \u001b[39m=\u001b[39m  [i\u001b[39m.\u001b[39msplit() \u001b[39mfor\u001b[39;00m i \u001b[39min\u001b[39;00m text]\n\u001b[1;32m      <a href='vscode-notebook-cell:/Users/indralionardy/Personal/sara/tugas-akhir/Data_Kualitatif_LDA%20%281%29.ipynb#X14sZmlsZQ%3D%3D?line=2'>3</a>\u001b[0m \u001b[39m#text_list =  [i for i in text]\u001b[39;00m\n\u001b[1;32m      <a href='vscode-notebook-cell:/Users/indralionardy/Personal/sara/tugas-akhir/Data_Kualitatif_LDA%20%281%29.ipynb#X14sZmlsZQ%3D%3D?line=3'>4</a>\u001b[0m \u001b[39mprint\u001b[39m(\u001b[39mlen\u001b[39m(text_list))\n",
            "\u001b[1;32m/Users/indralionardy/Personal/sara/tugas-akhir/Data_Kualitatif_LDA (1).ipynb Cell 8\u001b[0m in \u001b[0;36m<listcomp>\u001b[0;34m(.0)\u001b[0m\n\u001b[1;32m      <a href='vscode-notebook-cell:/Users/indralionardy/Personal/sara/tugas-akhir/Data_Kualitatif_LDA%20%281%29.ipynb#X14sZmlsZQ%3D%3D?line=0'>1</a>\u001b[0m text \u001b[39m=\u001b[39m df_new[\u001b[39m'\u001b[39m\u001b[39mtweet_tokens_stemmed_string\u001b[39m\u001b[39m'\u001b[39m]\n\u001b[0;32m----> <a href='vscode-notebook-cell:/Users/indralionardy/Personal/sara/tugas-akhir/Data_Kualitatif_LDA%20%281%29.ipynb#X14sZmlsZQ%3D%3D?line=1'>2</a>\u001b[0m text_list \u001b[39m=\u001b[39m  [i\u001b[39m.\u001b[39;49msplit() \u001b[39mfor\u001b[39;00m i \u001b[39min\u001b[39;00m text]\n\u001b[1;32m      <a href='vscode-notebook-cell:/Users/indralionardy/Personal/sara/tugas-akhir/Data_Kualitatif_LDA%20%281%29.ipynb#X14sZmlsZQ%3D%3D?line=2'>3</a>\u001b[0m \u001b[39m#text_list =  [i for i in text]\u001b[39;00m\n\u001b[1;32m      <a href='vscode-notebook-cell:/Users/indralionardy/Personal/sara/tugas-akhir/Data_Kualitatif_LDA%20%281%29.ipynb#X14sZmlsZQ%3D%3D?line=3'>4</a>\u001b[0m \u001b[39mprint\u001b[39m(\u001b[39mlen\u001b[39m(text_list))\n",
            "\u001b[0;31mAttributeError\u001b[0m: 'FreqDist' object has no attribute 'split'"
          ]
        }
      ],
      "source": [
        "text = df_new['tweet_tokens_stemmed_string']\n",
        "text_list =  [i.split() for i in text]\n",
        "#text_list =  [i for i in text]\n",
        "print(len(text_list))"
      ]
    },
    {
      "cell_type": "code",
      "execution_count": 27,
      "metadata": {
        "id": "GjjpNNG6y9Gz"
      },
      "outputs": [],
      "source": [
        "#di twitter, yg, dn, sy, -- > masukkan di stopwords, sastrawi buat stopwords "
      ]
    },
    {
      "cell_type": "code",
      "execution_count": 28,
      "metadata": {
        "id": "pYW0PR2c_S08"
      },
      "outputs": [],
      "source": [
        "#normalisasi : --> yg, dn, sy, dll. "
      ]
    },
    {
      "cell_type": "code",
      "execution_count": 29,
      "metadata": {
        "id": "RPsDlHwscyGf"
      },
      "outputs": [],
      "source": [
        "#https://yunusmuhammad007.medium.com/text-preprocessing-menggunakan-pandas-nltk-dan-sastrawi-untuk-large-dataset-5fb3c0a88571"
      ]
    },
    {
      "cell_type": "code",
      "execution_count": 30,
      "metadata": {
        "colab": {
          "base_uri": "https://localhost:8080/"
        },
        "id": "Z4Y-nzFZdmOz",
        "outputId": "a63b5e1c-301a-4d94-f1bb-9d06647e3422"
      },
      "outputs": [
        {
          "name": "stdout",
          "output_type": "stream",
          "text": [
            "Frequency Tokens : \n",
            "\n"
          ]
        },
        {
          "data": {
            "text/plain": [
              "0    [( , 11), (a, 10), (e, 6), (i, 6), (s, 5), (r,...\n",
              "1    [( , 5), (e, 3), (a, 3), (h, 3), (n, 3), (g, 3...\n",
              "2    [(a, 7), ( , 6), (e, 5), (r, 4), (i, 4), (m, 4...\n",
              "3    [(a, 10), ( , 8), (r, 5), (i, 5), (e, 4), (t, ...\n",
              "4    [(a, 12), ( , 12), (r, 8), (e, 7), (b, 6), (i,...\n",
              "Name: tweet_tokens_stemmed_string, dtype: object"
            ]
          },
          "execution_count": 30,
          "metadata": {},
          "output_type": "execute_result"
        }
      ],
      "source": [
        "#masi salah hasil frekuensi nya\n",
        "# NLTK calc frequency distribution\n",
        "from nltk.probability import FreqDist\n",
        "def freqDist_wrapper(text):\n",
        "    return FreqDist(text)\n",
        "\n",
        "df_new['tweet_tokens_stemmed_string'] = df_new['tweet_tokens_stemmed_string'].apply(freqDist_wrapper)\n",
        "\n",
        "print('Frequency Tokens : \\n') \n",
        "df_new['tweet_tokens_stemmed_string'].head().apply(lambda x : x.most_common())"
      ]
    },
    {
      "cell_type": "code",
      "execution_count": 31,
      "metadata": {
        "id": "fHH5EmZWfh7Q"
      },
      "outputs": [],
      "source": [
        "#https://sites.unpad.ac.id/widodo/2021/03/09/nlp-dengan-python/"
      ]
    },
    {
      "cell_type": "code",
      "execution_count": 32,
      "metadata": {
        "id": "qnLvYqUHc5Jj"
      },
      "outputs": [],
      "source": [
        "import gensim\n",
        "#Create Bigram & Trigram Models \n",
        "from gensim.models import Phrases\n",
        "# Add bigrams and trigrams to docs,minimum count 10 means only that appear 10 times or more.\n",
        "bigram = Phrases(text_list, min_count=10)\n",
        "trigram = Phrases(bigram[text_list])\n",
        "for idx in range(len(text_list)):\n",
        "    for token in bigram[text_list[idx]]:\n",
        "        if '_' in token:\n",
        "            # Token is a bigram, add to document.\n",
        "            text_list[idx].append(token)\n",
        "    for token in trigram[text_list[idx]]:\n",
        "        if '_' in token:\n",
        "            # Token is a bigram, add to document.\n",
        "            text_list[idx].append(token)"
      ]
    },
    {
      "cell_type": "code",
      "execution_count": 34,
      "metadata": {
        "colab": {
          "base_uri": "https://localhost:8080/"
        },
        "id": "EO5hqr3Ufk0S",
        "outputId": "0ff90687-35bf-4851-e1fd-5e3d61b8f9dd"
      },
      "outputs": [
        {
          "name": "stdout",
          "output_type": "stream",
          "text": [
            "Dictionary<16354 unique tokens: ['deadline', 'derajat', 'ilmiah', 'januari', 'lomba']...>\n"
          ]
        }
      ],
      "source": [
        "from gensim import corpora, models\n",
        "# Create a dictionary representation of the documents.\n",
        "dictionary = corpora.Dictionary(text_list)\n",
        "dictionary.filter_extremes(no_below=5, no_above=0.2) \n",
        "#no_below (int, optional) – Keep tokens which are contained in at least no_below documents.\n",
        "#no_above (float, optional) – Keep tokens which are contained in no more than no_above documents (fraction of total corpus size, not an absolute number).\n",
        "print(dictionary)"
      ]
    },
    {
      "cell_type": "code",
      "execution_count": 35,
      "metadata": {
        "colab": {
          "base_uri": "https://localhost:8080/"
        },
        "id": "oF92M3p_fqlQ",
        "outputId": "3b77b4e1-2901-4b52-9698-4ea50bb0fa14"
      },
      "outputs": [
        {
          "name": "stdout",
          "output_type": "stream",
          "text": [
            "109404\n",
            "[(35, 1), (188, 1)]\n"
          ]
        }
      ],
      "source": [
        "#https://radimrehurek.com/gensim/tut1.html \n",
        "#build corpus\n",
        "# Converting list of documents (corpus) into Document Term Matrix using dictionary prepared above.\n",
        "doc_term_matrix = [dictionary.doc2bow(doc) for doc in text_list]\n",
        "#The function doc2bow converts document (a list of words) into the bag-of-words format\n",
        "'''The function doc2bow() simply counts the number of occurrences of each distinct word, \n",
        "converts the word to its integer word id and returns the result as a sparse vector. \n",
        "The sparse vector [(0, 1), (1, 1)] therefore reads: in the document “Human computer interaction”, \n",
        "the words computer (id 0) and human (id 1) appear once; \n",
        "the other ten dictionary words appear (implicitly) zero times.'''\n",
        "print(len(doc_term_matrix))\n",
        "print(doc_term_matrix[100])\n",
        "tfidf = models.TfidfModel(doc_term_matrix) #build TF-IDF model\n",
        "corpus_tfidf = tfidf[doc_term_matrix]"
      ]
    },
    {
      "cell_type": "code",
      "execution_count": 36,
      "metadata": {
        "id": "m5ZUrlyFfx85"
      },
      "outputs": [],
      "source": [
        "from gensim.models.coherencemodel import CoherenceModel\n",
        "from gensim.models.ldamodel import LdaModel\n",
        "from gensim.corpora.dictionary import Dictionary\n",
        "from numpy import array\n",
        "#function to compute coherence values\n",
        "def compute_coherence_values(dictionary, corpus, texts, limit, start, step):\n",
        "    coherence_values = []\n",
        "    model_list = []\n",
        "    for num_topics in range(start, limit, step):\n",
        "        model = LdaModel(corpus=corpus, id2word=dictionary, num_topics=num_topics, iterations=100, random_state=1)\n",
        "        model_list.append(model)\n",
        "        coherencemodel = CoherenceModel(model=model, texts=texts, dictionary=dictionary, coherence='c_v')\n",
        "        coherence_values.append(coherencemodel.get_coherence())\n",
        "        \n",
        "    return model_list, coherence_values"
      ]
    },
    {
      "cell_type": "code",
      "execution_count": 37,
      "metadata": {
        "colab": {
          "base_uri": "https://localhost:8080/",
          "height": 279
        },
        "id": "IBkB1bzOf3AP",
        "outputId": "73fe3950-434a-4fa4-8f87-77a708f4fe7c"
      },
      "outputs": [
        {
          "data": {
            "image/png": "[encoded data removed]",
            "text/plain": [
              "<Figure size 432x288 with 1 Axes>"
            ]
          },
          "metadata": {
            "needs_background": "light"
          },
          "output_type": "display_data"
        }
      ],
      "source": [
        "start=1\n",
        "limit=21\n",
        "step=1\n",
        "model_list, coherence_values = compute_coherence_values(dictionary, corpus=corpus_tfidf, \n",
        "                                                        texts=text_list, start=start, limit=limit, step=step)\n",
        "#show graphs\n",
        "import matplotlib.pyplot as plt\n",
        "x = range(start, limit, step)\n",
        "plt.plot(x, coherence_values)\n",
        "plt.xlabel(\"Num Topics\")\n",
        "plt.ylabel(\"Coherence score\")\n",
        "plt.legend((\"coherence_values\"), loc='best')\n",
        "plt.show()"
      ]
    },
    {
      "cell_type": "code",
      "execution_count": 40,
      "metadata": {
        "colab": {
          "base_uri": "https://localhost:8080/"
        },
        "id": "qaNFv0PIgDYh",
        "outputId": "af7077fa-f1e8-4fb7-e0d6-d84eb319f207"
      },
      "outputs": [
        {
          "name": "stdout",
          "output_type": "stream",
          "text": [
            "Num Topics = 1  has Coherence Value of 0.517\n",
            "Num Topics = 2  has Coherence Value of 0.539\n",
            "Num Topics = 3  has Coherence Value of 0.436\n",
            "Num Topics = 4  has Coherence Value of 0.435\n",
            "Num Topics = 5  has Coherence Value of 0.423\n",
            "Num Topics = 6  has Coherence Value of 0.402\n",
            "Num Topics = 7  has Coherence Value of 0.424\n",
            "Num Topics = 8  has Coherence Value of 0.386\n",
            "Num Topics = 9  has Coherence Value of 0.41\n",
            "Num Topics = 10  has Coherence Value of 0.369\n",
            "Num Topics = 11  has Coherence Value of 0.332\n",
            "Num Topics = 12  has Coherence Value of 0.363\n",
            "Num Topics = 13  has Coherence Value of 0.346\n",
            "Num Topics = 14  has Coherence Value of 0.352\n",
            "Num Topics = 15  has Coherence Value of 0.321\n",
            "Num Topics = 16  has Coherence Value of 0.322\n",
            "Num Topics = 17  has Coherence Value of 0.321\n",
            "Num Topics = 18  has Coherence Value of 0.327\n",
            "Num Topics = 19  has Coherence Value of 0.328\n",
            "Num Topics = 20  has Coherence Value of 0.313\n"
          ]
        }
      ],
      "source": [
        "# Print the coherence scores\n",
        "for m, cv in zip(x, coherence_values):\n",
        "    print(\"Num Topics =\", m, \" has Coherence Value of\", round(cv, 3))"
      ]
    },
    {
      "cell_type": "code",
      "execution_count": 41,
      "metadata": {
        "colab": {
          "base_uri": "https://localhost:8080/"
        },
        "id": "SWVlH8xAgPCu",
        "outputId": "7cc1b7d8-54f0-441e-cb60-e3aa1e8684fa"
      },
      "outputs": [
        {
          "name": "stdout",
          "output_type": "stream",
          "text": [
            "Topic: 0 Word: 0.032*\"panas_bumi\" + 0.012*\"bumi\" + 0.011*\"indonesia\" + 0.011*\"panas\" + 0.010*\"atur\" + 0.010*\"laku\" + 0.010*\"milik_potensi\" + 0.009*\"potensi\" + 0.009*\"kembang\" + 0.009*\"mobil_listrik\"\n",
            "Topic: 1 Word: 0.145*\"pln_id\" + 0.062*\"id\" + 0.041*\"pln\" + 0.023*\"kapasitas\" + 0.020*\"cepat\" + 0.019*\"moga\" + 0.012*\"siap\" + 0.011*\"wilayah\" + 0.011*\"sepakat\" + 0.008*\"solar_panel\"\n",
            "Topic: 2 Word: 0.022*\"baur\" + 0.021*\"target_baur\" + 0.019*\"wujud\" + 0.014*\"tambah\" + 0.013*\"renewable_energy\" + 0.013*\"capai_persen\" + 0.012*\"tambah_kapasitas\" + 0.011*\"mahal\" + 0.010*\"realisasi\" + 0.010*\"micho\"\n",
            "Topic: 3 Word: 0.037*\"capai_target\" + 0.025*\"target\" + 0.022*\"kejar_target\" + 0.020*\"bumn\" + 0.020*\"erick_thohir\" + 0.018*\"capai\" + 0.018*\"plta\" + 0.017*\"sobat\" + 0.017*\"pln\" + 0.016*\"net_zero\"\n",
            "Topic: 4 Word: 0.035*\"bangkit_listrik\" + 0.024*\"bangkit\" + 0.018*\"transisi\" + 0.017*\"listrik\" + 0.013*\"plta_poso\" + 0.011*\"pln\" + 0.009*\"bangun\" + 0.008*\"kembang\" + 0.008*\"ekspor\" + 0.008*\"indonesia\"\n",
            "Topic: 5 Word: 0.072*\"tenaga_surya\" + 0.044*\"bangun_infrastruktur\" + 0.035*\"andal\" + 0.034*\"dana\" + 0.026*\"tenaga\" + 0.026*\"daerah_pencil\" + 0.024*\"surya\" + 0.021*\"den\" + 0.019*\"pulau\" + 0.018*\"lirik_investasi\"\n",
            "Topic: 6 Word: 0.062*\"menteri_esdm\" + 0.020*\"esdm\" + 0.019*\"menteri\" + 0.015*\"rencana\" + 0.014*\"transisi\" + 0.014*\"cepat_transisi\" + 0.014*\"beli_listrik\" + 0.012*\"jalan\" + 0.012*\"panel_surya\" + 0.011*\"baik\"\n",
            "Topic: 7 Word: 0.019*\"komitmen\" + 0.019*\"ruu\" + 0.016*\"plts_atap\" + 0.014*\"dukung\" + 0.012*\"plts\" + 0.012*\"kembang\" + 0.012*\"operasi\" + 0.012*\"pln\" + 0.010*\"manfaat\" + 0.010*\"dorong\"\n",
            "Topic: 8 Word: 0.032*\"ramah_lingkung\" + 0.012*\"pltu\" + 0.012*\"ramah\" + 0.012*\"lingkung\" + 0.011*\"tinggi_indonesia\" + 0.011*\"pasok_listrik\" + 0.010*\"kendara_listrik\" + 0.009*\"sumber_daya\" + 0.009*\"biaya\" + 0.009*\"gas_bumi\"\n"
          ]
        }
      ],
      "source": [
        "model = LdaModel(corpus=corpus_tfidf, id2word=dictionary, num_topics=9) #num topic menyesuaikan hasil dari coherence value paling tinggi\n",
        "for idx, topic in model.print_topics(-1):\n",
        "    print('Topic: {} Word: {}'.format(idx, topic))\n",
        "    # yg belum remove Yang, yg,trus lower text"
      ]
    },
    {
      "cell_type": "code",
      "execution_count": 42,
      "metadata": {
        "colab": {
          "base_uri": "https://localhost:8080/"
        },
        "id": "t5CsIHbigduf",
        "outputId": "ad397ac7-6944-411e-f515-2a9344191f97"
      },
      "outputs": [
        {
          "name": "stdout",
          "output_type": "stream",
          "text": [
            "None\n"
          ]
        }
      ],
      "source": [
        "import pandas as pd\n",
        "top_words_per_topic = []\n",
        "for t in range(model.num_topics):\n",
        "    top_words_per_topic.extend([(t, ) + x for x in model.show_topic(t, topn = 5)]) #ubah2 yg ini\n",
        "# df=pd.DataFrame(top_words_per_topic, columns=['Topic', 'Word', 'P']).to_csv(\"top_words_topic_20.csv\")\n",
        "df = pd.DataFrame(top_words_per_topic, columns=['Topic', 'Word','P']).to_excel(\"data/lda_model.xlsx\")\n",
        "print(df)\n"
      ]
    },
    {
      "cell_type": "code",
      "execution_count": 43,
      "metadata": {
        "colab": {
          "base_uri": "https://localhost:8080/"
        },
        "id": "QSxbGusaEOl8",
        "outputId": "8776726e-83fd-480b-c4cb-9b3cdd8883a3"
      },
      "outputs": [
        {
          "name": "stdout",
          "output_type": "stream",
          "text": [
            "Requirement already satisfied: pyLDAvis in /Users/indralionardy/Personal/twitter/venv/lib/python3.9/site-packages (3.3.1)\n",
            "Requirement already satisfied: scipy in /Users/indralionardy/Personal/twitter/venv/lib/python3.9/site-packages (from pyLDAvis) (1.8.1)\n",
            "Requirement already satisfied: setuptools in /Users/indralionardy/Personal/twitter/venv/lib/python3.9/site-packages (from pyLDAvis) (57.4.0)\n",
            "Requirement already satisfied: funcy in /Users/indralionardy/Personal/twitter/venv/lib/python3.9/site-packages (from pyLDAvis) (1.17)\n",
            "Requirement already satisfied: numexpr in /Users/indralionardy/Personal/twitter/venv/lib/python3.9/site-packages (from pyLDAvis) (2.8.3)\n",
            "Requirement already satisfied: sklearn in /Users/indralionardy/Personal/twitter/venv/lib/python3.9/site-packages (from pyLDAvis) (0.0)\n",
            "Requirement already satisfied: gensim in /Users/indralionardy/Personal/twitter/venv/lib/python3.9/site-packages (from pyLDAvis) (4.2.0)\n",
            "Requirement already satisfied: future in /Users/indralionardy/Personal/twitter/venv/lib/python3.9/site-packages (from pyLDAvis) (0.18.2)\n",
            "Requirement already satisfied: numpy>=1.20.0 in /Users/indralionardy/Personal/twitter/venv/lib/python3.9/site-packages (from pyLDAvis) (1.22.4)\n",
            "Requirement already satisfied: scikit-learn in /Users/indralionardy/Personal/twitter/venv/lib/python3.9/site-packages (from pyLDAvis) (1.1.1)\n",
            "Requirement already satisfied: jinja2 in /Users/indralionardy/Personal/twitter/venv/lib/python3.9/site-packages (from pyLDAvis) (3.1.2)\n",
            "Requirement already satisfied: joblib in /Users/indralionardy/Personal/twitter/venv/lib/python3.9/site-packages (from pyLDAvis) (1.1.0)\n",
            "Requirement already satisfied: pandas>=1.2.0 in /Users/indralionardy/Personal/twitter/venv/lib/python3.9/site-packages (from pyLDAvis) (1.4.2)\n",
            "Requirement already satisfied: python-dateutil>=2.8.1 in /Users/indralionardy/Personal/twitter/venv/lib/python3.9/site-packages (from pandas>=1.2.0->pyLDAvis) (2.8.2)\n",
            "Requirement already satisfied: pytz>=2020.1 in /Users/indralionardy/Personal/twitter/venv/lib/python3.9/site-packages (from pandas>=1.2.0->pyLDAvis) (2022.1)\n",
            "Requirement already satisfied: smart-open>=1.8.1 in /Users/indralionardy/Personal/twitter/venv/lib/python3.9/site-packages (from gensim->pyLDAvis) (5.2.1)\n",
            "Requirement already satisfied: MarkupSafe>=2.0 in /Users/indralionardy/Personal/twitter/venv/lib/python3.9/site-packages (from jinja2->pyLDAvis) (2.1.1)\n",
            "Requirement already satisfied: packaging in /Users/indralionardy/Personal/twitter/venv/lib/python3.9/site-packages (from numexpr->pyLDAvis) (21.3)\n",
            "Requirement already satisfied: threadpoolctl>=2.0.0 in /Users/indralionardy/Personal/twitter/venv/lib/python3.9/site-packages (from scikit-learn->pyLDAvis) (3.1.0)\n",
            "Requirement already satisfied: six>=1.5 in /Users/indralionardy/Personal/twitter/venv/lib/python3.9/site-packages (from python-dateutil>=2.8.1->pandas>=1.2.0->pyLDAvis) (1.16.0)\n",
            "Requirement already satisfied: pyparsing!=3.0.5,>=2.0.2 in /Users/indralionardy/Personal/twitter/venv/lib/python3.9/site-packages (from packaging->numexpr->pyLDAvis) (3.0.9)\n"
          ]
        }
      ],
      "source": [
        "#ini dilakukan jika module belum tersedia\n",
        "!pip install pyLDAvis\n",
        "#!apt-get -qq install -y pyLDAvis"
      ]
    },
    {
      "cell_type": "code",
      "execution_count": 44,
      "metadata": {
        "colab": {
          "base_uri": "https://localhost:8080/"
        },
        "id": "5BGTseD4gFRQ",
        "outputId": "39e9537e-6629-43ea-bfa0-e077c4ac7f89"
      },
      "outputs": [
        {
          "name": "stderr",
          "output_type": "stream",
          "text": [
            "/Users/indralionardy/Personal/sara/tugas-akhir/venv/lib/python3.9/site-packages/past/builtins/misc.py:45: DeprecationWarning: the imp module is deprecated in favour of importlib; see the module's documentation for alternative uses\n",
            "  from imp import reload\n",
            "/Users/indralionardy/Personal/sara/tugas-akhir/venv/lib/python3.9/site-packages/past/builtins/misc.py:45: DeprecationWarning: the imp module is deprecated in favour of importlib; see the module's documentation for alternative uses\n",
            "  from imp import reload\n",
            "/Users/indralionardy/Personal/sara/tugas-akhir/venv/lib/python3.9/site-packages/past/builtins/misc.py:45: DeprecationWarning: the imp module is deprecated in favour of importlib; see the module's documentation for alternative uses\n",
            "  from imp import reload\n",
            "/Users/indralionardy/Personal/sara/tugas-akhir/venv/lib/python3.9/site-packages/past/builtins/misc.py:45: DeprecationWarning: the imp module is deprecated in favour of importlib; see the module's documentation for alternative uses\n",
            "  from imp import reload\n",
            "/Users/indralionardy/Personal/sara/tugas-akhir/venv/lib/python3.9/site-packages/past/builtins/misc.py:45: DeprecationWarning: the imp module is deprecated in favour of importlib; see the module's documentation for alternative uses\n",
            "  from imp import reload\n",
            "/Users/indralionardy/Personal/sara/tugas-akhir/venv/lib/python3.9/site-packages/past/builtins/misc.py:45: DeprecationWarning: the imp module is deprecated in favour of importlib; see the module's documentation for alternative uses\n",
            "  from imp import reload\n",
            "/Users/indralionardy/Personal/sara/tugas-akhir/venv/lib/python3.9/site-packages/past/builtins/misc.py:45: DeprecationWarning: the imp module is deprecated in favour of importlib; see the module's documentation for alternative uses\n",
            "  from imp import reload\n",
            "/Users/indralionardy/Personal/sara/tugas-akhir/venv/lib/python3.9/site-packages/past/builtins/misc.py:45: DeprecationWarning: the imp module is deprecated in favour of importlib; see the module's documentation for alternative uses\n",
            "  from imp import reload\n",
            "/Users/indralionardy/Personal/sara/tugas-akhir/venv/lib/python3.9/site-packages/past/builtins/misc.py:45: DeprecationWarning: the imp module is deprecated in favour of importlib; see the module's documentation for alternative uses\n",
            "  from imp import reload\n"
          ]
        },
        {
          "name": "stdout",
          "output_type": "stream",
          "text": [
            "PreparedData(topic_coordinates=              x         y  topics  cluster       Freq\n",
            "topic                                                \n",
            "4      0.167327 -0.013103       1        1  15.838452\n",
            "2     -0.173564 -0.174670       2        1  14.442845\n",
            "8      0.106711 -0.177485       3        1  11.800373\n",
            "7      0.113467 -0.056304       4        1  11.564917\n",
            "0      0.086653  0.005196       5        1  11.423722\n",
            "3      0.106898  0.161400       6        1   9.461336\n",
            "6      0.036269  0.094960       7        1   9.212051\n",
            "1     -0.187594  0.248562       8        1   8.446417\n",
            "5     -0.256168 -0.088557       9        1   7.809887, topic_info=                 Term         Freq        Total Category  logprob  loglift\n",
            "7140           pln_id  3332.000000  3332.000000  Default  30.0000  30.0000\n",
            "828      tenaga_surya  1523.000000  1523.000000  Default  29.0000  29.0000\n",
            "357      menteri_esdm  1559.000000  1559.000000  Default  28.0000  28.0000\n",
            "443                id  1476.000000  1476.000000  Default  27.0000  27.0000\n",
            "783   bangkit_listrik  1519.000000  1519.000000  Default  26.0000  26.0000\n",
            "...               ...          ...          ...      ...      ...      ...\n",
            "764           sumbang   186.294554   195.701249   Topic9  -4.7354   2.5005\n",
            "1997              sdm   217.952878   248.728182   Topic9  -4.5784   2.4177\n",
            "96             tenaga   559.581404   815.799726   Topic9  -3.6355   2.1728\n",
            "485             surya   519.818457   782.512368   Topic9  -3.7092   2.1407\n",
            "105              laut   182.444760   216.844435   Topic9  -4.7563   2.3770\n",
            "\n",
            "[428 rows x 6 columns], token_table=       Topic      Freq            Term\n",
            "term                                  \n",
            "89         9  0.996952            ahli\n",
            "99         1  0.736647             air\n",
            "99         5  0.200176             air\n",
            "99         7  0.056049             air\n",
            "1323       6  0.993636       airlangga\n",
            "...      ...       ...             ...\n",
            "6645       4  0.989361  wujud_komitmen\n",
            "10521      6  0.994151      yantie_pln\n",
            "2571       3  0.010521            zero\n",
            "2571       4  0.010521            zero\n",
            "2571       6  0.973211            zero\n",
            "\n",
            "[661 rows x 3 columns], R=30, lambda_step=0.01, plot_opts={'xlab': 'PC1', 'ylab': 'PC2'}, topic_order=[5, 3, 9, 8, 1, 4, 7, 2, 6])\n"
          ]
        },
        {
          "ename": "FileNotFoundError",
          "evalue": "[Errno 2] No such file or directory: '/content/drive/MyDrive/Colab Notebooks/lda-gensim_clean_kualitatif1.html'",
          "output_type": "error",
          "traceback": [
            "\u001b[0;31m---------------------------------------------------------------------------\u001b[0m",
            "\u001b[0;31mNameError\u001b[0m                                 Traceback (most recent call last)",
            "File \u001b[0;32m~/Personal/sara/tugas-akhir/venv/lib/python3.9/site-packages/pyLDAvis/_display.py:350\u001b[0m, in \u001b[0;36msave_html\u001b[0;34m(data, fileobj, **kwargs)\u001b[0m\n\u001b[1;32m    349\u001b[0m \u001b[39mtry\u001b[39;00m:\n\u001b[0;32m--> 350\u001b[0m     \u001b[39mif\u001b[39;00m \u001b[39misinstance\u001b[39m(fileobj, basestring):\n\u001b[1;32m    351\u001b[0m         fileobj \u001b[39m=\u001b[39m \u001b[39mopen\u001b[39m(fileobj, \u001b[39m'\u001b[39m\u001b[39mw\u001b[39m\u001b[39m'\u001b[39m)\n",
            "\u001b[0;31mNameError\u001b[0m: name 'basestring' is not defined",
            "\nDuring handling of the above exception, another exception occurred:\n",
            "\u001b[0;31mFileNotFoundError\u001b[0m                         Traceback (most recent call last)",
            "\u001b[1;32m/Users/indralionardy/Personal/sara/tugas-akhir/Data_Kualitatif_LDA (1).ipynb Cell 26\u001b[0m in \u001b[0;36m<cell line: 6>\u001b[0;34m()\u001b[0m\n\u001b[1;32m      <a href='vscode-notebook-cell:/Users/indralionardy/Personal/sara/tugas-akhir/Data_Kualitatif_LDA%20%281%29.ipynb#X46sZmlsZQ%3D%3D?line=3'>4</a>\u001b[0m data \u001b[39m=\u001b[39m pyLDAvis\u001b[39m.\u001b[39mgensim_models\u001b[39m.\u001b[39mprepare(model, corpus_tfidf, dictionary)\n\u001b[1;32m      <a href='vscode-notebook-cell:/Users/indralionardy/Personal/sara/tugas-akhir/Data_Kualitatif_LDA%20%281%29.ipynb#X46sZmlsZQ%3D%3D?line=4'>5</a>\u001b[0m \u001b[39mprint\u001b[39m(data)\n\u001b[0;32m----> <a href='vscode-notebook-cell:/Users/indralionardy/Personal/sara/tugas-akhir/Data_Kualitatif_LDA%20%281%29.ipynb#X46sZmlsZQ%3D%3D?line=5'>6</a>\u001b[0m pyLDAvis\u001b[39m.\u001b[39;49msave_html(data, \u001b[39m'\u001b[39;49m\u001b[39m/content/drive/MyDrive/Colab Notebooks/lda-gensim_clean_kualitatif1.html\u001b[39;49m\u001b[39m'\u001b[39;49m)\n",
            "File \u001b[0;32m~/Personal/sara/tugas-akhir/venv/lib/python3.9/site-packages/pyLDAvis/_display.py:354\u001b[0m, in \u001b[0;36msave_html\u001b[0;34m(data, fileobj, **kwargs)\u001b[0m\n\u001b[1;32m    352\u001b[0m \u001b[39mexcept\u001b[39;00m \u001b[39mNameError\u001b[39;00m:\n\u001b[1;32m    353\u001b[0m     \u001b[39mif\u001b[39;00m \u001b[39misinstance\u001b[39m(fileobj, \u001b[39mstr\u001b[39m):\n\u001b[0;32m--> 354\u001b[0m         fileobj \u001b[39m=\u001b[39m \u001b[39mopen\u001b[39;49m(fileobj, \u001b[39m'\u001b[39;49m\u001b[39mw\u001b[39;49m\u001b[39m'\u001b[39;49m)\n\u001b[1;32m    355\u001b[0m \u001b[39mif\u001b[39;00m \u001b[39mnot\u001b[39;00m \u001b[39mhasattr\u001b[39m(fileobj, \u001b[39m'\u001b[39m\u001b[39mwrite\u001b[39m\u001b[39m'\u001b[39m):\n\u001b[1;32m    356\u001b[0m     \u001b[39mraise\u001b[39;00m \u001b[39mValueError\u001b[39;00m(\u001b[39m\"\u001b[39m\u001b[39mfileobj should be a filename or a writable file\u001b[39m\u001b[39m\"\u001b[39m)\n",
            "\u001b[0;31mFileNotFoundError\u001b[0m: [Errno 2] No such file or directory: '/content/drive/MyDrive/Colab Notebooks/lda-gensim_clean_kualitatif1.html'"
          ]
        }
      ],
      "source": [
        "#import gensim\n",
        "import pyLDAvis\n",
        "import pyLDAvis.gensim_models;pyLDAvis.enable_notebook()\n",
        "data = pyLDAvis.gensim_models.prepare(model, corpus_tfidf, dictionary)\n",
        "print(data)\n",
        "pyLDAvis.save_html(data, 'data/lda-gensim_clean_kualitatif.html')"
      ]
    }
  ],
  "metadata": {
    "accelerator": "TPU",
    "colab": {
      "collapsed_sections": [],
      "name": "Data Kualitatif- LDA.ipynb",
      "provenance": []
    },
    "kernelspec": {
      "display_name": "Python 3.9.7 ('venv': venv)",
      "language": "python",
      "name": "python3"
    },
    "language_info": {
      "codemirror_mode": {
        "name": "ipython",
        "version": 3
      },
      "file_extension": ".py",
      "mimetype": "text/x-python",
      "name": "python",
      "nbconvert_exporter": "python",
      "pygments_lexer": "ipython3",
      "version": "3.9.7"
    },
    "vscode": {
      "interpreter": {
        "hash": "00a08332a9656d07fb15950983716ae1dc3baeb86e6935d123f31572ce96d1e2"
      }
    }
  },
  "nbformat": 4,
  "nbformat_minor": 0
}
