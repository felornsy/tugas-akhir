{
  "cells": [
    {
      "cell_type": "code",
      "execution_count": 191,
      "metadata": {
        "id": "xLTR8avada_P"
      },
      "outputs": [],
      "source": [
        "import pandas as pd\n",
        "import warnings\n",
        "warnings.filterwarnings('ignore')\n",
        "import pyLDAvis\n",
        "import pyLDAvis.gensim_models;"
      ]
    },
    {
      "cell_type": "code",
      "execution_count": 176,
      "metadata": {
        "colab": {
          "base_uri": "https://localhost:8080/",
          "height": 372
        },
        "id": "SqJ6bJwOdmxH",
        "outputId": "4c42ea1b-af2c-4219-d627-0e55f2195cc1"
      },
      "outputs": [
        {
          "data": {
            "text/html": [
              "<div>\n",
              "<style scoped>\n",
              "    .dataframe tbody tr th:only-of-type {\n",
              "        vertical-align: middle;\n",
              "    }\n",
              "\n",
              "    .dataframe tbody tr th {\n",
              "        vertical-align: top;\n",
              "    }\n",
              "\n",
              "    .dataframe thead th {\n",
              "        text-align: right;\n",
              "    }\n",
              "</style>\n",
              "<table border=\"1\" class=\"dataframe\">\n",
              "  <thead>\n",
              "    <tr style=\"text-align: right;\">\n",
              "      <th></th>\n",
              "      <th>tweet_id</th>\n",
              "      <th>author_name</th>\n",
              "      <th>author_username</th>\n",
              "      <th>author_location</th>\n",
              "      <th>content</th>\n",
              "      <th>content_clean</th>\n",
              "      <th>like_count</th>\n",
              "      <th>retweet_count</th>\n",
              "      <th>reply_count</th>\n",
              "      <th>source</th>\n",
              "      <th>...</th>\n",
              "      <th>latitude</th>\n",
              "      <th>province</th>\n",
              "      <th>city</th>\n",
              "      <th>country</th>\n",
              "      <th>created_at</th>\n",
              "      <th>content_token</th>\n",
              "      <th>tweet_tokens_fdist</th>\n",
              "      <th>tweet_tokens_WSW</th>\n",
              "      <th>tweet_tokens_stemmed</th>\n",
              "      <th>tweet_tokens_stemmed_string</th>\n",
              "    </tr>\n",
              "  </thead>\n",
              "  <tbody>\n",
              "    <tr>\n",
              "      <th>0</th>\n",
              "      <td>153619597713608704</td>\n",
              "      <td>MariBerlomba</td>\n",
              "      <td>MariBerlomba</td>\n",
              "      <td>di dalam asa pemuda</td>\n",
              "      <td>1. lomba poster ilmiah \"energi baru/terbarukan...</td>\n",
              "      <td>lomba poster ilmiah energi baru terbarukan dea...</td>\n",
              "      <td>0.0</td>\n",
              "      <td>1.0</td>\n",
              "      <td>NaN</td>\n",
              "      <td>Twitter for BlackBerry®</td>\n",
              "      <td>...</td>\n",
              "      <td>NaN</td>\n",
              "      <td>NaN</td>\n",
              "      <td>NaN</td>\n",
              "      <td>NaN</td>\n",
              "      <td>2012-01-01 23:32:20</td>\n",
              "      <td>['lomba', 'poster', 'ilmiah', 'energi', 'baru'...</td>\n",
              "      <td>&lt;FreqDist with 13 samples and 13 outcomes&gt;</td>\n",
              "      <td>['lomba', 'poster', 'ilmiah', 'energi', 'terba...</td>\n",
              "      <td>['lomba', 'poster', 'ilmiah', 'energi', 'baru'...</td>\n",
              "      <td>lomba poster ilmiah energi baru deadline janua...</td>\n",
              "    </tr>\n",
              "    <tr>\n",
              "      <th>1</th>\n",
              "      <td>153857491925610496</td>\n",
              "      <td>vegaaulia</td>\n",
              "      <td>vegaaulia</td>\n",
              "      <td>Bogor, Indonesia</td>\n",
              "      <td>elaahhh ini si bapak tiba2 ngomong soal energi...</td>\n",
              "      <td>elaahhh ini si bapak tiba ngomong soal energi ...</td>\n",
              "      <td>0.0</td>\n",
              "      <td>NaN</td>\n",
              "      <td>1.0</td>\n",
              "      <td>Mobile Web</td>\n",
              "      <td>...</td>\n",
              "      <td>-6.596299</td>\n",
              "      <td>Jawa Barat</td>\n",
              "      <td>Kelurahan Pabaton</td>\n",
              "      <td>Indonesia</td>\n",
              "      <td>2012-01-02 15:17:39</td>\n",
              "      <td>['elaahhh', 'ini', 'si', 'bapak', 'tiba', 'ngo...</td>\n",
              "      <td>&lt;FreqDist with 13 samples and 13 outcomes&gt;</td>\n",
              "      <td>['elaahhh', 'ngomong', 'energi', 'terbarukan',...</td>\n",
              "      <td>['elaahhh', 'ngomong', 'energi', 'baru', 'tv',...</td>\n",
              "      <td>elaahhh ngomong energi baru tv biruu</td>\n",
              "    </tr>\n",
              "    <tr>\n",
              "      <th>2</th>\n",
              "      <td>154361424154603520</td>\n",
              "      <td>enbater</td>\n",
              "      <td>enbater</td>\n",
              "      <td>Indonesia</td>\n",
              "      <td>masih banyak daerah terpencil membutuhkam list...</td>\n",
              "      <td>masih banyak daerah terpencil membutuhkam list...</td>\n",
              "      <td>0.0</td>\n",
              "      <td>NaN</td>\n",
              "      <td>NaN</td>\n",
              "      <td>MOTOBLUR</td>\n",
              "      <td>...</td>\n",
              "      <td>-2.483383</td>\n",
              "      <td>Kalimantan Timur</td>\n",
              "      <td>NaN</td>\n",
              "      <td>Indonesia</td>\n",
              "      <td>2012-01-04 00:40:06</td>\n",
              "      <td>['masih', 'banyak', 'daerah', 'terpencil', 'me...</td>\n",
              "      <td>&lt;FreqDist with 13 samples and 13 outcomes&gt;</td>\n",
              "      <td>['daerah', 'terpencil', 'membutuhkam', 'listri...</td>\n",
              "      <td>['daerah', 'pencil', 'membutuhkam', 'listrik',...</td>\n",
              "      <td>daerah pencil membutuhkam listrik manfaat ener...</td>\n",
              "    </tr>\n",
              "    <tr>\n",
              "      <th>3</th>\n",
              "      <td>156397219346518017</td>\n",
              "      <td>imronrosidin</td>\n",
              "      <td>imronrosidin</td>\n",
              "      <td>ÜT: -6.895087,107.627799</td>\n",
              "      <td>gw kira kalo @provocactive gak tertarik dgn ma...</td>\n",
              "      <td>gw kira kalo gak tertarik dgn materi energi ba...</td>\n",
              "      <td>0.0</td>\n",
              "      <td>NaN</td>\n",
              "      <td>1.0</td>\n",
              "      <td>UberSocial for BlackBerry</td>\n",
              "      <td>...</td>\n",
              "      <td>NaN</td>\n",
              "      <td>NaN</td>\n",
              "      <td>NaN</td>\n",
              "      <td>NaN</td>\n",
              "      <td>2012-01-09 15:29:37</td>\n",
              "      <td>['gw', 'kira', 'kalo', 'gak', 'tertarik', 'dgn...</td>\n",
              "      <td>&lt;FreqDist with 18 samples and 18 outcomes&gt;</td>\n",
              "      <td>['tertarik', 'materi', 'energi', 'terbarukan',...</td>\n",
              "      <td>['tarik', 'materi', 'energi', 'baru', 'baek', ...</td>\n",
              "      <td>tarik materi energi baru baek ganti nama propa...</td>\n",
              "    </tr>\n",
              "    <tr>\n",
              "      <th>4</th>\n",
              "      <td>156936339718279168</td>\n",
              "      <td>revozone</td>\n",
              "      <td>revozone</td>\n",
              "      <td>Indonesia</td>\n",
              "      <td>satu lagi yang aneh. inget jatropa? alias miny...</td>\n",
              "      <td>satu lagi yang aneh inget jatropa alias minyak...</td>\n",
              "      <td>0.0</td>\n",
              "      <td>NaN</td>\n",
              "      <td>NaN</td>\n",
              "      <td>UberSocial for BlackBerry</td>\n",
              "      <td>...</td>\n",
              "      <td>-2.483383</td>\n",
              "      <td>Kalimantan Timur</td>\n",
              "      <td>NaN</td>\n",
              "      <td>Indonesia</td>\n",
              "      <td>2012-01-11 03:11:53</td>\n",
              "      <td>['satu', 'lagi', 'yang', 'aneh', 'inget', 'jat...</td>\n",
              "      <td>&lt;FreqDist with 20 samples and 21 outcomes&gt;</td>\n",
              "      <td>['aneh', 'inget', 'jatropa', 'alias', 'minyak'...</td>\n",
              "      <td>['aneh', 'inget', 'jatropa', 'alias', 'minyak'...</td>\n",
              "      <td>aneh inget jatropa alias minyak jarak bbrp jat...</td>\n",
              "    </tr>\n",
              "  </tbody>\n",
              "</table>\n",
              "<p>5 rows × 23 columns</p>\n",
              "</div>"
            ],
            "text/plain": [
              "             tweet_id   author_name author_username           author_location  \\\n",
              "0  153619597713608704  MariBerlomba    MariBerlomba       di dalam asa pemuda   \n",
              "1  153857491925610496     vegaaulia       vegaaulia          Bogor, Indonesia   \n",
              "2  154361424154603520       enbater         enbater                 Indonesia   \n",
              "3  156397219346518017  imronrosidin    imronrosidin  ÜT: -6.895087,107.627799   \n",
              "4  156936339718279168      revozone        revozone                 Indonesia   \n",
              "\n",
              "                                             content  \\\n",
              "0  1. lomba poster ilmiah \"energi baru/terbarukan...   \n",
              "1  elaahhh ini si bapak tiba2 ngomong soal energi...   \n",
              "2  masih banyak daerah terpencil membutuhkam list...   \n",
              "3  gw kira kalo @provocactive gak tertarik dgn ma...   \n",
              "4  satu lagi yang aneh. inget jatropa? alias miny...   \n",
              "\n",
              "                                       content_clean  like_count  \\\n",
              "0  lomba poster ilmiah energi baru terbarukan dea...         0.0   \n",
              "1  elaahhh ini si bapak tiba ngomong soal energi ...         0.0   \n",
              "2  masih banyak daerah terpencil membutuhkam list...         0.0   \n",
              "3  gw kira kalo gak tertarik dgn materi energi ba...         0.0   \n",
              "4  satu lagi yang aneh inget jatropa alias minyak...         0.0   \n",
              "\n",
              "   retweet_count  reply_count                     source  ...  latitude  \\\n",
              "0            1.0          NaN    Twitter for BlackBerry®  ...       NaN   \n",
              "1            NaN          1.0                 Mobile Web  ... -6.596299   \n",
              "2            NaN          NaN                   MOTOBLUR  ... -2.483383   \n",
              "3            NaN          1.0  UberSocial for BlackBerry  ...       NaN   \n",
              "4            NaN          NaN  UberSocial for BlackBerry  ... -2.483383   \n",
              "\n",
              "           province               city    country           created_at  \\\n",
              "0               NaN                NaN        NaN  2012-01-01 23:32:20   \n",
              "1        Jawa Barat  Kelurahan Pabaton  Indonesia  2012-01-02 15:17:39   \n",
              "2  Kalimantan Timur                NaN  Indonesia  2012-01-04 00:40:06   \n",
              "3               NaN                NaN        NaN  2012-01-09 15:29:37   \n",
              "4  Kalimantan Timur                NaN  Indonesia  2012-01-11 03:11:53   \n",
              "\n",
              "                                       content_token  \\\n",
              "0  ['lomba', 'poster', 'ilmiah', 'energi', 'baru'...   \n",
              "1  ['elaahhh', 'ini', 'si', 'bapak', 'tiba', 'ngo...   \n",
              "2  ['masih', 'banyak', 'daerah', 'terpencil', 'me...   \n",
              "3  ['gw', 'kira', 'kalo', 'gak', 'tertarik', 'dgn...   \n",
              "4  ['satu', 'lagi', 'yang', 'aneh', 'inget', 'jat...   \n",
              "\n",
              "                           tweet_tokens_fdist  \\\n",
              "0  <FreqDist with 13 samples and 13 outcomes>   \n",
              "1  <FreqDist with 13 samples and 13 outcomes>   \n",
              "2  <FreqDist with 13 samples and 13 outcomes>   \n",
              "3  <FreqDist with 18 samples and 18 outcomes>   \n",
              "4  <FreqDist with 20 samples and 21 outcomes>   \n",
              "\n",
              "                                    tweet_tokens_WSW  \\\n",
              "0  ['lomba', 'poster', 'ilmiah', 'energi', 'terba...   \n",
              "1  ['elaahhh', 'ngomong', 'energi', 'terbarukan',...   \n",
              "2  ['daerah', 'terpencil', 'membutuhkam', 'listri...   \n",
              "3  ['tertarik', 'materi', 'energi', 'terbarukan',...   \n",
              "4  ['aneh', 'inget', 'jatropa', 'alias', 'minyak'...   \n",
              "\n",
              "                                tweet_tokens_stemmed  \\\n",
              "0  ['lomba', 'poster', 'ilmiah', 'energi', 'baru'...   \n",
              "1  ['elaahhh', 'ngomong', 'energi', 'baru', 'tv',...   \n",
              "2  ['daerah', 'pencil', 'membutuhkam', 'listrik',...   \n",
              "3  ['tarik', 'materi', 'energi', 'baru', 'baek', ...   \n",
              "4  ['aneh', 'inget', 'jatropa', 'alias', 'minyak'...   \n",
              "\n",
              "                         tweet_tokens_stemmed_string  \n",
              "0  lomba poster ilmiah energi baru deadline janua...  \n",
              "1               elaahhh ngomong energi baru tv biruu  \n",
              "2  daerah pencil membutuhkam listrik manfaat ener...  \n",
              "3  tarik materi energi baru baek ganti nama propa...  \n",
              "4  aneh inget jatropa alias minyak jarak bbrp jat...  \n",
              "\n",
              "[5 rows x 23 columns]"
            ]
          },
          "execution_count": 176,
          "metadata": {},
          "output_type": "execute_result"
        }
      ],
      "source": [
        "#fo = pd.read_csv('clean_File.csv') #read the data\n",
        "df = pd.read_csv('data/text-preprocessing.csv') #create data frame\n",
        "df = df.drop(columns=['Unnamed: 0'])\n",
        "df.head()"
      ]
    },
    {
      "cell_type": "code",
      "execution_count": 177,
      "metadata": {
        "colab": {
          "base_uri": "https://localhost:8080/"
        },
        "id": "MxWR5yAqMP_S",
        "outputId": "d9a66715-3b7c-449c-9244-5372b4ced4b5"
      },
      "outputs": [
        {
          "data": {
            "text/plain": [
              "(109705, 23)"
            ]
          },
          "execution_count": 177,
          "metadata": {},
          "output_type": "execute_result"
        }
      ],
      "source": [
        "df.shape"
      ]
    },
    {
      "cell_type": "code",
      "execution_count": 178,
      "metadata": {
        "colab": {
          "base_uri": "https://localhost:8080/"
        },
        "id": "Oy0uwRRPcksH",
        "outputId": "ba7c1c66-ad10-4e2d-cc0c-781bcecd9334"
      },
      "outputs": [
        {
          "name": "stdout",
          "output_type": "stream",
          "text": [
            "<class 'pandas.core.frame.DataFrame'>\n",
            "RangeIndex: 109705 entries, 0 to 109704\n",
            "Data columns (total 23 columns):\n",
            " #   Column                       Non-Null Count   Dtype  \n",
            "---  ------                       --------------   -----  \n",
            " 0   tweet_id                     109705 non-null  int64  \n",
            " 1   author_name                  109705 non-null  object \n",
            " 2   author_username              109705 non-null  object \n",
            " 3   author_location              78272 non-null   object \n",
            " 4   content                      109705 non-null  object \n",
            " 5   content_clean                109437 non-null  object \n",
            " 6   like_count                   109604 non-null  float64\n",
            " 7   retweet_count                17012 non-null   float64\n",
            " 8   reply_count                  16620 non-null   float64\n",
            " 9   source                       109705 non-null  object \n",
            " 10  keyword                      109705 non-null  object \n",
            " 11  address                      64928 non-null   object \n",
            " 12  longitude                    66438 non-null   float64\n",
            " 13  latitude                     66438 non-null   float64\n",
            " 14  province                     64297 non-null   object \n",
            " 15  city                         41183 non-null   object \n",
            " 16  country                      66419 non-null   object \n",
            " 17  created_at                   109705 non-null  object \n",
            " 18  content_token                109705 non-null  object \n",
            " 19  tweet_tokens_fdist           109705 non-null  object \n",
            " 20  tweet_tokens_WSW             109705 non-null  object \n",
            " 21  tweet_tokens_stemmed         109705 non-null  object \n",
            " 22  tweet_tokens_stemmed_string  109404 non-null  object \n",
            "dtypes: float64(5), int64(1), object(17)\n",
            "memory usage: 19.3+ MB\n"
          ]
        }
      ],
      "source": [
        "df.info()"
      ]
    },
    {
      "cell_type": "code",
      "execution_count": 179,
      "metadata": {
        "id": "3PYA4slIdNBD"
      },
      "outputs": [],
      "source": [
        "df_new = df[df['content_clean'].notnull()]\n",
        "df_new['tweet_tokens_stemmed_string'] = df_new['tweet_tokens_stemmed_string'].astype(str)"
      ]
    },
    {
      "cell_type": "code",
      "execution_count": 180,
      "metadata": {},
      "outputs": [
        {
          "name": "stdout",
          "output_type": "stream",
          "text": [
            "109437\n"
          ]
        }
      ],
      "source": [
        "text = df_new['tweet_tokens_stemmed_string']\n",
        "text_list =  [i.split() for i in text]\n",
        "print(len(text_list))"
      ]
    },
    {
      "cell_type": "code",
      "execution_count": 181,
      "metadata": {
        "id": "qnLvYqUHc5Jj"
      },
      "outputs": [],
      "source": [
        "import gensim\n",
        "#Create Bigram & Trigram Models \n",
        "from gensim.models import Phrases\n",
        "# Add bigrams and trigrams to docs,minimum count 10 means only that appear 10 times or more.\n",
        "bigram = Phrases(text_list, min_count=10)\n",
        "trigram = Phrases(bigram[text_list])\n",
        "for idx in range(len(text_list)):\n",
        "    for token in bigram[text_list[idx]]:\n",
        "        if '_' in token:\n",
        "            # Token is a bigram, add to document.\n",
        "            text_list[idx].append(token)\n",
        "    for token in trigram[text_list[idx]]:\n",
        "        if '_' in token:\n",
        "            # Token is a bigram, add to document.\n",
        "            text_list[idx].append(token)"
      ]
    },
    {
      "cell_type": "code",
      "execution_count": 182,
      "metadata": {
        "colab": {
          "base_uri": "https://localhost:8080/"
        },
        "id": "EO5hqr3Ufk0S",
        "outputId": "0ff90687-35bf-4851-e1fd-5e3d61b8f9dd"
      },
      "outputs": [
        {
          "name": "stdout",
          "output_type": "stream",
          "text": [
            "Dictionary<16355 unique tokens: ['deadline', 'derajat', 'ilmiah', 'januari', 'lomba']...>\n"
          ]
        }
      ],
      "source": [
        "from gensim import corpora, models\n",
        "# Create a dictionary representation of the documents.\n",
        "dictionary = corpora.Dictionary(text_list)\n",
        "dictionary.filter_extremes(no_below=5, no_above=0.2) \n",
        "#no_below (int, optional) – Keep tokens which are contained in at least no_below documents.\n",
        "#no_above (float, optional) – Keep tokens which are contained in no more than no_above documents (fraction of total corpus size, not an absolute number).\n",
        "print(dictionary)"
      ]
    },
    {
      "cell_type": "code",
      "execution_count": 183,
      "metadata": {
        "colab": {
          "base_uri": "https://localhost:8080/"
        },
        "id": "oF92M3p_fqlQ",
        "outputId": "3b77b4e1-2901-4b52-9698-4ea50bb0fa14"
      },
      "outputs": [
        {
          "name": "stdout",
          "output_type": "stream",
          "text": [
            "109437\n",
            "[(35, 1), (188, 1)]\n"
          ]
        }
      ],
      "source": [
        "#https://radimrehurek.com/gensim/tut1.html \n",
        "#build corpus\n",
        "# Converting list of documents (corpus) into Document Term Matrix using dictionary prepared above.\n",
        "doc_term_matrix = [dictionary.doc2bow(doc) for doc in text_list]\n",
        "#The function doc2bow converts document (a list of words) into the bag-of-words format\n",
        "'''The function doc2bow() simply counts the number of occurrences of each distinct word, \n",
        "converts the word to its integer word id and returns the result as a sparse vector. \n",
        "The sparse vector [(0, 1), (1, 1)] therefore reads: in the document “Human computer interaction”, \n",
        "the words computer (id 0) and human (id 1) appear once; \n",
        "the other ten dictionary words appear (implicitly) zero times.'''\n",
        "print(len(doc_term_matrix))\n",
        "print(doc_term_matrix[100])\n",
        "tfidf = models.TfidfModel(doc_term_matrix) #build TF-IDF model\n",
        "corpus_tfidf = tfidf[doc_term_matrix]"
      ]
    },
    {
      "cell_type": "code",
      "execution_count": 184,
      "metadata": {
        "id": "m5ZUrlyFfx85"
      },
      "outputs": [],
      "source": [
        "from gensim.models.coherencemodel import CoherenceModel\n",
        "from gensim.models.ldamodel import LdaModel\n",
        "from gensim.corpora.dictionary import Dictionary\n",
        "from numpy import array\n",
        "#function to compute coherence values\n",
        "def compute_coherence_values(dictionary, corpus, texts, limit, start, step):\n",
        "    coherence_values = []\n",
        "    model_list = []\n",
        "    for num_topics in range(start, limit, step):\n",
        "        model = LdaModel(corpus=corpus, id2word=dictionary, num_topics=num_topics, iterations=100)\n",
        "        model_list.append(model)\n",
        "        coherencemodel = CoherenceModel(model=model, texts=texts, dictionary=dictionary, coherence='c_v')\n",
        "        coherence_values.append(coherencemodel.get_coherence())\n",
        "        \n",
        "    return model_list, coherence_values"
      ]
    },
    {
      "cell_type": "code",
      "execution_count": 185,
      "metadata": {
        "colab": {
          "base_uri": "https://localhost:8080/",
          "height": 279
        },
        "id": "IBkB1bzOf3AP",
        "outputId": "73fe3950-434a-4fa4-8f87-77a708f4fe7c"
      },
      "outputs": [
        {
          "data": {
            "image/png": "[encoded data removed]",
            "text/plain": [
              "<Figure size 432x288 with 1 Axes>"
            ]
          },
          "metadata": {
            "needs_background": "light"
          },
          "output_type": "display_data"
        }
      ],
      "source": [
        "start=1\n",
        "limit=21\n",
        "step=1\n",
        "model_list, coherence_values = compute_coherence_values(dictionary, corpus=corpus_tfidf, \n",
        "                                                        texts=text_list, start=start, limit=limit, step=step)\n",
        "#show graphs\n",
        "import matplotlib.pyplot as plt\n",
        "x = range(start, limit, step)\n",
        "plt.plot(x, coherence_values)\n",
        "plt.xlabel(\"Num Topics\")\n",
        "plt.ylabel(\"Coherence score\")\n",
        "plt.legend((\"coherence_values\"), loc='best')\n",
        "plt.show()"
      ]
    },
    {
      "cell_type": "code",
      "execution_count": 186,
      "metadata": {
        "colab": {
          "base_uri": "https://localhost:8080/"
        },
        "id": "qaNFv0PIgDYh",
        "outputId": "af7077fa-f1e8-4fb7-e0d6-d84eb319f207"
      },
      "outputs": [
        {
          "name": "stdout",
          "output_type": "stream",
          "text": [
            "Num Topics = 1  has Coherence Value of 0.518\n",
            "Num Topics = 2  has Coherence Value of 0.437\n",
            "Num Topics = 3  has Coherence Value of 0.446\n",
            "Num Topics = 4  has Coherence Value of 0.468\n",
            "Num Topics = 5  has Coherence Value of 0.483\n",
            "Num Topics = 6  has Coherence Value of 0.429\n",
            "Num Topics = 7  has Coherence Value of 0.378\n",
            "Num Topics = 8  has Coherence Value of 0.386\n",
            "Num Topics = 9  has Coherence Value of 0.392\n",
            "Num Topics = 10  has Coherence Value of 0.349\n",
            "Num Topics = 11  has Coherence Value of 0.383\n",
            "Num Topics = 12  has Coherence Value of 0.352\n",
            "Num Topics = 13  has Coherence Value of 0.363\n",
            "Num Topics = 14  has Coherence Value of 0.344\n",
            "Num Topics = 15  has Coherence Value of 0.342\n",
            "Num Topics = 16  has Coherence Value of 0.327\n",
            "Num Topics = 17  has Coherence Value of 0.317\n",
            "Num Topics = 18  has Coherence Value of 0.323\n",
            "Num Topics = 19  has Coherence Value of 0.295\n",
            "Num Topics = 20  has Coherence Value of 0.331\n"
          ]
        }
      ],
      "source": [
        "# Print the coherence scores\n",
        "for m, cv in zip(x, coherence_values):\n",
        "    print(\"Num Topics =\", m, \" has Coherence Value of\", round(cv, 3))"
      ]
    },
    {
      "cell_type": "code",
      "execution_count": 193,
      "metadata": {
        "colab": {
          "base_uri": "https://localhost:8080/"
        },
        "id": "SWVlH8xAgPCu",
        "outputId": "7cc1b7d8-54f0-441e-cb60-e3aa1e8684fa"
      },
      "outputs": [
        {
          "name": "stdout",
          "output_type": "stream",
          "text": [
            "Topic: 0 Word: 0.012*\"pln\" + 0.009*\"kembang\" + 0.008*\"bangkit_listrik\" + 0.008*\"bangkit\" + 0.008*\"indonesia\" + 0.008*\"listrik\" + 0.006*\"menteri_esdm\" + 0.006*\"target\" + 0.006*\"capai_target\" + 0.006*\"transisi\"\n",
            "Topic: 1 Word: 0.034*\"pln_id\" + 0.010*\"ruu\" + 0.009*\"id\" + 0.005*\"bahan_bakar\" + 0.004*\"net_zero\" + 0.004*\"pln\" + 0.004*\"renewable_energy\" + 0.004*\"capai_persen\" + 0.004*\"mobil_listrik\" + 0.004*\"kuat_bidang\"\n"
          ]
        }
      ],
      "source": [
        "model = LdaModel(corpus=corpus_tfidf, id2word=dictionary, num_topics=2) #num topic menyesuaikan hasil dari coherence value paling tinggi\n",
        "for idx, topic in model.print_topics(-1):\n",
        "    print('Topic: {} Word: {}'.format(idx, topic))\n",
        "    # yg belum remove Yang, yg,trus lower text"
      ]
    },
    {
      "cell_type": "code",
      "execution_count": 194,
      "metadata": {
        "colab": {
          "base_uri": "https://localhost:8080/"
        },
        "id": "t5CsIHbigduf",
        "outputId": "ad397ac7-6944-411e-f515-2a9344191f97"
      },
      "outputs": [
        {
          "name": "stdout",
          "output_type": "stream",
          "text": [
            "[(0, 'pln', 0.011541791), (0, 'kembang', 0.008896562), (0, 'bangkit_listrik', 0.008425842), (0, 'bangkit', 0.008364869), (0, 'indonesia', 0.008355142)]\n",
            "[(0, 'pln', 0.011541791), (0, 'kembang', 0.008896562), (0, 'bangkit_listrik', 0.008425842), (0, 'bangkit', 0.008364869), (0, 'indonesia', 0.008355142), (1, 'pln_id', 0.03402858), (1, 'ruu', 0.0097298045), (1, 'id', 0.008525109), (1, 'bahan_bakar', 0.0045971153), (1, 'net_zero', 0.0044351364)]\n"
          ]
        }
      ],
      "source": [
        "top_words_per_topic = []\n",
        "for t in range(model.num_topics):\n",
        "    top_words_per_topic.extend([(t, ) + x for x in model.show_topic(t, topn = 5)]) #ubah2 yg ini\n",
        "    print(top_words_per_topic)\n",
        "\n",
        "# df=pd.DataFrame(top_words_per_topic, columns=['Topic', 'Word', 'P']).to_csv(\"top_words_topic_20.csv\")\n"
      ]
    },
    {
      "cell_type": "code",
      "execution_count": 195,
      "metadata": {},
      "outputs": [
        {
          "data": {
            "text/plain": [
              "2"
            ]
          },
          "execution_count": 195,
          "metadata": {},
          "output_type": "execute_result"
        }
      ],
      "source": [
        "model.num_topics"
      ]
    },
    {
      "cell_type": "code",
      "execution_count": 196,
      "metadata": {
        "colab": {
          "base_uri": "https://localhost:8080/"
        },
        "id": "5BGTseD4gFRQ",
        "outputId": "39e9537e-6629-43ea-bfa0-e077c4ac7f89"
      },
      "outputs": [
        {
          "name": "stdout",
          "output_type": "stream",
          "text": [
            "PreparedData(topic_coordinates=             x    y  topics  cluster       Freq\n",
            "topic                                          \n",
            "0      0.19774  0.0       1        1  57.159353\n",
            "1     -0.19774  0.0       2        1  42.840647, topic_info=                  Term         Freq        Total Category  logprob  loglift\n",
            "7140            pln_id  4051.000000  4051.000000  Default  30.0000  30.0000\n",
            "3362               ruu  1162.000000  1162.000000  Default  29.0000  29.0000\n",
            "783    bangkit_listrik  1309.000000  1309.000000  Default  28.0000  28.0000\n",
            "530            bangkit  1301.000000  1301.000000  Default  27.0000  27.0000\n",
            "16             listrik  1241.000000  1241.000000  Default  26.0000  26.0000\n",
            "...                ...          ...          ...      ...      ...      ...\n",
            "16341  inggris_sepakat   289.481229   344.308464   Topic2  -5.9968   0.6742\n",
            "230              green   287.976914   352.180047   Topic2  -6.0020   0.6464\n",
            "150                pln   504.102782  2296.846262   Topic2  -5.4421  -0.6688\n",
            "16196      simak_bawah   273.959773   418.371648   Topic2  -6.0519   0.4243\n",
            "169              bahas   240.773482   355.647199   Topic2  -6.1811   0.4576\n",
            "\n",
            "[144 rows x 6 columns], token_table=       Topic      Freq         Term\n",
            "term                               \n",
            "1323       1  0.024056    airlangga\n",
            "1323       2  0.974248    airlangga\n",
            "11838      2  0.997448          ako\n",
            "1640       2  0.996426          ana\n",
            "8000       1  0.008648  anggota_dpr\n",
            "...      ...       ...          ...\n",
            "10535      2  0.985524    udien_pln\n",
            "54         1  0.991128        usaha\n",
            "54         2  0.010566        usaha\n",
            "658        1  0.011826          vii\n",
            "658        2  0.993400          vii\n",
            "\n",
            "[217 rows x 3 columns], R=30, lambda_step=0.01, plot_opts={'xlab': 'PC1', 'ylab': 'PC2'}, topic_order=[1, 2])\n"
          ]
        }
      ],
      "source": [
        "data = pyLDAvis.gensim_models.prepare(model, corpus_tfidf, dictionary)\n",
        "print(data)\n",
        "pyLDAvis.save_html(data, 'data/lda-gensim_clean_kualitatif1.html')"
      ]
    },
    {
      "cell_type": "code",
      "execution_count": 197,
      "metadata": {},
      "outputs": [
        {
          "data": {
            "text/html": [
              "\n",
              "<link rel=\"stylesheet\" type=\"text/css\" href=\"https://cdn.jsdelivr.net/gh/bmabey/pyLDAvis@3.3.1/pyLDAvis/js/ldavis.v1.0.0.css\">\n",
              "\n",
              "\n",
              "<div id=\"ldavis_el361921403947807127364766036993\"></div>\n",
              "<script type=\"text/javascript\">\n",
              "\n",
              "var ldavis_el361921403947807127364766036993_data = {\"mdsDat\": {\"x\": [-60.31231689453125, 60.31256103515625], \"y\": [141.36962890625, -141.369140625], \"topics\": [1, 2], \"cluster\": [1, 1], \"Freq\": [57.15932569500121, 42.840674304998785]}, \"tinfo\": {\"Term\": [\"pln_id\", \"ruu\", \"bangkit_listrik\", \"bangkit\", \"listrik\", \"kembang\", \"menteri_esdm\", \"target\", \"capai_target\", \"indonesia\", \"bahan_bakar\", \"ramah_lingkung\", \"capai\", \"renewable_energy\", \"perintah\", \"baur\", \"capai_persen\", \"panas_bumi\", \"transisi\", \"mobil_listrik\", \"komisi_vii\", \"guna\", \"id\", \"tingkat\", \"kuat_bidang\", \"bangun\", \"micho\", \"heroes\", \"manfaat\", \"investasi\", \"menteri_esdm\", \"bangkit_listrik\", \"panas_bumi\", \"bangkit\", \"ramah_lingkung\", \"listrik\", \"tingkat\", \"bumi\", \"target_baur\", \"tenaga_surya\", \"kapasitas\", \"esdm\", \"panas\", \"capai_target\", \"kurang_emisi\", \"surya\", \"menteri\", \"kapasitas_bangkit\", \"ramah\", \"tenaga\", \"lingkung\", \"tambah\", \"bumn\", \"kejar\", \"rp_triliun\", \"plts_atap\", \"gas_bumi\", \"milik_potensi\", \"pasok_listrik\", \"menteri_bumn\", \"capai\", \"target\", \"baur\", \"perintah\", \"guna\", \"kembang\", \"kejar_target\", \"potensi\", \"butuh\", \"investasi\", \"usaha\", \"plta_poso\", \"bangun\", \"transisi\", \"indonesia\", \"manfaat\", \"dorong\", \"proyek\", \"cepat\", \"dukung\", \"pln\", \"plts\", \"komisi_vii\", \"micho\", \"bahan_bakar\", \"capai_persen\", \"renewable_energy\", \"bahas_ruu\", \"kawasan_industri\", \"dpr_ri\", \"arsjad_rasjid\", \"mobil_listrik\", \"permen_esdm\", \"jawa_barat\", \"asia_tenggara\", \"ako\", \"power_plant\", \"renewable\", \"pulau_sumba\", \"bakar\", \"menko_airlangga\", \"asia\", \"ana\", \"harmonisasi_ruu\", \"solar_pv\", \"nusa_tenggara\", \"dyah_roro\", \"tenggara\", \"energy_watch\", \"ridwan_kamil\", \"ppsdm_kebtke\", \"sumatera_utara\", \"pln_id\", \"ruu\", \"dasamuka_pln\", \"udien_pln\", \"vii\", \"nuklir_ruu\", \"komisi\", \"anggota_dpr\", \"pln_persero\", \"pelet\", \"firing_pltu\", \"plts_apung\", \"heroes\", \"udien\", \"dpr\", \"kuat_bidang\", \"energy\", \"airlangga\", \"renewable_content\", \"bahan\", \"e_hal\", \"mobil\", \"net\", \"id\", \"net_zero\", \"larang_ekspor\", \"sulawesi_selatan\", \"inggris_sepakat\", \"green\", \"pln\", \"simak_bawah\", \"bahas\"], \"Freq\": [4051.0, 1162.0, 1309.0, 1301.0, 1241.0, 1401.0, 990.0, 963.0, 907.0, 1365.0, 536.0, 808.0, 775.0, 485.0, 771.0, 757.0, 462.0, 706.0, 907.0, 427.0, 413.0, 655.0, 1411.0, 590.0, 442.0, 686.0, 366.0, 414.0, 722.0, 597.0, 989.5163300082099, 1308.7540266955818, 705.8458955703088, 1299.2833588946685, 807.0746608035039, 1238.0395913883776, 588.9099679728797, 328.76843406021004, 374.56296586509995, 293.69085997367995, 325.99727751698805, 466.98898919977455, 252.98842686577652, 904.8100603716628, 318.6873060702016, 290.0483510728719, 516.1792419712081, 242.98094829372377, 299.22163651982055, 321.6570429983952, 376.3024519216921, 256.9465812956379, 525.0504436527829, 267.9695647320144, 200.17655030960142, 368.89309987066207, 216.43994389056382, 226.81321035258105, 270.2931288267569, 309.3246984022867, 771.4898948377107, 956.4528948163102, 753.7666587672283, 766.5719291863695, 652.4539190933294, 1381.8692196563927, 534.3862171109639, 523.6033130564184, 425.49787624567546, 590.0967850360033, 468.5960762781513, 478.46343470786707, 673.3333211367202, 884.3350520388442, 1297.7723975972522, 701.9824203332822, 583.8939959760144, 440.04961250911606, 431.17743438055635, 829.8394734806787, 1792.7426324206021, 480.9531213665081, 412.6988751906175, 365.8116515200803, 535.1793185754378, 462.0368781354014, 484.0065854549737, 195.51980239570128, 272.4495570009213, 171.69110566324275, 153.65914688482394, 425.5918330541471, 141.34408742000895, 116.47569941254771, 104.92748934372408, 76.82443021307138, 116.44765898697278, 217.4437559807443, 72.84119221399516, 214.22630349491047, 309.9799793284751, 76.82878061259267, 68.84346643582778, 123.28471163775346, 66.01591681300889, 77.23567171797501, 137.0009385645864, 71.14808719407027, 150.8663259186197, 80.55327826132392, 87.0075838464331, 63.702175123682814, 3961.4823693605094, 1132.7081836159223, 239.47989837338002, 335.9129954804692, 167.58291903990937, 163.1382202043839, 209.2849001657547, 114.83566655625327, 220.5194206790649, 114.67510835336, 230.36780361530768, 186.78856410911595, 399.5790460249495, 266.8438300464239, 343.9159958608954, 424.83884801550863, 347.64037153580836, 243.29559178030058, 317.379371939807, 240.27909793652816, 293.9354348410228, 194.67254514812169, 312.362182211514, 992.4619283243314, 516.3223288896728, 385.0162394828612, 300.9238027897948, 289.4814117847165, 287.9770951303106, 504.1031001881446, 273.959945240952, 240.77363400672107], \"Total\": [4051.0, 1162.0, 1309.0, 1301.0, 1241.0, 1401.0, 990.0, 963.0, 907.0, 1365.0, 536.0, 808.0, 775.0, 485.0, 771.0, 757.0, 462.0, 706.0, 907.0, 427.0, 413.0, 655.0, 1411.0, 590.0, 442.0, 686.0, 366.0, 414.0, 722.0, 597.0, 990.3640005585672, 1309.877077652105, 706.7149057154753, 1301.137438861366, 808.3741349238303, 1241.426352639771, 590.5928252862219, 329.73002810396997, 375.7389910462067, 294.6678407181611, 327.095659162869, 468.5802858922729, 253.85617057965712, 907.9160505988115, 319.78580841934036, 291.0642578768158, 517.9910719860127, 243.9172186881285, 300.37652306645424, 322.9205613123198, 377.8286006190228, 257.99613000335654, 527.2069505022456, 269.0772374582204, 201.00730625716656, 370.4901649083201, 217.386277654383, 227.81688388135237, 271.5404042938708, 310.75541603352184, 775.1678378752096, 963.3322783113425, 757.7321317878855, 771.3768738827216, 655.7677745182438, 1401.6476351417007, 537.1107208803243, 526.4284702136127, 427.92224268248594, 597.4288599581695, 473.19811413951, 483.5830362798754, 686.0670913087322, 907.2296038130348, 1365.2057992586454, 722.9912467112357, 598.1629269317485, 446.66160610070534, 437.1883066901609, 899.0489697927403, 2296.845732608747, 496.08710927689754, 413.30346426618615, 366.383746680507, 536.0409010243424, 462.9574457802096, 485.10524222490716, 196.05587454515927, 273.3758703129417, 172.27780334676007, 154.19573600588805, 427.3439078178748, 141.95475767517252, 116.99269037241116, 105.41978051768106, 77.19704390821782, 117.01424778880882, 218.53361074224463, 73.2275089411928, 215.40575305928107, 311.72591499257555, 77.26833086457597, 69.24754953256782, 124.02081916577697, 66.43072917194246, 77.72298660758892, 137.89968773319652, 71.61614649828482, 151.86274846320194, 81.09301632502655, 87.60773723639994, 64.14167448373523, 4051.5820439182994, 1162.93690731941, 242.1471051281453, 340.9355319360289, 169.11634285603003, 164.6879267542907, 211.86602758107853, 115.63833416090317, 223.87159001930888, 115.69108194614094, 234.9197884040887, 189.93023481694473, 414.4627358382681, 273.64154033969845, 355.754425544383, 442.9110350463475, 361.71078950479244, 249.42323623788823, 330.557323015303, 247.80037239783803, 307.58533190212574, 199.53560204369185, 337.9587792964401, 1411.1088355355423, 658.5824632882307, 467.99170259157114, 346.4981910054627, 344.3086206707256, 352.1801976920527, 2296.845732608747, 418.37175290020207, 355.64729653080923], \"Category\": [\"Default\", \"Default\", \"Default\", \"Default\", \"Default\", \"Default\", \"Default\", \"Default\", \"Default\", \"Default\", \"Default\", \"Default\", \"Default\", \"Default\", \"Default\", \"Default\", \"Default\", \"Default\", \"Default\", \"Default\", \"Default\", \"Default\", \"Default\", \"Default\", \"Default\", \"Default\", \"Default\", \"Default\", \"Default\", \"Default\", \"Topic1\", \"Topic1\", \"Topic1\", \"Topic1\", \"Topic1\", \"Topic1\", \"Topic1\", \"Topic1\", \"Topic1\", \"Topic1\", \"Topic1\", \"Topic1\", \"Topic1\", \"Topic1\", \"Topic1\", \"Topic1\", \"Topic1\", \"Topic1\", \"Topic1\", \"Topic1\", \"Topic1\", \"Topic1\", \"Topic1\", \"Topic1\", \"Topic1\", \"Topic1\", \"Topic1\", \"Topic1\", \"Topic1\", \"Topic1\", \"Topic1\", \"Topic1\", \"Topic1\", \"Topic1\", \"Topic1\", \"Topic1\", \"Topic1\", \"Topic1\", \"Topic1\", \"Topic1\", \"Topic1\", \"Topic1\", \"Topic1\", \"Topic1\", \"Topic1\", \"Topic1\", \"Topic1\", \"Topic1\", \"Topic1\", \"Topic1\", \"Topic1\", \"Topic1\", \"Topic2\", \"Topic2\", \"Topic2\", \"Topic2\", \"Topic2\", \"Topic2\", \"Topic2\", \"Topic2\", \"Topic2\", \"Topic2\", \"Topic2\", \"Topic2\", \"Topic2\", \"Topic2\", \"Topic2\", \"Topic2\", \"Topic2\", \"Topic2\", \"Topic2\", \"Topic2\", \"Topic2\", \"Topic2\", \"Topic2\", \"Topic2\", \"Topic2\", \"Topic2\", \"Topic2\", \"Topic2\", \"Topic2\", \"Topic2\", \"Topic2\", \"Topic2\", \"Topic2\", \"Topic2\", \"Topic2\", \"Topic2\", \"Topic2\", \"Topic2\", \"Topic2\", \"Topic2\", \"Topic2\", \"Topic2\", \"Topic2\", \"Topic2\", \"Topic2\", \"Topic2\", \"Topic2\", \"Topic2\", \"Topic2\", \"Topic2\", \"Topic2\", \"Topic2\", \"Topic2\", \"Topic2\", \"Topic2\", \"Topic2\", \"Topic2\", \"Topic2\", \"Topic2\", \"Topic2\", \"Topic2\", \"Topic2\"], \"logprob\": [30.0, 29.0, 28.0, 27.0, 26.0, 25.0, 24.0, 23.0, 22.0, 21.0, 20.0, 19.0, 18.0, 17.0, 16.0, 15.0, 14.0, 13.0, 12.0, 11.0, 10.0, 9.0, 8.0, 7.0, 6.0, 5.0, 4.0, 3.0, 2.0, 1.0, -5.0561, -4.7765, -5.3939, -4.7837, -5.2599, -4.832, -5.575, -6.1579, -6.0275, -6.2708, -6.1664, -5.807, -6.4199, -5.1456, -6.1891, -6.2832, -5.7068, -6.4603, -6.2521, -6.1798, -6.0229, -6.4044, -5.6898, -6.3624, -6.6541, -6.0428, -6.576, -6.5292, -6.3538, -6.2189, -5.305, -5.0901, -5.3282, -5.3114, -5.4725, -4.7221, -5.6722, -5.6925, -5.9, -5.573, -5.8035, -5.7827, -5.441, -5.1684, -4.7849, -5.3994, -5.5836, -5.8664, -5.8868, -5.2321, -4.4618, -5.7775, -5.6422, -5.7628, -5.3823, -5.5293, -5.4828, -6.3893, -6.0575, -6.5192, -6.6302, -5.6114, -6.7137, -6.9072, -7.0117, -7.3234, -6.9075, -6.283, -7.3766, -6.2979, -5.9284, -7.3233, -7.4331, -6.8504, -7.475, -7.3181, -6.7449, -7.4002, -6.6485, -7.276, -7.1989, -7.5107, -3.3806, -4.6326, -6.1865, -5.8481, -6.5434, -6.5703, -6.3212, -6.9214, -6.2689, -6.9228, -6.2253, -6.435, -5.6745, -6.0783, -5.8245, -5.6132, -5.8138, -6.1707, -5.9048, -6.1831, -5.9816, -6.3936, -5.9208, -4.7647, -5.4182, -5.7116, -5.9581, -5.9968, -6.002, -5.4421, -6.0519, -6.1811], \"loglift\": [30.0, 29.0, 28.0, 27.0, 26.0, 25.0, 24.0, 23.0, 22.0, 21.0, 20.0, 19.0, 18.0, 17.0, 16.0, 15.0, 14.0, 13.0, 12.0, 11.0, 10.0, 9.0, 8.0, 7.0, 6.0, 5.0, 4.0, 3.0, 2.0, 1.0, 0.5585, 0.5585, 0.5581, 0.5579, 0.5577, 0.5566, 0.5565, 0.5564, 0.5562, 0.556, 0.556, 0.5559, 0.5559, 0.5559, 0.5559, 0.5558, 0.5558, 0.5555, 0.5555, 0.5554, 0.5553, 0.5553, 0.5552, 0.5552, 0.5552, 0.555, 0.555, 0.5549, 0.5547, 0.5547, 0.5546, 0.5522, 0.5541, 0.5531, 0.5543, 0.5451, 0.5542, 0.5539, 0.5536, 0.547, 0.5496, 0.5487, 0.5406, 0.5338, 0.5087, 0.5298, 0.5352, 0.5444, 0.5455, 0.4792, 0.3115, 0.5283, 0.8462, 0.8461, 0.8461, 0.8457, 0.8454, 0.8449, 0.8443, 0.8443, 0.8442, 0.8436, 0.8434, 0.8433, 0.843, 0.8428, 0.8428, 0.8427, 0.8424, 0.8422, 0.8421, 0.842, 0.8418, 0.8417, 0.8414, 0.8414, 0.8411, 0.8411, 0.8411, 0.841, 0.8408, 0.8408, 0.8252, 0.8213, 0.8366, 0.8328, 0.8386, 0.8382, 0.8354, 0.8407, 0.8326, 0.8389, 0.8281, 0.831, 0.8111, 0.8225, 0.8138, 0.806, 0.808, 0.8228, 0.807, 0.8169, 0.8023, 0.823, 0.7689, 0.4957, 0.6043, 0.6525, 0.7067, 0.6742, 0.6464, -0.6688, 0.4243, 0.4576]}, \"token.table\": {\"Topic\": [1, 2, 2, 2, 1, 2, 1, 2, 2, 2, 1, 2, 1, 2, 1, 2, 1, 2, 1, 2, 1, 2, 1, 2, 1, 2, 1, 2, 1, 2, 1, 2, 1, 2, 1, 2, 1, 2, 1, 2, 1, 2, 1, 2, 1, 2, 1, 2, 1, 2, 1, 2, 1, 2, 1, 2, 1, 2, 1, 2, 1, 2, 1, 2, 1, 2, 1, 2, 1, 2, 1, 2, 1, 2, 1, 2, 1, 2, 1, 2, 1, 2, 1, 2, 1, 2, 1, 2, 1, 2, 1, 2, 1, 2, 1, 2, 1, 2, 1, 2, 1, 2, 1, 2, 1, 2, 1, 2, 1, 2, 1, 2, 1, 2, 1, 2, 1, 2, 1, 2, 1, 2, 1, 2, 1, 2, 1, 2, 1, 2, 1, 2, 1, 2, 2, 1, 2, 1, 2, 1, 2, 1, 2, 1, 2, 1, 2, 1, 2, 1, 2, 1, 2, 1, 2, 1, 2, 1, 2, 1, 2, 1, 2, 1, 2, 1, 2, 1, 2, 2, 1, 2, 1, 2, 1, 2, 1, 2, 1, 2, 1, 2, 1, 2, 1, 2, 1, 2, 2, 1, 2, 2, 1, 2, 1, 2, 1, 2, 1, 2, 1, 2, 1, 2, 2, 1, 2, 1, 2, 1, 2, 1, 2, 1, 2, 1, 2], \"Freq\": [0.024055497356619493, 0.9742476429430895, 0.9974475200313099, 0.9964251510091142, 0.008647651380108654, 0.9944799087124953, 0.0064852636389492275, 0.9987306003981811, 0.9965272853499805, 0.9960180099444368, 0.032284051563716686, 0.9685215469115006, 0.001865529287203755, 0.998058168654009, 0.3233540677007163, 0.6776376549206314, 0.005100586770582389, 0.9997150070341483, 0.00464240154126614, 0.993473929830954, 0.9983572535863418, 0.0015371166336972158, 0.9993304122447297, 0.000763430414243491, 0.9809536246902536, 0.018948584132204006, 0.9950746027107503, 0.005278910359208224, 0.9977859823438957, 0.003032784140862905, 0.9958138820056467, 0.0037935766933548444, 0.9931710895321367, 0.0046737463036806435, 0.9946233090802195, 0.005160172809754705, 0.002160025741274616, 0.9979318924688726, 0.996788193581457, 0.003304270254966156, 0.985845214532358, 0.013724063311355332, 0.012389163184141254, 0.98700333366992, 0.9763226266723071, 0.02340499447502106, 0.03373113344025824, 0.9669591586207363, 0.005804578306511165, 0.9983874687199203, 0.9231977655136424, 0.07674776604872449, 0.007251648038063473, 0.9934757812146957, 0.04551582454671417, 0.9558323154809976, 0.03870495546778405, 0.9620946073420605, 0.006584893333748081, 0.9943188933959601, 0.9966275023942509, 0.004268212001688441, 0.02128386047836648, 0.9790575820048582, 0.993622975335237, 0.004600106367292764, 0.18172515212215815, 0.8177631845497116, 0.994254407330382, 0.004574790217777831, 0.008063162352308877, 0.9917689693339918, 0.036191432191513856, 0.9651048584403695, 0.2969296126907048, 0.7029932596400457, 0.9507724042081125, 0.0490768498320058, 0.1597404093248029, 0.8393632417248734, 0.9875652810634397, 0.011716876216006911, 0.008547542558571819, 0.9915149367943311, 0.9966503402531445, 0.0030572096326783576, 0.9962396312443147, 0.004099751568906645, 0.003657967321165798, 0.9949671113570971, 0.995996549286754, 0.0037164050346520667, 0.9942084178189075, 0.0055854405495444235, 0.9859824718787369, 0.01426892144542311, 0.014159891674241813, 0.9864724533055129, 0.002419529683293326, 0.9992657592001438, 0.040640215699562394, 0.9595606484618898, 0.9975427039016381, 0.003127093115679116, 0.177353571741498, 0.8226641580780328, 0.9951602376950107, 0.005293405519654313, 0.997239987186928, 0.002416575090113719, 0.9709661122361836, 0.029045994810484126, 0.006415892628136593, 0.9944633573611721, 0.9961561654366382, 0.00386107040866914, 0.9943511329394418, 0.003217964831519229, 0.9996324578050475, 0.001009729755358634, 0.002729378715786804, 0.9989526099779704, 0.9964142961336535, 0.004389490291337681, 0.025058184849163716, 0.977269209117385, 0.004680071397794113, 0.996855207730146, 0.07693245920146413, 0.9231895104175696, 0.21561460851995579, 0.7835009718049097, 0.012144181054534364, 0.9897507559445506, 0.9906979049680738, 0.9966273398921045, 0.003939238497597251, 0.9989884100226363, 0.0014149977479074169, 0.9943271635840841, 0.003682693198459571, 0.008643708600335694, 0.9940264890386048, 0.9943258943443681, 0.006481915869259244, 0.007044497953976622, 0.9932742115107037, 0.7806357974087876, 0.21943136748133238, 0.022213544986728364, 0.9776427965825673, 0.013400539120400451, 0.9871730485361666, 0.9884548549865918, 0.01033948593082209, 0.969587782075433, 0.030236625220647597, 0.015795273474449225, 0.9845720465740018, 0.9959778556910173, 0.005398253960384917, 0.9953868942296618, 0.005698779928795773, 0.008545967853460316, 0.9913322710013966, 0.011414516931325471, 0.9930629730253159, 0.9850857875185194, 0.015671819346885534, 0.9968931219362452, 0.995417341367422, 0.00332915498785091, 0.9983001250727056, 0.0012370509604370577, 0.004575955143025926, 0.9929822660366259, 0.03932752081065883, 0.9589864689983729, 0.0020614083562848296, 0.9977216444418575, 0.01233151811731764, 0.9988529675027288, 0.9949887082418893, 0.004974943541209447, 0.025796756308259686, 0.9742574965752742, 0.3441914971595838, 0.6549199320953192, 0.9935161155490616, 0.1327568258481176, 0.8686914039192044, 0.9977912256754202, 0.9963435638419533, 0.003435667461523977, 0.9961389730793885, 0.0038760271326046245, 0.9923886300953234, 0.007266443944212619, 0.9980332330053129, 0.0026614219546808346, 0.9971492638666961, 0.0030967368443065094, 0.9977335812536128, 0.0033936516369170505, 0.991396542142915, 0.9973030060338949, 0.0033864278642916634, 0.9743950112348604, 0.025351906400907002, 0.02558091140442421, 0.9757290492830378, 0.01466552920315202, 0.9855235624518157, 0.9911282103329088, 0.010566398830841244, 0.011826178157734965, 0.9933989652497371], \"Term\": [\"airlangga\", \"airlangga\", \"ako\", \"ana\", \"anggota_dpr\", \"anggota_dpr\", \"arsjad_rasjid\", \"arsjad_rasjid\", \"asia\", \"asia_tenggara\", \"bahan\", \"bahan\", \"bahan_bakar\", \"bahan_bakar\", \"bahas\", \"bahas\", \"bahas_ruu\", \"bahas_ruu\", \"bakar\", \"bakar\", \"bangkit\", \"bangkit\", \"bangkit_listrik\", \"bangkit_listrik\", \"bangun\", \"bangun\", \"baur\", \"baur\", \"bumi\", \"bumi\", \"bumn\", \"bumn\", \"butuh\", \"butuh\", \"capai\", \"capai\", \"capai_persen\", \"capai_persen\", \"capai_target\", \"capai_target\", \"cepat\", \"cepat\", \"dasamuka_pln\", \"dasamuka_pln\", \"dorong\", \"dorong\", \"dpr\", \"dpr\", \"dpr_ri\", \"dpr_ri\", \"dukung\", \"dukung\", \"dyah_roro\", \"dyah_roro\", \"e_hal\", \"e_hal\", \"energy\", \"energy\", \"energy_watch\", \"energy_watch\", \"esdm\", \"esdm\", \"firing_pltu\", \"firing_pltu\", \"gas_bumi\", \"gas_bumi\", \"green\", \"green\", \"guna\", \"guna\", \"harmonisasi_ruu\", \"harmonisasi_ruu\", \"heroes\", \"heroes\", \"id\", \"id\", \"indonesia\", \"indonesia\", \"inggris_sepakat\", \"inggris_sepakat\", \"investasi\", \"investasi\", \"jawa_barat\", \"jawa_barat\", \"kapasitas\", \"kapasitas\", \"kapasitas_bangkit\", \"kapasitas_bangkit\", \"kawasan_industri\", \"kawasan_industri\", \"kejar\", \"kejar\", \"kejar_target\", \"kejar_target\", \"kembang\", \"kembang\", \"komisi\", \"komisi\", \"komisi_vii\", \"komisi_vii\", \"kuat_bidang\", \"kuat_bidang\", \"kurang_emisi\", \"kurang_emisi\", \"larang_ekspor\", \"larang_ekspor\", \"lingkung\", \"lingkung\", \"listrik\", \"listrik\", \"manfaat\", \"manfaat\", \"menko_airlangga\", \"menko_airlangga\", \"menteri\", \"menteri\", \"menteri_bumn\", \"menteri_bumn\", \"menteri_esdm\", \"menteri_esdm\", \"micho\", \"micho\", \"milik_potensi\", \"milik_potensi\", \"mobil\", \"mobil\", \"mobil_listrik\", \"mobil_listrik\", \"net\", \"net\", \"net_zero\", \"net_zero\", \"nuklir_ruu\", \"nuklir_ruu\", \"nusa_tenggara\", \"panas\", \"panas\", \"panas_bumi\", \"panas_bumi\", \"pasok_listrik\", \"pasok_listrik\", \"pelet\", \"pelet\", \"perintah\", \"perintah\", \"permen_esdm\", \"permen_esdm\", \"pln\", \"pln\", \"pln_id\", \"pln_id\", \"pln_persero\", \"pln_persero\", \"plta_poso\", \"plta_poso\", \"plts\", \"plts\", \"plts_apung\", \"plts_apung\", \"plts_atap\", \"plts_atap\", \"potensi\", \"potensi\", \"power_plant\", \"power_plant\", \"ppsdm_kebtke\", \"ppsdm_kebtke\", \"proyek\", \"proyek\", \"pulau_sumba\", \"ramah\", \"ramah\", \"ramah_lingkung\", \"ramah_lingkung\", \"renewable\", \"renewable\", \"renewable_content\", \"renewable_content\", \"renewable_energy\", \"renewable_energy\", \"ridwan_kamil\", \"ridwan_kamil\", \"rp_triliun\", \"rp_triliun\", \"ruu\", \"ruu\", \"simak_bawah\", \"simak_bawah\", \"solar_pv\", \"sulawesi_selatan\", \"sulawesi_selatan\", \"sumatera_utara\", \"surya\", \"surya\", \"tambah\", \"tambah\", \"target\", \"target\", \"target_baur\", \"target_baur\", \"tenaga\", \"tenaga\", \"tenaga_surya\", \"tenaga_surya\", \"tenggara\", \"tingkat\", \"tingkat\", \"transisi\", \"transisi\", \"udien\", \"udien\", \"udien_pln\", \"udien_pln\", \"usaha\", \"usaha\", \"vii\", \"vii\"]}, \"R\": 30, \"lambda.step\": 0.01, \"plot.opts\": {\"xlab\": \"PC1\", \"ylab\": \"PC2\"}, \"topic.order\": [1, 2]};\n",
              "\n",
              "function LDAvis_load_lib(url, callback){\n",
              "  var s = document.createElement('script');\n",
              "  s.src = url;\n",
              "  s.async = true;\n",
              "  s.onreadystatechange = s.onload = callback;\n",
              "  s.onerror = function(){console.warn(\"failed to load library \" + url);};\n",
              "  document.getElementsByTagName(\"head\")[0].appendChild(s);\n",
              "}\n",
              "\n",
              "if(typeof(LDAvis) !== \"undefined\"){\n",
              "   // already loaded: just create the visualization\n",
              "   !function(LDAvis){\n",
              "       new LDAvis(\"#\" + \"ldavis_el361921403947807127364766036993\", ldavis_el361921403947807127364766036993_data);\n",
              "   }(LDAvis);\n",
              "}else if(typeof define === \"function\" && define.amd){\n",
              "   // require.js is available: use it to load d3/LDAvis\n",
              "   require.config({paths: {d3: \"https://d3js.org/d3.v5\"}});\n",
              "   require([\"d3\"], function(d3){\n",
              "      window.d3 = d3;\n",
              "      LDAvis_load_lib(\"https://cdn.jsdelivr.net/gh/bmabey/pyLDAvis@3.3.1/pyLDAvis/js/ldavis.v3.0.0.js\", function(){\n",
              "        new LDAvis(\"#\" + \"ldavis_el361921403947807127364766036993\", ldavis_el361921403947807127364766036993_data);\n",
              "      });\n",
              "    });\n",
              "}else{\n",
              "    // require.js not available: dynamically load d3 & LDAvis\n",
              "    LDAvis_load_lib(\"https://d3js.org/d3.v5.js\", function(){\n",
              "         LDAvis_load_lib(\"https://cdn.jsdelivr.net/gh/bmabey/pyLDAvis@3.3.1/pyLDAvis/js/ldavis.v3.0.0.js\", function(){\n",
              "                 new LDAvis(\"#\" + \"ldavis_el361921403947807127364766036993\", ldavis_el361921403947807127364766036993_data);\n",
              "            })\n",
              "         });\n",
              "}\n",
              "</script>"
            ],
            "text/plain": [
              "PreparedData(topic_coordinates=               x           y  topics  cluster       Freq\n",
              "topic                                                   \n",
              "0     -60.312317  141.369629       1        1  57.159326\n",
              "1      60.312561 -141.369141       2        1  42.840674, topic_info=                  Term         Freq        Total Category  logprob  loglift\n",
              "7140            pln_id  4051.000000  4051.000000  Default  30.0000  30.0000\n",
              "3362               ruu  1162.000000  1162.000000  Default  29.0000  29.0000\n",
              "783    bangkit_listrik  1309.000000  1309.000000  Default  28.0000  28.0000\n",
              "530            bangkit  1301.000000  1301.000000  Default  27.0000  27.0000\n",
              "16             listrik  1241.000000  1241.000000  Default  26.0000  26.0000\n",
              "...                ...          ...          ...      ...      ...      ...\n",
              "16341  inggris_sepakat   289.481412   344.308621   Topic2  -5.9968   0.6742\n",
              "230              green   287.977095   352.180198   Topic2  -6.0020   0.6464\n",
              "150                pln   504.103100  2296.845733   Topic2  -5.4421  -0.6688\n",
              "16196      simak_bawah   273.959945   418.371753   Topic2  -6.0519   0.4243\n",
              "169              bahas   240.773634   355.647297   Topic2  -6.1811   0.4576\n",
              "\n",
              "[144 rows x 6 columns], token_table=       Topic      Freq         Term\n",
              "term                               \n",
              "1323       1  0.024055    airlangga\n",
              "1323       2  0.974248    airlangga\n",
              "11838      2  0.997448          ako\n",
              "1640       2  0.996425          ana\n",
              "8000       1  0.008648  anggota_dpr\n",
              "...      ...       ...          ...\n",
              "10535      2  0.985524    udien_pln\n",
              "54         1  0.991128        usaha\n",
              "54         2  0.010566        usaha\n",
              "658        1  0.011826          vii\n",
              "658        2  0.993399          vii\n",
              "\n",
              "[217 rows x 3 columns], R=30, lambda_step=0.01, plot_opts={'xlab': 'PC1', 'ylab': 'PC2'}, topic_order=[1, 2])"
            ]
          },
          "execution_count": 197,
          "metadata": {},
          "output_type": "execute_result"
        }
      ],
      "source": [
        "pyLDAvis.enable_notebook()\n",
        "panel = pyLDAvis.gensim_models.prepare(model, corpus_tfidf, dictionary, mds='tsne')\n",
        "panel"
      ]
    },
    {
      "cell_type": "code",
      "execution_count": null,
      "metadata": {},
      "outputs": [],
      "source": []
    }
  ],
  "metadata": {
    "accelerator": "TPU",
    "colab": {
      "collapsed_sections": [],
      "name": "Data Kualitatif- LDA.ipynb",
      "provenance": []
    },
    "kernelspec": {
      "display_name": "Python 3.9.7 ('venv': venv)",
      "language": "python",
      "name": "python3"
    },
    "language_info": {
      "codemirror_mode": {
        "name": "ipython",
        "version": 3
      },
      "file_extension": ".py",
      "mimetype": "text/x-python",
      "name": "python",
      "nbconvert_exporter": "python",
      "pygments_lexer": "ipython3",
      "version": "3.9.7"
    },
    "vscode": {
      "interpreter": {
        "hash": "00a08332a9656d07fb15950983716ae1dc3baeb86e6935d123f31572ce96d1e2"
      }
    }
  },
  "nbformat": 4,
  "nbformat_minor": 0
}
