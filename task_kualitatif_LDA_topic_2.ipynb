{
  "cells": [
    {
      "cell_type": "code",
      "execution_count": 1,
      "metadata": {
        "id": "xLTR8avada_P"
      },
      "outputs": [],
      "source": [
        "import warnings\n",
        "warnings.filterwarnings('ignore')\n",
        "import pandas as pd #a library to make the data more structured55r56y6y"
      ]
    },
    {
      "cell_type": "code",
      "execution_count": 2,
      "metadata": {
        "colab": {
          "base_uri": "https://localhost:8080/",
          "height": 372
        },
        "id": "SqJ6bJwOdmxH",
        "outputId": "4c42ea1b-af2c-4219-d627-0e55f2195cc1"
      },
      "outputs": [],
      "source": [
        "df = pd.read_csv('data/text-preprocessing.csv')\n",
        "df = df.drop(columns=['Unnamed: 0'])"
      ]
    },
    {
      "cell_type": "code",
      "execution_count": 3,
      "metadata": {
        "colab": {
          "base_uri": "https://localhost:8080/"
        },
        "id": "MxWR5yAqMP_S",
        "outputId": "d9a66715-3b7c-449c-9244-5372b4ced4b5"
      },
      "outputs": [
        {
          "data": {
            "text/plain": [
              "(109705, 23)"
            ]
          },
          "execution_count": 3,
          "metadata": {},
          "output_type": "execute_result"
        }
      ],
      "source": [
        "df.shape"
      ]
    },
    {
      "cell_type": "code",
      "execution_count": 4,
      "metadata": {
        "colab": {
          "base_uri": "https://localhost:8080/"
        },
        "id": "Oy0uwRRPcksH",
        "outputId": "ba7c1c66-ad10-4e2d-cc0c-781bcecd9334"
      },
      "outputs": [
        {
          "name": "stdout",
          "output_type": "stream",
          "text": [
            "<class 'pandas.core.frame.DataFrame'>\n",
            "RangeIndex: 109705 entries, 0 to 109704\n",
            "Data columns (total 23 columns):\n",
            " #   Column                       Non-Null Count   Dtype  \n",
            "---  ------                       --------------   -----  \n",
            " 0   tweet_id                     109705 non-null  int64  \n",
            " 1   author_name                  109705 non-null  object \n",
            " 2   author_username              109705 non-null  object \n",
            " 3   author_location              78272 non-null   object \n",
            " 4   content                      109705 non-null  object \n",
            " 5   content_clean                109437 non-null  object \n",
            " 6   like_count                   109604 non-null  float64\n",
            " 7   retweet_count                17012 non-null   float64\n",
            " 8   reply_count                  16620 non-null   float64\n",
            " 9   source                       109705 non-null  object \n",
            " 10  keyword                      109705 non-null  object \n",
            " 11  address                      64928 non-null   object \n",
            " 12  longitude                    66438 non-null   float64\n",
            " 13  latitude                     66438 non-null   float64\n",
            " 14  province                     64297 non-null   object \n",
            " 15  city                         41183 non-null   object \n",
            " 16  country                      66419 non-null   object \n",
            " 17  created_at                   109705 non-null  object \n",
            " 18  content_token                109705 non-null  object \n",
            " 19  tweet_tokens_fdist           109705 non-null  object \n",
            " 20  tweet_tokens_WSW             109705 non-null  object \n",
            " 21  tweet_tokens_stemmed         109705 non-null  object \n",
            " 22  tweet_tokens_stemmed_string  109404 non-null  object \n",
            "dtypes: float64(5), int64(1), object(17)\n",
            "memory usage: 19.3+ MB\n"
          ]
        }
      ],
      "source": [
        "df.info()"
      ]
    },
    {
      "cell_type": "code",
      "execution_count": 5,
      "metadata": {
        "id": "3PYA4slIdNBD"
      },
      "outputs": [],
      "source": [
        "df_new = df[df['tweet_tokens_stemmed_string'].notnull()]"
      ]
    },
    {
      "cell_type": "code",
      "execution_count": 6,
      "metadata": {
        "colab": {
          "base_uri": "https://localhost:8080/"
        },
        "id": "uiih8RfJcG3C",
        "outputId": "cdec65c1-675f-4022-e661-e57038cd2a71"
      },
      "outputs": [
        {
          "data": {
            "text/plain": [
              "0    lomba poster ilmiah energi baru deadline janua...\n",
              "1                 elaahhh ngomong energi baru tv biruu\n",
              "2    daerah pencil membutuhkam listrik manfaat ener...\n",
              "3    tarik materi energi baru baek ganti nama propa...\n",
              "4    aneh inget jatropa alias minyak jarak bbrp jat...\n",
              "Name: tweet_tokens_stemmed_string, dtype: object"
            ]
          },
          "execution_count": 6,
          "metadata": {},
          "output_type": "execute_result"
        }
      ],
      "source": [
        "df_new['tweet_tokens_stemmed_string'].head()"
      ]
    },
    {
      "cell_type": "code",
      "execution_count": 7,
      "metadata": {
        "colab": {
          "base_uri": "https://localhost:8080/"
        },
        "id": "GGejGqbRh6W4",
        "outputId": "89c44e3a-3677-4a98-9a81-d3184e372c0d"
      },
      "outputs": [
        {
          "name": "stdout",
          "output_type": "stream",
          "text": [
            "Case Folding Result : \n",
            "\n",
            "0    lomba poster ilmiah energi baru deadline janua...\n",
            "1                 elaahhh ngomong energi baru tv biruu\n",
            "2    daerah pencil membutuhkam listrik manfaat ener...\n",
            "3    tarik materi energi baru baek ganti nama propa...\n",
            "4    aneh inget jatropa alias minyak jarak bbrp jat...\n",
            "Name: tweet_tokens_stemmed_string, dtype: object\n"
          ]
        }
      ],
      "source": [
        "#lower text\n",
        "# ------ Case Folding --------\n",
        "# gunakan fungsi Series.str.lower() pada Pandas\n",
        "df_new['tweet_tokens_stemmed_string'] = df_new['tweet_tokens_stemmed_string'].str.lower()\n",
        "\n",
        "\n",
        "print('Case Folding Result : \\n')\n",
        "print(df_new['tweet_tokens_stemmed_string'].head(5))\n"
      ]
    },
    {
      "cell_type": "code",
      "execution_count": 8,
      "metadata": {
        "colab": {
          "base_uri": "https://localhost:8080/"
        },
        "id": "Aox9mh-NFJaY",
        "outputId": "dc62a84f-cf29-41fc-a1b4-83dbeff37ddc"
      },
      "outputs": [
        {
          "name": "stdout",
          "output_type": "stream",
          "text": [
            "109404\n"
          ]
        }
      ],
      "source": [
        "text = df_new['tweet_tokens_stemmed_string']\n",
        "text_list =  [i.split() for i in text]\n",
        "#text_list =  [i for i in text]\n",
        "print(len(text_list))"
      ]
    },
    {
      "cell_type": "code",
      "execution_count": 9,
      "metadata": {
        "colab": {
          "base_uri": "https://localhost:8080/"
        },
        "id": "Z4Y-nzFZdmOz",
        "outputId": "a63b5e1c-301a-4d94-f1bb-9d06647e3422"
      },
      "outputs": [
        {
          "name": "stdout",
          "output_type": "stream",
          "text": [
            "Frequency Tokens : \n",
            "\n"
          ]
        },
        {
          "data": {
            "text/plain": [
              "0    [( , 11), (a, 10), (e, 6), (i, 6), (s, 5), (r,...\n",
              "1    [( , 5), (e, 3), (a, 3), (h, 3), (n, 3), (g, 3...\n",
              "2    [(a, 7), ( , 6), (e, 5), (r, 4), (i, 4), (m, 4...\n",
              "3    [(a, 10), ( , 8), (r, 5), (i, 5), (e, 4), (t, ...\n",
              "4    [(a, 12), ( , 12), (r, 8), (e, 7), (b, 6), (i,...\n",
              "Name: tweet_tokens_stemmed_string, dtype: object"
            ]
          },
          "execution_count": 9,
          "metadata": {},
          "output_type": "execute_result"
        }
      ],
      "source": [
        "#masi salah hasil frekuensi nya\n",
        "# NLTK calc frequency distribution\n",
        "from nltk.probability import FreqDist\n",
        "def freqDist_wrapper(text):\n",
        "    return FreqDist(text)\n",
        "\n",
        "df_new['tweet_tokens_stemmed_string'] = df_new['tweet_tokens_stemmed_string'].apply(freqDist_wrapper)\n",
        "\n",
        "print('Frequency Tokens : \\n') \n",
        "df_new['tweet_tokens_stemmed_string'].head().apply(lambda x : x.most_common())"
      ]
    },
    {
      "cell_type": "code",
      "execution_count": 10,
      "metadata": {
        "id": "fHH5EmZWfh7Q"
      },
      "outputs": [],
      "source": [
        "#https://sites.unpad.ac.id/widodo/2021/03/09/nlp-dengan-python/"
      ]
    },
    {
      "cell_type": "code",
      "execution_count": 11,
      "metadata": {
        "id": "qnLvYqUHc5Jj"
      },
      "outputs": [],
      "source": [
        "import gensim\n",
        "#Create Bigram & Trigram Models \n",
        "from gensim.models import Phrases\n",
        "# Add bigrams and trigrams to docs,minimum count 10 means only that appear 10 times or more.\n",
        "bigram = Phrases(text_list, min_count=10)\n",
        "trigram = Phrases(bigram[text_list])\n",
        "for idx in range(len(text_list)):\n",
        "    for token in bigram[text_list[idx]]:\n",
        "        if '_' in token:\n",
        "            # Token is a bigram, add to document.\n",
        "            text_list[idx].append(token)\n",
        "    for token in trigram[text_list[idx]]:\n",
        "        if '_' in token:\n",
        "            # Token is a bigram, add to document.\n",
        "            text_list[idx].append(token)"
      ]
    },
    {
      "cell_type": "code",
      "execution_count": 12,
      "metadata": {
        "colab": {
          "base_uri": "https://localhost:8080/"
        },
        "id": "EO5hqr3Ufk0S",
        "outputId": "0ff90687-35bf-4851-e1fd-5e3d61b8f9dd"
      },
      "outputs": [
        {
          "name": "stdout",
          "output_type": "stream",
          "text": [
            "Dictionary<16354 unique tokens: ['deadline', 'derajat', 'ilmiah', 'januari', 'lomba']...>\n"
          ]
        }
      ],
      "source": [
        "from gensim import corpora, models\n",
        "# Create a dictionary representation of the documents.\n",
        "dictionary = corpora.Dictionary(text_list)\n",
        "dictionary.filter_extremes(no_below=5, no_above=0.2) \n",
        "#no_below (int, optional) – Keep tokens which are contained in at least no_below documents.\n",
        "#no_above (float, optional) – Keep tokens which are contained in no more than no_above documents (fraction of total corpus size, not an absolute number).\n",
        "print(dictionary)"
      ]
    },
    {
      "cell_type": "code",
      "execution_count": 13,
      "metadata": {
        "colab": {
          "base_uri": "https://localhost:8080/"
        },
        "id": "oF92M3p_fqlQ",
        "outputId": "3b77b4e1-2901-4b52-9698-4ea50bb0fa14"
      },
      "outputs": [
        {
          "name": "stdout",
          "output_type": "stream",
          "text": [
            "109404\n",
            "[(35, 1), (188, 1)]\n"
          ]
        }
      ],
      "source": [
        "#https://radimrehurek.com/gensim/tut1.html \n",
        "#build corpus\n",
        "# Converting list of documents (corpus) into Document Term Matrix using dictionary prepared above.\n",
        "doc_term_matrix = [dictionary.doc2bow(doc) for doc in text_list]\n",
        "#The function doc2bow converts document (a list of words) into the bag-of-words format\n",
        "'''The function doc2bow() simply counts the number of occurrences of each distinct word, \n",
        "converts the word to its integer word id and returns the result as a sparse vector. \n",
        "The sparse vector [(0, 1), (1, 1)] therefore reads: in the document “Human computer interaction”, \n",
        "the words computer (id 0) and human (id 1) appear once; \n",
        "the other ten dictionary words appear (implicitly) zero times.'''\n",
        "print(len(doc_term_matrix))\n",
        "print(doc_term_matrix[100])\n",
        "tfidf = models.TfidfModel(doc_term_matrix) #build TF-IDF model\n",
        "corpus_tfidf = tfidf[doc_term_matrix]"
      ]
    },
    {
      "cell_type": "code",
      "execution_count": 14,
      "metadata": {
        "id": "m5ZUrlyFfx85"
      },
      "outputs": [],
      "source": [
        "from gensim.models.coherencemodel import CoherenceModel\n",
        "from gensim.models.ldamodel import LdaModel\n",
        "from gensim.corpora.dictionary import Dictionary\n",
        "from numpy import array\n",
        "#function to compute coherence values\n",
        "def compute_coherence_values(dictionary, corpus, texts, limit, start, step):\n",
        "    coherence_values = []\n",
        "    model_list = []\n",
        "    for num_topics in range(start, limit, step):\n",
        "        model = LdaModel(corpus=corpus, id2word=dictionary, num_topics=num_topics, iterations=100, random_state=1)\n",
        "        model_list.append(model)\n",
        "        coherencemodel = CoherenceModel(model=model, texts=texts, dictionary=dictionary, coherence='c_v')\n",
        "        coherence_values.append(coherencemodel.get_coherence())\n",
        "        \n",
        "    return model_list, coherence_values"
      ]
    },
    {
      "cell_type": "code",
      "execution_count": 15,
      "metadata": {
        "colab": {
          "base_uri": "https://localhost:8080/",
          "height": 279
        },
        "id": "IBkB1bzOf3AP",
        "outputId": "73fe3950-434a-4fa4-8f87-77a708f4fe7c"
      },
      "outputs": [
        {
          "data": {
            "image/png": "[encoded data removed]",
            "text/plain": [
              "<Figure size 432x288 with 1 Axes>"
            ]
          },
          "metadata": {
            "needs_background": "light"
          },
          "output_type": "display_data"
        }
      ],
      "source": [
        "start=1\n",
        "limit=21\n",
        "step=1\n",
        "model_list, coherence_values = compute_coherence_values(dictionary, corpus=corpus_tfidf, \n",
        "                                                        texts=text_list, start=start, limit=limit, step=step)\n",
        "#show graphs\n",
        "import matplotlib.pyplot as plt\n",
        "x = range(start, limit, step)\n",
        "plt.plot(x, coherence_values)\n",
        "plt.xlabel(\"Num Topics\")\n",
        "plt.ylabel(\"Coherence score\")\n",
        "plt.legend((\"coherence_values\"), loc='best')\n",
        "plt.show()"
      ]
    },
    {
      "cell_type": "code",
      "execution_count": 16,
      "metadata": {
        "colab": {
          "base_uri": "https://localhost:8080/"
        },
        "id": "qaNFv0PIgDYh",
        "outputId": "af7077fa-f1e8-4fb7-e0d6-d84eb319f207"
      },
      "outputs": [
        {
          "name": "stdout",
          "output_type": "stream",
          "text": [
            "Num Topics = 1  has Coherence Value of 0.517\n",
            "Num Topics = 2  has Coherence Value of 0.539\n",
            "Num Topics = 3  has Coherence Value of 0.436\n",
            "Num Topics = 4  has Coherence Value of 0.435\n",
            "Num Topics = 5  has Coherence Value of 0.423\n",
            "Num Topics = 6  has Coherence Value of 0.402\n",
            "Num Topics = 7  has Coherence Value of 0.424\n",
            "Num Topics = 8  has Coherence Value of 0.386\n",
            "Num Topics = 9  has Coherence Value of 0.41\n",
            "Num Topics = 10  has Coherence Value of 0.369\n",
            "Num Topics = 11  has Coherence Value of 0.332\n",
            "Num Topics = 12  has Coherence Value of 0.363\n",
            "Num Topics = 13  has Coherence Value of 0.346\n",
            "Num Topics = 14  has Coherence Value of 0.352\n",
            "Num Topics = 15  has Coherence Value of 0.321\n",
            "Num Topics = 16  has Coherence Value of 0.322\n",
            "Num Topics = 17  has Coherence Value of 0.321\n",
            "Num Topics = 18  has Coherence Value of 0.327\n",
            "Num Topics = 19  has Coherence Value of 0.328\n",
            "Num Topics = 20  has Coherence Value of 0.313\n"
          ]
        }
      ],
      "source": [
        "# Print the coherence scores\n",
        "for m, cv in zip(x, coherence_values):\n",
        "    print(\"Num Topics =\", m, \" has Coherence Value of\", round(cv, 3))"
      ]
    },
    {
      "cell_type": "code",
      "execution_count": 17,
      "metadata": {
        "colab": {
          "base_uri": "https://localhost:8080/"
        },
        "id": "SWVlH8xAgPCu",
        "outputId": "7cc1b7d8-54f0-441e-cb60-e3aa1e8684fa"
      },
      "outputs": [],
      "source": [
        "model = LdaModel(corpus=corpus_tfidf, id2word=dictionary, num_topics=2, random_state=1) #num topic menyesuaikan hasil dari coherence value paling tinggi"
      ]
    },
    {
      "cell_type": "code",
      "execution_count": 18,
      "metadata": {},
      "outputs": [
        {
          "name": "stdout",
          "output_type": "stream",
          "text": [
            "Topic: 1 Word: 0.013*\"pln\" + 0.013*\"pln_id\" + 0.009*\"kembang\" + 0.008*\"bangkit_listrik\" + 0.008*\"indonesia\" + 0.008*\"bangkit\" + 0.008*\"listrik\" + 0.006*\"menteri_esdm\" + 0.006*\"target\" + 0.006*\"capai_target\"\n",
            "Topic: 2 Word: 0.010*\"ruu\" + 0.008*\"erick_thohir\" + 0.005*\"menteri_bumn\" + 0.005*\"tinggi_indonesia\" + 0.005*\"larang_ekspor\" + 0.004*\"erick\" + 0.004*\"capai_persen\" + 0.004*\"kuat_bidang\" + 0.004*\"thohir\" + 0.004*\"mobil_listrik\"\n"
          ]
        }
      ],
      "source": [
        "for idx, topic in model.print_topics():\n",
        "    print('Topic: {} Word: {}'.format(idx+1, topic))\n",
        "    # yg belum remove Yang, yg,trus lower text"
      ]
    },
    {
      "cell_type": "code",
      "execution_count": 19,
      "metadata": {},
      "outputs": [
        {
          "name": "stdout",
          "output_type": "stream",
          "text": [
            "1 0.013*\"pln\" + 0.013*\"pln_id\" + 0.009*\"kembang\" + 0.008*\"bangkit_listrik\" + 0.008*\"indonesia\" + 0.008*\"bangkit\" + 0.008*\"listrik\" + 0.006*\"menteri_esdm\" + 0.006*\"target\" + 0.006*\"capai_target\" \n",
            "\n",
            "2 0.010*\"ruu\" + 0.008*\"erick_thohir\" + 0.005*\"menteri_bumn\" + 0.005*\"tinggi_indonesia\" + 0.005*\"larang_ekspor\" + 0.004*\"erick\" + 0.004*\"capai_persen\" + 0.004*\"kuat_bidang\" + 0.004*\"thohir\" + 0.004*\"mobil_listrik\" \n",
            "\n"
          ]
        }
      ],
      "source": [
        "for i in range(0, model.num_topics):\n",
        "    print(i+1,model.print_topic(i), \"\\n\")"
      ]
    },
    {
      "cell_type": "code",
      "execution_count": 20,
      "metadata": {
        "colab": {
          "base_uri": "https://localhost:8080/"
        },
        "id": "t5CsIHbigduf",
        "outputId": "ad397ac7-6944-411e-f515-2a9344191f97"
      },
      "outputs": [
        {
          "name": "stdout",
          "output_type": "stream",
          "text": [
            "None\n"
          ]
        }
      ],
      "source": [
        "import pandas as pd\n",
        "top_words_per_topic = []\n",
        "for t in range(model.num_topics):\n",
        "    top_words_per_topic.extend([(t, ) + x for x in model.show_topic(t, topn = 5)]) #ubah2 yg ini\n",
        "# df=pd.DataFrame(top_words_per_topic, columns=['Topic', 'Word', 'P']).to_csv(\"top_words_topic_20.csv\")\n",
        "df = pd.DataFrame(top_words_per_topic, columns=['Topic', 'Word','P']).to_excel(\"data/lda_model_topic_2.xlsx\")\n",
        "print(df)\n"
      ]
    },
    {
      "cell_type": "code",
      "execution_count": 21,
      "metadata": {
        "colab": {
          "base_uri": "https://localhost:8080/"
        },
        "id": "QSxbGusaEOl8",
        "outputId": "8776726e-83fd-480b-c4cb-9b3cdd8883a3"
      },
      "outputs": [
        {
          "name": "stdout",
          "output_type": "stream",
          "text": [
            "Requirement already satisfied: pyLDAvis in /Users/indralionardy/Personal/twitter/venv/lib/python3.9/site-packages (3.3.1)\n",
            "Requirement already satisfied: joblib in /Users/indralionardy/Personal/twitter/venv/lib/python3.9/site-packages (from pyLDAvis) (1.1.0)\n",
            "Requirement already satisfied: numexpr in /Users/indralionardy/Personal/twitter/venv/lib/python3.9/site-packages (from pyLDAvis) (2.8.3)\n",
            "Requirement already satisfied: setuptools in /Users/indralionardy/Personal/twitter/venv/lib/python3.9/site-packages (from pyLDAvis) (57.4.0)\n",
            "Requirement already satisfied: numpy>=1.20.0 in /Users/indralionardy/Personal/twitter/venv/lib/python3.9/site-packages (from pyLDAvis) (1.22.4)\n",
            "Requirement already satisfied: scikit-learn in /Users/indralionardy/Personal/twitter/venv/lib/python3.9/site-packages (from pyLDAvis) (1.1.1)\n",
            "Requirement already satisfied: future in /Users/indralionardy/Personal/twitter/venv/lib/python3.9/site-packages (from pyLDAvis) (0.18.2)\n",
            "Requirement already satisfied: sklearn in /Users/indralionardy/Personal/twitter/venv/lib/python3.9/site-packages (from pyLDAvis) (0.0)\n",
            "Requirement already satisfied: scipy in /Users/indralionardy/Personal/twitter/venv/lib/python3.9/site-packages (from pyLDAvis) (1.8.1)\n",
            "Requirement already satisfied: gensim in /Users/indralionardy/Personal/twitter/venv/lib/python3.9/site-packages (from pyLDAvis) (4.2.0)\n",
            "Requirement already satisfied: jinja2 in /Users/indralionardy/Personal/twitter/venv/lib/python3.9/site-packages (from pyLDAvis) (3.1.2)\n",
            "Requirement already satisfied: funcy in /Users/indralionardy/Personal/twitter/venv/lib/python3.9/site-packages (from pyLDAvis) (1.17)\n",
            "Requirement already satisfied: pandas>=1.2.0 in /Users/indralionardy/Personal/twitter/venv/lib/python3.9/site-packages (from pyLDAvis) (1.4.2)\n",
            "Requirement already satisfied: pytz>=2020.1 in /Users/indralionardy/Personal/twitter/venv/lib/python3.9/site-packages (from pandas>=1.2.0->pyLDAvis) (2022.1)\n",
            "Requirement already satisfied: python-dateutil>=2.8.1 in /Users/indralionardy/Personal/twitter/venv/lib/python3.9/site-packages (from pandas>=1.2.0->pyLDAvis) (2.8.2)\n",
            "Requirement already satisfied: smart-open>=1.8.1 in /Users/indralionardy/Personal/twitter/venv/lib/python3.9/site-packages (from gensim->pyLDAvis) (5.2.1)\n",
            "Requirement already satisfied: MarkupSafe>=2.0 in /Users/indralionardy/Personal/twitter/venv/lib/python3.9/site-packages (from jinja2->pyLDAvis) (2.1.1)\n",
            "Requirement already satisfied: packaging in /Users/indralionardy/Personal/twitter/venv/lib/python3.9/site-packages (from numexpr->pyLDAvis) (21.3)\n",
            "Requirement already satisfied: threadpoolctl>=2.0.0 in /Users/indralionardy/Personal/twitter/venv/lib/python3.9/site-packages (from scikit-learn->pyLDAvis) (3.1.0)\n",
            "Requirement already satisfied: six>=1.5 in /Users/indralionardy/Personal/twitter/venv/lib/python3.9/site-packages (from python-dateutil>=2.8.1->pandas>=1.2.0->pyLDAvis) (1.16.0)\n",
            "Requirement already satisfied: pyparsing!=3.0.5,>=2.0.2 in /Users/indralionardy/Personal/twitter/venv/lib/python3.9/site-packages (from packaging->numexpr->pyLDAvis) (3.0.9)\n"
          ]
        }
      ],
      "source": [
        "#ini dilakukan jika module belum tersedia\n",
        "!pip install pyLDAvis\n",
        "#!apt-get -qq install -y pyLDAvis"
      ]
    },
    {
      "cell_type": "code",
      "execution_count": 22,
      "metadata": {
        "colab": {
          "base_uri": "https://localhost:8080/"
        },
        "id": "5BGTseD4gFRQ",
        "outputId": "39e9537e-6629-43ea-bfa0-e077c4ac7f89"
      },
      "outputs": [
        {
          "name": "stderr",
          "output_type": "stream",
          "text": [
            "/Users/indralionardy/Personal/sara/tugas-akhir/venv/lib/python3.9/site-packages/past/builtins/misc.py:45: DeprecationWarning: the imp module is deprecated in favour of importlib; see the module's documentation for alternative uses\n",
            "  from imp import reload\n",
            "/Users/indralionardy/Personal/sara/tugas-akhir/venv/lib/python3.9/site-packages/past/builtins/misc.py:45: DeprecationWarning: the imp module is deprecated in favour of importlib; see the module's documentation for alternative uses\n",
            "  from imp import reload\n",
            "/Users/indralionardy/Personal/sara/tugas-akhir/venv/lib/python3.9/site-packages/past/builtins/misc.py:45: DeprecationWarning: the imp module is deprecated in favour of importlib; see the module's documentation for alternative uses\n",
            "  from imp import reload\n",
            "/Users/indralionardy/Personal/sara/tugas-akhir/venv/lib/python3.9/site-packages/past/builtins/misc.py:45: DeprecationWarning: the imp module is deprecated in favour of importlib; see the module's documentation for alternative uses\n",
            "  from imp import reload\n",
            "/Users/indralionardy/Personal/sara/tugas-akhir/venv/lib/python3.9/site-packages/past/builtins/misc.py:45: DeprecationWarning: the imp module is deprecated in favour of importlib; see the module's documentation for alternative uses\n",
            "  from imp import reload\n",
            "/Users/indralionardy/Personal/sara/tugas-akhir/venv/lib/python3.9/site-packages/past/builtins/misc.py:45: DeprecationWarning: the imp module is deprecated in favour of importlib; see the module's documentation for alternative uses\n",
            "  from imp import reload\n",
            "/Users/indralionardy/Personal/sara/tugas-akhir/venv/lib/python3.9/site-packages/past/builtins/misc.py:45: DeprecationWarning: the imp module is deprecated in favour of importlib; see the module's documentation for alternative uses\n",
            "  from imp import reload\n",
            "/Users/indralionardy/Personal/sara/tugas-akhir/venv/lib/python3.9/site-packages/past/builtins/misc.py:45: DeprecationWarning: the imp module is deprecated in favour of importlib; see the module's documentation for alternative uses\n",
            "  from imp import reload\n",
            "/Users/indralionardy/Personal/sara/tugas-akhir/venv/lib/python3.9/site-packages/past/builtins/misc.py:45: DeprecationWarning: the imp module is deprecated in favour of importlib; see the module's documentation for alternative uses\n",
            "  from imp import reload\n"
          ]
        },
        {
          "name": "stdout",
          "output_type": "stream",
          "text": [
            "PreparedData(topic_coordinates=             x    y  topics  cluster       Freq\n",
            "topic                                          \n",
            "0      0.20292  0.0       1        1  59.021414\n",
            "1     -0.20292  0.0       2        1  40.978586, topic_info=                  Term         Freq        Total Category  logprob  loglift\n",
            "7140            pln_id  2083.000000  2083.000000  Default  30.0000  30.0000\n",
            "150                pln  2100.000000  2100.000000  Default  29.0000  29.0000\n",
            "8163      erick_thohir   938.000000   938.000000  Default  28.0000  28.0000\n",
            "3362               ruu  1115.000000  1115.000000  Default  27.0000  27.0000\n",
            "783    bangkit_listrik  1345.000000  1345.000000  Default  26.0000  26.0000\n",
            "...                ...          ...          ...      ...      ...      ...\n",
            "16340  inggris_sepakat   311.870154   358.588195   Topic2  -5.8778   0.7525\n",
            "5179          sulawesi   294.871302   343.430303   Topic2  -5.9338   0.7397\n",
            "245                dpr   276.461055   318.716112   Topic2  -5.9983   0.7499\n",
            "16195      simak_bawah   328.174404   441.220884   Topic2  -5.8268   0.5961\n",
            "169              bahas   244.421764   358.309245   Topic2  -6.1215   0.5096\n",
            "\n",
            "[141 rows x 6 columns], token_table=       Topic      Freq                Term\n",
            "term                                      \n",
            "1323       1  0.016215           airlangga\n",
            "1323       2  0.985091           airlangga\n",
            "9086       1  0.010566  airlangga_hartarto\n",
            "9086       2  0.993209  airlangga_hartarto\n",
            "11837      2  1.000376                 ako\n",
            "...      ...       ...                 ...\n",
            "1049       1  0.035712                  uu\n",
            "1049       2  0.964227                  uu\n",
            "658        2  0.998148                 vii\n",
            "10521      1  0.073292          yantie_pln\n",
            "10521      2  0.926414          yantie_pln\n",
            "\n",
            "[216 rows x 3 columns], R=30, lambda_step=0.01, plot_opts={'xlab': 'PC1', 'ylab': 'PC2'}, topic_order=[1, 2])\n"
          ]
        }
      ],
      "source": [
        "#import gensim\n",
        "import pyLDAvis\n",
        "import pyLDAvis.gensim_models;pyLDAvis.enable_notebook()\n",
        "data = pyLDAvis.gensim_models.prepare(model, corpus_tfidf, dictionary)\n",
        "print(data)\n",
        "pyLDAvis.save_html(data, 'data/lda-gensim_clean_kualitatif2.html')"
      ]
    },
    {
      "cell_type": "code",
      "execution_count": 23,
      "metadata": {},
      "outputs": [
        {
          "data": {
            "text/html": [
              "\n",
              "<link rel=\"stylesheet\" type=\"text/css\" href=\"https://cdn.jsdelivr.net/gh/bmabey/pyLDAvis@3.3.1/pyLDAvis/js/ldavis.v1.0.0.css\">\n",
              "\n",
              "\n",
              "<div id=\"ldavis_el458341403734651228488898209569\"></div>\n",
              "<script type=\"text/javascript\">\n",
              "\n",
              "var ldavis_el458341403734651228488898209569_data = {\"mdsDat\": {\"x\": [-60.31231689453125, 60.31256103515625], \"y\": [141.36962890625, -141.369140625], \"topics\": [1, 2], \"cluster\": [1, 1], \"Freq\": [59.0214060819617, 40.97859391803829]}, \"tinfo\": {\"Term\": [\"pln_id\", \"pln\", \"erick_thohir\", \"ruu\", \"bangkit_listrik\", \"bangkit\", \"listrik\", \"kembang\", \"menteri_esdm\", \"menteri_bumn\", \"target\", \"capai_target\", \"id\", \"tinggi_indonesia\", \"indonesia\", \"ramah_lingkung\", \"erick\", \"larang_ekspor\", \"transisi\", \"capai_persen\", \"capai\", \"panas_bumi\", \"thohir\", \"baur\", \"manfaat\", \"dukung\", \"kuat_bidang\", \"komisi_vii\", \"mobil_listrik\", \"sulawesi_selatan\", \"bangkit_listrik\", \"bangkit\", \"menteri_esdm\", \"capai_target\", \"panas_bumi\", \"ramah_lingkung\", \"pln_id\", \"kejar_target\", \"bumi\", \"esdm\", \"tenaga\", \"tenaga_surya\", \"kurang_emisi\", \"ramah\", \"target\", \"surya\", \"bahan_bakar\", \"panas\", \"kapasitas\", \"alih\", \"lingkung\", \"tambah\", \"kejar\", \"genjot\", \"cepat\", \"gas_bumi\", \"rp_triliun\", \"batubara\", \"fosil\", \"emisi\", \"pln\", \"listrik\", \"id\", \"capai\", \"manfaat\", \"transisi\", \"investasi\", \"baur\", \"bangun\", \"plts_atap\", \"butuh\", \"kembang\", \"dukung\", \"guna\", \"perintah\", \"potensi\", \"indonesia\", \"dorong\", \"proyek\", \"menteri\", \"tingkat\", \"plts\", \"usaha\", \"bumn\", \"komisi_vii\", \"erick_thohir\", \"capai_persen\", \"micho\", \"thohir\", \"vii\", \"komisi\", \"erick\", \"sulawesi_selatan\", \"perintah_serius\", \"arsjad_rasjid\", \"menko_airlangga\", \"permen_esdm\", \"energy_watch\", \"anggota_dpr\", \"harmonisasi_ruu\", \"asia_tenggara\", \"pulau_sumba\", \"dyah_roro\", \"kawasan_industri\", \"ako\", \"ana\", \"bukit_asam\", \"hambat_kembang\", \"dpr_ri\", \"airlangga_hartarto\", \"tingkat_porsi\", \"sumatera_utara\", \"feed_tariff\", \"bahas_ruu\", \"mobil_listrik\", \"menteri_bumn\", \"e_hal\", \"tinggi_indonesia\", \"menteri_bumn_erick_thohir\", \"pulau\", \"temu_pm\", \"udien_pln\", \"larang_ekspor\", \"kuat_bidang\", \"dasamuka_pln\", \"airlangga\", \"ruu\", \"penuh_butuh\", \"rencana_ekspor\", \"uu\", \"heroes\", \"darmawan_prasodjo\", \"udien\", \"renewable_content\", \"yantie_pln\", \"keren_banget\", \"inggris_sepakat\", \"sulawesi\", \"dpr\", \"simak_bawah\", \"bahas\"], \"Freq\": [2083.0, 2100.0, 938.0, 1115.0, 1345.0, 1332.0, 1275.0, 1440.0, 1014.0, 604.0, 985.0, 930.0, 930.0, 548.0, 1397.0, 830.0, 484.0, 537.0, 920.0, 449.0, 795.0, 724.0, 419.0, 779.0, 733.0, 897.0, 448.0, 401.0, 414.0, 378.0, 1344.882497794865, 1331.7844753134668, 1013.6154690102516, 929.065948389471, 723.2586458386966, 829.1805146743861, 2079.252933649594, 550.2513983714364, 334.2039241720162, 479.11417421244704, 330.20117811997073, 301.41619062985035, 326.6537690277557, 307.50895012961894, 982.1372912853985, 297.66594283043736, 270.24088012514204, 258.9435762358077, 334.3288944716924, 333.568767384507, 386.41481276377874, 263.2283735707198, 275.4963535522812, 254.79218758949543, 445.3838054191228, 224.966776615515, 205.9482161781955, 307.7503029880317, 437.4383528256024, 258.2623070132522, 2082.2629741870014, 1270.0689364155512, 925.9819786039731, 791.6847201829879, 730.0546853144295, 911.2133791437533, 608.493233397203, 772.3623777444237, 693.2590530756544, 379.8246177045727, 436.49810720670547, 1411.8066882627957, 877.475654763624, 664.9645376072094, 779.1617776405244, 534.8197879726591, 1336.377049816061, 598.2822974057567, 450.7164191627039, 519.3261218110908, 583.2045019336997, 492.03626001859135, 473.75236214967055, 496.93280321245055, 400.7348387272232, 937.6861094406829, 449.06584238944225, 356.1008276518369, 418.31614997081954, 164.89235032180974, 207.62558976859034, 482.74971968949444, 377.79108652887817, 176.53655485672286, 152.11903484012217, 303.5443748157113, 137.96169972288433, 147.35282823780926, 112.05223930683891, 121.88027452229107, 102.17705518691089, 70.74662332094378, 133.29781434447037, 263.5292842940993, 74.50488031932434, 66.74844806898359, 130.16485875509932, 136.29608285029266, 166.82551373386153, 94.02299078740013, 237.37225162362395, 62.20810902266906, 89.66393036749031, 189.29243658541523, 410.80260424873194, 593.5782002693575, 305.46955369851025, 538.1385028114836, 161.303615508223, 151.6350894112533, 149.51042691611522, 324.64984469637244, 522.4808927942985, 437.1142464401937, 231.4708030967175, 242.6147172492101, 1062.2431066616946, 331.7092055077153, 231.72275647271798, 351.39132935387636, 381.17178287735493, 215.65172671443113, 254.79037256966677, 296.8042137079073, 315.8320727836702, 249.2222003676767, 311.87021677029185, 294.8713613814108, 276.4611108281127, 328.17446996177017, 244.42181323997468], \"Total\": [2083.0, 2100.0, 938.0, 1115.0, 1345.0, 1332.0, 1275.0, 1440.0, 1014.0, 604.0, 985.0, 930.0, 930.0, 548.0, 1397.0, 830.0, 484.0, 537.0, 920.0, 449.0, 795.0, 724.0, 419.0, 779.0, 733.0, 897.0, 448.0, 401.0, 414.0, 378.0, 1345.7732225236607, 1332.798068102536, 1014.6033681780021, 930.1811002833347, 724.143344702566, 830.2275156419921, 2083.4492554130884, 551.3851067414565, 335.1267280797303, 480.4802955932306, 331.194431260506, 302.34237020064586, 327.68566624482156, 308.50626702775, 985.3321915834399, 298.63833946675044, 271.1251602589426, 259.79852582194894, 335.4569923651155, 334.78199406292185, 387.8216401755451, 264.2008974969232, 276.51632045602446, 255.7356057759603, 447.05960366017194, 225.86280843147952, 206.77045798399115, 308.99362061170837, 439.21518339180443, 259.31999516713756, 2100.1289416756, 1275.6390776108803, 930.1216657839108, 795.7100635734447, 733.4720099617468, 920.2578109084776, 612.3021082280485, 779.2315494345108, 699.2392220453662, 381.6668629200825, 439.38544110478665, 1440.9587522050333, 897.0164647558134, 676.2692392453883, 796.4223693980254, 542.637492735734, 1397.6067494006534, 613.5224581517565, 456.3048649885593, 541.0237284641389, 627.8574600636888, 510.61911930867734, 494.4810166895708, 571.0407837298496, 401.16407828180496, 938.699861994425, 449.6677376150946, 356.6663917962379, 419.2513027442998, 165.3062006387933, 208.17296396045776, 484.09390140079194, 378.96381197956055, 177.11103534566996, 152.68483369617582, 304.7471840505219, 138.53975040323192, 148.00862798262438, 112.60889924883776, 122.50306878415826, 102.70652073747665, 71.1401868137131, 134.09399550429674, 265.10904212034137, 74.97185875105565, 67.16797904970798, 131.00712616961374, 137.17869273848373, 167.91208757417832, 94.64278451766943, 238.94242948063797, 62.62027366003457, 90.2775795166106, 190.60710362544367, 414.16088964107814, 604.9021716612976, 309.5806878925735, 548.7504314646255, 162.53027745602677, 152.92298524820356, 150.83902001070675, 330.6034868767603, 537.4627681006709, 448.477442572239, 234.7792647147518, 246.67786423203742, 1115.1263080222825, 340.22427619026, 236.4193246092708, 364.0221822285867, 400.1941051185861, 221.01545001629177, 264.00820808040066, 312.0942874013203, 341.1003476881848, 263.14605198851297, 358.58825090668716, 343.4303551437738, 318.71616133959594, 441.22093404014856, 358.30927852238904], \"Category\": [\"Default\", \"Default\", \"Default\", \"Default\", \"Default\", \"Default\", \"Default\", \"Default\", \"Default\", \"Default\", \"Default\", \"Default\", \"Default\", \"Default\", \"Default\", \"Default\", \"Default\", \"Default\", \"Default\", \"Default\", \"Default\", \"Default\", \"Default\", \"Default\", \"Default\", \"Default\", \"Default\", \"Default\", \"Default\", \"Default\", \"Topic1\", \"Topic1\", \"Topic1\", \"Topic1\", \"Topic1\", \"Topic1\", \"Topic1\", \"Topic1\", \"Topic1\", \"Topic1\", \"Topic1\", \"Topic1\", \"Topic1\", \"Topic1\", \"Topic1\", \"Topic1\", \"Topic1\", \"Topic1\", \"Topic1\", \"Topic1\", \"Topic1\", \"Topic1\", \"Topic1\", \"Topic1\", \"Topic1\", \"Topic1\", \"Topic1\", \"Topic1\", \"Topic1\", \"Topic1\", \"Topic1\", \"Topic1\", \"Topic1\", \"Topic1\", \"Topic1\", \"Topic1\", \"Topic1\", \"Topic1\", \"Topic1\", \"Topic1\", \"Topic1\", \"Topic1\", \"Topic1\", \"Topic1\", \"Topic1\", \"Topic1\", \"Topic1\", \"Topic1\", \"Topic1\", \"Topic1\", \"Topic1\", \"Topic1\", \"Topic1\", \"Topic1\", \"Topic2\", \"Topic2\", \"Topic2\", \"Topic2\", \"Topic2\", \"Topic2\", \"Topic2\", \"Topic2\", \"Topic2\", \"Topic2\", \"Topic2\", \"Topic2\", \"Topic2\", \"Topic2\", \"Topic2\", \"Topic2\", \"Topic2\", \"Topic2\", \"Topic2\", \"Topic2\", \"Topic2\", \"Topic2\", \"Topic2\", \"Topic2\", \"Topic2\", \"Topic2\", \"Topic2\", \"Topic2\", \"Topic2\", \"Topic2\", \"Topic2\", \"Topic2\", \"Topic2\", \"Topic2\", \"Topic2\", \"Topic2\", \"Topic2\", \"Topic2\", \"Topic2\", \"Topic2\", \"Topic2\", \"Topic2\", \"Topic2\", \"Topic2\", \"Topic2\", \"Topic2\", \"Topic2\", \"Topic2\", \"Topic2\", \"Topic2\", \"Topic2\", \"Topic2\", \"Topic2\", \"Topic2\", \"Topic2\", \"Topic2\", \"Topic2\"], \"logprob\": [30.0, 29.0, 28.0, 27.0, 26.0, 25.0, 24.0, 23.0, 22.0, 21.0, 20.0, 19.0, 18.0, 17.0, 16.0, 15.0, 14.0, 13.0, 12.0, 11.0, 10.0, 9.0, 8.0, 7.0, 6.0, 5.0, 4.0, 3.0, 2.0, 1.0, -4.7811, -4.7909, -5.0639, -5.151, -5.4014, -5.2648, -4.3454, -5.6748, -6.1735, -5.8133, -6.1855, -6.2767, -6.1963, -6.2567, -5.0955, -6.2892, -6.3859, -6.4286, -6.1731, -6.1754, -6.0283, -6.4122, -6.3666, -6.4448, -5.8863, -6.5693, -6.6576, -6.2559, -5.9043, -6.4312, -4.344, -4.8384, -5.1544, -5.311, -5.3921, -5.1704, -5.5742, -5.3358, -5.4438, -6.0455, -5.9064, -4.7326, -5.2082, -5.4855, -5.327, -5.7033, -4.7875, -5.5911, -5.8744, -5.7327, -5.6167, -5.7867, -5.8245, -5.7768, -5.6271, -4.7769, -5.5132, -5.7451, -5.5841, -6.5151, -6.2846, -5.4409, -5.686, -6.4468, -6.5957, -5.9048, -6.6934, -6.6275, -6.9014, -6.8173, -6.9937, -7.3613, -6.7278, -6.0462, -7.3095, -7.4194, -6.7516, -6.7055, -6.5034, -7.0768, -6.1507, -7.4899, -7.1243, -6.3771, -5.6022, -5.2342, -5.8985, -5.3322, -6.5371, -6.5989, -6.613, -5.8376, -5.3618, -5.5402, -6.1759, -6.1289, -4.6522, -5.8161, -6.1748, -5.7585, -5.6771, -6.2467, -6.0799, -5.9273, -5.8651, -6.102, -5.8778, -5.9338, -5.9983, -5.8268, -6.1215], \"loglift\": [30.0, 29.0, 28.0, 27.0, 26.0, 25.0, 24.0, 23.0, 22.0, 21.0, 20.0, 19.0, 18.0, 17.0, 16.0, 15.0, 14.0, 13.0, 12.0, 11.0, 10.0, 9.0, 8.0, 7.0, 6.0, 5.0, 4.0, 3.0, 2.0, 1.0, 0.5266, 0.5265, 0.5263, 0.5261, 0.526, 0.526, 0.5253, 0.5252, 0.5245, 0.5244, 0.5243, 0.5242, 0.5241, 0.524, 0.524, 0.524, 0.524, 0.524, 0.5239, 0.5236, 0.5236, 0.5236, 0.5236, 0.5236, 0.5235, 0.5233, 0.5233, 0.5232, 0.5232, 0.5232, 0.5187, 0.5229, 0.5228, 0.5222, 0.5226, 0.5174, 0.521, 0.5184, 0.5187, 0.5224, 0.5207, 0.5068, 0.5052, 0.5104, 0.5054, 0.5128, 0.4825, 0.5021, 0.5149, 0.4863, 0.4535, 0.4902, 0.4844, 0.3883, 0.891, 0.891, 0.8908, 0.8905, 0.8899, 0.8896, 0.8895, 0.8893, 0.889, 0.8889, 0.8884, 0.8882, 0.8879, 0.8877, 0.8872, 0.887, 0.887, 0.8866, 0.8862, 0.8861, 0.8859, 0.8859, 0.8857, 0.8857, 0.8856, 0.8856, 0.8855, 0.8855, 0.8853, 0.8852, 0.884, 0.8732, 0.8788, 0.8726, 0.8845, 0.8837, 0.8833, 0.8739, 0.8638, 0.8665, 0.8779, 0.8755, 0.8435, 0.8668, 0.8721, 0.8568, 0.8434, 0.8676, 0.8566, 0.8419, 0.8152, 0.8378, 0.7525, 0.7397, 0.7499, 0.5961, 0.5096]}, \"token.table\": {\"Topic\": [1, 2, 1, 2, 2, 1, 2, 2, 1, 2, 1, 2, 1, 2, 1, 2, 1, 2, 1, 2, 1, 2, 1, 2, 1, 2, 1, 2, 1, 2, 1, 2, 1, 2, 1, 2, 1, 2, 1, 2, 1, 2, 1, 2, 1, 2, 1, 2, 1, 2, 1, 2, 1, 2, 1, 2, 1, 2, 1, 2, 1, 2, 1, 2, 1, 2, 1, 2, 1, 2, 1, 2, 1, 2, 1, 2, 1, 2, 1, 2, 1, 2, 1, 2, 1, 2, 1, 2, 1, 2, 1, 2, 1, 2, 1, 2, 1, 2, 1, 2, 1, 2, 1, 2, 1, 2, 1, 2, 1, 2, 2, 1, 2, 1, 2, 1, 2, 1, 2, 1, 2, 1, 2, 1, 2, 1, 2, 1, 2, 1, 2, 1, 2, 1, 2, 1, 2, 1, 2, 1, 2, 1, 2, 1, 2, 1, 2, 1, 2, 1, 2, 1, 2, 1, 2, 1, 2, 1, 2, 1, 2, 1, 2, 2, 1, 2, 1, 2, 1, 2, 1, 2, 1, 2, 1, 2, 1, 2, 1, 2, 1, 2, 2, 1, 2, 1, 2, 1, 2, 1, 2, 1, 2, 1, 2, 1, 2, 1, 2, 1, 2, 1, 2, 1, 2, 1, 2, 1, 2, 1, 2, 1, 2, 2, 1, 2], \"Freq\": [0.01621548010581688, 0.9850904164283755, 0.010566045843815004, 0.9932083093186104, 1.0003753574929735, 0.9976641692898965, 0.0029870184709278338, 0.9974991200854254, 0.008880292824728247, 0.9945927963695637, 0.00654943897040801, 0.9955147235020175, 0.009736480145754848, 0.9931209748669945, 0.9958500337708679, 0.003688333458410622, 0.3181608929305934, 0.6809759462724982, 0.005246394184579134, 0.9915685008854563, 0.9994012085389108, 0.0007503012076117948, 0.999425443670063, 0.0007430672443643591, 0.9910771280433673, 0.008580754355353831, 0.9967843329265461, 0.003236312769242033, 0.990719639830088, 0.008983209169443803, 0.007633172555096805, 0.9923124321625846, 0.9966379044542749, 0.0029839458217193857, 0.8703406379379075, 0.12958794206721358, 0.9922950539820474, 0.006827718261344363, 0.995337417806703, 0.005026956655589409, 0.0022238642365220726, 0.9985150421984106, 0.998730246956238, 0.0010750594692747449, 0.9953929998521237, 0.004473676403829769, 0.022622852835091092, 0.9773072424759353, 0.012777959772746072, 0.9839029025014476, 0.9746994458874121, 0.02444898275637321, 0.13177869557498997, 0.865974285207077, 0.0059554973941839135, 0.9945680648287135, 0.9776855101971151, 0.022296134782146298, 0.00745745546800384, 0.9918415772445106, 0.01292070260334852, 0.9852035735053246, 0.9949097825399588, 0.0038562394672091425, 0.0067563628798545175, 0.9931853433386141, 0.0020657149307321643, 0.9977403115436353, 0.001065303235344397, 0.9992544347530445, 0.996919133611082, 0.0020812508008582085, 0.01107694740326977, 0.9969252662942794, 0.9949564963244261, 0.004553576642217053, 0.9961799446421863, 0.0044274664206319396, 0.997123569188857, 0.003910288506622969, 0.983336164664294, 0.01626571099444697, 0.00728976184301735, 0.9914076106503596, 0.008163060810843272, 0.9958934189228792, 0.04747696119704185, 0.9520380113722603, 0.9955686810279416, 0.004300512661027826, 0.9559198254966408, 0.04364603993659812, 0.13106954809913857, 0.8700787022751326, 0.9929738797723587, 0.006532722893239202, 0.9956566940076488, 0.002981008065891164, 0.007544065581483021, 0.9958166567557588, 0.9945163437242194, 0.0036164230680880705, 0.9974879503916199, 0.0018136144552574906, 0.9799031359081452, 0.020125489335223946, 0.053202394237748765, 0.9462425832285316, 0.004803697756784349, 0.9991691334111445, 0.9995909945813002, 0.02452743205301382, 0.9744079824697309, 0.9979075488632777, 0.0030517050423953447, 0.027908909956699333, 0.9712300664931368, 0.9953028918790593, 0.0025785049012410862, 0.9955794097955656, 0.004703524770687711, 0.995266336118364, 0.004090135627883688, 0.0032814084996900805, 0.9975481839057845, 0.9592924906886062, 0.04066365085770585, 0.018184758652444087, 0.9819769672319806, 0.006152699765559399, 0.9905846622550633, 0.9994053162083567, 0.0009856068207183006, 0.002803740478500974, 0.9981316103463468, 0.007243561801791262, 0.9923679668454028, 0.9969263650768511, 0.003849136544698267, 0.9984211072145729, 0.0013809420570049418, 0.026453138796500887, 0.9758268978264771, 0.9781242088777666, 0.021345457703365895, 0.005646175564657994, 0.9993730749444649, 0.007218144951823672, 0.9961040033516667, 0.9913677006607339, 0.008570902311187902, 0.9978644762278089, 0.0019198931721554765, 0.9635361885119272, 0.03720973085716792, 0.9956326758175191, 0.005240171977986942, 0.9859252395236658, 0.01474280731998005, 0.9883742966696348, 0.01314910372509492, 0.0065392393326414435, 0.9939643785614994, 0.9980294286535936, 0.9983589732791247, 0.003241425237919236, 0.9985214707789553, 0.0012044891082978954, 0.02114886339457859, 0.9813072615084465, 0.04806239846585716, 0.9516354896239718, 0.9962738488297453, 0.004836280819561871, 0.04752824825198273, 0.9523584838416161, 0.25610752183784113, 0.743391744803645, 0.1426781275041533, 0.8589805635454126, 0.0026387743852807114, 0.9974567176361089, 0.9900946830190804, 0.9978624999459539, 0.003348531879013268, 0.9954546047787852, 0.0037849984972577384, 0.9966182048938389, 0.003044658467089121, 0.006629584307356403, 0.9944376461034605, 0.9963935647831997, 0.003019374438736969, 0.9955600989707297, 0.0033075086344542515, 0.0023852042759421005, 0.9970153873437981, 0.02004554232538968, 0.9804092519145134, 0.9285547072115086, 0.07167231873845263, 0.008370217061687927, 0.9918707218100192, 0.9899399811675184, 0.00977986809056824, 0.034089849196124816, 0.9658790605568698, 0.018148628910972832, 0.9830507326776952, 0.9585807826826473, 0.04246876885302868, 0.035712109411609114, 0.9642269541134462, 0.9981476760241899, 0.07329221494330937, 0.9264135968834305], \"Term\": [\"airlangga\", \"airlangga\", \"airlangga_hartarto\", \"airlangga_hartarto\", \"ako\", \"alih\", \"alih\", \"ana\", \"anggota_dpr\", \"anggota_dpr\", \"arsjad_rasjid\", \"arsjad_rasjid\", \"asia_tenggara\", \"asia_tenggara\", \"bahan_bakar\", \"bahan_bakar\", \"bahas\", \"bahas\", \"bahas_ruu\", \"bahas_ruu\", \"bangkit\", \"bangkit\", \"bangkit_listrik\", \"bangkit_listrik\", \"bangun\", \"bangun\", \"batubara\", \"batubara\", \"baur\", \"baur\", \"bukit_asam\", \"bukit_asam\", \"bumi\", \"bumi\", \"bumn\", \"bumn\", \"butuh\", \"butuh\", \"capai\", \"capai\", \"capai_persen\", \"capai_persen\", \"capai_target\", \"capai_target\", \"cepat\", \"cepat\", \"darmawan_prasodjo\", \"darmawan_prasodjo\", \"dasamuka_pln\", \"dasamuka_pln\", \"dorong\", \"dorong\", \"dpr\", \"dpr\", \"dpr_ri\", \"dpr_ri\", \"dukung\", \"dukung\", \"dyah_roro\", \"dyah_roro\", \"e_hal\", \"e_hal\", \"emisi\", \"emisi\", \"energy_watch\", \"energy_watch\", \"erick\", \"erick\", \"erick_thohir\", \"erick_thohir\", \"esdm\", \"esdm\", \"feed_tariff\", \"feed_tariff\", \"fosil\", \"fosil\", \"gas_bumi\", \"gas_bumi\", \"genjot\", \"genjot\", \"guna\", \"guna\", \"hambat_kembang\", \"hambat_kembang\", \"harmonisasi_ruu\", \"harmonisasi_ruu\", \"heroes\", \"heroes\", \"id\", \"id\", \"indonesia\", \"indonesia\", \"inggris_sepakat\", \"inggris_sepakat\", \"investasi\", \"investasi\", \"kapasitas\", \"kapasitas\", \"kawasan_industri\", \"kawasan_industri\", \"kejar\", \"kejar\", \"kejar_target\", \"kejar_target\", \"kembang\", \"kembang\", \"keren_banget\", \"keren_banget\", \"komisi\", \"komisi\", \"komisi_vii\", \"kuat_bidang\", \"kuat_bidang\", \"kurang_emisi\", \"kurang_emisi\", \"larang_ekspor\", \"larang_ekspor\", \"lingkung\", \"lingkung\", \"listrik\", \"listrik\", \"manfaat\", \"manfaat\", \"menko_airlangga\", \"menko_airlangga\", \"menteri\", \"menteri\", \"menteri_bumn\", \"menteri_bumn\", \"menteri_bumn_erick_thohir\", \"menteri_bumn_erick_thohir\", \"menteri_esdm\", \"menteri_esdm\", \"micho\", \"micho\", \"mobil_listrik\", \"mobil_listrik\", \"panas\", \"panas\", \"panas_bumi\", \"panas_bumi\", \"penuh_butuh\", \"penuh_butuh\", \"perintah\", \"perintah\", \"perintah_serius\", \"perintah_serius\", \"permen_esdm\", \"permen_esdm\", \"pln\", \"pln\", \"pln_id\", \"pln_id\", \"plts\", \"plts\", \"plts_atap\", \"plts_atap\", \"potensi\", \"potensi\", \"proyek\", \"proyek\", \"pulau\", \"pulau\", \"pulau_sumba\", \"ramah\", \"ramah\", \"ramah_lingkung\", \"ramah_lingkung\", \"rencana_ekspor\", \"rencana_ekspor\", \"renewable_content\", \"renewable_content\", \"rp_triliun\", \"rp_triliun\", \"ruu\", \"ruu\", \"simak_bawah\", \"simak_bawah\", \"sulawesi\", \"sulawesi\", \"sulawesi_selatan\", \"sulawesi_selatan\", \"sumatera_utara\", \"surya\", \"surya\", \"tambah\", \"tambah\", \"target\", \"target\", \"temu_pm\", \"temu_pm\", \"tenaga\", \"tenaga\", \"tenaga_surya\", \"tenaga_surya\", \"thohir\", \"thohir\", \"tinggi_indonesia\", \"tinggi_indonesia\", \"tingkat\", \"tingkat\", \"tingkat_porsi\", \"tingkat_porsi\", \"transisi\", \"transisi\", \"udien\", \"udien\", \"udien_pln\", \"udien_pln\", \"usaha\", \"usaha\", \"uu\", \"uu\", \"vii\", \"yantie_pln\", \"yantie_pln\"]}, \"R\": 30, \"lambda.step\": 0.01, \"plot.opts\": {\"xlab\": \"PC1\", \"ylab\": \"PC2\"}, \"topic.order\": [1, 2]};\n",
              "\n",
              "function LDAvis_load_lib(url, callback){\n",
              "  var s = document.createElement('script');\n",
              "  s.src = url;\n",
              "  s.async = true;\n",
              "  s.onreadystatechange = s.onload = callback;\n",
              "  s.onerror = function(){console.warn(\"failed to load library \" + url);};\n",
              "  document.getElementsByTagName(\"head\")[0].appendChild(s);\n",
              "}\n",
              "\n",
              "if(typeof(LDAvis) !== \"undefined\"){\n",
              "   // already loaded: just create the visualization\n",
              "   !function(LDAvis){\n",
              "       new LDAvis(\"#\" + \"ldavis_el458341403734651228488898209569\", ldavis_el458341403734651228488898209569_data);\n",
              "   }(LDAvis);\n",
              "}else if(typeof define === \"function\" && define.amd){\n",
              "   // require.js is available: use it to load d3/LDAvis\n",
              "   require.config({paths: {d3: \"https://d3js.org/d3.v5\"}});\n",
              "   require([\"d3\"], function(d3){\n",
              "      window.d3 = d3;\n",
              "      LDAvis_load_lib(\"https://cdn.jsdelivr.net/gh/bmabey/pyLDAvis@3.3.1/pyLDAvis/js/ldavis.v3.0.0.js\", function(){\n",
              "        new LDAvis(\"#\" + \"ldavis_el458341403734651228488898209569\", ldavis_el458341403734651228488898209569_data);\n",
              "      });\n",
              "    });\n",
              "}else{\n",
              "    // require.js not available: dynamically load d3 & LDAvis\n",
              "    LDAvis_load_lib(\"https://d3js.org/d3.v5.js\", function(){\n",
              "         LDAvis_load_lib(\"https://cdn.jsdelivr.net/gh/bmabey/pyLDAvis@3.3.1/pyLDAvis/js/ldavis.v3.0.0.js\", function(){\n",
              "                 new LDAvis(\"#\" + \"ldavis_el458341403734651228488898209569\", ldavis_el458341403734651228488898209569_data);\n",
              "            })\n",
              "         });\n",
              "}\n",
              "</script>"
            ],
            "text/plain": [
              "PreparedData(topic_coordinates=               x           y  topics  cluster       Freq\n",
              "topic                                                   \n",
              "0     -60.312317  141.369629       1        1  59.021406\n",
              "1      60.312561 -141.369141       2        1  40.978594, topic_info=                  Term         Freq        Total Category  logprob  loglift\n",
              "7140            pln_id  2083.000000  2083.000000  Default  30.0000  30.0000\n",
              "150                pln  2100.000000  2100.000000  Default  29.0000  29.0000\n",
              "8163      erick_thohir   938.000000   938.000000  Default  28.0000  28.0000\n",
              "3362               ruu  1115.000000  1115.000000  Default  27.0000  27.0000\n",
              "783    bangkit_listrik  1345.000000  1345.000000  Default  26.0000  26.0000\n",
              "...                ...          ...          ...      ...      ...      ...\n",
              "16340  inggris_sepakat   311.870217   358.588251   Topic2  -5.8778   0.7525\n",
              "5179          sulawesi   294.871361   343.430355   Topic2  -5.9338   0.7397\n",
              "245                dpr   276.461111   318.716161   Topic2  -5.9983   0.7499\n",
              "16195      simak_bawah   328.174470   441.220934   Topic2  -5.8268   0.5961\n",
              "169              bahas   244.421813   358.309279   Topic2  -6.1215   0.5096\n",
              "\n",
              "[141 rows x 6 columns], token_table=       Topic      Freq                Term\n",
              "term                                      \n",
              "1323       1  0.016215           airlangga\n",
              "1323       2  0.985090           airlangga\n",
              "9086       1  0.010566  airlangga_hartarto\n",
              "9086       2  0.993208  airlangga_hartarto\n",
              "11837      2  1.000375                 ako\n",
              "...      ...       ...                 ...\n",
              "1049       1  0.035712                  uu\n",
              "1049       2  0.964227                  uu\n",
              "658        2  0.998148                 vii\n",
              "10521      1  0.073292          yantie_pln\n",
              "10521      2  0.926414          yantie_pln\n",
              "\n",
              "[216 rows x 3 columns], R=30, lambda_step=0.01, plot_opts={'xlab': 'PC1', 'ylab': 'PC2'}, topic_order=[1, 2])"
            ]
          },
          "execution_count": 23,
          "metadata": {},
          "output_type": "execute_result"
        }
      ],
      "source": [
        "import pyLDAvis.gensim_models as gensimvis\n",
        "pyLDAvis.enable_notebook()\n",
        "panel = gensimvis.prepare(model, corpus_tfidf, dictionary, mds='tsne')\n",
        "panel"
      ]
    },
    {
      "cell_type": "code",
      "execution_count": null,
      "metadata": {},
      "outputs": [],
      "source": []
    }
  ],
  "metadata": {
    "accelerator": "TPU",
    "colab": {
      "collapsed_sections": [],
      "name": "Data Kualitatif- LDA.ipynb",
      "provenance": []
    },
    "kernelspec": {
      "display_name": "Python 3.9.7 ('venv': venv)",
      "language": "python",
      "name": "python3"
    },
    "language_info": {
      "codemirror_mode": {
        "name": "ipython",
        "version": 3
      },
      "file_extension": ".py",
      "mimetype": "text/x-python",
      "name": "python",
      "nbconvert_exporter": "python",
      "pygments_lexer": "ipython3",
      "version": "3.9.7"
    },
    "vscode": {
      "interpreter": {
        "hash": "00a08332a9656d07fb15950983716ae1dc3baeb86e6935d123f31572ce96d1e2"
      }
    }
  },
  "nbformat": 4,
  "nbformat_minor": 0
}
