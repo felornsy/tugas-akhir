{
  "cells": [
    {
      "cell_type": "code",
      "execution_count": 1,
      "metadata": {
        "id": "xLTR8avada_P"
      },
      "outputs": [],
      "source": [
        "import warnings\n",
        "warnings.filterwarnings('ignore')\n",
        "import pandas as pd #a library to make the data more structured55r56y6y"
      ]
    },
    {
      "cell_type": "code",
      "execution_count": 2,
      "metadata": {
        "colab": {
          "base_uri": "https://localhost:8080/",
          "height": 372
        },
        "id": "SqJ6bJwOdmxH",
        "outputId": "4c42ea1b-af2c-4219-d627-0e55f2195cc1"
      },
      "outputs": [],
      "source": [
        "df = pd.read_csv('data/text-preprocessing.csv')\n",
        "df = df.drop(columns=['Unnamed: 0'])"
      ]
    },
    {
      "cell_type": "code",
      "execution_count": 3,
      "metadata": {
        "colab": {
          "base_uri": "https://localhost:8080/"
        },
        "id": "MxWR5yAqMP_S",
        "outputId": "d9a66715-3b7c-449c-9244-5372b4ced4b5"
      },
      "outputs": [
        {
          "data": {
            "text/plain": [
              "(109705, 23)"
            ]
          },
          "execution_count": 3,
          "metadata": {},
          "output_type": "execute_result"
        }
      ],
      "source": [
        "df.shape"
      ]
    },
    {
      "cell_type": "code",
      "execution_count": 4,
      "metadata": {
        "colab": {
          "base_uri": "https://localhost:8080/"
        },
        "id": "Oy0uwRRPcksH",
        "outputId": "ba7c1c66-ad10-4e2d-cc0c-781bcecd9334"
      },
      "outputs": [
        {
          "name": "stdout",
          "output_type": "stream",
          "text": [
            "<class 'pandas.core.frame.DataFrame'>\n",
            "RangeIndex: 109705 entries, 0 to 109704\n",
            "Data columns (total 23 columns):\n",
            " #   Column                       Non-Null Count   Dtype  \n",
            "---  ------                       --------------   -----  \n",
            " 0   tweet_id                     109705 non-null  int64  \n",
            " 1   author_name                  109705 non-null  object \n",
            " 2   author_username              109705 non-null  object \n",
            " 3   author_location              78272 non-null   object \n",
            " 4   content                      109705 non-null  object \n",
            " 5   content_clean                109437 non-null  object \n",
            " 6   like_count                   109604 non-null  float64\n",
            " 7   retweet_count                17012 non-null   float64\n",
            " 8   reply_count                  16620 non-null   float64\n",
            " 9   source                       109705 non-null  object \n",
            " 10  keyword                      109705 non-null  object \n",
            " 11  address                      64928 non-null   object \n",
            " 12  longitude                    66438 non-null   float64\n",
            " 13  latitude                     66438 non-null   float64\n",
            " 14  province                     64297 non-null   object \n",
            " 15  city                         41183 non-null   object \n",
            " 16  country                      66419 non-null   object \n",
            " 17  created_at                   109705 non-null  object \n",
            " 18  content_token                109705 non-null  object \n",
            " 19  tweet_tokens_fdist           109705 non-null  object \n",
            " 20  tweet_tokens_WSW             109705 non-null  object \n",
            " 21  tweet_tokens_stemmed         109705 non-null  object \n",
            " 22  tweet_tokens_stemmed_string  109404 non-null  object \n",
            "dtypes: float64(5), int64(1), object(17)\n",
            "memory usage: 19.3+ MB\n"
          ]
        }
      ],
      "source": [
        "df.info()"
      ]
    },
    {
      "cell_type": "code",
      "execution_count": 5,
      "metadata": {
        "id": "3PYA4slIdNBD"
      },
      "outputs": [],
      "source": [
        "df_new = df[df['tweet_tokens_stemmed_string'].notnull()]"
      ]
    },
    {
      "cell_type": "code",
      "execution_count": 6,
      "metadata": {
        "colab": {
          "base_uri": "https://localhost:8080/"
        },
        "id": "uiih8RfJcG3C",
        "outputId": "cdec65c1-675f-4022-e661-e57038cd2a71"
      },
      "outputs": [
        {
          "data": {
            "text/plain": [
              "0    lomba poster ilmiah energi baru deadline janua...\n",
              "1                 elaahhh ngomong energi baru tv biruu\n",
              "2    daerah pencil membutuhkam listrik manfaat ener...\n",
              "3    tarik materi energi baru baek ganti nama propa...\n",
              "4    aneh inget jatropa alias minyak jarak bbrp jat...\n",
              "Name: tweet_tokens_stemmed_string, dtype: object"
            ]
          },
          "execution_count": 6,
          "metadata": {},
          "output_type": "execute_result"
        }
      ],
      "source": [
        "df_new['tweet_tokens_stemmed_string'].head()"
      ]
    },
    {
      "cell_type": "code",
      "execution_count": 7,
      "metadata": {
        "colab": {
          "base_uri": "https://localhost:8080/"
        },
        "id": "GGejGqbRh6W4",
        "outputId": "89c44e3a-3677-4a98-9a81-d3184e372c0d"
      },
      "outputs": [
        {
          "name": "stdout",
          "output_type": "stream",
          "text": [
            "Case Folding Result : \n",
            "\n",
            "0    lomba poster ilmiah energi baru deadline janua...\n",
            "1                 elaahhh ngomong energi baru tv biruu\n",
            "2    daerah pencil membutuhkam listrik manfaat ener...\n",
            "3    tarik materi energi baru baek ganti nama propa...\n",
            "4    aneh inget jatropa alias minyak jarak bbrp jat...\n",
            "Name: tweet_tokens_stemmed_string, dtype: object\n"
          ]
        }
      ],
      "source": [
        "#lower text\n",
        "# ------ Case Folding --------\n",
        "# gunakan fungsi Series.str.lower() pada Pandas\n",
        "df_new['tweet_tokens_stemmed_string'] = df_new['tweet_tokens_stemmed_string'].str.lower()\n",
        "\n",
        "\n",
        "print('Case Folding Result : \\n')\n",
        "print(df_new['tweet_tokens_stemmed_string'].head(5))\n"
      ]
    },
    {
      "cell_type": "code",
      "execution_count": 8,
      "metadata": {
        "colab": {
          "base_uri": "https://localhost:8080/"
        },
        "id": "Aox9mh-NFJaY",
        "outputId": "dc62a84f-cf29-41fc-a1b4-83dbeff37ddc"
      },
      "outputs": [
        {
          "name": "stdout",
          "output_type": "stream",
          "text": [
            "109404\n"
          ]
        }
      ],
      "source": [
        "text = df_new['tweet_tokens_stemmed_string']\n",
        "text_list =  [i.split() for i in text]\n",
        "#text_list =  [i for i in text]\n",
        "print(len(text_list))"
      ]
    },
    {
      "cell_type": "code",
      "execution_count": 9,
      "metadata": {
        "colab": {
          "base_uri": "https://localhost:8080/"
        },
        "id": "Z4Y-nzFZdmOz",
        "outputId": "a63b5e1c-301a-4d94-f1bb-9d06647e3422"
      },
      "outputs": [
        {
          "name": "stdout",
          "output_type": "stream",
          "text": [
            "Frequency Tokens : \n",
            "\n"
          ]
        },
        {
          "data": {
            "text/plain": [
              "0    [( , 11), (a, 10), (e, 6), (i, 6), (s, 5), (r,...\n",
              "1    [( , 5), (e, 3), (a, 3), (h, 3), (n, 3), (g, 3...\n",
              "2    [(a, 7), ( , 6), (e, 5), (r, 4), (i, 4), (m, 4...\n",
              "3    [(a, 10), ( , 8), (r, 5), (i, 5), (e, 4), (t, ...\n",
              "4    [(a, 12), ( , 12), (r, 8), (e, 7), (b, 6), (i,...\n",
              "Name: tweet_tokens_stemmed_string, dtype: object"
            ]
          },
          "execution_count": 9,
          "metadata": {},
          "output_type": "execute_result"
        }
      ],
      "source": [
        "#masi salah hasil frekuensi nya\n",
        "# NLTK calc frequency distribution\n",
        "from nltk.probability import FreqDist\n",
        "def freqDist_wrapper(text):\n",
        "    return FreqDist(text)\n",
        "\n",
        "df_new['tweet_tokens_stemmed_string'] = df_new['tweet_tokens_stemmed_string'].apply(freqDist_wrapper)\n",
        "\n",
        "print('Frequency Tokens : \\n') \n",
        "df_new['tweet_tokens_stemmed_string'].head().apply(lambda x : x.most_common())"
      ]
    },
    {
      "cell_type": "code",
      "execution_count": 10,
      "metadata": {
        "id": "fHH5EmZWfh7Q"
      },
      "outputs": [],
      "source": [
        "#https://sites.unpad.ac.id/widodo/2021/03/09/nlp-dengan-python/"
      ]
    },
    {
      "cell_type": "code",
      "execution_count": 11,
      "metadata": {
        "id": "qnLvYqUHc5Jj"
      },
      "outputs": [],
      "source": [
        "import gensim\n",
        "#Create Bigram & Trigram Models \n",
        "from gensim.models import Phrases\n",
        "# Add bigrams and trigrams to docs,minimum count 10 means only that appear 10 times or more.\n",
        "bigram = Phrases(text_list, min_count=10)\n",
        "trigram = Phrases(bigram[text_list])\n",
        "for idx in range(len(text_list)):\n",
        "    for token in bigram[text_list[idx]]:\n",
        "        if '_' in token:\n",
        "            # Token is a bigram, add to document.\n",
        "            text_list[idx].append(token)\n",
        "    for token in trigram[text_list[idx]]:\n",
        "        if '_' in token:\n",
        "            # Token is a bigram, add to document.\n",
        "            text_list[idx].append(token)"
      ]
    },
    {
      "cell_type": "code",
      "execution_count": 12,
      "metadata": {
        "colab": {
          "base_uri": "https://localhost:8080/"
        },
        "id": "EO5hqr3Ufk0S",
        "outputId": "0ff90687-35bf-4851-e1fd-5e3d61b8f9dd"
      },
      "outputs": [
        {
          "name": "stdout",
          "output_type": "stream",
          "text": [
            "Dictionary<16354 unique tokens: ['deadline', 'derajat', 'ilmiah', 'januari', 'lomba']...>\n"
          ]
        }
      ],
      "source": [
        "from gensim import corpora, models\n",
        "# Create a dictionary representation of the documents.\n",
        "dictionary = corpora.Dictionary(text_list)\n",
        "dictionary.filter_extremes(no_below=5, no_above=0.2) \n",
        "#no_below (int, optional) – Keep tokens which are contained in at least no_below documents.\n",
        "#no_above (float, optional) – Keep tokens which are contained in no more than no_above documents (fraction of total corpus size, not an absolute number).\n",
        "print(dictionary)"
      ]
    },
    {
      "cell_type": "code",
      "execution_count": 13,
      "metadata": {
        "colab": {
          "base_uri": "https://localhost:8080/"
        },
        "id": "oF92M3p_fqlQ",
        "outputId": "3b77b4e1-2901-4b52-9698-4ea50bb0fa14"
      },
      "outputs": [
        {
          "name": "stdout",
          "output_type": "stream",
          "text": [
            "109404\n",
            "[(35, 1), (188, 1)]\n"
          ]
        }
      ],
      "source": [
        "#https://radimrehurek.com/gensim/tut1.html \n",
        "#build corpus\n",
        "# Converting list of documents (corpus) into Document Term Matrix using dictionary prepared above.\n",
        "doc_term_matrix = [dictionary.doc2bow(doc) for doc in text_list]\n",
        "#The function doc2bow converts document (a list of words) into the bag-of-words format\n",
        "'''The function doc2bow() simply counts the number of occurrences of each distinct word, \n",
        "converts the word to its integer word id and returns the result as a sparse vector. \n",
        "The sparse vector [(0, 1), (1, 1)] therefore reads: in the document “Human computer interaction”, \n",
        "the words computer (id 0) and human (id 1) appear once; \n",
        "the other ten dictionary words appear (implicitly) zero times.'''\n",
        "print(len(doc_term_matrix))\n",
        "print(doc_term_matrix[100])\n",
        "tfidf = models.TfidfModel(doc_term_matrix) #build TF-IDF model\n",
        "corpus_tfidf = tfidf[doc_term_matrix]"
      ]
    },
    {
      "cell_type": "code",
      "execution_count": 14,
      "metadata": {
        "id": "m5ZUrlyFfx85"
      },
      "outputs": [],
      "source": [
        "from gensim.models.coherencemodel import CoherenceModel\n",
        "from gensim.models.ldamodel import LdaModel\n",
        "from gensim.corpora.dictionary import Dictionary\n",
        "from numpy import array\n",
        "#function to compute coherence values\n",
        "def compute_coherence_values(dictionary, corpus, texts, limit, start, step):\n",
        "    coherence_values = []\n",
        "    model_list = []\n",
        "    for num_topics in range(start, limit, step):\n",
        "        model = LdaModel(corpus=corpus, id2word=dictionary, num_topics=num_topics, iterations=100, random_state=1)\n",
        "        model_list.append(model)\n",
        "        coherencemodel = CoherenceModel(model=model, texts=texts, dictionary=dictionary, coherence='c_v')\n",
        "        coherence_values.append(coherencemodel.get_coherence())\n",
        "        \n",
        "    return model_list, coherence_values"
      ]
    },
    {
      "cell_type": "code",
      "execution_count": 15,
      "metadata": {
        "colab": {
          "base_uri": "https://localhost:8080/",
          "height": 279
        },
        "id": "IBkB1bzOf3AP",
        "outputId": "73fe3950-434a-4fa4-8f87-77a708f4fe7c"
      },
      "outputs": [
        {
          "data": {
            "image/png": "[encoded data removed]",
            "text/plain": [
              "<Figure size 432x288 with 1 Axes>"
            ]
          },
          "metadata": {
            "needs_background": "light"
          },
          "output_type": "display_data"
        }
      ],
      "source": [
        "start=1\n",
        "limit=21\n",
        "step=1\n",
        "model_list, coherence_values = compute_coherence_values(dictionary, corpus=corpus_tfidf, \n",
        "                                                        texts=text_list, start=start, limit=limit, step=step)\n",
        "#show graphs\n",
        "import matplotlib.pyplot as plt\n",
        "x = range(start, limit, step)\n",
        "plt.plot(x, coherence_values)\n",
        "plt.xlabel(\"Num Topics\")\n",
        "plt.ylabel(\"Coherence score\")\n",
        "plt.legend((\"coherence_values\"), loc='best')\n",
        "plt.show()"
      ]
    },
    {
      "cell_type": "code",
      "execution_count": 16,
      "metadata": {
        "colab": {
          "base_uri": "https://localhost:8080/"
        },
        "id": "qaNFv0PIgDYh",
        "outputId": "af7077fa-f1e8-4fb7-e0d6-d84eb319f207"
      },
      "outputs": [
        {
          "name": "stdout",
          "output_type": "stream",
          "text": [
            "Num Topics = 1  has Coherence Value of 0.517\n",
            "Num Topics = 2  has Coherence Value of 0.539\n",
            "Num Topics = 3  has Coherence Value of 0.436\n",
            "Num Topics = 4  has Coherence Value of 0.435\n",
            "Num Topics = 5  has Coherence Value of 0.423\n",
            "Num Topics = 6  has Coherence Value of 0.402\n",
            "Num Topics = 7  has Coherence Value of 0.424\n",
            "Num Topics = 8  has Coherence Value of 0.386\n",
            "Num Topics = 9  has Coherence Value of 0.41\n",
            "Num Topics = 10  has Coherence Value of 0.369\n",
            "Num Topics = 11  has Coherence Value of 0.332\n",
            "Num Topics = 12  has Coherence Value of 0.363\n",
            "Num Topics = 13  has Coherence Value of 0.346\n",
            "Num Topics = 14  has Coherence Value of 0.352\n",
            "Num Topics = 15  has Coherence Value of 0.321\n",
            "Num Topics = 16  has Coherence Value of 0.322\n",
            "Num Topics = 17  has Coherence Value of 0.321\n",
            "Num Topics = 18  has Coherence Value of 0.327\n",
            "Num Topics = 19  has Coherence Value of 0.328\n",
            "Num Topics = 20  has Coherence Value of 0.313\n"
          ]
        }
      ],
      "source": [
        "# Print the coherence scores\n",
        "for m, cv in zip(x, coherence_values):\n",
        "    print(\"Num Topics =\", m, \" has Coherence Value of\", round(cv, 3))"
      ]
    },
    {
      "cell_type": "code",
      "execution_count": 17,
      "metadata": {
        "colab": {
          "base_uri": "https://localhost:8080/"
        },
        "id": "SWVlH8xAgPCu",
        "outputId": "7cc1b7d8-54f0-441e-cb60-e3aa1e8684fa"
      },
      "outputs": [],
      "source": [
        "model = LdaModel(corpus=corpus_tfidf, id2word=dictionary, num_topics=2, random_state=1) #num topic menyesuaikan hasil dari coherence value paling tinggi"
      ]
    },
    {
      "cell_type": "code",
      "execution_count": 18,
      "metadata": {},
      "outputs": [
        {
          "name": "stdout",
          "output_type": "stream",
          "text": [
            "Topic: 1 Word: 0.013*\"pln\" + 0.013*\"pln_id\" + 0.009*\"kembang\" + 0.008*\"bangkit_listrik\" + 0.008*\"indonesia\" + 0.008*\"bangkit\" + 0.008*\"listrik\" + 0.006*\"menteri_esdm\" + 0.006*\"target\" + 0.006*\"capai_target\"\n",
            "Topic: 2 Word: 0.010*\"ruu\" + 0.008*\"erick_thohir\" + 0.005*\"menteri_bumn\" + 0.005*\"tinggi_indonesia\" + 0.005*\"larang_ekspor\" + 0.004*\"erick\" + 0.004*\"capai_persen\" + 0.004*\"kuat_bidang\" + 0.004*\"thohir\" + 0.004*\"mobil_listrik\"\n"
          ]
        }
      ],
      "source": [
        "for idx, topic in model.print_topics():\n",
        "    print('Topic: {} Word: {}'.format(idx+1, topic))\n",
        "    # yg belum remove Yang, yg,trus lower text"
      ]
    },
    {
      "cell_type": "code",
      "execution_count": 19,
      "metadata": {},
      "outputs": [
        {
          "name": "stdout",
          "output_type": "stream",
          "text": [
            "1 0.013*\"pln\" + 0.013*\"pln_id\" + 0.009*\"kembang\" + 0.008*\"bangkit_listrik\" + 0.008*\"indonesia\" + 0.008*\"bangkit\" + 0.008*\"listrik\" + 0.006*\"menteri_esdm\" + 0.006*\"target\" + 0.006*\"capai_target\" \n",
            "\n",
            "2 0.010*\"ruu\" + 0.008*\"erick_thohir\" + 0.005*\"menteri_bumn\" + 0.005*\"tinggi_indonesia\" + 0.005*\"larang_ekspor\" + 0.004*\"erick\" + 0.004*\"capai_persen\" + 0.004*\"kuat_bidang\" + 0.004*\"thohir\" + 0.004*\"mobil_listrik\" \n",
            "\n"
          ]
        }
      ],
      "source": [
        "for i in range(0, model.num_topics):\n",
        "    print(i+1,model.print_topic(i), \"\\n\")"
      ]
    },
    {
      "cell_type": "code",
      "execution_count": 20,
      "metadata": {
        "colab": {
          "base_uri": "https://localhost:8080/"
        },
        "id": "t5CsIHbigduf",
        "outputId": "ad397ac7-6944-411e-f515-2a9344191f97"
      },
      "outputs": [
        {
          "name": "stdout",
          "output_type": "stream",
          "text": [
            "None\n"
          ]
        }
      ],
      "source": [
        "import pandas as pd\n",
        "top_words_per_topic = []\n",
        "for t in range(model.num_topics):\n",
        "    top_words_per_topic.extend([(t, ) + x for x in model.show_topic(t, topn = 5)]) #ubah2 yg ini\n",
        "# df=pd.DataFrame(top_words_per_topic, columns=['Topic', 'Word', 'P']).to_csv(\"top_words_topic_20.csv\")\n",
        "df = pd.DataFrame(top_words_per_topic, columns=['Topic', 'Word','P']).to_excel(\"data/lda_model.xlsx\")\n",
        "print(df)\n"
      ]
    },
    {
      "cell_type": "code",
      "execution_count": 21,
      "metadata": {
        "colab": {
          "base_uri": "https://localhost:8080/"
        },
        "id": "QSxbGusaEOl8",
        "outputId": "8776726e-83fd-480b-c4cb-9b3cdd8883a3"
      },
      "outputs": [
        {
          "name": "stdout",
          "output_type": "stream",
          "text": [
            "Requirement already satisfied: pyLDAvis in c:\\users\\asus\\onedrive - universitas pertamina\\ta\\tugas-akhir\\venv\\lib\\site-packages (3.3.1)\n",
            "Requirement already satisfied: funcy in c:\\users\\asus\\onedrive - universitas pertamina\\ta\\tugas-akhir\\venv\\lib\\site-packages (from pyLDAvis) (1.17)\n",
            "Requirement already satisfied: sklearn in c:\\users\\asus\\onedrive - universitas pertamina\\ta\\tugas-akhir\\venv\\lib\\site-packages (from pyLDAvis) (0.0)\n",
            "Requirement already satisfied: joblib in c:\\users\\asus\\onedrive - universitas pertamina\\ta\\tugas-akhir\\venv\\lib\\site-packages (from pyLDAvis) (1.1.0)\n",
            "Requirement already satisfied: numpy>=1.20.0 in c:\\users\\asus\\onedrive - universitas pertamina\\ta\\tugas-akhir\\venv\\lib\\site-packages (from pyLDAvis) (1.23.1)\n",
            "Requirement already satisfied: future in c:\\users\\asus\\onedrive - universitas pertamina\\ta\\tugas-akhir\\venv\\lib\\site-packages (from pyLDAvis) (0.18.2)\n",
            "Requirement already satisfied: scikit-learn in c:\\users\\asus\\onedrive - universitas pertamina\\ta\\tugas-akhir\\venv\\lib\\site-packages (from pyLDAvis) (1.1.1)\n",
            "Requirement already satisfied: setuptools in c:\\users\\asus\\onedrive - universitas pertamina\\ta\\tugas-akhir\\venv\\lib\\site-packages (from pyLDAvis) (49.2.1)\n",
            "Requirement already satisfied: numexpr in c:\\users\\asus\\onedrive - universitas pertamina\\ta\\tugas-akhir\\venv\\lib\\site-packages (from pyLDAvis) (2.8.3)\n",
            "Requirement already satisfied: scipy in c:\\users\\asus\\onedrive - universitas pertamina\\ta\\tugas-akhir\\venv\\lib\\site-packages (from pyLDAvis) (1.9.0)\n",
            "Requirement already satisfied: gensim in c:\\users\\asus\\onedrive - universitas pertamina\\ta\\tugas-akhir\\venv\\lib\\site-packages (from pyLDAvis) (4.2.0)\n",
            "Requirement already satisfied: jinja2 in c:\\users\\asus\\onedrive - universitas pertamina\\ta\\tugas-akhir\\venv\\lib\\site-packages (from pyLDAvis) (3.1.2)\n",
            "Requirement already satisfied: pandas>=1.2.0 in c:\\users\\asus\\onedrive - universitas pertamina\\ta\\tugas-akhir\\venv\\lib\\site-packages (from pyLDAvis) (1.4.3)\n",
            "Requirement already satisfied: python-dateutil>=2.8.1 in c:\\users\\asus\\onedrive - universitas pertamina\\ta\\tugas-akhir\\venv\\lib\\site-packages (from pandas>=1.2.0->pyLDAvis) (2.8.2)\n",
            "Requirement already satisfied: pytz>=2020.1 in c:\\users\\asus\\onedrive - universitas pertamina\\ta\\tugas-akhir\\venv\\lib\\site-packages (from pandas>=1.2.0->pyLDAvis) (2022.1)\n",
            "Requirement already satisfied: Cython==0.29.28 in c:\\users\\asus\\onedrive - universitas pertamina\\ta\\tugas-akhir\\venv\\lib\\site-packages (from gensim->pyLDAvis) (0.29.28)\n",
            "Requirement already satisfied: smart-open>=1.8.1 in c:\\users\\asus\\onedrive - universitas pertamina\\ta\\tugas-akhir\\venv\\lib\\site-packages (from gensim->pyLDAvis) (6.0.0)\n",
            "Requirement already satisfied: MarkupSafe>=2.0 in c:\\users\\asus\\onedrive - universitas pertamina\\ta\\tugas-akhir\\venv\\lib\\site-packages (from jinja2->pyLDAvis) (2.1.1)\n",
            "Requirement already satisfied: packaging in c:\\users\\asus\\onedrive - universitas pertamina\\ta\\tugas-akhir\\venv\\lib\\site-packages (from numexpr->pyLDAvis) (21.3)\n",
            "Requirement already satisfied: threadpoolctl>=2.0.0 in c:\\users\\asus\\onedrive - universitas pertamina\\ta\\tugas-akhir\\venv\\lib\\site-packages (from scikit-learn->pyLDAvis) (3.1.0)\n",
            "Requirement already satisfied: six>=1.5 in c:\\users\\asus\\onedrive - universitas pertamina\\ta\\tugas-akhir\\venv\\lib\\site-packages (from python-dateutil>=2.8.1->pandas>=1.2.0->pyLDAvis) (1.16.0)\n",
            "Requirement already satisfied: pyparsing!=3.0.5,>=2.0.2 in c:\\users\\asus\\onedrive - universitas pertamina\\ta\\tugas-akhir\\venv\\lib\\site-packages (from packaging->numexpr->pyLDAvis) (3.0.9)\n"
          ]
        },
        {
          "name": "stderr",
          "output_type": "stream",
          "text": [
            "\n",
            "[notice] A new release of pip available: 22.2.1 -> 22.2.2\n",
            "[notice] To update, run: python.exe -m pip install --upgrade pip\n"
          ]
        }
      ],
      "source": [
        "#ini dilakukan jika module belum tersedia\n",
        "!pip install pyLDAvis\n",
        "#!apt-get -qq install -y pyLDAvis"
      ]
    },
    {
      "cell_type": "code",
      "execution_count": 22,
      "metadata": {
        "colab": {
          "base_uri": "https://localhost:8080/"
        },
        "id": "5BGTseD4gFRQ",
        "outputId": "39e9537e-6629-43ea-bfa0-e077c4ac7f89"
      },
      "outputs": [
        {
          "name": "stderr",
          "output_type": "stream",
          "text": [
            "c:\\Users\\asus\\OneDrive - Universitas Pertamina\\TA\\tugas-akhir\\venv\\lib\\site-packages\\past\\builtins\\misc.py:45: DeprecationWarning: the imp module is deprecated in favour of importlib; see the module's documentation for alternative uses\n",
            "  from imp import reload\n"
          ]
        },
        {
          "name": "stdout",
          "output_type": "stream",
          "text": [
            "PreparedData(topic_coordinates=             x    y  topics  cluster       Freq\n",
            "topic                                          \n",
            "0      0.20292  0.0       1        1  59.021431\n",
            "1     -0.20292  0.0       2        1  40.978569, topic_info=                  Term         Freq        Total Category  logprob  loglift\n",
            "7140            pln_id  2083.000000  2083.000000  Default  30.0000  30.0000\n",
            "150                pln  2100.000000  2100.000000  Default  29.0000  29.0000\n",
            "8163      erick_thohir   938.000000   938.000000  Default  28.0000  28.0000\n",
            "3362               ruu  1115.000000  1115.000000  Default  27.0000  27.0000\n",
            "783    bangkit_listrik  1345.000000  1345.000000  Default  26.0000  26.0000\n",
            "...                ...          ...          ...      ...      ...      ...\n",
            "16340  inggris_sepakat   311.871555   358.588895   Topic2  -5.8778   0.7525\n",
            "5179          sulawesi   294.874214   343.431656   Topic2  -5.9338   0.7397\n",
            "245                dpr   276.468615   318.719679   Topic2  -5.9983   0.7499\n",
            "16195      simak_bawah   328.173828   441.220499   Topic2  -5.8268   0.5961\n",
            "169              bahas   244.439940   358.317960   Topic2  -6.1214   0.5097\n",
            "\n",
            "[141 rows x 6 columns], token_table=       Topic      Freq                Term\n",
            "term                                      \n",
            "1323       1  0.016215           airlangga\n",
            "1323       2  0.985091           airlangga\n",
            "9086       1  0.010566  airlangga_hartarto\n",
            "9086       2  0.993209  airlangga_hartarto\n",
            "11837      2  1.000376                 ako\n",
            "...      ...       ...                 ...\n",
            "1049       1  0.035712                  uu\n",
            "1049       2  0.964225                  uu\n",
            "658        2  0.998148                 vii\n",
            "10521      1  0.073292          yantie_pln\n",
            "10521      2  0.926416          yantie_pln\n",
            "\n",
            "[216 rows x 3 columns], R=30, lambda_step=0.01, plot_opts={'xlab': 'PC1', 'ylab': 'PC2'}, topic_order=[1, 2])\n"
          ]
        }
      ],
      "source": [
        "#import gensim\n",
        "import pyLDAvis\n",
        "import pyLDAvis.gensim_models;pyLDAvis.enable_notebook()\n",
        "data = pyLDAvis.gensim_models.prepare(model, corpus_tfidf, dictionary)\n",
        "print(data)\n",
        "pyLDAvis.save_html(data, 'data/lda-gensim_clean_kualitatif2.html')"
      ]
    },
    {
      "cell_type": "code",
      "execution_count": 23,
      "metadata": {},
      "outputs": [
        {
          "data": {
            "text/html": [
              "\n",
              "<link rel=\"stylesheet\" type=\"text/css\" href=\"https://cdn.jsdelivr.net/gh/bmabey/pyLDAvis@3.3.1/pyLDAvis/js/ldavis.v1.0.0.css\">\n",
              "\n",
              "\n",
              "<div id=\"ldavis_el77482890849735616490654190\"></div>\n",
              "<script type=\"text/javascript\">\n",
              "\n",
              "var ldavis_el77482890849735616490654190_data = {\"mdsDat\": {\"x\": [-60.31231689453125, 60.31256103515625], \"y\": [141.36962890625, -141.369140625], \"topics\": [1, 2], \"cluster\": [1, 1], \"Freq\": [59.02142192723879, 40.97857807276121]}, \"tinfo\": {\"Term\": [\"pln_id\", \"pln\", \"erick_thohir\", \"ruu\", \"bangkit_listrik\", \"bangkit\", \"listrik\", \"kembang\", \"menteri_esdm\", \"menteri_bumn\", \"target\", \"capai_target\", \"id\", \"tinggi_indonesia\", \"indonesia\", \"ramah_lingkung\", \"erick\", \"larang_ekspor\", \"transisi\", \"capai_persen\", \"capai\", \"panas_bumi\", \"thohir\", \"baur\", \"manfaat\", \"dukung\", \"kuat_bidang\", \"komisi_vii\", \"mobil_listrik\", \"sulawesi_selatan\", \"bangkit_listrik\", \"bangkit\", \"menteri_esdm\", \"capai_target\", \"panas_bumi\", \"ramah_lingkung\", \"pln_id\", \"kejar_target\", \"bumi\", \"esdm\", \"tenaga\", \"tenaga_surya\", \"kurang_emisi\", \"ramah\", \"target\", \"surya\", \"bahan_bakar\", \"panas\", \"kapasitas\", \"alih\", \"lingkung\", \"tambah\", \"kejar\", \"genjot\", \"cepat\", \"gas_bumi\", \"rp_triliun\", \"batubara\", \"fosil\", \"emisi\", \"pln\", \"listrik\", \"id\", \"capai\", \"manfaat\", \"transisi\", \"investasi\", \"baur\", \"bangun\", \"plts_atap\", \"butuh\", \"kembang\", \"dukung\", \"guna\", \"perintah\", \"potensi\", \"indonesia\", \"dorong\", \"proyek\", \"menteri\", \"tingkat\", \"plts\", \"usaha\", \"bumn\", \"komisi_vii\", \"erick_thohir\", \"capai_persen\", \"micho\", \"thohir\", \"vii\", \"komisi\", \"erick\", \"sulawesi_selatan\", \"perintah_serius\", \"arsjad_rasjid\", \"menko_airlangga\", \"permen_esdm\", \"energy_watch\", \"anggota_dpr\", \"harmonisasi_ruu\", \"asia_tenggara\", \"pulau_sumba\", \"dyah_roro\", \"kawasan_industri\", \"ako\", \"ana\", \"bukit_asam\", \"hambat_kembang\", \"dpr_ri\", \"airlangga_hartarto\", \"tingkat_porsi\", \"sumatera_utara\", \"feed_tariff\", \"bahas_ruu\", \"mobil_listrik\", \"menteri_bumn\", \"e_hal\", \"tinggi_indonesia\", \"menteri_bumn_erick_thohir\", \"pulau\", \"temu_pm\", \"udien_pln\", \"larang_ekspor\", \"kuat_bidang\", \"dasamuka_pln\", \"airlangga\", \"ruu\", \"penuh_butuh\", \"rencana_ekspor\", \"uu\", \"heroes\", \"darmawan_prasodjo\", \"udien\", \"renewable_content\", \"yantie_pln\", \"keren_banget\", \"inggris_sepakat\", \"sulawesi\", \"dpr\", \"simak_bawah\", \"bahas\"], \"Freq\": [2083.0, 2100.0, 938.0, 1115.0, 1345.0, 1332.0, 1275.0, 1440.0, 1014.0, 604.0, 985.0, 930.0, 930.0, 548.0, 1397.0, 830.0, 484.0, 537.0, 920.0, 449.0, 795.0, 724.0, 419.0, 779.0, 733.0, 897.0, 448.0, 401.0, 414.0, 378.0, 1344.883008168163, 1331.7851315227786, 1013.6158157819577, 929.066197788614, 723.2588399907767, 829.1808119362383, 2079.2534918057727, 550.2515460813244, 334.20401388596207, 479.1143028262065, 330.20126675941657, 301.41623420421894, 326.65385671493243, 307.5090700155606, 982.1371815509104, 297.6659853980867, 270.2409526688016, 258.9436457468108, 334.3289842191855, 333.56889426596507, 386.4149164932538, 263.2284442319369, 275.4964275067239, 254.79225598609665, 445.3839249782773, 224.96681833675405, 205.94827146308535, 307.7504042697552, 437.43847025187387, 258.26241367938894, 2082.2639812073667, 1270.0700241140678, 925.9822271752528, 791.6847833513569, 730.0549559668716, 911.2136237505393, 608.4933967415717, 772.3621370217761, 693.25931385065, 379.82475700298505, 436.49822438057674, 1411.8066191930468, 877.4758903138307, 664.964940138861, 779.1619121232537, 534.8197448500038, 1336.376811145868, 598.2818979388827, 450.71665216739154, 519.3261492053325, 583.2046584895428, 492.03646677719314, 473.75260133814356, 496.93353401768155, 400.7345541449564, 937.6854357539636, 449.0655131938898, 356.10063810080885, 418.315858589896, 164.89226063449175, 207.62550948020305, 482.7492219257386, 377.7908885902718, 176.536460666615, 152.11895009221894, 303.5442055881552, 137.96159452580713, 147.3527453329883, 112.05219597646911, 121.88018850576094, 102.17699623241472, 70.7465765205308, 133.29776279848053, 263.5290009213649, 74.50483854654769, 66.7483898527636, 130.16475657304443, 136.29600422109232, 166.8255140322451, 94.02293498606386, 237.37218575605013, 62.2080720050285, 89.66386328990058, 189.29758702934998, 410.8020565354185, 593.5771930203043, 305.46938372649146, 538.138553952297, 161.30348832298196, 151.63470672694885, 149.5104079864209, 324.64940806951216, 522.4810536850224, 437.1144403420238, 231.47053212093164, 242.61464935438562, 1062.268723375872, 331.7067700194734, 231.7225113232885, 351.3935784599092, 381.1727242780353, 215.65183775075013, 254.790040728679, 296.80438409597883, 315.83036930109785, 249.22197437503462, 311.8716256741111, 294.8742804382549, 276.4686773619016, 328.1739023530133, 244.43999499187044], \"Total\": [2083.0, 2100.0, 938.0, 1115.0, 1345.0, 1332.0, 1275.0, 1440.0, 1014.0, 604.0, 985.0, 930.0, 930.0, 548.0, 1397.0, 830.0, 484.0, 537.0, 920.0, 449.0, 795.0, 724.0, 419.0, 779.0, 733.0, 897.0, 448.0, 401.0, 414.0, 378.0, 1345.7737312360753, 1332.7987229072455, 1014.6037151752785, 930.1813465171012, 724.1435402340362, 830.2278168533572, 2083.4497637445183, 551.3852686963364, 335.1268188545369, 480.4804309697786, 331.1945155665361, 302.34241058144863, 327.68575090008125, 308.5063875406792, 985.3322967125524, 298.63837912675626, 271.1252293214444, 259.7985959137279, 335.4570840054656, 334.782108728512, 387.821750550803, 264.20096747827296, 276.5163943198424, 255.73566671920835, 447.0597676341303, 225.8628490973714, 206.77051305218657, 308.99371827343504, 439.2153201814076, 259.3200967660881, 2100.1291284284384, 1275.6393647838302, 930.1218625270462, 795.7102730318152, 733.4722760522433, 920.2580941439531, 612.3023673137316, 779.2321736922897, 699.2394497233466, 381.6669616077752, 439.3854927577254, 1440.9593556021039, 897.0167138127056, 676.2691999416421, 796.4229443914322, 542.6376742332363, 1397.6077702804814, 613.5230832620473, 456.30494231478474, 541.0241492866478, 627.857460011974, 510.6192330087838, 494.4810226494228, 571.0404359643343, 401.16379144467476, 938.6992220527843, 449.66740296582805, 356.6662030168997, 419.2510331275229, 165.30610996868248, 208.17287499498514, 484.0934468782448, 378.9635598801823, 177.1109391220018, 152.68474968356253, 304.74700398820005, 138.53964565303028, 148.00854532677258, 112.6088465146172, 122.50298089288883, 102.70645981026215, 71.1401401189486, 134.0939387025987, 265.1088338477066, 74.97181998420447, 67.16791981575714, 131.00703187086765, 137.17860479293086, 167.91204003320877, 94.64272873685941, 238.9423304886918, 62.62023562268575, 90.27751792733334, 190.60956098046614, 414.16050239093494, 604.9015641684596, 309.5804676843812, 548.750185583187, 162.53017816602747, 152.9227578040407, 150.83896803764048, 330.60317553027187, 537.4626716470416, 448.4774131627032, 234.77904567515796, 246.67775542266125, 1115.138361897085, 340.22298354745965, 236.41911047432149, 364.0231605655235, 400.1945032235503, 221.01545806269436, 264.007986060646, 312.09432187631745, 341.0994164179359, 263.1458484026069, 358.5889582620099, 343.4317143719854, 318.7197347143483, 441.2205554642272, 358.3179976562321], \"Category\": [\"Default\", \"Default\", \"Default\", \"Default\", \"Default\", \"Default\", \"Default\", \"Default\", \"Default\", \"Default\", \"Default\", \"Default\", \"Default\", \"Default\", \"Default\", \"Default\", \"Default\", \"Default\", \"Default\", \"Default\", \"Default\", \"Default\", \"Default\", \"Default\", \"Default\", \"Default\", \"Default\", \"Default\", \"Default\", \"Default\", \"Topic1\", \"Topic1\", \"Topic1\", \"Topic1\", \"Topic1\", \"Topic1\", \"Topic1\", \"Topic1\", \"Topic1\", \"Topic1\", \"Topic1\", \"Topic1\", \"Topic1\", \"Topic1\", \"Topic1\", \"Topic1\", \"Topic1\", \"Topic1\", \"Topic1\", \"Topic1\", \"Topic1\", \"Topic1\", \"Topic1\", \"Topic1\", \"Topic1\", \"Topic1\", \"Topic1\", \"Topic1\", \"Topic1\", \"Topic1\", \"Topic1\", \"Topic1\", \"Topic1\", \"Topic1\", \"Topic1\", \"Topic1\", \"Topic1\", \"Topic1\", \"Topic1\", \"Topic1\", \"Topic1\", \"Topic1\", \"Topic1\", \"Topic1\", \"Topic1\", \"Topic1\", \"Topic1\", \"Topic1\", \"Topic1\", \"Topic1\", \"Topic1\", \"Topic1\", \"Topic1\", \"Topic1\", \"Topic2\", \"Topic2\", \"Topic2\", \"Topic2\", \"Topic2\", \"Topic2\", \"Topic2\", \"Topic2\", \"Topic2\", \"Topic2\", \"Topic2\", \"Topic2\", \"Topic2\", \"Topic2\", \"Topic2\", \"Topic2\", \"Topic2\", \"Topic2\", \"Topic2\", \"Topic2\", \"Topic2\", \"Topic2\", \"Topic2\", \"Topic2\", \"Topic2\", \"Topic2\", \"Topic2\", \"Topic2\", \"Topic2\", \"Topic2\", \"Topic2\", \"Topic2\", \"Topic2\", \"Topic2\", \"Topic2\", \"Topic2\", \"Topic2\", \"Topic2\", \"Topic2\", \"Topic2\", \"Topic2\", \"Topic2\", \"Topic2\", \"Topic2\", \"Topic2\", \"Topic2\", \"Topic2\", \"Topic2\", \"Topic2\", \"Topic2\", \"Topic2\", \"Topic2\", \"Topic2\", \"Topic2\", \"Topic2\", \"Topic2\", \"Topic2\"], \"logprob\": [30.0, 29.0, 28.0, 27.0, 26.0, 25.0, 24.0, 23.0, 22.0, 21.0, 20.0, 19.0, 18.0, 17.0, 16.0, 15.0, 14.0, 13.0, 12.0, 11.0, 10.0, 9.0, 8.0, 7.0, 6.0, 5.0, 4.0, 3.0, 2.0, 1.0, -4.7811, -4.7909, -5.0639, -5.151, -5.4014, -5.2648, -4.3454, -5.6748, -6.1735, -5.8133, -6.1855, -6.2767, -6.1963, -6.2567, -5.0955, -6.2892, -6.3859, -6.4286, -6.1731, -6.1754, -6.0283, -6.4122, -6.3666, -6.4448, -5.8863, -6.5693, -6.6576, -6.2559, -5.9043, -6.4312, -4.344, -4.8384, -5.1544, -5.311, -5.3921, -5.1704, -5.5742, -5.3358, -5.4438, -6.0455, -5.9064, -4.7326, -5.2082, -5.4855, -5.327, -5.7033, -4.7875, -5.5911, -5.8744, -5.7327, -5.6167, -5.7867, -5.8245, -5.7768, -5.6271, -4.7769, -5.5132, -5.7451, -5.5841, -6.5151, -6.2846, -5.4409, -5.686, -6.4468, -6.5957, -5.9048, -6.6934, -6.6275, -6.9014, -6.8173, -6.9937, -7.3613, -6.7278, -6.0462, -7.3095, -7.4194, -6.7516, -6.7055, -6.5034, -7.0768, -6.1507, -7.4899, -7.1243, -6.377, -5.6022, -5.2342, -5.8985, -5.3322, -6.5371, -6.5989, -6.613, -5.8376, -5.3618, -5.5402, -6.1759, -6.1289, -4.6522, -5.8161, -6.1748, -5.7585, -5.6771, -6.2467, -6.0799, -5.9273, -5.8652, -6.102, -5.8778, -5.9338, -5.9983, -5.8268, -6.1214], \"loglift\": [30.0, 29.0, 28.0, 27.0, 26.0, 25.0, 24.0, 23.0, 22.0, 21.0, 20.0, 19.0, 18.0, 17.0, 16.0, 15.0, 14.0, 13.0, 12.0, 11.0, 10.0, 9.0, 8.0, 7.0, 6.0, 5.0, 4.0, 3.0, 2.0, 1.0, 0.5266, 0.5265, 0.5263, 0.5261, 0.526, 0.526, 0.5253, 0.5252, 0.5245, 0.5244, 0.5243, 0.5242, 0.5241, 0.524, 0.524, 0.524, 0.524, 0.524, 0.5239, 0.5236, 0.5236, 0.5236, 0.5236, 0.5236, 0.5235, 0.5233, 0.5233, 0.5232, 0.5232, 0.5232, 0.5187, 0.5229, 0.5228, 0.5222, 0.5226, 0.5174, 0.521, 0.5184, 0.5187, 0.5224, 0.5207, 0.5068, 0.5052, 0.5104, 0.5054, 0.5128, 0.4825, 0.5021, 0.5149, 0.4863, 0.4535, 0.4902, 0.4844, 0.3883, 0.8911, 0.891, 0.8908, 0.8905, 0.8899, 0.8896, 0.8895, 0.8893, 0.889, 0.8889, 0.8884, 0.8882, 0.8879, 0.8877, 0.8872, 0.887, 0.887, 0.8866, 0.8862, 0.8861, 0.8859, 0.8859, 0.8857, 0.8857, 0.8856, 0.8856, 0.8855, 0.8855, 0.8853, 0.8852, 0.884, 0.8732, 0.8788, 0.8726, 0.8845, 0.8837, 0.8833, 0.8739, 0.8639, 0.8665, 0.8779, 0.8755, 0.8435, 0.8668, 0.8721, 0.8568, 0.8434, 0.8676, 0.8566, 0.8419, 0.8152, 0.8378, 0.7525, 0.7397, 0.7499, 0.5961, 0.5097]}, \"token.table\": {\"Topic\": [1, 2, 1, 2, 2, 1, 2, 2, 1, 2, 1, 2, 1, 2, 1, 2, 1, 2, 1, 2, 1, 2, 1, 2, 1, 2, 1, 2, 1, 2, 1, 2, 1, 2, 1, 2, 1, 2, 1, 2, 1, 2, 1, 2, 1, 2, 1, 2, 1, 2, 1, 2, 1, 2, 1, 2, 1, 2, 1, 2, 1, 2, 1, 2, 1, 2, 1, 2, 1, 2, 1, 2, 1, 2, 1, 2, 1, 2, 1, 2, 1, 2, 1, 2, 1, 2, 1, 2, 1, 2, 1, 2, 1, 2, 1, 2, 1, 2, 1, 2, 1, 2, 1, 2, 1, 2, 1, 2, 1, 2, 2, 1, 2, 1, 2, 1, 2, 1, 2, 1, 2, 1, 2, 1, 2, 1, 2, 1, 2, 1, 2, 1, 2, 1, 2, 1, 2, 1, 2, 1, 2, 1, 2, 1, 2, 1, 2, 1, 2, 1, 2, 1, 2, 1, 2, 1, 2, 1, 2, 1, 2, 1, 2, 2, 1, 2, 1, 2, 1, 2, 1, 2, 1, 2, 1, 2, 1, 2, 1, 2, 1, 2, 2, 1, 2, 1, 2, 1, 2, 1, 2, 1, 2, 1, 2, 1, 2, 1, 2, 1, 2, 1, 2, 1, 2, 1, 2, 1, 2, 1, 2, 1, 2, 2, 1, 2], \"Freq\": [0.016215487258453207, 0.9850908509510323, 0.0105660520712622, 0.9932088946986469, 1.0003758747727007, 0.997663827581819, 0.0029870174478497575, 0.9974999997585492, 0.008880296983329768, 0.9945932621329341, 0.006549442574143712, 0.9955152712698442, 0.009736485921600063, 0.9931215640032064, 0.9958497801024989, 0.003688332518898144, 0.3181531509599773, 0.6809593757388988, 0.00524632654760944, 0.9915557174981842, 0.9994007175325744, 0.0007503008389884192, 0.9994250658798604, 0.0007430669634794501, 0.9910768053406951, 0.008580751561391299, 0.9967840178791089, 0.003236311746360743, 0.9907188461456603, 0.008983201972823344, 0.007633178049447683, 0.9923131464281988, 0.9966376344979242, 0.0029839450134668388, 0.8703411679782364, 0.1295880209866992, 0.9922949373305956, 0.006827717458696759, 0.9953371557995874, 0.0050269553323211485, 0.0022238658915553944, 0.9985157853083722, 0.9987299825764894, 0.0010750591846894397, 0.9953926347588137, 0.0044736747629609604, 0.02262285201147186, 0.9773072068955844, 0.012777971694078792, 0.9839038204440669, 0.9746984527794579, 0.024448957845638577, 0.13177721811811366, 0.865964576204747, 0.005955499080365084, 0.994568346420969, 0.9776852387425136, 0.022296128591619464, 0.007457458626954481, 0.9918419973849459, 0.012920711793994767, 0.9852042742921011, 0.9949093927445243, 0.003856237956374125, 0.006756366652967264, 0.9931858979861878, 0.0020657168702626783, 0.9977412483368737, 0.0010653039615960912, 0.9992551159771336, 0.9969188527266541, 0.0020812502144606556, 0.011076954960203108, 0.9969259464182797, 0.9949561864543053, 0.004553575224047164, 0.9961797652831369, 0.0044274656234806085, 0.997123331568701, 0.003910287574779219, 0.9833362218143092, 0.016265711939785564, 0.007289766516502232, 0.9914082462443036, 0.008163066667531589, 0.9958941334388539, 0.04747691396797252, 0.9520370643051331, 0.9955684704412306, 0.004300511751366007, 0.9559191272468973, 0.043646008055434685, 0.13106928955034514, 0.8700769859512273, 0.9929734596117817, 0.00653272012902488, 0.9956564220136074, 0.0029810072515377463, 0.007544071508190151, 0.9958174390810999, 0.994516078066285, 0.003616422102059218, 0.9974876574058431, 0.0018136139225560783, 0.9799027255768756, 0.020125480907740363, 0.05320243539841196, 0.946243315300327, 0.00480369980970907, 0.9991695604194865, 0.9995917093013681, 0.0245274336614346, 0.9744080463679019, 0.9979072910610314, 0.0030517042540092703, 0.027908914965262342, 0.9712302407911295, 0.9953026086128082, 0.0025785041673906947, 0.995579185669936, 0.004703523711826469, 0.9952659750537102, 0.004090134144056344, 0.003281410438537799, 0.997548773315491, 0.9592917445262155, 0.04066361922847156, 0.018184776915102504, 0.9819779534155353, 0.006152703524255552, 0.9905852674051439, 0.9994049744089749, 0.0009856064836380424, 0.0028037419624887126, 0.9981321386459817, 0.007243568574697729, 0.9923688947335889, 0.9969260961133404, 0.0038491355062291134, 0.9984208376233438, 0.00138094168412634, 0.02645323930252507, 0.9758306053820359, 0.978123502701513, 0.021345442292587575, 0.005646178632202701, 0.9993736178998781, 0.0072181504094826375, 0.996104756508604, 0.9913676125039013, 0.008570901549025083, 0.9978642327633949, 0.0019198927037294754, 0.9635359739603394, 0.037209722571639126, 0.9956324183766048, 0.005240170623034762, 0.985924909758563, 0.01474280238891309, 0.9883741291780156, 0.013149101496825041, 0.006539249058543834, 0.9939658568986628, 0.9980300837373348, 0.9983585832866672, 0.0032414239717099584, 0.998521108509697, 0.001204488671302409, 0.021148882550013112, 0.9813081503206085, 0.04806239315672164, 0.9516353845030884, 0.9962735834969269, 0.00483627953153848, 0.04752773450447517, 0.9523481895047666, 0.256107741583136, 0.7433923826483947, 0.1426775628150813, 0.8589771638867139, 0.0026387761406826875, 0.9974573811780559, 0.9900952844313309, 0.9978623674270436, 0.003348531434318938, 0.9954543411035324, 0.003784997494690237, 0.9966180985605869, 0.0030446581422421187, 0.006629586591645596, 0.9944379887468394, 0.9963933111498154, 0.003019373670150956, 0.9955599660038862, 0.0033075081927039407, 0.0023852058098467028, 0.9970160285159217, 0.020045551307303334, 0.9804096912117448, 0.9285547072879909, 0.07167231874435608, 0.00837022052940365, 0.9918711327343327, 0.9899396764854698, 0.009779865080537024, 0.03408987786427258, 0.9658798728210565, 0.018148646002496147, 0.9830516584685413, 0.9585807711291209, 0.04246876834116358, 0.03571201343289262, 0.9642243626881006, 0.9981482235064362, 0.0732924150458483, 0.9264161261795225], \"Term\": [\"airlangga\", \"airlangga\", \"airlangga_hartarto\", \"airlangga_hartarto\", \"ako\", \"alih\", \"alih\", \"ana\", \"anggota_dpr\", \"anggota_dpr\", \"arsjad_rasjid\", \"arsjad_rasjid\", \"asia_tenggara\", \"asia_tenggara\", \"bahan_bakar\", \"bahan_bakar\", \"bahas\", \"bahas\", \"bahas_ruu\", \"bahas_ruu\", \"bangkit\", \"bangkit\", \"bangkit_listrik\", \"bangkit_listrik\", \"bangun\", \"bangun\", \"batubara\", \"batubara\", \"baur\", \"baur\", \"bukit_asam\", \"bukit_asam\", \"bumi\", \"bumi\", \"bumn\", \"bumn\", \"butuh\", \"butuh\", \"capai\", \"capai\", \"capai_persen\", \"capai_persen\", \"capai_target\", \"capai_target\", \"cepat\", \"cepat\", \"darmawan_prasodjo\", \"darmawan_prasodjo\", \"dasamuka_pln\", \"dasamuka_pln\", \"dorong\", \"dorong\", \"dpr\", \"dpr\", \"dpr_ri\", \"dpr_ri\", \"dukung\", \"dukung\", \"dyah_roro\", \"dyah_roro\", \"e_hal\", \"e_hal\", \"emisi\", \"emisi\", \"energy_watch\", \"energy_watch\", \"erick\", \"erick\", \"erick_thohir\", \"erick_thohir\", \"esdm\", \"esdm\", \"feed_tariff\", \"feed_tariff\", \"fosil\", \"fosil\", \"gas_bumi\", \"gas_bumi\", \"genjot\", \"genjot\", \"guna\", \"guna\", \"hambat_kembang\", \"hambat_kembang\", \"harmonisasi_ruu\", \"harmonisasi_ruu\", \"heroes\", \"heroes\", \"id\", \"id\", \"indonesia\", \"indonesia\", \"inggris_sepakat\", \"inggris_sepakat\", \"investasi\", \"investasi\", \"kapasitas\", \"kapasitas\", \"kawasan_industri\", \"kawasan_industri\", \"kejar\", \"kejar\", \"kejar_target\", \"kejar_target\", \"kembang\", \"kembang\", \"keren_banget\", \"keren_banget\", \"komisi\", \"komisi\", \"komisi_vii\", \"kuat_bidang\", \"kuat_bidang\", \"kurang_emisi\", \"kurang_emisi\", \"larang_ekspor\", \"larang_ekspor\", \"lingkung\", \"lingkung\", \"listrik\", \"listrik\", \"manfaat\", \"manfaat\", \"menko_airlangga\", \"menko_airlangga\", \"menteri\", \"menteri\", \"menteri_bumn\", \"menteri_bumn\", \"menteri_bumn_erick_thohir\", \"menteri_bumn_erick_thohir\", \"menteri_esdm\", \"menteri_esdm\", \"micho\", \"micho\", \"mobil_listrik\", \"mobil_listrik\", \"panas\", \"panas\", \"panas_bumi\", \"panas_bumi\", \"penuh_butuh\", \"penuh_butuh\", \"perintah\", \"perintah\", \"perintah_serius\", \"perintah_serius\", \"permen_esdm\", \"permen_esdm\", \"pln\", \"pln\", \"pln_id\", \"pln_id\", \"plts\", \"plts\", \"plts_atap\", \"plts_atap\", \"potensi\", \"potensi\", \"proyek\", \"proyek\", \"pulau\", \"pulau\", \"pulau_sumba\", \"ramah\", \"ramah\", \"ramah_lingkung\", \"ramah_lingkung\", \"rencana_ekspor\", \"rencana_ekspor\", \"renewable_content\", \"renewable_content\", \"rp_triliun\", \"rp_triliun\", \"ruu\", \"ruu\", \"simak_bawah\", \"simak_bawah\", \"sulawesi\", \"sulawesi\", \"sulawesi_selatan\", \"sulawesi_selatan\", \"sumatera_utara\", \"surya\", \"surya\", \"tambah\", \"tambah\", \"target\", \"target\", \"temu_pm\", \"temu_pm\", \"tenaga\", \"tenaga\", \"tenaga_surya\", \"tenaga_surya\", \"thohir\", \"thohir\", \"tinggi_indonesia\", \"tinggi_indonesia\", \"tingkat\", \"tingkat\", \"tingkat_porsi\", \"tingkat_porsi\", \"transisi\", \"transisi\", \"udien\", \"udien\", \"udien_pln\", \"udien_pln\", \"usaha\", \"usaha\", \"uu\", \"uu\", \"vii\", \"yantie_pln\", \"yantie_pln\"]}, \"R\": 30, \"lambda.step\": 0.01, \"plot.opts\": {\"xlab\": \"PC1\", \"ylab\": \"PC2\"}, \"topic.order\": [1, 2]};\n",
              "\n",
              "function LDAvis_load_lib(url, callback){\n",
              "  var s = document.createElement('script');\n",
              "  s.src = url;\n",
              "  s.async = true;\n",
              "  s.onreadystatechange = s.onload = callback;\n",
              "  s.onerror = function(){console.warn(\"failed to load library \" + url);};\n",
              "  document.getElementsByTagName(\"head\")[0].appendChild(s);\n",
              "}\n",
              "\n",
              "if(typeof(LDAvis) !== \"undefined\"){\n",
              "   // already loaded: just create the visualization\n",
              "   !function(LDAvis){\n",
              "       new LDAvis(\"#\" + \"ldavis_el77482890849735616490654190\", ldavis_el77482890849735616490654190_data);\n",
              "   }(LDAvis);\n",
              "}else if(typeof define === \"function\" && define.amd){\n",
              "   // require.js is available: use it to load d3/LDAvis\n",
              "   require.config({paths: {d3: \"https://d3js.org/d3.v5\"}});\n",
              "   require([\"d3\"], function(d3){\n",
              "      window.d3 = d3;\n",
              "      LDAvis_load_lib(\"https://cdn.jsdelivr.net/gh/bmabey/pyLDAvis@3.3.1/pyLDAvis/js/ldavis.v3.0.0.js\", function(){\n",
              "        new LDAvis(\"#\" + \"ldavis_el77482890849735616490654190\", ldavis_el77482890849735616490654190_data);\n",
              "      });\n",
              "    });\n",
              "}else{\n",
              "    // require.js not available: dynamically load d3 & LDAvis\n",
              "    LDAvis_load_lib(\"https://d3js.org/d3.v5.js\", function(){\n",
              "         LDAvis_load_lib(\"https://cdn.jsdelivr.net/gh/bmabey/pyLDAvis@3.3.1/pyLDAvis/js/ldavis.v3.0.0.js\", function(){\n",
              "                 new LDAvis(\"#\" + \"ldavis_el77482890849735616490654190\", ldavis_el77482890849735616490654190_data);\n",
              "            })\n",
              "         });\n",
              "}\n",
              "</script>"
            ],
            "text/plain": [
              "PreparedData(topic_coordinates=               x           y  topics  cluster       Freq\n",
              "topic                                                   \n",
              "0     -60.312317  141.369629       1        1  59.021422\n",
              "1      60.312561 -141.369141       2        1  40.978578, topic_info=                  Term         Freq        Total Category  logprob  loglift\n",
              "7140            pln_id  2083.000000  2083.000000  Default  30.0000  30.0000\n",
              "150                pln  2100.000000  2100.000000  Default  29.0000  29.0000\n",
              "8163      erick_thohir   938.000000   938.000000  Default  28.0000  28.0000\n",
              "3362               ruu  1115.000000  1115.000000  Default  27.0000  27.0000\n",
              "783    bangkit_listrik  1345.000000  1345.000000  Default  26.0000  26.0000\n",
              "...                ...          ...          ...      ...      ...      ...\n",
              "16340  inggris_sepakat   311.871626   358.588958   Topic2  -5.8778   0.7525\n",
              "5179          sulawesi   294.874280   343.431714   Topic2  -5.9338   0.7397\n",
              "245                dpr   276.468677   318.719735   Topic2  -5.9983   0.7499\n",
              "16195      simak_bawah   328.173902   441.220555   Topic2  -5.8268   0.5961\n",
              "169              bahas   244.439995   358.317998   Topic2  -6.1214   0.5097\n",
              "\n",
              "[141 rows x 6 columns], token_table=       Topic      Freq                Term\n",
              "term                                      \n",
              "1323       1  0.016215           airlangga\n",
              "1323       2  0.985091           airlangga\n",
              "9086       1  0.010566  airlangga_hartarto\n",
              "9086       2  0.993209  airlangga_hartarto\n",
              "11837      2  1.000376                 ako\n",
              "...      ...       ...                 ...\n",
              "1049       1  0.035712                  uu\n",
              "1049       2  0.964224                  uu\n",
              "658        2  0.998148                 vii\n",
              "10521      1  0.073292          yantie_pln\n",
              "10521      2  0.926416          yantie_pln\n",
              "\n",
              "[216 rows x 3 columns], R=30, lambda_step=0.01, plot_opts={'xlab': 'PC1', 'ylab': 'PC2'}, topic_order=[1, 2])"
            ]
          },
          "execution_count": 23,
          "metadata": {},
          "output_type": "execute_result"
        }
      ],
      "source": [
        "import pyLDAvis.gensim_models as gensimvis\n",
        "pyLDAvis.enable_notebook()\n",
        "panel = gensimvis.prepare(model, corpus_tfidf, dictionary, mds='tsne')\n",
        "panel"
      ]
    },
    {
      "cell_type": "code",
      "execution_count": null,
      "metadata": {},
      "outputs": [],
      "source": []
    }
  ],
  "metadata": {
    "accelerator": "TPU",
    "colab": {
      "collapsed_sections": [],
      "name": "Data Kualitatif- LDA.ipynb",
      "provenance": []
    },
    "kernelspec": {
      "display_name": "Python 3.9.2 ('venv': venv)",
      "language": "python",
      "name": "python3"
    },
    "language_info": {
      "codemirror_mode": {
        "name": "ipython",
        "version": 3
      },
      "file_extension": ".py",
      "mimetype": "text/x-python",
      "name": "python",
      "nbconvert_exporter": "python",
      "pygments_lexer": "ipython3",
      "version": "3.9.2"
    },
    "vscode": {
      "interpreter": {
        "hash": "58c1471dee2bb56ac69a6c3088a67817a3dc7b2931901bb43f222b8d3b436586"
      }
    }
  },
  "nbformat": 4,
  "nbformat_minor": 0
}
