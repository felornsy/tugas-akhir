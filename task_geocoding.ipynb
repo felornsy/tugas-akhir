{
 "cells": [
  {
   "cell_type": "code",
   "execution_count": 3,
   "metadata": {},
   "outputs": [],
   "source": [
    "import pandas as pd\n",
    "import numpy as np\n",
    "import matplotlib.pyplot as plt\n",
    "import geopandas as gpd\n",
    "from geopy.geocoders import Nominatim\n",
    "from shapely.geometry import Point\n",
    "from geopandas import GeoDataFrame"
   ]
  },
  {
   "cell_type": "code",
   "execution_count": 4,
   "metadata": {},
   "outputs": [
    {
     "ename": "KeyError",
     "evalue": "'country'",
     "output_type": "error",
     "traceback": [
      "\u001b[0;31m---------------------------------------------------------------------------\u001b[0m",
      "\u001b[0;31mKeyError\u001b[0m                                  Traceback (most recent call last)",
      "File \u001b[0;32m~/Personal/sara/tugas-akhir/venv/lib/python3.9/site-packages/pandas/core/indexes/base.py:3621\u001b[0m, in \u001b[0;36mIndex.get_loc\u001b[0;34m(self, key, method, tolerance)\u001b[0m\n\u001b[1;32m   3620\u001b[0m \u001b[39mtry\u001b[39;00m:\n\u001b[0;32m-> 3621\u001b[0m     \u001b[39mreturn\u001b[39;00m \u001b[39mself\u001b[39;49m\u001b[39m.\u001b[39;49m_engine\u001b[39m.\u001b[39;49mget_loc(casted_key)\n\u001b[1;32m   3622\u001b[0m \u001b[39mexcept\u001b[39;00m \u001b[39mKeyError\u001b[39;00m \u001b[39mas\u001b[39;00m err:\n",
      "File \u001b[0;32mpandas/_libs/index.pyx:136\u001b[0m, in \u001b[0;36mpandas._libs.index.IndexEngine.get_loc\u001b[0;34m()\u001b[0m\n",
      "File \u001b[0;32mpandas/_libs/index.pyx:163\u001b[0m, in \u001b[0;36mpandas._libs.index.IndexEngine.get_loc\u001b[0;34m()\u001b[0m\n",
      "File \u001b[0;32mpandas/_libs/hashtable_class_helper.pxi:5198\u001b[0m, in \u001b[0;36mpandas._libs.hashtable.PyObjectHashTable.get_item\u001b[0;34m()\u001b[0m\n",
      "File \u001b[0;32mpandas/_libs/hashtable_class_helper.pxi:5206\u001b[0m, in \u001b[0;36mpandas._libs.hashtable.PyObjectHashTable.get_item\u001b[0;34m()\u001b[0m\n",
      "\u001b[0;31mKeyError\u001b[0m: 'country'",
      "\nThe above exception was the direct cause of the following exception:\n",
      "\u001b[0;31mKeyError\u001b[0m                                  Traceback (most recent call last)",
      "\u001b[1;32m/Users/indralionardy/Personal/sara/tugas-akhir/task_geocoding.ipynb Cell 2\u001b[0m in \u001b[0;36m<cell line: 10>\u001b[0;34m()\u001b[0m\n\u001b[1;32m      <a href='vscode-notebook-cell:/Users/indralionardy/Personal/sara/tugas-akhir/task_geocoding.ipynb#ch0000002?line=6'>7</a>\u001b[0m df \u001b[39m=\u001b[39m df[df[\u001b[39m'\u001b[39m\u001b[39mlongitude\u001b[39m\u001b[39m'\u001b[39m]\u001b[39m.\u001b[39misna() \u001b[39m==\u001b[39m \u001b[39mFalse\u001b[39;00m]\n\u001b[1;32m      <a href='vscode-notebook-cell:/Users/indralionardy/Personal/sara/tugas-akhir/task_geocoding.ipynb#ch0000002?line=8'>9</a>\u001b[0m df \u001b[39m=\u001b[39m df[df[\u001b[39m'\u001b[39m\u001b[39mlongitude\u001b[39m\u001b[39m'\u001b[39m]\u001b[39m.\u001b[39misnull() \u001b[39m==\u001b[39m \u001b[39mFalse\u001b[39;00m]\n\u001b[0;32m---> <a href='vscode-notebook-cell:/Users/indralionardy/Personal/sara/tugas-akhir/task_geocoding.ipynb#ch0000002?line=9'>10</a>\u001b[0m df \u001b[39m=\u001b[39m df[df[\u001b[39m'\u001b[39;49m\u001b[39mcountry\u001b[39;49m\u001b[39m'\u001b[39;49m] \u001b[39m==\u001b[39m \u001b[39m\"\u001b[39m\u001b[39mIndonesia\u001b[39m\u001b[39m\"\u001b[39m]\n\u001b[1;32m     <a href='vscode-notebook-cell:/Users/indralionardy/Personal/sara/tugas-akhir/task_geocoding.ipynb#ch0000002?line=11'>12</a>\u001b[0m df \u001b[39m=\u001b[39m df\u001b[39m.\u001b[39mhead(\u001b[39m10\u001b[39m)\n\u001b[1;32m     <a href='vscode-notebook-cell:/Users/indralionardy/Personal/sara/tugas-akhir/task_geocoding.ipynb#ch0000002?line=12'>13</a>\u001b[0m df\u001b[39m.\u001b[39mhead(\u001b[39m5\u001b[39m)\n",
      "File \u001b[0;32m~/Personal/sara/tugas-akhir/venv/lib/python3.9/site-packages/pandas/core/frame.py:3505\u001b[0m, in \u001b[0;36mDataFrame.__getitem__\u001b[0;34m(self, key)\u001b[0m\n\u001b[1;32m   3503\u001b[0m \u001b[39mif\u001b[39;00m \u001b[39mself\u001b[39m\u001b[39m.\u001b[39mcolumns\u001b[39m.\u001b[39mnlevels \u001b[39m>\u001b[39m \u001b[39m1\u001b[39m:\n\u001b[1;32m   3504\u001b[0m     \u001b[39mreturn\u001b[39;00m \u001b[39mself\u001b[39m\u001b[39m.\u001b[39m_getitem_multilevel(key)\n\u001b[0;32m-> 3505\u001b[0m indexer \u001b[39m=\u001b[39m \u001b[39mself\u001b[39;49m\u001b[39m.\u001b[39;49mcolumns\u001b[39m.\u001b[39;49mget_loc(key)\n\u001b[1;32m   3506\u001b[0m \u001b[39mif\u001b[39;00m is_integer(indexer):\n\u001b[1;32m   3507\u001b[0m     indexer \u001b[39m=\u001b[39m [indexer]\n",
      "File \u001b[0;32m~/Personal/sara/tugas-akhir/venv/lib/python3.9/site-packages/pandas/core/indexes/base.py:3623\u001b[0m, in \u001b[0;36mIndex.get_loc\u001b[0;34m(self, key, method, tolerance)\u001b[0m\n\u001b[1;32m   3621\u001b[0m     \u001b[39mreturn\u001b[39;00m \u001b[39mself\u001b[39m\u001b[39m.\u001b[39m_engine\u001b[39m.\u001b[39mget_loc(casted_key)\n\u001b[1;32m   3622\u001b[0m \u001b[39mexcept\u001b[39;00m \u001b[39mKeyError\u001b[39;00m \u001b[39mas\u001b[39;00m err:\n\u001b[0;32m-> 3623\u001b[0m     \u001b[39mraise\u001b[39;00m \u001b[39mKeyError\u001b[39;00m(key) \u001b[39mfrom\u001b[39;00m \u001b[39merr\u001b[39;00m\n\u001b[1;32m   3624\u001b[0m \u001b[39mexcept\u001b[39;00m \u001b[39mTypeError\u001b[39;00m:\n\u001b[1;32m   3625\u001b[0m     \u001b[39m# If we have a listlike key, _check_indexing_error will raise\u001b[39;00m\n\u001b[1;32m   3626\u001b[0m     \u001b[39m#  InvalidIndexError. Otherwise we fall through and re-raise\u001b[39;00m\n\u001b[1;32m   3627\u001b[0m     \u001b[39m#  the TypeError.\u001b[39;00m\n\u001b[1;32m   3628\u001b[0m     \u001b[39mself\u001b[39m\u001b[39m.\u001b[39m_check_indexing_error(key)\n",
      "\u001b[0;31mKeyError\u001b[0m: 'country'"
     ]
    }
   ],
   "source": [
    "df = pd.read_csv('data/text-preprocessing.csv')\n",
    "df = df.drop(columns=['Unnamed: 0'])\n",
    "df = df[df['latitude'].isnull() == False]\n",
    "df = df[df['latitude'].isna() == False]\n",
    "\n",
    "df = df[df['longitude'].isnull() == False]\n",
    "df = df[df['longitude'].isna() == False]\n",
    "\n",
    "df = df[df['longitude'].isnull() == False]\n",
    "df = df[df['country'] == \"Indonesia\"]\n",
    "\n",
    "df = df.head(10)\n",
    "df.head(5)"
   ]
  },
  {
   "cell_type": "code",
   "execution_count": 2,
   "metadata": {},
   "outputs": [
    {
     "ename": "NameError",
     "evalue": "name 'df' is not defined",
     "output_type": "error",
     "traceback": [
      "\u001b[0;31m---------------------------------------------------------------------------\u001b[0m",
      "\u001b[0;31mNameError\u001b[0m                                 Traceback (most recent call last)",
      "\u001b[1;32m/Users/indralionardy/Personal/sara/tugas-akhir/task_geocoding.ipynb Cell 3\u001b[0m in \u001b[0;36m<cell line: 1>\u001b[0;34m()\u001b[0m\n\u001b[0;32m----> <a href='vscode-notebook-cell:/Users/indralionardy/Personal/sara/tugas-akhir/task_geocoding.ipynb#ch0000003?line=0'>1</a>\u001b[0m df \u001b[39m=\u001b[39m df[df[\u001b[39m'\u001b[39m\u001b[39mcountry\u001b[39m\u001b[39m'\u001b[39m] \u001b[39m==\u001b[39m \u001b[39m'\u001b[39m\u001b[39mIndonesia\u001b[39m\u001b[39m'\u001b[39m] \n\u001b[1;32m      <a href='vscode-notebook-cell:/Users/indralionardy/Personal/sara/tugas-akhir/task_geocoding.ipynb#ch0000003?line=1'>2</a>\u001b[0m \u001b[39mlen\u001b[39m(df)\n",
      "\u001b[0;31mNameError\u001b[0m: name 'df' is not defined"
     ]
    }
   ],
   "source": [
    "df = df[df['country'] == 'Indonesia'] \n",
    "len(df)"
   ]
  },
  {
   "cell_type": "code",
   "execution_count": 71,
   "metadata": {},
   "outputs": [
    {
     "data": {
      "text/plain": [
       "array(['Jawa Barat', 'Kalimantan Timur', 'DKI Jakarta', 'Papua Tengah',\n",
       "       'Kalimantan Utara', 'Banten', 'Jawa Tengah',\n",
       "       'Kepulauan Bangka Belitung', 'Sulawesi Tengah', 'Bali', 'Jambi',\n",
       "       'Jawa Timur', 'Daerah Istimewa Yogyakarta', 'Papua Barat',\n",
       "       'Kepulauan Riau', 'Sumatera Barat', 'Sumatera Selatan', 'Riau',\n",
       "       'Kalimantan Selatan', 'Sumatera Utara', 'Kalimantan Tengah',\n",
       "       'Sulawesi Selatan', 'Aceh', 'Nusa Tenggara Barat', 'Lampung',\n",
       "       'Kalimantan Barat', 'Nusa Tenggara Timur', 'Sulawesi Utara',\n",
       "       'Sulawesi Barat', 'Sulawesi Tenggara', 'Maluku', 'Gorontalo',\n",
       "       'Maluku Utara', 'Bengkulu', 'Papua Pegunungan', 'Papua',\n",
       "       'Papua Selatan'], dtype=object)"
      ]
     },
     "execution_count": 71,
     "metadata": {},
     "output_type": "execute_result"
    }
   ],
   "source": [
    "provinces = df['province'].unique()\n",
    "\n",
    "column_names = [\"province\", \"total\"]\n",
    "df_province = pd.DataFrame(columns = column_names)\n",
    "provinces"
   ]
  },
  {
   "cell_type": "code",
   "execution_count": 72,
   "metadata": {},
   "outputs": [
    {
     "data": {
      "text/html": [
       "<div>\n",
       "<style scoped>\n",
       "    .dataframe tbody tr th:only-of-type {\n",
       "        vertical-align: middle;\n",
       "    }\n",
       "\n",
       "    .dataframe tbody tr th {\n",
       "        vertical-align: top;\n",
       "    }\n",
       "\n",
       "    .dataframe thead th {\n",
       "        text-align: right;\n",
       "    }\n",
       "</style>\n",
       "<table border=\"1\" class=\"dataframe\">\n",
       "  <thead>\n",
       "    <tr style=\"text-align: right;\">\n",
       "      <th></th>\n",
       "      <th>province</th>\n",
       "      <th>total</th>\n",
       "    </tr>\n",
       "  </thead>\n",
       "  <tbody>\n",
       "    <tr>\n",
       "      <th>3</th>\n",
       "      <td>DKI Jakarta</td>\n",
       "      <td>21278</td>\n",
       "    </tr>\n",
       "    <tr>\n",
       "      <th>2</th>\n",
       "      <td>Kalimantan Timur</td>\n",
       "      <td>12885</td>\n",
       "    </tr>\n",
       "    <tr>\n",
       "      <th>1</th>\n",
       "      <td>Jawa Barat</td>\n",
       "      <td>4737</td>\n",
       "    </tr>\n",
       "    <tr>\n",
       "      <th>12</th>\n",
       "      <td>Jawa Timur</td>\n",
       "      <td>2788</td>\n",
       "    </tr>\n",
       "    <tr>\n",
       "      <th>7</th>\n",
       "      <td>Jawa Tengah</td>\n",
       "      <td>1899</td>\n",
       "    </tr>\n",
       "    <tr>\n",
       "      <th>13</th>\n",
       "      <td>Daerah Istimewa Yogyakarta</td>\n",
       "      <td>1811</td>\n",
       "    </tr>\n",
       "    <tr>\n",
       "      <th>6</th>\n",
       "      <td>Banten</td>\n",
       "      <td>1311</td>\n",
       "    </tr>\n",
       "    <tr>\n",
       "      <th>20</th>\n",
       "      <td>Sumatera Utara</td>\n",
       "      <td>918</td>\n",
       "    </tr>\n",
       "    <tr>\n",
       "      <th>10</th>\n",
       "      <td>Bali</td>\n",
       "      <td>779</td>\n",
       "    </tr>\n",
       "    <tr>\n",
       "      <th>16</th>\n",
       "      <td>Sumatera Barat</td>\n",
       "      <td>556</td>\n",
       "    </tr>\n",
       "    <tr>\n",
       "      <th>18</th>\n",
       "      <td>Riau</td>\n",
       "      <td>516</td>\n",
       "    </tr>\n",
       "    <tr>\n",
       "      <th>17</th>\n",
       "      <td>Sumatera Selatan</td>\n",
       "      <td>510</td>\n",
       "    </tr>\n",
       "    <tr>\n",
       "      <th>24</th>\n",
       "      <td>Nusa Tenggara Barat</td>\n",
       "      <td>451</td>\n",
       "    </tr>\n",
       "    <tr>\n",
       "      <th>25</th>\n",
       "      <td>Lampung</td>\n",
       "      <td>441</td>\n",
       "    </tr>\n",
       "    <tr>\n",
       "      <th>22</th>\n",
       "      <td>Sulawesi Selatan</td>\n",
       "      <td>416</td>\n",
       "    </tr>\n",
       "    <tr>\n",
       "      <th>26</th>\n",
       "      <td>Kalimantan Barat</td>\n",
       "      <td>280</td>\n",
       "    </tr>\n",
       "    <tr>\n",
       "      <th>23</th>\n",
       "      <td>Aceh</td>\n",
       "      <td>262</td>\n",
       "    </tr>\n",
       "    <tr>\n",
       "      <th>19</th>\n",
       "      <td>Kalimantan Selatan</td>\n",
       "      <td>233</td>\n",
       "    </tr>\n",
       "    <tr>\n",
       "      <th>15</th>\n",
       "      <td>Kepulauan Riau</td>\n",
       "      <td>217</td>\n",
       "    </tr>\n",
       "    <tr>\n",
       "      <th>28</th>\n",
       "      <td>Sulawesi Utara</td>\n",
       "      <td>217</td>\n",
       "    </tr>\n",
       "    <tr>\n",
       "      <th>27</th>\n",
       "      <td>Nusa Tenggara Timur</td>\n",
       "      <td>162</td>\n",
       "    </tr>\n",
       "    <tr>\n",
       "      <th>11</th>\n",
       "      <td>Jambi</td>\n",
       "      <td>115</td>\n",
       "    </tr>\n",
       "    <tr>\n",
       "      <th>21</th>\n",
       "      <td>Kalimantan Tengah</td>\n",
       "      <td>100</td>\n",
       "    </tr>\n",
       "    <tr>\n",
       "      <th>5</th>\n",
       "      <td>Kalimantan Utara</td>\n",
       "      <td>97</td>\n",
       "    </tr>\n",
       "    <tr>\n",
       "      <th>34</th>\n",
       "      <td>Bengkulu</td>\n",
       "      <td>63</td>\n",
       "    </tr>\n",
       "    <tr>\n",
       "      <th>8</th>\n",
       "      <td>Kepulauan Bangka Belitung</td>\n",
       "      <td>57</td>\n",
       "    </tr>\n",
       "    <tr>\n",
       "      <th>36</th>\n",
       "      <td>Papua</td>\n",
       "      <td>55</td>\n",
       "    </tr>\n",
       "    <tr>\n",
       "      <th>31</th>\n",
       "      <td>Maluku</td>\n",
       "      <td>55</td>\n",
       "    </tr>\n",
       "    <tr>\n",
       "      <th>33</th>\n",
       "      <td>Maluku Utara</td>\n",
       "      <td>52</td>\n",
       "    </tr>\n",
       "    <tr>\n",
       "      <th>30</th>\n",
       "      <td>Sulawesi Tenggara</td>\n",
       "      <td>51</td>\n",
       "    </tr>\n",
       "    <tr>\n",
       "      <th>32</th>\n",
       "      <td>Gorontalo</td>\n",
       "      <td>47</td>\n",
       "    </tr>\n",
       "    <tr>\n",
       "      <th>4</th>\n",
       "      <td>Papua Tengah</td>\n",
       "      <td>45</td>\n",
       "    </tr>\n",
       "    <tr>\n",
       "      <th>9</th>\n",
       "      <td>Sulawesi Tengah</td>\n",
       "      <td>43</td>\n",
       "    </tr>\n",
       "    <tr>\n",
       "      <th>14</th>\n",
       "      <td>Papua Barat</td>\n",
       "      <td>34</td>\n",
       "    </tr>\n",
       "    <tr>\n",
       "      <th>29</th>\n",
       "      <td>Sulawesi Barat</td>\n",
       "      <td>21</td>\n",
       "    </tr>\n",
       "    <tr>\n",
       "      <th>35</th>\n",
       "      <td>Papua Pegunungan</td>\n",
       "      <td>15</td>\n",
       "    </tr>\n",
       "    <tr>\n",
       "      <th>37</th>\n",
       "      <td>Papua Selatan</td>\n",
       "      <td>4</td>\n",
       "    </tr>\n",
       "  </tbody>\n",
       "</table>\n",
       "</div>"
      ],
      "text/plain": [
       "                      province  total\n",
       "3                  DKI Jakarta  21278\n",
       "2             Kalimantan Timur  12885\n",
       "1                   Jawa Barat   4737\n",
       "12                  Jawa Timur   2788\n",
       "7                  Jawa Tengah   1899\n",
       "13  Daerah Istimewa Yogyakarta   1811\n",
       "6                       Banten   1311\n",
       "20              Sumatera Utara    918\n",
       "10                        Bali    779\n",
       "16              Sumatera Barat    556\n",
       "18                        Riau    516\n",
       "17            Sumatera Selatan    510\n",
       "24         Nusa Tenggara Barat    451\n",
       "25                     Lampung    441\n",
       "22            Sulawesi Selatan    416\n",
       "26            Kalimantan Barat    280\n",
       "23                        Aceh    262\n",
       "19          Kalimantan Selatan    233\n",
       "15              Kepulauan Riau    217\n",
       "28              Sulawesi Utara    217\n",
       "27         Nusa Tenggara Timur    162\n",
       "11                       Jambi    115\n",
       "21           Kalimantan Tengah    100\n",
       "5             Kalimantan Utara     97\n",
       "34                    Bengkulu     63\n",
       "8    Kepulauan Bangka Belitung     57\n",
       "36                       Papua     55\n",
       "31                      Maluku     55\n",
       "33                Maluku Utara     52\n",
       "30           Sulawesi Tenggara     51\n",
       "32                   Gorontalo     47\n",
       "4                 Papua Tengah     45\n",
       "9              Sulawesi Tengah     43\n",
       "14                 Papua Barat     34\n",
       "29              Sulawesi Barat     21\n",
       "35            Papua Pegunungan     15\n",
       "37               Papua Selatan      4"
      ]
     },
     "execution_count": 72,
     "metadata": {},
     "output_type": "execute_result"
    }
   ],
   "source": [
    "result = []\n",
    "for index, province in enumerate(provinces):\n",
    "    temp = None\n",
    "    # temp = df[df['province'].str.match(province)]\n",
    "    temp = df[df['province'] == province] \n",
    "    df_province.loc[index+1] = [province, temp.shape[0]]\n",
    "\n",
    "\n",
    "df_province\n",
    "df_province.sort_values('total', ascending=False)"
   ]
  },
  {
   "cell_type": "code",
   "execution_count": 73,
   "metadata": {},
   "outputs": [
    {
     "data": {
      "text/plain": [
       "53521"
      ]
     },
     "execution_count": 73,
     "metadata": {},
     "output_type": "execute_result"
    }
   ],
   "source": [
    "df_province['total'].sum()"
   ]
  },
  {
   "cell_type": "code",
   "execution_count": 74,
   "metadata": {},
   "outputs": [
    {
     "data": {
      "text/html": [
       "<div>\n",
       "<style scoped>\n",
       "    .dataframe tbody tr th:only-of-type {\n",
       "        vertical-align: middle;\n",
       "    }\n",
       "\n",
       "    .dataframe tbody tr th {\n",
       "        vertical-align: top;\n",
       "    }\n",
       "\n",
       "    .dataframe thead th {\n",
       "        text-align: right;\n",
       "    }\n",
       "</style>\n",
       "<table border=\"1\" class=\"dataframe\">\n",
       "  <thead>\n",
       "    <tr style=\"text-align: right;\">\n",
       "      <th></th>\n",
       "      <th>GID_0</th>\n",
       "      <th>NAME_0</th>\n",
       "      <th>GID_1</th>\n",
       "      <th>NAME_1</th>\n",
       "      <th>VARNAME_1</th>\n",
       "      <th>NL_NAME_1</th>\n",
       "      <th>TYPE_1</th>\n",
       "      <th>ENGTYPE_1</th>\n",
       "      <th>CC_1</th>\n",
       "      <th>HASC_1</th>\n",
       "      <th>geometry</th>\n",
       "    </tr>\n",
       "  </thead>\n",
       "  <tbody>\n",
       "    <tr>\n",
       "      <th>0</th>\n",
       "      <td>IDN</td>\n",
       "      <td>Indonesia</td>\n",
       "      <td>IDN.1_1</td>\n",
       "      <td>Aceh</td>\n",
       "      <td></td>\n",
       "      <td></td>\n",
       "      <td>Propinisi</td>\n",
       "      <td>Province</td>\n",
       "      <td>11</td>\n",
       "      <td>ID.AC</td>\n",
       "      <td>MULTIPOLYGON (((96.66509 2.12018, 96.66765 2.1...</td>\n",
       "    </tr>\n",
       "    <tr>\n",
       "      <th>1</th>\n",
       "      <td>IDN</td>\n",
       "      <td>Indonesia</td>\n",
       "      <td>IDN.2_1</td>\n",
       "      <td>Bali</td>\n",
       "      <td></td>\n",
       "      <td></td>\n",
       "      <td>Propinisi</td>\n",
       "      <td>Province</td>\n",
       "      <td>51</td>\n",
       "      <td>ID.BA</td>\n",
       "      <td>MULTIPOLYGON (((115.59464 -8.81672, 115.59444 ...</td>\n",
       "    </tr>\n",
       "    <tr>\n",
       "      <th>2</th>\n",
       "      <td>IDN</td>\n",
       "      <td>Indonesia</td>\n",
       "      <td>IDN.3_1</td>\n",
       "      <td>Bangka Belitung</td>\n",
       "      <td></td>\n",
       "      <td></td>\n",
       "      <td>Propinisi</td>\n",
       "      <td>Province</td>\n",
       "      <td>19</td>\n",
       "      <td>ID.BB</td>\n",
       "      <td>MULTIPOLYGON (((107.96173 -3.41100, 107.96220 ...</td>\n",
       "    </tr>\n",
       "    <tr>\n",
       "      <th>3</th>\n",
       "      <td>IDN</td>\n",
       "      <td>Indonesia</td>\n",
       "      <td>IDN.4_1</td>\n",
       "      <td>Banten</td>\n",
       "      <td></td>\n",
       "      <td></td>\n",
       "      <td>Propinisi</td>\n",
       "      <td>Province</td>\n",
       "      <td>36</td>\n",
       "      <td>ID.BT</td>\n",
       "      <td>MULTIPOLYGON (((105.54977 -6.99566, 105.55035 ...</td>\n",
       "    </tr>\n",
       "    <tr>\n",
       "      <th>4</th>\n",
       "      <td>IDN</td>\n",
       "      <td>Indonesia</td>\n",
       "      <td>IDN.5_1</td>\n",
       "      <td>Bengkulu</td>\n",
       "      <td></td>\n",
       "      <td></td>\n",
       "      <td>Propinisi</td>\n",
       "      <td>Province</td>\n",
       "      <td>17</td>\n",
       "      <td>ID.BE</td>\n",
       "      <td>MULTIPOLYGON (((102.37586 -5.36968, 102.38067 ...</td>\n",
       "    </tr>\n",
       "  </tbody>\n",
       "</table>\n",
       "</div>"
      ],
      "text/plain": [
       "  GID_0     NAME_0    GID_1           NAME_1 VARNAME_1 NL_NAME_1     TYPE_1  \\\n",
       "0   IDN  Indonesia  IDN.1_1             Aceh                      Propinisi   \n",
       "1   IDN  Indonesia  IDN.2_1             Bali                      Propinisi   \n",
       "2   IDN  Indonesia  IDN.3_1  Bangka Belitung                      Propinisi   \n",
       "3   IDN  Indonesia  IDN.4_1           Banten                      Propinisi   \n",
       "4   IDN  Indonesia  IDN.5_1         Bengkulu                      Propinisi   \n",
       "\n",
       "  ENGTYPE_1 CC_1 HASC_1                                           geometry  \n",
       "0  Province   11  ID.AC  MULTIPOLYGON (((96.66509 2.12018, 96.66765 2.1...  \n",
       "1  Province   51  ID.BA  MULTIPOLYGON (((115.59464 -8.81672, 115.59444 ...  \n",
       "2  Province   19  ID.BB  MULTIPOLYGON (((107.96173 -3.41100, 107.96220 ...  \n",
       "3  Province   36  ID.BT  MULTIPOLYGON (((105.54977 -6.99566, 105.55035 ...  \n",
       "4  Province   17  ID.BE  MULTIPOLYGON (((102.37586 -5.36968, 102.38067 ...  "
      ]
     },
     "metadata": {},
     "output_type": "display_data"
    }
   ],
   "source": [
    "path = './gadm36_IDN_1.json'\n",
    "df_geo = gpd.read_file(path)\n",
    "display(df_geo.head())\n"
   ]
  },
  {
   "cell_type": "code",
   "execution_count": 80,
   "metadata": {},
   "outputs": [
    {
     "data": {
      "image/png": "[encoded data removed]",
      "text/plain": [
       "<Figure size 720x432 with 1 Axes>"
      ]
     },
     "metadata": {
      "needs_background": "light"
     },
     "output_type": "display_data"
    }
   ],
   "source": [
    "df.longitude = df.longitude.astype(float)\n",
    "df.latitude = df.latitude.astype(float)\n",
    "\n",
    "geometry = [Point(xy) for xy in zip(df['longitude'], df['latitude'])]\n",
    "gdf = GeoDataFrame(df, geometry=geometry)  \n",
    "gdf.plot(ax=df_geo.plot(figsize=(10, 6)), marker='o', color='red', markersize=15);"
   ]
  },
  {
   "cell_type": "code",
   "execution_count": 9,
   "metadata": {},
   "outputs": [
    {
     "data": {
      "text/plain": [
       "<AxesSubplot:>"
      ]
     },
     "execution_count": 9,
     "metadata": {},
     "output_type": "execute_result"
    },
    {
     "data": {
      "image/png": "[encoded data removed]",
      "text/plain": [
       "<Figure size 432x288 with 1 Axes>"
      ]
     },
     "metadata": {
      "needs_background": "light"
     },
     "output_type": "display_data"
    }
   ],
   "source": [
    "df_geo.plot()"
   ]
  },
  {
   "cell_type": "code",
   "execution_count": 79,
   "metadata": {},
   "outputs": [
    {
     "data": {
      "text/plain": [
       "dtype('O')"
      ]
     },
     "execution_count": 79,
     "metadata": {},
     "output_type": "execute_result"
    }
   ],
   "source": [
    "df['longitude'].dtypes"
   ]
  },
  {
   "cell_type": "code",
   "execution_count": null,
   "metadata": {},
   "outputs": [],
   "source": []
  }
 ],
 "metadata": {
  "kernelspec": {
   "display_name": "Python 3.9.7 ('venv': venv)",
   "language": "python",
   "name": "python3"
  },
  "language_info": {
   "codemirror_mode": {
    "name": "ipython",
    "version": 3
   },
   "file_extension": ".py",
   "mimetype": "text/x-python",
   "name": "python",
   "nbconvert_exporter": "python",
   "pygments_lexer": "ipython3",
   "version": "3.9.7"
  },
  "orig_nbformat": 4,
  "vscode": {
   "interpreter": {
    "hash": "00a08332a9656d07fb15950983716ae1dc3baeb86e6935d123f31572ce96d1e2"
   }
  }
 },
 "nbformat": 4,
 "nbformat_minor": 2
}
