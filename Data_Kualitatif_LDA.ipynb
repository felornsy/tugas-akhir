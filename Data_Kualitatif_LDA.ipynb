{
  "cells": [
    {
      "cell_type": "code",
      "execution_count": null,
      "metadata": {
        "id": "xLTR8avada_P"
      },
      "outputs": [],
      "source": [
        "from helper import *  \n",
        "import warnings\n",
        "warnings.filterwarnings('ignore')\n",
        "import pandas as pd #a library to make the data more structured55r56y6y"
      ]
    },
    {
      "cell_type": "code",
      "execution_count": null,
      "metadata": {
        "colab": {
          "base_uri": "https://localhost:8080/"
        },
        "id": "8MCw7vYA_kOd",
        "outputId": "23609a39-cb99-4f00-c6dc-bafd38c486b4"
      },
      "outputs": [
        {
          "name": "stdout",
          "output_type": "stream",
          "text": [
            "Drive already mounted at /content/drive; to attempt to forcibly remount, call drive.mount(\"/content/drive\", force_remount=True).\n"
          ]
        }
      ],
      "source": [
        "from google.colab import drive\n",
        "drive.mount('/content/drive')"
      ]
    },
    {
      "cell_type": "code",
      "execution_count": null,
      "metadata": {
        "colab": {
          "base_uri": "https://localhost:8080/",
          "height": 372
        },
        "id": "SqJ6bJwOdmxH",
        "outputId": "4c42ea1b-af2c-4219-d627-0e55f2195cc1"
      },
      "outputs": [
        {
          "data": {
            "text/html": [
              "\n",
              "  <div id=\"df-973b7a05-4873-48f6-b3f7-ee407526fc06\">\n",
              "    <div class=\"colab-df-container\">\n",
              "      <div>\n",
              "<style scoped>\n",
              "    .dataframe tbody tr th:only-of-type {\n",
              "        vertical-align: middle;\n",
              "    }\n",
              "\n",
              "    .dataframe tbody tr th {\n",
              "        vertical-align: top;\n",
              "    }\n",
              "\n",
              "    .dataframe thead th {\n",
              "        text-align: right;\n",
              "    }\n",
              "</style>\n",
              "<table border=\"1\" class=\"dataframe\">\n",
              "  <thead>\n",
              "    <tr style=\"text-align: right;\">\n",
              "      <th></th>\n",
              "      <th>Pengalaman Belajar</th>\n",
              "      <th>Tantangan</th>\n",
              "      <th>Strategi Belajar</th>\n",
              "      <th>Masukan</th>\n",
              "      <th>Device Preferences</th>\n",
              "      <th>Personal Goals</th>\n",
              "      <th>Saran</th>\n",
              "      <th>Informasi Visual</th>\n",
              "    </tr>\n",
              "  </thead>\n",
              "  <tbody>\n",
              "    <tr>\n",
              "      <th>0</th>\n",
              "      <td>pada tahun 2020 saya mau menyerah kerena darin...</td>\n",
              "      <td>mencari nilai sangat sulit dan tidak ada nilai...</td>\n",
              "      <td>mencari dan memilih jawaban yang cocok dengan ...</td>\n",
              "      <td>Masukan terkait penyelenggaraan kelas (yang An...</td>\n",
              "      <td>Ponsel</td>\n",
              "      <td>mendapatkan hasil yang baik</td>\n",
              "      <td>kalau tugas jangan dimasukan diskusi</td>\n",
              "      <td>berharap seterus daring</td>\n",
              "    </tr>\n",
              "    <tr>\n",
              "      <th>1</th>\n",
              "      <td>Semuanya mengesankan hingga di semester ini.</td>\n",
              "      <td>Kendala pada jaringan internet.</td>\n",
              "      <td>Dibaca dan dipahami dulu setiap bab yg akan di...</td>\n",
              "      <td>semoga tetap daring kedepan daring lebih dianj...</td>\n",
              "      <td>komputer</td>\n",
              "      <td>Mengetahui lebih tentang pengaplikasian ilmu m...</td>\n",
              "      <td>Perlu ada peningkatan lagi dengan mengadakan p...</td>\n",
              "      <td>Sangat baik buat Saya dikarenakan dengan adany...</td>\n",
              "    </tr>\n",
              "    <tr>\n",
              "      <th>2</th>\n",
              "      <td>Mendapatkn IP bagus</td>\n",
              "      <td>Ketika UAS, kadang takut dalam mengerjakan kar...</td>\n",
              "      <td>Membaca modul, melihat tutorial dengan youtube</td>\n",
              "      <td>Masukkannya paling ada hanya ingin minta tamba...</td>\n",
              "      <td>Laptop</td>\n",
              "      <td>Agar nilai-nilai yang telah diajarkan dalam ma...</td>\n",
              "      <td>Tetap berkembang dan maju terus UT, sejauh ini...</td>\n",
              "      <td>Sangat efektik karena cukup membantu banyak or...</td>\n",
              "    </tr>\n",
              "    <tr>\n",
              "      <th>3</th>\n",
              "      <td>Pengalaman belajar saya lumayan menyenangkan p...</td>\n",
              "      <td>Sudah saya jelaskan diatas halangan atau hamba...</td>\n",
              "      <td>Strategi chat mahasiswa satu jurusan atau grup...</td>\n",
              "      <td>Lebih ditingkatkan lagi untuk tutor agar aktif...</td>\n",
              "      <td>Laptop</td>\n",
              "      <td>Dapat meningkatkan IP. Agar lulus Cumlaude</td>\n",
              "      <td>Mungkin untuk para tutor lebih aktif lagi dala...</td>\n",
              "      <td>Menurut saya UT sudah bagus</td>\n",
              "    </tr>\n",
              "    <tr>\n",
              "      <th>4</th>\n",
              "      <td>Tidak ada</td>\n",
              "      <td>Jaringan ketika awal kuliah</td>\n",
              "      <td>Mengerjakan diskusi tepat waktu</td>\n",
              "      <td>-</td>\n",
              "      <td>Laptop</td>\n",
              "      <td>Tujuan saya adalah untuk mempelajari lebih dal...</td>\n",
              "      <td>Saran saya untuk universitas terbuka di cabang...</td>\n",
              "      <td>Materi yg diberikan harus jelas Uas yg diberik...</td>\n",
              "    </tr>\n",
              "  </tbody>\n",
              "</table>\n",
              "</div>\n",
              "      <button class=\"colab-df-convert\" onclick=\"convertToInteractive('df-973b7a05-4873-48f6-b3f7-ee407526fc06')\"\n",
              "              title=\"Convert this dataframe to an interactive table.\"\n",
              "              style=\"display:none;\">\n",
              "        \n",
              "  <svg xmlns=\"http://www.w3.org/2000/svg\" height=\"24px\"viewBox=\"0 0 24 24\"\n",
              "       width=\"24px\">\n",
              "    <path d=\"M0 0h24v24H0V0z\" fill=\"none\"/>\n",
              "    <path d=\"M18.56 5.44l.94 2.06.94-2.06 2.06-.94-2.06-.94-.94-2.06-.94 2.06-2.06.94zm-11 1L8.5 8.5l.94-2.06 2.06-.94-2.06-.94L8.5 2.5l-.94 2.06-2.06.94zm10 10l.94 2.06.94-2.06 2.06-.94-2.06-.94-.94-2.06-.94 2.06-2.06.94z\"/><path d=\"M17.41 7.96l-1.37-1.37c-.4-.4-.92-.59-1.43-.59-.52 0-1.04.2-1.43.59L10.3 9.45l-7.72 7.72c-.78.78-.78 2.05 0 2.83L4 21.41c.39.39.9.59 1.41.59.51 0 1.02-.2 1.41-.59l7.78-7.78 2.81-2.81c.8-.78.8-2.07 0-2.86zM5.41 20L4 18.59l7.72-7.72 1.47 1.35L5.41 20z\"/>\n",
              "  </svg>\n",
              "      </button>\n",
              "      \n",
              "  <style>\n",
              "    .colab-df-container {\n",
              "      display:flex;\n",
              "      flex-wrap:wrap;\n",
              "      gap: 12px;\n",
              "    }\n",
              "\n",
              "    .colab-df-convert {\n",
              "      background-color: #E8F0FE;\n",
              "      border: none;\n",
              "      border-radius: 50%;\n",
              "      cursor: pointer;\n",
              "      display: none;\n",
              "      fill: #1967D2;\n",
              "      height: 32px;\n",
              "      padding: 0 0 0 0;\n",
              "      width: 32px;\n",
              "    }\n",
              "\n",
              "    .colab-df-convert:hover {\n",
              "      background-color: #E2EBFA;\n",
              "      box-shadow: 0px 1px 2px rgba(60, 64, 67, 0.3), 0px 1px 3px 1px rgba(60, 64, 67, 0.15);\n",
              "      fill: #174EA6;\n",
              "    }\n",
              "\n",
              "    [theme=dark] .colab-df-convert {\n",
              "      background-color: #3B4455;\n",
              "      fill: #D2E3FC;\n",
              "    }\n",
              "\n",
              "    [theme=dark] .colab-df-convert:hover {\n",
              "      background-color: #434B5C;\n",
              "      box-shadow: 0px 1px 3px 1px rgba(0, 0, 0, 0.15);\n",
              "      filter: drop-shadow(0px 1px 2px rgba(0, 0, 0, 0.3));\n",
              "      fill: #FFFFFF;\n",
              "    }\n",
              "  </style>\n",
              "\n",
              "      <script>\n",
              "        const buttonEl =\n",
              "          document.querySelector('#df-973b7a05-4873-48f6-b3f7-ee407526fc06 button.colab-df-convert');\n",
              "        buttonEl.style.display =\n",
              "          google.colab.kernel.accessAllowed ? 'block' : 'none';\n",
              "\n",
              "        async function convertToInteractive(key) {\n",
              "          const element = document.querySelector('#df-973b7a05-4873-48f6-b3f7-ee407526fc06');\n",
              "          const dataTable =\n",
              "            await google.colab.kernel.invokeFunction('convertToInteractive',\n",
              "                                                     [key], {});\n",
              "          if (!dataTable) return;\n",
              "\n",
              "          const docLinkHtml = 'Like what you see? Visit the ' +\n",
              "            '<a target=\"_blank\" href=https://colab.research.google.com/notebooks/data_table.ipynb>data table notebook</a>'\n",
              "            + ' to learn more about interactive tables.';\n",
              "          element.innerHTML = '';\n",
              "          dataTable['output_type'] = 'display_data';\n",
              "          await google.colab.output.renderOutput(dataTable, element);\n",
              "          const docLink = document.createElement('div');\n",
              "          docLink.innerHTML = docLinkHtml;\n",
              "          element.appendChild(docLink);\n",
              "        }\n",
              "      </script>\n",
              "    </div>\n",
              "  </div>\n",
              "  "
            ],
            "text/plain": [
              "                                  Pengalaman Belajar  \\\n",
              "0  pada tahun 2020 saya mau menyerah kerena darin...   \n",
              "1       Semuanya mengesankan hingga di semester ini.   \n",
              "2                                Mendapatkn IP bagus   \n",
              "3  Pengalaman belajar saya lumayan menyenangkan p...   \n",
              "4                                          Tidak ada   \n",
              "\n",
              "                                           Tantangan  \\\n",
              "0  mencari nilai sangat sulit dan tidak ada nilai...   \n",
              "1                    Kendala pada jaringan internet.   \n",
              "2  Ketika UAS, kadang takut dalam mengerjakan kar...   \n",
              "3  Sudah saya jelaskan diatas halangan atau hamba...   \n",
              "4                        Jaringan ketika awal kuliah   \n",
              "\n",
              "                                    Strategi Belajar  \\\n",
              "0  mencari dan memilih jawaban yang cocok dengan ...   \n",
              "1  Dibaca dan dipahami dulu setiap bab yg akan di...   \n",
              "2     Membaca modul, melihat tutorial dengan youtube   \n",
              "3  Strategi chat mahasiswa satu jurusan atau grup...   \n",
              "4                    Mengerjakan diskusi tepat waktu   \n",
              "\n",
              "                                             Masukan Device Preferences  \\\n",
              "0  Masukan terkait penyelenggaraan kelas (yang An...             Ponsel   \n",
              "1  semoga tetap daring kedepan daring lebih dianj...           komputer   \n",
              "2  Masukkannya paling ada hanya ingin minta tamba...             Laptop   \n",
              "3  Lebih ditingkatkan lagi untuk tutor agar aktif...             Laptop   \n",
              "4                                                  -             Laptop   \n",
              "\n",
              "                                      Personal Goals  \\\n",
              "0                        mendapatkan hasil yang baik   \n",
              "1  Mengetahui lebih tentang pengaplikasian ilmu m...   \n",
              "2  Agar nilai-nilai yang telah diajarkan dalam ma...   \n",
              "3         Dapat meningkatkan IP. Agar lulus Cumlaude   \n",
              "4  Tujuan saya adalah untuk mempelajari lebih dal...   \n",
              "\n",
              "                                               Saran  \\\n",
              "0               kalau tugas jangan dimasukan diskusi   \n",
              "1  Perlu ada peningkatan lagi dengan mengadakan p...   \n",
              "2  Tetap berkembang dan maju terus UT, sejauh ini...   \n",
              "3  Mungkin untuk para tutor lebih aktif lagi dala...   \n",
              "4  Saran saya untuk universitas terbuka di cabang...   \n",
              "\n",
              "                                    Informasi Visual  \n",
              "0                            berharap seterus daring  \n",
              "1  Sangat baik buat Saya dikarenakan dengan adany...  \n",
              "2  Sangat efektik karena cukup membantu banyak or...  \n",
              "3                        Menurut saya UT sudah bagus  \n",
              "4  Materi yg diberikan harus jelas Uas yg diberik...  "
            ]
          },
          "execution_count": 65,
          "metadata": {},
          "output_type": "execute_result"
        }
      ],
      "source": [
        "#fo = pd.read_csv('clean_File.csv') #read the data\n",
        "#df = pd.read_csv('Cclean_File.csv') #create data frame\n",
        "df = pd.read_excel('/content/drive/MyDrive/Colab Notebooks/DataKualitatif.xlsx')\n",
        "df.head()"
      ]
    },
    {
      "cell_type": "code",
      "execution_count": null,
      "metadata": {
        "colab": {
          "base_uri": "https://localhost:8080/"
        },
        "id": "MxWR5yAqMP_S",
        "outputId": "d9a66715-3b7c-449c-9244-5372b4ced4b5"
      },
      "outputs": [
        {
          "data": {
            "text/plain": [
              "(381, 8)"
            ]
          },
          "execution_count": 66,
          "metadata": {},
          "output_type": "execute_result"
        }
      ],
      "source": [
        "df.shape"
      ]
    },
    {
      "cell_type": "code",
      "execution_count": null,
      "metadata": {
        "colab": {
          "base_uri": "https://localhost:8080/"
        },
        "id": "Oy0uwRRPcksH",
        "outputId": "ba7c1c66-ad10-4e2d-cc0c-781bcecd9334"
      },
      "outputs": [
        {
          "name": "stdout",
          "output_type": "stream",
          "text": [
            "<class 'pandas.core.frame.DataFrame'>\n",
            "RangeIndex: 381 entries, 0 to 380\n",
            "Data columns (total 8 columns):\n",
            " #   Column              Non-Null Count  Dtype \n",
            "---  ------              --------------  ----- \n",
            " 0   Pengalaman Belajar  209 non-null    object\n",
            " 1   Tantangan           209 non-null    object\n",
            " 2   Strategi Belajar    209 non-null    object\n",
            " 3   Masukan             210 non-null    object\n",
            " 4   Device Preferences  381 non-null    object\n",
            " 5   Personal Goals      229 non-null    object\n",
            " 6   Saran               229 non-null    object\n",
            " 7   Informasi Visual    229 non-null    object\n",
            "dtypes: object(8)\n",
            "memory usage: 23.9+ KB\n"
          ]
        }
      ],
      "source": [
        "df.info()"
      ]
    },
    {
      "cell_type": "code",
      "execution_count": null,
      "metadata": {
        "id": "3PYA4slIdNBD"
      },
      "outputs": [],
      "source": [
        "df_new = df[df['Pengalaman Belajar'].notnull()]"
      ]
    },
    {
      "cell_type": "code",
      "execution_count": null,
      "metadata": {
        "colab": {
          "base_uri": "https://localhost:8080/"
        },
        "id": "oH46M5s-Qls9",
        "outputId": "ee1d7f6a-0659-4882-d3fa-ff380fdf1125"
      },
      "outputs": [
        {
          "name": "stdout",
          "output_type": "stream",
          "text": [
            "[nltk_data] Downloading package stopwords to /root/nltk_data...\n",
            "[nltk_data]   Package stopwords is already up-to-date!\n"
          ]
        }
      ],
      "source": [
        "import nltk\n",
        "nltk.download('stopwords')\n",
        "from nltk.corpus import stopwords\n",
        "\n",
        "stop_words = set(stopwords.words('indonesian'))\n",
        "df_new['Pengalaman Belajar'] = df_new['Pengalaman Belajar'].apply(lambda x: ' '.join([word for word in x.split() if word not in (stop_words)]))"
      ]
    },
    {
      "cell_type": "code",
      "execution_count": null,
      "metadata": {
        "colab": {
          "base_uri": "https://localhost:8080/"
        },
        "id": "uiih8RfJcG3C",
        "outputId": "cdec65c1-675f-4022-e661-e57038cd2a71"
      },
      "outputs": [
        {
          "data": {
            "text/plain": [
              "0    2020 menyerah kerena daring nilai A daring sem...\n",
              "1                   Semuanya mengesankan semester ini.\n",
              "2                                  Mendapatkn IP bagus\n",
              "3    Pengalaman belajar lumayan menyenangkan positi...\n",
              "4                                                Tidak\n",
              "Name: Pengalaman Belajar, dtype: object"
            ]
          },
          "execution_count": 70,
          "metadata": {},
          "output_type": "execute_result"
        }
      ],
      "source": [
        "df_new['Pengalaman Belajar'].head()"
      ]
    },
    {
      "cell_type": "code",
      "execution_count": null,
      "metadata": {
        "colab": {
          "base_uri": "https://localhost:8080/"
        },
        "id": "GGejGqbRh6W4",
        "outputId": "89c44e3a-3677-4a98-9a81-d3184e372c0d"
      },
      "outputs": [
        {
          "name": "stdout",
          "output_type": "stream",
          "text": [
            "Case Folding Result : \n",
            "\n",
            "0    2020 menyerah kerena daring nilai a daring sem...\n",
            "1                   semuanya mengesankan semester ini.\n",
            "2                                  mendapatkn ip bagus\n",
            "3    pengalaman belajar lumayan menyenangkan positi...\n",
            "4                                                tidak\n",
            "Name: Pengalaman Belajar, dtype: object\n"
          ]
        }
      ],
      "source": [
        "#lower text\n",
        "# ------ Case Folding --------\n",
        "# gunakan fungsi Series.str.lower() pada Pandas\n",
        "df_new['Pengalaman Belajar'] = df_new['Pengalaman Belajar'].str.lower()\n",
        "\n",
        "\n",
        "print('Case Folding Result : \\n')\n",
        "print(df_new['Pengalaman Belajar'].head(5))\n"
      ]
    },
    {
      "cell_type": "code",
      "execution_count": null,
      "metadata": {
        "id": "7cZEHRgiiaGQ"
      },
      "outputs": [],
      "source": [
        "import string \n",
        "import re #regex library\n",
        "#remove number\n",
        "def remove_number(text):\n",
        "    return  re.sub(r\"\\d+\", \"\", text)\n",
        "\n",
        "df_new['Pengalaman Belajar'] = df_new['Pengalaman Belajar'].apply(remove_number)\n",
        "\n",
        "#remove punctuation\n",
        "def remove_punctuation(text):\n",
        "    return text.translate(str.maketrans(\"\",\"\",string.punctuation))\n",
        "\n",
        "df_new['Pengalaman Belajar'] = df_new['Pengalaman Belajar'].apply(remove_punctuation)"
      ]
    },
    {
      "cell_type": "code",
      "execution_count": null,
      "metadata": {
        "id": "bEYG1tQCixx5"
      },
      "outputs": [],
      "source": [
        "def remove_singl_char(text):\n",
        "    return re.sub(r\"\\b[a-zA-Z]\\b\", \"\", text)\n",
        "\n",
        "df_new['Pengalaman Belajar'] = df_new['Pengalaman Belajar'].apply(remove_singl_char)"
      ]
    },
    {
      "cell_type": "code",
      "execution_count": null,
      "metadata": {
        "colab": {
          "base_uri": "https://localhost:8080/"
        },
        "id": "Aox9mh-NFJaY",
        "outputId": "dc62a84f-cf29-41fc-a1b4-83dbeff37ddc"
      },
      "outputs": [
        {
          "name": "stdout",
          "output_type": "stream",
          "text": [
            "209\n",
            "[['menyerah', 'kerena', 'daring', 'nilai', 'daring', 'semangat', 'kuliah', 'muncul'], ['semuanya', 'mengesankan', 'semester', 'ini'], ['mendapatkn', 'ip', 'bagus'], ['pengalaman', 'belajar', 'lumayan', 'menyenangkan', 'positif', 'nya', 'belajar', 'berdiskusi', 'berbagi', 'permasalahan', 'kesulitan', 'yg', 'dihadapi', 'mengikuti', 'tuton', 'mahasiswa', 'yg', 'angaktan', 'jurusan', 'aaya', 'mengevaluasi', 'menghadapi', 'uas', 'tugas', 'dll', 'negatif', 'nya', 'halangan', 'dibagian', 'sinyal', 'internet', 'membuka', 'link', 'ut', 'kadang', 'eror', 'kadang', 'gk', 'kebuka', 'kadang', 'lola', 'dsb'], ['tidak'], ['nilai'], ['tertantang', 'belajar', 'mandiri'], ['waktunya', 'fleksibel', 'pekerja', 'pabrik'], ['tugas', 'dimanapun', 'sesuai', 'tetapkan', 'fleksibel', 'mengatur'], ['pelajarannya'], ['mendapat', 'nilai', 'memuaskan'], ['lebih', 'menarik', 'mata', 'kuliah', 'mudah', 'dipahami'], ['saat', 'teman', 'mempresentasikan', 'pembuatan', 'websitesaya', 'tertarik'], ['awalnya', 'bingung', 'mengerti'], ['belajar', 'rilexs', 'fokus'], ['sangat', 'mudah', 'melaksanakan', 'onlinehanya', 'koneksi', 'internet', 'dijaga', 'hambatan', 'online'], ['saya', 'puas', 'pembelajaran', 'ikuti', 'tutor', 'memahami', 'mahasiswa', 'mengerti', 'berinteraksi', 'mahasiswa', 'tertarik', 'mengikuti', 'pembelajaran', 'bukan', 'fokus', 'serius', 'candaan', 'rileks'], ['saat', 'mengambil', 'kelas', 'akuntansi', 'senang', 'dosen', 'mengajar', 'salah', 'langsung', 'dikontak', 'diberitahu', 'pengerjaan', 'paham', 'paham'], [], ['menikmati', 'pelajaran', 'daring', 'inikarna', 'samping', 'belajarsaya', 'utk', 'memenuhi', 'kebutuhan', 'hidupkarna', 'kepala', 'keluarga', 'sinimgkin', 'klo', 'belajar', 'daring', 'inisaya', 'mengikuti', 'pelajaran'], ['semua', 'proses', 'belajar', 'sistem', 'daring', 'menyenangkan'], ['dapat', 'berdiskusi', 'tutor', 'forum', 'diskusi'], ['waktu', 'fleksibel', 'karna', 'sesuaikan'], ['baik'], [], ['sistemnya', 'flexible', 'efektif'], ['diskusi', 'salah', 'mata', 'kuliah', 'disuruh', 'menceritakan', 'pengalama', 'pribadi', 'disuatu', 'perusahaan', 'bidang', 'galvanis', 'orang', 'timur', 'flores', 'disitulah', 'tim', 'diskusi', 'orang', 'flores', 'percakapan', 'chat', 'kenal', 'ini'], ['mendapatkan', 'nilai', 'sempurna', 'salah', 'mata', 'kuliah'], ['menurut', 'saya', 'semester', 'tutor', 'berbedabeda', 'menanggapi', 'mahasiswa', 'aktif', 'fast', 'respon', 'pasif'], ['saya', 'memanage', 'waktu', 'belajar', 'rumah', 'pandemi', 'mengajarkan', 'berleha', 'leha', 'kuliah', 'materi', 'dipahami'], ['pengalaman', 'berkesan', 'tugas', 'dosen', 'dosen', 'ijin', 'dishare', 'temen', 'mahasiswa'], ['jika', 'tutor', 'aktif', 'apapun', 'semangat', 'mahasiswa', 'nya'], ['tidak', 'menarik'], ['pengalaman', 'tugas', 'dimana', 'teori', 'pelajari', 'sesuai', 'praktek', 'lapangan', 'kerja', 'kerjakan', 'mudah', 'memahami', 'studi', 'sesuai', 'diharapkan', 'penilaian', 'memuaskan', 'dosen'], ['pengalaman', 'pengetahuan', 'teknologi'], ['belajar', 'fleksibel', 'mengikuti', 'luang', 'miliki'], ['belajar', 'daring', 'fleksible', 'terkadang', 'libur', 'bisa', 'belajar', 'dan', 'saja'], ['pengalaman', 'belajar', 'mengesankan', 'dosen', 'pembimbing', 'pesan', 'mengarahkan', 'membalas', 'pesan', 'saya'], ['sangat', 'nyaman', 'aman', 'full', 'online'], ['pas', 'ujian'], ['belajar', 'gak', 'tau', 'mnjadi', 'tau', 'materi', 'buku'], [], ['saya', 'pengalaman', 'diluar', 'dugaan', 'sebelumnya', 'dimana', 'kurikulum', 'ut', 'sistematis', 'mengkondisikan', 'membaca', 'mempelajari', 'mencari', 'tambahan', 'pengetahuan', 'informasi', 'sumber'], ['model', 'pembelajaran', 'full', 'online', 'praktis', 'mahasiswa', 'memiliki', 'kesibukan', 'bekerja'], ['saya', 'menyelesaikan', 'tugas', 'diskusi', 'tugas', 'terjadwal', 'baik'], ['tutor', 'interaktif'], ['di', 'nilai', 'memuaskan', 'dan', 'inisiatip', 'kontak', 'dosenya', 'berdiskudi', 'gimana', 'memperbaiki', 'kekurangan', 'dan', 'dosent', 'tsb', 'mengarahkan', 'nilai', 'maksimal'], ['pengalqmqn', 'mengesankan', 'deadline', 'meped', 'mengumpulkan', 'tugas', 'hheehe'], ['secara', 'baik', 'uas', 'online', 'juga', 'karna', 'membantu', 'pekerja', 'minim', 'cuti'], ['biasa'], ['pengalaman', 'mengikuti', 'kelas', 'online', 'belajar', 'modul', 'paham', 'berdiskusi', 'bertukar', 'pikiran', 'disitu', 'mengerti', 'pelajari'], ['untuk', 'daring', 'belajar', 'ad', 'pahami', 'teman', 'merespon', 'kesibukan', 'mahasiswa'], ['pengalaman', 'pembelajaran', 'online', 'menyingkat', 'fleksibel'], ['sudah', 'bagus'], ['pembelajaran', 'full', 'online', 'mengesankan', 'memiliki', 'tutor', 'aktif', 'menanggapi', 'diskusi', 'mahasiwa', 'nilai', 'diperoleh', 'sesuai', 'dipahami', 'dibahas', 'tuntas', 'tutor'], ['pengalaman', 'sayawaktu', 'memilih', 'jurusan', 'ekonomi', 'pembamgunan', 'kalinya', 'bilangini', 'susahehh', 'dgn', 'belajar', 'pelajaridi', 'mudah'], ['dengan', 'kelas', 'ut', 'daring', 'full', 'online', 'fleksibel', 'memilih', 'belajar', 'tugas', 'selain', 'meminimalisir', 'biaya', 'dikeluarkan', 'tatap', 'muka'], ['pengaturan', 'jadwal', 'belajar'], ['hal', 'mengesankan', 'mengikuti', 'kelas', 'ut', 'daring', 'fleksibilitas', 'waktu', 'aksebilitas', 'pengalaman', 'belajar'], ['dosen', 'aktif', 'tidak', 'nilai', 'diskusi', 'suka', 'terlewat', 'dosennya', 'diskusi', 'udah', 'diskusi'], ['saya', 'mengatur', 'belajar', 'memiliki', 'komitmen', 'utk', 'menyelesaikan', 'pembelajaran'], ['sangat', 'senang', 'berinteraksi', 'mahasiswa', 'lainnya'], ['saya', 'beruntung', 'berdiam', 'rumah', 'mengikuti', 'perkuliahan', 'fleksibel', 'khawatir'], ['belajar', 'memanagement', 'kerja', 'kuliah', 'sharing', 'pembelajaran', 'teman', 'kelas'], ['sangat', 'puas', 'sya', 'ttm', 'kelas', 'online', 'syaa', 'fleksibel', 'tugas', 'mata', 'kuliah'], ['pengalaman', 'belajar', 'saya', 'mengesankan', 'sebenar', 'ada', 'kelas', 'pilih', 'pribadi', 'nyaman', 'puas', 'kelas', 'comfortable', 'disesuaikan', 'kesibukan', 'saya'], ['keefektifan', 'waktudan', 'pembagian', 'belajar'], ['mengesankan', 'asalan', 'nilainya', 'bagus', 'dipungkiri', 'nilai', 'salah', 'kebahagian', 'tersendiri', 'mahasiswa', 'pemahaman', 'ilmu', 'ya', 'cuman', 'terkadang', 'cuek', 'aja'], ['saya', 'fokus', 'hal', 'minggu', 'nya', 'pekerjaan', 'kuliah', 'hal', 'yg', 'selesaikan', 'minggu', 'nya'], ['atraktif', 'dosen', 'pasif', 'aktif', 'menanggapi', 'tuton', 'batas', 'tugas', 'nilai', 'yg', 'perbaiki', 'saran', 'saring', 'dosendosen', 'mengajar', 'ut', 'mahasiswa', 'semangat', 'belajar', 'daring'], [], ['pengalaman', 'dilupakan', 'tugastugas', 'diskusi', 'mengantuk', 'pulang', 'kerja', 'sambung', 'belajar', '😄'], ['saya', 'senang', 'diskusi', 'dosen', 'menanggapi', 'rinci'], ['saat', 'vidoe', 'visi', 'misi', 'belajar', 'ut'], ['kuliah', 'dimanapun', 'kapanpun', 'terikat'], ['mengatur', 'jadwal', 'belajar', 'fokus'], ['berdiskusi', 'teman'], ['belajar', 'mandiri', 'mengatur', 'mengeksplor', 'hobby', 'kegiatan', 'favorit', 'membaca', 'menemukan', 'fakta', 'dalil', 'teori', 'memecahkan', 'hidup', 'pekerjaan', 'saya'], ['saya', 'terkesan', 'dikoreksi', 'dosentutor', 'dengan', 'penjelasan', 'terkesan', 'menggurui', 'via', 'pesan', 'langsung', 'dosentutor', 'menanggapi', 'baik'], ['waktu', 'fleksibel'], ['membaca', 'modul', 'mencari', 'referensi'], ['terkadang', 'kesulitan', 'menerima', 'materi', 'tuliskan', 'nilai', 'hasilnya', 'memuaskan', 'kebanggaan', 'tersendiri', 'disitu', 'pembelajaran', 'daring'], ['yang', 'mengesankan', 'memahami', 'dosen', 'paham'], ['tentunya', 'waktu', 'belajar', 'daring', 'belajar', 'dimana', 'saja'], ['secara', 'daring', 'fleksibel', 'menggangu', 'pekerjaan', 'uas', 'online', 'ya', 'lokasi', 'uas', 'sperti', 'pandemi', 'covid', 'mempermudah'], ['dari', 'emang', 'ambil', 'kelas', 'online', 'tutornya', 'kebanyakan', 'fast', 'respon', 'mahasiswanya', 'kebingungan', 'nmengerjakan', 'tugas', 'teman', 'teman', 'ga', 'yg', 'faham', 'jalan', 'satusatunya', 'tutor', 'tutor', 'kebanyakan', 'merespon', 'kadang', 'yg', 'merespon', 'mepet', 'pengumpulan', 'tugas', 'kitanya', 'ketar', 'ketir'], ['pengalaman', 'menikuti', 'kelas', 'daring', 'kadang', 'susahnya', 'kadang', 'senengnya', 'susahnya', 'kerjaan', 'dikantor', 'lembur', 'proses', 'mengikuti', 'kelas', 'daring', 'sesuai', 'menyebabkan', 'kegelisaan', 'takutnya', 'memahami', 'modul', 'tersebut', 'senengnya', 'kadang', 'pembelajaran', 'daring', 'mudah', 'diikuti', 'jam', 'berapun', 'dimanapun', 'tetep', 'mengikuti', 'kelas', 'daring'], ['kemampuan', 'kuliah', 'menggangu', 'aktifitas', 'rutin', 'pekerjaan'], ['sudah', 'zaman', 'canggih', 'belajar', 'online', 'bagus', 'mudah', 'menyenangkan', 'tipe', 'orang', 'belajar', 'mendengarkan', 'musik', 'mudah', 'mengerti', 'contohnya'], ['saya', 'menyukai', 'pembelajaran', 'online', 'ut', 'menghargai', 'tersebut', 'belajar', 'terkait', 'pengalaman', 'daring', 'berharap', 'mengikuti', 'kegiatan', 'daring', 'berpikir', 'mencoba', 'belajar', 'langsung', 'pembelajaran', 'daring', 'mengatur', 'jadwal', 'mengikuti', 'nya', 'juga'], ['berdiskusi', 'batas', 'pembelajaran', 'elearning', 'pengalaman', 'belajar', 'mengesankan', 'saya', 'mudah', 'mengeluarkan', 'pendapat', 'teman', 'diskusi', 'pembelajaran', 'tersebut', 'dan', 'mudah', 'bertukar', 'pikiran', 'kesesama', 'teman', 'berdiskusi', 'terkait', 'pembelajaran'], ['banyak', 'berkesan', 'belajar', 'dimanapunkapanmu', 'mudah'], ['saya', 'suka', 'penyampaian', 'almarhum', 'warsito', 'dia', 'menerapkan', 'diskusi', 'mewajibkan', 'mahasiswa', 'aktif', 'matkulnya', 'seminggu', 'kali', 'saat', 'beneran', 'mengikuti', 'kelas', 'berasa', 'didampingi', 'belajar', 'full', 'ya', 'beliau', 'saja'], ['menarik', 'seru'], ['kelas', 'public', 'speaking', 'sesuai', 'pekerjaan', 'geluti'], ['materi', 'komunikasi', 'materi', 'menarik', 'mencapai', 'tujuan', 'diharapkan', 'strategi', 'komunikasi'], ['tugasnyaa', 'banget'], ['tidak', 'yg', 'istimewa', 'namun', 'lbh', 'memahami', 'pembelajaran', 'dg', 'sendiri', 'namun', 'hrs', 'tingkatkan', 'dg', 'penjelasan', 'yg', 'lbh', 'lengkap', 'rinci', 'terlebih', 'dg', 'teori', 'yg', 'memiliki', 'pendekatan', 'matematika'], ['adanya', 'zoom', 'yg', 'diadakan', 'tutor', 'membahas', 'materi', 'yg', 'sulit', 'tugas', 'dipahami'], ['sangat', 'efektif', 'membantu', 'karyawan', 'susah', 'luang'], ['mendapatkan', 'penjelasan', 'detail', 'lengkap', 'benarbenar', 'diperhatikan', 'dosen', 'tersebut'], ['waktu', 'akses', 'web', 'flexible', 'hal', 'cocok', 'saya'], ['kita', 'belajar', 'otodidak', 'tantangannya'], ['pengalaman', 'tugas', 'memahami', 'intisari', 'bahasan', 'tugas', 'kebanyakan', 'berdasarkan', 'pendapat', 'pribadi', 'berdasar', 'tingkat', 'kredibilitasnya', 'tinggi', 'tugas', 'nilai', 'memuaskan'], ['belajar', 'berbarengam', 'dam', 'keluarga'], ['waktu', 'belajar', 'tugas', 'flexible', 'dibantu', 'tutor', 'arahan', 'mudah', 'dimengerti', 'terkadang', 'sengaja', 'rangkuman', 'hasil', 'sesi', 'dosentutor', 'mengesankan'], ['semua', 'materi', 'bpkibu', 'pembimbing', 'tutor', 'terkait', 'tutorial', 'online', 'yg', 'mengesankan'], ['ketika', 'mata', 'kukiaj', 'bahasa', 'indonesia', 'mahasiswa', 'wajibkan', 'video', 'mengunggah', 'akun', 'youtubenya', 'disitulah', 'konten'], ['seru', 'menggali', 'ilmu', 'pengalaman', 'temen', 'sekelas', 'mencoba', 'menerima', 'pandangan', 'pemikiran', 'teman', 'berpendapat', 'dosen', 'paparkan', 'mengali', 'kemampuan', 'tugas', 'dosen'], ['sangat', 'menyenangkan', 'mahasiswa', 'memiliki', 'tugas', 'diskusi', 'disamping', 'kesibukan', 'dimiliki', 'orang', 'berbeda', 'daring', 'belajar', 'efektif', 'rasakan'], ['saya', 'memilih', 'belajar', 'sendiri', 'dan', 'memaksimalkannya'], ['waktunya', 'fleksibel', 'pekerja'], ['untuk', 'pengalaman', 'mengikuti', 'kelas', 'offline', 'kalo', 'online', 'individual', 'mahasiswai'], ['awal', 'masuk', 'kuliah', 'susah', 'beradaptasi', 'pekerjaanakhir', 'menata'], ['pengalaman', 'mengesankan', 'berdiskusi', 'berkomunikasi', 'dosen', 'mahasiswa', 'berbeda', 'suku', 'budaya', 'terkait', 'materi', 'daring', 'memperluas', 'pengetahuan'], ['cukup', 'menyenangkan'], ['so', 'far', 'so', 'good'], ['sangat', 'enjoy', 'mengikutinya'], ['adalah', 'bentuk', 'memecahkan', 'hasil', 'pemikiran', 'melatih', 'kesabaran', 'ketelitian', 'hal'], ['mendapat', 'umpan', 'dosen', 'paham', 'materi', 'daring'], [], ['mempunyai', 'pengalaman', 'belajar', 'online', 'mengenal', 'teman', 'kelas', 'online'], ['dapat', 'menambah', 'ilmu', 'dosen', 'mahasiswa'], ['mampu', 'ujian', 'keterbatasan', 'pengetahuan'], ['disaat', 'latihan', 'tugas', 'menjawabnya', 'detail', 'bahan', 'ajar', 'lengkap', 'referensi', 'membantu'], ['dapat', 'sharing', 'teman', 'teman', 'mahasiswa', 'indonesia', 'tatap', 'muka'], ['pengalamannya', 'bertukar', 'pikiran', 'mahasiswa', 'tutor'], ['sangat', 'senang', 'bersemangat'], ['waktu', 'mengikuti', 'osmb'], ['enaknya', 'belajar', 'online', 'kerja'], ['lebih', 'tertantang'], ['mendapatkan', 'pelajaran', 'ketahui'], ['belajar', 'ut', 'mengesankan', 'pengalaman'], ['saya', 'kemudahan', 'fleksibel', 'belajarnya'], ['sebuah', 'sistem', 'belajar', 'baru', 'mengikuti', 'pelajaran', 'normal', 'beralih', 'full', 'online', 'bertemu', 'teman', 'langsung', 'setidaknya', 'merasakan', 'kuliah', 'online', 'pandemi', 'covid', 'maret', 'kemarin'], ['tetap', 'konsisten', 'menjalankan', 'pembelajaran', 'yg', 'sulit', 'penyelesaian', 'masalah'], ['sangat', 'bangga', 'belajar', 'mandiri'], [], ['sangat', 'menyenangkan', 'membagi', 'pekerjaan', 'kuliah'], ['setiap', 'tugas', 'nilai', 'terbaik', 'cepat', 'lulus', 'ut', 'mencari', 'pekerjaan'], ['hal', 'menantang', 'kedisiplinan', 'mahasiswa', 'mengikuti', 'kelas', 'online', 'status', 'pekerja', 'industri', 'dimana', 'jadual', 'kerja', 'shift', 'jam', 'tidak', 'mudah', 'mengatur', 'tugas', 'selesai', 'on', 'time'], ['menambah', 'wawasan'], ['baik'], ['diskusi'], ['pengalaman', 'mengikuti', 'tuton', 'setuju', 'halpembelajrannya', 'belajar', 'dimana', 'terganggu', 'pekerjaan'], [], ['lebih', 'hemat', 'aja', 'pekerja', 'tdk', 'menggangu', 'jam', 'kerja', 'belajar', 'jam', 'luang'], ['pengalaman', 'mengesankan', 'belajar', 'menyelesaikan', 'tugas', 'diskusi', 'tutorial', 'online', 'tuton', 'fleksibel', 'mudah', 'menyelesaikan', 'nya'], ['pengalaman', 'sy', 'dpt', 'menyimak', 'paham'], [], ['pengalaman', 'mengesankan', 'ujian', 'dimana', 'membangun', 'meningkatkan', 'pola', 'pemikiran', 'sarjana'], ['karena', 'daerah', 'tengahtengah', 'hutan', 'gangguan', 'sinyal', 'yg', 'mengharuskan', 'tugas', 'pc', 'kantor', 'memanajemen', 'belajar'], ['mendaptkan', 'pengalaman', 'mengunakan', 'bahan', 'digital', 'ba', 'digital', 'perpustakaan', 'online'], ['adu', 'argument', 'diskusi'], ['forum', 'diskusi', 'mengesankan', 'dosen'], ['menentukan', 'jenjang'], ['pengalamannya', 'belajar', 'mandiri', 'bertanggungjawab', 'karena', 'dituntut', 'belajar', 'sendiri', 'sistem', 'online', 'mengharuskan', 'mengenal', 'teknologi', 'informasi', 'mendalam'], ['pengalaman', 'belajar', 'mengikuti', 'kelas', 'tuton', 'bermanfaat', 'berguna', 'pribadi', 'di', 'aplikasi', 'tuton', 'learning', 'nya', 'berinteraksi', 'teman²', 'tutor', 'forum', 'diskusi', 'tutor', 'nilai', 'dan', 'lupa', 'kewajiban', 'mahasiswa', 'mentaati', 'aturan', 'kampus', 'tugas', 'kewajiban', 'mahasiswa', 'dan', 'semoga', 'lulus', 'hasil', 'memuaskan', 'aamiin', 'ya', 'allah'], ['pengalaman', 'saya', 'belajar', 'referensi', 'modul', 'belajar', 'tenan', 'online'], [], ['mendapatkan', 'respon', 'cepat', 'tutor', 'revisi', 'revisi', 'ditanggapi', 'sesuai', 'deadline', 'ditentukan'], ['unik', 'dijaman', 'pandemi', 'pembelajaran', 'ut', 'menyesuaikan', 'lagi', 'terbiasa', 'pembelajaran', 'daring'], ['yang', 'berkesan', 'pelajaran', 'daring', 'dosendosen', 'rajin', 'menapproach', 'mahasiswanya', 'email', 'pribadi'], ['dapat', 'mengalokasi', 'belajar'], ['degdegan', 'dikejar', 'target', 'bentrok', 'jam', 'kerja'], ['allhamdulilah', 'berjalan', 'denga', 'lancar', 'terima', 'kasih', 'ut'], ['lebih', 'mudah', 'mengatur', 'belajar', 'dimanapun'], ['sangat', 'membantu', 'memudahkan', 'majasiswa'], ['lebih', 'efisien'], ['fleksibel', 'lembur', 'kerja', 'tuton', 'dimanapun'], ['pertama', 'kali', 'mengikuti', 'pembelajaran', 'daring', 'membingungkan', 'offline', 'butuh', 'adaptasi', 'mengikuti', 'daring'], ['dosennya', 'baik', 'cuek'], ['bisa', 'kerjakan', 'saja', 'terburu', 'buru', 'berangkat', 'kuliah'], ['sangat', 'membantu', 'sibuk', 'pekerjaan', 'memenej'], ['lebih', 'fleksibel', 'dimana', 'menentukan', 'jadwal', 'belajar', 'mengikuti', 'perkuliahan', 'baik', 'karyawan'], ['mendapatkan', 'pengalaman', 'belajar'], ['mendapatkan', 'nilai', 'sedih', 'nilai', 'mengikuti', 'perkuliahan'], ['ketika', 'tigas', 'online', 'mengatur'], ['dimana', 'teman', 'sekelas', 'sayan', 'memahaminya', 'memahami', 'teman', 'sekelas', 'menjawabnya', 'dosen'], ['belajar', 'flexibel'], ['turoturial', 'matakuliah', 'sesi', 'diskusi', 'tugas', 'yg', 'dosen', 'membantu', 'panduan', 'mencari', 'ajukan'], ['saya', 'memilih', 'belajar', 'inginkanbisa', 'berinteraksi', 'mahasiswa', 'bertukar', 'pendapat', 'temanteman', 'diluar', 'pulau'], ['di', 'arahan', 'dosen', 'email'], ['pengalaman', 'mengikuti', 'kelas', 'online', 'ut', 'berinteraksi', 'mahasiswa', 'indonesia', 'berdomisili', 'negeri', 'memiliki', 'dosen', 'aktif', 'mendorong', 'mahasiswanya', 'mengikuti', 'pembelajarab', 'online', 'tuton'], ['belum', 'mengesankan', 'sulit', 'dicerna'], ['sangat', 'berkesan', 'terarah', 'spesifik'], ['susah', 'membagi'], ['keren'], ['bisa', 'bertemu', 'mahasiswai', 'indonesia'], ['yang', 'mengesankan', 'ohh', 'ut', 'kuliahnya', 'ini', 'mudah', 'ribet', 'gampang', 'memperolih', 'ipk', 'rajin', 'tugas', 'plagiat', 'sesuai', 'bmp'], ['yang', 'mengesankan', 'aktif', 'diskusi', 'dosen', 'pembimbingnya', 'aktif', 'menanggapi', 'kolektif', 'menantang', 'peran', 'aktif', 'mahasisiwa', 'kuliah', 'online'], ['saya', 'mengakses', 'perkuliahan', 'dimana', 'saja', 'itu', 'memudahkan', 'mengikuti', 'perkuliahan', 'tugas'], ['yang', 'mengesankan', 'perhatiin', 'dosen', 'diberitahu', 'kesalahan', 'kesempatan', 'memperbaiki'], [], ['baik'], ['informasi', 'luas'], ['pengalaman', 'yg', 'mengesankan', 'mengikuti', 'daring', 'mata', 'kuliah', 'sulit', 'tutor', 'nya', 'merespon', 'aktif', 'memahami', 'mata', 'kuliah', 'metode', 'pembelajaran', 'daring', 'kuliah', 'tatap', 'muka', 'mata', 'kuliah', 'sulit', 'dipahami', 'daring'], ['menemukan', 'nya', 'memiliki', 'pandangan', 'mengenal', 'kelas', 'online'], ['kecepatan', 'kuis'], ['pengalaman', 'matakuliah', 'metode', 'penelitian', 'yaitu', 'belajar', 'karya', 'ilmiah'], ['belum', 'menemukan', 'pelangalam', 'mengesankan', 'mungkin', 'pribadi', 'kesulitan', 'belanar', 'yg', 'membaca', 'saya', 'cepat', 'tanggap', 'mengerti', 'mendengarkan', 'penjelasan', 'visual', 'video', 'audio'], ['kebetulan', 'mahasiswa', 'yg', 'ambil', 'online', 'tatap', 'muka'], [], ['full', 'tugas', 'tutorial', 'online'], ['lebih', 'memacu', 'berfikir', 'mandiri'], ['sangat', 'menyenangkan', 'fleksibel'], [], [], []]\n"
          ]
        }
      ],
      "source": [
        "text = df_new['Pengalaman Belajar']\n",
        "text_list =  [i.split() for i in text]\n",
        "#text_list =  [i for i in text]\n",
        "print(len(text_list))\n",
        "print(text_list)"
      ]
    },
    {
      "cell_type": "code",
      "execution_count": null,
      "metadata": {
        "id": "GjjpNNG6y9Gz"
      },
      "outputs": [],
      "source": [
        "#di twitter, yg, dn, sy, -- > masukkan di stopwords, sastrawi buat stopwords "
      ]
    },
    {
      "cell_type": "code",
      "execution_count": null,
      "metadata": {
        "id": "pYW0PR2c_S08"
      },
      "outputs": [],
      "source": [
        "#normalisasi : --> yg, dn, sy, dll. "
      ]
    },
    {
      "cell_type": "code",
      "execution_count": null,
      "metadata": {
        "id": "RPsDlHwscyGf"
      },
      "outputs": [],
      "source": [
        "#https://yunusmuhammad007.medium.com/text-preprocessing-menggunakan-pandas-nltk-dan-sastrawi-untuk-large-dataset-5fb3c0a88571"
      ]
    },
    {
      "cell_type": "code",
      "execution_count": null,
      "metadata": {
        "colab": {
          "base_uri": "https://localhost:8080/"
        },
        "id": "Z4Y-nzFZdmOz",
        "outputId": "a63b5e1c-301a-4d94-f1bb-9d06647e3422"
      },
      "outputs": [
        {
          "name": "stdout",
          "output_type": "stream",
          "text": [
            "Frequency Tokens : \n",
            "\n"
          ]
        },
        {
          "data": {
            "text/plain": [
              "0    [( , 9), (a, 8), (n, 7), (e, 5), (i, 5), (r, 4...\n",
              "1    [(e, 6), (n, 5), (s, 4), (a, 4), (m, 3), ( , 3...\n",
              "2    [(a, 3), (n, 2), (p, 2), ( , 2), (m, 1), (e, 1...\n",
              "3    [(a, 53), ( , 41), (n, 29), (e, 19), (i, 19), ...\n",
              "4             [(t, 1), (i, 1), (d, 1), (a, 1), (k, 1)]\n",
              "Name: Pengalaman Belajar, dtype: object"
            ]
          },
          "execution_count": 76,
          "metadata": {},
          "output_type": "execute_result"
        }
      ],
      "source": [
        "#masi salah hasil frekuensi nya\n",
        "# NLTK calc frequency distribution\n",
        "from nltk.probability import FreqDist\n",
        "def freqDist_wrapper(text):\n",
        "    return FreqDist(text)\n",
        "\n",
        "df_new['Pengalaman Belajar'] = df_new['Pengalaman Belajar'].apply(freqDist_wrapper)\n",
        "\n",
        "print('Frequency Tokens : \\n') \n",
        "df_new['Pengalaman Belajar'].head().apply(lambda x : x.most_common())"
      ]
    },
    {
      "cell_type": "code",
      "execution_count": null,
      "metadata": {
        "id": "f6UZW6rkR9n1"
      },
      "outputs": [],
      "source": [
        "#stringdata=' '.join([str(item) for item in text_list])\n",
        "#print(stringdata)"
      ]
    },
    {
      "cell_type": "code",
      "execution_count": null,
      "metadata": {
        "id": "QP36Ft_4RxFY"
      },
      "outputs": [],
      "source": [
        "#pip install Sastrawi"
      ]
    },
    {
      "cell_type": "code",
      "execution_count": null,
      "metadata": {
        "id": "ewBZk5pLR3PV"
      },
      "outputs": [],
      "source": [
        "# import StemmerFactory class\n",
        "#from Sastrawi.Stemmer.StemmerFactory import StemmerFactory\n",
        "# create stemmer\n",
        "#factory = StemmerFactory()\n",
        "#stemmer = factory.create_stemmer()\n",
        "# stemming process\n",
        "#sentence = 'Perekonomian Indonesia sedang dalam pertumbuhan yang membanggakan'\n",
        "#output   = stemmer.stem(stringdata)\n",
        "#print(output)"
      ]
    },
    {
      "cell_type": "code",
      "execution_count": null,
      "metadata": {
        "id": "IE9Z1ZFUX4WA"
      },
      "outputs": [],
      "source": [
        "# Python code to convert string to list\n",
        "#def Convert(string):\n",
        "#    li = list(string.split(\"-\"))\n",
        "#    return li\n",
        "  \n",
        "# Driver code \n",
        "#list_text =  Convert(output)  \n",
        "#print(list_text)"
      ]
    },
    {
      "cell_type": "code",
      "execution_count": null,
      "metadata": {
        "id": "tk7H4eLcTQqF"
      },
      "outputs": [],
      "source": [
        "#text_list =  [i.split() for i in list_text]"
      ]
    },
    {
      "cell_type": "code",
      "execution_count": null,
      "metadata": {
        "id": "P9trZzt5W76t"
      },
      "outputs": [],
      "source": [
        "#print(text_list)"
      ]
    },
    {
      "cell_type": "code",
      "execution_count": null,
      "metadata": {
        "id": "RvOXyLfVPk4y"
      },
      "outputs": [],
      "source": [
        "#nltk.download('punkt')"
      ]
    },
    {
      "cell_type": "code",
      "execution_count": null,
      "metadata": {
        "id": "fHH5EmZWfh7Q"
      },
      "outputs": [],
      "source": [
        "#https://sites.unpad.ac.id/widodo/2021/03/09/nlp-dengan-python/"
      ]
    },
    {
      "cell_type": "code",
      "execution_count": null,
      "metadata": {
        "id": "qnLvYqUHc5Jj"
      },
      "outputs": [],
      "source": [
        "import gensim\n",
        "#Create Bigram & Trigram Models \n",
        "from gensim.models import Phrases\n",
        "# Add bigrams and trigrams to docs,minimum count 10 means only that appear 10 times or more.\n",
        "bigram = Phrases(text_list, min_count=10)\n",
        "trigram = Phrases(bigram[text_list])\n",
        "for idx in range(len(text_list)):\n",
        "    for token in bigram[text_list[idx]]:\n",
        "        if '_' in token:\n",
        "            # Token is a bigram, add to document.\n",
        "            text_list[idx].append(token)\n",
        "    for token in trigram[text_list[idx]]:\n",
        "        if '_' in token:\n",
        "            # Token is a bigram, add to document.\n",
        "            text_list[idx].append(token)"
      ]
    },
    {
      "cell_type": "code",
      "execution_count": null,
      "metadata": {
        "colab": {
          "base_uri": "https://localhost:8080/"
        },
        "id": "EO5hqr3Ufk0S",
        "outputId": "0ff90687-35bf-4851-e1fd-5e3d61b8f9dd"
      },
      "outputs": [
        {
          "name": "stdout",
          "output_type": "stream",
          "text": [
            "Dictionary(58 unique tokens: ['daring', 'kuliah', 'nilai', 'mengesankan', 'berdiskusi']...)\n"
          ]
        }
      ],
      "source": [
        "from gensim import corpora, models\n",
        "# Create a dictionary representation of the documents.\n",
        "dictionary = corpora.Dictionary(text_list)\n",
        "dictionary.filter_extremes(no_below=5, no_above=0.2) \n",
        "#no_below (int, optional) – Keep tokens which are contained in at least no_below documents.\n",
        "#no_above (float, optional) – Keep tokens which are contained in no more than no_above documents (fraction of total corpus size, not an absolute number).\n",
        "print(dictionary)"
      ]
    },
    {
      "cell_type": "code",
      "execution_count": null,
      "metadata": {
        "colab": {
          "base_uri": "https://localhost:8080/"
        },
        "id": "oF92M3p_fqlQ",
        "outputId": "3b77b4e1-2901-4b52-9698-4ea50bb0fa14"
      },
      "outputs": [
        {
          "name": "stdout",
          "output_type": "stream",
          "text": [
            "209\n",
            "[(36, 1), (43, 1)]\n"
          ]
        }
      ],
      "source": [
        "#https://radimrehurek.com/gensim/tut1.html \n",
        "#build corpus\n",
        "# Converting list of documents (corpus) into Document Term Matrix using dictionary prepared above.\n",
        "doc_term_matrix = [dictionary.doc2bow(doc) for doc in text_list]\n",
        "#The function doc2bow converts document (a list of words) into the bag-of-words format\n",
        "'''The function doc2bow() simply counts the number of occurrences of each distinct word, \n",
        "converts the word to its integer word id and returns the result as a sparse vector. \n",
        "The sparse vector [(0, 1), (1, 1)] therefore reads: in the document “Human computer interaction”, \n",
        "the words computer (id 0) and human (id 1) appear once; \n",
        "the other ten dictionary words appear (implicitly) zero times.'''\n",
        "print(len(doc_term_matrix))\n",
        "print(doc_term_matrix[100])\n",
        "tfidf = models.TfidfModel(doc_term_matrix) #build TF-IDF model\n",
        "corpus_tfidf = tfidf[doc_term_matrix]"
      ]
    },
    {
      "cell_type": "code",
      "execution_count": null,
      "metadata": {
        "id": "m5ZUrlyFfx85"
      },
      "outputs": [],
      "source": [
        "from gensim.models.coherencemodel import CoherenceModel\n",
        "from gensim.models.ldamodel import LdaModel\n",
        "from gensim.corpora.dictionary import Dictionary\n",
        "from numpy import array\n",
        "#function to compute coherence values\n",
        "def compute_coherence_values(dictionary, corpus, texts, limit, start, step):\n",
        "    coherence_values = []\n",
        "    model_list = []\n",
        "    for num_topics in range(start, limit, step):\n",
        "        model = LdaModel(corpus=corpus, id2word=dictionary, num_topics=num_topics, iterations=100)\n",
        "        model_list.append(model)\n",
        "        coherencemodel = CoherenceModel(model=model, texts=texts, dictionary=dictionary, coherence='c_v')\n",
        "        coherence_values.append(coherencemodel.get_coherence())\n",
        "        \n",
        "    return model_list, coherence_values"
      ]
    },
    {
      "cell_type": "code",
      "execution_count": null,
      "metadata": {
        "colab": {
          "base_uri": "https://localhost:8080/",
          "height": 279
        },
        "id": "IBkB1bzOf3AP",
        "outputId": "73fe3950-434a-4fa4-8f87-77a708f4fe7c"
      },
      "outputs": [
        {
          "data": {
            "image/png": "[encoded data removed]",
            "text/plain": [
              "<Figure size 432x288 with 1 Axes>"
            ]
          },
          "metadata": {
            "needs_background": "light"
          },
          "output_type": "display_data"
        }
      ],
      "source": [
        "start=1\n",
        "limit=21\n",
        "step=1\n",
        "model_list, coherence_values = compute_coherence_values(dictionary, corpus=corpus_tfidf, \n",
        "                                                        texts=text_list, start=start, limit=limit, step=step)\n",
        "#show graphs\n",
        "import matplotlib.pyplot as plt\n",
        "x = range(start, limit, step)\n",
        "plt.plot(x, coherence_values)\n",
        "plt.xlabel(\"Num Topics\")\n",
        "plt.ylabel(\"Coherence score\")\n",
        "plt.legend((\"coherence_values\"), loc='best')\n",
        "plt.show()"
      ]
    },
    {
      "cell_type": "code",
      "execution_count": null,
      "metadata": {
        "colab": {
          "base_uri": "https://localhost:8080/"
        },
        "id": "qaNFv0PIgDYh",
        "outputId": "af7077fa-f1e8-4fb7-e0d6-d84eb319f207"
      },
      "outputs": [
        {
          "name": "stdout",
          "output_type": "stream",
          "text": [
            "Num Topics = 1  has Coherence Value of 0.319\n",
            "Num Topics = 2  has Coherence Value of 0.431\n",
            "Num Topics = 3  has Coherence Value of 0.407\n",
            "Num Topics = 4  has Coherence Value of 0.392\n",
            "Num Topics = 5  has Coherence Value of 0.402\n",
            "Num Topics = 6  has Coherence Value of 0.417\n",
            "Num Topics = 7  has Coherence Value of 0.41\n",
            "Num Topics = 8  has Coherence Value of 0.421\n",
            "Num Topics = 9  has Coherence Value of 0.441\n",
            "Num Topics = 10  has Coherence Value of 0.411\n",
            "Num Topics = 11  has Coherence Value of 0.436\n",
            "Num Topics = 12  has Coherence Value of 0.43\n",
            "Num Topics = 13  has Coherence Value of 0.415\n",
            "Num Topics = 14  has Coherence Value of 0.41\n",
            "Num Topics = 15  has Coherence Value of 0.418\n",
            "Num Topics = 16  has Coherence Value of 0.419\n",
            "Num Topics = 17  has Coherence Value of 0.432\n",
            "Num Topics = 18  has Coherence Value of 0.403\n",
            "Num Topics = 19  has Coherence Value of 0.426\n",
            "Num Topics = 20  has Coherence Value of 0.417\n"
          ]
        }
      ],
      "source": [
        "# Print the coherence scores\n",
        "for m, cv in zip(x, coherence_values):\n",
        "    print(\"Num Topics =\", m, \" has Coherence Value of\", round(cv, 3))"
      ]
    },
    {
      "cell_type": "code",
      "execution_count": null,
      "metadata": {
        "colab": {
          "base_uri": "https://localhost:8080/"
        },
        "id": "SWVlH8xAgPCu",
        "outputId": "7cc1b7d8-54f0-441e-cb60-e3aa1e8684fa"
      },
      "outputs": [
        {
          "name": "stdout",
          "output_type": "stream",
          "text": [
            "Topic: 0 Word: 0.072*\"kuliah\" + 0.055*\"pengalaman\" + 0.053*\"yg\" + 0.048*\"hal\" + 0.042*\"online\" + 0.042*\"mudah\" + 0.033*\"dipahami\" + 0.032*\"nya\" + 0.032*\"berinteraksi\" + 0.030*\"menyenangkan\"\n",
            "Topic: 1 Word: 0.062*\"daring\" + 0.062*\"tutor\" + 0.059*\"sangat\" + 0.052*\"kuliah\" + 0.048*\"mandiri\" + 0.039*\"aktif\" + 0.036*\"nilai\" + 0.032*\"menanggapi\" + 0.032*\"pembelajaran\" + 0.032*\"dan\"\n",
            "Topic: 2 Word: 0.072*\"daring\" + 0.070*\"lebih\" + 0.064*\"mengesankan\" + 0.047*\"pembelajaran\" + 0.044*\"mengikuti\" + 0.044*\"dosen\" + 0.038*\"materi\" + 0.038*\"online\" + 0.037*\"mengatur\" + 0.036*\"mudah\"\n",
            "Topic: 3 Word: 0.092*\"dosen\" + 0.067*\"pengalaman\" + 0.060*\"tugas\" + 0.055*\"mahasiswa\" + 0.050*\"yg\" + 0.047*\"mendapatkan\" + 0.040*\"online\" + 0.038*\"menyenangkan\" + 0.037*\"teman\" + 0.035*\"memiliki\"\n",
            "Topic: 4 Word: 0.073*\"menyenangkan\" + 0.067*\"pengalaman\" + 0.061*\"ut\" + 0.060*\"mudah\" + 0.052*\"daring\" + 0.047*\"sesuai\" + 0.038*\"paham\" + 0.037*\"memuaskan\" + 0.037*\"mengesankan\" + 0.036*\"kerja\"\n",
            "Topic: 5 Word: 0.092*\"diskusi\" + 0.066*\"baik\" + 0.049*\"pekerja\" + 0.048*\"saya\" + 0.043*\"sangat\" + 0.043*\"membantu\" + 0.041*\"pengalaman\" + 0.040*\"nilai\" + 0.038*\"kelas\" + 0.033*\"fleksibel\"\n",
            "Topic: 6 Word: 0.102*\"waktu\" + 0.097*\"fleksibel\" + 0.069*\"saya\" + 0.053*\"mengikuti\" + 0.050*\"mahasiswa\" + 0.044*\"mudah\" + 0.042*\"yang\" + 0.042*\"materi\" + 0.036*\"dosen\" + 0.036*\"mengesankan\"\n",
            "Topic: 7 Word: 0.090*\"teman\" + 0.058*\"online\" + 0.057*\"pekerjaan\" + 0.050*\"ut\" + 0.042*\"kelas\" + 0.041*\"pengalaman\" + 0.041*\"saya\" + 0.037*\"dan\" + 0.035*\"nilai\" + 0.030*\"sangat\"\n",
            "Topic: 8 Word: 0.087*\"mengatur\" + 0.082*\"mengesankan\" + 0.068*\"kerja\" + 0.064*\"online\" + 0.060*\"baik\" + 0.054*\"mengerti\" + 0.044*\"saya\" + 0.039*\"tugas\" + 0.034*\"mandiri\" + 0.027*\"menanggapi\"\n"
          ]
        }
      ],
      "source": [
        "model = LdaModel(corpus=corpus_tfidf, id2word=dictionary, num_topics=9) #num topic menyesuaikan hasil dari coherence value paling tinggi\n",
        "for idx, topic in model.print_topics(-1):\n",
        "    print('Topic: {} Word: {}'.format(idx, topic))\n",
        "    # yg belum remove Yang, yg,trus lower text"
      ]
    },
    {
      "cell_type": "code",
      "execution_count": null,
      "metadata": {
        "colab": {
          "base_uri": "https://localhost:8080/"
        },
        "id": "t5CsIHbigduf",
        "outputId": "ad397ac7-6944-411e-f515-2a9344191f97"
      },
      "outputs": [
        {
          "name": "stdout",
          "output_type": "stream",
          "text": [
            "None\n"
          ]
        }
      ],
      "source": [
        "import pandas as pd\n",
        "top_words_per_topic = []\n",
        "for t in range(model.num_topics):\n",
        "    top_words_per_topic.extend([(t, ) + x for x in model.show_topic(t, topn = 5)]) #ubah2 yg ini\n",
        "df=pd.DataFrame(top_words_per_topic, columns=['Topic', 'Word', 'P']).to_csv(\"top_words_topic_20.csv\")\n",
        "#df = pd.DataFrame(top_words_per_topic, columns=['Topic', 'Word','P']).to_csv(\"top_words2_50_clean.csv\")\n",
        "print(df)\n"
      ]
    },
    {
      "cell_type": "code",
      "execution_count": null,
      "metadata": {
        "colab": {
          "base_uri": "https://localhost:8080/"
        },
        "id": "QSxbGusaEOl8",
        "outputId": "8776726e-83fd-480b-c4cb-9b3cdd8883a3"
      },
      "outputs": [
        {
          "name": "stdout",
          "output_type": "stream",
          "text": [
            "Requirement already satisfied: pyLDAvis in /usr/local/lib/python3.7/dist-packages (3.3.1)\n",
            "Requirement already satisfied: pandas>=1.2.0 in /usr/local/lib/python3.7/dist-packages (from pyLDAvis) (1.3.5)\n",
            "Requirement already satisfied: sklearn in /usr/local/lib/python3.7/dist-packages (from pyLDAvis) (0.0)\n",
            "Requirement already satisfied: funcy in /usr/local/lib/python3.7/dist-packages (from pyLDAvis) (1.17)\n",
            "Requirement already satisfied: scipy in /usr/local/lib/python3.7/dist-packages (from pyLDAvis) (1.4.1)\n",
            "Requirement already satisfied: joblib in /usr/local/lib/python3.7/dist-packages (from pyLDAvis) (1.1.0)\n",
            "Requirement already satisfied: jinja2 in /usr/local/lib/python3.7/dist-packages (from pyLDAvis) (2.11.3)\n",
            "Requirement already satisfied: setuptools in /usr/local/lib/python3.7/dist-packages (from pyLDAvis) (57.4.0)\n",
            "Requirement already satisfied: numpy>=1.20.0 in /usr/local/lib/python3.7/dist-packages (from pyLDAvis) (1.21.5)\n",
            "Requirement already satisfied: future in /usr/local/lib/python3.7/dist-packages (from pyLDAvis) (0.16.0)\n",
            "Requirement already satisfied: gensim in /usr/local/lib/python3.7/dist-packages (from pyLDAvis) (3.6.0)\n",
            "Requirement already satisfied: numexpr in /usr/local/lib/python3.7/dist-packages (from pyLDAvis) (2.8.1)\n",
            "Requirement already satisfied: scikit-learn in /usr/local/lib/python3.7/dist-packages (from pyLDAvis) (1.0.2)\n",
            "Requirement already satisfied: python-dateutil>=2.7.3 in /usr/local/lib/python3.7/dist-packages (from pandas>=1.2.0->pyLDAvis) (2.8.2)\n",
            "Requirement already satisfied: pytz>=2017.3 in /usr/local/lib/python3.7/dist-packages (from pandas>=1.2.0->pyLDAvis) (2018.9)\n",
            "Requirement already satisfied: six>=1.5 in /usr/local/lib/python3.7/dist-packages (from python-dateutil>=2.7.3->pandas>=1.2.0->pyLDAvis) (1.15.0)\n",
            "Requirement already satisfied: smart-open>=1.2.1 in /usr/local/lib/python3.7/dist-packages (from gensim->pyLDAvis) (5.2.1)\n",
            "Requirement already satisfied: MarkupSafe>=0.23 in /usr/local/lib/python3.7/dist-packages (from jinja2->pyLDAvis) (2.0.1)\n",
            "Requirement already satisfied: packaging in /usr/local/lib/python3.7/dist-packages (from numexpr->pyLDAvis) (21.3)\n",
            "Requirement already satisfied: pyparsing!=3.0.5,>=2.0.2 in /usr/local/lib/python3.7/dist-packages (from packaging->numexpr->pyLDAvis) (3.0.7)\n",
            "Requirement already satisfied: threadpoolctl>=2.0.0 in /usr/local/lib/python3.7/dist-packages (from scikit-learn->pyLDAvis) (3.1.0)\n"
          ]
        }
      ],
      "source": [
        "#ini dilakukan jika module belum tersedia\n",
        "!pip install pyLDAvis\n",
        "#!apt-get -qq install -y pyLDAvis"
      ]
    },
    {
      "cell_type": "code",
      "execution_count": null,
      "metadata": {
        "colab": {
          "base_uri": "https://localhost:8080/"
        },
        "id": "5BGTseD4gFRQ",
        "outputId": "39e9537e-6629-43ea-bfa0-e077c4ac7f89"
      },
      "outputs": [
        {
          "name": "stdout",
          "output_type": "stream",
          "text": [
            "PreparedData(topic_coordinates=              x         y  topics  cluster       Freq\n",
            "topic                                                \n",
            "7      0.050884 -0.046264       1        1  13.751089\n",
            "2     -0.008061  0.004758       2        1  13.131770\n",
            "1      0.073152 -0.046435       3        1  12.038193\n",
            "5      0.029695  0.076665       4        1  11.993466\n",
            "6     -0.164961  0.052213       5        1  11.100551\n",
            "3      0.011723 -0.030506       6        1  10.661228\n",
            "0     -0.054782 -0.043476       7        1  10.205638\n",
            "4     -0.015476 -0.080706       8        1   8.634327\n",
            "8      0.077826  0.113751       9        1   8.483738, topic_info=            Term      Freq     Total Category  logprob  loglift\n",
            "40         waktu  5.000000  5.000000  Default  30.0000  30.0000\n",
            "19      mengatur  4.000000  4.000000  Default  29.0000  29.0000\n",
            "7   menyenangkan  4.000000  4.000000  Default  28.0000  28.0000\n",
            "41          baik  5.000000  5.000000  Default  27.0000  27.0000\n",
            "27         teman  7.000000  7.000000  Default  26.0000  26.0000\n",
            "..           ...       ...       ...      ...      ...      ...\n",
            "16     fleksibel  0.097554  7.852625   Topic9  -5.5590  -1.9212\n",
            "30        sangat  0.097530  7.557431   Topic9  -5.5592  -1.8831\n",
            "36         dosen  0.097474  8.173538   Topic9  -5.5598  -1.9621\n",
            "39       diskusi  0.097413  6.912876   Topic9  -5.5604  -1.7952\n",
            "0         daring  0.097378  8.337365   Topic9  -5.5608  -1.9829\n",
            "\n",
            "[340 rows x 6 columns], token_table=      Topic      Freq   Term\n",
            "term                        \n",
            "44        3  0.296276  aktif\n",
            "44        4  0.296276  aktif\n",
            "41        2  0.173845   baik\n",
            "41        4  0.347690   baik\n",
            "41        6  0.173845   baik\n",
            "...     ...       ...    ...\n",
            "13        1  0.156027     yg\n",
            "13        2  0.156027     yg\n",
            "13        5  0.156027     yg\n",
            "13        6  0.312053     yg\n",
            "13        7  0.312053     yg\n",
            "\n",
            "[219 rows x 3 columns], R=30, lambda_step=0.01, plot_opts={'xlab': 'PC1', 'ylab': 'PC2'}, topic_order=[8, 3, 2, 6, 7, 4, 1, 5, 9])\n"
          ]
        }
      ],
      "source": [
        "#import gensim\n",
        "import pyLDAvis\n",
        "import pyLDAvis.gensim_models;pyLDAvis.enable_notebook()\n",
        "data = pyLDAvis.gensim_models.prepare(model, corpus_tfidf, dictionary)\n",
        "print(data)\n",
        "pyLDAvis.save_html(data, '/content/drive/MyDrive/Colab Notebooks/lda-gensim_clean_kualitatif1.html')"
      ]
    }
  ],
  "metadata": {
    "accelerator": "TPU",
    "colab": {
      "collapsed_sections": [],
      "name": "Data Kualitatif- LDA.ipynb",
      "provenance": []
    },
    "kernelspec": {
      "display_name": "Python 3.9.7 ('venv': venv)",
      "language": "python",
      "name": "python3"
    },
    "language_info": {
      "name": "python",
      "version": "3.9.7"
    },
    "vscode": {
      "interpreter": {
        "hash": "00a08332a9656d07fb15950983716ae1dc3baeb86e6935d123f31572ce96d1e2"
      }
    }
  },
  "nbformat": 4,
  "nbformat_minor": 0
}
