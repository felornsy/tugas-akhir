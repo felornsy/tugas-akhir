{
 "cells": [
  {
   "cell_type": "code",
   "execution_count": 1,
   "metadata": {},
   "outputs": [],
   "source": [
    "import pandas as pd\n",
    "import numpy as np\n",
    "import matplotlib.pyplot as plt"
   ]
  },
  {
   "cell_type": "code",
   "execution_count": 2,
   "metadata": {},
   "outputs": [
    {
     "data": {
      "text/html": [
       "<div>\n",
       "<style scoped>\n",
       "    .dataframe tbody tr th:only-of-type {\n",
       "        vertical-align: middle;\n",
       "    }\n",
       "\n",
       "    .dataframe tbody tr th {\n",
       "        vertical-align: top;\n",
       "    }\n",
       "\n",
       "    .dataframe thead th {\n",
       "        text-align: right;\n",
       "    }\n",
       "</style>\n",
       "<table border=\"1\" class=\"dataframe\">\n",
       "  <thead>\n",
       "    <tr style=\"text-align: right;\">\n",
       "      <th></th>\n",
       "      <th>tweet_id</th>\n",
       "      <th>like_count</th>\n",
       "      <th>keyword</th>\n",
       "      <th>created_at</th>\n",
       "    </tr>\n",
       "  </thead>\n",
       "  <tbody>\n",
       "    <tr>\n",
       "      <th>0</th>\n",
       "      <td>153619597713608704</td>\n",
       "      <td>0.0</td>\n",
       "      <td>energi baru terbarukan</td>\n",
       "      <td>2012-01-01 23:32:20</td>\n",
       "    </tr>\n",
       "    <tr>\n",
       "      <th>1</th>\n",
       "      <td>153857491925610496</td>\n",
       "      <td>0.0</td>\n",
       "      <td>energi baru terbarukan</td>\n",
       "      <td>2012-01-02 15:17:39</td>\n",
       "    </tr>\n",
       "    <tr>\n",
       "      <th>2</th>\n",
       "      <td>154361424154603520</td>\n",
       "      <td>0.0</td>\n",
       "      <td>energi baru terbarukan</td>\n",
       "      <td>2012-01-04 00:40:06</td>\n",
       "    </tr>\n",
       "    <tr>\n",
       "      <th>3</th>\n",
       "      <td>156397219346518017</td>\n",
       "      <td>0.0</td>\n",
       "      <td>energi baru terbarukan</td>\n",
       "      <td>2012-01-09 15:29:37</td>\n",
       "    </tr>\n",
       "    <tr>\n",
       "      <th>4</th>\n",
       "      <td>156936339718279168</td>\n",
       "      <td>0.0</td>\n",
       "      <td>energi baru terbarukan</td>\n",
       "      <td>2012-01-11 03:11:53</td>\n",
       "    </tr>\n",
       "    <tr>\n",
       "      <th>...</th>\n",
       "      <td>...</td>\n",
       "      <td>...</td>\n",
       "      <td>...</td>\n",
       "      <td>...</td>\n",
       "    </tr>\n",
       "    <tr>\n",
       "      <th>109700</th>\n",
       "      <td>1542534421219360772</td>\n",
       "      <td>0.0</td>\n",
       "      <td>ebt</td>\n",
       "      <td>2022-06-30 15:43:59</td>\n",
       "    </tr>\n",
       "    <tr>\n",
       "      <th>109701</th>\n",
       "      <td>1542540419677859842</td>\n",
       "      <td>0.0</td>\n",
       "      <td>ebt</td>\n",
       "      <td>2022-06-30 16:07:49</td>\n",
       "    </tr>\n",
       "    <tr>\n",
       "      <th>109702</th>\n",
       "      <td>1542557674704740353</td>\n",
       "      <td>0.0</td>\n",
       "      <td>ebt</td>\n",
       "      <td>2022-06-30 17:16:23</td>\n",
       "    </tr>\n",
       "    <tr>\n",
       "      <th>109703</th>\n",
       "      <td>1542592685978320896</td>\n",
       "      <td>0.0</td>\n",
       "      <td>ebt</td>\n",
       "      <td>2022-06-30 19:35:30</td>\n",
       "    </tr>\n",
       "    <tr>\n",
       "      <th>109704</th>\n",
       "      <td>1542627769762271232</td>\n",
       "      <td>0.0</td>\n",
       "      <td>ebt</td>\n",
       "      <td>2022-06-30 21:54:55</td>\n",
       "    </tr>\n",
       "  </tbody>\n",
       "</table>\n",
       "<p>109705 rows × 4 columns</p>\n",
       "</div>"
      ],
      "text/plain": [
       "                   tweet_id  like_count                 keyword  \\\n",
       "0        153619597713608704         0.0  energi baru terbarukan   \n",
       "1        153857491925610496         0.0  energi baru terbarukan   \n",
       "2        154361424154603520         0.0  energi baru terbarukan   \n",
       "3        156397219346518017         0.0  energi baru terbarukan   \n",
       "4        156936339718279168         0.0  energi baru terbarukan   \n",
       "...                     ...         ...                     ...   \n",
       "109700  1542534421219360772         0.0                     ebt   \n",
       "109701  1542540419677859842         0.0                     ebt   \n",
       "109702  1542557674704740353         0.0                     ebt   \n",
       "109703  1542592685978320896         0.0                     ebt   \n",
       "109704  1542627769762271232         0.0                     ebt   \n",
       "\n",
       "                 created_at  \n",
       "0       2012-01-01 23:32:20  \n",
       "1       2012-01-02 15:17:39  \n",
       "2       2012-01-04 00:40:06  \n",
       "3       2012-01-09 15:29:37  \n",
       "4       2012-01-11 03:11:53  \n",
       "...                     ...  \n",
       "109700  2022-06-30 15:43:59  \n",
       "109701  2022-06-30 16:07:49  \n",
       "109702  2022-06-30 17:16:23  \n",
       "109703  2022-06-30 19:35:30  \n",
       "109704  2022-06-30 21:54:55  \n",
       "\n",
       "[109705 rows x 4 columns]"
      ]
     },
     "execution_count": 2,
     "metadata": {},
     "output_type": "execute_result"
    }
   ],
   "source": [
    "df = pd.read_csv('data/text-preprocessing.csv', usecols=[\"tweet_id\", \"like_count\", \"keyword\",\"created_at\"])\n",
    "df"
   ]
  },
  {
   "cell_type": "code",
   "execution_count": 3,
   "metadata": {},
   "outputs": [
    {
     "data": {
      "image/png": "[encoded data removed]",
      "text/plain": [
       "<Figure size 432x288 with 1 Axes>"
      ]
     },
     "metadata": {
      "needs_background": "light"
     },
     "output_type": "display_data"
    }
   ],
   "source": [
    "keywords = ['semua', 'energi baru terbarukan', 'renewable energy', 'ebt']\n",
    "\n",
    "for keyword in keywords:\n",
    "    if keyword == \"semua\":\n",
    "        df_twit = df\n",
    "    else:\n",
    "        df_twit = df.loc[df['keyword'] == keyword]\n",
    "    column_names = [\"year\", \"total\"]\n",
    "    df_like_year = pd.DataFrame(columns = column_names)\n",
    "\n",
    "    years = [2012,2013,2014,2015,2016,2017,2018,2019,2020,2021,2022]\n",
    "    for index,year in enumerate(years):\n",
    "        data_year = None\n",
    "        data_year = df_twit.loc[(df_twit['created_at'] >= str(year)+'-01-01') & (df_twit['created_at'] <= str(year)+'-12-31')]\n",
    "        df_like_year.loc[index+1] = [year, data_year['like_count'].count()]\n",
    "    \n",
    "    plt.plot(df_like_year['year'].values, df_like_year['total'].values, label=keyword)\n",
    "\n",
    "plt.title(\"kata kunci energi baru terbarukan, renewable energy, dan ebt\")\n",
    "plt.xlabel(\"Tahun\")\n",
    "plt.ylabel(\"Total Like\")\n",
    "plt.legend()\n",
    "plt.show()"
   ]
  },
  {
   "cell_type": "code",
   "execution_count": null,
   "metadata": {},
   "outputs": [],
   "source": []
  }
 ],
 "metadata": {
  "kernelspec": {
   "display_name": "Python 3.9.7 ('venv': venv)",
   "language": "python",
   "name": "python3"
  },
  "language_info": {
   "codemirror_mode": {
    "name": "ipython",
    "version": 3
   },
   "file_extension": ".py",
   "mimetype": "text/x-python",
   "name": "python",
   "nbconvert_exporter": "python",
   "pygments_lexer": "ipython3",
   "version": "3.9.7"
  },
  "orig_nbformat": 4,
  "vscode": {
   "interpreter": {
    "hash": "00a08332a9656d07fb15950983716ae1dc3baeb86e6935d123f31572ce96d1e2"
   }
  }
 },
 "nbformat": 4,
 "nbformat_minor": 2
}
