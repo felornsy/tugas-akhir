{
 "cells": [
  {
   "cell_type": "code",
   "execution_count": 7,
   "metadata": {},
   "outputs": [],
   "source": [
    "import tweepy\n",
    "import pandas as pd\n",
    "import mysql.connector\n",
    "from dotenv import load_dotenv\n",
    "import time "
   ]
  },
  {
   "cell_type": "code",
   "execution_count": 8,
   "metadata": {},
   "outputs": [],
   "source": [
    "# load data dari .env\n",
    "load_dotenv(override=True)\n",
    "\n",
    "# get detail mysql\n",
    "db_host = os.getenv(\"mysql_host\")\n",
    "db_user = os.getenv(\"mysql_user\")\n",
    "db_password = os.getenv(\"mysql_password\")\n",
    "db_database = os.getenv(\"mysql_database\")\n",
    "db_port = os.getenv(\"mysql_port\")\n",
    "\n",
    "# get bearer token api twitter\n",
    "bearer_token = os.getenv(\"bearer_token\")"
   ]
  },
  {
   "cell_type": "code",
   "execution_count": 9,
   "metadata": {},
   "outputs": [],
   "source": [
    "def insertTweet(db, tweet_id, data):\n",
    "    \n",
    "    mycursor = db.cursor()\n",
    "    sql = \"SELECT * FROM tweets WHERE tweet_id =\"+ tweet_id\n",
    "    mycursor.execute(sql)\n",
    "    tweet = mycursor.fetchone()\n",
    "    \n",
    "    if not tweet:\n",
    "        mycursor = db.cursor()\n",
    "        sql = \"INSERT INTO tweets (tweet_id, content, retweet_count, reply_count, like_count, source, next_pagination,  created_at) VALUES (%s, %s, %s, %s, %s, %s, %s, %s)\"\n",
    "        val = (data['tweet_id'], data['content'], data['retweet_count'], data['reply_count'], data['like_count'], data['source'], data['next_pagination'],data['created_at'])\n",
    "        mycursor.execute(sql, val)\n",
    "        db.commit()\n",
    "        mycursor.close()"
   ]
  },
  {
   "cell_type": "code",
   "execution_count": 10,
   "metadata": {},
   "outputs": [],
   "source": [
    "# create client tweepy\n",
    "client = tweepy.Client(bearer_token)\n",
    "\n",
    "# create connection to database\n",
    "db =  mysql.connector.connect(\n",
    "    host=db_host,\n",
    "    user=db_user,\n",
    "    password=db_password,\n",
    "    database=db_database,\n",
    "    port=db_port\n",
    ")"
   ]
  },
  {
   "cell_type": "code",
   "execution_count": 12,
   "metadata": {},
   "outputs": [
    {
     "name": "stdout",
     "output_type": "stream",
     "text": [
      "101\n",
      "151\n",
      "201\n",
      "251\n"
     ]
    },
    {
     "ename": "KeyError",
     "evalue": "'next_token'",
     "output_type": "error",
     "traceback": [
      "\u001b[0;31m---------------------------------------------------------------------------\u001b[0m",
      "\u001b[0;31mKeyError\u001b[0m                                  Traceback (most recent call last)",
      "\u001b[1;32m/Users/indralionardy/Personal/twitter/data_collection copy.ipynb Cell 5'\u001b[0m in \u001b[0;36m<cell line: 20>\u001b[0;34m()\u001b[0m\n\u001b[1;32m     <a href='vscode-notebook-cell:/Users/indralionardy/Personal/twitter/data_collection%20copy.ipynb#ch0000011?line=47'>48</a>\u001b[0m new_array[\u001b[39m\"\u001b[39m\u001b[39mlike_count\u001b[39m\u001b[39m\"\u001b[39m] \u001b[39m=\u001b[39m row[\u001b[39m'\u001b[39m\u001b[39mpublic_metrics_like_count\u001b[39m\u001b[39m'\u001b[39m] \n\u001b[1;32m     <a href='vscode-notebook-cell:/Users/indralionardy/Personal/twitter/data_collection%20copy.ipynb#ch0000011?line=48'>49</a>\u001b[0m new_array[\u001b[39m\"\u001b[39m\u001b[39mnext_pagination\u001b[39m\u001b[39m\"\u001b[39m] \u001b[39m=\u001b[39m row[\u001b[39m'\u001b[39m\u001b[39mpublic_metrics_quote_count\u001b[39m\u001b[39m'\u001b[39m] \n\u001b[0;32m---> <a href='vscode-notebook-cell:/Users/indralionardy/Personal/twitter/data_collection%20copy.ipynb#ch0000011?line=49'>50</a>\u001b[0m new_array[\u001b[39m\"\u001b[39m\u001b[39mnext_pagination\u001b[39m\u001b[39m\"\u001b[39m] \u001b[39m=\u001b[39m search\u001b[39m.\u001b[39;49mmeta[\u001b[39m'\u001b[39;49m\u001b[39mnext_token\u001b[39;49m\u001b[39m'\u001b[39;49m]\n\u001b[1;32m     <a href='vscode-notebook-cell:/Users/indralionardy/Personal/twitter/data_collection%20copy.ipynb#ch0000011?line=50'>51</a>\u001b[0m new_array[\u001b[39m\"\u001b[39m\u001b[39mcreated_at\u001b[39m\u001b[39m\"\u001b[39m] \u001b[39m=\u001b[39m row[\u001b[39m'\u001b[39m\u001b[39mcreated_at\u001b[39m\u001b[39m'\u001b[39m] \n\u001b[1;32m     <a href='vscode-notebook-cell:/Users/indralionardy/Personal/twitter/data_collection%20copy.ipynb#ch0000011?line=51'>52</a>\u001b[0m insertTweet(db, \u001b[39mstr\u001b[39m(new_array[\u001b[39m\"\u001b[39m\u001b[39mtweet_id\u001b[39m\u001b[39m\"\u001b[39m]), new_array)\n",
      "\u001b[0;31mKeyError\u001b[0m: 'next_token'"
     ]
    }
   ],
   "source": [
    "keyword = \"energi baru terbarukan -is:retweet\"\n",
    "search_df = pd.DataFrame()\n",
    "loop = 1\n",
    "loop_conditional = False\n",
    "token = None\n",
    "\n",
    "# initial search to get next_token or pagination\n",
    "search = client.search_recent_tweets(\n",
    "    query = keyword,\n",
    "    tweet_fields=['public_metrics', 'author_id', 'created_at', 'source', 'text'], \n",
    "    max_results=50, \n",
    "    # next_token=token,\n",
    ")\n",
    "# save result of search to dataframe\n",
    "for row in search.data:\n",
    "    temp_data = pd.json_normalize(row.data ,  sep = \"_\")\n",
    "    search_df = pd.concat([search_df, temp_data], ignore_index=True)  \n",
    "    loop+=1\n",
    "\n",
    "# check next_token exists\n",
    "if ('next_token' in search.meta):\n",
    "    token = search.meta['next_token']\n",
    "    # loop forever\n",
    "    while loop_conditional == False:\n",
    "        # always check next_token\n",
    "        if ('next_token' in search.meta):\n",
    "            # search recent tweet with token\n",
    "            search = None\n",
    "            search = client.search_recent_tweets(\n",
    "                query = keyword,\n",
    "                tweet_fields=['public_metrics', 'author_id', 'created_at', 'source', 'text'], \n",
    "                max_results=50, \n",
    "                next_token=token,\n",
    "            )\n",
    "\n",
    "            for row in search.data:\n",
    "                temp_data = pd.json_normalize(row.data ,  sep = \"_\")\n",
    "                search_df = pd.concat([search_df, temp_data], ignore_index=True)    \n",
    "                loop+=1\n",
    "\n",
    "            # insert\n",
    "            for index, row in search_df.iterrows():\n",
    "                # save data tweet to new object\n",
    "                new_array = {}\n",
    "                new_array[\"tweet_id\"] = row['id'] \n",
    "                new_array[\"author_id\"] = row['author_id'] \n",
    "                new_array[\"source\"] = row['source'] \n",
    "                new_array[\"content\"] = row['text'] \n",
    "                new_array[\"retweet_count\"] = row['public_metrics_retweet_count'] \n",
    "                new_array[\"reply_count\"] = row['public_metrics_reply_count'] \n",
    "                new_array[\"like_count\"] = row['public_metrics_like_count'] \n",
    "                new_array[\"next_pagination\"] = row['public_metrics_quote_count'] \n",
    "                new_array[\"next_pagination\"] = search.meta['next_token']\n",
    "                new_array[\"created_at\"] = row['created_at'] \n",
    "                insertTweet(db, str(new_array[\"tweet_id\"]), new_array)\n",
    "            \n",
    "            print(loop)\n",
    "\n",
    "            if loop > 250:\n",
    "                time.sleep(60*15)\n",
    "                loop = 1\n",
    "        "
   ]
  },
  {
   "cell_type": "code",
   "execution_count": 13,
   "metadata": {},
   "outputs": [
    {
     "data": {
      "text/plain": [
       "{'newest_id': '1541778995779231744',\n",
       " 'oldest_id': '1541681062061166592',\n",
       " 'result_count': 37}"
      ]
     },
     "execution_count": 13,
     "metadata": {},
     "output_type": "execute_result"
    }
   ],
   "source": [
    "search.meta"
   ]
  },
  {
   "cell_type": "code",
   "execution_count": null,
   "metadata": {},
   "outputs": [],
   "source": []
  }
 ],
 "metadata": {
  "kernelspec": {
   "display_name": "Python 3.9.7 ('venv': venv)",
   "language": "python",
   "name": "python3"
  },
  "language_info": {
   "codemirror_mode": {
    "name": "ipython",
    "version": 3
   },
   "file_extension": ".py",
   "mimetype": "text/x-python",
   "name": "python",
   "nbconvert_exporter": "python",
   "pygments_lexer": "ipython3",
   "version": "3.9.7"
  },
  "orig_nbformat": 4,
  "vscode": {
   "interpreter": {
    "hash": "919b1139dfd7527508329b9905f58bab14ff744a086506d6ebc2e53e0766bfa6"
   }
  }
 },
 "nbformat": 4,
 "nbformat_minor": 2
}
