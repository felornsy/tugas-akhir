{
  "cells": [
    {
      "cell_type": "code",
      "execution_count": 1,
      "metadata": {
        "id": "xLTR8avada_P"
      },
      "outputs": [],
      "source": [
        "import warnings\n",
        "warnings.filterwarnings('ignore')\n",
        "import pandas as pd #a library to make the data more structured55r56y6y"
      ]
    },
    {
      "cell_type": "code",
      "execution_count": 2,
      "metadata": {
        "colab": {
          "base_uri": "https://localhost:8080/",
          "height": 372
        },
        "id": "SqJ6bJwOdmxH",
        "outputId": "4c42ea1b-af2c-4219-d627-0e55f2195cc1"
      },
      "outputs": [],
      "source": [
        "df = pd.read_csv('data/text-preprocessing.csv')\n",
        "df = df.drop(columns=['Unnamed: 0'])"
      ]
    },
    {
      "cell_type": "code",
      "execution_count": 3,
      "metadata": {
        "colab": {
          "base_uri": "https://localhost:8080/"
        },
        "id": "MxWR5yAqMP_S",
        "outputId": "d9a66715-3b7c-449c-9244-5372b4ced4b5"
      },
      "outputs": [
        {
          "data": {
            "text/plain": [
              "(109705, 23)"
            ]
          },
          "execution_count": 3,
          "metadata": {},
          "output_type": "execute_result"
        }
      ],
      "source": [
        "df.shape"
      ]
    },
    {
      "cell_type": "code",
      "execution_count": 4,
      "metadata": {
        "colab": {
          "base_uri": "https://localhost:8080/"
        },
        "id": "Oy0uwRRPcksH",
        "outputId": "ba7c1c66-ad10-4e2d-cc0c-781bcecd9334"
      },
      "outputs": [
        {
          "name": "stdout",
          "output_type": "stream",
          "text": [
            "<class 'pandas.core.frame.DataFrame'>\n",
            "RangeIndex: 109705 entries, 0 to 109704\n",
            "Data columns (total 23 columns):\n",
            " #   Column                       Non-Null Count   Dtype  \n",
            "---  ------                       --------------   -----  \n",
            " 0   tweet_id                     109705 non-null  int64  \n",
            " 1   author_name                  109705 non-null  object \n",
            " 2   author_username              109705 non-null  object \n",
            " 3   author_location              78272 non-null   object \n",
            " 4   content                      109705 non-null  object \n",
            " 5   content_clean                109437 non-null  object \n",
            " 6   like_count                   109604 non-null  float64\n",
            " 7   retweet_count                17012 non-null   float64\n",
            " 8   reply_count                  16620 non-null   float64\n",
            " 9   source                       109705 non-null  object \n",
            " 10  keyword                      109705 non-null  object \n",
            " 11  address                      64928 non-null   object \n",
            " 12  longitude                    66438 non-null   float64\n",
            " 13  latitude                     66438 non-null   float64\n",
            " 14  province                     64297 non-null   object \n",
            " 15  city                         41183 non-null   object \n",
            " 16  country                      66419 non-null   object \n",
            " 17  created_at                   109705 non-null  object \n",
            " 18  content_token                109705 non-null  object \n",
            " 19  tweet_tokens_fdist           109705 non-null  object \n",
            " 20  tweet_tokens_WSW             109705 non-null  object \n",
            " 21  tweet_tokens_stemmed         109705 non-null  object \n",
            " 22  tweet_tokens_stemmed_string  109404 non-null  object \n",
            "dtypes: float64(5), int64(1), object(17)\n",
            "memory usage: 19.3+ MB\n"
          ]
        }
      ],
      "source": [
        "df.info()"
      ]
    },
    {
      "cell_type": "code",
      "execution_count": 5,
      "metadata": {
        "id": "3PYA4slIdNBD"
      },
      "outputs": [],
      "source": [
        "df_new = df[df['tweet_tokens_stemmed_string'].notnull()]"
      ]
    },
    {
      "cell_type": "code",
      "execution_count": 6,
      "metadata": {
        "colab": {
          "base_uri": "https://localhost:8080/"
        },
        "id": "uiih8RfJcG3C",
        "outputId": "cdec65c1-675f-4022-e661-e57038cd2a71"
      },
      "outputs": [
        {
          "data": {
            "text/plain": [
              "0    lomba poster ilmiah energi baru deadline janua...\n",
              "1                 elaahhh ngomong energi baru tv biruu\n",
              "2    daerah pencil membutuhkam listrik manfaat ener...\n",
              "3    tarik materi energi baru baek ganti nama propa...\n",
              "4    aneh inget jatropa alias minyak jarak bbrp jat...\n",
              "Name: tweet_tokens_stemmed_string, dtype: object"
            ]
          },
          "execution_count": 6,
          "metadata": {},
          "output_type": "execute_result"
        }
      ],
      "source": [
        "df_new['tweet_tokens_stemmed_string'].head()"
      ]
    },
    {
      "cell_type": "code",
      "execution_count": 7,
      "metadata": {
        "colab": {
          "base_uri": "https://localhost:8080/"
        },
        "id": "GGejGqbRh6W4",
        "outputId": "89c44e3a-3677-4a98-9a81-d3184e372c0d"
      },
      "outputs": [
        {
          "name": "stdout",
          "output_type": "stream",
          "text": [
            "Case Folding Result : \n",
            "\n",
            "0    lomba poster ilmiah energi baru deadline janua...\n",
            "1                 elaahhh ngomong energi baru tv biruu\n",
            "2    daerah pencil membutuhkam listrik manfaat ener...\n",
            "3    tarik materi energi baru baek ganti nama propa...\n",
            "4    aneh inget jatropa alias minyak jarak bbrp jat...\n",
            "Name: tweet_tokens_stemmed_string, dtype: object\n"
          ]
        }
      ],
      "source": [
        "#lower text\n",
        "# ------ Case Folding --------\n",
        "# gunakan fungsi Series.str.lower() pada Pandas\n",
        "df_new['tweet_tokens_stemmed_string'] = df_new['tweet_tokens_stemmed_string'].str.lower()\n",
        "\n",
        "\n",
        "print('Case Folding Result : \\n')\n",
        "print(df_new['tweet_tokens_stemmed_string'].head(5))\n"
      ]
    },
    {
      "cell_type": "code",
      "execution_count": 8,
      "metadata": {
        "colab": {
          "base_uri": "https://localhost:8080/"
        },
        "id": "Aox9mh-NFJaY",
        "outputId": "dc62a84f-cf29-41fc-a1b4-83dbeff37ddc"
      },
      "outputs": [
        {
          "name": "stdout",
          "output_type": "stream",
          "text": [
            "109404\n"
          ]
        }
      ],
      "source": [
        "text = df_new['tweet_tokens_stemmed_string']\n",
        "text_list =  [i.split() for i in text]\n",
        "#text_list =  [i for i in text]\n",
        "print(len(text_list))"
      ]
    },
    {
      "cell_type": "code",
      "execution_count": 9,
      "metadata": {
        "colab": {
          "base_uri": "https://localhost:8080/"
        },
        "id": "Z4Y-nzFZdmOz",
        "outputId": "a63b5e1c-301a-4d94-f1bb-9d06647e3422"
      },
      "outputs": [
        {
          "name": "stdout",
          "output_type": "stream",
          "text": [
            "Frequency Tokens : \n",
            "\n"
          ]
        },
        {
          "data": {
            "text/plain": [
              "0    [( , 11), (a, 10), (e, 6), (i, 6), (s, 5), (r,...\n",
              "1    [( , 5), (e, 3), (a, 3), (h, 3), (n, 3), (g, 3...\n",
              "2    [(a, 7), ( , 6), (e, 5), (r, 4), (i, 4), (m, 4...\n",
              "3    [(a, 10), ( , 8), (r, 5), (i, 5), (e, 4), (t, ...\n",
              "4    [(a, 12), ( , 12), (r, 8), (e, 7), (b, 6), (i,...\n",
              "Name: tweet_tokens_stemmed_string, dtype: object"
            ]
          },
          "execution_count": 9,
          "metadata": {},
          "output_type": "execute_result"
        }
      ],
      "source": [
        "#masi salah hasil frekuensi nya\n",
        "# NLTK calc frequency distribution\n",
        "from nltk.probability import FreqDist\n",
        "def freqDist_wrapper(text):\n",
        "    return FreqDist(text)\n",
        "\n",
        "df_new['tweet_tokens_stemmed_string'] = df_new['tweet_tokens_stemmed_string'].apply(freqDist_wrapper)\n",
        "\n",
        "print('Frequency Tokens : \\n') \n",
        "df_new['tweet_tokens_stemmed_string'].head().apply(lambda x : x.most_common())"
      ]
    },
    {
      "cell_type": "code",
      "execution_count": 10,
      "metadata": {
        "id": "fHH5EmZWfh7Q"
      },
      "outputs": [],
      "source": [
        "#https://sites.unpad.ac.id/widodo/2021/03/09/nlp-dengan-python/"
      ]
    },
    {
      "cell_type": "code",
      "execution_count": 11,
      "metadata": {
        "id": "qnLvYqUHc5Jj"
      },
      "outputs": [],
      "source": [
        "import gensim\n",
        "#Create Bigram & Trigram Models \n",
        "from gensim.models import Phrases\n",
        "# Add bigrams and trigrams to docs,minimum count 10 means only that appear 10 times or more.\n",
        "bigram = Phrases(text_list, min_count=10)\n",
        "trigram = Phrases(bigram[text_list])\n",
        "for idx in range(len(text_list)):\n",
        "    for token in bigram[text_list[idx]]:\n",
        "        if '_' in token:\n",
        "            # Token is a bigram, add to document.\n",
        "            text_list[idx].append(token)\n",
        "    for token in trigram[text_list[idx]]:\n",
        "        if '_' in token:\n",
        "            # Token is a bigram, add to document.\n",
        "            text_list[idx].append(token)"
      ]
    },
    {
      "cell_type": "code",
      "execution_count": 12,
      "metadata": {
        "colab": {
          "base_uri": "https://localhost:8080/"
        },
        "id": "EO5hqr3Ufk0S",
        "outputId": "0ff90687-35bf-4851-e1fd-5e3d61b8f9dd"
      },
      "outputs": [
        {
          "name": "stdout",
          "output_type": "stream",
          "text": [
            "Dictionary<16354 unique tokens: ['deadline', 'derajat', 'ilmiah', 'januari', 'lomba']...>\n"
          ]
        }
      ],
      "source": [
        "from gensim import corpora, models\n",
        "# Create a dictionary representation of the documents.\n",
        "dictionary = corpora.Dictionary(text_list)\n",
        "dictionary.filter_extremes(no_below=5, no_above=0.2) \n",
        "#no_below (int, optional) – Keep tokens which are contained in at least no_below documents.\n",
        "#no_above (float, optional) – Keep tokens which are contained in no more than no_above documents (fraction of total corpus size, not an absolute number).\n",
        "print(dictionary)"
      ]
    },
    {
      "cell_type": "code",
      "execution_count": 13,
      "metadata": {
        "colab": {
          "base_uri": "https://localhost:8080/"
        },
        "id": "oF92M3p_fqlQ",
        "outputId": "3b77b4e1-2901-4b52-9698-4ea50bb0fa14"
      },
      "outputs": [
        {
          "name": "stdout",
          "output_type": "stream",
          "text": [
            "109404\n",
            "[(35, 1), (188, 1)]\n"
          ]
        }
      ],
      "source": [
        "#https://radimrehurek.com/gensim/tut1.html \n",
        "#build corpus\n",
        "# Converting list of documents (corpus) into Document Term Matrix using dictionary prepared above.\n",
        "doc_term_matrix = [dictionary.doc2bow(doc) for doc in text_list]\n",
        "#The function doc2bow converts document (a list of words) into the bag-of-words format\n",
        "'''The function doc2bow() simply counts the number of occurrences of each distinct word, \n",
        "converts the word to its integer word id and returns the result as a sparse vector. \n",
        "The sparse vector [(0, 1), (1, 1)] therefore reads: in the document “Human computer interaction”, \n",
        "the words computer (id 0) and human (id 1) appear once; \n",
        "the other ten dictionary words appear (implicitly) zero times.'''\n",
        "print(len(doc_term_matrix))\n",
        "print(doc_term_matrix[100])\n",
        "tfidf = models.TfidfModel(doc_term_matrix) #build TF-IDF model\n",
        "corpus_tfidf = tfidf[doc_term_matrix]"
      ]
    },
    {
      "cell_type": "code",
      "execution_count": 14,
      "metadata": {
        "id": "m5ZUrlyFfx85"
      },
      "outputs": [],
      "source": [
        "from gensim.models.coherencemodel import CoherenceModel\n",
        "from gensim.models.ldamodel import LdaModel\n",
        "from gensim.corpora.dictionary import Dictionary\n",
        "from numpy import array\n",
        "#function to compute coherence values\n",
        "def compute_coherence_values(dictionary, corpus, texts, limit, start, step):\n",
        "    coherence_values = []\n",
        "    model_list = []\n",
        "    for num_topics in range(start, limit, step):\n",
        "        model = LdaModel(corpus=corpus, id2word=dictionary, num_topics=num_topics, iterations=100, random_state=1)\n",
        "        model_list.append(model)\n",
        "        coherencemodel = CoherenceModel(model=model, texts=texts, dictionary=dictionary, coherence='c_v')\n",
        "        coherence_values.append(coherencemodel.get_coherence())\n",
        "        \n",
        "    return model_list, coherence_values"
      ]
    },
    {
      "cell_type": "code",
      "execution_count": 15,
      "metadata": {
        "colab": {
          "base_uri": "https://localhost:8080/",
          "height": 279
        },
        "id": "IBkB1bzOf3AP",
        "outputId": "73fe3950-434a-4fa4-8f87-77a708f4fe7c"
      },
      "outputs": [
        {
          "data": {
            "image/png": "[encoded data removed]",
            "text/plain": [
              "<Figure size 432x288 with 1 Axes>"
            ]
          },
          "metadata": {
            "needs_background": "light"
          },
          "output_type": "display_data"
        }
      ],
      "source": [
        "start=1\n",
        "limit=21\n",
        "step=1\n",
        "model_list, coherence_values = compute_coherence_values(dictionary, corpus=corpus_tfidf, \n",
        "                                                        texts=text_list, start=start, limit=limit, step=step)\n",
        "#show graphs\n",
        "import matplotlib.pyplot as plt\n",
        "x = range(start, limit, step)\n",
        "plt.plot(x, coherence_values)\n",
        "plt.xlabel(\"Num Topics\")\n",
        "plt.ylabel(\"Coherence score\")\n",
        "plt.legend((\"coherence_values\"), loc='best')\n",
        "plt.show()"
      ]
    },
    {
      "cell_type": "code",
      "execution_count": 16,
      "metadata": {
        "colab": {
          "base_uri": "https://localhost:8080/"
        },
        "id": "qaNFv0PIgDYh",
        "outputId": "af7077fa-f1e8-4fb7-e0d6-d84eb319f207"
      },
      "outputs": [
        {
          "name": "stdout",
          "output_type": "stream",
          "text": [
            "Num Topics = 1  has Coherence Value of 0.517\n",
            "Num Topics = 2  has Coherence Value of 0.539\n",
            "Num Topics = 3  has Coherence Value of 0.436\n",
            "Num Topics = 4  has Coherence Value of 0.435\n",
            "Num Topics = 5  has Coherence Value of 0.423\n",
            "Num Topics = 6  has Coherence Value of 0.402\n",
            "Num Topics = 7  has Coherence Value of 0.424\n",
            "Num Topics = 8  has Coherence Value of 0.386\n",
            "Num Topics = 9  has Coherence Value of 0.41\n",
            "Num Topics = 10  has Coherence Value of 0.369\n",
            "Num Topics = 11  has Coherence Value of 0.332\n",
            "Num Topics = 12  has Coherence Value of 0.363\n",
            "Num Topics = 13  has Coherence Value of 0.346\n",
            "Num Topics = 14  has Coherence Value of 0.352\n",
            "Num Topics = 15  has Coherence Value of 0.321\n",
            "Num Topics = 16  has Coherence Value of 0.322\n",
            "Num Topics = 17  has Coherence Value of 0.321\n",
            "Num Topics = 18  has Coherence Value of 0.327\n",
            "Num Topics = 19  has Coherence Value of 0.328\n",
            "Num Topics = 20  has Coherence Value of 0.313\n"
          ]
        }
      ],
      "source": [
        "# Print the coherence scores\n",
        "for m, cv in zip(x, coherence_values):\n",
        "    print(\"Num Topics =\", m, \" has Coherence Value of\", round(cv, 3))"
      ]
    },
    {
      "cell_type": "code",
      "execution_count": 17,
      "metadata": {
        "colab": {
          "base_uri": "https://localhost:8080/"
        },
        "id": "SWVlH8xAgPCu",
        "outputId": "7cc1b7d8-54f0-441e-cb60-e3aa1e8684fa"
      },
      "outputs": [],
      "source": [
        "model = LdaModel(corpus=corpus_tfidf, id2word=dictionary, num_topics=9, random_state=1) #num topic menyesuaikan hasil dari coherence value paling tinggi"
      ]
    },
    {
      "cell_type": "code",
      "execution_count": 18,
      "metadata": {},
      "outputs": [
        {
          "name": "stdout",
          "output_type": "stream",
          "text": [
            "Topic: 1 Word: 0.067*\"pln_id\" + 0.039*\"bangkit_listrik\" + 0.035*\"pln\" + 0.030*\"capai_target\" + 0.023*\"panas_bumi\" + 0.022*\"bangkit\" + 0.014*\"sobat\" + 0.014*\"listrik\" + 0.012*\"target\" + 0.011*\"capai\"\n",
            "Topic: 2 Word: 0.033*\"ekspor\" + 0.030*\"larang_ekspor\" + 0.030*\"pasok_listrik\" + 0.027*\"simak_bawah\" + 0.023*\"simak\" + 0.022*\"mantap\" + 0.020*\"depan\" + 0.018*\"inggris\" + 0.018*\"pasok\" + 0.015*\"hambat\"\n",
            "Topic: 3 Word: 0.017*\"target_baur\" + 0.015*\"kapasitas\" + 0.011*\"rencana\" + 0.011*\"renewable_energy\" + 0.010*\"sumber_daya\" + 0.010*\"milik_potensi\" + 0.010*\"beli_listrik\" + 0.010*\"tambah_kapasitas\" + 0.009*\"indonesia_timur\" + 0.009*\"keren\"\n",
            "Topic: 4 Word: 0.024*\"bumn\" + 0.023*\"erick_thohir\" + 0.020*\"ruu\" + 0.017*\"komitmen\" + 0.015*\"kurang_emisi\" + 0.015*\"menteri_bumn\" + 0.012*\"emisi\" + 0.012*\"erick\" + 0.011*\"cepat_transisi\" + 0.010*\"thohir\"\n",
            "Topic: 5 Word: 0.044*\"menteri_esdm\" + 0.015*\"esdm\" + 0.015*\"menteri\" + 0.014*\"pltu\" + 0.013*\"tenaga_surya\" + 0.012*\"bahan_bakar\" + 0.010*\"buka_peluang\" + 0.010*\"tanah_air\" + 0.009*\"kembang\" + 0.009*\"dampak_positif\"\n",
            "Topic: 6 Word: 0.025*\"ramah_lingkung\" + 0.017*\"baur\" + 0.017*\"kejar_target\" + 0.015*\"plta_poso\" + 0.013*\"plta\" + 0.012*\"target\" + 0.011*\"plts_atap\" + 0.011*\"pln\" + 0.011*\"guna\" + 0.011*\"persen\"\n",
            "Topic: 7 Word: 0.047*\"tinggi_indonesia\" + 0.035*\"mobil_listrik\" + 0.031*\"panel_surya\" + 0.025*\"sistem\" + 0.020*\"tinggi\" + 0.017*\"selesai\" + 0.017*\"mobil\" + 0.016*\"anggar\" + 0.014*\"den\" + 0.014*\"surya\"\n",
            "Topic: 8 Word: 0.025*\"pertamina\" + 0.019*\"operasi\" + 0.013*\"rp_triliun\" + 0.013*\"rp\" + 0.012*\"bangun_infrastruktur\" + 0.012*\"tinggal\" + 0.012*\"kembang\" + 0.011*\"uu\" + 0.011*\"usaha\" + 0.011*\"nuklir\"\n",
            "Topic: 9 Word: 0.034*\"transisi\" + 0.029*\"id\" + 0.015*\"net_zero\" + 0.012*\"indonesia\" + 0.010*\"tambah\" + 0.010*\"hijau\" + 0.009*\"proyek\" + 0.009*\"biaya\" + 0.008*\"butuh\" + 0.008*\"kuat\"\n"
          ]
        }
      ],
      "source": [
        "for idx, topic in model.print_topics():\n",
        "    print('Topic: {} Word: {}'.format(idx+1, topic))\n",
        "    # yg belum remove Yang, yg,trus lower text"
      ]
    },
    {
      "cell_type": "code",
      "execution_count": 19,
      "metadata": {},
      "outputs": [
        {
          "name": "stdout",
          "output_type": "stream",
          "text": [
            "1 0.067*\"pln_id\" + 0.039*\"bangkit_listrik\" + 0.035*\"pln\" + 0.030*\"capai_target\" + 0.023*\"panas_bumi\" + 0.022*\"bangkit\" + 0.014*\"sobat\" + 0.014*\"listrik\" + 0.012*\"target\" + 0.011*\"capai\" \n",
            "\n",
            "2 0.033*\"ekspor\" + 0.030*\"larang_ekspor\" + 0.030*\"pasok_listrik\" + 0.027*\"simak_bawah\" + 0.023*\"simak\" + 0.022*\"mantap\" + 0.020*\"depan\" + 0.018*\"inggris\" + 0.018*\"pasok\" + 0.015*\"hambat\" \n",
            "\n",
            "3 0.017*\"target_baur\" + 0.015*\"kapasitas\" + 0.011*\"rencana\" + 0.011*\"renewable_energy\" + 0.010*\"sumber_daya\" + 0.010*\"milik_potensi\" + 0.010*\"beli_listrik\" + 0.010*\"tambah_kapasitas\" + 0.009*\"indonesia_timur\" + 0.009*\"keren\" \n",
            "\n",
            "4 0.024*\"bumn\" + 0.023*\"erick_thohir\" + 0.020*\"ruu\" + 0.017*\"komitmen\" + 0.015*\"kurang_emisi\" + 0.015*\"menteri_bumn\" + 0.012*\"emisi\" + 0.012*\"erick\" + 0.011*\"cepat_transisi\" + 0.010*\"thohir\" \n",
            "\n",
            "5 0.044*\"menteri_esdm\" + 0.015*\"esdm\" + 0.015*\"menteri\" + 0.014*\"pltu\" + 0.013*\"tenaga_surya\" + 0.012*\"bahan_bakar\" + 0.010*\"buka_peluang\" + 0.010*\"tanah_air\" + 0.009*\"kembang\" + 0.009*\"dampak_positif\" \n",
            "\n",
            "6 0.025*\"ramah_lingkung\" + 0.017*\"baur\" + 0.017*\"kejar_target\" + 0.015*\"plta_poso\" + 0.013*\"plta\" + 0.012*\"target\" + 0.011*\"plts_atap\" + 0.011*\"pln\" + 0.011*\"guna\" + 0.011*\"persen\" \n",
            "\n",
            "7 0.047*\"tinggi_indonesia\" + 0.035*\"mobil_listrik\" + 0.031*\"panel_surya\" + 0.025*\"sistem\" + 0.020*\"tinggi\" + 0.017*\"selesai\" + 0.017*\"mobil\" + 0.016*\"anggar\" + 0.014*\"den\" + 0.014*\"surya\" \n",
            "\n",
            "8 0.025*\"pertamina\" + 0.019*\"operasi\" + 0.013*\"rp_triliun\" + 0.013*\"rp\" + 0.012*\"bangun_infrastruktur\" + 0.012*\"tinggal\" + 0.012*\"kembang\" + 0.011*\"uu\" + 0.011*\"usaha\" + 0.011*\"nuklir\" \n",
            "\n",
            "9 0.034*\"transisi\" + 0.029*\"id\" + 0.015*\"net_zero\" + 0.012*\"indonesia\" + 0.010*\"tambah\" + 0.010*\"hijau\" + 0.009*\"proyek\" + 0.009*\"biaya\" + 0.008*\"butuh\" + 0.008*\"kuat\" \n",
            "\n"
          ]
        }
      ],
      "source": [
        "for i in range(0, model.num_topics):\n",
        "    print(i+1,model.print_topic(i), \"\\n\")"
      ]
    },
    {
      "cell_type": "code",
      "execution_count": 20,
      "metadata": {
        "colab": {
          "base_uri": "https://localhost:8080/"
        },
        "id": "t5CsIHbigduf",
        "outputId": "ad397ac7-6944-411e-f515-2a9344191f97"
      },
      "outputs": [
        {
          "name": "stdout",
          "output_type": "stream",
          "text": [
            "None\n"
          ]
        }
      ],
      "source": [
        "import pandas as pd\n",
        "top_words_per_topic = []\n",
        "for t in range(model.num_topics):\n",
        "    top_words_per_topic.extend([(t, ) + x for x in model.show_topic(t, topn = 5)]) #ubah2 yg ini\n",
        "# df=pd.DataFrame(top_words_per_topic, columns=['Topic', 'Word', 'P']).to_csv(\"top_words_topic_20.csv\")\n",
        "df = pd.DataFrame(top_words_per_topic, columns=['Topic', 'Word','P']).to_excel(\"data/lda_model.xlsx\")\n",
        "print(df)\n"
      ]
    },
    {
      "cell_type": "code",
      "execution_count": 21,
      "metadata": {
        "colab": {
          "base_uri": "https://localhost:8080/"
        },
        "id": "QSxbGusaEOl8",
        "outputId": "8776726e-83fd-480b-c4cb-9b3cdd8883a3"
      },
      "outputs": [
        {
          "name": "stdout",
          "output_type": "stream",
          "text": [
            "Requirement already satisfied: pyLDAvis in c:\\users\\asus\\onedrive - universitas pertamina\\ta\\tugas-akhir\\venv\\lib\\site-packages (3.3.1)"
          ]
        },
        {
          "name": "stderr",
          "output_type": "stream",
          "text": [
            "\n",
            "[notice] A new release of pip available: 22.2.1 -> 22.2.2\n",
            "[notice] To update, run: python.exe -m pip install --upgrade pip\n"
          ]
        },
        {
          "name": "stdout",
          "output_type": "stream",
          "text": [
            "\n",
            "Requirement already satisfied: gensim in c:\\users\\asus\\onedrive - universitas pertamina\\ta\\tugas-akhir\\venv\\lib\\site-packages (from pyLDAvis) (4.2.0)\n",
            "Requirement already satisfied: joblib in c:\\users\\asus\\onedrive - universitas pertamina\\ta\\tugas-akhir\\venv\\lib\\site-packages (from pyLDAvis) (1.1.0)\n",
            "Requirement already satisfied: sklearn in c:\\users\\asus\\onedrive - universitas pertamina\\ta\\tugas-akhir\\venv\\lib\\site-packages (from pyLDAvis) (0.0)\n",
            "Requirement already satisfied: scikit-learn in c:\\users\\asus\\onedrive - universitas pertamina\\ta\\tugas-akhir\\venv\\lib\\site-packages (from pyLDAvis) (1.1.1)\n",
            "Requirement already satisfied: numexpr in c:\\users\\asus\\onedrive - universitas pertamina\\ta\\tugas-akhir\\venv\\lib\\site-packages (from pyLDAvis) (2.8.3)\n",
            "Requirement already satisfied: setuptools in c:\\users\\asus\\onedrive - universitas pertamina\\ta\\tugas-akhir\\venv\\lib\\site-packages (from pyLDAvis) (49.2.1)\n",
            "Requirement already satisfied: future in c:\\users\\asus\\onedrive - universitas pertamina\\ta\\tugas-akhir\\venv\\lib\\site-packages (from pyLDAvis) (0.18.2)\n",
            "Requirement already satisfied: jinja2 in c:\\users\\asus\\onedrive - universitas pertamina\\ta\\tugas-akhir\\venv\\lib\\site-packages (from pyLDAvis) (3.1.2)\n",
            "Requirement already satisfied: funcy in c:\\users\\asus\\onedrive - universitas pertamina\\ta\\tugas-akhir\\venv\\lib\\site-packages (from pyLDAvis) (1.17)\n",
            "Requirement already satisfied: numpy>=1.20.0 in c:\\users\\asus\\onedrive - universitas pertamina\\ta\\tugas-akhir\\venv\\lib\\site-packages (from pyLDAvis) (1.23.1)\n",
            "Requirement already satisfied: pandas>=1.2.0 in c:\\users\\asus\\onedrive - universitas pertamina\\ta\\tugas-akhir\\venv\\lib\\site-packages (from pyLDAvis) (1.4.3)\n",
            "Requirement already satisfied: scipy in c:\\users\\asus\\onedrive - universitas pertamina\\ta\\tugas-akhir\\venv\\lib\\site-packages (from pyLDAvis) (1.9.0)\n",
            "Requirement already satisfied: pytz>=2020.1 in c:\\users\\asus\\onedrive - universitas pertamina\\ta\\tugas-akhir\\venv\\lib\\site-packages (from pandas>=1.2.0->pyLDAvis) (2022.1)\n",
            "Requirement already satisfied: python-dateutil>=2.8.1 in c:\\users\\asus\\onedrive - universitas pertamina\\ta\\tugas-akhir\\venv\\lib\\site-packages (from pandas>=1.2.0->pyLDAvis) (2.8.2)\n",
            "Requirement already satisfied: smart-open>=1.8.1 in c:\\users\\asus\\onedrive - universitas pertamina\\ta\\tugas-akhir\\venv\\lib\\site-packages (from gensim->pyLDAvis) (6.0.0)\n",
            "Requirement already satisfied: Cython==0.29.28 in c:\\users\\asus\\onedrive - universitas pertamina\\ta\\tugas-akhir\\venv\\lib\\site-packages (from gensim->pyLDAvis) (0.29.28)\n",
            "Requirement already satisfied: MarkupSafe>=2.0 in c:\\users\\asus\\onedrive - universitas pertamina\\ta\\tugas-akhir\\venv\\lib\\site-packages (from jinja2->pyLDAvis) (2.1.1)\n",
            "Requirement already satisfied: packaging in c:\\users\\asus\\onedrive - universitas pertamina\\ta\\tugas-akhir\\venv\\lib\\site-packages (from numexpr->pyLDAvis) (21.3)\n",
            "Requirement already satisfied: threadpoolctl>=2.0.0 in c:\\users\\asus\\onedrive - universitas pertamina\\ta\\tugas-akhir\\venv\\lib\\site-packages (from scikit-learn->pyLDAvis) (3.1.0)\n",
            "Requirement already satisfied: six>=1.5 in c:\\users\\asus\\onedrive - universitas pertamina\\ta\\tugas-akhir\\venv\\lib\\site-packages (from python-dateutil>=2.8.1->pandas>=1.2.0->pyLDAvis) (1.16.0)\n",
            "Requirement already satisfied: pyparsing!=3.0.5,>=2.0.2 in c:\\users\\asus\\onedrive - universitas pertamina\\ta\\tugas-akhir\\venv\\lib\\site-packages (from packaging->numexpr->pyLDAvis) (3.0.9)\n"
          ]
        }
      ],
      "source": [
        "#ini dilakukan jika module belum tersedia\n",
        "!pip install pyLDAvis\n",
        "#!apt-get -qq install -y pyLDAvis"
      ]
    },
    {
      "cell_type": "code",
      "execution_count": 22,
      "metadata": {
        "colab": {
          "base_uri": "https://localhost:8080/"
        },
        "id": "5BGTseD4gFRQ",
        "outputId": "39e9537e-6629-43ea-bfa0-e077c4ac7f89"
      },
      "outputs": [
        {
          "name": "stderr",
          "output_type": "stream",
          "text": [
            "c:\\Users\\asus\\OneDrive - Universitas Pertamina\\TA\\tugas-akhir\\venv\\lib\\site-packages\\past\\builtins\\misc.py:45: DeprecationWarning: the imp module is deprecated in favour of importlib; see the module's documentation for alternative uses\n",
            "  from imp import reload\n"
          ]
        },
        {
          "name": "stdout",
          "output_type": "stream",
          "text": [
            "PreparedData(topic_coordinates=              x         y  topics  cluster       Freq\n",
            "topic                                                \n",
            "2      0.098420 -0.260032       1        1  17.218897\n",
            "5     -0.181101 -0.054815       2        1  13.099111\n",
            "0     -0.164824 -0.087987       3        1  12.239385\n",
            "8     -0.116885  0.055926       4        1  11.956173\n",
            "4     -0.092956  0.020339       5        1  11.551151\n",
            "3     -0.053884  0.239287       6        1  10.290377\n",
            "7     -0.011135 -0.015975       7        1   9.009042\n",
            "6      0.286286 -0.041247       8        1   7.853626\n",
            "1      0.236079  0.144504       9        1   6.782238, topic_info=                   Term         Freq        Total Category  logprob  loglift\n",
            "7140             pln_id  2236.000000  2236.000000  Default  30.0000  30.0000\n",
            "357        menteri_esdm  1370.000000  1370.000000  Default  29.0000  29.0000\n",
            "10440  tinggi_indonesia  1000.000000  1000.000000  Default  28.0000  28.0000\n",
            "783     bangkit_listrik  1445.000000  1445.000000  Default  27.0000  27.0000\n",
            "3661           transisi  1105.000000  1105.000000  Default  26.0000  26.0000\n",
            "...                 ...          ...          ...      ...      ...      ...\n",
            "1104               dana   213.559935   261.348593   Topic9  -4.4577   2.4889\n",
            "303                baca   132.374970   155.339589   Topic9  -4.9360   2.5309\n",
            "762              serius   180.836234   253.238043   Topic9  -4.6240   2.3541\n",
            "320               tekan   179.361155   277.470686   Topic9  -4.6322   2.2545\n",
            "5272             heroes   120.112927   169.225561   Topic9  -5.0332   2.3481\n",
            "\n",
            "[435 rows x 6 columns], token_table=       Topic      Freq            Term\n",
            "term                                  \n",
            "1323       2  0.992622       airlangga\n",
            "678        2  0.989173             akn\n",
            "3655       3  0.992711      akselerasi\n",
            "2836       9  0.988229    alir_listrik\n",
            "3574       1  0.992124            amat\n",
            "...      ...       ...             ...\n",
            "2013       6  0.560444           wujud\n",
            "6645       6  0.991376  wujud_komitmen\n",
            "10521      3  0.990009      yantie_pln\n",
            "10521      7  0.006149      yantie_pln\n",
            "2571       4  0.995181            zero\n",
            "\n",
            "[631 rows x 3 columns], R=30, lambda_step=0.01, plot_opts={'xlab': 'PC1', 'ylab': 'PC2'}, topic_order=[3, 6, 1, 9, 5, 4, 8, 7, 2])\n"
          ]
        }
      ],
      "source": [
        "#import gensim\n",
        "import pyLDAvis\n",
        "import pyLDAvis.gensim_models;pyLDAvis.enable_notebook()\n",
        "data = pyLDAvis.gensim_models.prepare(model, corpus_tfidf, dictionary)\n",
        "print(data)\n",
        "pyLDAvis.save_html(data, 'data/lda-gensim_clean_kualitatif9.html')"
      ]
    },
    {
      "cell_type": "code",
      "execution_count": 23,
      "metadata": {},
      "outputs": [
        {
          "data": {
            "text/html": [
              "\n",
              "<link rel=\"stylesheet\" type=\"text/css\" href=\"https://cdn.jsdelivr.net/gh/bmabey/pyLDAvis@3.3.1/pyLDAvis/js/ldavis.v1.0.0.css\">\n",
              "\n",
              "\n",
              "<div id=\"ldavis_el1200824137838600486009811837\"></div>\n",
              "<script type=\"text/javascript\">\n",
              "\n",
              "var ldavis_el1200824137838600486009811837_data = {\"mdsDat\": {\"x\": [111.0925064086914, 34.94661331176758, -28.088212966918945, 147.6980743408203, -97.50118255615234, 30.312095642089844, -155.44366455078125, -204.24810791015625, -79.40467834472656], \"y\": [-133.7229461669922, 107.06459045410156, -159.94903564453125, 21.369604110717773, 126.98138427734375, -32.794944763183594, -118.49468994140625, 22.59613037109375, -6.864717483520508], \"topics\": [1, 2, 3, 4, 5, 6, 7, 8, 9], \"cluster\": [1, 1, 1, 1, 1, 1, 1, 1, 1], \"Freq\": [17.21891667502859, 13.093612963609983, 12.24749057772272, 11.950501994966627, 11.551351093520472, 10.291714432973857, 9.01070654269645, 7.8529999664209535, 6.78270575306033]}, \"tinfo\": {\"Term\": [\"pln_id\", \"menteri_esdm\", \"tinggi_indonesia\", \"bangkit_listrik\", \"transisi\", \"capai_target\", \"mobil_listrik\", \"id\", \"ramah_lingkung\", \"panel_surya\", \"ekspor\", \"panas_bumi\", \"bumn\", \"larang_ekspor\", \"pasok_listrik\", \"erick_thohir\", \"pertamina\", \"target_baur\", \"sistem\", \"simak_bawah\", \"ruu\", \"pln\", \"baur\", \"kapasitas\", \"kejar_target\", \"simak\", \"tinggi\", \"operasi\", \"mantap\", \"plta_poso\", \"target_baur\", \"kapasitas\", \"rencana\", \"renewable_energy\", \"sumber_daya\", \"milik_potensi\", \"beli_listrik\", \"tambah_kapasitas\", \"indonesia_timur\", \"keren\", \"mahal\", \"baik\", \"micho\", \"keren_banget\", \"total\", \"pasang_plts\", \"tuju\", \"gencar\", \"timur\", \"nila_rp\", \"optimis\", \"sulit_capai\", \"trending\", \"gin\", \"amat\", \"tumbuh_ekonomi\", \"ribu\", \"total_daya\", \"kunjung\", \"presiden_joko\", \"e_hal\", \"banget\", \"beli\", \"sulit\", \"renewable\", \"tumbuh\", \"pasang\", \"energy\", \"pake\", \"milik\", \"indonesia\", \"ramah_lingkung\", \"kejar_target\", \"plta_poso\", \"plta\", \"plts_atap\", \"kendara_listrik\", \"kejar\", \"laku\", \"capai_persen\", \"gas_bumi\", \"poso\", \"tantang\", \"bal\", \"tarif_listrik\", \"menko_airlangga\", \"ruptl\", \"airlangga\", \"tahap\", \"tingkat_baur\", \"tingkat_porsi\", \"sob\", \"global\", \"terbit\", \"cak\", \"program_firing\", \"plts_apung\", \"pltb\", \"akn\", \"dpr_ri\", \"langkah_strategis\", \"ramah\", \"persen\", \"lingkung\", \"baur\", \"fokus\", \"tarif\", \"batu\", \"porsi\", \"plts\", \"bas\", \"guna\", \"tingkat\", \"target\", \"manfaat\", \"besar\", \"capai\", \"indonesia\", \"dukung\", \"pln\", \"kembang\", \"listrik\", \"perintah\", \"bangkit\", \"potensi\", \"pln_id\", \"capai_target\", \"panas_bumi\", \"sobat\", \"kapasitas_bangkit\", \"pres\", \"konversi_pltd\", \"siap\", \"langkah\", \"sepakat\", \"kerja\", \"firing_pltu\", \"akselerasi\", \"darmawan_prasodjo\", \"libat\", \"dasamuka_pln\", \"tenaga_biogas\", \"perintah_siap\", \"hadir\", \"resmi_operasi\", \"pltd\", \"bahas_ruu\", \"total_kapasitas\", \"yantie_pln\", \"baterai\", \"jangka\", \"program_konversi\", \"plt\", \"wajib\", \"isi\", \"panas\", \"bangkit_listrik\", \"genjot\", \"bumi\", \"pln\", \"bangkit\", \"atur\", \"target\", \"capai\", \"listrik\", \"green\", \"dukung\", \"bangun\", \"kembang\", \"program\", \"cepat\", \"baur\", \"indonesia\", \"ruu\", \"perintah\", \"transisi\", \"net_zero\", \"tambah\", \"biaya\", \"sulawesi_selatan\", \"menteri_jonan\", \"realisasi\", \"net\", \"zero\", \"penuh_butuh\", \"kendara\", \"andal\", \"bawah\", \"sesuai\", \"kawasan_industri\", \"pltn\", \"mudah\", \"gandeng\", \"resmi\", \"us_miliar\", \"emang\", \"negara_maju\", \"jual\", \"arah\", \"power\", \"miliar\", \"rendah\", \"daerah_pencil\", \"kabar\", \"via_id\", \"emission\", \"id\", \"maju\", \"kuat\", \"hijau\", \"penuh\", \"proyek\", \"sulawesi\", \"butuh\", \"indonesia\", \"cepat\", \"wujud\", \"daerah\", \"moga\", \"kembang\", \"negara\", \"investasi\", \"pln\", \"listrik\", \"menteri_esdm\", \"pltu\", \"tenaga_surya\", \"bahan_bakar\", \"buka_peluang\", \"tanah_air\", \"dampak_positif\", \"wilayah\", \"udien_pln\", \"investasi_sektor\", \"desa\", \"udien\", \"beban\", \"turun_emisi\", \"indo\", \"banding\", \"luas\", \"bukti\", \"jalan_lancar\", \"bakar\", \"positif\", \"lancar\", \"percaya\", \"harga_listrik\", \"terobos\", \"kompetitif\", \"jadi\", \"lirik\", \"moga_lancar\", \"habis\", \"generasi_muda\", \"tanah\", \"strategi\", \"esdm\", \"turun\", \"menteri\", \"murah\", \"prioritas\", \"kembang\", \"harga\", \"listrik\", \"surya\", \"id\", \"investasi\", \"proyek\", \"indonesia\", \"pln\", \"erick_thohir\", \"kurang_emisi\", \"menteri_bumn\", \"emisi\", \"erick\", \"thohir\", \"komisi_vii\", \"investor\", \"cepat_transisi\", \"ubah\", \"salah_satu\", \"presiden_jokowi\", \"tekan_emisi\", \"penuh_target\", \"tahan_pangan\", \"pln_persero\", \"iklim\", \"komisi\", \"jerman\", \"dirjen_ebtke\", \"ubah_iklim\", \"satu\", \"wujud_komitmen\", \"pangan\", \"vii\", \"jangka_pendek\", \"menteri_bumn_erick_thohir\", \"pasar\", \"emisi_karbon\", \"proyeksi\", \"bumn\", \"komitmen\", \"ruu\", \"karbon\", \"wujud\", \"dampak\", \"bidang\", \"usul\", \"kurang\", \"kembang\", \"pln\", \"indonesia\", \"perintah\", \"operasi\", \"rp_triliun\", \"rp\", \"bangun_infrastruktur\", \"tinggal\", \"anak_usaha\", \"sinergi_bumn\", \"singapura\", \"swasta\", \"solar_panel\", \"triliun\", \"pertamina_alokasi\", \"laksana\", \"sinergi\", \"proses\", \"bagus\", \"garap\", \"apbn\", \"laku_usaha\", \"sehat\", \"hilir\", \"dirut\", \"badan_usaha\", \"pimpin\", \"kunci\", \"badan\", \"rancang\", \"jenis\", \"arsjad_rasjid\", \"banyak\", \"pertamina\", \"uu\", \"subholding_power\", \"nuklir\", \"infrastruktur\", \"pltp\", \"usaha\", \"sukses\", \"riset\", \"apresiasi\", \"kembang\", \"sektor\", \"bangun\", \"pln\", \"investasi\", \"bangkit\", \"dukung\", \"migas\", \"tinggi_indonesia\", \"mobil_listrik\", \"panel_surya\", \"sistem\", \"tinggi\", \"selesai\", \"mobil\", \"anggar\", \"den\", \"republika_online\", \"masif\", \"bener\", \"tahu\", \"isu\", \"permen_esdm\", \"kalah\", \"permen\", \"mesti\", \"tangan\", \"bang\", \"emg\", \"smart_grid\", \"ntt\", \"mimin\", \"top\", \"tim\", \"saham\", \"online\", \"mobile\", \"doang\", \"data\", \"pulau\", \"panel\", \"surya\", \"contoh\", \"ekspor\", \"larang_ekspor\", \"pasok_listrik\", \"simak\", \"mantap\", \"depan\", \"inggris\", \"hambat\", \"strategis\", \"untung\", \"simak_lengkap\", \"perintah_serius\", \"kaji\", \"provinsi\", \"hambat_kembang\", \"polusi_udara\", \"bukit_asam\", \"efisien\", \"simak_bawah\", \"bank\", \"niat\", \"link\", \"eropa\", \"asia_tenggara\", \"hilang\", \"sebab\", \"alir_listrik\", \"liput\", \"eksplorasi\", \"rumah_tangga\", \"renewable_content\", \"pasok\", \"fasilitas\", \"dana\", \"baca\", \"serius\", \"tekan\", \"heroes\"], \"Freq\": [2238.0, 1370.0, 1000.0, 1446.0, 1104.0, 999.0, 747.0, 1142.0, 888.0, 663.0, 614.0, 778.0, 721.0, 561.0, 549.0, 643.0, 715.0, 794.0, 537.0, 505.0, 753.0, 2489.0, 831.0, 690.0, 589.0, 424.0, 434.0, 456.0, 398.0, 528.0, 793.4202581065206, 689.8782724339671, 503.5518212812153, 502.48657334953094, 479.55681533051546, 477.9699671456328, 462.61820548748983, 450.61913392061746, 417.0560246869349, 414.98413314572406, 409.47027251242366, 378.6959447176942, 370.2123917565192, 293.6405072888952, 272.17733877137533, 247.8780042793286, 242.0693137977894, 213.1378631819944, 201.7931121399136, 184.78448211420564, 172.25328765933855, 157.25814092662387, 152.74792832876196, 146.74842522431584, 141.03641008834376, 140.2413193674098, 138.75802000900157, 141.92275144249638, 134.17655631983212, 132.97416555990102, 262.1915979955427, 374.43377654731495, 348.67708981496037, 218.21214782712408, 211.29437599524567, 221.3926196408267, 281.8029788628409, 236.84041395773247, 204.89515437749418, 231.22640311292287, 206.84449970601432, 886.9451986684675, 588.5980482736827, 527.5105977821947, 469.8965481637996, 406.67092441850275, 276.562520319524, 294.4199596640352, 250.26141216586814, 248.38005295898523, 240.49656413840677, 229.83540162282247, 195.31455418345743, 182.36857166245875, 172.891036627891, 168.411849764799, 137.88702690762057, 137.79745178494423, 136.11336658598248, 132.90742374285983, 132.30205031344633, 129.3206582379058, 114.19608017729644, 113.7667424892476, 111.82435225740821, 104.96106229102884, 103.27407795271657, 96.23656627788044, 94.83437682285445, 92.71333334097962, 89.63226057131229, 325.54677638247, 377.95837841911157, 344.8867858913147, 612.4395100358315, 231.59050745261712, 165.4644190359362, 294.9177501737779, 178.33694564904755, 369.65908674962367, 248.69677150814857, 388.67426011912346, 335.7762984650356, 428.10321794686496, 359.09349643354363, 200.8860539212793, 333.8013716064279, 365.7710592498723, 305.1003558983965, 393.2814729759352, 344.1177684704462, 314.463316945831, 273.94878881316345, 261.252794936734, 234.62257648400504, 2236.38426898396, 998.6964178019929, 777.312988679084, 465.8016737869656, 266.2376186108427, 218.4625324952421, 195.4534092658318, 190.06687199755476, 188.12888449746185, 165.21569679396688, 139.4466335364186, 129.01451674121734, 128.8662435899137, 124.82078146087969, 122.64376093623387, 126.86758938267192, 120.65329634705805, 109.77991642215801, 109.42615126485157, 108.17554157550254, 158.44766315896337, 105.9247370084329, 105.76195188490833, 160.93007043485719, 100.93678697930854, 94.62919273201058, 94.26025702392542, 93.62729329802272, 92.0823454812308, 89.02795885388748, 270.4625007829732, 1286.957213305323, 252.10072624855403, 282.0393510793768, 1163.9125484830097, 743.2906034390949, 184.89163772255532, 414.7998316654852, 355.87490209439903, 453.88713539804917, 172.12864870362077, 331.22283455879466, 288.009512917602, 320.2320107070795, 183.7304475053908, 196.15320709337766, 218.01170835448053, 248.03407338592461, 188.60840716737786, 171.11769187746725, 1103.8185416870376, 488.2092667178655, 317.24682776283277, 276.57976519455065, 236.3212959372723, 236.8130654982791, 222.34074576247838, 219.7399645891882, 218.80237577143922, 216.45405666800912, 196.38880318859515, 175.6008643710346, 174.65370446325616, 173.2259639464801, 165.53951680113659, 164.17042756117598, 156.53050528790286, 155.8652767303437, 148.6761785018061, 145.38212078990688, 145.35086732530837, 143.4705941805846, 140.38413688907104, 138.41397412313876, 136.3898775844814, 135.26381540620022, 131.22074807852212, 130.42716409717173, 130.43467883926434, 114.32998928666655, 190.6749985228724, 927.8285437093718, 234.09289518301037, 261.71896202095184, 310.1008069995303, 224.8365171091423, 300.4545090683494, 180.46790729295276, 271.85881369737876, 385.6553243363937, 221.4154345515286, 197.70447274281486, 176.06369385887177, 192.2400607452524, 225.38349054012926, 184.60496181750756, 193.45814449370602, 196.65201572450727, 189.9390678847799, 1368.886201799793, 425.8780235710854, 406.90295308105425, 364.7713783490596, 313.89410594878973, 306.4422614069907, 275.1897921755725, 224.46406463194046, 232.9189054970573, 185.55790053419585, 184.81151763481927, 187.07805519024856, 174.2498539595078, 172.55050251618187, 160.73991279408415, 159.41801312696882, 154.5544886759057, 153.69350810839364, 149.68896194445304, 146.01508434849683, 137.34782637986245, 136.4781790074525, 134.59248395122927, 127.6182636658603, 125.9559471021486, 115.74348404981397, 137.04900430070182, 113.70063190578804, 112.60534068714112, 109.2404646469246, 121.91199839857106, 126.3249513012412, 217.51941086648455, 479.420755010238, 200.4337769201199, 466.28716948212553, 268.67302719088474, 230.32981080149912, 277.17830506055907, 190.933555694242, 247.82212689472493, 186.77572546660988, 213.78037877434826, 193.593680190481, 173.4625777715911, 176.24976668904807, 163.3375135275016, 642.3082719775555, 432.2307566404598, 420.4373096167266, 341.54150408697694, 331.3309442417003, 286.71402156785496, 273.99146821015313, 272.56150491310325, 299.94180709505423, 245.16737395372945, 239.74532127368482, 239.27709605845826, 202.34179881404899, 188.5266808898089, 163.6946239305893, 150.31099771770585, 149.55458182270306, 141.96819526150676, 124.81235983094129, 124.84503064313895, 122.56071714317932, 120.48216855926091, 118.90639109123082, 118.64335784834812, 112.54141632124235, 111.70826503513521, 111.23359420331327, 109.07222270150598, 106.55358825077039, 103.08123041925082, 684.4258840290038, 469.65007411611623, 561.5376384126448, 240.23497979177202, 254.40119500946986, 162.7428863205746, 170.13996707558132, 126.04094643981388, 153.41843598906868, 229.08273489407995, 193.3956606016258, 182.4648063571759, 166.12270723424535, 455.56207748500896, 328.706316756573, 321.61352649996326, 293.80478334373817, 284.04056520696474, 227.03226551458138, 210.2142474138304, 198.66470709997634, 195.6748128939683, 187.8052265616899, 180.22440780896727, 177.13235219586065, 176.39196986132274, 164.62415231275057, 162.25123958530068, 159.08881903473036, 161.6176131280165, 147.13121452667045, 145.87158866057317, 135.19905631485474, 135.03902510500734, 122.13535876843956, 121.88348375816969, 118.60890341259486, 118.28397290665625, 117.72756318972232, 116.33475469247612, 114.6105629098674, 117.57772417917704, 109.6178559383155, 608.2568647501821, 278.211220041023, 139.15930717790846, 264.2728060612146, 166.7071003902569, 142.37069360767623, 277.4545119465291, 146.50282097708168, 129.06791260313543, 147.0558674962593, 283.84182872124416, 170.0961776682601, 192.73043016403852, 195.1073103247738, 168.16553114609692, 170.9675423045674, 165.34163070053467, 148.64765189330365, 999.1693550928142, 746.2373916827805, 663.0317945755238, 536.5491603049308, 433.36020630094856, 356.50937129454763, 355.4246891472716, 333.3453545009503, 299.55763676715907, 281.3502223352963, 281.2398941204041, 267.0149467076549, 267.09397684285415, 261.43798659871123, 247.24380072714598, 216.40819735717994, 197.6933565983588, 186.7402011418288, 178.68749337788486, 176.16101302608706, 168.05347897523973, 163.78420231535893, 162.43479802927044, 159.938840757097, 158.46862588339377, 146.61764278330375, 135.19950715741803, 134.64863114712722, 134.9335032877229, 132.3810107541359, 197.5379194051155, 205.79343872546974, 254.90644499503097, 289.4163236901691, 147.07524058021124, 613.7348658117229, 560.7077438525673, 548.4063923895583, 423.41932163373133, 397.75066566347317, 372.3162564189386, 331.5858174651868, 274.39280079465226, 204.4931006949094, 201.9535970652157, 193.8523299001654, 179.68725120927346, 166.29881849867107, 140.74218834749246, 139.32393838852482, 138.2129913677692, 132.94638763181683, 131.4780461525514, 501.2955106382658, 119.0972536747408, 115.26419252910273, 111.36289809960519, 107.79986946684879, 103.82752694817096, 94.48552277555955, 92.85969808762789, 90.9998497987847, 89.22205136869893, 88.63116537613698, 86.52551936168656, 240.17293789418824, 326.2206268892171, 145.63857652996762, 213.57465813983234, 132.38409594208719, 180.84870167305675, 179.37352056013066, 120.12120776398044], \"Total\": [2238.0, 1370.0, 1000.0, 1446.0, 1104.0, 999.0, 747.0, 1142.0, 888.0, 663.0, 614.0, 778.0, 721.0, 561.0, 549.0, 643.0, 715.0, 794.0, 537.0, 505.0, 753.0, 2489.0, 831.0, 690.0, 589.0, 424.0, 434.0, 456.0, 398.0, 528.0, 794.5029130678312, 690.9639534197289, 504.6385352596926, 503.6030080638227, 480.641341979901, 479.0529830594348, 463.7044748536498, 451.7022828012523, 418.1388803689033, 416.07060563878434, 410.55449354284224, 379.7809787096217, 371.32365158079915, 294.7239096593503, 273.2619852838806, 248.9605389609668, 243.15468705437246, 214.2228702828088, 202.87793909950165, 185.86775806450387, 173.33667511520378, 158.34061267801596, 153.84160619696044, 147.8315211051255, 142.1194830944112, 141.32391180334335, 139.84182973131504, 143.04279571707397, 135.26088557455836, 134.05668350594422, 264.7006778669499, 383.89156070296485, 357.9748050029674, 229.66160844531223, 222.3411560247874, 240.9389902235193, 331.07998381306373, 330.3738477308012, 263.2360784419394, 431.5572505495812, 1749.6356245892887, 888.1121105977079, 589.7630138156917, 528.6789248033556, 471.06543805775976, 407.8368279243655, 277.7280832022176, 295.77739868012173, 251.4291865630282, 249.54506750390803, 241.66152202909274, 231.0054883690923, 196.48181649330792, 183.53839512798274, 174.05605855266532, 169.57810555984423, 139.0524900032508, 138.96797154940046, 137.29795950810814, 134.07368928817496, 133.46701668201277, 130.48772957429978, 115.36464933516923, 114.93408590008538, 112.99172637514073, 106.12669460377094, 104.43920135463311, 97.40360099399702, 96.00006696859181, 93.8796822471071, 90.79785023271651, 330.3815109651409, 455.2095499652203, 422.9446877933026, 831.5288875696469, 282.14675533472246, 188.9384924550736, 397.63636004195376, 220.42474648958495, 654.3580894963303, 374.32395924131976, 772.3995642933105, 716.7396254065717, 1152.4541704059232, 860.4385273666709, 288.24358342451467, 910.9265921732671, 1749.6356245892887, 1073.9102160854952, 2489.652598857173, 1809.705277774802, 1616.6662129365475, 982.8587215893434, 1571.0397037612638, 695.0748018742838, 2238.112409824439, 999.8612027772356, 778.4839941510035, 466.97194655668034, 267.41030593068905, 219.6289727702947, 196.61909974860907, 191.24617533681555, 189.29646082153994, 166.3851814546719, 140.61315991414494, 130.17929407609876, 130.0324530339927, 125.98817231244271, 123.8098773149116, 128.08010248924268, 121.82446349841261, 110.94514644972567, 110.59339056417642, 109.34182840041534, 160.18468285125206, 107.09102288402462, 106.92685375087702, 162.73121024673847, 102.10640668329583, 95.79793876681171, 95.42533619864246, 94.79264606655988, 93.24837512465142, 90.19490334469369, 281.48809812586177, 1446.0095170382806, 279.8463460665661, 361.5011166802343, 2489.652598857173, 1571.0397037612638, 264.80658903679836, 1152.4541704059232, 910.9265921732671, 1616.6662129365475, 277.0874442101044, 1073.9102160854952, 866.3682059704673, 1809.705277774802, 417.85423090132764, 534.8195971530661, 831.5288875696469, 1749.6356245892887, 753.1717360235068, 982.8587215893434, 1104.9790436290816, 489.5161068607658, 318.40268392914544, 277.7352686186143, 237.47906406910784, 237.9774258294389, 223.49582637794472, 220.89430650618363, 219.95674947208423, 217.60780342571988, 197.5483020031195, 176.75742577278837, 175.81445844020925, 174.38095506276034, 166.69406156986403, 165.32513415256358, 157.68537076059604, 157.01984869689295, 149.83631927587152, 146.53572183837173, 146.50608828997787, 144.6242573872967, 141.53885709448392, 139.5689406871585, 137.54672861397162, 136.41902132154982, 132.37497846199534, 131.580749944941, 131.64586974617043, 115.48467069393276, 194.2931933822406, 1142.6551084177463, 261.7660947628766, 319.50622621414675, 432.7425750464788, 328.9681649710101, 630.8775978887217, 236.05965319356858, 552.1427721890927, 1749.6356245892887, 534.8195971530661, 453.1511924814357, 298.06681163988685, 492.0806068712378, 1809.705277774802, 426.0476415561063, 806.1400970255144, 2489.652598857173, 1616.6662129365475, 1370.1037066180033, 427.02310170503904, 408.0448386888991, 365.91406117043823, 315.03576601066146, 307.58396629421753, 276.33207184514174, 225.6070297674092, 234.10892979833338, 186.69954065200912, 185.95432114373838, 188.25321564435902, 175.39285331960107, 173.71443384055104, 161.88301632466175, 160.56122406061658, 155.69828190058672, 154.83786963015115, 150.84443405682424, 147.16555920347943, 138.49074087278808, 137.62257118455798, 135.73625493445132, 128.76015916022007, 127.09901474247657, 116.88546940099842, 138.40929627006042, 114.84426342900923, 113.74725185787831, 110.38389455036246, 123.26920941472011, 127.88866982469341, 241.75179693734614, 636.7413907560715, 232.2085353117692, 718.7288969106186, 386.1554146706515, 318.63771152034064, 1809.705277774802, 492.19494250634943, 1616.6662129365475, 589.0957815976607, 1142.6551084177463, 806.1400970255144, 630.8775978887217, 1749.6356245892887, 2489.652598857173, 643.4523600503829, 433.3748101926419, 421.5812094602829, 342.68804751697377, 332.47582147827376, 287.8582510040501, 275.1353816374996, 273.70621507622263, 301.24700342711964, 246.31262638151475, 240.8894124855592, 240.43913265587918, 203.4857475649814, 189.67083349005821, 164.8391366097414, 151.4566776406795, 150.69913947785656, 143.11211947075566, 125.95720021387919, 125.99137067250382, 123.70460923278166, 121.62754438071404, 120.05063287822443, 119.79109414879427, 113.68531949365908, 112.8527511966686, 112.37780183030424, 110.21725479473858, 107.69762522946218, 104.22609052634483, 721.4288819692274, 602.3364415757566, 753.1717360235068, 279.2601254840958, 453.1511924814357, 230.678694077498, 352.69304916495867, 149.14296040438725, 332.54192099726004, 1809.705277774802, 2489.652598857173, 1749.6356245892887, 982.8587215893434, 456.68560473854814, 329.82743090482035, 322.735313000641, 294.92594152685734, 285.16448669188975, 228.19967504642904, 211.34947208378156, 199.8027169294318, 196.79679165676077, 188.92665488543165, 181.3664990070778, 178.27632465391358, 177.53394339128116, 165.74635852547584, 163.37467860194081, 160.2118977053276, 162.76527601388236, 148.2538208562369, 146.9927695604354, 136.32244189206358, 136.16301801045483, 123.25692125728936, 123.00485777127231, 119.7328863420369, 119.40604259221531, 118.84907773267813, 117.4574757581725, 115.7335000434086, 118.74076966586208, 110.74031982054753, 715.7788385015202, 305.66264095634347, 152.85982501207604, 412.5391030014925, 223.11737265871042, 168.32190937934845, 677.6523327888024, 193.41667367395507, 142.95333608946447, 212.8559851667649, 1809.705277774802, 447.3017381497973, 866.3682059704673, 2489.652598857173, 806.1400970255144, 1571.0397037612638, 1073.9102160854952, 243.16290415697108, 1000.3663091513858, 747.2035478130284, 663.997927289202, 537.5170174969155, 434.3272001344913, 357.4762093156687, 356.3914707975298, 334.31255974161536, 300.52396519356836, 282.3163095406811, 282.2067131391385, 267.98165377867326, 268.06349006047907, 262.4052181252772, 248.20990000146298, 217.374877500964, 198.6596250776095, 187.70715777347152, 179.654055462693, 177.12737287799118, 169.0204839651037, 164.7503328854989, 163.41028731038207, 160.9061553738825, 159.43557379483588, 147.58497054223253, 136.16596010012873, 135.61494632298007, 135.90548813956912, 133.3477436242817, 198.98181492913415, 233.29371976132265, 336.48397266054997, 589.0957815976607, 206.55862357726946, 614.8301879254561, 561.8101608162598, 549.497553183836, 424.5105460600373, 398.8423102348351, 373.4077922977054, 332.6779944759584, 275.48342789555426, 205.58615592295158, 203.04452064200206, 194.94293775778615, 180.77791342210338, 167.3896062992228, 141.83420426644736, 140.41425379086957, 139.3039939920869, 134.03730529941765, 132.5693992510696, 505.6999706825238, 120.18837312492671, 116.35506373717763, 112.45594166368555, 108.89086098689312, 104.91844018267457, 95.57644847229574, 93.95047292148617, 92.09016874842486, 90.31775669838822, 89.72212609763771, 87.61582762104024, 244.64189803960085, 362.29179524054206, 156.8053626154785, 261.3641170578148, 155.33952759591696, 253.21933210242616, 277.4956569084378, 169.2350022582832], \"Category\": [\"Default\", \"Default\", \"Default\", \"Default\", \"Default\", \"Default\", \"Default\", \"Default\", \"Default\", \"Default\", \"Default\", \"Default\", \"Default\", \"Default\", \"Default\", \"Default\", \"Default\", \"Default\", \"Default\", \"Default\", \"Default\", \"Default\", \"Default\", \"Default\", \"Default\", \"Default\", \"Default\", \"Default\", \"Default\", \"Default\", \"Topic1\", \"Topic1\", \"Topic1\", \"Topic1\", \"Topic1\", \"Topic1\", \"Topic1\", \"Topic1\", \"Topic1\", \"Topic1\", \"Topic1\", \"Topic1\", \"Topic1\", \"Topic1\", \"Topic1\", \"Topic1\", \"Topic1\", \"Topic1\", \"Topic1\", \"Topic1\", \"Topic1\", \"Topic1\", \"Topic1\", \"Topic1\", \"Topic1\", \"Topic1\", \"Topic1\", \"Topic1\", \"Topic1\", \"Topic1\", \"Topic1\", \"Topic1\", \"Topic1\", \"Topic1\", \"Topic1\", \"Topic1\", \"Topic1\", \"Topic1\", \"Topic1\", \"Topic1\", \"Topic1\", \"Topic2\", \"Topic2\", \"Topic2\", \"Topic2\", \"Topic2\", \"Topic2\", \"Topic2\", \"Topic2\", \"Topic2\", \"Topic2\", \"Topic2\", \"Topic2\", \"Topic2\", \"Topic2\", \"Topic2\", \"Topic2\", \"Topic2\", \"Topic2\", \"Topic2\", \"Topic2\", \"Topic2\", \"Topic2\", \"Topic2\", \"Topic2\", \"Topic2\", \"Topic2\", \"Topic2\", \"Topic2\", \"Topic2\", \"Topic2\", \"Topic2\", \"Topic2\", \"Topic2\", \"Topic2\", \"Topic2\", \"Topic2\", \"Topic2\", \"Topic2\", \"Topic2\", \"Topic2\", \"Topic2\", \"Topic2\", \"Topic2\", \"Topic2\", \"Topic2\", \"Topic2\", \"Topic2\", \"Topic2\", \"Topic2\", \"Topic2\", \"Topic2\", \"Topic2\", \"Topic2\", \"Topic2\", \"Topic3\", \"Topic3\", \"Topic3\", \"Topic3\", \"Topic3\", \"Topic3\", \"Topic3\", \"Topic3\", \"Topic3\", \"Topic3\", \"Topic3\", \"Topic3\", \"Topic3\", \"Topic3\", \"Topic3\", \"Topic3\", \"Topic3\", \"Topic3\", \"Topic3\", \"Topic3\", \"Topic3\", \"Topic3\", \"Topic3\", \"Topic3\", \"Topic3\", \"Topic3\", \"Topic3\", \"Topic3\", \"Topic3\", \"Topic3\", \"Topic3\", \"Topic3\", \"Topic3\", \"Topic3\", \"Topic3\", \"Topic3\", \"Topic3\", \"Topic3\", \"Topic3\", \"Topic3\", \"Topic3\", \"Topic3\", \"Topic3\", \"Topic3\", \"Topic3\", \"Topic3\", \"Topic3\", \"Topic3\", \"Topic3\", \"Topic3\", \"Topic4\", \"Topic4\", \"Topic4\", \"Topic4\", \"Topic4\", \"Topic4\", \"Topic4\", \"Topic4\", \"Topic4\", \"Topic4\", \"Topic4\", \"Topic4\", \"Topic4\", \"Topic4\", \"Topic4\", \"Topic4\", \"Topic4\", \"Topic4\", \"Topic4\", \"Topic4\", \"Topic4\", \"Topic4\", \"Topic4\", \"Topic4\", \"Topic4\", \"Topic4\", \"Topic4\", \"Topic4\", \"Topic4\", \"Topic4\", \"Topic4\", \"Topic4\", \"Topic4\", \"Topic4\", \"Topic4\", \"Topic4\", \"Topic4\", \"Topic4\", \"Topic4\", \"Topic4\", \"Topic4\", \"Topic4\", \"Topic4\", \"Topic4\", \"Topic4\", \"Topic4\", \"Topic4\", \"Topic4\", \"Topic4\", \"Topic5\", \"Topic5\", \"Topic5\", \"Topic5\", \"Topic5\", \"Topic5\", \"Topic5\", \"Topic5\", \"Topic5\", \"Topic5\", \"Topic5\", \"Topic5\", \"Topic5\", \"Topic5\", \"Topic5\", \"Topic5\", \"Topic5\", \"Topic5\", \"Topic5\", \"Topic5\", \"Topic5\", \"Topic5\", \"Topic5\", \"Topic5\", \"Topic5\", \"Topic5\", \"Topic5\", \"Topic5\", \"Topic5\", \"Topic5\", \"Topic5\", \"Topic5\", \"Topic5\", \"Topic5\", \"Topic5\", \"Topic5\", \"Topic5\", \"Topic5\", \"Topic5\", \"Topic5\", \"Topic5\", \"Topic5\", \"Topic5\", \"Topic5\", \"Topic5\", \"Topic5\", \"Topic5\", \"Topic6\", \"Topic6\", \"Topic6\", \"Topic6\", \"Topic6\", \"Topic6\", \"Topic6\", \"Topic6\", \"Topic6\", \"Topic6\", \"Topic6\", \"Topic6\", \"Topic6\", \"Topic6\", \"Topic6\", \"Topic6\", \"Topic6\", \"Topic6\", \"Topic6\", \"Topic6\", \"Topic6\", \"Topic6\", \"Topic6\", \"Topic6\", \"Topic6\", \"Topic6\", \"Topic6\", \"Topic6\", \"Topic6\", \"Topic6\", \"Topic6\", \"Topic6\", \"Topic6\", \"Topic6\", \"Topic6\", \"Topic6\", \"Topic6\", \"Topic6\", \"Topic6\", \"Topic6\", \"Topic6\", \"Topic6\", \"Topic6\", \"Topic7\", \"Topic7\", \"Topic7\", \"Topic7\", \"Topic7\", \"Topic7\", \"Topic7\", \"Topic7\", \"Topic7\", \"Topic7\", \"Topic7\", \"Topic7\", \"Topic7\", \"Topic7\", \"Topic7\", \"Topic7\", \"Topic7\", \"Topic7\", \"Topic7\", \"Topic7\", \"Topic7\", \"Topic7\", \"Topic7\", \"Topic7\", \"Topic7\", \"Topic7\", \"Topic7\", \"Topic7\", \"Topic7\", \"Topic7\", \"Topic7\", \"Topic7\", \"Topic7\", \"Topic7\", \"Topic7\", \"Topic7\", \"Topic7\", \"Topic7\", \"Topic7\", \"Topic7\", \"Topic7\", \"Topic7\", \"Topic7\", \"Topic7\", \"Topic7\", \"Topic7\", \"Topic7\", \"Topic7\", \"Topic8\", \"Topic8\", \"Topic8\", \"Topic8\", \"Topic8\", \"Topic8\", \"Topic8\", \"Topic8\", \"Topic8\", \"Topic8\", \"Topic8\", \"Topic8\", \"Topic8\", \"Topic8\", \"Topic8\", \"Topic8\", \"Topic8\", \"Topic8\", \"Topic8\", \"Topic8\", \"Topic8\", \"Topic8\", \"Topic8\", \"Topic8\", \"Topic8\", \"Topic8\", \"Topic8\", \"Topic8\", \"Topic8\", \"Topic8\", \"Topic8\", \"Topic8\", \"Topic8\", \"Topic8\", \"Topic8\", \"Topic9\", \"Topic9\", \"Topic9\", \"Topic9\", \"Topic9\", \"Topic9\", \"Topic9\", \"Topic9\", \"Topic9\", \"Topic9\", \"Topic9\", \"Topic9\", \"Topic9\", \"Topic9\", \"Topic9\", \"Topic9\", \"Topic9\", \"Topic9\", \"Topic9\", \"Topic9\", \"Topic9\", \"Topic9\", \"Topic9\", \"Topic9\", \"Topic9\", \"Topic9\", \"Topic9\", \"Topic9\", \"Topic9\", \"Topic9\", \"Topic9\", \"Topic9\", \"Topic9\", \"Topic9\", \"Topic9\", \"Topic9\", \"Topic9\", \"Topic9\"], \"logprob\": [30.0, 29.0, 28.0, 27.0, 26.0, 25.0, 24.0, 23.0, 22.0, 21.0, 20.0, 19.0, 18.0, 17.0, 16.0, 15.0, 14.0, 13.0, 12.0, 11.0, 10.0, 9.0, 8.0, 7.0, 6.0, 5.0, 4.0, 3.0, 2.0, 1.0, -4.077, -4.2168, -4.5316, -4.5338, -4.5805, -4.5838, -4.6164, -4.6427, -4.7201, -4.7251, -4.7385, -4.8166, -4.8392, -5.071, -5.1469, -5.2404, -5.2641, -5.3914, -5.4461, -5.5341, -5.6044, -5.6954, -5.7245, -5.7646, -5.8043, -5.81, -5.8206, -5.798, -5.8542, -5.8632, -5.1842, -4.8279, -4.8992, -5.3679, -5.4001, -5.3534, -5.1121, -5.2859, -5.4308, -5.3099, -5.4214, -3.6917, -4.1017, -4.2113, -4.3269, -4.4714, -4.857, -4.7944, -4.9569, -4.9645, -4.9967, -5.0421, -5.2048, -5.2734, -5.3268, -5.353, -5.553, -5.5537, -5.5659, -5.5898, -5.5943, -5.6171, -5.7415, -5.7453, -5.7625, -5.8258, -5.842, -5.9126, -5.9273, -5.9499, -5.9837, -4.6939, -4.5447, -4.6362, -4.062, -5.0345, -5.3707, -4.7927, -5.2958, -4.5669, -4.9632, -4.5167, -4.663, -4.4201, -4.5959, -5.1767, -4.6689, -4.5774, -4.7588, -4.5049, -4.6385, -4.7286, -4.8665, -4.9139, -5.0215, -2.7, -3.5062, -3.7568, -4.2689, -4.8282, -5.026, -5.1373, -5.1653, -5.1755, -5.3054, -5.4749, -5.5527, -5.5539, -5.5858, -5.6033, -5.5695, -5.6197, -5.7142, -5.7174, -5.7289, -5.3472, -5.7499, -5.7514, -5.3317, -5.7981, -5.8627, -5.8666, -5.8733, -5.8899, -5.9237, -4.8125, -3.2526, -4.8828, -4.7706, -3.3531, -3.8015, -5.1929, -4.3848, -4.5381, -4.2948, -5.2644, -4.6098, -4.7496, -4.6436, -5.1992, -5.1337, -5.0281, -4.8991, -5.173, -5.2703, -3.3816, -4.1973, -4.6284, -4.7656, -4.9229, -4.9208, -4.9839, -4.9956, -4.9999, -5.0107, -5.108, -5.2199, -5.2253, -5.2335, -5.2789, -5.2872, -5.3348, -5.3391, -5.3863, -5.4087, -5.4089, -5.422, -5.4437, -5.4578, -5.4726, -5.4809, -5.5112, -5.5173, -5.5172, -5.649, -5.1375, -3.5552, -4.9324, -4.8208, -4.6512, -4.9727, -4.6828, -5.1925, -4.7828, -4.4331, -4.988, -5.1013, -5.2172, -5.1293, -4.9703, -5.1699, -5.123, -5.1066, -5.1414, -3.1324, -4.3, -4.3455, -4.4548, -4.6051, -4.6291, -4.7367, -4.9404, -4.9034, -5.1307, -5.1348, -5.1226, -5.1936, -5.2034, -5.2743, -5.2826, -5.3136, -5.3192, -5.3456, -5.3704, -5.4316, -5.4379, -5.4519, -5.5051, -5.5182, -5.6027, -5.4338, -5.6205, -5.6302, -5.6606, -5.5508, -5.5153, -4.9718, -4.1815, -5.0536, -4.2093, -4.7606, -4.9146, -4.7295, -5.1022, -4.8414, -5.1242, -4.9892, -5.0884, -5.1982, -5.1822, -5.2583, -3.7736, -4.1697, -4.1974, -4.4052, -4.4355, -4.5802, -4.6256, -4.6308, -4.5351, -4.7367, -4.7591, -4.761, -4.9287, -4.9994, -5.1406, -5.2259, -5.231, -5.283, -5.4118, -5.4116, -5.43, -5.4471, -5.4603, -5.4625, -5.5153, -5.5228, -5.527, -5.5466, -5.57, -5.6031, -3.7101, -4.0867, -3.908, -4.757, -4.6997, -5.1465, -5.102, -5.402, -5.2055, -4.8046, -4.9739, -5.0321, -5.1259, -3.9842, -4.3106, -4.3324, -4.4228, -4.4566, -4.6806, -4.7576, -4.8141, -4.8293, -4.8703, -4.9115, -4.9288, -4.933, -5.0021, -5.0166, -5.0363, -5.0205, -5.1144, -5.123, -5.199, -5.2002, -5.3006, -5.3027, -5.3299, -5.3326, -5.3374, -5.3493, -5.3642, -5.3386, -5.4087, -3.6951, -4.4773, -5.1701, -4.5287, -4.9895, -5.1473, -4.4801, -5.1187, -5.2454, -5.1149, -4.4573, -4.9694, -4.8444, -4.8322, -4.9808, -4.9643, -4.9977, -5.1041, -3.0613, -3.3532, -3.4714, -3.683, -3.8966, -4.0918, -4.0949, -4.159, -4.2659, -4.3286, -4.329, -4.3809, -4.3806, -4.402, -4.4578, -4.591, -4.6815, -4.7385, -4.7826, -4.7968, -4.8439, -4.8697, -4.8779, -4.8934, -4.9026, -4.9804, -5.0615, -5.0655, -5.0634, -5.0825, -4.6823, -4.6413, -4.4273, -4.3003, -4.9773, -3.4021, -3.4925, -3.5147, -3.7733, -3.8359, -3.9019, -4.0178, -4.2071, -4.5012, -4.5136, -4.5546, -4.6305, -4.7079, -4.8748, -4.8849, -4.8929, -4.9317, -4.9428, -3.6045, -5.0417, -5.0745, -5.1089, -5.1414, -5.179, -5.2732, -5.2906, -5.3108, -5.3306, -5.3372, -5.3612, -4.3403, -4.0341, -4.8406, -4.4577, -4.936, -4.624, -4.6322, -5.0332], \"loglift\": [30.0, 29.0, 28.0, 27.0, 26.0, 25.0, 24.0, 23.0, 22.0, 21.0, 20.0, 19.0, 18.0, 17.0, 16.0, 15.0, 14.0, 13.0, 12.0, 11.0, 10.0, 9.0, 8.0, 7.0, 6.0, 5.0, 4.0, 3.0, 2.0, 1.0, 1.7578, 1.7576, 1.757, 1.7569, 1.7569, 1.7569, 1.7568, 1.7568, 1.7566, 1.7565, 1.7565, 1.7563, 1.7562, 1.7555, 1.7552, 1.7548, 1.7547, 1.7541, 1.7538, 1.7533, 1.7529, 1.7523, 1.752, 1.7518, 1.7515, 1.7515, 1.7514, 1.7513, 1.7511, 1.7511, 1.7496, 1.7342, 1.7328, 1.708, 1.7082, 1.6746, 1.598, 1.4263, 1.5086, 1.1352, -0.376, 2.0317, 2.0311, 2.0308, 2.0306, 2.0302, 2.0288, 2.0284, 2.0284, 2.0284, 2.0282, 2.028, 2.0271, 2.0267, 2.0263, 2.0261, 2.0246, 2.0246, 2.0244, 2.0243, 2.0243, 2.0241, 2.0229, 2.0228, 2.0227, 2.022, 2.0218, 2.021, 2.0208, 2.0205, 2.0201, 2.0183, 1.8471, 1.829, 1.7272, 1.8356, 1.9004, 1.7342, 1.8212, 1.462, 1.6242, 1.3463, 1.2748, 1.0428, 1.1592, 1.672, 1.0291, 0.4679, 0.7746, 0.1877, 0.3731, 0.3958, 0.7555, 0.239, 0.947, 2.0991, 2.0987, 2.0983, 2.0973, 2.0955, 2.0945, 2.0939, 2.0937, 2.0937, 2.0928, 2.0915, 2.0909, 2.0908, 2.0905, 2.0904, 2.0903, 2.0902, 2.0893, 2.0892, 2.0891, 2.0889, 2.0889, 2.0889, 2.0887, 2.0883, 2.0876, 2.0876, 2.0875, 2.0873, 2.0868, 2.0599, 1.9833, 1.9954, 1.8516, 1.3395, 1.3514, 1.7406, 1.078, 1.16, 0.8296, 1.6238, 0.9236, 0.9985, 0.368, 1.2782, 1.0968, 0.7611, 0.1463, 0.7152, 0.3517, 2.1233, 2.1217, 2.1208, 2.1202, 2.1195, 2.1195, 2.1192, 2.1192, 2.1191, 2.1191, 2.1185, 2.1178, 2.1178, 2.1178, 2.1174, 2.1174, 2.117, 2.117, 2.1166, 2.1165, 2.1165, 2.1164, 2.1162, 2.1161, 2.116, 2.1159, 2.1156, 2.1156, 2.1152, 2.1143, 2.1056, 1.9161, 2.0127, 1.9249, 1.7912, 1.7438, 1.3826, 1.8559, 1.4159, 0.6122, 1.2425, 1.2949, 1.5979, 1.1845, 0.0413, 1.2881, 0.6972, -0.4141, -0.017, 2.1575, 2.1557, 2.1556, 2.1552, 2.1547, 2.1546, 2.1542, 2.1533, 2.1533, 2.1522, 2.1522, 2.1521, 2.1518, 2.1516, 2.1513, 2.1512, 2.151, 2.1509, 2.1507, 2.1505, 2.1501, 2.15, 2.1499, 2.1495, 2.1493, 2.1485, 2.1485, 2.1484, 2.1483, 2.148, 2.1473, 2.1461, 2.0527, 1.8746, 2.0112, 1.7257, 1.7956, 1.8338, 0.2821, 1.2114, 0.283, 1.0097, 0.4822, 0.7319, 0.8672, -0.1369, -0.5657, 2.2721, 2.2712, 2.2711, 2.2705, 2.2704, 2.2698, 2.2697, 2.2696, 2.2695, 2.2692, 2.2691, 2.269, 2.2682, 2.2678, 2.2669, 2.2662, 2.2662, 2.2658, 2.2647, 2.2647, 2.2645, 2.2644, 2.2643, 2.2642, 2.2637, 2.2636, 2.2636, 2.2634, 2.2632, 2.2628, 2.2212, 2.025, 1.9802, 2.1233, 1.6965, 1.925, 1.5449, 2.1055, 1.5002, 0.207, -0.2813, 0.0132, 0.4961, 2.4043, 2.4034, 2.4033, 2.4029, 2.4028, 2.4016, 2.4014, 2.401, 2.401, 2.4008, 2.4004, 2.4003, 2.4003, 2.4, 2.3999, 2.3997, 2.3997, 2.3992, 2.3991, 2.3985, 2.3985, 2.3976, 2.3976, 2.3973, 2.3973, 2.3973, 2.3972, 2.397, 2.3969, 2.3966, 2.244, 2.3127, 2.3129, 1.9614, 2.1153, 2.2393, 1.5138, 2.129, 2.3046, 2.037, 0.5543, 1.4399, 0.9037, -0.1396, 0.8394, 0.1887, 0.5357, 1.9146, 2.5431, 2.543, 2.5428, 2.5425, 2.542, 2.5416, 2.5416, 2.5414, 2.5411, 2.5408, 2.5408, 2.5407, 2.5407, 2.5406, 2.5404, 2.5398, 2.5394, 2.5391, 2.5389, 2.5388, 2.5385, 2.5384, 2.5383, 2.5382, 2.5382, 2.5377, 2.5372, 2.5371, 2.5371, 2.537, 2.537, 2.4188, 2.2666, 1.8336, 2.2046, 2.689, 2.6888, 2.6888, 2.6882, 2.6881, 2.6879, 2.6875, 2.6868, 2.6855, 2.6854, 2.6852, 2.6847, 2.6843, 2.6831, 2.683, 2.6829, 2.6826, 2.6825, 2.682, 2.6817, 2.6814, 2.681, 2.6807, 2.6803, 2.6793, 2.6791, 2.6789, 2.6786, 2.6786, 2.6783, 2.6724, 2.5859, 2.6169, 2.4889, 2.5309, 2.3542, 2.2545, 2.348]}, \"token.table\": {\"Topic\": [2, 2, 3, 9, 1, 7, 4, 8, 7, 5, 7, 4, 7, 9, 3, 4, 2, 9, 7, 7, 7, 5, 3, 1, 5, 2, 5, 8, 1, 9, 1, 2, 3, 4, 5, 6, 7, 2, 3, 1, 2, 3, 4, 5, 6, 7, 7, 9, 7, 1, 2, 5, 6, 3, 2, 7, 2, 3, 4, 5, 1, 4, 1, 8, 1, 2, 7, 4, 4, 6, 8, 9, 5, 9, 5, 2, 3, 4, 5, 1, 6, 1, 2, 3, 4, 5, 6, 7, 2, 1, 2, 3, 4, 5, 7, 2, 3, 1, 3, 4, 5, 6, 1, 2, 8, 1, 4, 4, 1, 6, 5, 5, 9, 3, 3, 8, 9, 8, 9, 5, 6, 7, 8, 2, 1, 2, 3, 5, 6, 7, 1, 9, 9, 9, 9, 4, 8, 6, 6, 3, 4, 1, 2, 3, 4, 7, 6, 6, 9, 1, 2, 3, 4, 5, 6, 7, 5, 6, 9, 3, 2, 5, 4, 7, 2, 1, 5, 3, 6, 1, 2, 1, 3, 1, 2, 3, 4, 5, 6, 7, 9, 5, 3, 9, 9, 1, 2, 3, 4, 5, 6, 9, 5, 1, 2, 3, 4, 6, 8, 9, 4, 5, 6, 9, 7, 4, 5, 6, 5, 1, 2, 3, 4, 5, 6, 7, 9, 1, 4, 7, 9, 1, 2, 4, 5, 6, 7, 5, 6, 3, 8, 5, 5, 3, 6, 7, 6, 4, 4, 9, 8, 1, 3, 3, 5, 6, 4, 2, 2, 1, 2, 3, 4, 5, 6, 7, 9, 4, 2, 1, 1, 3, 6, 6, 4, 6, 5, 3, 2, 4, 7, 1, 2, 4, 5, 6, 6, 7, 2, 7, 5, 3, 2, 9, 3, 2, 3, 4, 6, 9, 9, 5, 1, 2, 3, 4, 5, 6, 7, 8, 9, 5, 1, 2, 4, 1, 2, 3, 4, 5, 6, 9, 9, 8, 2, 1, 3, 4, 5, 6, 6, 6, 5, 4, 8, 1, 4, 7, 4, 1, 3, 5, 7, 1, 8, 8, 8, 8, 1, 2, 3, 4, 5, 5, 4, 1, 5, 2, 4, 5, 7, 9, 4, 4, 4, 9, 1, 8, 3, 7, 8, 8, 7, 1, 1, 2, 5, 1, 3, 5, 3, 7, 8, 8, 6, 1, 7, 8, 1, 6, 1, 3, 5, 9, 9, 3, 4, 5, 4, 6, 5, 1, 2, 3, 4, 5, 6, 7, 9, 9, 3, 8, 8, 1, 2, 3, 4, 1, 6, 7, 7, 7, 1, 2, 3, 4, 5, 6, 7, 3, 4, 6, 3, 2, 2, 2, 1, 3, 4, 5, 7, 1, 2, 7, 2, 2, 5, 9, 2, 3, 5, 2, 1, 2, 3, 4, 5, 6, 9, 4, 3, 1, 6, 1, 2, 5, 6, 1, 2, 3, 4, 6, 9, 2, 3, 7, 9, 1, 4, 5, 6, 5, 8, 2, 4, 2, 7, 4, 1, 4, 1, 4, 7, 1, 9, 1, 8, 4, 3, 1, 3, 7, 7, 7, 9, 2, 2, 3, 6, 8, 6, 6, 9, 7, 1, 4, 5, 7, 8, 3, 2, 4, 9, 4, 3, 9, 2, 4, 9, 9, 7, 7, 7, 8, 8, 2, 3, 7, 1, 5, 9, 4, 7, 3, 7, 3, 4, 4, 1, 5, 1, 1, 1, 4, 5, 6, 8, 7, 6, 2, 8, 4, 1, 5, 5, 8, 2, 1, 2, 3, 5, 6, 7, 1, 2, 7, 2, 6, 9, 6, 3, 5, 2, 5, 6, 8, 1, 7, 8, 8, 1, 2, 3, 4, 5, 6, 7, 9, 2, 2, 8, 1, 1, 3, 4, 1, 7, 1, 1, 9, 1, 5, 7, 5, 6, 6, 5, 5, 9, 4, 1, 3, 4, 5, 6, 7, 4, 6, 7, 5, 7, 4, 6, 3, 5, 4, 6, 6, 3, 7, 4], \"Freq\": [0.9930345709258888, 0.9895826430108742, 0.9920600357072183, 0.9881619421134625, 0.9921229442294867, 0.9947428713639275, 0.9957148857001233, 0.9960738545311315, 0.9915427417047636, 0.3053707883716536, 0.6906077829328165, 0.988758668802429, 0.9937614547392053, 0.9912461510000009, 0.6986230994965605, 0.29833094519042314, 0.14162525366517376, 0.8497515219910425, 0.9928558323810647, 0.9918307472608858, 0.9924356572596337, 0.9975019785588057, 0.9898121910255152, 0.9979436076228061, 0.9920799458121321, 0.9916181291281859, 0.9902764564124948, 0.9936352419184372, 0.9742334510171261, 0.02344412047902175, 0.04646604399954307, 0.16613202032713345, 0.47293521495425345, 0.11011815906741029, 0.08147470728687005, 0.013366944164252118, 0.10884511676605295, 0.10926622414188247, 0.8900356358898909, 0.04963247693494627, 0.14312621255658925, 0.33242217109917505, 0.11542436496499132, 0.1038819284684922, 0.03231882219019757, 0.22276902438243326, 0.9968604269869796, 0.9901124119244755, 0.9933148123308005, 0.1335741374966755, 0.665199204733444, 0.11220227549720742, 0.08548744799787232, 0.9891641796118869, 0.7418838658740241, 0.2565157773530524, 0.7359936727979763, 0.2621676808332661, 0.9953675115946949, 0.9920586654858564, 0.9749289478546039, 0.022347941498099804, 0.9984807676184877, 0.9963368620021876, 0.21162656693093293, 0.6973268844773364, 0.09020148754433206, 0.9973526278377558, 0.30905060436566595, 0.4820055297446166, 0.04252989968334852, 0.16444894544228095, 0.9967122272376324, 0.9922610701766909, 0.9945887292808117, 0.18810453650728104, 0.7800805778684302, 0.016597459103583623, 0.013831215919653018, 0.04990096861901847, 0.948118403761351, 0.016300131874075793, 0.14307893533910973, 0.03803364103951019, 0.4926262077498462, 0.01811125763786199, 0.09236741395309617, 0.19922383401648192, 0.9912230177646094, 0.06367143137365765, 0.3666596220483044, 0.39081085463831244, 0.09331158046139483, 0.030737932387283, 0.05488916497729107, 0.9938084630589469, 0.9991386776736176, 0.04674473436104281, 0.36647871739057564, 0.4132234517516184, 0.17015083307419582, 0.9958605283606703, 0.21785582814540008, 0.06293612813089336, 0.7116623719416403, 0.4059492545791635, 0.5904716430242378, 0.9879864649988508, 0.29044728325664493, 0.7066105547885541, 0.9951794526192811, 0.1798257562249963, 0.8187811028116854, 0.99215662633797, 0.9915669766946557, 0.9950658057396662, 0.005025584877473062, 0.9982564944754709, 0.9962298797005741, 0.9948679808144888, 0.9921314398977312, 0.9898024285819566, 0.9898930151523293, 0.9906296844423522, 0.04562765049261721, 0.28400884490302547, 0.3082194349603326, 0.08473706520057482, 0.12198412682720111, 0.15364412920983347, 0.9897972385688133, 0.0037778520556061576, 0.9881616778839183, 0.9919515271310905, 0.9986497281009292, 0.9897199610776797, 0.9939623651455501, 0.9979922045079799, 0.993522371287428, 0.010293721386653633, 0.9830503924254219, 0.7173691308432952, 0.024214991758423468, 0.08777934512428506, 0.06356435336586161, 0.10291371497329974, 0.9955611163791945, 0.9977428631231235, 0.9918187717608336, 0.02512794084424366, 0.06439034841337438, 0.02512794084424366, 0.07538382253273097, 0.7522677290245445, 0.0219869482387132, 0.03455091866083503, 0.025509331653464473, 0.03826399748019671, 0.9310906053514533, 0.9909410011440885, 0.8222671202607619, 0.17721274143550902, 0.993504969560494, 0.9952982845443208, 0.9931245900665447, 0.9942915978989806, 0.9897037595945792, 0.9004941588197746, 0.09648151701640442, 0.9943752110584442, 0.9881709922143956, 0.3753327773348724, 0.6207426702076736, 0.0297773342493316, 0.5036253488256518, 0.15924400489859944, 0.11004667005187765, 0.12687733723628247, 0.05308133496619981, 0.012946667064926783, 0.005178666825970713, 0.9874628943289272, 0.9855923527070835, 0.9946151828192124, 0.9899279898394366, 0.1970763850316253, 0.08330032769377976, 0.02234886840564823, 0.1726958013163727, 0.38805762413443745, 0.08330032769377976, 0.052824598049714, 0.9940963170193493, 0.24817561047980138, 0.005908943106661938, 0.01772682931998581, 0.005908943106661938, 0.005908943106661938, 0.005908943106661938, 0.7090731727994325, 0.7163612222964296, 0.1825565695529611, 0.0993662340604725, 0.9835058898139253, 0.9914586351900225, 0.8121435708496654, 0.18728310793300473, 0.995360693629181, 0.9945453430217113, 0.11831034821812765, 0.20918641279147207, 0.14174379883137997, 0.22061736431013174, 0.10059237336420515, 0.10402165881980305, 0.06572797123229314, 0.039436782739375884, 0.9972763107609163, 0.24650702607604777, 0.7484849700854541, 0.9979620098497154, 0.052100125220133665, 0.16250277151994072, 0.23941248017823327, 0.24065295935014122, 0.09551689623691172, 0.20840050088053466, 0.9962531206581113, 0.997419806210736, 0.9867519859727863, 0.9946448544913984, 0.9898179074091191, 0.9944019541582414, 0.9916706060998449, 0.9924436826960247, 0.9936621631322523, 0.9924005915322519, 0.989127670478103, 0.9874977487000247, 0.9916983716615071, 0.9936750855629216, 0.9986049150394053, 0.994726059918369, 0.05729425198912338, 0.07877959648504465, 0.8594137798368507, 0.9958363149633069, 0.9939907555883134, 0.998706236576697, 0.030391689008957043, 0.19008620034693133, 0.17682437241575005, 0.12432963685482426, 0.15306359737238365, 0.12653994151002113, 0.15693163051897818, 0.04144321228494142, 0.9921624130026943, 0.9973784314721696, 0.9974268654784189, 0.9975437701671812, 0.9885276746847173, 0.9922290336075771, 0.9958733710265024, 0.2191466278458568, 0.7802948112693386, 0.9924244698204475, 0.9917652977219445, 0.17840027931661076, 0.8200153189640704, 0.9882246948170194, 0.9906781212528486, 0.18042837973650355, 0.2074926366969791, 0.14734984345147792, 0.4600923683280841, 0.9968276647366034, 0.9913597176856463, 0.9943157491675298, 0.993246133375103, 0.9882099922229904, 0.9931511618552542, 0.991212895121728, 0.9985579455966359, 0.9934587019026626, 0.8157095004550691, 0.0638381348182228, 0.040194381181843986, 0.07802438700005009, 0.9870532259821385, 0.9854097716046158, 0.9926486234157346, 0.09711342931749764, 0.19422685863499528, 0.2808248210837193, 0.11752580618041117, 0.15340210490916825, 0.03958763997655955, 0.03092784373168715, 0.030309286857053405, 0.055670118717036865, 0.9955151598844708, 0.9962136730512242, 0.10314552014254641, 0.8939278412354021, 0.03835253646881068, 0.4172291088576677, 0.15689674009968005, 0.1475991555011805, 0.12086859978049426, 0.09646244020943291, 0.023243961496248897, 0.9978881121354974, 0.9957240098021922, 0.9906939309491972, 0.058436498352205726, 0.011130761590896328, 0.09322012832375676, 0.6483668626697111, 0.1864402566475135, 0.9962493360121359, 0.9877395552514474, 0.9991944357112005, 0.9958927792162126, 0.9962326541946529, 0.9964353157274951, 0.3824596532206446, 0.6127579390309252, 0.9895980684526018, 0.5352708121710972, 0.1251282418062305, 0.22940177664475592, 0.1089079141646821, 0.9978019486431126, 0.994368423185695, 0.9960956675129852, 0.9983892637868877, 0.9933373688438599, 0.08535187002602217, 0.12396343027588934, 0.23573373626234692, 0.39017997726181564, 0.1625749905257565, 0.9934305941842713, 0.9956535551948151, 0.30039718619234007, 0.6966107162563748, 0.21593829193368388, 0.43422373921447305, 0.11501061200815772, 0.1337878547849998, 0.10092767992552616, 0.9887691220225455, 0.9959514279913838, 0.9969028458113698, 0.9883540630407075, 0.9953313147286, 0.9913696540554796, 0.2617933650755266, 0.6399393368512872, 0.09453649294394016, 0.9954654974274331, 0.9984987380126846, 0.9922885614696637, 0.7787686293359508, 0.18994356813071972, 0.030390970900915155, 0.003552548070976948, 0.9591879791637759, 0.03197293263879253, 0.9980937383913437, 0.2407246899742057, 0.7578369869558328, 0.9984970927646173, 0.9933960520653426, 0.8517579249346117, 0.0724900361646478, 0.0755104543381748, 0.9961418023716706, 0.9889558599784987, 0.035882678467417974, 0.005520412071910457, 0.0579643267550598, 0.8998271677214046, 0.9972746863472658, 0.15503019875644902, 0.683956759219628, 0.1580700065752029, 0.9926114624548898, 0.9964631700208489, 0.9945758416953019, 0.050872011309160386, 0.27877862197419895, 0.17398227867732852, 0.07936033764229021, 0.12107538691580172, 0.1688950775464125, 0.06002897334480926, 0.06613361470190851, 0.9956968558416369, 0.9914809572120042, 0.9966796218539534, 0.9951254966000315, 0.05272297121585804, 0.8303867966497641, 0.09226519962775157, 0.021967904673274183, 0.039118228276513275, 0.1103692869230196, 0.8494243854328598, 0.9928407506919873, 0.9938789887688559, 0.07390589357103945, 0.15785334876857882, 0.46753510932983655, 0.07912750561681942, 0.06547098180477952, 0.07752085575657942, 0.07832418068669941, 0.9990561645540383, 0.00044680508253758423, 0.990382215803417, 0.991638105913793, 0.9977382376806232, 0.9987158088368888, 0.9855898449372162, 0.006242794143611114, 0.986361474690556, 0.9919846781957501, 0.14852493114046905, 0.8436216088778642, 0.23840157629911116, 0.5654396360940457, 0.1956115497838861, 0.9862197207948176, 0.9979481305584285, 0.9976041068950275, 0.9906392203502724, 0.8075318349449048, 0.18600452377944438, 0.98923580837684, 0.9956473399130424, 0.16401112469132328, 0.33809310791632435, 0.0791281741931823, 0.15969504246260427, 0.15106287800516618, 0.03021257560103324, 0.07768948011694261, 0.9887548862153417, 0.992583069757384, 0.9921176365227821, 0.9940145655992741, 0.003138360476004623, 0.15691802380023115, 0.7218229094810633, 0.11298097713616642, 0.15077028145462731, 0.26324969777792073, 0.4403449490103401, 0.057436297697000885, 0.08136808840408459, 0.007179537212125111, 0.9893834948127094, 0.9850633358453629, 0.9915857303365218, 0.9941184549188132, 0.2472745910174422, 0.4755280596489273, 0.2742211810642147, 0.9882362418070846, 0.1157339341480048, 0.8830070531292218, 0.9867380261312408, 0.012107215044555102, 0.9987477812942338, 0.9875914602389955, 0.9933071395462428, 0.9987346680543054, 0.989613003318523, 0.9489920974256199, 0.017990371515177628, 0.03148315015156085, 0.01226282179806495, 0.9810257438451959, 0.996816921189598, 0.99533746547331, 0.9944184475438713, 0.9877281327736582, 0.993980129315152, 0.09093876614298957, 0.9023923717265888, 0.9977216221125467, 0.9974913217419472, 0.9929712742804434, 0.9924309877282587, 0.002655436873613084, 0.2509387845564364, 0.7461777614852766, 0.9914372130944374, 0.9963077975225976, 0.9866186200749103, 0.9898832555927582, 0.9902991622383741, 0.10507448550146282, 0.1699076786832165, 0.34205098471752793, 0.38005664968614217, 0.9986678573195673, 0.9916748508337008, 0.1935081322313089, 0.09083034778204295, 0.7147953455891206, 0.9920808148902308, 0.9934839202163346, 0.996441676010038, 0.0019774571049516543, 0.005932371314854963, 0.9907060095807788, 0.9951630063205585, 0.9954969838727339, 0.993614973009033, 0.9959824523821901, 0.9990381374354934, 0.995445636604447, 0.98859870135565, 0.9979186189580612, 0.9950951606802461, 0.09513889986083876, 0.9017513117244716, 0.9922847143289841, 0.07850329541494629, 0.9093298385564611, 0.23782851357242749, 0.7600172064162356, 0.23299195460098418, 0.7625191241486755, 0.9937718127915587, 0.9492226475105912, 0.043542323280302345, 0.9915333618119687, 0.9986656537341148, 0.08317832435857758, 0.10354852624231087, 0.31743564602151036, 0.003395033647288881, 0.4905823620332433, 0.9959511959008434, 0.9949093605620608, 0.990546403509868, 0.996032693373353, 0.9955946227844688, 0.9984452529287718, 0.9852319222079458, 0.9948502962839669, 0.9963593615462311, 0.9924582512531973, 0.07462335788130182, 0.37138136247903697, 0.3601010874504681, 0.047724240505483725, 0.06594622324394114, 0.07896192519998216, 0.9981083605319608, 0.8733000769508851, 0.11644001026011802, 0.9939326527243763, 0.3495550203584124, 0.6450551406614002, 0.9926985177941913, 0.9932323650378863, 0.9974394022670245, 0.9918728557088156, 0.991353082124961, 0.9970184943420711, 0.9960363813463978, 0.9956725748329341, 0.9959164385951469, 0.9969442389652771, 0.9986341911568924, 0.07813158086276298, 0.46878948517657787, 0.17440085014009593, 0.06836513325491761, 0.10464051008405756, 0.07534116726052144, 0.009766447607845372, 0.019532895215690745, 0.9919917972431772, 0.9890083953437877, 0.9909959003460345, 0.9953817751760473, 0.9927099039707212, 0.9913318898072467, 0.99911397086241, 0.9945293980102954, 0.9924655379325348, 0.9952512243610823, 0.9172446510005628, 0.07885813741633799, 0.9906320750221971, 0.8612947828617704, 0.13350069134357442, 0.9958873087010904, 0.9946708928372936, 0.9943040987950921, 0.9933429256968096, 0.995263188810061, 0.994855706331304, 0.9895198125132545, 0.05755163542269509, 0.11510327084539018, 0.13871419819829073, 0.12543305156228418, 0.1519953448342973, 0.4087641797970908, 0.006704976200610428, 0.844827001276914, 0.14080450021281898, 0.08506109846676838, 0.9094994374523696, 0.9871440020133273, 0.9939717854802061, 0.9866123659207721, 0.9928768630611113, 0.4369402603042063, 0.5605193238245878, 0.9912484186627307, 0.9893615352327709, 0.006145102703309136, 0.995650283638122], \"Term\": [\"airlangga\", \"akn\", \"akselerasi\", \"alir_listrik\", \"amat\", \"anak_usaha\", \"andal\", \"anggar\", \"apbn\", \"apresiasi\", \"apresiasi\", \"arah\", \"arsjad_rasjid\", \"asia_tenggara\", \"atur\", \"atur\", \"baca\", \"baca\", \"badan\", \"badan_usaha\", \"bagus\", \"bahan_bakar\", \"bahas_ruu\", \"baik\", \"bakar\", \"bal\", \"banding\", \"bang\", \"banget\", \"banget\", \"bangkit\", \"bangkit\", \"bangkit\", \"bangkit\", \"bangkit\", \"bangkit\", \"bangkit\", \"bangkit_listrik\", \"bangkit_listrik\", \"bangun\", \"bangun\", \"bangun\", \"bangun\", \"bangun\", \"bangun\", \"bangun\", \"bangun_infrastruktur\", \"bank\", \"banyak\", \"bas\", \"bas\", \"bas\", \"bas\", \"baterai\", \"batu\", \"batu\", \"baur\", \"baur\", \"bawah\", \"beban\", \"beli\", \"beli\", \"beli_listrik\", \"bener\", \"besar\", \"besar\", \"besar\", \"biaya\", \"bidang\", \"bidang\", \"bidang\", \"bidang\", \"buka_peluang\", \"bukit_asam\", \"bukti\", \"bumi\", \"bumi\", \"bumi\", \"bumi\", \"bumn\", \"bumn\", \"butuh\", \"butuh\", \"butuh\", \"butuh\", \"butuh\", \"butuh\", \"butuh\", \"cak\", \"capai\", \"capai\", \"capai\", \"capai\", \"capai\", \"capai\", \"capai_persen\", \"capai_target\", \"cepat\", \"cepat\", \"cepat\", \"cepat\", \"cepat_transisi\", \"contoh\", \"contoh\", \"contoh\", \"daerah\", \"daerah\", \"daerah_pencil\", \"dampak\", \"dampak\", \"dampak_positif\", \"dana\", \"dana\", \"darmawan_prasodjo\", \"dasamuka_pln\", \"data\", \"data\", \"den\", \"depan\", \"desa\", \"dirjen_ebtke\", \"dirut\", \"doang\", \"dpr_ri\", \"dukung\", \"dukung\", \"dukung\", \"dukung\", \"dukung\", \"dukung\", \"e_hal\", \"e_hal\", \"efisien\", \"eksplorasi\", \"ekspor\", \"emang\", \"emg\", \"emisi\", \"emisi_karbon\", \"emission\", \"emission\", \"energy\", \"energy\", \"energy\", \"energy\", \"energy\", \"erick\", \"erick_thohir\", \"eropa\", \"esdm\", \"esdm\", \"esdm\", \"esdm\", \"esdm\", \"esdm\", \"esdm\", \"fasilitas\", \"fasilitas\", \"fasilitas\", \"firing_pltu\", \"fokus\", \"fokus\", \"gandeng\", \"garap\", \"gas_bumi\", \"gencar\", \"generasi_muda\", \"genjot\", \"genjot\", \"gin\", \"global\", \"green\", \"green\", \"guna\", \"guna\", \"guna\", \"guna\", \"guna\", \"guna\", \"guna\", \"guna\", \"habis\", \"hadir\", \"hambat\", \"hambat_kembang\", \"harga\", \"harga\", \"harga\", \"harga\", \"harga\", \"harga\", \"harga\", \"harga_listrik\", \"heroes\", \"heroes\", \"heroes\", \"heroes\", \"heroes\", \"heroes\", \"heroes\", \"hijau\", \"hijau\", \"hijau\", \"hilang\", \"hilir\", \"id\", \"id\", \"iklim\", \"indo\", \"indonesia\", \"indonesia\", \"indonesia\", \"indonesia\", \"indonesia\", \"indonesia\", \"indonesia\", \"indonesia\", \"indonesia_timur\", \"infrastruktur\", \"infrastruktur\", \"inggris\", \"investasi\", \"investasi\", \"investasi\", \"investasi\", \"investasi\", \"investasi\", \"investasi_sektor\", \"investor\", \"isi\", \"isu\", \"jadi\", \"jalan_lancar\", \"jangka\", \"jangka_pendek\", \"jenis\", \"jerman\", \"jual\", \"kabar\", \"kaji\", \"kalah\", \"kapasitas\", \"kapasitas_bangkit\", \"karbon\", \"karbon\", \"karbon\", \"kawasan_industri\", \"kejar\", \"kejar_target\", \"kembang\", \"kembang\", \"kembang\", \"kembang\", \"kembang\", \"kembang\", \"kembang\", \"kembang\", \"kendara\", \"kendara_listrik\", \"keren\", \"keren_banget\", \"kerja\", \"komisi\", \"komisi_vii\", \"komitmen\", \"komitmen\", \"kompetitif\", \"konversi_pltd\", \"kuat\", \"kuat\", \"kunci\", \"kunjung\", \"kurang\", \"kurang\", \"kurang\", \"kurang\", \"kurang_emisi\", \"laksana\", \"laku\", \"laku_usaha\", \"lancar\", \"langkah\", \"langkah_strategis\", \"larang_ekspor\", \"libat\", \"lingkung\", \"lingkung\", \"lingkung\", \"lingkung\", \"link\", \"liput\", \"lirik\", \"listrik\", \"listrik\", \"listrik\", \"listrik\", \"listrik\", \"listrik\", \"listrik\", \"listrik\", \"listrik\", \"luas\", \"mahal\", \"maju\", \"maju\", \"manfaat\", \"manfaat\", \"manfaat\", \"manfaat\", \"manfaat\", \"manfaat\", \"manfaat\", \"mantap\", \"masif\", \"menko_airlangga\", \"menteri\", \"menteri\", \"menteri\", \"menteri\", \"menteri\", \"menteri_bumn\", \"menteri_bumn_erick_thohir\", \"menteri_esdm\", \"menteri_jonan\", \"mesti\", \"micho\", \"migas\", \"migas\", \"miliar\", \"milik\", \"milik\", \"milik\", \"milik\", \"milik_potensi\", \"mimin\", \"mobil\", \"mobil_listrik\", \"mobile\", \"moga\", \"moga\", \"moga\", \"moga\", \"moga\", \"moga_lancar\", \"mudah\", \"murah\", \"murah\", \"negara\", \"negara\", \"negara\", \"negara\", \"negara\", \"negara_maju\", \"net\", \"net_zero\", \"niat\", \"nila_rp\", \"ntt\", \"nuklir\", \"nuklir\", \"nuklir\", \"online\", \"operasi\", \"optimis\", \"pake\", \"pake\", \"pake\", \"panas\", \"panas\", \"panas\", \"panas_bumi\", \"panel\", \"panel\", \"panel_surya\", \"pangan\", \"pasang\", \"pasang\", \"pasang\", \"pasang_plts\", \"pasar\", \"pasok\", \"pasok\", \"pasok\", \"pasok\", \"pasok_listrik\", \"penuh\", \"penuh\", \"penuh\", \"penuh_butuh\", \"penuh_target\", \"percaya\", \"perintah\", \"perintah\", \"perintah\", \"perintah\", \"perintah\", \"perintah\", \"perintah\", \"perintah\", \"perintah_serius\", \"perintah_siap\", \"permen\", \"permen_esdm\", \"persen\", \"persen\", \"persen\", \"persen\", \"pertamina\", \"pertamina\", \"pertamina\", \"pertamina_alokasi\", \"pimpin\", \"pln\", \"pln\", \"pln\", \"pln\", \"pln\", \"pln\", \"pln\", \"pln_id\", \"pln_id\", \"pln_persero\", \"plt\", \"plta\", \"plta_poso\", \"pltb\", \"pltd\", \"pltd\", \"pltn\", \"pltp\", \"pltp\", \"plts\", \"plts\", \"plts\", \"plts_apung\", \"plts_atap\", \"pltu\", \"polusi_udara\", \"porsi\", \"porsi\", \"positif\", \"poso\", \"potensi\", \"potensi\", \"potensi\", \"potensi\", \"potensi\", \"potensi\", \"potensi\", \"power\", \"pres\", \"presiden_joko\", \"presiden_jokowi\", \"prioritas\", \"prioritas\", \"prioritas\", \"prioritas\", \"program\", \"program\", \"program\", \"program\", \"program\", \"program\", \"program_firing\", \"program_konversi\", \"proses\", \"provinsi\", \"proyek\", \"proyek\", \"proyek\", \"proyeksi\", \"pulau\", \"pulau\", \"ramah\", \"ramah\", \"ramah_lingkung\", \"rancang\", \"realisasi\", \"rencana\", \"rendah\", \"renewable\", \"renewable\", \"renewable\", \"renewable_content\", \"renewable_content\", \"renewable_energy\", \"republika_online\", \"resmi\", \"resmi_operasi\", \"ribu\", \"riset\", \"riset\", \"rp\", \"rp_triliun\", \"rumah_tangga\", \"ruptl\", \"ruu\", \"ruu\", \"ruu\", \"saham\", \"salah_satu\", \"satu\", \"sebab\", \"sehat\", \"sektor\", \"sektor\", \"sektor\", \"sektor\", \"selesai\", \"sepakat\", \"serius\", \"serius\", \"serius\", \"sesuai\", \"siap\", \"simak\", \"simak_bawah\", \"simak_bawah\", \"simak_bawah\", \"simak_lengkap\", \"sinergi\", \"sinergi_bumn\", \"singapura\", \"sistem\", \"smart_grid\", \"sob\", \"sobat\", \"solar_panel\", \"strategi\", \"strategi\", \"strategis\", \"subholding_power\", \"subholding_power\", \"sukses\", \"sukses\", \"sulawesi\", \"sulawesi\", \"sulawesi_selatan\", \"sulit\", \"sulit\", \"sulit_capai\", \"sumber_daya\", \"surya\", \"surya\", \"surya\", \"surya\", \"surya\", \"swasta\", \"tahan_pangan\", \"tahap\", \"tahu\", \"tambah\", \"tambah_kapasitas\", \"tanah\", \"tanah_air\", \"tangan\", \"tantang\", \"target\", \"target\", \"target\", \"target\", \"target\", \"target\", \"target_baur\", \"tarif\", \"tarif\", \"tarif_listrik\", \"tekan\", \"tekan\", \"tekan_emisi\", \"tenaga_biogas\", \"tenaga_surya\", \"terbit\", \"terobos\", \"thohir\", \"tim\", \"timur\", \"tinggal\", \"tinggi\", \"tinggi_indonesia\", \"tingkat\", \"tingkat\", \"tingkat\", \"tingkat\", \"tingkat\", \"tingkat\", \"tingkat\", \"tingkat\", \"tingkat_baur\", \"tingkat_porsi\", \"top\", \"total\", \"total_daya\", \"total_kapasitas\", \"transisi\", \"trending\", \"triliun\", \"tuju\", \"tumbuh\", \"tumbuh\", \"tumbuh_ekonomi\", \"turun\", \"turun\", \"turun_emisi\", \"ubah\", \"ubah_iklim\", \"udien\", \"udien_pln\", \"untung\", \"us_miliar\", \"usaha\", \"usaha\", \"usaha\", \"usaha\", \"usaha\", \"usaha\", \"usul\", \"usul\", \"usul\", \"uu\", \"uu\", \"via_id\", \"vii\", \"wajib\", \"wilayah\", \"wujud\", \"wujud\", \"wujud_komitmen\", \"yantie_pln\", \"yantie_pln\", \"zero\"]}, \"R\": 30, \"lambda.step\": 0.01, \"plot.opts\": {\"xlab\": \"PC1\", \"ylab\": \"PC2\"}, \"topic.order\": [3, 6, 1, 9, 5, 4, 8, 7, 2]};\n",
              "\n",
              "function LDAvis_load_lib(url, callback){\n",
              "  var s = document.createElement('script');\n",
              "  s.src = url;\n",
              "  s.async = true;\n",
              "  s.onreadystatechange = s.onload = callback;\n",
              "  s.onerror = function(){console.warn(\"failed to load library \" + url);};\n",
              "  document.getElementsByTagName(\"head\")[0].appendChild(s);\n",
              "}\n",
              "\n",
              "if(typeof(LDAvis) !== \"undefined\"){\n",
              "   // already loaded: just create the visualization\n",
              "   !function(LDAvis){\n",
              "       new LDAvis(\"#\" + \"ldavis_el1200824137838600486009811837\", ldavis_el1200824137838600486009811837_data);\n",
              "   }(LDAvis);\n",
              "}else if(typeof define === \"function\" && define.amd){\n",
              "   // require.js is available: use it to load d3/LDAvis\n",
              "   require.config({paths: {d3: \"https://d3js.org/d3.v5\"}});\n",
              "   require([\"d3\"], function(d3){\n",
              "      window.d3 = d3;\n",
              "      LDAvis_load_lib(\"https://cdn.jsdelivr.net/gh/bmabey/pyLDAvis@3.3.1/pyLDAvis/js/ldavis.v3.0.0.js\", function(){\n",
              "        new LDAvis(\"#\" + \"ldavis_el1200824137838600486009811837\", ldavis_el1200824137838600486009811837_data);\n",
              "      });\n",
              "    });\n",
              "}else{\n",
              "    // require.js not available: dynamically load d3 & LDAvis\n",
              "    LDAvis_load_lib(\"https://d3js.org/d3.v5.js\", function(){\n",
              "         LDAvis_load_lib(\"https://cdn.jsdelivr.net/gh/bmabey/pyLDAvis@3.3.1/pyLDAvis/js/ldavis.v3.0.0.js\", function(){\n",
              "                 new LDAvis(\"#\" + \"ldavis_el1200824137838600486009811837\", ldavis_el1200824137838600486009811837_data);\n",
              "            })\n",
              "         });\n",
              "}\n",
              "</script>"
            ],
            "text/plain": [
              "PreparedData(topic_coordinates=                x           y  topics  cluster       Freq\n",
              "topic                                                    \n",
              "2      111.092506 -133.722946       1        1  17.218917\n",
              "5       34.946613  107.064590       2        1  13.093613\n",
              "0      -28.088213 -159.949036       3        1  12.247491\n",
              "8      147.698074   21.369604       4        1  11.950502\n",
              "4      -97.501183  126.981384       5        1  11.551351\n",
              "3       30.312096  -32.794945       6        1  10.291714\n",
              "7     -155.443665 -118.494690       7        1   9.010707\n",
              "6     -204.248108   22.596130       8        1   7.853000\n",
              "1      -79.404678   -6.864717       9        1   6.782706, topic_info=                   Term         Freq        Total Category  logprob  loglift\n",
              "7140             pln_id  2238.000000  2238.000000  Default  30.0000  30.0000\n",
              "357        menteri_esdm  1370.000000  1370.000000  Default  29.0000  29.0000\n",
              "10440  tinggi_indonesia  1000.000000  1000.000000  Default  28.0000  28.0000\n",
              "783     bangkit_listrik  1446.000000  1446.000000  Default  27.0000  27.0000\n",
              "3661           transisi  1104.000000  1104.000000  Default  26.0000  26.0000\n",
              "...                 ...          ...          ...      ...      ...      ...\n",
              "1104               dana   213.574658   261.364117   Topic9  -4.4577   2.4889\n",
              "303                baca   132.384096   155.339528   Topic9  -4.9360   2.5309\n",
              "762              serius   180.848702   253.219332   Topic9  -4.6240   2.3542\n",
              "320               tekan   179.373521   277.495657   Topic9  -4.6322   2.2545\n",
              "5272             heroes   120.121208   169.235002   Topic9  -5.0332   2.3480\n",
              "\n",
              "[435 rows x 6 columns], token_table=       Topic      Freq            Term\n",
              "term                                  \n",
              "1323       2  0.993035       airlangga\n",
              "678        2  0.989583             akn\n",
              "3655       3  0.992060      akselerasi\n",
              "2836       9  0.988162    alir_listrik\n",
              "3574       1  0.992123            amat\n",
              "...      ...       ...             ...\n",
              "2013       6  0.560519           wujud\n",
              "6645       6  0.991248  wujud_komitmen\n",
              "10521      3  0.989362      yantie_pln\n",
              "10521      7  0.006145      yantie_pln\n",
              "2571       4  0.995650            zero\n",
              "\n",
              "[631 rows x 3 columns], R=30, lambda_step=0.01, plot_opts={'xlab': 'PC1', 'ylab': 'PC2'}, topic_order=[3, 6, 1, 9, 5, 4, 8, 7, 2])"
            ]
          },
          "execution_count": 23,
          "metadata": {},
          "output_type": "execute_result"
        }
      ],
      "source": [
        "import pyLDAvis.gensim_models as gensimvis\n",
        "pyLDAvis.enable_notebook()\n",
        "panel = gensimvis.prepare(model, corpus_tfidf, dictionary, mds='tsne')\n",
        "panel"
      ]
    },
    {
      "cell_type": "code",
      "execution_count": null,
      "metadata": {},
      "outputs": [],
      "source": []
    }
  ],
  "metadata": {
    "accelerator": "TPU",
    "colab": {
      "collapsed_sections": [],
      "name": "Data Kualitatif- LDA.ipynb",
      "provenance": []
    },
    "kernelspec": {
      "display_name": "Python 3.9.2 ('venv': venv)",
      "language": "python",
      "name": "python3"
    },
    "language_info": {
      "codemirror_mode": {
        "name": "ipython",
        "version": 3
      },
      "file_extension": ".py",
      "mimetype": "text/x-python",
      "name": "python",
      "nbconvert_exporter": "python",
      "pygments_lexer": "ipython3",
      "version": "3.9.2"
    },
    "vscode": {
      "interpreter": {
        "hash": "58c1471dee2bb56ac69a6c3088a67817a3dc7b2931901bb43f222b8d3b436586"
      }
    }
  },
  "nbformat": 4,
  "nbformat_minor": 0
}
