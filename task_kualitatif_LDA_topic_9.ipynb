{
  "cells": [
    {
      "cell_type": "code",
      "execution_count": 1,
      "metadata": {
        "id": "xLTR8avada_P"
      },
      "outputs": [],
      "source": [
        "import warnings\n",
        "warnings.filterwarnings('ignore')\n",
        "import pandas as pd #a library to make the data more structured55r56y6y"
      ]
    },
    {
      "cell_type": "code",
      "execution_count": 2,
      "metadata": {
        "colab": {
          "base_uri": "https://localhost:8080/",
          "height": 372
        },
        "id": "SqJ6bJwOdmxH",
        "outputId": "4c42ea1b-af2c-4219-d627-0e55f2195cc1"
      },
      "outputs": [],
      "source": [
        "df = pd.read_csv('data/text-preprocessing.csv')\n",
        "df = df.drop(columns=['Unnamed: 0'])"
      ]
    },
    {
      "cell_type": "code",
      "execution_count": 3,
      "metadata": {
        "colab": {
          "base_uri": "https://localhost:8080/"
        },
        "id": "MxWR5yAqMP_S",
        "outputId": "d9a66715-3b7c-449c-9244-5372b4ced4b5"
      },
      "outputs": [
        {
          "data": {
            "text/plain": [
              "(109705, 23)"
            ]
          },
          "execution_count": 3,
          "metadata": {},
          "output_type": "execute_result"
        }
      ],
      "source": [
        "df.shape"
      ]
    },
    {
      "cell_type": "code",
      "execution_count": 4,
      "metadata": {
        "colab": {
          "base_uri": "https://localhost:8080/"
        },
        "id": "Oy0uwRRPcksH",
        "outputId": "ba7c1c66-ad10-4e2d-cc0c-781bcecd9334"
      },
      "outputs": [
        {
          "name": "stdout",
          "output_type": "stream",
          "text": [
            "<class 'pandas.core.frame.DataFrame'>\n",
            "RangeIndex: 109705 entries, 0 to 109704\n",
            "Data columns (total 23 columns):\n",
            " #   Column                       Non-Null Count   Dtype  \n",
            "---  ------                       --------------   -----  \n",
            " 0   tweet_id                     109705 non-null  int64  \n",
            " 1   author_name                  109705 non-null  object \n",
            " 2   author_username              109705 non-null  object \n",
            " 3   author_location              78272 non-null   object \n",
            " 4   content                      109705 non-null  object \n",
            " 5   content_clean                109437 non-null  object \n",
            " 6   like_count                   109604 non-null  float64\n",
            " 7   retweet_count                17012 non-null   float64\n",
            " 8   reply_count                  16620 non-null   float64\n",
            " 9   source                       109705 non-null  object \n",
            " 10  keyword                      109705 non-null  object \n",
            " 11  address                      64928 non-null   object \n",
            " 12  longitude                    66438 non-null   float64\n",
            " 13  latitude                     66438 non-null   float64\n",
            " 14  province                     64297 non-null   object \n",
            " 15  city                         41183 non-null   object \n",
            " 16  country                      66419 non-null   object \n",
            " 17  created_at                   109705 non-null  object \n",
            " 18  content_token                109705 non-null  object \n",
            " 19  tweet_tokens_fdist           109705 non-null  object \n",
            " 20  tweet_tokens_WSW             109705 non-null  object \n",
            " 21  tweet_tokens_stemmed         109705 non-null  object \n",
            " 22  tweet_tokens_stemmed_string  109404 non-null  object \n",
            "dtypes: float64(5), int64(1), object(17)\n",
            "memory usage: 19.3+ MB\n"
          ]
        }
      ],
      "source": [
        "df.info()"
      ]
    },
    {
      "cell_type": "code",
      "execution_count": 5,
      "metadata": {
        "id": "3PYA4slIdNBD"
      },
      "outputs": [],
      "source": [
        "df_new = df[df['tweet_tokens_stemmed_string'].notnull()]"
      ]
    },
    {
      "cell_type": "code",
      "execution_count": 6,
      "metadata": {
        "colab": {
          "base_uri": "https://localhost:8080/"
        },
        "id": "uiih8RfJcG3C",
        "outputId": "cdec65c1-675f-4022-e661-e57038cd2a71"
      },
      "outputs": [
        {
          "data": {
            "text/plain": [
              "0    lomba poster ilmiah energi baru deadline janua...\n",
              "1                 elaahhh ngomong energi baru tv biruu\n",
              "2    daerah pencil membutuhkam listrik manfaat ener...\n",
              "3    tarik materi energi baru baek ganti nama propa...\n",
              "4    aneh inget jatropa alias minyak jarak bbrp jat...\n",
              "Name: tweet_tokens_stemmed_string, dtype: object"
            ]
          },
          "execution_count": 6,
          "metadata": {},
          "output_type": "execute_result"
        }
      ],
      "source": [
        "df_new['tweet_tokens_stemmed_string'].head()"
      ]
    },
    {
      "cell_type": "code",
      "execution_count": 7,
      "metadata": {
        "colab": {
          "base_uri": "https://localhost:8080/"
        },
        "id": "GGejGqbRh6W4",
        "outputId": "89c44e3a-3677-4a98-9a81-d3184e372c0d"
      },
      "outputs": [
        {
          "name": "stdout",
          "output_type": "stream",
          "text": [
            "Case Folding Result : \n",
            "\n",
            "0    lomba poster ilmiah energi baru deadline janua...\n",
            "1                 elaahhh ngomong energi baru tv biruu\n",
            "2    daerah pencil membutuhkam listrik manfaat ener...\n",
            "3    tarik materi energi baru baek ganti nama propa...\n",
            "4    aneh inget jatropa alias minyak jarak bbrp jat...\n",
            "Name: tweet_tokens_stemmed_string, dtype: object\n"
          ]
        }
      ],
      "source": [
        "#lower text\n",
        "# ------ Case Folding --------\n",
        "# gunakan fungsi Series.str.lower() pada Pandas\n",
        "df_new['tweet_tokens_stemmed_string'] = df_new['tweet_tokens_stemmed_string'].str.lower()\n",
        "\n",
        "\n",
        "print('Case Folding Result : \\n')\n",
        "print(df_new['tweet_tokens_stemmed_string'].head(5))\n"
      ]
    },
    {
      "cell_type": "code",
      "execution_count": 8,
      "metadata": {
        "colab": {
          "base_uri": "https://localhost:8080/"
        },
        "id": "Aox9mh-NFJaY",
        "outputId": "dc62a84f-cf29-41fc-a1b4-83dbeff37ddc"
      },
      "outputs": [
        {
          "name": "stdout",
          "output_type": "stream",
          "text": [
            "109404\n"
          ]
        }
      ],
      "source": [
        "text = df_new['tweet_tokens_stemmed_string']\n",
        "text_list =  [i.split() for i in text]\n",
        "#text_list =  [i for i in text]\n",
        "print(len(text_list))"
      ]
    },
    {
      "cell_type": "code",
      "execution_count": 9,
      "metadata": {
        "colab": {
          "base_uri": "https://localhost:8080/"
        },
        "id": "Z4Y-nzFZdmOz",
        "outputId": "a63b5e1c-301a-4d94-f1bb-9d06647e3422"
      },
      "outputs": [
        {
          "name": "stdout",
          "output_type": "stream",
          "text": [
            "Frequency Tokens : \n",
            "\n"
          ]
        },
        {
          "data": {
            "text/plain": [
              "0    [( , 11), (a, 10), (e, 6), (i, 6), (s, 5), (r,...\n",
              "1    [( , 5), (e, 3), (a, 3), (h, 3), (n, 3), (g, 3...\n",
              "2    [(a, 7), ( , 6), (e, 5), (r, 4), (i, 4), (m, 4...\n",
              "3    [(a, 10), ( , 8), (r, 5), (i, 5), (e, 4), (t, ...\n",
              "4    [(a, 12), ( , 12), (r, 8), (e, 7), (b, 6), (i,...\n",
              "Name: tweet_tokens_stemmed_string, dtype: object"
            ]
          },
          "execution_count": 9,
          "metadata": {},
          "output_type": "execute_result"
        }
      ],
      "source": [
        "#masi salah hasil frekuensi nya\n",
        "# NLTK calc frequency distribution\n",
        "from nltk.probability import FreqDist\n",
        "def freqDist_wrapper(text):\n",
        "    return FreqDist(text)\n",
        "\n",
        "df_new['tweet_tokens_stemmed_string'] = df_new['tweet_tokens_stemmed_string'].apply(freqDist_wrapper)\n",
        "\n",
        "print('Frequency Tokens : \\n') \n",
        "df_new['tweet_tokens_stemmed_string'].head().apply(lambda x : x.most_common())"
      ]
    },
    {
      "cell_type": "code",
      "execution_count": 10,
      "metadata": {
        "id": "fHH5EmZWfh7Q"
      },
      "outputs": [],
      "source": [
        "#https://sites.unpad.ac.id/widodo/2021/03/09/nlp-dengan-python/"
      ]
    },
    {
      "cell_type": "code",
      "execution_count": 11,
      "metadata": {
        "id": "qnLvYqUHc5Jj"
      },
      "outputs": [],
      "source": [
        "import gensim\n",
        "#Create Bigram & Trigram Models \n",
        "from gensim.models import Phrases\n",
        "# Add bigrams and trigrams to docs,minimum count 10 means only that appear 10 times or more.\n",
        "bigram = Phrases(text_list, min_count=10)\n",
        "trigram = Phrases(bigram[text_list])\n",
        "for idx in range(len(text_list)):\n",
        "    for token in bigram[text_list[idx]]:\n",
        "        if '_' in token:\n",
        "            # Token is a bigram, add to document.\n",
        "            text_list[idx].append(token)\n",
        "    for token in trigram[text_list[idx]]:\n",
        "        if '_' in token:\n",
        "            # Token is a bigram, add to document.\n",
        "            text_list[idx].append(token)"
      ]
    },
    {
      "cell_type": "code",
      "execution_count": 12,
      "metadata": {
        "colab": {
          "base_uri": "https://localhost:8080/"
        },
        "id": "EO5hqr3Ufk0S",
        "outputId": "0ff90687-35bf-4851-e1fd-5e3d61b8f9dd"
      },
      "outputs": [
        {
          "name": "stdout",
          "output_type": "stream",
          "text": [
            "Dictionary<16354 unique tokens: ['deadline', 'derajat', 'ilmiah', 'januari', 'lomba']...>\n"
          ]
        }
      ],
      "source": [
        "from gensim import corpora, models\n",
        "# Create a dictionary representation of the documents.\n",
        "dictionary = corpora.Dictionary(text_list)\n",
        "dictionary.filter_extremes(no_below=5, no_above=0.2) \n",
        "#no_below (int, optional) – Keep tokens which are contained in at least no_below documents.\n",
        "#no_above (float, optional) – Keep tokens which are contained in no more than no_above documents (fraction of total corpus size, not an absolute number).\n",
        "print(dictionary)"
      ]
    },
    {
      "cell_type": "code",
      "execution_count": 13,
      "metadata": {
        "colab": {
          "base_uri": "https://localhost:8080/"
        },
        "id": "oF92M3p_fqlQ",
        "outputId": "3b77b4e1-2901-4b52-9698-4ea50bb0fa14"
      },
      "outputs": [
        {
          "name": "stdout",
          "output_type": "stream",
          "text": [
            "109404\n",
            "[(35, 1), (188, 1)]\n"
          ]
        }
      ],
      "source": [
        "#https://radimrehurek.com/gensim/tut1.html \n",
        "#build corpus\n",
        "# Converting list of documents (corpus) into Document Term Matrix using dictionary prepared above.\n",
        "doc_term_matrix = [dictionary.doc2bow(doc) for doc in text_list]\n",
        "#The function doc2bow converts document (a list of words) into the bag-of-words format\n",
        "'''The function doc2bow() simply counts the number of occurrences of each distinct word, \n",
        "converts the word to its integer word id and returns the result as a sparse vector. \n",
        "The sparse vector [(0, 1), (1, 1)] therefore reads: in the document “Human computer interaction”, \n",
        "the words computer (id 0) and human (id 1) appear once; \n",
        "the other ten dictionary words appear (implicitly) zero times.'''\n",
        "print(len(doc_term_matrix))\n",
        "print(doc_term_matrix[100])\n",
        "tfidf = models.TfidfModel(doc_term_matrix) #build TF-IDF model\n",
        "corpus_tfidf = tfidf[doc_term_matrix]"
      ]
    },
    {
      "cell_type": "code",
      "execution_count": 14,
      "metadata": {
        "id": "m5ZUrlyFfx85"
      },
      "outputs": [],
      "source": [
        "from gensim.models.coherencemodel import CoherenceModel\n",
        "from gensim.models.ldamodel import LdaModel\n",
        "from gensim.corpora.dictionary import Dictionary\n",
        "from numpy import array\n",
        "#function to compute coherence values\n",
        "def compute_coherence_values(dictionary, corpus, texts, limit, start, step):\n",
        "    coherence_values = []\n",
        "    model_list = []\n",
        "    for num_topics in range(start, limit, step):\n",
        "        model = LdaModel(corpus=corpus, id2word=dictionary, num_topics=num_topics, iterations=100, random_state=1)\n",
        "        model_list.append(model)\n",
        "        coherencemodel = CoherenceModel(model=model, texts=texts, dictionary=dictionary, coherence='c_v')\n",
        "        coherence_values.append(coherencemodel.get_coherence())\n",
        "        \n",
        "    return model_list, coherence_values"
      ]
    },
    {
      "cell_type": "code",
      "execution_count": 15,
      "metadata": {
        "colab": {
          "base_uri": "https://localhost:8080/",
          "height": 279
        },
        "id": "IBkB1bzOf3AP",
        "outputId": "73fe3950-434a-4fa4-8f87-77a708f4fe7c"
      },
      "outputs": [
        {
          "data": {
            "image/png": "[encoded data removed]",
            "text/plain": [
              "<Figure size 432x288 with 1 Axes>"
            ]
          },
          "metadata": {
            "needs_background": "light"
          },
          "output_type": "display_data"
        }
      ],
      "source": [
        "start=1\n",
        "limit=21\n",
        "step=1\n",
        "model_list, coherence_values = compute_coherence_values(dictionary, corpus=corpus_tfidf, \n",
        "                                                        texts=text_list, start=start, limit=limit, step=step)\n",
        "#show graphs\n",
        "import matplotlib.pyplot as plt\n",
        "x = range(start, limit, step)\n",
        "plt.plot(x, coherence_values)\n",
        "plt.xlabel(\"Num Topics\")\n",
        "plt.ylabel(\"Coherence score\")\n",
        "plt.legend((\"coherence_values\"), loc='best')\n",
        "plt.show()"
      ]
    },
    {
      "cell_type": "code",
      "execution_count": 16,
      "metadata": {
        "colab": {
          "base_uri": "https://localhost:8080/"
        },
        "id": "qaNFv0PIgDYh",
        "outputId": "af7077fa-f1e8-4fb7-e0d6-d84eb319f207"
      },
      "outputs": [
        {
          "name": "stdout",
          "output_type": "stream",
          "text": [
            "Num Topics = 1  has Coherence Value of 0.517\n",
            "Num Topics = 2  has Coherence Value of 0.539\n",
            "Num Topics = 3  has Coherence Value of 0.436\n",
            "Num Topics = 4  has Coherence Value of 0.435\n",
            "Num Topics = 5  has Coherence Value of 0.423\n",
            "Num Topics = 6  has Coherence Value of 0.402\n",
            "Num Topics = 7  has Coherence Value of 0.424\n",
            "Num Topics = 8  has Coherence Value of 0.386\n",
            "Num Topics = 9  has Coherence Value of 0.41\n",
            "Num Topics = 10  has Coherence Value of 0.369\n",
            "Num Topics = 11  has Coherence Value of 0.332\n",
            "Num Topics = 12  has Coherence Value of 0.363\n",
            "Num Topics = 13  has Coherence Value of 0.346\n",
            "Num Topics = 14  has Coherence Value of 0.352\n",
            "Num Topics = 15  has Coherence Value of 0.321\n",
            "Num Topics = 16  has Coherence Value of 0.322\n",
            "Num Topics = 17  has Coherence Value of 0.321\n",
            "Num Topics = 18  has Coherence Value of 0.327\n",
            "Num Topics = 19  has Coherence Value of 0.328\n",
            "Num Topics = 20  has Coherence Value of 0.313\n"
          ]
        }
      ],
      "source": [
        "# Print the coherence scores\n",
        "for m, cv in zip(x, coherence_values):\n",
        "    print(\"Num Topics =\", m, \" has Coherence Value of\", round(cv, 3))"
      ]
    },
    {
      "cell_type": "code",
      "execution_count": 17,
      "metadata": {
        "colab": {
          "base_uri": "https://localhost:8080/"
        },
        "id": "SWVlH8xAgPCu",
        "outputId": "7cc1b7d8-54f0-441e-cb60-e3aa1e8684fa"
      },
      "outputs": [],
      "source": [
        "model = LdaModel(corpus=corpus_tfidf, id2word=dictionary, num_topics=9, random_state=1) #num topic menyesuaikan hasil dari coherence value paling tinggi"
      ]
    },
    {
      "cell_type": "code",
      "execution_count": 18,
      "metadata": {},
      "outputs": [
        {
          "name": "stdout",
          "output_type": "stream",
          "text": [
            "Topic: 1 Word: 0.067*\"pln_id\" + 0.039*\"bangkit_listrik\" + 0.035*\"pln\" + 0.030*\"capai_target\" + 0.023*\"panas_bumi\" + 0.022*\"bangkit\" + 0.014*\"sobat\" + 0.014*\"listrik\" + 0.012*\"target\" + 0.011*\"capai\"\n",
            "Topic: 2 Word: 0.033*\"ekspor\" + 0.030*\"larang_ekspor\" + 0.030*\"pasok_listrik\" + 0.027*\"simak_bawah\" + 0.023*\"simak\" + 0.022*\"mantap\" + 0.020*\"depan\" + 0.018*\"inggris\" + 0.018*\"pasok\" + 0.015*\"hambat\"\n",
            "Topic: 3 Word: 0.017*\"target_baur\" + 0.015*\"kapasitas\" + 0.011*\"rencana\" + 0.011*\"renewable_energy\" + 0.010*\"sumber_daya\" + 0.010*\"milik_potensi\" + 0.010*\"beli_listrik\" + 0.010*\"tambah_kapasitas\" + 0.009*\"indonesia_timur\" + 0.009*\"keren\"\n",
            "Topic: 4 Word: 0.024*\"bumn\" + 0.023*\"erick_thohir\" + 0.020*\"ruu\" + 0.017*\"komitmen\" + 0.015*\"kurang_emisi\" + 0.015*\"menteri_bumn\" + 0.012*\"emisi\" + 0.012*\"erick\" + 0.011*\"cepat_transisi\" + 0.010*\"thohir\"\n",
            "Topic: 5 Word: 0.044*\"menteri_esdm\" + 0.015*\"esdm\" + 0.015*\"menteri\" + 0.014*\"pltu\" + 0.013*\"tenaga_surya\" + 0.012*\"bahan_bakar\" + 0.010*\"buka_peluang\" + 0.010*\"tanah_air\" + 0.009*\"kembang\" + 0.009*\"dampak_positif\"\n",
            "Topic: 6 Word: 0.025*\"ramah_lingkung\" + 0.017*\"baur\" + 0.017*\"kejar_target\" + 0.015*\"plta_poso\" + 0.013*\"plta\" + 0.012*\"target\" + 0.011*\"plts_atap\" + 0.011*\"pln\" + 0.011*\"guna\" + 0.011*\"persen\"\n",
            "Topic: 7 Word: 0.047*\"tinggi_indonesia\" + 0.035*\"mobil_listrik\" + 0.031*\"panel_surya\" + 0.025*\"sistem\" + 0.020*\"tinggi\" + 0.017*\"selesai\" + 0.017*\"mobil\" + 0.016*\"anggar\" + 0.014*\"den\" + 0.014*\"surya\"\n",
            "Topic: 8 Word: 0.025*\"pertamina\" + 0.019*\"operasi\" + 0.013*\"rp_triliun\" + 0.013*\"rp\" + 0.012*\"bangun_infrastruktur\" + 0.012*\"tinggal\" + 0.012*\"kembang\" + 0.011*\"uu\" + 0.011*\"usaha\" + 0.011*\"nuklir\"\n",
            "Topic: 9 Word: 0.034*\"transisi\" + 0.029*\"id\" + 0.015*\"net_zero\" + 0.012*\"indonesia\" + 0.010*\"tambah\" + 0.010*\"hijau\" + 0.009*\"proyek\" + 0.009*\"biaya\" + 0.008*\"butuh\" + 0.008*\"kuat\"\n"
          ]
        }
      ],
      "source": [
        "for idx, topic in model.print_topics():\n",
        "    print('Topic: {} Word: {}'.format(idx+1, topic))\n",
        "    # yg belum remove Yang, yg,trus lower text"
      ]
    },
    {
      "cell_type": "code",
      "execution_count": 19,
      "metadata": {},
      "outputs": [
        {
          "name": "stdout",
          "output_type": "stream",
          "text": [
            "1 0.067*\"pln_id\" + 0.039*\"bangkit_listrik\" + 0.035*\"pln\" + 0.030*\"capai_target\" + 0.023*\"panas_bumi\" + 0.022*\"bangkit\" + 0.014*\"sobat\" + 0.014*\"listrik\" + 0.012*\"target\" + 0.011*\"capai\" \n",
            "\n",
            "2 0.033*\"ekspor\" + 0.030*\"larang_ekspor\" + 0.030*\"pasok_listrik\" + 0.027*\"simak_bawah\" + 0.023*\"simak\" + 0.022*\"mantap\" + 0.020*\"depan\" + 0.018*\"inggris\" + 0.018*\"pasok\" + 0.015*\"hambat\" \n",
            "\n",
            "3 0.017*\"target_baur\" + 0.015*\"kapasitas\" + 0.011*\"rencana\" + 0.011*\"renewable_energy\" + 0.010*\"sumber_daya\" + 0.010*\"milik_potensi\" + 0.010*\"beli_listrik\" + 0.010*\"tambah_kapasitas\" + 0.009*\"indonesia_timur\" + 0.009*\"keren\" \n",
            "\n",
            "4 0.024*\"bumn\" + 0.023*\"erick_thohir\" + 0.020*\"ruu\" + 0.017*\"komitmen\" + 0.015*\"kurang_emisi\" + 0.015*\"menteri_bumn\" + 0.012*\"emisi\" + 0.012*\"erick\" + 0.011*\"cepat_transisi\" + 0.010*\"thohir\" \n",
            "\n",
            "5 0.044*\"menteri_esdm\" + 0.015*\"esdm\" + 0.015*\"menteri\" + 0.014*\"pltu\" + 0.013*\"tenaga_surya\" + 0.012*\"bahan_bakar\" + 0.010*\"buka_peluang\" + 0.010*\"tanah_air\" + 0.009*\"kembang\" + 0.009*\"dampak_positif\" \n",
            "\n",
            "6 0.025*\"ramah_lingkung\" + 0.017*\"baur\" + 0.017*\"kejar_target\" + 0.015*\"plta_poso\" + 0.013*\"plta\" + 0.012*\"target\" + 0.011*\"plts_atap\" + 0.011*\"pln\" + 0.011*\"guna\" + 0.011*\"persen\" \n",
            "\n",
            "7 0.047*\"tinggi_indonesia\" + 0.035*\"mobil_listrik\" + 0.031*\"panel_surya\" + 0.025*\"sistem\" + 0.020*\"tinggi\" + 0.017*\"selesai\" + 0.017*\"mobil\" + 0.016*\"anggar\" + 0.014*\"den\" + 0.014*\"surya\" \n",
            "\n",
            "8 0.025*\"pertamina\" + 0.019*\"operasi\" + 0.013*\"rp_triliun\" + 0.013*\"rp\" + 0.012*\"bangun_infrastruktur\" + 0.012*\"tinggal\" + 0.012*\"kembang\" + 0.011*\"uu\" + 0.011*\"usaha\" + 0.011*\"nuklir\" \n",
            "\n",
            "9 0.034*\"transisi\" + 0.029*\"id\" + 0.015*\"net_zero\" + 0.012*\"indonesia\" + 0.010*\"tambah\" + 0.010*\"hijau\" + 0.009*\"proyek\" + 0.009*\"biaya\" + 0.008*\"butuh\" + 0.008*\"kuat\" \n",
            "\n"
          ]
        }
      ],
      "source": [
        "for i in range(0, model.num_topics):\n",
        "    print(i+1,model.print_topic(i), \"\\n\")"
      ]
    },
    {
      "cell_type": "code",
      "execution_count": 20,
      "metadata": {
        "colab": {
          "base_uri": "https://localhost:8080/"
        },
        "id": "t5CsIHbigduf",
        "outputId": "ad397ac7-6944-411e-f515-2a9344191f97"
      },
      "outputs": [
        {
          "name": "stdout",
          "output_type": "stream",
          "text": [
            "None\n"
          ]
        }
      ],
      "source": [
        "import pandas as pd\n",
        "top_words_per_topic = []\n",
        "for t in range(model.num_topics):\n",
        "    top_words_per_topic.extend([(t, ) + x for x in model.show_topic(t, topn = 5)]) #ubah2 yg ini\n",
        "# df=pd.DataFrame(top_words_per_topic, columns=['Topic', 'Word', 'P']).to_csv(\"top_words_topic_20.csv\")\n",
        "df = pd.DataFrame(top_words_per_topic, columns=['Topic', 'Word','P']).to_excel(\"data/lda_model_topic_9.xlsx\")\n",
        "print(df)\n"
      ]
    },
    {
      "cell_type": "code",
      "execution_count": 21,
      "metadata": {
        "colab": {
          "base_uri": "https://localhost:8080/"
        },
        "id": "QSxbGusaEOl8",
        "outputId": "8776726e-83fd-480b-c4cb-9b3cdd8883a3"
      },
      "outputs": [
        {
          "name": "stdout",
          "output_type": "stream",
          "text": [
            "Requirement already satisfied: pyLDAvis in /Users/indralionardy/Personal/twitter/venv/lib/python3.9/site-packages (3.3.1)\n",
            "Requirement already satisfied: funcy in /Users/indralionardy/Personal/twitter/venv/lib/python3.9/site-packages (from pyLDAvis) (1.17)\n",
            "Requirement already satisfied: numpy>=1.20.0 in /Users/indralionardy/Personal/twitter/venv/lib/python3.9/site-packages (from pyLDAvis) (1.22.4)\n",
            "Requirement already satisfied: gensim in /Users/indralionardy/Personal/twitter/venv/lib/python3.9/site-packages (from pyLDAvis) (4.2.0)\n",
            "Requirement already satisfied: pandas>=1.2.0 in /Users/indralionardy/Personal/twitter/venv/lib/python3.9/site-packages (from pyLDAvis) (1.4.2)\n",
            "Requirement already satisfied: future in /Users/indralionardy/Personal/twitter/venv/lib/python3.9/site-packages (from pyLDAvis) (0.18.2)\n",
            "Requirement already satisfied: scikit-learn in /Users/indralionardy/Personal/twitter/venv/lib/python3.9/site-packages (from pyLDAvis) (1.1.1)\n",
            "Requirement already satisfied: setuptools in /Users/indralionardy/Personal/twitter/venv/lib/python3.9/site-packages (from pyLDAvis) (57.4.0)\n",
            "Requirement already satisfied: sklearn in /Users/indralionardy/Personal/twitter/venv/lib/python3.9/site-packages (from pyLDAvis) (0.0)\n",
            "Requirement already satisfied: numexpr in /Users/indralionardy/Personal/twitter/venv/lib/python3.9/site-packages (from pyLDAvis) (2.8.3)\n",
            "Requirement already satisfied: scipy in /Users/indralionardy/Personal/twitter/venv/lib/python3.9/site-packages (from pyLDAvis) (1.8.1)\n",
            "Requirement already satisfied: joblib in /Users/indralionardy/Personal/twitter/venv/lib/python3.9/site-packages (from pyLDAvis) (1.1.0)\n",
            "Requirement already satisfied: jinja2 in /Users/indralionardy/Personal/twitter/venv/lib/python3.9/site-packages (from pyLDAvis) (3.1.2)\n",
            "Requirement already satisfied: python-dateutil>=2.8.1 in /Users/indralionardy/Personal/twitter/venv/lib/python3.9/site-packages (from pandas>=1.2.0->pyLDAvis) (2.8.2)\n",
            "Requirement already satisfied: pytz>=2020.1 in /Users/indralionardy/Personal/twitter/venv/lib/python3.9/site-packages (from pandas>=1.2.0->pyLDAvis) (2022.1)\n",
            "Requirement already satisfied: smart-open>=1.8.1 in /Users/indralionardy/Personal/twitter/venv/lib/python3.9/site-packages (from gensim->pyLDAvis) (5.2.1)\n",
            "Requirement already satisfied: MarkupSafe>=2.0 in /Users/indralionardy/Personal/twitter/venv/lib/python3.9/site-packages (from jinja2->pyLDAvis) (2.1.1)\n",
            "Requirement already satisfied: packaging in /Users/indralionardy/Personal/twitter/venv/lib/python3.9/site-packages (from numexpr->pyLDAvis) (21.3)\n",
            "Requirement already satisfied: threadpoolctl>=2.0.0 in /Users/indralionardy/Personal/twitter/venv/lib/python3.9/site-packages (from scikit-learn->pyLDAvis) (3.1.0)\n",
            "Requirement already satisfied: six>=1.5 in /Users/indralionardy/Personal/twitter/venv/lib/python3.9/site-packages (from python-dateutil>=2.8.1->pandas>=1.2.0->pyLDAvis) (1.16.0)\n",
            "Requirement already satisfied: pyparsing!=3.0.5,>=2.0.2 in /Users/indralionardy/Personal/twitter/venv/lib/python3.9/site-packages (from packaging->numexpr->pyLDAvis) (3.0.9)\n"
          ]
        }
      ],
      "source": [
        "#ini dilakukan jika module belum tersedia\n",
        "!pip install pyLDAvis\n",
        "#!apt-get -qq install -y pyLDAvis"
      ]
    },
    {
      "cell_type": "code",
      "execution_count": 22,
      "metadata": {
        "colab": {
          "base_uri": "https://localhost:8080/"
        },
        "id": "5BGTseD4gFRQ",
        "outputId": "39e9537e-6629-43ea-bfa0-e077c4ac7f89"
      },
      "outputs": [
        {
          "name": "stderr",
          "output_type": "stream",
          "text": [
            "/Users/indralionardy/Personal/sara/tugas-akhir/venv/lib/python3.9/site-packages/past/builtins/misc.py:45: DeprecationWarning: the imp module is deprecated in favour of importlib; see the module's documentation for alternative uses\n",
            "  from imp import reload\n",
            "/Users/indralionardy/Personal/sara/tugas-akhir/venv/lib/python3.9/site-packages/past/builtins/misc.py:45: DeprecationWarning: the imp module is deprecated in favour of importlib; see the module's documentation for alternative uses\n",
            "  from imp import reload\n",
            "/Users/indralionardy/Personal/sara/tugas-akhir/venv/lib/python3.9/site-packages/past/builtins/misc.py:45: DeprecationWarning: the imp module is deprecated in favour of importlib; see the module's documentation for alternative uses\n",
            "  from imp import reload\n",
            "/Users/indralionardy/Personal/sara/tugas-akhir/venv/lib/python3.9/site-packages/past/builtins/misc.py:45: DeprecationWarning: the imp module is deprecated in favour of importlib; see the module's documentation for alternative uses\n",
            "  from imp import reload\n",
            "/Users/indralionardy/Personal/sara/tugas-akhir/venv/lib/python3.9/site-packages/past/builtins/misc.py:45: DeprecationWarning: the imp module is deprecated in favour of importlib; see the module's documentation for alternative uses\n",
            "  from imp import reload\n",
            "/Users/indralionardy/Personal/sara/tugas-akhir/venv/lib/python3.9/site-packages/past/builtins/misc.py:45: DeprecationWarning: the imp module is deprecated in favour of importlib; see the module's documentation for alternative uses\n",
            "  from imp import reload\n",
            "/Users/indralionardy/Personal/sara/tugas-akhir/venv/lib/python3.9/site-packages/past/builtins/misc.py:45: DeprecationWarning: the imp module is deprecated in favour of importlib; see the module's documentation for alternative uses\n",
            "  from imp import reload\n",
            "/Users/indralionardy/Personal/sara/tugas-akhir/venv/lib/python3.9/site-packages/past/builtins/misc.py:45: DeprecationWarning: the imp module is deprecated in favour of importlib; see the module's documentation for alternative uses\n",
            "  from imp import reload\n",
            "/Users/indralionardy/Personal/sara/tugas-akhir/venv/lib/python3.9/site-packages/past/builtins/misc.py:45: DeprecationWarning: the imp module is deprecated in favour of importlib; see the module's documentation for alternative uses\n",
            "  from imp import reload\n"
          ]
        },
        {
          "name": "stdout",
          "output_type": "stream",
          "text": [
            "PreparedData(topic_coordinates=              x         y  topics  cluster       Freq\n",
            "topic                                                \n",
            "2     -0.098419  0.260032       1        1  17.218794\n",
            "5      0.181101  0.054817       2        1  13.099109\n",
            "0      0.164823  0.087989       3        1  12.239384\n",
            "8      0.116885 -0.055928       4        1  11.956244\n",
            "4      0.092957 -0.020340       5        1  11.551122\n",
            "3      0.053884 -0.239287       6        1  10.290441\n",
            "7      0.011135  0.015974       7        1   9.009042\n",
            "6     -0.286286  0.041246       8        1   7.853626\n",
            "1     -0.236079 -0.144503       9        1   6.782238, topic_info=                   Term         Freq        Total Category  logprob  loglift\n",
            "7140             pln_id  2236.000000  2236.000000  Default  30.0000  30.0000\n",
            "357        menteri_esdm  1370.000000  1370.000000  Default  29.0000  29.0000\n",
            "10440  tinggi_indonesia  1000.000000  1000.000000  Default  28.0000  28.0000\n",
            "783     bangkit_listrik  1445.000000  1445.000000  Default  27.0000  27.0000\n",
            "3661           transisi  1105.000000  1105.000000  Default  26.0000  26.0000\n",
            "...                 ...          ...          ...      ...      ...      ...\n",
            "1104               dana   213.559921   261.348457   Topic9  -4.4577   2.4889\n",
            "303                baca   132.374961   155.339582   Topic9  -4.9360   2.5309\n",
            "762              serius   180.836240   253.238182   Topic9  -4.6240   2.3541\n",
            "320               tekan   179.361144   277.471275   Topic9  -4.6322   2.2545\n",
            "5272             heroes   120.112936   169.225319   Topic9  -5.0332   2.3481\n",
            "\n",
            "[435 rows x 6 columns], token_table=       Topic      Freq            Term\n",
            "term                                  \n",
            "1323       2  0.992622       airlangga\n",
            "678        2  0.989173             akn\n",
            "3655       3  0.992711      akselerasi\n",
            "2836       9  0.988229    alir_listrik\n",
            "3574       1  0.992130            amat\n",
            "...      ...       ...             ...\n",
            "2013       6  0.560441           wujud\n",
            "6645       6  0.991370  wujud_komitmen\n",
            "10521      3  0.990009      yantie_pln\n",
            "10521      7  0.006149      yantie_pln\n",
            "2571       4  0.995175            zero\n",
            "\n",
            "[631 rows x 3 columns], R=30, lambda_step=0.01, plot_opts={'xlab': 'PC1', 'ylab': 'PC2'}, topic_order=[3, 6, 1, 9, 5, 4, 8, 7, 2])\n"
          ]
        }
      ],
      "source": [
        "#import gensim\n",
        "import pyLDAvis\n",
        "import pyLDAvis.gensim_models;pyLDAvis.enable_notebook()\n",
        "data = pyLDAvis.gensim_models.prepare(model, corpus_tfidf, dictionary)\n",
        "print(data)\n",
        "pyLDAvis.save_html(data, 'data/lda-gensim_clean_kualitatif9.html')"
      ]
    },
    {
      "cell_type": "code",
      "execution_count": 23,
      "metadata": {},
      "outputs": [
        {
          "data": {
            "text/html": [
              "\n",
              "<link rel=\"stylesheet\" type=\"text/css\" href=\"https://cdn.jsdelivr.net/gh/bmabey/pyLDAvis@3.3.1/pyLDAvis/js/ldavis.v1.0.0.css\">\n",
              "\n",
              "\n",
              "<div id=\"ldavis_el457921406478459721127063127455\"></div>\n",
              "<script type=\"text/javascript\">\n",
              "\n",
              "var ldavis_el457921406478459721127063127455_data = {\"mdsDat\": {\"x\": [111.0925064086914, 34.94661331176758, -28.088212966918945, 147.6980743408203, -97.50118255615234, 30.312095642089844, -155.44366455078125, -204.24810791015625, -79.40467834472656], \"y\": [-133.7229461669922, 107.06459045410156, -159.94903564453125, 21.369604110717773, 126.98138427734375, -32.794944763183594, -118.49468994140625, 22.59613037109375, -6.864717483520508], \"topics\": [1, 2, 3, 4, 5, 6, 7, 8, 9], \"cluster\": [1, 1, 1, 1, 1, 1, 1, 1, 1], \"Freq\": [17.218814162784774, 13.093610952220505, 12.247491733953888, 11.950571856080547, 11.551321216273001, 10.291778339707363, 9.010706229325898, 7.8529994013348885, 6.7827061083191325]}, \"tinfo\": {\"Term\": [\"pln_id\", \"menteri_esdm\", \"tinggi_indonesia\", \"bangkit_listrik\", \"transisi\", \"capai_target\", \"mobil_listrik\", \"id\", \"ramah_lingkung\", \"panel_surya\", \"ekspor\", \"panas_bumi\", \"bumn\", \"larang_ekspor\", \"pasok_listrik\", \"erick_thohir\", \"pertamina\", \"target_baur\", \"sistem\", \"simak_bawah\", \"ruu\", \"pln\", \"baur\", \"kapasitas\", \"kejar_target\", \"simak\", \"tinggi\", \"operasi\", \"mantap\", \"plta_poso\", \"target_baur\", \"kapasitas\", \"rencana\", \"renewable_energy\", \"sumber_daya\", \"milik_potensi\", \"beli_listrik\", \"tambah_kapasitas\", \"indonesia_timur\", \"keren\", \"mahal\", \"baik\", \"micho\", \"keren_banget\", \"total\", \"pasang_plts\", \"tuju\", \"gencar\", \"timur\", \"nila_rp\", \"optimis\", \"sulit_capai\", \"trending\", \"gin\", \"amat\", \"tumbuh_ekonomi\", \"ribu\", \"total_daya\", \"kunjung\", \"presiden_joko\", \"e_hal\", \"banget\", \"beli\", \"sulit\", \"renewable\", \"tumbuh\", \"pasang\", \"energy\", \"pake\", \"milik\", \"indonesia\", \"ramah_lingkung\", \"kejar_target\", \"plta_poso\", \"plta\", \"plts_atap\", \"kendara_listrik\", \"kejar\", \"laku\", \"capai_persen\", \"gas_bumi\", \"poso\", \"tantang\", \"bal\", \"tarif_listrik\", \"menko_airlangga\", \"ruptl\", \"airlangga\", \"tahap\", \"tingkat_baur\", \"tingkat_porsi\", \"sob\", \"global\", \"terbit\", \"cak\", \"program_firing\", \"plts_apung\", \"pltb\", \"akn\", \"dpr_ri\", \"langkah_strategis\", \"ramah\", \"persen\", \"lingkung\", \"baur\", \"fokus\", \"tarif\", \"batu\", \"porsi\", \"plts\", \"bas\", \"guna\", \"tingkat\", \"target\", \"manfaat\", \"besar\", \"capai\", \"indonesia\", \"dukung\", \"pln\", \"kembang\", \"listrik\", \"perintah\", \"bangkit\", \"potensi\", \"pln_id\", \"capai_target\", \"panas_bumi\", \"sobat\", \"kapasitas_bangkit\", \"pres\", \"konversi_pltd\", \"siap\", \"langkah\", \"sepakat\", \"kerja\", \"firing_pltu\", \"akselerasi\", \"darmawan_prasodjo\", \"libat\", \"dasamuka_pln\", \"tenaga_biogas\", \"perintah_siap\", \"hadir\", \"resmi_operasi\", \"pltd\", \"bahas_ruu\", \"total_kapasitas\", \"yantie_pln\", \"baterai\", \"jangka\", \"program_konversi\", \"plt\", \"wajib\", \"isi\", \"panas\", \"bangkit_listrik\", \"genjot\", \"bumi\", \"pln\", \"bangkit\", \"atur\", \"target\", \"capai\", \"listrik\", \"green\", \"dukung\", \"bangun\", \"kembang\", \"program\", \"cepat\", \"baur\", \"indonesia\", \"ruu\", \"perintah\", \"transisi\", \"net_zero\", \"tambah\", \"biaya\", \"sulawesi_selatan\", \"menteri_jonan\", \"realisasi\", \"net\", \"zero\", \"penuh_butuh\", \"kendara\", \"andal\", \"bawah\", \"sesuai\", \"kawasan_industri\", \"pltn\", \"mudah\", \"gandeng\", \"resmi\", \"us_miliar\", \"emang\", \"negara_maju\", \"jual\", \"arah\", \"power\", \"miliar\", \"rendah\", \"daerah_pencil\", \"kabar\", \"via_id\", \"emission\", \"id\", \"maju\", \"kuat\", \"hijau\", \"penuh\", \"proyek\", \"sulawesi\", \"butuh\", \"indonesia\", \"cepat\", \"wujud\", \"daerah\", \"moga\", \"kembang\", \"negara\", \"investasi\", \"pln\", \"listrik\", \"menteri_esdm\", \"pltu\", \"tenaga_surya\", \"bahan_bakar\", \"buka_peluang\", \"tanah_air\", \"dampak_positif\", \"wilayah\", \"udien_pln\", \"investasi_sektor\", \"desa\", \"udien\", \"beban\", \"turun_emisi\", \"indo\", \"banding\", \"luas\", \"bukti\", \"jalan_lancar\", \"bakar\", \"positif\", \"lancar\", \"percaya\", \"harga_listrik\", \"terobos\", \"kompetitif\", \"jadi\", \"lirik\", \"moga_lancar\", \"habis\", \"generasi_muda\", \"tanah\", \"strategi\", \"esdm\", \"turun\", \"menteri\", \"murah\", \"prioritas\", \"kembang\", \"harga\", \"listrik\", \"surya\", \"id\", \"investasi\", \"proyek\", \"indonesia\", \"pln\", \"erick_thohir\", \"kurang_emisi\", \"menteri_bumn\", \"emisi\", \"erick\", \"thohir\", \"komisi_vii\", \"investor\", \"cepat_transisi\", \"ubah\", \"salah_satu\", \"presiden_jokowi\", \"tekan_emisi\", \"penuh_target\", \"tahan_pangan\", \"pln_persero\", \"iklim\", \"komisi\", \"jerman\", \"dirjen_ebtke\", \"ubah_iklim\", \"satu\", \"wujud_komitmen\", \"pangan\", \"vii\", \"jangka_pendek\", \"menteri_bumn_erick_thohir\", \"pasar\", \"emisi_karbon\", \"proyeksi\", \"bumn\", \"komitmen\", \"ruu\", \"karbon\", \"wujud\", \"dampak\", \"bidang\", \"usul\", \"kurang\", \"kembang\", \"pln\", \"indonesia\", \"perintah\", \"operasi\", \"rp_triliun\", \"rp\", \"bangun_infrastruktur\", \"tinggal\", \"anak_usaha\", \"sinergi_bumn\", \"singapura\", \"swasta\", \"solar_panel\", \"triliun\", \"pertamina_alokasi\", \"laksana\", \"sinergi\", \"proses\", \"bagus\", \"garap\", \"apbn\", \"laku_usaha\", \"sehat\", \"hilir\", \"dirut\", \"badan_usaha\", \"pimpin\", \"kunci\", \"badan\", \"rancang\", \"jenis\", \"arsjad_rasjid\", \"banyak\", \"pertamina\", \"uu\", \"subholding_power\", \"nuklir\", \"infrastruktur\", \"pltp\", \"usaha\", \"sukses\", \"riset\", \"apresiasi\", \"kembang\", \"sektor\", \"bangun\", \"pln\", \"investasi\", \"bangkit\", \"dukung\", \"migas\", \"tinggi_indonesia\", \"mobil_listrik\", \"panel_surya\", \"sistem\", \"tinggi\", \"selesai\", \"mobil\", \"anggar\", \"den\", \"republika_online\", \"masif\", \"bener\", \"tahu\", \"isu\", \"permen_esdm\", \"kalah\", \"permen\", \"mesti\", \"tangan\", \"bang\", \"emg\", \"smart_grid\", \"ntt\", \"mimin\", \"top\", \"tim\", \"saham\", \"online\", \"mobile\", \"doang\", \"data\", \"pulau\", \"panel\", \"surya\", \"contoh\", \"ekspor\", \"larang_ekspor\", \"pasok_listrik\", \"simak\", \"mantap\", \"depan\", \"inggris\", \"hambat\", \"strategis\", \"untung\", \"simak_lengkap\", \"perintah_serius\", \"kaji\", \"provinsi\", \"hambat_kembang\", \"polusi_udara\", \"bukit_asam\", \"efisien\", \"simak_bawah\", \"bank\", \"niat\", \"link\", \"eropa\", \"asia_tenggara\", \"hilang\", \"sebab\", \"alir_listrik\", \"liput\", \"eksplorasi\", \"rumah_tangga\", \"renewable_content\", \"pasok\", \"fasilitas\", \"dana\", \"baca\", \"serius\", \"tekan\", \"heroes\"], \"Freq\": [2238.0, 1370.0, 1000.0, 1446.0, 1104.0, 999.0, 747.0, 1142.0, 888.0, 663.0, 614.0, 778.0, 721.0, 561.0, 549.0, 643.0, 715.0, 794.0, 537.0, 505.0, 753.0, 2489.0, 831.0, 690.0, 589.0, 424.0, 434.0, 456.0, 398.0, 528.0, 793.4155344814411, 689.8741652457826, 503.54882338698775, 502.4835817972537, 479.55396029048245, 477.96712155289555, 462.61545129141865, 450.6164947327095, 417.05354174516776, 414.98166253895687, 409.4678347324089, 378.6936901525458, 370.2101876981774, 293.6387373151697, 272.1757183644216, 247.8765285383884, 242.06787263887023, 213.13659426637795, 201.7919107652378, 184.78338200035665, 172.25225125698557, 157.25720469076293, 152.74701894443794, 146.74755155801518, 141.03554864264407, 140.24048444114396, 138.75719391355392, 141.92191739876165, 134.17575750011454, 132.97337389861315, 262.1900370386661, 374.4315037852444, 348.6750139669728, 218.21084870176952, 211.29305269723355, 221.39130158054294, 281.801388293123, 236.83898214318882, 204.89391274895573, 231.22500472137563, 206.84326825791808, 886.9451286584685, 588.598024103681, 527.5105829980665, 469.89654223186875, 406.6708950679521, 276.5625109596751, 294.4199475604531, 250.26140684709256, 248.38003136276586, 240.49654375345796, 229.83534974290797, 195.3145573070746, 182.36856020867287, 172.89102663029527, 168.41180732239866, 137.88701400501463, 137.7974388961012, 136.11336223914728, 132.90741160535254, 132.30204655220655, 129.32061351847642, 114.1960709147217, 113.7667332926391, 111.82434335924117, 104.96105444738234, 103.27408693477734, 96.23655977472227, 94.83437881839181, 92.71332737915387, 89.63225508288262, 325.5467926293773, 377.9583203471272, 344.886766033681, 612.4394822026726, 231.5905050025608, 165.46441017941433, 294.917737993712, 178.33693481470692, 369.6584998245395, 248.69671673025047, 388.67423353369736, 335.77628000719653, 428.1030196382369, 359.0934412600825, 200.88603962234697, 333.80132031901337, 365.7709699174108, 305.1000439566643, 393.2813462835787, 344.1176493319212, 314.463268629641, 273.94879642141325, 261.25272166313874, 234.6225073020498, 2236.3844800430134, 998.696512054096, 777.3130000542275, 465.8017177470586, 266.2376437370523, 218.46255311267177, 195.4534277117725, 190.06685894320526, 188.12890225214957, 165.21571238621956, 139.4466312007451, 129.01452891697897, 128.86625575168205, 124.82079324085703, 122.64377251075462, 126.86760135581702, 120.65330773372844, 109.77992678265177, 109.4261615919587, 108.1755517845832, 158.44767811248198, 105.92473925710983, 105.76196186620618, 160.93010111862085, 100.93679650523082, 94.62920166265283, 94.26026591974933, 93.6273021341106, 92.0823619194978, 89.02796725591257, 270.4625263079066, 1286.9575826975565, 252.10070355268996, 282.0393776968769, 1163.9127822951466, 743.2907975549816, 184.89165517172745, 414.799963788078, 355.8749356801388, 453.88727120951125, 172.1286804442517, 331.2229278018625, 288.00954009853695, 320.23207192095185, 183.73051133287805, 196.15325659729692, 218.01174442533113, 248.03409679417226, 188.6084249673206, 171.1177080267215, 1103.825115398531, 488.2121811934324, 317.24871257835156, 276.5814122768341, 236.32270767489248, 236.81448011070657, 222.34207577200672, 219.7412642746661, 218.8036699759207, 216.45535226488124, 196.38996636686554, 175.6019060262925, 174.65475570186044, 173.22699171844462, 165.5404996393431, 164.17140239590267, 156.5314203405548, 155.86620301446823, 148.67706275959597, 145.38297067086094, 145.35173214385344, 143.47146312764318, 140.38497267289313, 138.4147983897, 136.39069001849342, 135.2646212574303, 131.2215302946181, 130.4279416741009, 130.43545646012353, 114.33067276205, 190.6760678179664, 927.8340281299122, 234.09427877345732, 261.7205222293232, 310.102529078188, 224.8378617085564, 300.45629571862094, 180.46897740017616, 271.86043318172415, 385.65751833543385, 221.41672891124588, 197.705643612282, 176.0647382197579, 192.24115430974723, 225.3848534573576, 184.60599562812413, 193.45929053980777, 196.65305947912617, 189.94016311832706, 1368.8826611721543, 425.87695126679046, 406.90192985582735, 364.77040563666765, 313.8932356002971, 306.441468793303, 275.18908039647584, 224.46346943991946, 232.9182884365689, 185.5573767427721, 184.81102500421184, 187.077556697236, 174.2493886466703, 172.55007082901622, 160.73946780959625, 159.41760079187281, 154.55408892032807, 153.69311057974443, 149.68856015842513, 146.01469206496267, 137.34745651421304, 136.4778113911482, 134.59213582742757, 127.61791896574955, 125.95560670162388, 115.74317737142464, 137.04862059280896, 113.70032320366721, 112.60503481799381, 109.24018940375899, 121.91166115015618, 126.32460994628617, 217.5188774822707, 479.41948575694204, 200.4332438824991, 466.28596342917695, 268.6723030371222, 230.32920043771077, 277.17770505934897, 190.93304722896755, 247.82148590216406, 186.7752277555739, 213.77981121570787, 193.59317945993533, 173.46208526475039, 176.2493692791688, 163.33712028490294, 642.3122603919923, 432.2333364059372, 420.4398682368864, 341.5435988465393, 331.33297559877184, 286.7158019191173, 273.99314351763917, 272.5631973842865, 299.943669584276, 245.1688963210044, 239.74678392965632, 239.27858185004143, 202.34304223430513, 188.527838525064, 163.6956273711395, 150.3119180526036, 149.55552350369192, 141.96908983481387, 124.8131348535271, 124.84580586859424, 122.5614912057141, 120.48290367198726, 118.90712944069251, 118.64409456450439, 112.5421151473811, 111.70894566629094, 111.23425886547103, 109.07289347491607, 106.55424338471508, 103.08186399158295, 684.4300818867187, 469.65299040914493, 561.5411252816788, 240.236445488279, 254.4027486711172, 162.74388385130828, 170.1410365815591, 126.04171606978205, 153.4193756196103, 229.08418342681514, 193.39691357846232, 182.4659393727381, 166.12373877351197, 455.5620616278013, 328.70630531496147, 321.6135153052376, 293.80477311697945, 284.04055532007897, 227.03225761204087, 210.21424009669155, 198.66470018485398, 195.67480608291817, 187.8052200245644, 180.22440153571495, 177.13236883157654, 176.39194092013003, 164.62414658251205, 162.2512339376585, 159.08879069582582, 161.61760750242962, 147.13122080599618, 145.871583583074, 135.19905160884514, 135.0390204045681, 122.13535451715123, 121.88347951564863, 118.60891068472536, 118.28396878942696, 117.72753629052063, 116.33475064309525, 114.6105589205022, 117.57773148720084, 109.61785212273648, 608.2568435779733, 278.2112103570451, 139.1591541253409, 264.27279686240513, 166.70707178617516, 142.37065445002634, 277.4544794875508, 146.50281587761054, 129.06789670986873, 147.0558737782077, 283.841818841276, 170.09616034688133, 192.73037785279664, 195.10728073213738, 168.16552529259005, 170.96742234682847, 165.34159074331225, 148.6476581198452, 999.1693626513775, 746.2373379623341, 663.0316673577355, 536.5491216796075, 433.3601751040345, 356.50934563000334, 355.42466356081184, 333.34525101676604, 299.5575555870942, 281.3502219531351, 281.23987387439, 267.0149274856723, 267.0940172305679, 261.4379677782051, 247.24376305666163, 216.40818177829698, 197.69334236672756, 186.74016782690265, 178.68748051445556, 176.1610003445351, 168.05346687733626, 163.78419052479393, 162.4347863358469, 159.9388292433535, 158.46861447548866, 146.61763222853213, 135.1994974246199, 134.64862145398578, 134.93351344586918, 132.38100122423685, 197.53790518467392, 205.7934239107264, 254.9064266447202, 289.4163028555469, 147.0752498642931, 613.734966592524, 560.7077732037803, 548.4064210968359, 423.4193437983453, 397.7506521575212, 372.3162759084746, 331.58583482261776, 274.39281515821625, 204.49311139945314, 201.95360763682473, 193.85234004769964, 179.68726061531225, 166.29882720386928, 140.74219571488482, 139.32394568167646, 138.2130157662144, 132.94638600940058, 131.4780530349963, 501.295605533235, 119.0972341639198, 115.2641985628055, 111.36290392908799, 107.79987510981871, 103.82753238320177, 94.48552772156704, 92.8597029485288, 90.99985456232864, 89.22197880366505, 88.63117001568806, 86.52552389101396, 240.1729676299025, 326.22064396579793, 145.63856699022188, 213.57466931976583, 132.3841028719608, 180.84872830334163, 179.37352994974665, 120.12123121538002], \"Total\": [2238.0, 1370.0, 1000.0, 1446.0, 1104.0, 999.0, 747.0, 1142.0, 888.0, 663.0, 614.0, 778.0, 721.0, 561.0, 549.0, 643.0, 715.0, 794.0, 537.0, 505.0, 753.0, 2489.0, 831.0, 690.0, 589.0, 424.0, 434.0, 456.0, 398.0, 528.0, 794.4981903928249, 690.9598471968324, 504.63553832102855, 503.6000176819178, 480.63848788935326, 479.0501384295602, 463.7017216191125, 451.6996445653035, 418.1363983972403, 416.0681359838988, 410.5520567146806, 379.77872509687734, 371.32144846868835, 294.7221406356006, 273.2603658358477, 248.95906416170368, 243.15324685008326, 214.22160233245575, 202.8767386752254, 185.86665890684841, 173.33563968340337, 158.33967739201827, 153.84069777725463, 147.8306484014219, 142.11862261915257, 141.32307783996885, 139.8410045990504, 143.0419626758705, 135.26008771363644, 134.05589278639454, 264.6991183269247, 383.8892989994342, 357.97278189283804, 229.66028530400504, 222.33985699493928, 240.93767409461674, 331.07836849638477, 330.37256286501935, 263.2348341408443, 431.55559379198525, 1749.6372650104504, 888.1120405333588, 589.762989582192, 528.6789099824678, 471.0654320617902, 407.8367985080781, 277.72807379262815, 295.7773880551382, 251.42918119404476, 249.54504584379728, 241.6615016007007, 231.00543644220284, 196.4818195650508, 183.53838362209427, 174.05604849155458, 169.57806306247625, 139.05247705689595, 138.9679586263019, 137.29795505121905, 134.07367710817093, 133.4670128773269, 130.4876847903284, 115.36464003258173, 114.93407665473048, 112.99171742702559, 106.12668669655729, 104.43921028606671, 97.40359443372894, 96.0000689125719, 93.87967623682923, 90.79784469502657, 330.38154954109433, 455.209415453087, 422.944973981954, 831.5288957357201, 282.1466214551724, 188.93848584982044, 397.63633287194136, 220.4247317057808, 654.3576055615767, 374.3237644832202, 772.3999262077639, 716.7397386196596, 1152.4541528656184, 860.4392536712394, 288.2432091173895, 910.926699046609, 1749.6372650104504, 1073.9107799028077, 2489.6536398126777, 1809.7070923724216, 1616.666217348887, 982.8596070431038, 1571.040131795101, 695.0745983800196, 2238.1126229474935, 999.8612969724805, 778.4840054529789, 466.9719904376244, 267.41033090497854, 219.62899332966006, 196.61911810520544, 191.24616194469843, 189.2964785126264, 166.3851969854511, 140.6131575018839, 130.17930618710972, 130.03246511889995, 125.98818400556716, 123.80988882228601, 128.0801144272892, 121.82447478884137, 110.94515673707258, 110.59340082238687, 109.34183853898664, 160.18469364592863, 107.09102505681734, 106.92686367324238, 162.7312330925896, 102.10641614985376, 95.79794762807845, 95.42534501597761, 94.79265483264619, 93.24839150615026, 90.19491168209645, 281.4880949997105, 1446.0097952453448, 279.84648509915894, 361.50119149592166, 2489.6536398126777, 1571.040131795101, 264.8070818859344, 1152.4541528656184, 910.926699046609, 1616.666217348887, 277.08686885176877, 1073.9107799028077, 866.3685500914086, 1809.7070923724216, 417.854210697556, 534.820543530589, 831.5288957357201, 1749.6372650104504, 753.1752221221052, 982.8596070431038, 1104.985616673326, 489.5190216178669, 318.40456807954973, 277.73691502997815, 237.48047514142772, 237.97883974996265, 223.49715573880837, 220.89560553016065, 219.95804301639762, 217.60909836160135, 197.54946452513272, 176.7584667794976, 175.81550901871398, 174.38198217393375, 166.69504374649608, 165.3261083218065, 157.6862851524908, 157.0207743203245, 149.8372028595607, 146.53657105823945, 146.50695245833035, 144.6251256732486, 141.53969222857273, 139.56976429153838, 137.54754038597406, 136.41982650946775, 132.3757600295281, 131.58152686084287, 131.64664670173644, 115.48535350790503, 194.294288358838, 1142.6600249282928, 261.76748604629734, 319.50778120799566, 432.7444602411882, 328.9693870548526, 630.8779961087865, 236.06072778356744, 552.1446155033082, 1749.6372650104504, 534.820543530589, 453.15391568067776, 298.0671358652799, 492.0812876250211, 1809.7070923724216, 426.04863439541924, 806.1409679966422, 2489.6536398126777, 1616.666217348887, 1370.1001662774825, 427.0220296314304, 408.0438156911417, 365.91308868731505, 315.0348959025987, 307.58317390812584, 276.33136029563735, 225.60643481119433, 234.10831301845005, 186.69901710834918, 185.95382874828852, 188.25271755708047, 175.3923882355308, 173.71400252630502, 161.88257158742994, 160.56081195297497, 155.69788238157423, 154.83747235112045, 150.8440326695253, 147.16516720072863, 138.4903712433, 137.62220379156375, 135.73590705148965, 128.7598146878294, 127.09867459118979, 116.88516295105266, 138.40891303581435, 114.84395495402869, 113.74694621662715, 110.38361954746998, 123.26887302558268, 127.88833088693923, 241.75112631943543, 636.7403956594733, 232.20800145610212, 718.7286575507433, 386.15399818968746, 318.6373232591334, 1809.7070923724216, 492.1946106810186, 1616.666217348887, 589.0953578461152, 1142.6600249282928, 806.1409679966422, 630.8779961087865, 1749.6372650104504, 2489.6536398126777, 643.4563477345765, 433.3773892205869, 421.5837673429916, 342.69014154479936, 332.4778521050014, 287.8600306178633, 275.1370562074342, 273.70790681605337, 301.2488650265336, 246.31414801848783, 240.8908744036304, 240.44061761095145, 203.4869902478212, 189.67199039495011, 164.84013931902774, 151.45759724451491, 150.70008042832512, 143.1130133139435, 125.95797449831751, 125.99214516142465, 123.70538256519654, 121.62827876258116, 120.05137049022917, 119.79183011660504, 113.6860175823133, 112.85343110021749, 112.37846575451202, 110.21792482978229, 107.69827963337009, 104.22672336743398, 721.4328574588061, 602.3401409003492, 753.1752221221052, 279.2615413854722, 453.15391568067776, 230.67930413539722, 352.6947589924668, 149.1437449143811, 332.5431421101855, 1809.7070923724216, 2489.6536398126777, 1749.6372650104504, 982.8596070431038, 456.68558881631225, 329.8274193987294, 322.735301754377, 294.9259312483514, 285.16447674006827, 228.1996668390634, 211.34946479194153, 199.80271000738924, 196.79678479403816, 188.9266483040108, 181.36649270933523, 178.27634129876697, 177.53391437519582, 165.74635273901632, 163.37467289848115, 160.21186930923355, 162.76527017479404, 148.25382707256944, 146.99276443122227, 136.32243713686904, 136.16301324768003, 123.25691695411706, 123.00485347768631, 119.73289357257488, 119.40603843101759, 118.84905079027659, 117.45747166598726, 115.73349598809432, 118.74077686049304, 110.74031594010063, 715.7791429061282, 305.6625612921473, 152.8598605111591, 412.5391243979387, 223.11767096957612, 168.3218223850382, 677.653027863311, 193.41666896491074, 142.9533213363947, 212.85582411420904, 1809.7070923724216, 447.3015100964489, 866.3685500914086, 2489.6536398126777, 806.1409679966422, 1571.040131795101, 1073.9107799028077, 243.16346384011638, 1000.3663172810973, 747.2034940569331, 663.9978000229705, 537.5169788308474, 434.3271688889346, 357.47618360332314, 356.3914451699578, 334.3124562091817, 300.52388398535436, 282.3163091174803, 282.2066928584904, 267.9816345157386, 268.06353040083496, 262.40519925515207, 248.20986230267482, 217.37486187385545, 198.65961081030156, 187.70712441018904, 179.65404255087893, 177.12736014792966, 169.02047183862146, 164.75032105927076, 163.41027555069743, 160.9061438234849, 159.4355623579069, 147.58495994689298, 136.165950318709, 135.61493658823343, 135.90549825801077, 133.34773405296457, 198.981800228175, 233.29363452330247, 336.48395144382533, 589.0953578461152, 206.5583550347665, 614.830288639456, 561.8101901459124, 549.4975818238867, 424.510568154342, 398.84229665912136, 373.4078117213898, 332.6780117727477, 275.4834421890825, 205.58616655968413, 203.04453113622347, 194.94294784769653, 180.77792275033514, 167.38961492687145, 141.83421156436808, 140.41426100639234, 139.30401833372775, 134.03730360564424, 132.5694060760747, 505.7000818509498, 120.18835354360012, 116.35506970057789, 112.455947442008, 108.89086656656895, 104.91844555970536, 95.5764533406069, 93.95047772492089, 92.09017343434122, 90.31768405496719, 89.722130672378, 87.61583207271077, 244.6419134452375, 362.29167407806835, 156.80537788932793, 261.3640037354785, 155.33953521923897, 253.2194871257289, 277.49626224175495, 169.23477599826782], \"Category\": [\"Default\", \"Default\", \"Default\", \"Default\", \"Default\", \"Default\", \"Default\", \"Default\", \"Default\", \"Default\", \"Default\", \"Default\", \"Default\", \"Default\", \"Default\", \"Default\", \"Default\", \"Default\", \"Default\", \"Default\", \"Default\", \"Default\", \"Default\", \"Default\", \"Default\", \"Default\", \"Default\", \"Default\", \"Default\", \"Default\", \"Topic1\", \"Topic1\", \"Topic1\", \"Topic1\", \"Topic1\", \"Topic1\", \"Topic1\", \"Topic1\", \"Topic1\", \"Topic1\", \"Topic1\", \"Topic1\", \"Topic1\", \"Topic1\", \"Topic1\", \"Topic1\", \"Topic1\", \"Topic1\", \"Topic1\", \"Topic1\", \"Topic1\", \"Topic1\", \"Topic1\", \"Topic1\", \"Topic1\", \"Topic1\", \"Topic1\", \"Topic1\", \"Topic1\", \"Topic1\", \"Topic1\", \"Topic1\", \"Topic1\", \"Topic1\", \"Topic1\", \"Topic1\", \"Topic1\", \"Topic1\", \"Topic1\", \"Topic1\", \"Topic1\", \"Topic2\", \"Topic2\", \"Topic2\", \"Topic2\", \"Topic2\", \"Topic2\", \"Topic2\", \"Topic2\", \"Topic2\", \"Topic2\", \"Topic2\", \"Topic2\", \"Topic2\", \"Topic2\", \"Topic2\", \"Topic2\", \"Topic2\", \"Topic2\", \"Topic2\", \"Topic2\", \"Topic2\", \"Topic2\", \"Topic2\", \"Topic2\", \"Topic2\", \"Topic2\", \"Topic2\", \"Topic2\", \"Topic2\", \"Topic2\", \"Topic2\", \"Topic2\", \"Topic2\", \"Topic2\", \"Topic2\", \"Topic2\", \"Topic2\", \"Topic2\", \"Topic2\", \"Topic2\", \"Topic2\", \"Topic2\", \"Topic2\", \"Topic2\", \"Topic2\", \"Topic2\", \"Topic2\", \"Topic2\", \"Topic2\", \"Topic2\", \"Topic2\", \"Topic2\", \"Topic2\", \"Topic2\", \"Topic3\", \"Topic3\", \"Topic3\", \"Topic3\", \"Topic3\", \"Topic3\", \"Topic3\", \"Topic3\", \"Topic3\", \"Topic3\", \"Topic3\", \"Topic3\", \"Topic3\", \"Topic3\", \"Topic3\", \"Topic3\", \"Topic3\", \"Topic3\", \"Topic3\", \"Topic3\", \"Topic3\", \"Topic3\", \"Topic3\", \"Topic3\", \"Topic3\", \"Topic3\", \"Topic3\", \"Topic3\", \"Topic3\", \"Topic3\", \"Topic3\", \"Topic3\", \"Topic3\", \"Topic3\", \"Topic3\", \"Topic3\", \"Topic3\", \"Topic3\", \"Topic3\", \"Topic3\", \"Topic3\", \"Topic3\", \"Topic3\", \"Topic3\", \"Topic3\", \"Topic3\", \"Topic3\", \"Topic3\", \"Topic3\", \"Topic3\", \"Topic4\", \"Topic4\", \"Topic4\", \"Topic4\", \"Topic4\", \"Topic4\", \"Topic4\", \"Topic4\", \"Topic4\", \"Topic4\", \"Topic4\", \"Topic4\", \"Topic4\", \"Topic4\", \"Topic4\", \"Topic4\", \"Topic4\", \"Topic4\", \"Topic4\", \"Topic4\", \"Topic4\", \"Topic4\", \"Topic4\", \"Topic4\", \"Topic4\", \"Topic4\", \"Topic4\", \"Topic4\", \"Topic4\", \"Topic4\", \"Topic4\", \"Topic4\", \"Topic4\", \"Topic4\", \"Topic4\", \"Topic4\", \"Topic4\", \"Topic4\", \"Topic4\", \"Topic4\", \"Topic4\", \"Topic4\", \"Topic4\", \"Topic4\", \"Topic4\", \"Topic4\", \"Topic4\", \"Topic4\", \"Topic4\", \"Topic5\", \"Topic5\", \"Topic5\", \"Topic5\", \"Topic5\", \"Topic5\", \"Topic5\", \"Topic5\", \"Topic5\", \"Topic5\", \"Topic5\", \"Topic5\", \"Topic5\", \"Topic5\", \"Topic5\", \"Topic5\", \"Topic5\", \"Topic5\", \"Topic5\", \"Topic5\", \"Topic5\", \"Topic5\", \"Topic5\", \"Topic5\", \"Topic5\", \"Topic5\", \"Topic5\", \"Topic5\", \"Topic5\", \"Topic5\", \"Topic5\", \"Topic5\", \"Topic5\", \"Topic5\", \"Topic5\", \"Topic5\", \"Topic5\", \"Topic5\", \"Topic5\", \"Topic5\", \"Topic5\", \"Topic5\", \"Topic5\", \"Topic5\", \"Topic5\", \"Topic5\", \"Topic5\", \"Topic6\", \"Topic6\", \"Topic6\", \"Topic6\", \"Topic6\", \"Topic6\", \"Topic6\", \"Topic6\", \"Topic6\", \"Topic6\", \"Topic6\", \"Topic6\", \"Topic6\", \"Topic6\", \"Topic6\", \"Topic6\", \"Topic6\", \"Topic6\", \"Topic6\", \"Topic6\", \"Topic6\", \"Topic6\", \"Topic6\", \"Topic6\", \"Topic6\", \"Topic6\", \"Topic6\", \"Topic6\", \"Topic6\", \"Topic6\", \"Topic6\", \"Topic6\", \"Topic6\", \"Topic6\", \"Topic6\", \"Topic6\", \"Topic6\", \"Topic6\", \"Topic6\", \"Topic6\", \"Topic6\", \"Topic6\", \"Topic6\", \"Topic7\", \"Topic7\", \"Topic7\", \"Topic7\", \"Topic7\", \"Topic7\", \"Topic7\", \"Topic7\", \"Topic7\", \"Topic7\", \"Topic7\", \"Topic7\", \"Topic7\", \"Topic7\", \"Topic7\", \"Topic7\", \"Topic7\", \"Topic7\", \"Topic7\", \"Topic7\", \"Topic7\", \"Topic7\", \"Topic7\", \"Topic7\", \"Topic7\", \"Topic7\", \"Topic7\", \"Topic7\", \"Topic7\", \"Topic7\", \"Topic7\", \"Topic7\", \"Topic7\", \"Topic7\", \"Topic7\", \"Topic7\", \"Topic7\", \"Topic7\", \"Topic7\", \"Topic7\", \"Topic7\", \"Topic7\", \"Topic7\", \"Topic7\", \"Topic7\", \"Topic7\", \"Topic7\", \"Topic7\", \"Topic8\", \"Topic8\", \"Topic8\", \"Topic8\", \"Topic8\", \"Topic8\", \"Topic8\", \"Topic8\", \"Topic8\", \"Topic8\", \"Topic8\", \"Topic8\", \"Topic8\", \"Topic8\", \"Topic8\", \"Topic8\", \"Topic8\", \"Topic8\", \"Topic8\", \"Topic8\", \"Topic8\", \"Topic8\", \"Topic8\", \"Topic8\", \"Topic8\", \"Topic8\", \"Topic8\", \"Topic8\", \"Topic8\", \"Topic8\", \"Topic8\", \"Topic8\", \"Topic8\", \"Topic8\", \"Topic8\", \"Topic9\", \"Topic9\", \"Topic9\", \"Topic9\", \"Topic9\", \"Topic9\", \"Topic9\", \"Topic9\", \"Topic9\", \"Topic9\", \"Topic9\", \"Topic9\", \"Topic9\", \"Topic9\", \"Topic9\", \"Topic9\", \"Topic9\", \"Topic9\", \"Topic9\", \"Topic9\", \"Topic9\", \"Topic9\", \"Topic9\", \"Topic9\", \"Topic9\", \"Topic9\", \"Topic9\", \"Topic9\", \"Topic9\", \"Topic9\", \"Topic9\", \"Topic9\", \"Topic9\", \"Topic9\", \"Topic9\", \"Topic9\", \"Topic9\", \"Topic9\"], \"logprob\": [30.0, 29.0, 28.0, 27.0, 26.0, 25.0, 24.0, 23.0, 22.0, 21.0, 20.0, 19.0, 18.0, 17.0, 16.0, 15.0, 14.0, 13.0, 12.0, 11.0, 10.0, 9.0, 8.0, 7.0, 6.0, 5.0, 4.0, 3.0, 2.0, 1.0, -4.077, -4.2168, -4.5316, -4.5338, -4.5805, -4.5838, -4.6164, -4.6427, -4.7201, -4.7251, -4.7385, -4.8166, -4.8392, -5.071, -5.1469, -5.2404, -5.2641, -5.3914, -5.4461, -5.5341, -5.6044, -5.6954, -5.7245, -5.7646, -5.8043, -5.81, -5.8206, -5.798, -5.8542, -5.8632, -5.1842, -4.8279, -4.8992, -5.3679, -5.4001, -5.3534, -5.1121, -5.2859, -5.4308, -5.3099, -5.4214, -3.6917, -4.1017, -4.2113, -4.3269, -4.4714, -4.857, -4.7944, -4.9569, -4.9645, -4.9967, -5.0421, -5.2048, -5.2734, -5.3268, -5.353, -5.553, -5.5537, -5.5659, -5.5898, -5.5943, -5.6171, -5.7415, -5.7453, -5.7625, -5.8258, -5.842, -5.9126, -5.9273, -5.9499, -5.9837, -4.6939, -4.5447, -4.6362, -4.062, -5.0345, -5.3707, -4.7927, -5.2958, -4.5669, -4.9632, -4.5167, -4.663, -4.4201, -4.5959, -5.1767, -4.6689, -4.5774, -4.7588, -4.5049, -4.6385, -4.7286, -4.8665, -4.9139, -5.0215, -2.7, -3.5062, -3.7568, -4.2689, -4.8282, -5.026, -5.1373, -5.1653, -5.1755, -5.3054, -5.4749, -5.5527, -5.5539, -5.5858, -5.6033, -5.5695, -5.6197, -5.7142, -5.7174, -5.7289, -5.3472, -5.7499, -5.7514, -5.3317, -5.7981, -5.8627, -5.8666, -5.8733, -5.8899, -5.9237, -4.8125, -3.2526, -4.8828, -4.7706, -3.3531, -3.8015, -5.1929, -4.3848, -4.5381, -4.2948, -5.2644, -4.6098, -4.7496, -4.6436, -5.1992, -5.1337, -5.0281, -4.8991, -5.173, -5.2703, -3.3816, -4.1973, -4.6284, -4.7656, -4.9229, -4.9208, -4.9839, -4.9956, -4.9999, -5.0107, -5.108, -5.2199, -5.2253, -5.2335, -5.2789, -5.2872, -5.3348, -5.3391, -5.3863, -5.4087, -5.4089, -5.422, -5.4437, -5.4578, -5.4726, -5.4809, -5.5112, -5.5173, -5.5172, -5.649, -5.1375, -3.5552, -4.9324, -4.8208, -4.6512, -4.9727, -4.6828, -5.1925, -4.7828, -4.4331, -4.988, -5.1013, -5.2172, -5.1293, -4.9703, -5.1699, -5.123, -5.1066, -5.1414, -3.1324, -4.3, -4.3455, -4.4548, -4.6051, -4.6291, -4.7367, -4.9404, -4.9034, -5.1307, -5.1348, -5.1226, -5.1936, -5.2034, -5.2743, -5.2826, -5.3136, -5.3192, -5.3456, -5.3704, -5.4316, -5.4379, -5.4519, -5.5051, -5.5182, -5.6027, -5.4338, -5.6205, -5.6302, -5.6606, -5.5508, -5.5153, -4.9718, -4.1815, -5.0536, -4.2093, -4.7606, -4.9146, -4.7295, -5.1022, -4.8414, -5.1242, -4.9892, -5.0884, -5.1982, -5.1822, -5.2583, -3.7736, -4.1697, -4.1974, -4.4052, -4.4355, -4.5802, -4.6256, -4.6308, -4.5351, -4.7367, -4.7591, -4.761, -4.9287, -4.9994, -5.1406, -5.2259, -5.231, -5.283, -5.4118, -5.4116, -5.43, -5.4471, -5.4603, -5.4625, -5.5153, -5.5228, -5.527, -5.5466, -5.57, -5.6031, -3.7101, -4.0867, -3.908, -4.757, -4.6997, -5.1465, -5.102, -5.402, -5.2055, -4.8046, -4.9739, -5.0321, -5.1259, -3.9842, -4.3106, -4.3324, -4.4228, -4.4566, -4.6806, -4.7576, -4.8141, -4.8293, -4.8703, -4.9115, -4.9288, -4.933, -5.0021, -5.0166, -5.0363, -5.0205, -5.1144, -5.123, -5.199, -5.2002, -5.3006, -5.3027, -5.3299, -5.3326, -5.3374, -5.3493, -5.3642, -5.3386, -5.4087, -3.6951, -4.4773, -5.1701, -4.5287, -4.9895, -5.1473, -4.4801, -5.1187, -5.2454, -5.1149, -4.4573, -4.9694, -4.8444, -4.8322, -4.9808, -4.9643, -4.9977, -5.1041, -3.0613, -3.3532, -3.4714, -3.683, -3.8966, -4.0918, -4.0949, -4.159, -4.2659, -4.3286, -4.329, -4.3809, -4.3806, -4.402, -4.4578, -4.591, -4.6815, -4.7385, -4.7826, -4.7968, -4.8439, -4.8697, -4.8779, -4.8934, -4.9026, -4.9804, -5.0615, -5.0655, -5.0634, -5.0825, -4.6823, -4.6413, -4.4273, -4.3003, -4.9773, -3.4021, -3.4925, -3.5147, -3.7733, -3.8359, -3.9019, -4.0178, -4.2071, -4.5012, -4.5136, -4.5546, -4.6305, -4.7079, -4.8748, -4.8849, -4.8929, -4.9317, -4.9428, -3.6045, -5.0417, -5.0745, -5.1089, -5.1414, -5.179, -5.2732, -5.2906, -5.3108, -5.3306, -5.3372, -5.3612, -4.3403, -4.0341, -4.8406, -4.4577, -4.936, -4.624, -4.6322, -5.0332], \"loglift\": [30.0, 29.0, 28.0, 27.0, 26.0, 25.0, 24.0, 23.0, 22.0, 21.0, 20.0, 19.0, 18.0, 17.0, 16.0, 15.0, 14.0, 13.0, 12.0, 11.0, 10.0, 9.0, 8.0, 7.0, 6.0, 5.0, 4.0, 3.0, 2.0, 1.0, 1.7578, 1.7576, 1.757, 1.7569, 1.7569, 1.7569, 1.7568, 1.7568, 1.7566, 1.7566, 1.7565, 1.7563, 1.7562, 1.7555, 1.7552, 1.7548, 1.7547, 1.7541, 1.7538, 1.7533, 1.7529, 1.7523, 1.752, 1.7518, 1.7515, 1.7515, 1.7514, 1.7513, 1.7511, 1.7511, 1.7496, 1.7342, 1.7329, 1.708, 1.7082, 1.6746, 1.598, 1.4263, 1.5086, 1.1352, -0.376, 2.0317, 2.0311, 2.0308, 2.0306, 2.0302, 2.0288, 2.0284, 2.0284, 2.0284, 2.0282, 2.028, 2.0271, 2.0267, 2.0263, 2.0261, 2.0246, 2.0246, 2.0244, 2.0243, 2.0243, 2.0241, 2.0229, 2.0228, 2.0227, 2.022, 2.0218, 2.021, 2.0208, 2.0205, 2.0201, 2.0183, 1.8471, 1.829, 1.7272, 1.8356, 1.9004, 1.7342, 1.8212, 1.462, 1.6242, 1.3463, 1.2748, 1.0428, 1.1592, 1.672, 1.0291, 0.4679, 0.7746, 0.1877, 0.3731, 0.3958, 0.7555, 0.239, 0.947, 2.0991, 2.0987, 2.0983, 2.0973, 2.0955, 2.0945, 2.0939, 2.0937, 2.0937, 2.0928, 2.0915, 2.0909, 2.0908, 2.0905, 2.0904, 2.0903, 2.0902, 2.0893, 2.0892, 2.0891, 2.0889, 2.0889, 2.0889, 2.0887, 2.0883, 2.0876, 2.0876, 2.0875, 2.0873, 2.0868, 2.0599, 1.9833, 1.9954, 1.8516, 1.3395, 1.3514, 1.7406, 1.078, 1.16, 0.8296, 1.6238, 0.9236, 0.9985, 0.368, 1.2782, 1.0968, 0.7611, 0.1463, 0.7152, 0.3517, 2.1233, 2.1217, 2.1208, 2.1202, 2.1195, 2.1195, 2.1192, 2.1192, 2.1191, 2.1191, 2.1185, 2.1178, 2.1178, 2.1177, 2.1174, 2.1174, 2.117, 2.117, 2.1166, 2.1165, 2.1165, 2.1164, 2.1162, 2.1161, 2.1159, 2.1159, 2.1156, 2.1156, 2.1151, 2.1143, 2.1056, 1.9161, 2.0127, 1.9249, 1.7911, 1.7438, 1.3826, 1.8559, 1.4159, 0.6122, 1.2425, 1.2949, 1.5979, 1.1845, 0.0413, 1.2881, 0.6972, -0.4141, -0.017, 2.1575, 2.1557, 2.1556, 2.1552, 2.1547, 2.1547, 2.1542, 2.1533, 2.1533, 2.1522, 2.1522, 2.1521, 2.1518, 2.1516, 2.1513, 2.1512, 2.151, 2.151, 2.1507, 2.1505, 2.1501, 2.15, 2.1499, 2.1495, 2.1493, 2.1486, 2.1485, 2.1484, 2.1483, 2.148, 2.1473, 2.1461, 2.0527, 1.8746, 2.0112, 1.7257, 1.7956, 1.8338, 0.2821, 1.2114, 0.283, 1.0097, 0.4822, 0.7319, 0.8672, -0.1369, -0.5657, 2.272, 2.2712, 2.2711, 2.2705, 2.2704, 2.2698, 2.2697, 2.2696, 2.2695, 2.2692, 2.2691, 2.269, 2.2682, 2.2678, 2.2669, 2.2662, 2.2662, 2.2658, 2.2647, 2.2647, 2.2645, 2.2644, 2.2642, 2.2642, 2.2637, 2.2636, 2.2636, 2.2634, 2.2631, 2.2628, 2.2212, 2.025, 1.9802, 2.1233, 1.6965, 1.925, 1.5448, 2.1055, 1.5002, 0.207, -0.2813, 0.0132, 0.4961, 2.4043, 2.4034, 2.4033, 2.4029, 2.4028, 2.4016, 2.4014, 2.401, 2.401, 2.4008, 2.4004, 2.4003, 2.4003, 2.4, 2.3999, 2.3997, 2.3997, 2.3992, 2.3991, 2.3985, 2.3985, 2.3976, 2.3976, 2.3973, 2.3973, 2.3973, 2.3972, 2.397, 2.3969, 2.3966, 2.244, 2.3127, 2.3129, 1.9614, 2.1153, 2.2393, 1.5138, 2.129, 2.3046, 2.037, 0.5543, 1.4399, 0.9037, -0.1396, 0.8394, 0.1887, 0.5357, 1.9146, 2.5431, 2.543, 2.5428, 2.5425, 2.542, 2.5416, 2.5416, 2.5414, 2.5411, 2.5408, 2.5408, 2.5407, 2.5407, 2.5406, 2.5404, 2.5398, 2.5394, 2.5391, 2.5389, 2.5388, 2.5385, 2.5384, 2.5383, 2.5382, 2.5382, 2.5377, 2.5372, 2.5371, 2.5371, 2.537, 2.537, 2.4188, 2.2666, 1.8336, 2.2046, 2.689, 2.6888, 2.6888, 2.6882, 2.6881, 2.6879, 2.6875, 2.6868, 2.6855, 2.6854, 2.6852, 2.6847, 2.6843, 2.6831, 2.683, 2.6829, 2.6826, 2.6825, 2.682, 2.6817, 2.6814, 2.681, 2.6807, 2.6803, 2.6793, 2.6791, 2.6789, 2.6786, 2.6786, 2.6783, 2.6724, 2.5859, 2.6169, 2.4889, 2.5309, 2.3542, 2.2545, 2.348]}, \"token.table\": {\"Topic\": [2, 2, 3, 9, 1, 7, 4, 8, 7, 5, 7, 4, 7, 9, 3, 4, 2, 9, 7, 7, 7, 5, 3, 1, 5, 2, 5, 8, 1, 9, 1, 2, 3, 4, 5, 6, 7, 2, 3, 1, 2, 3, 4, 5, 6, 7, 7, 9, 7, 1, 2, 5, 6, 3, 2, 7, 2, 3, 4, 5, 1, 4, 1, 8, 1, 2, 7, 4, 4, 6, 8, 9, 5, 9, 5, 2, 3, 4, 5, 1, 6, 1, 2, 3, 4, 5, 6, 7, 2, 1, 2, 3, 4, 5, 7, 2, 3, 1, 3, 4, 5, 6, 1, 2, 8, 1, 4, 4, 1, 6, 5, 5, 9, 3, 3, 8, 9, 8, 9, 5, 6, 7, 8, 2, 1, 2, 3, 5, 6, 7, 1, 9, 9, 9, 9, 4, 8, 6, 6, 3, 4, 1, 2, 3, 4, 7, 6, 6, 9, 1, 2, 3, 4, 5, 6, 7, 5, 6, 9, 3, 2, 5, 4, 7, 2, 1, 5, 3, 6, 1, 2, 1, 3, 1, 2, 3, 4, 5, 6, 7, 9, 5, 3, 9, 9, 1, 2, 3, 4, 5, 6, 9, 5, 1, 2, 3, 4, 6, 8, 9, 4, 5, 6, 9, 7, 4, 5, 6, 5, 1, 2, 3, 4, 5, 6, 7, 9, 1, 4, 7, 9, 1, 2, 4, 5, 6, 7, 5, 6, 3, 8, 5, 5, 3, 6, 7, 6, 4, 4, 9, 8, 1, 3, 3, 5, 6, 4, 2, 2, 1, 2, 3, 4, 5, 6, 7, 9, 4, 2, 1, 1, 3, 6, 6, 4, 6, 5, 3, 2, 4, 7, 1, 2, 4, 5, 6, 6, 7, 2, 7, 5, 3, 2, 9, 3, 2, 3, 4, 6, 9, 9, 5, 1, 2, 3, 4, 5, 6, 7, 8, 9, 5, 1, 2, 4, 1, 2, 3, 4, 5, 6, 9, 9, 8, 2, 1, 3, 4, 5, 6, 6, 6, 5, 4, 8, 1, 4, 7, 4, 1, 3, 5, 7, 1, 8, 8, 8, 8, 1, 2, 3, 4, 5, 5, 4, 1, 5, 2, 4, 5, 7, 9, 4, 4, 4, 9, 1, 8, 3, 7, 8, 8, 7, 1, 1, 2, 5, 1, 3, 5, 3, 7, 8, 8, 6, 1, 7, 8, 1, 6, 1, 3, 5, 9, 9, 3, 4, 5, 4, 6, 5, 1, 2, 3, 4, 5, 6, 7, 9, 9, 3, 8, 8, 1, 2, 3, 4, 1, 6, 7, 7, 7, 1, 2, 3, 4, 5, 6, 7, 3, 4, 6, 3, 2, 2, 2, 1, 3, 4, 5, 7, 1, 2, 7, 2, 2, 5, 9, 2, 3, 5, 2, 1, 2, 3, 4, 5, 6, 9, 4, 3, 1, 6, 1, 2, 5, 6, 1, 2, 3, 4, 6, 9, 2, 3, 7, 9, 1, 4, 5, 6, 5, 8, 2, 4, 2, 7, 4, 1, 4, 1, 4, 7, 1, 9, 1, 8, 4, 3, 1, 3, 7, 7, 7, 9, 2, 2, 3, 6, 8, 6, 6, 9, 7, 1, 4, 5, 7, 8, 3, 2, 4, 9, 4, 3, 9, 2, 4, 9, 9, 7, 7, 7, 8, 8, 2, 3, 7, 1, 5, 9, 4, 7, 3, 7, 3, 4, 4, 1, 5, 1, 1, 1, 4, 5, 6, 8, 7, 6, 2, 8, 4, 1, 5, 5, 8, 2, 1, 2, 3, 5, 6, 7, 1, 2, 7, 2, 6, 9, 6, 3, 5, 2, 5, 6, 8, 1, 7, 8, 8, 1, 2, 3, 4, 5, 6, 7, 9, 2, 2, 8, 1, 1, 3, 4, 1, 7, 1, 1, 9, 1, 5, 7, 5, 6, 6, 5, 5, 9, 4, 1, 3, 4, 5, 6, 7, 4, 6, 7, 5, 7, 4, 6, 3, 5, 4, 6, 6, 3, 7, 4], \"Freq\": [0.9930346632715182, 0.9895826229720452, 0.9920599435075242, 0.9881618918318305, 0.9921289511639143, 0.9947429071405723, 0.9957090215064844, 0.9960741630028872, 0.9915427001290449, 0.30537101942356937, 0.6906083054656108, 0.9887528341148488, 0.9937613945261334, 0.9912461001990093, 0.698621799245115, 0.298330389947914, 0.14162524671488316, 0.8497514802892989, 0.9928560574558156, 0.9918307818815573, 0.9924358331598113, 0.9975046296086574, 0.9898121709430039, 0.9979495294353872, 0.9920825884080342, 0.9916181912920089, 0.990278998131673, 0.9936353133305429, 0.9742391907635624, 0.0234442586012622, 0.04646603133975246, 0.16613197506404648, 0.47293508610186413, 0.11011812906544077, 0.08147468508888103, 0.013366940522394543, 0.108845087110927, 0.10926620311945542, 0.8900354646502477, 0.04963245722096349, 0.1431261557069645, 0.3324220390613369, 0.11542431911851975, 0.10388188720666777, 0.032318809353185526, 0.2227689358987431, 0.9968604617287055, 0.9901125732355671, 0.9933148471375044, 0.13357420699438746, 0.6651995508320496, 0.11220233387528547, 0.08548749247640798, 0.9891640879038399, 0.7418839165660565, 0.256515794880467, 0.7359936655701119, 0.26216767825863463, 0.9953615638161525, 0.9920612961056156, 0.974934457738957, 0.0223480677991738, 0.9984866961100289, 0.9963369336204233, 0.21162684174515015, 0.6973277900127078, 0.09020160467826072, 0.9973467155783069, 0.30904910612048003, 0.48200319303194133, 0.04252969350281835, 0.16444814821089762, 0.9967149800988439, 0.9922610827154795, 0.9945912811775863, 0.188104497577478, 0.780080416424247, 0.016597455668600998, 0.013831213057167498, 0.04990069363739176, 0.9481131791104433, 0.016300077456693186, 0.14307845767541796, 0.03803351406561743, 0.49262456313561626, 0.01811119717410354, 0.09236710558792804, 0.19922316891513894, 0.991223096262201, 0.06367142390348615, 0.3666595790304203, 0.39081080878691504, 0.09331156951372971, 0.030737928780993316, 0.05488915853748807, 0.9938085493199316, 0.9991385835464494, 0.0467446516451366, 0.366478068897871, 0.41322272054300757, 0.17015053198829724, 0.9958543743345768, 0.21785611137552827, 0.0629362099529304, 0.711663297160059, 0.40594881300395846, 0.5904710007330305, 0.9879806314870061, 0.2904465151354642, 0.7066086860758308, 0.9951820151928722, 0.1798258341939382, 0.818781457819208, 0.9921565342546449, 0.9915668842730275, 0.9950658792560468, 0.005025585248767913, 0.9982567642265002, 0.9962298278793369, 0.9948706151698569, 0.9921253411460415, 0.9898024631381543, 0.9898930862040051, 0.9906297478635304, 0.045627626537499376, 0.284008695794639, 0.30821927314106723, 0.08473702071249885, 0.1219840627839269, 0.15364404854464075, 0.9898030702029349, 0.0037778743137516597, 0.9881616270108798, 0.9919514765535955, 0.9986495645143096, 0.9897141232341247, 0.993962436458018, 0.9979861062191976, 0.9935163343764896, 0.010293663374737205, 0.983044852287403, 0.7173719207936505, 0.024215085933962887, 0.08777968651061548, 0.06356460057665259, 0.10291411521934228, 0.9955550359350414, 0.9977366798234194, 0.9918187209390575, 0.025127980114138616, 0.0643904490424802, 0.025127980114138616, 0.07538394034241586, 0.7522689046670249, 0.02198698259987129, 0.0345509726569406, 0.02550932916869197, 0.038263993753037955, 0.9310905146572569, 0.990940908953573, 0.8222675104293612, 0.17721282552356923, 0.9934991129374887, 0.995298320249939, 0.9931246740184293, 0.9942974829841861, 0.9897064604028679, 0.9004937114386411, 0.09648146908271155, 0.9943810812547723, 0.988171071896932, 0.37533355669638807, 0.6207439591517188, 0.029777320296912286, 0.5036251128477773, 0.15924393028348743, 0.11004661848858889, 0.12687727778684366, 0.053081310094495814, 0.012946660998657517, 0.005178664399463006, 0.9874653544326388, 0.9855922612873993, 0.9946151312133514, 0.9899279389696183, 0.19707651789560887, 0.08330038385278313, 0.022348883472697912, 0.17269591774357476, 0.3880578857532092, 0.08330038385278313, 0.05282463366274052, 0.9940989765349421, 0.2481759422805032, 0.005908951006678647, 0.017726853020035942, 0.005908951006678647, 0.005908951006678647, 0.005908951006678647, 0.7090741208014376, 0.7163581015623467, 0.18255577426911415, 0.09936580118445454, 0.9835058397177715, 0.9914586698697354, 0.8121400764485799, 0.18728230211206476, 0.9953544787346142, 0.9945480753191935, 0.11831023729296461, 0.20918621666292295, 0.14174366593553248, 0.22061715746417557, 0.10059227905102305, 0.10402156129139883, 0.06572790960720257, 0.03943674576432154, 0.9972822303879876, 0.24650669649334808, 0.7484839693525296, 0.9979619579630924, 0.05210006893009678, 0.1625025959486352, 0.2394122215121114, 0.24065269934378036, 0.09551679303851077, 0.2084002757203871, 0.9962559143632582, 0.9974136413365321, 0.9867518947597835, 0.9946449260184601, 0.9898206480716326, 0.9944046002046735, 0.9916705143707634, 0.9924377035602966, 0.9936621979502824, 0.9923944910821799, 0.9891218342760963, 0.9874919206604088, 0.991698320547075, 0.9936751569983594, 0.9986108495294967, 0.9947259670177826, 0.05729396149795926, 0.07877919705969398, 0.8594094224693889, 0.9958304474393787, 0.9939907912946785, 0.9987062776137707, 0.030391658535137957, 0.19008600974704468, 0.17682419511352993, 0.12432951218920073, 0.15306344389514934, 0.12653981462811986, 0.1569314731632578, 0.041443170729733574, 0.9921565744110858, 0.9973784652639337, 0.9974327859032682, 0.9975497577683059, 0.9885276916432071, 0.9922228364271675, 0.9958673098305705, 0.2191452819376984, 0.7802900190205928, 0.9924270717625355, 0.9917652051295485, 0.1783994110706609, 0.8200113280791781, 0.9882247292558, 0.9906839649823072, 0.18042771719562173, 0.207491874774965, 0.1473493023764244, 0.4600906788488354, 0.9968217326172367, 0.9913598797131568, 0.9943157704000087, 0.9932461680337553, 0.9882126303251133, 0.9931510690382973, 0.9912129555750318, 0.9985578934662933, 0.9934586095667325, 0.8157089484995755, 0.06383809162170591, 0.040194353984037055, 0.07802433420430722, 0.9870531752643957, 0.9854105641795992, 0.9926512897055267, 0.09711342905244763, 0.19422685810489526, 0.2808248203172689, 0.11752580585964999, 0.15340210449049052, 0.03958763986851368, 0.030927843647276312, 0.030309286774330788, 0.05567011856509736, 0.9955177143651581, 0.9962195860688156, 0.10314497192834966, 0.893923090045697, 0.03835250409508722, 0.41722875667079734, 0.15689660766172045, 0.14759903091139628, 0.12086849775421427, 0.09646235878461332, 0.023243941875810435, 0.997888146101412, 0.9957240813594188, 0.9906941792235541, 0.05843651781344859, 0.011130765297799732, 0.09322015936907276, 0.6483670785968344, 0.1864403187381455, 0.9962432914507756, 0.9877337197544301, 0.9991970176308558, 0.9958868622479583, 0.9962328312662029, 0.9964412277444841, 0.38245877292301156, 0.6127565286615991, 0.9895922275684084, 0.5352728670951827, 0.12512872217809468, 0.2294026573265069, 0.10890833226611944, 0.9978078736538877, 0.9943684945648877, 0.9960957391407241, 0.9983893356140524, 0.993337294887866, 0.08535175194876564, 0.12396325878273105, 0.23573341014420987, 0.3901794374800715, 0.16257476561669645, 0.9934332635602839, 0.9956477815947841, 0.30039828810219443, 0.6966132715473302, 0.21593778872346775, 0.4342227273243645, 0.11501034399402087, 0.13378754301345286, 0.10092744472944688, 0.9887631857487873, 0.9959455710854404, 0.996896909924263, 0.988354012385838, 0.9953372008086574, 0.9913697253985726, 0.2617933514975474, 0.6399393036606714, 0.094536488040781, 0.9954655688841962, 0.9984987728251088, 0.9922944889703992, 0.7787723105457781, 0.18994446598677514, 0.03039111455788402, 0.0035525481104308463, 0.9591879898163285, 0.031972932993877615, 0.9980937239010899, 0.2407247051529072, 0.7578370347406338, 0.9984972841432065, 0.9933899489152618, 0.8517620806237581, 0.07249038984031984, 0.07551082275033318, 0.996147703378734, 0.9889498479338708, 0.03588269046778783, 0.005520413918121205, 0.057964346140272655, 0.8998274686537564, 0.9972746343688794, 0.1550296228369001, 0.6839542183980887, 0.15806941936311383, 0.9926055556788921, 0.9964570920906621, 0.9945783907333342, 0.05087196547879623, 0.2787783708238033, 0.1739821219374831, 0.07936026614692211, 0.12107527783953502, 0.16889492538960346, 0.060028919264979545, 0.0661335551224351, 0.9956968044631783, 0.9914808652773145, 0.9966796934333501, 0.9951256477423952, 0.05272298679523555, 0.8303870420249599, 0.09226522689166222, 0.02196791116468148, 0.0391182116404195, 0.11036923998546931, 0.8494240241919664, 0.9928406579949496, 0.993878928749595, 0.07390586267005567, 0.15785328276810803, 0.4675349138475261, 0.07912747253261394, 0.06547095443053845, 0.07752082334413447, 0.07832414793837421, 0.9990560694194597, 0.0004468050399908138, 0.9903762025079419, 0.9916380142106411, 0.9977382503803623, 0.9987158368347051, 0.9855899113180683, 0.006242793722915839, 0.9863614082207026, 0.9919788330151387, 0.14852500790308817, 0.8436220448895408, 0.23840175261066787, 0.5654400542688918, 0.19561169444977874, 0.986219636455268, 0.9979482025380269, 0.9976066114614448, 0.9906390472484164, 0.8075318891057623, 0.18600453625469807, 0.9892384486378356, 0.9956475637210624, 0.16401117270821705, 0.33809320689851763, 0.07912819735922753, 0.15969508921589556, 0.15106292223125256, 0.030212584446250513, 0.07768950286178702, 0.9887490508253983, 0.992582976842156, 0.992123488461063, 0.9940084265908746, 0.003138364300112906, 0.15691821500564532, 0.7218237890259684, 0.11298111480406463, 0.15077028874455825, 0.2632497105063715, 0.44034497030156694, 0.05743630047411743, 0.08136809233833302, 0.0071795375592646786, 0.9893835685290094, 0.9850632448251672, 0.991585764953082, 0.9941184037675601, 0.2472744349338503, 0.47552775948817366, 0.2742210079715135, 0.9882302414601545, 0.11573397643347663, 0.8830073757517106, 0.9867379109179057, 0.012107213630894549, 0.9987478600867848, 0.987591494646404, 0.9933012313563487, 0.9987405993578197, 0.9896071604860194, 0.9489976419513602, 0.017990476624670335, 0.03148333409317308, 0.012262821025848225, 0.981025682067858, 0.9968228402983726, 0.9953374669653515, 0.9944125835000711, 0.9877280411879283, 0.9939859942978692, 0.09093877552805281, 0.9023924648552932, 0.9977216568798642, 0.9974913565396177, 0.9929712238285918, 0.9924310801276462, 0.00265542458282803, 0.2509376230772488, 0.7461743077746764, 0.9914372843138832, 0.996301751131769, 0.9866126629502044, 0.9898832049826952, 0.9902991967819552, 0.10507453907290784, 0.1699077653093829, 0.3420511591096787, 0.3800568434551986, 0.9986679291511864, 0.9916747582684761, 0.19350801376384769, 0.09083029217486728, 0.7147949079848251, 0.9920749715268443, 0.9934839897855897, 0.9964416241487001, 0.001977456670245785, 0.005932370010737354, 0.9907057917931381, 0.9951629548126397, 0.9954970186270613, 0.9936150072900825, 0.9959824868873923, 0.9990382093009008, 0.9954457080602542, 0.9885990406472546, 0.997918525184533, 0.9950951953452343, 0.09513916377625964, 0.9017538131836783, 0.9922846629896003, 0.07850327718390122, 0.9093296273801892, 0.23782851936275062, 0.7600172249200944, 0.2329908939805812, 0.7625156530273567, 0.9937659079528705, 0.9492281162649862, 0.043542574140595695, 0.9915392186337383, 0.9986715839337855, 0.08317838419090019, 0.10354860072744718, 0.31743587436119053, 0.0033950360894244975, 0.49058271492183986, 0.9959512306317806, 0.9949033086085801, 0.9905464356644289, 0.9960325434823429, 0.9955887313802646, 0.998451084534333, 0.9852345333319845, 0.9948528591859881, 0.9963594331550113, 0.9924582357373771, 0.07462335901706625, 0.371381368131446, 0.3601010929311918, 0.0477242412318447, 0.06594622424763995, 0.07896192640177942, 0.9981142935113746, 0.873300107481288, 0.11644001433083839, 0.993932710177516, 0.3495542578353489, 0.6450537335312109, 0.992692455443907, 0.9932322729872595, 0.9974419029256119, 0.9918729354955667, 0.991355735260626, 0.9970123305551754, 0.9960364528533024, 0.9956784662403859, 0.9959164733511682, 0.9969443106855838, 0.9986341830412575, 0.0781315685214387, 0.4687894111286322, 0.1744008225924971, 0.06836512245625886, 0.10464049355549826, 0.07534115535995875, 0.009766446065179837, 0.019532892130359674, 0.9919918873612702, 0.9890084235370182, 0.9909959714339999, 0.9953876741985889, 0.9927156852690034, 0.991331797815797, 0.999108027599225, 0.9945352706442356, 0.9924655723947575, 0.995257119265225, 0.9172496614755766, 0.07885856818115816, 0.9906379208534711, 0.8612967630136082, 0.1335009982671093, 0.995889781388251, 0.9946647481313612, 0.9942978829977362, 0.9933455539269938, 0.9952658109224737, 0.9948556549128492, 0.9895140779728717, 0.05755157639149023, 0.11510315278298046, 0.13871405591795083, 0.12543292290452998, 0.15199518893137165, 0.40876376052417424, 0.006704940931810916, 0.8448225574081755, 0.14080375956802924, 0.08506112063606515, 0.909499674493312, 0.9871381654661224, 0.9939656819994016, 0.9866121925967172, 0.9928794814184324, 0.43693763453988094, 0.5605159554198472, 0.9912423282971622, 0.989361396336224, 0.006145101840597664, 0.9956444283497912], \"Term\": [\"airlangga\", \"akn\", \"akselerasi\", \"alir_listrik\", \"amat\", \"anak_usaha\", \"andal\", \"anggar\", \"apbn\", \"apresiasi\", \"apresiasi\", \"arah\", \"arsjad_rasjid\", \"asia_tenggara\", \"atur\", \"atur\", \"baca\", \"baca\", \"badan\", \"badan_usaha\", \"bagus\", \"bahan_bakar\", \"bahas_ruu\", \"baik\", \"bakar\", \"bal\", \"banding\", \"bang\", \"banget\", \"banget\", \"bangkit\", \"bangkit\", \"bangkit\", \"bangkit\", \"bangkit\", \"bangkit\", \"bangkit\", \"bangkit_listrik\", \"bangkit_listrik\", \"bangun\", \"bangun\", \"bangun\", \"bangun\", \"bangun\", \"bangun\", \"bangun\", \"bangun_infrastruktur\", \"bank\", \"banyak\", \"bas\", \"bas\", \"bas\", \"bas\", \"baterai\", \"batu\", \"batu\", \"baur\", \"baur\", \"bawah\", \"beban\", \"beli\", \"beli\", \"beli_listrik\", \"bener\", \"besar\", \"besar\", \"besar\", \"biaya\", \"bidang\", \"bidang\", \"bidang\", \"bidang\", \"buka_peluang\", \"bukit_asam\", \"bukti\", \"bumi\", \"bumi\", \"bumi\", \"bumi\", \"bumn\", \"bumn\", \"butuh\", \"butuh\", \"butuh\", \"butuh\", \"butuh\", \"butuh\", \"butuh\", \"cak\", \"capai\", \"capai\", \"capai\", \"capai\", \"capai\", \"capai\", \"capai_persen\", \"capai_target\", \"cepat\", \"cepat\", \"cepat\", \"cepat\", \"cepat_transisi\", \"contoh\", \"contoh\", \"contoh\", \"daerah\", \"daerah\", \"daerah_pencil\", \"dampak\", \"dampak\", \"dampak_positif\", \"dana\", \"dana\", \"darmawan_prasodjo\", \"dasamuka_pln\", \"data\", \"data\", \"den\", \"depan\", \"desa\", \"dirjen_ebtke\", \"dirut\", \"doang\", \"dpr_ri\", \"dukung\", \"dukung\", \"dukung\", \"dukung\", \"dukung\", \"dukung\", \"e_hal\", \"e_hal\", \"efisien\", \"eksplorasi\", \"ekspor\", \"emang\", \"emg\", \"emisi\", \"emisi_karbon\", \"emission\", \"emission\", \"energy\", \"energy\", \"energy\", \"energy\", \"energy\", \"erick\", \"erick_thohir\", \"eropa\", \"esdm\", \"esdm\", \"esdm\", \"esdm\", \"esdm\", \"esdm\", \"esdm\", \"fasilitas\", \"fasilitas\", \"fasilitas\", \"firing_pltu\", \"fokus\", \"fokus\", \"gandeng\", \"garap\", \"gas_bumi\", \"gencar\", \"generasi_muda\", \"genjot\", \"genjot\", \"gin\", \"global\", \"green\", \"green\", \"guna\", \"guna\", \"guna\", \"guna\", \"guna\", \"guna\", \"guna\", \"guna\", \"habis\", \"hadir\", \"hambat\", \"hambat_kembang\", \"harga\", \"harga\", \"harga\", \"harga\", \"harga\", \"harga\", \"harga\", \"harga_listrik\", \"heroes\", \"heroes\", \"heroes\", \"heroes\", \"heroes\", \"heroes\", \"heroes\", \"hijau\", \"hijau\", \"hijau\", \"hilang\", \"hilir\", \"id\", \"id\", \"iklim\", \"indo\", \"indonesia\", \"indonesia\", \"indonesia\", \"indonesia\", \"indonesia\", \"indonesia\", \"indonesia\", \"indonesia\", \"indonesia_timur\", \"infrastruktur\", \"infrastruktur\", \"inggris\", \"investasi\", \"investasi\", \"investasi\", \"investasi\", \"investasi\", \"investasi\", \"investasi_sektor\", \"investor\", \"isi\", \"isu\", \"jadi\", \"jalan_lancar\", \"jangka\", \"jangka_pendek\", \"jenis\", \"jerman\", \"jual\", \"kabar\", \"kaji\", \"kalah\", \"kapasitas\", \"kapasitas_bangkit\", \"karbon\", \"karbon\", \"karbon\", \"kawasan_industri\", \"kejar\", \"kejar_target\", \"kembang\", \"kembang\", \"kembang\", \"kembang\", \"kembang\", \"kembang\", \"kembang\", \"kembang\", \"kendara\", \"kendara_listrik\", \"keren\", \"keren_banget\", \"kerja\", \"komisi\", \"komisi_vii\", \"komitmen\", \"komitmen\", \"kompetitif\", \"konversi_pltd\", \"kuat\", \"kuat\", \"kunci\", \"kunjung\", \"kurang\", \"kurang\", \"kurang\", \"kurang\", \"kurang_emisi\", \"laksana\", \"laku\", \"laku_usaha\", \"lancar\", \"langkah\", \"langkah_strategis\", \"larang_ekspor\", \"libat\", \"lingkung\", \"lingkung\", \"lingkung\", \"lingkung\", \"link\", \"liput\", \"lirik\", \"listrik\", \"listrik\", \"listrik\", \"listrik\", \"listrik\", \"listrik\", \"listrik\", \"listrik\", \"listrik\", \"luas\", \"mahal\", \"maju\", \"maju\", \"manfaat\", \"manfaat\", \"manfaat\", \"manfaat\", \"manfaat\", \"manfaat\", \"manfaat\", \"mantap\", \"masif\", \"menko_airlangga\", \"menteri\", \"menteri\", \"menteri\", \"menteri\", \"menteri\", \"menteri_bumn\", \"menteri_bumn_erick_thohir\", \"menteri_esdm\", \"menteri_jonan\", \"mesti\", \"micho\", \"migas\", \"migas\", \"miliar\", \"milik\", \"milik\", \"milik\", \"milik\", \"milik_potensi\", \"mimin\", \"mobil\", \"mobil_listrik\", \"mobile\", \"moga\", \"moga\", \"moga\", \"moga\", \"moga\", \"moga_lancar\", \"mudah\", \"murah\", \"murah\", \"negara\", \"negara\", \"negara\", \"negara\", \"negara\", \"negara_maju\", \"net\", \"net_zero\", \"niat\", \"nila_rp\", \"ntt\", \"nuklir\", \"nuklir\", \"nuklir\", \"online\", \"operasi\", \"optimis\", \"pake\", \"pake\", \"pake\", \"panas\", \"panas\", \"panas\", \"panas_bumi\", \"panel\", \"panel\", \"panel_surya\", \"pangan\", \"pasang\", \"pasang\", \"pasang\", \"pasang_plts\", \"pasar\", \"pasok\", \"pasok\", \"pasok\", \"pasok\", \"pasok_listrik\", \"penuh\", \"penuh\", \"penuh\", \"penuh_butuh\", \"penuh_target\", \"percaya\", \"perintah\", \"perintah\", \"perintah\", \"perintah\", \"perintah\", \"perintah\", \"perintah\", \"perintah\", \"perintah_serius\", \"perintah_siap\", \"permen\", \"permen_esdm\", \"persen\", \"persen\", \"persen\", \"persen\", \"pertamina\", \"pertamina\", \"pertamina\", \"pertamina_alokasi\", \"pimpin\", \"pln\", \"pln\", \"pln\", \"pln\", \"pln\", \"pln\", \"pln\", \"pln_id\", \"pln_id\", \"pln_persero\", \"plt\", \"plta\", \"plta_poso\", \"pltb\", \"pltd\", \"pltd\", \"pltn\", \"pltp\", \"pltp\", \"plts\", \"plts\", \"plts\", \"plts_apung\", \"plts_atap\", \"pltu\", \"polusi_udara\", \"porsi\", \"porsi\", \"positif\", \"poso\", \"potensi\", \"potensi\", \"potensi\", \"potensi\", \"potensi\", \"potensi\", \"potensi\", \"power\", \"pres\", \"presiden_joko\", \"presiden_jokowi\", \"prioritas\", \"prioritas\", \"prioritas\", \"prioritas\", \"program\", \"program\", \"program\", \"program\", \"program\", \"program\", \"program_firing\", \"program_konversi\", \"proses\", \"provinsi\", \"proyek\", \"proyek\", \"proyek\", \"proyeksi\", \"pulau\", \"pulau\", \"ramah\", \"ramah\", \"ramah_lingkung\", \"rancang\", \"realisasi\", \"rencana\", \"rendah\", \"renewable\", \"renewable\", \"renewable\", \"renewable_content\", \"renewable_content\", \"renewable_energy\", \"republika_online\", \"resmi\", \"resmi_operasi\", \"ribu\", \"riset\", \"riset\", \"rp\", \"rp_triliun\", \"rumah_tangga\", \"ruptl\", \"ruu\", \"ruu\", \"ruu\", \"saham\", \"salah_satu\", \"satu\", \"sebab\", \"sehat\", \"sektor\", \"sektor\", \"sektor\", \"sektor\", \"selesai\", \"sepakat\", \"serius\", \"serius\", \"serius\", \"sesuai\", \"siap\", \"simak\", \"simak_bawah\", \"simak_bawah\", \"simak_bawah\", \"simak_lengkap\", \"sinergi\", \"sinergi_bumn\", \"singapura\", \"sistem\", \"smart_grid\", \"sob\", \"sobat\", \"solar_panel\", \"strategi\", \"strategi\", \"strategis\", \"subholding_power\", \"subholding_power\", \"sukses\", \"sukses\", \"sulawesi\", \"sulawesi\", \"sulawesi_selatan\", \"sulit\", \"sulit\", \"sulit_capai\", \"sumber_daya\", \"surya\", \"surya\", \"surya\", \"surya\", \"surya\", \"swasta\", \"tahan_pangan\", \"tahap\", \"tahu\", \"tambah\", \"tambah_kapasitas\", \"tanah\", \"tanah_air\", \"tangan\", \"tantang\", \"target\", \"target\", \"target\", \"target\", \"target\", \"target\", \"target_baur\", \"tarif\", \"tarif\", \"tarif_listrik\", \"tekan\", \"tekan\", \"tekan_emisi\", \"tenaga_biogas\", \"tenaga_surya\", \"terbit\", \"terobos\", \"thohir\", \"tim\", \"timur\", \"tinggal\", \"tinggi\", \"tinggi_indonesia\", \"tingkat\", \"tingkat\", \"tingkat\", \"tingkat\", \"tingkat\", \"tingkat\", \"tingkat\", \"tingkat\", \"tingkat_baur\", \"tingkat_porsi\", \"top\", \"total\", \"total_daya\", \"total_kapasitas\", \"transisi\", \"trending\", \"triliun\", \"tuju\", \"tumbuh\", \"tumbuh\", \"tumbuh_ekonomi\", \"turun\", \"turun\", \"turun_emisi\", \"ubah\", \"ubah_iklim\", \"udien\", \"udien_pln\", \"untung\", \"us_miliar\", \"usaha\", \"usaha\", \"usaha\", \"usaha\", \"usaha\", \"usaha\", \"usul\", \"usul\", \"usul\", \"uu\", \"uu\", \"via_id\", \"vii\", \"wajib\", \"wilayah\", \"wujud\", \"wujud\", \"wujud_komitmen\", \"yantie_pln\", \"yantie_pln\", \"zero\"]}, \"R\": 30, \"lambda.step\": 0.01, \"plot.opts\": {\"xlab\": \"PC1\", \"ylab\": \"PC2\"}, \"topic.order\": [3, 6, 1, 9, 5, 4, 8, 7, 2]};\n",
              "\n",
              "function LDAvis_load_lib(url, callback){\n",
              "  var s = document.createElement('script');\n",
              "  s.src = url;\n",
              "  s.async = true;\n",
              "  s.onreadystatechange = s.onload = callback;\n",
              "  s.onerror = function(){console.warn(\"failed to load library \" + url);};\n",
              "  document.getElementsByTagName(\"head\")[0].appendChild(s);\n",
              "}\n",
              "\n",
              "if(typeof(LDAvis) !== \"undefined\"){\n",
              "   // already loaded: just create the visualization\n",
              "   !function(LDAvis){\n",
              "       new LDAvis(\"#\" + \"ldavis_el457921406478459721127063127455\", ldavis_el457921406478459721127063127455_data);\n",
              "   }(LDAvis);\n",
              "}else if(typeof define === \"function\" && define.amd){\n",
              "   // require.js is available: use it to load d3/LDAvis\n",
              "   require.config({paths: {d3: \"https://d3js.org/d3.v5\"}});\n",
              "   require([\"d3\"], function(d3){\n",
              "      window.d3 = d3;\n",
              "      LDAvis_load_lib(\"https://cdn.jsdelivr.net/gh/bmabey/pyLDAvis@3.3.1/pyLDAvis/js/ldavis.v3.0.0.js\", function(){\n",
              "        new LDAvis(\"#\" + \"ldavis_el457921406478459721127063127455\", ldavis_el457921406478459721127063127455_data);\n",
              "      });\n",
              "    });\n",
              "}else{\n",
              "    // require.js not available: dynamically load d3 & LDAvis\n",
              "    LDAvis_load_lib(\"https://d3js.org/d3.v5.js\", function(){\n",
              "         LDAvis_load_lib(\"https://cdn.jsdelivr.net/gh/bmabey/pyLDAvis@3.3.1/pyLDAvis/js/ldavis.v3.0.0.js\", function(){\n",
              "                 new LDAvis(\"#\" + \"ldavis_el457921406478459721127063127455\", ldavis_el457921406478459721127063127455_data);\n",
              "            })\n",
              "         });\n",
              "}\n",
              "</script>"
            ],
            "text/plain": [
              "PreparedData(topic_coordinates=                x           y  topics  cluster       Freq\n",
              "topic                                                    \n",
              "2      111.092506 -133.722946       1        1  17.218814\n",
              "5       34.946613  107.064590       2        1  13.093611\n",
              "0      -28.088213 -159.949036       3        1  12.247492\n",
              "8      147.698074   21.369604       4        1  11.950572\n",
              "4      -97.501183  126.981384       5        1  11.551321\n",
              "3       30.312096  -32.794945       6        1  10.291778\n",
              "7     -155.443665 -118.494690       7        1   9.010706\n",
              "6     -204.248108   22.596130       8        1   7.852999\n",
              "1      -79.404678   -6.864717       9        1   6.782706, topic_info=                   Term         Freq        Total Category  logprob  loglift\n",
              "7140             pln_id  2238.000000  2238.000000  Default  30.0000  30.0000\n",
              "357        menteri_esdm  1370.000000  1370.000000  Default  29.0000  29.0000\n",
              "10440  tinggi_indonesia  1000.000000  1000.000000  Default  28.0000  28.0000\n",
              "783     bangkit_listrik  1446.000000  1446.000000  Default  27.0000  27.0000\n",
              "3661           transisi  1104.000000  1104.000000  Default  26.0000  26.0000\n",
              "...                 ...          ...          ...      ...      ...      ...\n",
              "1104               dana   213.574669   261.364004   Topic9  -4.4577   2.4889\n",
              "303                baca   132.384103   155.339535   Topic9  -4.9360   2.5309\n",
              "762              serius   180.848728   253.219487   Topic9  -4.6240   2.3542\n",
              "320               tekan   179.373530   277.496262   Topic9  -4.6322   2.2545\n",
              "5272             heroes   120.121231   169.234776   Topic9  -5.0332   2.3480\n",
              "\n",
              "[435 rows x 6 columns], token_table=       Topic      Freq            Term\n",
              "term                                  \n",
              "1323       2  0.993035       airlangga\n",
              "678        2  0.989583             akn\n",
              "3655       3  0.992060      akselerasi\n",
              "2836       9  0.988162    alir_listrik\n",
              "3574       1  0.992129            amat\n",
              "...      ...       ...             ...\n",
              "2013       6  0.560516           wujud\n",
              "6645       6  0.991242  wujud_komitmen\n",
              "10521      3  0.989361      yantie_pln\n",
              "10521      7  0.006145      yantie_pln\n",
              "2571       4  0.995644            zero\n",
              "\n",
              "[631 rows x 3 columns], R=30, lambda_step=0.01, plot_opts={'xlab': 'PC1', 'ylab': 'PC2'}, topic_order=[3, 6, 1, 9, 5, 4, 8, 7, 2])"
            ]
          },
          "execution_count": 23,
          "metadata": {},
          "output_type": "execute_result"
        }
      ],
      "source": [
        "import pyLDAvis.gensim_models as gensimvis\n",
        "pyLDAvis.enable_notebook()\n",
        "panel = gensimvis.prepare(model, corpus_tfidf, dictionary, mds='tsne')\n",
        "panel"
      ]
    },
    {
      "cell_type": "code",
      "execution_count": null,
      "metadata": {},
      "outputs": [],
      "source": []
    }
  ],
  "metadata": {
    "accelerator": "TPU",
    "colab": {
      "collapsed_sections": [],
      "name": "Data Kualitatif- LDA.ipynb",
      "provenance": []
    },
    "kernelspec": {
      "display_name": "Python 3.9.7 ('venv': venv)",
      "language": "python",
      "name": "python3"
    },
    "language_info": {
      "codemirror_mode": {
        "name": "ipython",
        "version": 3
      },
      "file_extension": ".py",
      "mimetype": "text/x-python",
      "name": "python",
      "nbconvert_exporter": "python",
      "pygments_lexer": "ipython3",
      "version": "3.9.7"
    },
    "vscode": {
      "interpreter": {
        "hash": "00a08332a9656d07fb15950983716ae1dc3baeb86e6935d123f31572ce96d1e2"
      }
    }
  },
  "nbformat": 4,
  "nbformat_minor": 0
}
