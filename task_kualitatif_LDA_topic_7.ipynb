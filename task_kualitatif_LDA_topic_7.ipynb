{
  "cells": [
    {
      "cell_type": "code",
      "execution_count": 12,
      "metadata": {
        "id": "xLTR8avada_P"
      },
      "outputs": [],
      "source": [
        "import warnings\n",
        "warnings.filterwarnings('ignore')\n",
        "import pandas as pd #a library to make the data more structured55r56y6y"
      ]
    },
    {
      "cell_type": "code",
      "execution_count": 13,
      "metadata": {
        "colab": {
          "base_uri": "https://localhost:8080/",
          "height": 372
        },
        "id": "SqJ6bJwOdmxH",
        "outputId": "4c42ea1b-af2c-4219-d627-0e55f2195cc1"
      },
      "outputs": [],
      "source": [
        "df = pd.read_csv('data/text-preprocessing.csv')\n",
        "df = df.drop(columns=['Unnamed: 0'])"
      ]
    },
    {
      "cell_type": "code",
      "execution_count": 14,
      "metadata": {
        "colab": {
          "base_uri": "https://localhost:8080/"
        },
        "id": "MxWR5yAqMP_S",
        "outputId": "d9a66715-3b7c-449c-9244-5372b4ced4b5"
      },
      "outputs": [
        {
          "data": {
            "text/plain": [
              "(109705, 23)"
            ]
          },
          "execution_count": 14,
          "metadata": {},
          "output_type": "execute_result"
        }
      ],
      "source": [
        "df.shape"
      ]
    },
    {
      "cell_type": "code",
      "execution_count": 15,
      "metadata": {
        "colab": {
          "base_uri": "https://localhost:8080/"
        },
        "id": "Oy0uwRRPcksH",
        "outputId": "ba7c1c66-ad10-4e2d-cc0c-781bcecd9334"
      },
      "outputs": [
        {
          "name": "stdout",
          "output_type": "stream",
          "text": [
            "<class 'pandas.core.frame.DataFrame'>\n",
            "RangeIndex: 109705 entries, 0 to 109704\n",
            "Data columns (total 23 columns):\n",
            " #   Column                       Non-Null Count   Dtype  \n",
            "---  ------                       --------------   -----  \n",
            " 0   tweet_id                     109705 non-null  int64  \n",
            " 1   author_name                  109705 non-null  object \n",
            " 2   author_username              109705 non-null  object \n",
            " 3   author_location              78272 non-null   object \n",
            " 4   content                      109705 non-null  object \n",
            " 5   content_clean                109437 non-null  object \n",
            " 6   like_count                   109604 non-null  float64\n",
            " 7   retweet_count                17012 non-null   float64\n",
            " 8   reply_count                  16620 non-null   float64\n",
            " 9   source                       109705 non-null  object \n",
            " 10  keyword                      109705 non-null  object \n",
            " 11  address                      64928 non-null   object \n",
            " 12  longitude                    66438 non-null   float64\n",
            " 13  latitude                     66438 non-null   float64\n",
            " 14  province                     64297 non-null   object \n",
            " 15  city                         41183 non-null   object \n",
            " 16  country                      66419 non-null   object \n",
            " 17  created_at                   109705 non-null  object \n",
            " 18  content_token                109705 non-null  object \n",
            " 19  tweet_tokens_fdist           109705 non-null  object \n",
            " 20  tweet_tokens_WSW             109705 non-null  object \n",
            " 21  tweet_tokens_stemmed         109705 non-null  object \n",
            " 22  tweet_tokens_stemmed_string  109404 non-null  object \n",
            "dtypes: float64(5), int64(1), object(17)\n",
            "memory usage: 19.3+ MB\n"
          ]
        }
      ],
      "source": [
        "df.info()"
      ]
    },
    {
      "cell_type": "code",
      "execution_count": 16,
      "metadata": {
        "id": "3PYA4slIdNBD"
      },
      "outputs": [],
      "source": [
        "df_new = df[df['tweet_tokens_stemmed_string'].notnull()]"
      ]
    },
    {
      "cell_type": "code",
      "execution_count": 17,
      "metadata": {
        "colab": {
          "base_uri": "https://localhost:8080/"
        },
        "id": "uiih8RfJcG3C",
        "outputId": "cdec65c1-675f-4022-e661-e57038cd2a71"
      },
      "outputs": [
        {
          "data": {
            "text/plain": [
              "0    lomba poster ilmiah energi baru deadline janua...\n",
              "1                 elaahhh ngomong energi baru tv biruu\n",
              "2    daerah pencil membutuhkam listrik manfaat ener...\n",
              "3    tarik materi energi baru baek ganti nama propa...\n",
              "4    aneh inget jatropa alias minyak jarak bbrp jat...\n",
              "Name: tweet_tokens_stemmed_string, dtype: object"
            ]
          },
          "execution_count": 17,
          "metadata": {},
          "output_type": "execute_result"
        }
      ],
      "source": [
        "df_new['tweet_tokens_stemmed_string'].head()"
      ]
    },
    {
      "cell_type": "code",
      "execution_count": 18,
      "metadata": {
        "colab": {
          "base_uri": "https://localhost:8080/"
        },
        "id": "GGejGqbRh6W4",
        "outputId": "89c44e3a-3677-4a98-9a81-d3184e372c0d"
      },
      "outputs": [
        {
          "name": "stdout",
          "output_type": "stream",
          "text": [
            "Case Folding Result : \n",
            "\n",
            "0    lomba poster ilmiah energi baru deadline janua...\n",
            "1                 elaahhh ngomong energi baru tv biruu\n",
            "2    daerah pencil membutuhkam listrik manfaat ener...\n",
            "3    tarik materi energi baru baek ganti nama propa...\n",
            "4    aneh inget jatropa alias minyak jarak bbrp jat...\n",
            "Name: tweet_tokens_stemmed_string, dtype: object\n"
          ]
        }
      ],
      "source": [
        "#lower text\n",
        "# ------ Case Folding --------\n",
        "# gunakan fungsi Series.str.lower() pada Pandas\n",
        "df_new['tweet_tokens_stemmed_string'] = df_new['tweet_tokens_stemmed_string'].str.lower()\n",
        "\n",
        "\n",
        "print('Case Folding Result : \\n')\n",
        "print(df_new['tweet_tokens_stemmed_string'].head(5))\n"
      ]
    },
    {
      "cell_type": "code",
      "execution_count": 19,
      "metadata": {
        "colab": {
          "base_uri": "https://localhost:8080/"
        },
        "id": "Aox9mh-NFJaY",
        "outputId": "dc62a84f-cf29-41fc-a1b4-83dbeff37ddc"
      },
      "outputs": [
        {
          "name": "stdout",
          "output_type": "stream",
          "text": [
            "109404\n"
          ]
        }
      ],
      "source": [
        "text = df_new['tweet_tokens_stemmed_string']\n",
        "text_list =  [i.split() for i in text]\n",
        "#text_list =  [i for i in text]\n",
        "print(len(text_list))"
      ]
    },
    {
      "cell_type": "code",
      "execution_count": 20,
      "metadata": {
        "colab": {
          "base_uri": "https://localhost:8080/"
        },
        "id": "Z4Y-nzFZdmOz",
        "outputId": "a63b5e1c-301a-4d94-f1bb-9d06647e3422"
      },
      "outputs": [
        {
          "name": "stdout",
          "output_type": "stream",
          "text": [
            "Frequency Tokens : \n",
            "\n"
          ]
        },
        {
          "data": {
            "text/plain": [
              "0    [( , 11), (a, 10), (e, 6), (i, 6), (s, 5), (r,...\n",
              "1    [( , 5), (e, 3), (a, 3), (h, 3), (n, 3), (g, 3...\n",
              "2    [(a, 7), ( , 6), (e, 5), (r, 4), (i, 4), (m, 4...\n",
              "3    [(a, 10), ( , 8), (r, 5), (i, 5), (e, 4), (t, ...\n",
              "4    [(a, 12), ( , 12), (r, 8), (e, 7), (b, 6), (i,...\n",
              "Name: tweet_tokens_stemmed_string, dtype: object"
            ]
          },
          "execution_count": 20,
          "metadata": {},
          "output_type": "execute_result"
        }
      ],
      "source": [
        "#masi salah hasil frekuensi nya\n",
        "# NLTK calc frequency distribution\n",
        "from nltk.probability import FreqDist\n",
        "def freqDist_wrapper(text):\n",
        "    return FreqDist(text)\n",
        "\n",
        "df_new['tweet_tokens_stemmed_string'] = df_new['tweet_tokens_stemmed_string'].apply(freqDist_wrapper)\n",
        "\n",
        "print('Frequency Tokens : \\n') \n",
        "df_new['tweet_tokens_stemmed_string'].head().apply(lambda x : x.most_common())"
      ]
    },
    {
      "cell_type": "code",
      "execution_count": 21,
      "metadata": {
        "id": "fHH5EmZWfh7Q"
      },
      "outputs": [],
      "source": [
        "#https://sites.unpad.ac.id/widodo/2021/03/09/nlp-dengan-python/"
      ]
    },
    {
      "cell_type": "code",
      "execution_count": 22,
      "metadata": {
        "id": "qnLvYqUHc5Jj"
      },
      "outputs": [],
      "source": [
        "import gensim\n",
        "#Create Bigram & Trigram Models \n",
        "from gensim.models import Phrases\n",
        "# Add bigrams and trigrams to docs,minimum count 10 means only that appear 10 times or more.\n",
        "bigram = Phrases(text_list, min_count=10)\n",
        "trigram = Phrases(bigram[text_list])\n",
        "for idx in range(len(text_list)):\n",
        "    for token in bigram[text_list[idx]]:\n",
        "        if '_' in token:\n",
        "            # Token is a bigram, add to document.\n",
        "            text_list[idx].append(token)\n",
        "    for token in trigram[text_list[idx]]:\n",
        "        if '_' in token:\n",
        "            # Token is a bigram, add to document.\n",
        "            text_list[idx].append(token)"
      ]
    },
    {
      "cell_type": "code",
      "execution_count": 23,
      "metadata": {
        "colab": {
          "base_uri": "https://localhost:8080/"
        },
        "id": "EO5hqr3Ufk0S",
        "outputId": "0ff90687-35bf-4851-e1fd-5e3d61b8f9dd"
      },
      "outputs": [
        {
          "name": "stdout",
          "output_type": "stream",
          "text": [
            "Dictionary<16354 unique tokens: ['deadline', 'derajat', 'ilmiah', 'januari', 'lomba']...>\n"
          ]
        }
      ],
      "source": [
        "from gensim import corpora, models\n",
        "# Create a dictionary representation of the documents.\n",
        "dictionary = corpora.Dictionary(text_list)\n",
        "dictionary.filter_extremes(no_below=5, no_above=0.2) \n",
        "#no_below (int, optional) – Keep tokens which are contained in at least no_below documents.\n",
        "#no_above (float, optional) – Keep tokens which are contained in no more than no_above documents (fraction of total corpus size, not an absolute number).\n",
        "print(dictionary)"
      ]
    },
    {
      "cell_type": "code",
      "execution_count": 24,
      "metadata": {
        "colab": {
          "base_uri": "https://localhost:8080/"
        },
        "id": "oF92M3p_fqlQ",
        "outputId": "3b77b4e1-2901-4b52-9698-4ea50bb0fa14"
      },
      "outputs": [
        {
          "name": "stdout",
          "output_type": "stream",
          "text": [
            "109404\n",
            "[(35, 1), (188, 1)]\n"
          ]
        }
      ],
      "source": [
        "#https://radimrehurek.com/gensim/tut1.html \n",
        "#build corpus\n",
        "# Converting list of documents (corpus) into Document Term Matrix using dictionary prepared above.\n",
        "doc_term_matrix = [dictionary.doc2bow(doc) for doc in text_list]\n",
        "#The function doc2bow converts document (a list of words) into the bag-of-words format\n",
        "'''The function doc2bow() simply counts the number of occurrences of each distinct word, \n",
        "converts the word to its integer word id and returns the result as a sparse vector. \n",
        "The sparse vector [(0, 1), (1, 1)] therefore reads: in the document “Human computer interaction”, \n",
        "the words computer (id 0) and human (id 1) appear once; \n",
        "the other ten dictionary words appear (implicitly) zero times.'''\n",
        "print(len(doc_term_matrix))\n",
        "print(doc_term_matrix[100])\n",
        "tfidf = models.TfidfModel(doc_term_matrix) #build TF-IDF model\n",
        "corpus_tfidf = tfidf[doc_term_matrix]"
      ]
    },
    {
      "cell_type": "code",
      "execution_count": 25,
      "metadata": {
        "id": "m5ZUrlyFfx85"
      },
      "outputs": [],
      "source": [
        "from gensim.models.coherencemodel import CoherenceModel\n",
        "from gensim.models.ldamodel import LdaModel\n",
        "from gensim.corpora.dictionary import Dictionary\n",
        "from numpy import array\n",
        "#function to compute coherence values\n",
        "def compute_coherence_values(dictionary, corpus, texts, limit, start, step):\n",
        "    coherence_values = []\n",
        "    model_list = []\n",
        "    for num_topics in range(start, limit, step):\n",
        "        model = LdaModel(corpus=corpus, id2word=dictionary, num_topics=num_topics, iterations=100, random_state=1)\n",
        "        model_list.append(model)\n",
        "        coherencemodel = CoherenceModel(model=model, texts=texts, dictionary=dictionary, coherence='c_v')\n",
        "        coherence_values.append(coherencemodel.get_coherence())\n",
        "        \n",
        "    return model_list, coherence_values"
      ]
    },
    {
      "cell_type": "code",
      "execution_count": 26,
      "metadata": {
        "colab": {
          "base_uri": "https://localhost:8080/",
          "height": 279
        },
        "id": "IBkB1bzOf3AP",
        "outputId": "73fe3950-434a-4fa4-8f87-77a708f4fe7c"
      },
      "outputs": [
        {
          "data": {
            "image/png": "[encoded data removed]",
            "text/plain": [
              "<Figure size 432x288 with 1 Axes>"
            ]
          },
          "metadata": {
            "needs_background": "light"
          },
          "output_type": "display_data"
        }
      ],
      "source": [
        "start=1\n",
        "limit=21\n",
        "step=1\n",
        "model_list, coherence_values = compute_coherence_values(dictionary, corpus=corpus_tfidf, \n",
        "                                                        texts=text_list, start=start, limit=limit, step=step)\n",
        "#show graphs\n",
        "import matplotlib.pyplot as plt\n",
        "x = range(start, limit, step)\n",
        "plt.plot(x, coherence_values)\n",
        "plt.xlabel(\"Num Topics\")\n",
        "plt.ylabel(\"Coherence score\")\n",
        "plt.legend((\"coherence_values\"), loc='best')\n",
        "plt.show()"
      ]
    },
    {
      "cell_type": "code",
      "execution_count": 27,
      "metadata": {
        "colab": {
          "base_uri": "https://localhost:8080/"
        },
        "id": "qaNFv0PIgDYh",
        "outputId": "af7077fa-f1e8-4fb7-e0d6-d84eb319f207"
      },
      "outputs": [
        {
          "name": "stdout",
          "output_type": "stream",
          "text": [
            "Num Topics = 1  has Coherence Value of 0.517\n",
            "Num Topics = 2  has Coherence Value of 0.539\n",
            "Num Topics = 3  has Coherence Value of 0.436\n",
            "Num Topics = 4  has Coherence Value of 0.435\n",
            "Num Topics = 5  has Coherence Value of 0.423\n",
            "Num Topics = 6  has Coherence Value of 0.402\n",
            "Num Topics = 7  has Coherence Value of 0.424\n",
            "Num Topics = 8  has Coherence Value of 0.386\n",
            "Num Topics = 9  has Coherence Value of 0.41\n",
            "Num Topics = 10  has Coherence Value of 0.369\n",
            "Num Topics = 11  has Coherence Value of 0.332\n",
            "Num Topics = 12  has Coherence Value of 0.363\n",
            "Num Topics = 13  has Coherence Value of 0.346\n",
            "Num Topics = 14  has Coherence Value of 0.352\n",
            "Num Topics = 15  has Coherence Value of 0.321\n",
            "Num Topics = 16  has Coherence Value of 0.322\n",
            "Num Topics = 17  has Coherence Value of 0.321\n",
            "Num Topics = 18  has Coherence Value of 0.327\n",
            "Num Topics = 19  has Coherence Value of 0.328\n",
            "Num Topics = 20  has Coherence Value of 0.313\n"
          ]
        }
      ],
      "source": [
        "# Print the coherence scores\n",
        "for m, cv in zip(x, coherence_values):\n",
        "    print(\"Num Topics =\", m, \" has Coherence Value of\", round(cv, 3))"
      ]
    },
    {
      "cell_type": "code",
      "execution_count": 28,
      "metadata": {
        "colab": {
          "base_uri": "https://localhost:8080/"
        },
        "id": "SWVlH8xAgPCu",
        "outputId": "7cc1b7d8-54f0-441e-cb60-e3aa1e8684fa"
      },
      "outputs": [],
      "source": [
        "model = LdaModel(corpus=corpus_tfidf, id2word=dictionary, num_topics=7, random_state=1) #num topic menyesuaikan hasil dari coherence value paling tinggi"
      ]
    },
    {
      "cell_type": "code",
      "execution_count": 29,
      "metadata": {},
      "outputs": [
        {
          "name": "stdout",
          "output_type": "stream",
          "text": [
            "Topic: 1 Word: 0.030*\"bangkit_listrik\" + 0.021*\"capai_target\" + 0.020*\"bangkit\" + 0.018*\"target\" + 0.016*\"baur\" + 0.016*\"panas_bumi\" + 0.016*\"capai\" + 0.013*\"pln\" + 0.013*\"listrik\" + 0.012*\"kejar_target\"\n",
            "Topic: 2 Word: 0.052*\"target_baur\" + 0.043*\"menteri_bumn\" + 0.016*\"dana\" + 0.016*\"negara_maju\" + 0.015*\"tenaga_biogas\" + 0.014*\"alas\" + 0.014*\"untung\" + 0.013*\"anggar\" + 0.012*\"harga_jual\" + 0.011*\"subsidi\"\n",
            "Topic: 3 Word: 0.013*\"wujud\" + 0.009*\"rencana\" + 0.009*\"renewable_energy\" + 0.009*\"capai_persen\" + 0.009*\"milik_potensi\" + 0.008*\"cepat_transisi\" + 0.008*\"beli_listrik\" + 0.008*\"pln\" + 0.008*\"transisi\" + 0.008*\"indonesia_timur\"\n",
            "Topic: 4 Word: 0.022*\"erick_thohir\" + 0.012*\"kembang\" + 0.011*\"erick\" + 0.010*\"thohir\" + 0.009*\"investor\" + 0.009*\"panel_surya\" + 0.008*\"yantie_pln\" + 0.008*\"realisasi\" + 0.008*\"udien_pln\" + 0.007*\"tekan\"\n",
            "Topic: 5 Word: 0.033*\"menteri_esdm\" + 0.011*\"menteri\" + 0.011*\"esdm\" + 0.010*\"pltu\" + 0.009*\"tinggi_indonesia\" + 0.009*\"bahan_bakar\" + 0.008*\"buka_peluang\" + 0.008*\"kembang\" + 0.007*\"komisi_vii\" + 0.007*\"harga\"\n",
            "Topic: 6 Word: 0.046*\"pln_id\" + 0.023*\"pln\" + 0.018*\"ramah_lingkung\" + 0.018*\"id\" + 0.016*\"transisi\" + 0.010*\"ruu\" + 0.010*\"dukung\" + 0.010*\"indonesia\" + 0.010*\"plta\" + 0.009*\"kembang\"\n",
            "Topic: 7 Word: 0.015*\"plts_atap\" + 0.012*\"tenaga_surya\" + 0.011*\"operasi\" + 0.011*\"larang_ekspor\" + 0.010*\"tambah\" + 0.008*\"mobil_listrik\" + 0.008*\"jalan\" + 0.008*\"pres\" + 0.008*\"keren\" + 0.007*\"nuklir\"\n"
          ]
        }
      ],
      "source": [
        "for idx, topic in model.print_topics():\n",
        "    print('Topic: {} Word: {}'.format(idx+1, topic))\n",
        "    # yg belum remove Yang, yg,trus lower text"
      ]
    },
    {
      "cell_type": "code",
      "execution_count": 30,
      "metadata": {},
      "outputs": [
        {
          "name": "stdout",
          "output_type": "stream",
          "text": [
            "1 0.030*\"bangkit_listrik\" + 0.021*\"capai_target\" + 0.020*\"bangkit\" + 0.018*\"target\" + 0.016*\"baur\" + 0.016*\"panas_bumi\" + 0.016*\"capai\" + 0.013*\"pln\" + 0.013*\"listrik\" + 0.012*\"kejar_target\" \n",
            "\n",
            "2 0.052*\"target_baur\" + 0.043*\"menteri_bumn\" + 0.016*\"dana\" + 0.016*\"negara_maju\" + 0.015*\"tenaga_biogas\" + 0.014*\"alas\" + 0.014*\"untung\" + 0.013*\"anggar\" + 0.012*\"harga_jual\" + 0.011*\"subsidi\" \n",
            "\n",
            "3 0.013*\"wujud\" + 0.009*\"rencana\" + 0.009*\"renewable_energy\" + 0.009*\"capai_persen\" + 0.009*\"milik_potensi\" + 0.008*\"cepat_transisi\" + 0.008*\"beli_listrik\" + 0.008*\"pln\" + 0.008*\"transisi\" + 0.008*\"indonesia_timur\" \n",
            "\n",
            "4 0.022*\"erick_thohir\" + 0.012*\"kembang\" + 0.011*\"erick\" + 0.010*\"thohir\" + 0.009*\"investor\" + 0.009*\"panel_surya\" + 0.008*\"yantie_pln\" + 0.008*\"realisasi\" + 0.008*\"udien_pln\" + 0.007*\"tekan\" \n",
            "\n",
            "5 0.033*\"menteri_esdm\" + 0.011*\"menteri\" + 0.011*\"esdm\" + 0.010*\"pltu\" + 0.009*\"tinggi_indonesia\" + 0.009*\"bahan_bakar\" + 0.008*\"buka_peluang\" + 0.008*\"kembang\" + 0.007*\"komisi_vii\" + 0.007*\"harga\" \n",
            "\n",
            "6 0.046*\"pln_id\" + 0.023*\"pln\" + 0.018*\"ramah_lingkung\" + 0.018*\"id\" + 0.016*\"transisi\" + 0.010*\"ruu\" + 0.010*\"dukung\" + 0.010*\"indonesia\" + 0.010*\"plta\" + 0.009*\"kembang\" \n",
            "\n",
            "7 0.015*\"plts_atap\" + 0.012*\"tenaga_surya\" + 0.011*\"operasi\" + 0.011*\"larang_ekspor\" + 0.010*\"tambah\" + 0.008*\"mobil_listrik\" + 0.008*\"jalan\" + 0.008*\"pres\" + 0.008*\"keren\" + 0.007*\"nuklir\" \n",
            "\n"
          ]
        }
      ],
      "source": [
        "for i in range(0, model.num_topics):\n",
        "    print(i+1,model.print_topic(i), \"\\n\")"
      ]
    },
    {
      "cell_type": "code",
      "execution_count": 31,
      "metadata": {
        "colab": {
          "base_uri": "https://localhost:8080/"
        },
        "id": "t5CsIHbigduf",
        "outputId": "ad397ac7-6944-411e-f515-2a9344191f97"
      },
      "outputs": [
        {
          "name": "stdout",
          "output_type": "stream",
          "text": [
            "None\n"
          ]
        }
      ],
      "source": [
        "import pandas as pd\n",
        "top_words_per_topic = []\n",
        "for t in range(model.num_topics):\n",
        "    top_words_per_topic.extend([(t, ) + x for x in model.show_topic(t, topn = 5)]) #ubah2 yg ini\n",
        "# df=pd.DataFrame(top_words_per_topic, columns=['Topic', 'Word', 'P']).to_csv(\"top_words_topic_20.csv\")\n",
        "df = pd.DataFrame(top_words_per_topic, columns=['Topic', 'Word','P']).to_excel(\"data/lda_model.xlsx\")\n",
        "print(df)\n"
      ]
    },
    {
      "cell_type": "code",
      "execution_count": 32,
      "metadata": {
        "colab": {
          "base_uri": "https://localhost:8080/"
        },
        "id": "QSxbGusaEOl8",
        "outputId": "8776726e-83fd-480b-c4cb-9b3cdd8883a3"
      },
      "outputs": [
        {
          "name": "stdout",
          "output_type": "stream",
          "text": [
            "Requirement already satisfied: pyLDAvis in /Users/indralionardy/Personal/twitter/venv/lib/python3.9/site-packages (3.3.1)\n",
            "Requirement already satisfied: scikit-learn in /Users/indralionardy/Personal/twitter/venv/lib/python3.9/site-packages (from pyLDAvis) (1.1.1)\n",
            "Requirement already satisfied: numexpr in /Users/indralionardy/Personal/twitter/venv/lib/python3.9/site-packages (from pyLDAvis) (2.8.3)\n",
            "Requirement already satisfied: joblib in /Users/indralionardy/Personal/twitter/venv/lib/python3.9/site-packages (from pyLDAvis) (1.1.0)\n",
            "Requirement already satisfied: gensim in /Users/indralionardy/Personal/twitter/venv/lib/python3.9/site-packages (from pyLDAvis) (4.2.0)\n",
            "Requirement already satisfied: pandas>=1.2.0 in /Users/indralionardy/Personal/twitter/venv/lib/python3.9/site-packages (from pyLDAvis) (1.4.2)\n",
            "Requirement already satisfied: sklearn in /Users/indralionardy/Personal/twitter/venv/lib/python3.9/site-packages (from pyLDAvis) (0.0)\n",
            "Requirement already satisfied: jinja2 in /Users/indralionardy/Personal/twitter/venv/lib/python3.9/site-packages (from pyLDAvis) (3.1.2)\n",
            "Requirement already satisfied: setuptools in /Users/indralionardy/Personal/twitter/venv/lib/python3.9/site-packages (from pyLDAvis) (57.4.0)\n",
            "Requirement already satisfied: future in /Users/indralionardy/Personal/twitter/venv/lib/python3.9/site-packages (from pyLDAvis) (0.18.2)\n",
            "Requirement already satisfied: funcy in /Users/indralionardy/Personal/twitter/venv/lib/python3.9/site-packages (from pyLDAvis) (1.17)\n",
            "Requirement already satisfied: scipy in /Users/indralionardy/Personal/twitter/venv/lib/python3.9/site-packages (from pyLDAvis) (1.8.1)\n",
            "Requirement already satisfied: numpy>=1.20.0 in /Users/indralionardy/Personal/twitter/venv/lib/python3.9/site-packages (from pyLDAvis) (1.22.4)\n",
            "Requirement already satisfied: pytz>=2020.1 in /Users/indralionardy/Personal/twitter/venv/lib/python3.9/site-packages (from pandas>=1.2.0->pyLDAvis) (2022.1)\n",
            "Requirement already satisfied: python-dateutil>=2.8.1 in /Users/indralionardy/Personal/twitter/venv/lib/python3.9/site-packages (from pandas>=1.2.0->pyLDAvis) (2.8.2)\n",
            "Requirement already satisfied: smart-open>=1.8.1 in /Users/indralionardy/Personal/twitter/venv/lib/python3.9/site-packages (from gensim->pyLDAvis) (5.2.1)\n",
            "Requirement already satisfied: MarkupSafe>=2.0 in /Users/indralionardy/Personal/twitter/venv/lib/python3.9/site-packages (from jinja2->pyLDAvis) (2.1.1)\n",
            "Requirement already satisfied: packaging in /Users/indralionardy/Personal/twitter/venv/lib/python3.9/site-packages (from numexpr->pyLDAvis) (21.3)\n",
            "Requirement already satisfied: threadpoolctl>=2.0.0 in /Users/indralionardy/Personal/twitter/venv/lib/python3.9/site-packages (from scikit-learn->pyLDAvis) (3.1.0)\n",
            "Requirement already satisfied: six>=1.5 in /Users/indralionardy/Personal/twitter/venv/lib/python3.9/site-packages (from python-dateutil>=2.8.1->pandas>=1.2.0->pyLDAvis) (1.16.0)\n",
            "Requirement already satisfied: pyparsing!=3.0.5,>=2.0.2 in /Users/indralionardy/Personal/twitter/venv/lib/python3.9/site-packages (from packaging->numexpr->pyLDAvis) (3.0.9)\n"
          ]
        }
      ],
      "source": [
        "#ini dilakukan jika module belum tersedia\n",
        "!pip install pyLDAvis\n",
        "#!apt-get -qq install -y pyLDAvis"
      ]
    },
    {
      "cell_type": "code",
      "execution_count": 33,
      "metadata": {
        "colab": {
          "base_uri": "https://localhost:8080/"
        },
        "id": "5BGTseD4gFRQ",
        "outputId": "39e9537e-6629-43ea-bfa0-e077c4ac7f89"
      },
      "outputs": [
        {
          "name": "stderr",
          "output_type": "stream",
          "text": [
            "/Users/indralionardy/Personal/sara/tugas-akhir/venv/lib/python3.9/site-packages/past/builtins/misc.py:45: DeprecationWarning: the imp module is deprecated in favour of importlib; see the module's documentation for alternative uses\n",
            "  from imp import reload\n",
            "/Users/indralionardy/Personal/sara/tugas-akhir/venv/lib/python3.9/site-packages/past/builtins/misc.py:45: DeprecationWarning: the imp module is deprecated in favour of importlib; see the module's documentation for alternative uses\n",
            "  from imp import reload\n",
            "/Users/indralionardy/Personal/sara/tugas-akhir/venv/lib/python3.9/site-packages/past/builtins/misc.py:45: DeprecationWarning: the imp module is deprecated in favour of importlib; see the module's documentation for alternative uses\n",
            "  from imp import reload\n",
            "/Users/indralionardy/Personal/sara/tugas-akhir/venv/lib/python3.9/site-packages/past/builtins/misc.py:45: DeprecationWarning: the imp module is deprecated in favour of importlib; see the module's documentation for alternative uses\n",
            "  from imp import reload\n",
            "/Users/indralionardy/Personal/sara/tugas-akhir/venv/lib/python3.9/site-packages/past/builtins/misc.py:45: DeprecationWarning: the imp module is deprecated in favour of importlib; see the module's documentation for alternative uses\n",
            "  from imp import reload\n",
            "/Users/indralionardy/Personal/sara/tugas-akhir/venv/lib/python3.9/site-packages/past/builtins/misc.py:45: DeprecationWarning: the imp module is deprecated in favour of importlib; see the module's documentation for alternative uses\n",
            "  from imp import reload\n",
            "/Users/indralionardy/Personal/sara/tugas-akhir/venv/lib/python3.9/site-packages/past/builtins/misc.py:45: DeprecationWarning: the imp module is deprecated in favour of importlib; see the module's documentation for alternative uses\n",
            "  from imp import reload\n",
            "/Users/indralionardy/Personal/sara/tugas-akhir/venv/lib/python3.9/site-packages/past/builtins/misc.py:45: DeprecationWarning: the imp module is deprecated in favour of importlib; see the module's documentation for alternative uses\n",
            "  from imp import reload\n",
            "/Users/indralionardy/Personal/sara/tugas-akhir/venv/lib/python3.9/site-packages/past/builtins/misc.py:45: DeprecationWarning: the imp module is deprecated in favour of importlib; see the module's documentation for alternative uses\n",
            "  from imp import reload\n"
          ]
        },
        {
          "name": "stdout",
          "output_type": "stream",
          "text": [
            "PreparedData(topic_coordinates=              x         y  topics  cluster       Freq\n",
            "topic                                                \n",
            "2     -0.035383 -0.238855       1        1  17.356396\n",
            "0      0.204753  0.095364       2        1  16.756378\n",
            "5      0.169429 -0.143969       3        1  16.706684\n",
            "4      0.066384  0.074683       4        1  14.383825\n",
            "6     -0.086128  0.246700       5        1  13.199613\n",
            "3      0.001788  0.005644       6        1  11.577854\n",
            "1     -0.320843 -0.039567       7        1  10.019249, topic_info=                  Term         Freq        Total Category  logprob  loglift\n",
            "7140            pln_id  2086.000000  2086.000000  Default  30.0000  30.0000\n",
            "1895       target_baur  1409.000000  1409.000000  Default  29.0000  29.0000\n",
            "3787      menteri_bumn  1165.000000  1165.000000  Default  28.0000  28.0000\n",
            "357       menteri_esdm  1310.000000  1310.000000  Default  27.0000  27.0000\n",
            "783    bangkit_listrik  1375.000000  1375.000000  Default  26.0000  26.0000\n",
            "...                ...          ...          ...      ...      ...      ...\n",
            "577              pulau   234.121436   254.845400   Topic7  -4.7560   2.2158\n",
            "198            subsidi   293.837614   429.316870   Topic7  -4.5288   1.9215\n",
            "999               jual   247.204466   334.444833   Topic7  -4.7016   1.9984\n",
            "314              hijau   208.154314   513.154438   Topic7  -4.8735   1.3984\n",
            "10994           bahlil   161.139216   212.498535   Topic7  -5.1296   2.0240\n",
            "\n",
            "[346 rows x 6 columns], token_table=       Topic      Freq        Term\n",
            "term                              \n",
            "1323       3  0.990037   airlangga\n",
            "128        7  0.995326         aku\n",
            "383        7  0.997524        alas\n",
            "389        3  0.323151        alih\n",
            "389        4  0.247259        alih\n",
            "...      ...       ...         ...\n",
            "10521      3  0.003772  yantie_pln\n",
            "10521      6  0.991973  yantie_pln\n",
            "2571       1  0.032322        zero\n",
            "2571       3  0.958894        zero\n",
            "2571       5  0.010774        zero\n",
            "\n",
            "[510 rows x 3 columns], R=30, lambda_step=0.01, plot_opts={'xlab': 'PC1', 'ylab': 'PC2'}, topic_order=[3, 1, 6, 5, 7, 4, 2])\n"
          ]
        }
      ],
      "source": [
        "#import gensim\n",
        "import pyLDAvis\n",
        "import pyLDAvis.gensim_models;pyLDAvis.enable_notebook()\n",
        "data = pyLDAvis.gensim_models.prepare(model, corpus_tfidf, dictionary)\n",
        "print(data)\n",
        "pyLDAvis.save_html(data, 'data/lda-gensim_clean_kualitatif7.html')"
      ]
    },
    {
      "cell_type": "code",
      "execution_count": 34,
      "metadata": {},
      "outputs": [
        {
          "data": {
            "text/html": [
              "\n",
              "<link rel=\"stylesheet\" type=\"text/css\" href=\"https://cdn.jsdelivr.net/gh/bmabey/pyLDAvis@3.3.1/pyLDAvis/js/ldavis.v1.0.0.css\">\n",
              "\n",
              "\n",
              "<div id=\"ldavis_el822301406490658868809976293738\"></div>\n",
              "<script type=\"text/javascript\">\n",
              "\n",
              "var ldavis_el822301406490658868809976293738_data = {\"mdsDat\": {\"x\": [-29.59400177001953, -45.996585845947266, 20.36885643005371, 53.928768157958984, -12.437127113342285, 3.9659712314605713, 37.52428436279297], \"y\": [60.11271286010742, 11.891684532165527, 70.01932525634766, 31.704309463500977, -26.423267364501953, 21.797719955444336, -16.517805099487305], \"topics\": [1, 2, 3, 4, 5, 6, 7], \"cluster\": [1, 1, 1, 1, 1, 1, 1], \"Freq\": [17.35432889971472, 16.759891016999017, 16.70266351463756, 14.383629497627537, 13.198708836930292, 11.580537637372366, 10.020240596718502]}, \"tinfo\": {\"Term\": [\"pln_id\", \"target_baur\", \"menteri_bumn\", \"menteri_esdm\", \"bangkit_listrik\", \"capai_target\", \"ramah_lingkung\", \"erick_thohir\", \"panas_bumi\", \"id\", \"transisi\", \"baur\", \"wujud\", \"plts_atap\", \"capai\", \"target\", \"negara_maju\", \"kejar_target\", \"dana\", \"bumn\", \"tenaga_biogas\", \"pln\", \"plta_poso\", \"alas\", \"untung\", \"tenaga_surya\", \"bangkit\", \"anggar\", \"operasi\", \"larang_ekspor\", \"wujud\", \"renewable_energy\", \"rencana\", \"capai_persen\", \"milik_potensi\", \"cepat_transisi\", \"beli_listrik\", \"indonesia_timur\", \"mantap\", \"banget\", \"penuh_butuh\", \"tinggal\", \"strategi\", \"inggris\", \"sistem\", \"micho\", \"andal\", \"anak_usaha\", \"hambat\", \"pasang_plts\", \"hadir\", \"proses\", \"via_id\", \"laku_usaha\", \"beli\", \"optimis\", \"kendala\", \"nuklir_ruu\", \"kota\", \"topang\", \"dasamuka_pln\", \"subholding_power\", \"renewable\", \"dmo_batu\", \"green\", \"energy\", \"transisi\", \"pln\", \"usaha\", \"indonesia\", \"ruu\", \"id\", \"bangkit_listrik\", \"capai_target\", \"panas_bumi\", \"kejar_target\", \"bumn\", \"plta_poso\", \"sobat\", \"kurang_emisi\", \"pasok_listrik\", \"kejar\", \"kapasitas_bangkit\", \"genjot\", \"sumber_daya\", \"biaya\", \"tanah_air\", \"tambah_kapasitas\", \"simak\", \"poso\", \"rp_triliun\", \"rp\", \"pasok\", \"konversi_pltd\", \"presiden_jokowi\", \"tarif_listrik\", \"sepakat\", \"penuh_target\", \"mudah\", \"tingkat_baur\", \"emang\", \"triliun\", \"panas\", \"kapasitas\", \"baur\", \"simak_bawah\", \"capai\", \"target\", \"bangkit\", \"bumi\", \"listrik\", \"komitmen\", \"bangun\", \"pln\", \"persen\", \"indonesia\", \"tingkat\", \"kembang\", \"perintah\", \"plts\", \"manfaat\", \"pln_id\", \"ramah_lingkung\", \"plta\", \"ekspor\", \"ramah\", \"kendara_listrik\", \"gas_bumi\", \"depan\", \"bangun_infrastruktur\", \"baik\", \"langkah\", \"wilayah\", \"menko_airlangga\", \"serius\", \"kendara\", \"pltd\", \"lengkap\", \"kawasan_industri\", \"gandeng\", \"tahap\", \"airlangga\", \"tingkat_porsi\", \"arah\", \"pln_persero\", \"terbit\", \"strategis\", \"bahas_ruu\", \"simak_lengkap\", \"perintah_serius\", \"generasi_muda\", \"menteri_jonan\", \"zero\", \"net_zero\", \"bas\", \"lingkung\", \"id\", \"transisi\", \"ruu\", \"upaya\", \"pln\", \"cepat\", \"guna\", \"dukung\", \"moga\", \"indonesia\", \"manfaat\", \"kembang\", \"dorong\", \"hijau\", \"perintah\", \"fosil\", \"tingkat\", \"listrik\", \"pltu\", \"bahan_bakar\", \"buka_peluang\", \"komisi_vii\", \"mahal\", \"sulawesi_selatan\", \"uu\", \"salah_satu\", \"turun\", \"bawah\", \"apresiasi\", \"pltn\", \"beban\", \"indo\", \"menteri_esdm\", \"tinggi_indonesia\", \"jalan_lancar\", \"bakar\", \"komisi\", \"selesai\", \"dirjen_ebtke\", \"satu\", \"dampak_positif\", \"pltb\", \"wujud_komitmen\", \"niscaya\", \"kompetitif\", \"vii\", \"hrs\", \"isi\", \"firing_pltu\", \"peluang\", \"kuat_bidang\", \"sulit\", \"esdm\", \"murah\", \"menteri\", \"atur\", \"harga\", \"ruptl\", \"kembang\", \"listrik\", \"jalan\", \"batu\", \"indonesia\", \"bangkit\", \"plts_atap\", \"tenaga_surya\", \"operasi\", \"larang_ekspor\", \"tambah\", \"mobil_listrik\", \"pres\", \"keren\", \"keren_banget\", \"investasi_sektor\", \"sukses\", \"us_miliar\", \"tinggi\", \"solar_panel\", \"banding\", \"singapura\", \"miliar\", \"daerah_pencil\", \"larang\", \"baterai\", \"darmawan_prasodjo\", \"mobil\", \"solar\", \"plt\", \"bener\", \"tambah_bangkit\", \"dirut\", \"isu\", \"coal\", \"badan\", \"lirik_investasi\", \"us\", \"atap\", \"pilih\", \"power\", \"nuklir\", \"rencana_ekspor\", \"jalan\", \"surya\", \"heroes\", \"tenaga\", \"plts\", \"investasi\", \"listrik\", \"indonesia\", \"erick_thohir\", \"erick\", \"thohir\", \"investor\", \"panel_surya\", \"realisasi\", \"tekan\", \"tekan_emisi\", \"insentif\", \"desa\", \"sinergi_bumn\", \"tahan_pangan\", \"swasta\", \"iklim\", \"usul\", \"cak\", \"sinergi\", \"positif\", \"lancar\", \"percaya\", \"ubah_iklim\", \"yantie_pln\", \"udien\", \"den\", \"udien_pln\", \"sehat\", \"kaji\", \"moga_lancar\", \"menteri_bumn_erick_thohir\", \"pasar\", \"pertamina_alokasi\", \"tantang\", \"dampak\", \"ubah\", \"ekonomi\", \"prioritas\", \"bidang\", \"kembang\", \"investasi\", \"industri\", \"alih\", \"indonesia\", \"target_baur\", \"menteri_bumn\", \"negara_maju\", \"alas\", \"untung\", \"anggar\", \"harga_jual\", \"tahu\", \"era\", \"rancang\", \"hebat\", \"mana\", \"saing\", \"kalah\", \"bank\", \"juang\", \"ekonomi_hijau\", \"serap\", \"liput\", \"aku\", \"berat\", \"ntt\", \"transportasi\", \"imbang\", \"sekjen_esdm\", \"bank_dunia\", \"minim\", \"daya_saing\", \"video\", \"jabar\", \"tenaga_biogas\", \"bangkit_listrik_tenaga_biogas\", \"ruptl_hijau\", \"dana\", \"pulau\", \"subsidi\", \"jual\", \"hijau\", \"bahlil\"], \"Freq\": [2086.0, 1409.0, 1165.0, 1310.0, 1375.0, 950.0, 832.0, 684.0, 740.0, 1024.0, 1078.0, 821.0, 628.0, 535.0, 862.0, 1031.0, 436.0, 563.0, 471.0, 547.0, 401.0, 2350.0, 505.0, 381.0, 376.0, 424.0, 1484.0, 353.0, 402.0, 401.0, 627.6947052440934, 429.2949764445039, 430.2837146457857, 409.53132282370586, 408.2880992626005, 399.961619342892, 395.37324171807626, 356.25111293591283, 356.1413702414867, 327.2614318353327, 316.4760392749682, 313.64960498179033, 303.85602464776156, 296.8419118955506, 272.87918396569796, 321.85297019808803, 256.76362957767725, 250.6870285949561, 245.6954047550273, 211.7608689099821, 179.59775098093758, 179.05471347649606, 166.90256546250092, 161.06090782318898, 309.4396837557597, 147.1698277508169, 139.30222292103707, 145.15578142877217, 135.8950284445414, 132.033449150428, 210.80208049565454, 173.12118640271459, 190.87084859477247, 153.45945866977686, 331.05469092262206, 232.7453276663135, 372.0051619775888, 381.8035729224166, 246.72105321427833, 292.3457769796752, 233.88781103493653, 213.46899484585407, 1374.7246722736245, 949.7637991169125, 739.2009079557229, 562.5051666971303, 546.0578485906258, 504.0986180099867, 443.0094820650907, 333.8614771072444, 284.62904773663683, 281.50662185541756, 253.2262834026843, 260.2789055191737, 237.4687286142846, 234.41123310935768, 231.94954060334834, 223.1073889683461, 219.6908043085745, 219.47784030821398, 210.3399182981218, 205.82812655972631, 192.99413512188963, 185.82426935728776, 184.82020230391026, 165.23569948473664, 157.07710864169113, 145.6379964176068, 132.61790799010927, 127.074948930243, 123.14368183148402, 115.36002044083065, 263.3403239893567, 338.39869390154274, 745.5057280735352, 258.8048672281192, 717.6295186578297, 802.3779520359865, 918.5822052025318, 270.4504970664135, 598.1052918029001, 319.0755029788585, 372.0231924991389, 612.0573495439338, 289.0467095141043, 349.5754339682577, 272.5090571806222, 317.92730406145125, 274.7826382012987, 261.22258011282537, 265.68649046987923, 2085.1695885287513, 830.8785729670329, 440.034328528782, 312.34652251452957, 308.01359881448786, 259.03032041537534, 225.30983458979247, 189.44610130740594, 184.29218902102488, 183.88054298963914, 175.51779293567978, 166.52928977261075, 157.77165200662952, 156.38641735848003, 163.3293172193744, 147.96501318674711, 138.5994584043966, 137.50821286069922, 129.5138288405755, 127.57981734849027, 129.12161442918358, 123.95301483894642, 115.00931323584133, 113.81551015888687, 106.60786900438481, 104.14495607739495, 98.72745423562223, 98.5311515514217, 91.42964994169272, 90.6435833260328, 194.75309967887137, 177.4760331959248, 375.5649260062817, 292.9439812690857, 351.9739672244913, 801.3256888586625, 705.8300648893171, 469.9790994899691, 287.2580504581328, 1065.5147398413962, 310.1157006876831, 375.4948496039985, 445.0644870721683, 260.051352193516, 441.1438011222288, 317.8955127082342, 429.2059605479859, 286.9446931321208, 248.09897224509606, 292.2243456457592, 230.67118655193113, 239.62765237306368, 262.5632615435136, 407.4875053287006, 348.9537613628516, 300.2830318371742, 267.4818840469464, 256.3017943063132, 253.11105509391973, 250.21766421146387, 234.0638008025975, 216.49504415622232, 187.05861501618733, 180.75100505772127, 175.80312811961244, 166.6755589765483, 153.794638244567, 1301.4534028421422, 370.5943648011697, 143.14704205518993, 139.73561647747496, 138.57463130651175, 132.8097425608126, 121.90390701763089, 117.6628397442678, 261.93319569047907, 116.3290034540349, 116.08712471891032, 115.47406558489922, 110.7380486494202, 109.87697782311523, 107.31180934133194, 107.06529904062997, 153.6072281765275, 225.9167950578666, 183.17121190647208, 140.75046620016113, 428.1309663657738, 263.3131656496263, 438.0386221826108, 252.87312547364897, 263.9567803773681, 145.11593969076233, 295.8685947819915, 205.16752686060877, 170.27289323071085, 156.3048011980293, 176.6084745695009, 155.98212029723226, 534.7857375462573, 423.8123713737076, 401.1574871433763, 399.98084166448155, 369.980022439671, 302.6872566944315, 285.87221460517947, 282.83935494006465, 200.06832391425957, 193.28245613623181, 188.83555116071545, 169.54641406322943, 174.9231127795051, 165.38054466483942, 166.06587469334298, 175.1605460099752, 157.82307733596957, 152.10585948883752, 160.21816709639424, 132.29586555787537, 162.88592599362548, 144.0287042902089, 128.53875772221096, 122.55345474599237, 108.3143995524209, 107.52503175307551, 107.53728917262573, 106.06730059860944, 104.01713863220367, 103.59836573021327, 106.05096015578941, 155.53007150703064, 224.3466482557284, 170.15500997343153, 141.6433670270831, 264.9915167070755, 121.97098517487245, 290.02090023692483, 237.17846317768138, 175.152413362399, 196.78924709131303, 208.50306511401752, 175.93126048828844, 189.07164843265153, 185.91260748399245, 683.4813446081035, 352.5151037513327, 305.0977884674476, 290.0722221983115, 269.2591298205875, 259.58706476260096, 231.53707388989667, 215.3281590017673, 211.92815078403413, 192.72766998594938, 185.6225379450459, 174.1178158712669, 172.51187100313714, 159.1952686100942, 153.73896817267945, 147.29022149925447, 145.1338699984775, 143.19195217449524, 142.3881372439209, 140.46604372910863, 130.44849649379782, 263.00329286965507, 194.15781879981316, 121.6599685143487, 240.24108848036377, 119.30589407189046, 118.9302578455847, 117.46721503756963, 118.3189057480501, 116.11492755329154, 154.11032598192855, 230.8608788653614, 182.05794253965067, 186.75243565505755, 210.2491797836772, 213.98639173477233, 200.44807356467047, 377.5788913875156, 213.6926608212976, 184.4908087208833, 175.4194656522992, 212.9462089139314, 1408.6538243163718, 1164.4695448050127, 436.00175079761664, 381.1385236555502, 375.92559627615026, 352.4632393390114, 340.131404045253, 283.327205173211, 282.54920891472506, 267.158636057701, 261.59485855840825, 248.77236050031902, 232.2614608602248, 228.82020360998203, 221.77738886681664, 212.47580373951098, 192.18356032513972, 193.05752881053863, 167.7020087653117, 163.93931428374128, 160.82342443528103, 171.5911533117737, 154.56745517310955, 154.1385467967963, 158.40157733320405, 154.55991178143012, 151.5898566127822, 147.40709029943733, 138.64282286315196, 136.49985304976767, 396.7214213054764, 201.07576114871418, 245.60116935016868, 437.4777199729407, 234.14459569466845, 293.8666798920629, 247.22891917286412, 208.17490410907564, 161.15515617760647], \"Total\": [2086.0, 1409.0, 1165.0, 1310.0, 1375.0, 950.0, 832.0, 684.0, 740.0, 1024.0, 1078.0, 821.0, 628.0, 535.0, 862.0, 1031.0, 436.0, 563.0, 471.0, 547.0, 401.0, 2350.0, 505.0, 381.0, 376.0, 424.0, 1484.0, 353.0, 402.0, 401.0, 628.7708880402288, 430.339191572808, 431.3441251857804, 410.57761191845947, 409.33571348196415, 401.02418559951883, 396.42528723975516, 357.2982272486076, 357.19590113860545, 328.32452460662046, 317.52149130342264, 314.7017116320228, 304.9059494374174, 297.90479281993794, 273.9364129609755, 323.13683826459885, 257.82243671442376, 251.73210010457495, 246.74370101570702, 212.80605164757284, 180.65485939385601, 180.11815243792338, 167.97124700212126, 162.10588160707465, 311.5427833008001, 148.22003369234096, 140.35128611073122, 146.27325595494113, 136.9561123039857, 133.08959043607777, 212.79683574783178, 174.57819189455722, 193.01763778721815, 155.19569820175587, 355.40511395814514, 305.0171456264789, 1078.7941450940993, 2350.941579530541, 634.0594444660856, 1658.9404681515323, 704.8172101587367, 1024.648503445022, 1375.8586081140559, 950.8900806442234, 740.3707792089564, 563.6285936908671, 547.2590013634186, 505.22895522190237, 444.1656381570876, 334.9863430621189, 285.7534204962113, 282.66093100474944, 254.34967110922526, 261.4382436754167, 238.59833759525927, 235.54551791523522, 233.07395406905385, 224.24598070661958, 220.83042361593678, 220.64179338483552, 211.4632392515948, 206.95461239086708, 194.1207904905308, 186.95689759957557, 185.94891790615725, 166.35951870593195, 158.2476831784804, 146.76194775190362, 133.75368432535507, 128.20137638680197, 124.27945232564178, 116.49709742935462, 265.9711400164305, 344.0919285803211, 821.0602909740302, 275.76123848159995, 862.9765701752026, 1031.3860553430059, 1484.5821590602745, 342.9708816049152, 1481.648468553381, 521.27318763956, 759.4403912868495, 2350.941579530541, 453.06304896956, 1658.9404681515323, 658.4954786797224, 1731.5503434020375, 895.8127138651168, 593.7664080121466, 804.7775917502353, 2086.4415258601653, 832.0077584192687, 441.2051865260949, 313.5025127007346, 309.19009559152846, 260.2360969938475, 226.43553513433605, 190.5786993149134, 185.41804611472824, 185.01218865298034, 176.64947877374507, 167.6658314466687, 158.9052607422762, 157.52179351293546, 164.5317660380032, 149.12827528754403, 139.73481251504796, 138.64190905173155, 130.6427391979834, 128.71163233008238, 130.26720914662212, 125.0792858856305, 116.14294258346236, 114.94646173449614, 107.74776364222343, 105.28105865124081, 99.85976571756316, 99.66739820961334, 92.55661039244497, 91.80364602442802, 197.82562258562183, 185.58709329245073, 415.4620656563772, 322.310865042919, 406.47438304921906, 1024.648503445022, 1078.7941450940993, 704.8172101587367, 379.5887263197265, 2350.941579530541, 518.443359480376, 730.2566053171522, 1024.5348862379026, 474.03891629851034, 1658.9404681515323, 804.7775917502353, 1731.5503434020375, 681.057545956602, 513.1145762611937, 895.8127138651168, 498.0333690302494, 658.4954786797224, 1481.648468553381, 408.59684677669964, 350.0495259338561, 301.37832337411766, 268.58420703402504, 257.40103420181316, 254.2085421572861, 251.32050104040795, 235.1598531783242, 217.59802085795675, 188.1963617940496, 181.8621710550394, 176.9083371900324, 167.78206208194456, 154.90947600981457, 1310.9606121604895, 373.40666861680444, 144.25903534310345, 140.8332593673625, 139.6730440856047, 133.90979959212007, 122.9983773621533, 118.76442807964479, 264.39062257374553, 117.42961209907399, 117.1856541802798, 116.57304644940248, 111.83662935642548, 110.97336848624859, 108.41383453462684, 108.16849060687576, 155.72795215729235, 242.49862098855073, 194.57160950255354, 149.78951522075397, 594.8598887862686, 337.1472413222041, 673.5381080893883, 327.34456613211546, 441.69549892549963, 175.4234349961798, 1731.5503434020375, 1481.648468553381, 478.27784861936794, 377.0208560619414, 1658.9404681515323, 1484.5821590602745, 535.8822102241087, 424.895349583166, 402.2511941438182, 401.14536895539624, 371.0734275927404, 303.7701196170369, 286.96875241149166, 283.93396279095583, 201.156087913733, 194.36488722962713, 189.93639843923214, 170.6285626698499, 176.06336281648893, 166.46340011398033, 167.15620640697108, 176.33792509383065, 158.90974666702337, 153.1884002699461, 161.43511237459086, 133.38451253075942, 164.23357837732658, 145.23489601792295, 129.66066473019478, 123.64092773477616, 109.40033777724277, 108.61011792150468, 108.62390058313149, 107.1552326048695, 105.10343885607588, 104.69117342361726, 107.19112774431592, 162.40492312127094, 245.46851736490842, 191.49179236558777, 155.45760502857365, 381.03601956040296, 130.07890239905257, 478.27784861936794, 391.1528842121966, 268.63576586900973, 407.54543306371136, 593.7664080121466, 758.0912592457906, 1481.648468553381, 1658.9404681515323, 684.5853065666092, 353.6394797090978, 306.19119636166255, 291.1592846247744, 270.3425573916061, 260.6795016622939, 232.62606595476228, 216.41387195787712, 213.01751461666666, 193.8176085009078, 186.70679278196155, 175.21159682923692, 173.59804924888482, 160.28018604487482, 154.84246513057934, 148.38457230022388, 146.2225625857161, 144.2865796161136, 143.48382019900123, 141.556822064356, 131.53077322541714, 265.1891939604703, 195.7932391510704, 122.74399223002817, 242.40625254454187, 120.39258014991206, 120.01507687557978, 118.55014705296912, 119.41507687768919, 117.202583527377, 156.84313433011752, 252.65620769495413, 229.13260748640056, 240.63167518760613, 301.47977262924525, 320.45037732322703, 337.7860507900235, 1731.5503434020375, 758.0912592457906, 486.2247082505152, 408.4859603737919, 1658.9404681515323, 1409.4956804921867, 1165.3136564700071, 436.84445657945287, 381.9832228764664, 376.77035115145685, 353.3096661748315, 340.9732590715252, 284.1734222959632, 283.3944666757377, 268.0058345646057, 262.43984968824566, 249.62184089806118, 233.10694078733286, 229.6646437840136, 222.62117786504837, 213.32069955868243, 193.02582834566584, 193.90481951601168, 168.54790262517957, 164.78642644027852, 161.6687906715454, 172.52200636835602, 155.41221338443043, 154.98434386453889, 159.2765712576389, 155.41680921481998, 152.4345271268771, 148.24867748129267, 139.48661075120643, 137.34787127202077, 401.8079309315635, 203.3523903701573, 254.15354315740126, 471.7093556568037, 254.86659243869238, 429.3589449599026, 334.45899206025706, 513.1145762611937, 212.50265477173014], \"Category\": [\"Default\", \"Default\", \"Default\", \"Default\", \"Default\", \"Default\", \"Default\", \"Default\", \"Default\", \"Default\", \"Default\", \"Default\", \"Default\", \"Default\", \"Default\", \"Default\", \"Default\", \"Default\", \"Default\", \"Default\", \"Default\", \"Default\", \"Default\", \"Default\", \"Default\", \"Default\", \"Default\", \"Default\", \"Default\", \"Default\", \"Topic1\", \"Topic1\", \"Topic1\", \"Topic1\", \"Topic1\", \"Topic1\", \"Topic1\", \"Topic1\", \"Topic1\", \"Topic1\", \"Topic1\", \"Topic1\", \"Topic1\", \"Topic1\", \"Topic1\", \"Topic1\", \"Topic1\", \"Topic1\", \"Topic1\", \"Topic1\", \"Topic1\", \"Topic1\", \"Topic1\", \"Topic1\", \"Topic1\", \"Topic1\", \"Topic1\", \"Topic1\", \"Topic1\", \"Topic1\", \"Topic1\", \"Topic1\", \"Topic1\", \"Topic1\", \"Topic1\", \"Topic1\", \"Topic1\", \"Topic1\", \"Topic1\", \"Topic1\", \"Topic1\", \"Topic1\", \"Topic2\", \"Topic2\", \"Topic2\", \"Topic2\", \"Topic2\", \"Topic2\", \"Topic2\", \"Topic2\", \"Topic2\", \"Topic2\", \"Topic2\", \"Topic2\", \"Topic2\", \"Topic2\", \"Topic2\", \"Topic2\", \"Topic2\", \"Topic2\", \"Topic2\", \"Topic2\", \"Topic2\", \"Topic2\", \"Topic2\", \"Topic2\", \"Topic2\", \"Topic2\", \"Topic2\", \"Topic2\", \"Topic2\", \"Topic2\", \"Topic2\", \"Topic2\", \"Topic2\", \"Topic2\", \"Topic2\", \"Topic2\", \"Topic2\", \"Topic2\", \"Topic2\", \"Topic2\", \"Topic2\", \"Topic2\", \"Topic2\", \"Topic2\", \"Topic2\", \"Topic2\", \"Topic2\", \"Topic2\", \"Topic2\", \"Topic3\", \"Topic3\", \"Topic3\", \"Topic3\", \"Topic3\", \"Topic3\", \"Topic3\", \"Topic3\", \"Topic3\", \"Topic3\", \"Topic3\", \"Topic3\", \"Topic3\", \"Topic3\", \"Topic3\", \"Topic3\", \"Topic3\", \"Topic3\", \"Topic3\", \"Topic3\", \"Topic3\", \"Topic3\", \"Topic3\", \"Topic3\", \"Topic3\", \"Topic3\", \"Topic3\", \"Topic3\", \"Topic3\", \"Topic3\", \"Topic3\", \"Topic3\", \"Topic3\", \"Topic3\", \"Topic3\", \"Topic3\", \"Topic3\", \"Topic3\", \"Topic3\", \"Topic3\", \"Topic3\", \"Topic3\", \"Topic3\", \"Topic3\", \"Topic3\", \"Topic3\", \"Topic3\", \"Topic3\", \"Topic3\", \"Topic3\", \"Topic3\", \"Topic3\", \"Topic3\", \"Topic4\", \"Topic4\", \"Topic4\", \"Topic4\", \"Topic4\", \"Topic4\", \"Topic4\", \"Topic4\", \"Topic4\", \"Topic4\", \"Topic4\", \"Topic4\", \"Topic4\", \"Topic4\", \"Topic4\", \"Topic4\", \"Topic4\", \"Topic4\", \"Topic4\", \"Topic4\", \"Topic4\", \"Topic4\", \"Topic4\", \"Topic4\", \"Topic4\", \"Topic4\", \"Topic4\", \"Topic4\", \"Topic4\", \"Topic4\", \"Topic4\", \"Topic4\", \"Topic4\", \"Topic4\", \"Topic4\", \"Topic4\", \"Topic4\", \"Topic4\", \"Topic4\", \"Topic4\", \"Topic4\", \"Topic4\", \"Topic4\", \"Topic4\", \"Topic4\", \"Topic4\", \"Topic5\", \"Topic5\", \"Topic5\", \"Topic5\", \"Topic5\", \"Topic5\", \"Topic5\", \"Topic5\", \"Topic5\", \"Topic5\", \"Topic5\", \"Topic5\", \"Topic5\", \"Topic5\", \"Topic5\", \"Topic5\", \"Topic5\", \"Topic5\", \"Topic5\", \"Topic5\", \"Topic5\", \"Topic5\", \"Topic5\", \"Topic5\", \"Topic5\", \"Topic5\", \"Topic5\", \"Topic5\", \"Topic5\", \"Topic5\", \"Topic5\", \"Topic5\", \"Topic5\", \"Topic5\", \"Topic5\", \"Topic5\", \"Topic5\", \"Topic5\", \"Topic5\", \"Topic5\", \"Topic5\", \"Topic5\", \"Topic5\", \"Topic5\", \"Topic5\", \"Topic6\", \"Topic6\", \"Topic6\", \"Topic6\", \"Topic6\", \"Topic6\", \"Topic6\", \"Topic6\", \"Topic6\", \"Topic6\", \"Topic6\", \"Topic6\", \"Topic6\", \"Topic6\", \"Topic6\", \"Topic6\", \"Topic6\", \"Topic6\", \"Topic6\", \"Topic6\", \"Topic6\", \"Topic6\", \"Topic6\", \"Topic6\", \"Topic6\", \"Topic6\", \"Topic6\", \"Topic6\", \"Topic6\", \"Topic6\", \"Topic6\", \"Topic6\", \"Topic6\", \"Topic6\", \"Topic6\", \"Topic6\", \"Topic6\", \"Topic6\", \"Topic6\", \"Topic6\", \"Topic6\", \"Topic6\", \"Topic7\", \"Topic7\", \"Topic7\", \"Topic7\", \"Topic7\", \"Topic7\", \"Topic7\", \"Topic7\", \"Topic7\", \"Topic7\", \"Topic7\", \"Topic7\", \"Topic7\", \"Topic7\", \"Topic7\", \"Topic7\", \"Topic7\", \"Topic7\", \"Topic7\", \"Topic7\", \"Topic7\", \"Topic7\", \"Topic7\", \"Topic7\", \"Topic7\", \"Topic7\", \"Topic7\", \"Topic7\", \"Topic7\", \"Topic7\", \"Topic7\", \"Topic7\", \"Topic7\", \"Topic7\", \"Topic7\", \"Topic7\", \"Topic7\", \"Topic7\", \"Topic7\"], \"logprob\": [30.0, 29.0, 28.0, 27.0, 26.0, 25.0, 24.0, 23.0, 22.0, 21.0, 20.0, 19.0, 18.0, 17.0, 16.0, 15.0, 14.0, 13.0, 12.0, 11.0, 10.0, 9.0, 8.0, 7.0, 6.0, 5.0, 4.0, 3.0, 2.0, 1.0, -4.3191, -4.699, -4.6967, -4.7461, -4.7492, -4.7698, -4.7813, -4.8855, -4.8858, -4.9704, -5.0039, -5.0129, -5.0446, -5.068, -5.1521, -4.9871, -5.213, -5.2369, -5.2571, -5.4057, -5.5704, -5.5735, -5.6437, -5.6794, -5.0264, -5.7696, -5.8245, -5.7833, -5.8493, -5.8781, -5.4102, -5.6072, -5.5096, -5.7277, -4.9589, -5.3112, -4.8422, -4.8162, -5.2529, -5.0832, -5.3063, -5.3977, -3.5003, -3.8701, -4.1207, -4.3939, -4.4236, -4.5035, -4.6327, -4.9156, -5.0751, -5.0861, -5.192, -5.1645, -5.2563, -5.2692, -5.2798, -5.3186, -5.3341, -5.335, -5.3776, -5.3993, -5.4636, -5.5015, -5.5069, -5.6189, -5.6696, -5.7452, -5.8388, -5.8815, -5.9129, -5.9782, -5.1529, -4.9021, -4.1122, -5.1702, -4.1503, -4.0387, -3.9035, -5.1262, -4.3325, -4.9609, -4.8073, -4.3095, -5.0597, -4.8696, -5.1186, -4.9645, -5.1103, -5.1609, -5.144, -3.0803, -4.0004, -4.636, -4.9788, -4.9927, -5.1659, -5.3054, -5.4788, -5.5064, -5.5086, -5.5551, -5.6077, -5.6617, -5.6705, -5.6271, -5.7259, -5.7913, -5.7992, -5.8591, -5.8741, -5.8621, -5.903, -5.9779, -5.9883, -6.0537, -6.0771, -6.1305, -6.1325, -6.2073, -6.2159, -5.4511, -5.544, -4.7944, -5.0429, -4.8593, -4.0366, -4.1635, -4.5702, -5.0625, -3.7517, -4.9859, -4.7946, -4.6247, -5.162, -4.6335, -4.9612, -4.6609, -5.0636, -5.2091, -5.0454, -5.2819, -5.2438, -5.1524, -4.5634, -4.7185, -4.8687, -4.9843, -5.027, -5.0396, -5.0511, -5.1178, -5.1958, -5.342, -5.3763, -5.404, -5.4574, -5.5378, -3.4022, -4.6583, -5.6095, -5.6336, -5.642, -5.6845, -5.7702, -5.8056, -5.0053, -5.817, -5.8191, -5.8244, -5.8662, -5.874, -5.8977, -5.9, -5.539, -5.1532, -5.363, -5.6264, -4.514, -5.0001, -4.4911, -5.0405, -4.9976, -5.5959, -4.8835, -5.2496, -5.436, -5.5216, -5.3995, -5.5237, -4.2056, -4.4381, -4.4931, -4.496, -4.574, -4.7747, -4.8319, -4.8426, -5.1888, -5.2233, -5.2466, -5.3543, -5.3231, -5.3792, -5.375, -5.3217, -5.426, -5.4629, -5.4109, -5.6024, -5.3944, -5.5174, -5.6312, -5.6789, -5.8024, -5.8097, -5.8096, -5.8234, -5.8429, -5.8469, -5.8235, -5.4406, -5.0742, -5.3507, -5.5341, -4.9077, -5.6836, -4.8175, -5.0186, -5.3218, -5.2053, -5.1475, -5.3173, -5.2453, -5.2622, -3.8294, -4.4915, -4.636, -4.6865, -4.761, -4.7975, -4.9119, -4.9845, -5.0004, -5.0954, -5.1329, -5.1969, -5.2062, -5.2865, -5.3214, -5.3642, -5.379, -5.3925, -5.3981, -5.4117, -5.4857, -4.7845, -5.088, -5.5554, -4.875, -5.5749, -5.5781, -5.5905, -5.5833, -5.6021, -5.319, -4.9148, -5.1523, -5.1269, -5.0083, -4.9907, -5.0561, -4.4229, -4.9921, -5.139, -5.1895, -4.9956, -2.9615, -3.1519, -4.1343, -4.2688, -4.2825, -4.347, -4.3826, -4.5653, -4.5681, -4.6241, -4.6451, -4.6954, -4.7641, -4.779, -4.8102, -4.8531, -4.9535, -4.9489, -5.0897, -5.1124, -5.1316, -5.0668, -5.1713, -5.1741, -5.1468, -5.1713, -5.1907, -5.2187, -5.28, -5.2956, -4.2287, -4.9082, -4.7082, -4.1309, -4.756, -4.5288, -4.7016, -4.8735, -5.1296], \"loglift\": [30.0, 29.0, 28.0, 27.0, 26.0, 25.0, 24.0, 23.0, 22.0, 21.0, 20.0, 19.0, 18.0, 17.0, 16.0, 15.0, 14.0, 13.0, 12.0, 11.0, 10.0, 9.0, 8.0, 7.0, 6.0, 5.0, 4.0, 3.0, 2.0, 1.0, 1.7496, 1.7489, 1.7489, 1.7488, 1.7488, 1.7487, 1.7487, 1.7484, 1.7484, 1.7481, 1.748, 1.748, 1.7479, 1.7478, 1.7475, 1.7473, 1.7472, 1.7472, 1.7471, 1.7464, 1.7455, 1.7454, 1.7449, 1.7449, 1.7446, 1.7442, 1.7438, 1.7437, 1.7436, 1.7434, 1.7419, 1.7429, 1.7401, 1.7401, 1.6804, 1.4809, 0.6866, -0.0663, 0.8074, 0.0153, 0.6482, 0.1827, 1.7854, 1.785, 1.7846, 1.7842, 1.784, 1.7839, 1.7836, 1.7828, 1.7822, 1.7821, 1.7818, 1.7817, 1.7814, 1.7814, 1.7813, 1.7811, 1.781, 1.7809, 1.7809, 1.7807, 1.7804, 1.7801, 1.7801, 1.7794, 1.7788, 1.7785, 1.7777, 1.7774, 1.777, 1.7764, 1.7762, 1.7695, 1.6896, 1.7227, 1.6017, 1.5351, 1.3061, 1.5486, 0.879, 1.2953, 1.0726, 0.4404, 1.3367, 0.229, 0.9039, 0.0912, 0.6044, 0.9651, 0.6779, 1.789, 1.7882, 1.7869, 1.7859, 1.7858, 1.785, 1.7846, 1.7836, 1.7835, 1.7835, 1.7832, 1.7828, 1.7824, 1.7824, 1.7823, 1.7818, 1.7814, 1.7814, 1.7809, 1.7808, 1.7808, 1.7806, 1.7798, 1.7797, 1.779, 1.7788, 1.7782, 1.7781, 1.7774, 1.7769, 1.7739, 1.7449, 1.6886, 1.6941, 1.6456, 1.5438, 1.3654, 1.3844, 1.5109, 0.9982, 1.2757, 1.1245, 0.9558, 1.1892, 0.465, 0.8608, 0.3948, 0.9252, 1.0629, 0.6694, 1.0199, 0.7787, 0.0592, 1.9364, 1.9359, 1.9354, 1.935, 1.9348, 1.9348, 1.9347, 1.9344, 1.934, 1.933, 1.933, 1.9328, 1.9325, 1.9319, 1.9318, 1.9315, 1.9313, 1.9313, 1.9312, 1.9308, 1.9301, 1.9298, 1.9297, 1.9297, 1.9297, 1.9296, 1.9292, 1.9292, 1.9289, 1.9288, 1.9254, 1.8683, 1.8787, 1.8768, 1.6102, 1.6919, 1.5088, 1.681, 1.4242, 1.7494, 0.1722, -0.038, 0.9063, 1.0586, -0.3009, -0.3141, 2.023, 2.0225, 2.0223, 2.0221, 2.0221, 2.0215, 2.0212, 2.0212, 2.0196, 2.0195, 2.0192, 2.0187, 2.0186, 2.0185, 2.0185, 2.0184, 2.0182, 2.018, 2.0175, 2.0169, 2.0168, 2.0167, 2.0164, 2.0162, 2.0151, 2.015, 2.015, 2.0148, 2.0147, 2.0146, 2.0144, 1.9818, 1.9351, 1.9069, 1.932, 1.6619, 1.9607, 1.5248, 1.5248, 1.5974, 1.297, 0.9785, 0.5643, -0.0337, -0.1636, 2.1542, 2.1527, 2.1523, 2.1521, 2.1518, 2.1516, 2.1512, 2.1508, 2.1507, 2.1502, 2.15, 2.1496, 2.1496, 2.1491, 2.1487, 2.1484, 2.1484, 2.1482, 2.1482, 2.1481, 2.1476, 2.1476, 2.1475, 2.147, 2.1469, 2.1468, 2.1468, 2.1467, 2.1466, 2.1465, 2.1383, 2.0656, 1.9259, 1.9024, 1.7954, 1.752, 1.634, 0.6329, 0.8896, 1.1868, 1.3106, 0.1029, 2.3, 2.2998, 2.2986, 2.2983, 2.2983, 2.2982, 2.2981, 2.2976, 2.2976, 2.2974, 2.2973, 2.2972, 2.2969, 2.2969, 2.2968, 2.2966, 2.2962, 2.2962, 2.2955, 2.2954, 2.2953, 2.2952, 2.2951, 2.2951, 2.2951, 2.295, 2.295, 2.2949, 2.2945, 2.2944, 2.2878, 2.2893, 2.2663, 2.2252, 2.2158, 1.9214, 1.9984, 1.3984, 2.024]}, \"token.table\": {\"Topic\": [3, 7, 7, 3, 4, 6, 1, 1, 7, 4, 3, 1, 5, 1, 4, 5, 4, 3, 3, 5, 7, 3, 4, 5, 1, 1, 2, 3, 4, 5, 6, 2, 2, 7, 1, 2, 3, 4, 5, 6, 3, 7, 7, 3, 5, 5, 2, 3, 4, 1, 2, 6, 4, 4, 1, 7, 1, 5, 7, 2, 1, 2, 5, 6, 4, 1, 2, 3, 4, 2, 6, 1, 2, 5, 1, 2, 1, 3, 4, 1, 5, 5, 1, 6, 4, 6, 5, 7, 5, 1, 3, 7, 6, 3, 6, 4, 5, 1, 4, 1, 2, 3, 4, 5, 6, 1, 2, 3, 4, 5, 6, 3, 6, 7, 3, 2, 1, 2, 3, 4, 5, 6, 7, 6, 6, 1, 2, 3, 4, 5, 6, 2, 4, 1, 2, 3, 4, 6, 3, 3, 3, 2, 1, 2, 1, 2, 3, 4, 5, 6, 1, 1, 1, 3, 4, 5, 6, 7, 7, 1, 2, 3, 4, 5, 6, 7, 3, 4, 7, 4, 1, 3, 4, 6, 7, 4, 1, 2, 3, 4, 5, 6, 1, 1, 4, 5, 6, 1, 6, 1, 2, 3, 4, 5, 6, 5, 6, 4, 5, 7, 4, 5, 7, 4, 1, 7, 7, 6, 7, 2, 5, 2, 3, 2, 2, 1, 2, 3, 4, 5, 6, 7, 1, 3, 3, 5, 5, 4, 4, 2, 4, 5, 4, 2, 1, 1, 2, 4, 5, 6, 2, 1, 6, 3, 5, 5, 3, 1, 3, 4, 6, 7, 5, 1, 2, 3, 4, 5, 6, 4, 7, 1, 2, 3, 4, 5, 6, 1, 3, 1, 2, 4, 5, 6, 7, 7, 6, 2, 4, 6, 3, 4, 1, 5, 1, 7, 5, 5, 1, 3, 4, 5, 6, 6, 2, 1, 4, 6, 7, 3, 4, 4, 7, 4, 5, 1, 5, 1, 2, 4, 2, 6, 1, 6, 2, 2, 3, 4, 1, 2, 6, 1, 2, 3, 4, 5, 6, 7, 3, 1, 2, 3, 4, 5, 6, 1, 5, 1, 2, 3, 4, 5, 6, 3, 3, 5, 3, 2, 4, 3, 4, 1, 2, 3, 5, 5, 4, 6, 2, 2, 5, 5, 2, 2, 4, 6, 1, 3, 5, 7, 3, 3, 7, 6, 1, 1, 3, 5, 1, 2, 1, 2, 2, 1, 4, 4, 7, 1, 3, 7, 4, 4, 6, 7, 4, 2, 7, 3, 2, 1, 2, 3, 4, 5, 3, 6, 6, 5, 1, 2, 5, 5, 1, 3, 1, 5, 1, 4, 6, 7, 5, 4, 1, 4, 2, 2, 4, 5, 6, 6, 6, 3, 7, 5, 5, 2, 2, 3, 4, 6, 2, 3, 4, 5, 6, 7, 2, 6, 6, 1, 2, 4, 5, 2, 7, 5, 3, 6, 1, 5, 1, 4, 1, 2, 3, 4, 5, 6, 2, 3, 1, 1, 3, 7, 2, 4, 3, 6, 6, 6, 2, 6, 7, 1, 3, 5, 2, 5, 5, 1, 2, 3, 4, 5, 6, 7, 6, 4, 1, 7, 4, 3, 1, 4, 2, 3, 6, 1, 3, 5], \"Freq\": [0.9902722323221356, 0.9952276018282153, 0.9974260050767089, 0.3231445209994762, 0.24725451985565983, 0.4284112967796086, 0.9970917491083942, 0.9968100653887826, 0.9962931493241869, 0.9952592061887435, 0.9901591731874624, 0.0814768436078848, 0.9125406484083098, 0.22606148889037547, 0.7728859012062838, 0.9933979780623862, 0.9970017787310061, 0.9913902690299228, 0.23058535458126717, 0.004705823562883004, 0.7576375936241636, 0.9945290704339547, 0.9940833623314153, 0.9930830782067637, 0.9959658066718975, 0.07881005391716402, 0.6190293978621686, 0.09093467759672771, 0.10508007188955203, 0.09969135025419038, 0.006062311839781847, 0.9993759474200384, 0.00983514379329129, 0.9884319512257745, 0.021068144628031266, 0.4898343626017269, 0.23701662706535173, 0.1632781208672423, 0.0487200844523223, 0.03818601213830667, 0.9923521677396449, 0.9972097090177785, 0.9973181201124528, 0.9090602637952775, 0.08687265319545313, 0.9896201402659837, 0.10874729962754114, 0.4747747959348747, 0.41377021321698576, 0.0584609930935245, 0.90858126766186, 0.032884308615107535, 0.993643013166435, 0.9953388218487706, 0.991838092752914, 0.003209832015381599, 0.9964046510512, 0.9871998770232859, 0.995863204835223, 0.9934385594388963, 0.03848589949050659, 0.1687458669968366, 0.19538995125949501, 0.5920907613924091, 0.9954266008295273, 0.008747098254993688, 0.7872388429494318, 0.19243616160986113, 0.008747098254993688, 0.9976994414705249, 0.9906690279268218, 0.09154362091656941, 0.8320040483303397, 0.07532070075413938, 0.9985931723949572, 0.9990639500165778, 0.2256755687203062, 0.5979438145580762, 0.17359659132331245, 0.9974460752336228, 0.989501401018982, 0.9922422306920634, 0.20075710962583176, 0.7942998685195953, 0.9909579903005874, 0.007564564811454866, 0.07207828208677082, 0.926417919762319, 0.9924888784040713, 0.9915560974320076, 0.004699317997308093, 0.9915771425249291, 0.993938666842171, 0.9917162866543404, 0.9957815571700032, 0.9918830037959467, 0.9942563231500419, 0.9858520678910736, 0.006443477567915514, 0.022024570594737707, 0.20849926829685028, 0.4214034507126481, 0.09250319649789837, 0.05139066472105465, 0.20262604947158688, 0.16300079406102497, 0.18642605787817826, 0.4343434332763839, 0.07125184411050792, 0.02440131647620134, 0.11907842440386254, 0.2985274906342738, 0.6965641448133055, 0.9946855384356709, 0.9952073344236035, 0.9897050373034368, 0.7638914839408063, 0.02294952956045341, 0.03934205067506299, 0.019671025337531494, 0.11146914357934513, 0.0426205548979849, 0.9986080650043564, 0.9981917185557906, 0.9976842819274635, 0.026897090057031486, 0.20172817542773613, 0.0016810681285644679, 0.7194971590255922, 0.011767476899951276, 0.036983498828418296, 0.0064214547622764235, 0.9889040333905692, 0.028110566220211786, 0.08633959624779335, 0.4638243426334945, 0.2790977646149599, 0.14256072868821693, 0.9950801766563594, 0.9936602921732917, 0.9912460336900544, 0.9944987249944874, 0.9313315622098245, 0.06471488196624157, 0.04929773964093774, 0.2286867366676834, 0.5135181212597681, 0.10270362425195363, 0.03560392307401059, 0.06983846449132847, 0.9963750801054938, 0.996985937178353, 0.09056012591775757, 0.21055229275878634, 0.5976968310572, 0.06565609129037424, 0.03396004721915909, 0.9971456439892812, 0.9983239980941607, 0.10050783786238482, 0.0372251251342166, 0.0372251251342166, 0.1675130631039747, 0.6514396898487905, 0.00372251251342166, 0.00744502502684332, 0.4833228512178518, 0.10913741801693427, 0.4053675526343273, 0.9869589103577434, 0.207876163663795, 0.7817314887075107, 0.008783499873118099, 0.9920128240647512, 0.9936487528998462, 0.9941289840154327, 0.17601596055183333, 0.2109780349080194, 0.26583232398410445, 0.10669460622491266, 0.11211975569397602, 0.1283952041011661, 0.9963665443889699, 0.2653094295930678, 0.18921292653149022, 0.1645329795926002, 0.37842585306298043, 0.9969628121408411, 0.995223328849284, 0.029020252814796133, 0.18995074569684742, 0.13982485447129045, 0.12663383046456494, 0.23216202251836907, 0.28228791374392603, 0.9929777067808826, 0.9960183834554052, 0.9891974954968865, 0.9892190742646291, 0.9901864422102963, 0.3554419266765846, 0.6063421102129972, 0.03554419266765846, 0.9912723987089683, 0.260121575634976, 0.7385060825498745, 0.9938088541739517, 0.9915420886941387, 0.9971060247974491, 0.9822956365019789, 0.014531000539970102, 0.9946936392591376, 0.9953700215459956, 0.9976617532447796, 0.9988847377547849, 0.12127859914682333, 0.1836504501366182, 0.24775485254279625, 0.17094507308314147, 0.057751713879439684, 0.21830147846428202, 0.0005775171387943968, 0.9903721145122595, 0.9906901501461461, 0.9952500940179841, 0.9967106337622476, 0.9942527818783751, 0.995181288630094, 0.9941016374286507, 0.6119631846872892, 0.2685731845022586, 0.11702117324741267, 0.9925191830150825, 0.9948817208037702, 0.9930188416719692, 0.010278991910038922, 0.005139495955019461, 0.9405277597685613, 0.020557983820077844, 0.020557983820077844, 0.997055572316463, 0.9931780290998005, 0.9896586235511203, 0.9963233473528844, 0.9911102835468603, 0.9971447533885812, 0.9947413783163818, 0.06396467055305603, 0.8659832321029124, 0.04428323345980802, 0.024601796366560014, 0.996749276516374, 0.9888878140441144, 0.13296001324277848, 0.4036045072039672, 0.17750499229873473, 0.13835940464350047, 0.12756062184205652, 0.020247717752707384, 0.9945569985522487, 0.9975088682311452, 0.05343091114960512, 0.33052610153011536, 0.39514022664126575, 0.0782824977308168, 0.04597543517524161, 0.09692118766672556, 0.9966519740713895, 0.9943031417710934, 0.0029693939748611387, 0.17222485054194606, 0.6502972804945893, 0.08165833430868132, 0.07126545539666733, 0.02227045481145854, 0.9988727013858342, 0.9881499311922013, 0.0007627994241199816, 0.9924020507800961, 0.006102395392959853, 0.9857165995552529, 0.010109913841592337, 0.9964818673392232, 0.9942750732028437, 0.996736875288496, 0.9971494179496786, 0.9914972499600195, 0.9974647947006512, 0.14555766969256492, 0.5484781756531432, 0.09281938357207038, 0.04008109745157585, 0.17298157847522208, 0.9869241237442202, 0.9943651322267749, 0.002966063124462354, 0.7800746017335992, 0.2135565449612895, 0.9980669170302284, 0.9050164409257626, 0.09387138615985303, 0.9865059162704026, 0.9969742621283834, 0.3018087374854331, 0.6954723081186066, 0.9912953605453798, 0.9968895203742494, 0.9917687665968733, 0.9888290886889195, 0.0037598064208704163, 0.998148523351474, 0.9950338659049477, 0.9962122710264474, 0.9897392745860752, 0.9942263243020049, 0.997363389404393, 0.06597975664676221, 0.9319640626355162, 0.9952082257576427, 0.99480827446368, 0.9890021403302751, 0.0870717715798623, 0.3069838100572068, 0.32596099104256143, 0.10381634303752812, 0.055815238192219424, 0.11944460973134957, 0.0022326095276887768, 0.9831820721843113, 0.07283754452069027, 0.6378803141357421, 0.10153112266520462, 0.18540465877993886, 0.01275159418703324, 0.9818727524015594, 0.1044431186994003, 0.8877665089449026, 0.16248808703969647, 0.260321228451032, 0.45343534236732047, 0.04126006398651978, 0.023820243126238226, 0.05869988484680134, 0.9993090983656631, 0.9917660646511914, 0.9948162170365543, 0.9972684216711409, 0.9975675281291774, 0.9878257956104987, 0.9924341960948149, 0.9948654924665497, 0.09936567512723463, 0.43956680013912264, 0.10778649505327145, 0.3519902729083396, 0.9983537236219509, 0.9960918768970033, 0.9910831650487754, 0.9925590099697388, 0.08362408514919907, 0.913432314706636, 0.9966241885105924, 0.9948968893347573, 0.17787465402952576, 0.15290979030608357, 0.6678101046020792, 0.9937921168811192, 0.015694485345160297, 0.06670156271693127, 0.9181273926918775, 0.9961509258915567, 0.9987887631947286, 0.9962469676593431, 0.9973933444787149, 0.9968838681060013, 0.046125850459541554, 0.007687641743256926, 0.937892292677345, 0.9895468734860262, 0.005180873683172912, 0.9968880557498994, 0.9953873345472284, 0.9930804084115354, 0.16531428654690028, 0.8265714327345014, 0.027542405716786685, 0.9679188294756463, 0.33200097362449377, 0.6668395624081712, 0.9952513606690814, 0.9950678095659268, 0.9935634929414037, 0.9884330068499402, 0.9919851912458991, 0.9932058774272589, 0.9921156306783133, 0.9953336924875301, 0.9903391557511025, 0.9962395416250207, 0.021757952760283774, 0.9392182941522497, 0.010878976380141887, 0.01813162730023648, 0.010878976380141887, 0.9933037460433178, 0.9916390291341021, 0.9962144238491261, 0.9924127206718649, 0.9965816411522156, 0.99737566786588, 0.9949046634029717, 0.9912088776693356, 0.9970287577559934, 0.987832012067009, 0.990959971131386, 0.005728092318678532, 0.08617498350582958, 0.05123917938184462, 0.1770080742281905, 0.6847417608301054, 0.9950699368476668, 0.995245863309588, 0.05340827753003881, 0.941320891466934, 0.9933011369175146, 0.19429742964331753, 0.005113090253771514, 0.6059011950719244, 0.19174088451643176, 0.9965549771355586, 0.9930849507043888, 0.9944711109850787, 0.9958707528435187, 0.9971072367005527, 0.9943824946222264, 0.9944436876741631, 0.9953922175759902, 0.047495369733754046, 0.03562152730031553, 0.9142858673747654, 0.777594379762368, 0.10665259572800559, 0.07368724795753114, 0.03587405492669279, 0.0058174143124366685, 0.9996483277678342, 0.9918278273674551, 0.9973087024784058, 0.9934668145572835, 0.06870399648331423, 0.4048628364195303, 0.04171314072201221, 0.48338168954331795, 0.00995500509590809, 0.9880342557688778, 0.9978927762234998, 0.9930600541770279, 0.9961096322303938, 0.9977702325532842, 0.9939603401895869, 0.005356090739912388, 0.993554832253748, 0.05467007924212279, 0.41458143425276445, 0.36446719494748525, 0.047077012680716845, 0.03492810618246733, 0.08504234548774656, 0.9906289899479921, 0.9913711860601973, 0.9918131054990278, 0.34482945767892703, 0.6544344008637701, 0.9973476126782213, 0.9871490581105467, 0.9926560873501699, 0.22025363019510655, 0.7771212989902816, 0.988361862491345, 0.9908411589754293, 0.004125306131764283, 0.990073471623428, 0.9979553827706916, 0.21338884530457294, 0.756081464227314, 0.028978732078398798, 0.03694469283741899, 0.9605620137728937, 0.9963161931389757, 0.3895533804531343, 0.12617113536943622, 0.28861647215758535, 0.07570268122166172, 0.06150842849260015, 0.031542783842359055, 0.02838850545812315, 0.9945592113257246, 0.9947457488149937, 0.994217778224216, 0.9965114160521517, 0.9912288101233117, 0.9960288185080781, 0.99877397625289, 0.989882258297114, 0.0037708927164998374, 0.0037708927164998374, 0.9917447844394572, 0.032329834438136903, 0.9537301159250386, 0.010776611479378967], \"Term\": [\"airlangga\", \"aku\", \"alas\", \"alih\", \"alih\", \"alih\", \"anak_usaha\", \"andal\", \"anggar\", \"apresiasi\", \"arah\", \"atap\", \"atap\", \"atur\", \"atur\", \"badan\", \"bahan_bakar\", \"bahas_ruu\", \"bahlil\", \"bahlil\", \"bahlil\", \"baik\", \"bakar\", \"banding\", \"banget\", \"bangkit\", \"bangkit\", \"bangkit\", \"bangkit\", \"bangkit\", \"bangkit\", \"bangkit_listrik\", \"bangkit_listrik_tenaga_biogas\", \"bangkit_listrik_tenaga_biogas\", \"bangun\", \"bangun\", \"bangun\", \"bangun\", \"bangun\", \"bangun\", \"bangun_infrastruktur\", \"bank\", \"bank_dunia\", \"bas\", \"bas\", \"baterai\", \"batu\", \"batu\", \"batu\", \"baur\", \"baur\", \"baur\", \"bawah\", \"beban\", \"beli\", \"beli\", \"beli_listrik\", \"bener\", \"berat\", \"biaya\", \"bidang\", \"bidang\", \"bidang\", \"bidang\", \"buka_peluang\", \"bumi\", \"bumi\", \"bumi\", \"bumi\", \"bumn\", \"cak\", \"capai\", \"capai\", \"capai\", \"capai_persen\", \"capai_target\", \"cepat\", \"cepat\", \"cepat\", \"cepat_transisi\", \"coal\", \"daerah_pencil\", \"dampak\", \"dampak\", \"dampak_positif\", \"dampak_positif\", \"dana\", \"dana\", \"darmawan_prasodjo\", \"dasamuka_pln\", \"dasamuka_pln\", \"daya_saing\", \"den\", \"depan\", \"desa\", \"dirjen_ebtke\", \"dirut\", \"dmo_batu\", \"dmo_batu\", \"dorong\", \"dorong\", \"dorong\", \"dorong\", \"dorong\", \"dorong\", \"dukung\", \"dukung\", \"dukung\", \"dukung\", \"dukung\", \"dukung\", \"ekonomi\", \"ekonomi\", \"ekonomi_hijau\", \"ekspor\", \"emang\", \"energy\", \"energy\", \"energy\", \"energy\", \"energy\", \"energy\", \"era\", \"erick\", \"erick_thohir\", \"esdm\", \"esdm\", \"esdm\", \"esdm\", \"esdm\", \"esdm\", \"firing_pltu\", \"firing_pltu\", \"fosil\", \"fosil\", \"fosil\", \"fosil\", \"fosil\", \"gandeng\", \"gas_bumi\", \"generasi_muda\", \"genjot\", \"green\", \"green\", \"guna\", \"guna\", \"guna\", \"guna\", \"guna\", \"guna\", \"hadir\", \"hambat\", \"harga\", \"harga\", \"harga\", \"harga\", \"harga\", \"harga_jual\", \"hebat\", \"heroes\", \"heroes\", \"heroes\", \"heroes\", \"heroes\", \"heroes\", \"heroes\", \"hijau\", \"hijau\", \"hijau\", \"hrs\", \"id\", \"id\", \"id\", \"iklim\", \"imbang\", \"indo\", \"indonesia\", \"indonesia\", \"indonesia\", \"indonesia\", \"indonesia\", \"indonesia\", \"indonesia_timur\", \"industri\", \"industri\", \"industri\", \"industri\", \"inggris\", \"insentif\", \"investasi\", \"investasi\", \"investasi\", \"investasi\", \"investasi\", \"investasi\", \"investasi_sektor\", \"investor\", \"isi\", \"isu\", \"jabar\", \"jalan\", \"jalan\", \"jalan\", \"jalan_lancar\", \"jual\", \"jual\", \"juang\", \"kaji\", \"kalah\", \"kapasitas\", \"kapasitas\", \"kapasitas_bangkit\", \"kawasan_industri\", \"kejar\", \"kejar_target\", \"kembang\", \"kembang\", \"kembang\", \"kembang\", \"kembang\", \"kembang\", \"kembang\", \"kendala\", \"kendara\", \"kendara_listrik\", \"keren\", \"keren_banget\", \"komisi\", \"komisi_vii\", \"komitmen\", \"komitmen\", \"komitmen\", \"kompetitif\", \"konversi_pltd\", \"kota\", \"kuat_bidang\", \"kuat_bidang\", \"kuat_bidang\", \"kuat_bidang\", \"kuat_bidang\", \"kurang_emisi\", \"laku_usaha\", \"lancar\", \"langkah\", \"larang\", \"larang_ekspor\", \"lengkap\", \"lingkung\", \"lingkung\", \"lingkung\", \"lingkung\", \"liput\", \"lirik_investasi\", \"listrik\", \"listrik\", \"listrik\", \"listrik\", \"listrik\", \"listrik\", \"mahal\", \"mana\", \"manfaat\", \"manfaat\", \"manfaat\", \"manfaat\", \"manfaat\", \"manfaat\", \"mantap\", \"menko_airlangga\", \"menteri\", \"menteri\", \"menteri\", \"menteri\", \"menteri\", \"menteri\", \"menteri_bumn\", \"menteri_bumn_erick_thohir\", \"menteri_esdm\", \"menteri_esdm\", \"menteri_esdm\", \"menteri_jonan\", \"menteri_jonan\", \"micho\", \"miliar\", \"milik_potensi\", \"minim\", \"mobil\", \"mobil_listrik\", \"moga\", \"moga\", \"moga\", \"moga\", \"moga\", \"moga_lancar\", \"mudah\", \"murah\", \"murah\", \"murah\", \"negara_maju\", \"net_zero\", \"net_zero\", \"niscaya\", \"ntt\", \"nuklir\", \"nuklir\", \"nuklir_ruu\", \"operasi\", \"optimis\", \"panas\", \"panas\", \"panas_bumi\", \"panel_surya\", \"pasang_plts\", \"pasar\", \"pasok\", \"pasok_listrik\", \"peluang\", \"peluang\", \"penuh_butuh\", \"penuh_target\", \"percaya\", \"perintah\", \"perintah\", \"perintah\", \"perintah\", \"perintah\", \"perintah\", \"perintah\", \"perintah_serius\", \"persen\", \"persen\", \"persen\", \"persen\", \"pertamina_alokasi\", \"pertamina_alokasi\", \"pilih\", \"pilih\", \"pln\", \"pln\", \"pln\", \"pln\", \"pln\", \"pln\", \"pln_id\", \"pln_persero\", \"plt\", \"plta\", \"plta_poso\", \"pltb\", \"pltd\", \"pltn\", \"plts\", \"plts\", \"plts\", \"plts\", \"plts_atap\", \"pltu\", \"positif\", \"poso\", \"power\", \"power\", \"pres\", \"presiden_jokowi\", \"prioritas\", \"prioritas\", \"prioritas\", \"proses\", \"pulau\", \"pulau\", \"pulau\", \"ramah\", \"ramah_lingkung\", \"rancang\", \"realisasi\", \"rencana\", \"rencana_ekspor\", \"rencana_ekspor\", \"rencana_ekspor\", \"renewable\", \"renewable\", \"renewable_energy\", \"rp\", \"rp_triliun\", \"ruptl\", \"ruptl\", \"ruptl_hijau\", \"ruptl_hijau\", \"ruu\", \"ruu\", \"saing\", \"salah_satu\", \"satu\", \"sehat\", \"sekjen_esdm\", \"selesai\", \"sepakat\", \"serap\", \"serius\", \"simak\", \"simak_bawah\", \"simak_bawah\", \"simak_bawah\", \"simak_bawah\", \"simak_bawah\", \"simak_lengkap\", \"sinergi\", \"sinergi_bumn\", \"singapura\", \"sistem\", \"sobat\", \"solar\", \"solar_panel\", \"strategi\", \"strategis\", \"subholding_power\", \"subholding_power\", \"subsidi\", \"subsidi\", \"subsidi\", \"subsidi\", \"sukses\", \"sulawesi_selatan\", \"sulit\", \"sulit\", \"sumber_daya\", \"surya\", \"surya\", \"surya\", \"surya\", \"swasta\", \"tahan_pangan\", \"tahap\", \"tahu\", \"tambah\", \"tambah_bangkit\", \"tambah_kapasitas\", \"tanah_air\", \"tantang\", \"tantang\", \"tantang\", \"target\", \"target\", \"target\", \"target\", \"target\", \"target_baur\", \"tarif_listrik\", \"tekan\", \"tekan_emisi\", \"tenaga\", \"tenaga\", \"tenaga\", \"tenaga\", \"tenaga_biogas\", \"tenaga_biogas\", \"tenaga_surya\", \"terbit\", \"thohir\", \"tinggal\", \"tinggi\", \"tinggi_indonesia\", \"tinggi_indonesia\", \"tingkat\", \"tingkat\", \"tingkat\", \"tingkat\", \"tingkat\", \"tingkat\", \"tingkat_baur\", \"tingkat_porsi\", \"topang\", \"transisi\", \"transisi\", \"transportasi\", \"triliun\", \"turun\", \"ubah\", \"ubah\", \"ubah_iklim\", \"udien\", \"udien_pln\", \"udien_pln\", \"untung\", \"upaya\", \"upaya\", \"upaya\", \"us\", \"us\", \"us_miliar\", \"usaha\", \"usaha\", \"usaha\", \"usaha\", \"usaha\", \"usaha\", \"usaha\", \"usul\", \"uu\", \"via_id\", \"video\", \"vii\", \"wilayah\", \"wujud\", \"wujud_komitmen\", \"yantie_pln\", \"yantie_pln\", \"yantie_pln\", \"zero\", \"zero\", \"zero\"]}, \"R\": 30, \"lambda.step\": 0.01, \"plot.opts\": {\"xlab\": \"PC1\", \"ylab\": \"PC2\"}, \"topic.order\": [3, 1, 6, 5, 7, 4, 2]};\n",
              "\n",
              "function LDAvis_load_lib(url, callback){\n",
              "  var s = document.createElement('script');\n",
              "  s.src = url;\n",
              "  s.async = true;\n",
              "  s.onreadystatechange = s.onload = callback;\n",
              "  s.onerror = function(){console.warn(\"failed to load library \" + url);};\n",
              "  document.getElementsByTagName(\"head\")[0].appendChild(s);\n",
              "}\n",
              "\n",
              "if(typeof(LDAvis) !== \"undefined\"){\n",
              "   // already loaded: just create the visualization\n",
              "   !function(LDAvis){\n",
              "       new LDAvis(\"#\" + \"ldavis_el822301406490658868809976293738\", ldavis_el822301406490658868809976293738_data);\n",
              "   }(LDAvis);\n",
              "}else if(typeof define === \"function\" && define.amd){\n",
              "   // require.js is available: use it to load d3/LDAvis\n",
              "   require.config({paths: {d3: \"https://d3js.org/d3.v5\"}});\n",
              "   require([\"d3\"], function(d3){\n",
              "      window.d3 = d3;\n",
              "      LDAvis_load_lib(\"https://cdn.jsdelivr.net/gh/bmabey/pyLDAvis@3.3.1/pyLDAvis/js/ldavis.v3.0.0.js\", function(){\n",
              "        new LDAvis(\"#\" + \"ldavis_el822301406490658868809976293738\", ldavis_el822301406490658868809976293738_data);\n",
              "      });\n",
              "    });\n",
              "}else{\n",
              "    // require.js not available: dynamically load d3 & LDAvis\n",
              "    LDAvis_load_lib(\"https://d3js.org/d3.v5.js\", function(){\n",
              "         LDAvis_load_lib(\"https://cdn.jsdelivr.net/gh/bmabey/pyLDAvis@3.3.1/pyLDAvis/js/ldavis.v3.0.0.js\", function(){\n",
              "                 new LDAvis(\"#\" + \"ldavis_el822301406490658868809976293738\", ldavis_el822301406490658868809976293738_data);\n",
              "            })\n",
              "         });\n",
              "}\n",
              "</script>"
            ],
            "text/plain": [
              "PreparedData(topic_coordinates=               x          y  topics  cluster       Freq\n",
              "topic                                                  \n",
              "2     -29.594002  60.112713       1        1  17.354329\n",
              "0     -45.996586  11.891685       2        1  16.759891\n",
              "5      20.368856  70.019325       3        1  16.702664\n",
              "4      53.928768  31.704309       4        1  14.383629\n",
              "6     -12.437127 -26.423267       5        1  13.198709\n",
              "3       3.965971  21.797720       6        1  11.580538\n",
              "1      37.524284 -16.517805       7        1  10.020241, topic_info=                  Term         Freq        Total Category  logprob  loglift\n",
              "7140            pln_id  2086.000000  2086.000000  Default  30.0000  30.0000\n",
              "1895       target_baur  1409.000000  1409.000000  Default  29.0000  29.0000\n",
              "3787      menteri_bumn  1165.000000  1165.000000  Default  28.0000  28.0000\n",
              "357       menteri_esdm  1310.000000  1310.000000  Default  27.0000  27.0000\n",
              "783    bangkit_listrik  1375.000000  1375.000000  Default  26.0000  26.0000\n",
              "...                ...          ...          ...      ...      ...      ...\n",
              "577              pulau   234.144596   254.866592   Topic7  -4.7560   2.2158\n",
              "198            subsidi   293.866680   429.358945   Topic7  -4.5288   1.9214\n",
              "999               jual   247.228919   334.458992   Topic7  -4.7016   1.9984\n",
              "314              hijau   208.174904   513.114576   Topic7  -4.8735   1.3984\n",
              "10994           bahlil   161.155156   212.502655   Topic7  -5.1296   2.0240\n",
              "\n",
              "[346 rows x 6 columns], token_table=       Topic      Freq        Term\n",
              "term                              \n",
              "1323       3  0.990272   airlangga\n",
              "128        7  0.995228         aku\n",
              "383        7  0.997426        alas\n",
              "389        3  0.323145        alih\n",
              "389        4  0.247255        alih\n",
              "...      ...       ...         ...\n",
              "10521      3  0.003771  yantie_pln\n",
              "10521      6  0.991745  yantie_pln\n",
              "2571       1  0.032330        zero\n",
              "2571       3  0.953730        zero\n",
              "2571       5  0.010777        zero\n",
              "\n",
              "[510 rows x 3 columns], R=30, lambda_step=0.01, plot_opts={'xlab': 'PC1', 'ylab': 'PC2'}, topic_order=[3, 1, 6, 5, 7, 4, 2])"
            ]
          },
          "execution_count": 34,
          "metadata": {},
          "output_type": "execute_result"
        }
      ],
      "source": [
        "import pyLDAvis.gensim_models as gensimvis\n",
        "pyLDAvis.enable_notebook()\n",
        "panel = gensimvis.prepare(model, corpus_tfidf, dictionary, mds='tsne')\n",
        "panel"
      ]
    },
    {
      "cell_type": "code",
      "execution_count": null,
      "metadata": {},
      "outputs": [],
      "source": []
    }
  ],
  "metadata": {
    "accelerator": "TPU",
    "colab": {
      "collapsed_sections": [],
      "name": "Data Kualitatif- LDA.ipynb",
      "provenance": []
    },
    "kernelspec": {
      "display_name": "Python 3.9.7 ('venv': venv)",
      "language": "python",
      "name": "python3"
    },
    "language_info": {
      "codemirror_mode": {
        "name": "ipython",
        "version": 3
      },
      "file_extension": ".py",
      "mimetype": "text/x-python",
      "name": "python",
      "nbconvert_exporter": "python",
      "pygments_lexer": "ipython3",
      "version": "3.9.7"
    },
    "vscode": {
      "interpreter": {
        "hash": "00a08332a9656d07fb15950983716ae1dc3baeb86e6935d123f31572ce96d1e2"
      }
    }
  },
  "nbformat": 4,
  "nbformat_minor": 0
}
