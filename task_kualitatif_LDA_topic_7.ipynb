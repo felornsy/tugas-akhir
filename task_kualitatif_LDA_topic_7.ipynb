{
  "cells": [
    {
      "cell_type": "code",
      "execution_count": 1,
      "metadata": {
        "id": "xLTR8avada_P"
      },
      "outputs": [],
      "source": [
        "import warnings\n",
        "warnings.filterwarnings('ignore')\n",
        "import pandas as pd #a library to make the data more structured55r56y6y"
      ]
    },
    {
      "cell_type": "code",
      "execution_count": 2,
      "metadata": {
        "colab": {
          "base_uri": "https://localhost:8080/",
          "height": 372
        },
        "id": "SqJ6bJwOdmxH",
        "outputId": "4c42ea1b-af2c-4219-d627-0e55f2195cc1"
      },
      "outputs": [],
      "source": [
        "df = pd.read_csv('data/text-preprocessing.csv')\n",
        "df = df.drop(columns=['Unnamed: 0'])"
      ]
    },
    {
      "cell_type": "code",
      "execution_count": 3,
      "metadata": {
        "colab": {
          "base_uri": "https://localhost:8080/"
        },
        "id": "MxWR5yAqMP_S",
        "outputId": "d9a66715-3b7c-449c-9244-5372b4ced4b5"
      },
      "outputs": [
        {
          "data": {
            "text/plain": [
              "(109705, 23)"
            ]
          },
          "execution_count": 3,
          "metadata": {},
          "output_type": "execute_result"
        }
      ],
      "source": [
        "df.shape"
      ]
    },
    {
      "cell_type": "code",
      "execution_count": 4,
      "metadata": {
        "colab": {
          "base_uri": "https://localhost:8080/"
        },
        "id": "Oy0uwRRPcksH",
        "outputId": "ba7c1c66-ad10-4e2d-cc0c-781bcecd9334"
      },
      "outputs": [
        {
          "name": "stdout",
          "output_type": "stream",
          "text": [
            "<class 'pandas.core.frame.DataFrame'>\n",
            "RangeIndex: 109705 entries, 0 to 109704\n",
            "Data columns (total 23 columns):\n",
            " #   Column                       Non-Null Count   Dtype  \n",
            "---  ------                       --------------   -----  \n",
            " 0   tweet_id                     109705 non-null  int64  \n",
            " 1   author_name                  109705 non-null  object \n",
            " 2   author_username              109705 non-null  object \n",
            " 3   author_location              78272 non-null   object \n",
            " 4   content                      109705 non-null  object \n",
            " 5   content_clean                109437 non-null  object \n",
            " 6   like_count                   109604 non-null  float64\n",
            " 7   retweet_count                17012 non-null   float64\n",
            " 8   reply_count                  16620 non-null   float64\n",
            " 9   source                       109705 non-null  object \n",
            " 10  keyword                      109705 non-null  object \n",
            " 11  address                      64928 non-null   object \n",
            " 12  longitude                    66438 non-null   float64\n",
            " 13  latitude                     66438 non-null   float64\n",
            " 14  province                     64297 non-null   object \n",
            " 15  city                         41183 non-null   object \n",
            " 16  country                      66419 non-null   object \n",
            " 17  created_at                   109705 non-null  object \n",
            " 18  content_token                109705 non-null  object \n",
            " 19  tweet_tokens_fdist           109705 non-null  object \n",
            " 20  tweet_tokens_WSW             109705 non-null  object \n",
            " 21  tweet_tokens_stemmed         109705 non-null  object \n",
            " 22  tweet_tokens_stemmed_string  109404 non-null  object \n",
            "dtypes: float64(5), int64(1), object(17)\n",
            "memory usage: 19.3+ MB\n"
          ]
        }
      ],
      "source": [
        "df.info()"
      ]
    },
    {
      "cell_type": "code",
      "execution_count": 5,
      "metadata": {
        "id": "3PYA4slIdNBD"
      },
      "outputs": [],
      "source": [
        "df_new = df[df['tweet_tokens_stemmed_string'].notnull()]"
      ]
    },
    {
      "cell_type": "code",
      "execution_count": 6,
      "metadata": {
        "colab": {
          "base_uri": "https://localhost:8080/"
        },
        "id": "uiih8RfJcG3C",
        "outputId": "cdec65c1-675f-4022-e661-e57038cd2a71"
      },
      "outputs": [
        {
          "data": {
            "text/plain": [
              "0    lomba poster ilmiah energi baru deadline janua...\n",
              "1                 elaahhh ngomong energi baru tv biruu\n",
              "2    daerah pencil membutuhkam listrik manfaat ener...\n",
              "3    tarik materi energi baru baek ganti nama propa...\n",
              "4    aneh inget jatropa alias minyak jarak bbrp jat...\n",
              "Name: tweet_tokens_stemmed_string, dtype: object"
            ]
          },
          "execution_count": 6,
          "metadata": {},
          "output_type": "execute_result"
        }
      ],
      "source": [
        "df_new['tweet_tokens_stemmed_string'].head()"
      ]
    },
    {
      "cell_type": "code",
      "execution_count": 7,
      "metadata": {
        "colab": {
          "base_uri": "https://localhost:8080/"
        },
        "id": "GGejGqbRh6W4",
        "outputId": "89c44e3a-3677-4a98-9a81-d3184e372c0d"
      },
      "outputs": [
        {
          "name": "stdout",
          "output_type": "stream",
          "text": [
            "Case Folding Result : \n",
            "\n",
            "0    lomba poster ilmiah energi baru deadline janua...\n",
            "1                 elaahhh ngomong energi baru tv biruu\n",
            "2    daerah pencil membutuhkam listrik manfaat ener...\n",
            "3    tarik materi energi baru baek ganti nama propa...\n",
            "4    aneh inget jatropa alias minyak jarak bbrp jat...\n",
            "Name: tweet_tokens_stemmed_string, dtype: object\n"
          ]
        }
      ],
      "source": [
        "#lower text\n",
        "# ------ Case Folding --------\n",
        "# gunakan fungsi Series.str.lower() pada Pandas\n",
        "df_new['tweet_tokens_stemmed_string'] = df_new['tweet_tokens_stemmed_string'].str.lower()\n",
        "\n",
        "\n",
        "print('Case Folding Result : \\n')\n",
        "print(df_new['tweet_tokens_stemmed_string'].head(5))\n"
      ]
    },
    {
      "cell_type": "code",
      "execution_count": 8,
      "metadata": {
        "colab": {
          "base_uri": "https://localhost:8080/"
        },
        "id": "Aox9mh-NFJaY",
        "outputId": "dc62a84f-cf29-41fc-a1b4-83dbeff37ddc"
      },
      "outputs": [
        {
          "name": "stdout",
          "output_type": "stream",
          "text": [
            "109404\n"
          ]
        }
      ],
      "source": [
        "text = df_new['tweet_tokens_stemmed_string']\n",
        "text_list =  [i.split() for i in text]\n",
        "#text_list =  [i for i in text]\n",
        "print(len(text_list))"
      ]
    },
    {
      "cell_type": "code",
      "execution_count": 9,
      "metadata": {
        "colab": {
          "base_uri": "https://localhost:8080/"
        },
        "id": "Z4Y-nzFZdmOz",
        "outputId": "a63b5e1c-301a-4d94-f1bb-9d06647e3422"
      },
      "outputs": [
        {
          "name": "stdout",
          "output_type": "stream",
          "text": [
            "Frequency Tokens : \n",
            "\n"
          ]
        },
        {
          "data": {
            "text/plain": [
              "0    [( , 11), (a, 10), (e, 6), (i, 6), (s, 5), (r,...\n",
              "1    [( , 5), (e, 3), (a, 3), (h, 3), (n, 3), (g, 3...\n",
              "2    [(a, 7), ( , 6), (e, 5), (r, 4), (i, 4), (m, 4...\n",
              "3    [(a, 10), ( , 8), (r, 5), (i, 5), (e, 4), (t, ...\n",
              "4    [(a, 12), ( , 12), (r, 8), (e, 7), (b, 6), (i,...\n",
              "Name: tweet_tokens_stemmed_string, dtype: object"
            ]
          },
          "execution_count": 9,
          "metadata": {},
          "output_type": "execute_result"
        }
      ],
      "source": [
        "#masi salah hasil frekuensi nya\n",
        "# NLTK calc frequency distribution\n",
        "from nltk.probability import FreqDist\n",
        "def freqDist_wrapper(text):\n",
        "    return FreqDist(text)\n",
        "\n",
        "df_new['tweet_tokens_stemmed_string'] = df_new['tweet_tokens_stemmed_string'].apply(freqDist_wrapper)\n",
        "\n",
        "print('Frequency Tokens : \\n') \n",
        "df_new['tweet_tokens_stemmed_string'].head().apply(lambda x : x.most_common())"
      ]
    },
    {
      "cell_type": "code",
      "execution_count": 10,
      "metadata": {
        "id": "fHH5EmZWfh7Q"
      },
      "outputs": [],
      "source": [
        "#https://sites.unpad.ac.id/widodo/2021/03/09/nlp-dengan-python/"
      ]
    },
    {
      "cell_type": "code",
      "execution_count": 11,
      "metadata": {
        "id": "qnLvYqUHc5Jj"
      },
      "outputs": [],
      "source": [
        "import gensim\n",
        "#Create Bigram & Trigram Models \n",
        "from gensim.models import Phrases\n",
        "# Add bigrams and trigrams to docs,minimum count 10 means only that appear 10 times or more.\n",
        "bigram = Phrases(text_list, min_count=10)\n",
        "trigram = Phrases(bigram[text_list])\n",
        "for idx in range(len(text_list)):\n",
        "    for token in bigram[text_list[idx]]:\n",
        "        if '_' in token:\n",
        "            # Token is a bigram, add to document.\n",
        "            text_list[idx].append(token)\n",
        "    for token in trigram[text_list[idx]]:\n",
        "        if '_' in token:\n",
        "            # Token is a bigram, add to document.\n",
        "            text_list[idx].append(token)"
      ]
    },
    {
      "cell_type": "code",
      "execution_count": 12,
      "metadata": {
        "colab": {
          "base_uri": "https://localhost:8080/"
        },
        "id": "EO5hqr3Ufk0S",
        "outputId": "0ff90687-35bf-4851-e1fd-5e3d61b8f9dd"
      },
      "outputs": [
        {
          "name": "stdout",
          "output_type": "stream",
          "text": [
            "Dictionary<16354 unique tokens: ['deadline', 'derajat', 'ilmiah', 'januari', 'lomba']...>\n"
          ]
        }
      ],
      "source": [
        "from gensim import corpora, models\n",
        "# Create a dictionary representation of the documents.\n",
        "dictionary = corpora.Dictionary(text_list)\n",
        "dictionary.filter_extremes(no_below=5, no_above=0.2) \n",
        "#no_below (int, optional) – Keep tokens which are contained in at least no_below documents.\n",
        "#no_above (float, optional) – Keep tokens which are contained in no more than no_above documents (fraction of total corpus size, not an absolute number).\n",
        "print(dictionary)"
      ]
    },
    {
      "cell_type": "code",
      "execution_count": 13,
      "metadata": {
        "colab": {
          "base_uri": "https://localhost:8080/"
        },
        "id": "oF92M3p_fqlQ",
        "outputId": "3b77b4e1-2901-4b52-9698-4ea50bb0fa14"
      },
      "outputs": [
        {
          "name": "stdout",
          "output_type": "stream",
          "text": [
            "109404\n",
            "[(35, 1), (188, 1)]\n"
          ]
        }
      ],
      "source": [
        "#https://radimrehurek.com/gensim/tut1.html \n",
        "#build corpus\n",
        "# Converting list of documents (corpus) into Document Term Matrix using dictionary prepared above.\n",
        "doc_term_matrix = [dictionary.doc2bow(doc) for doc in text_list]\n",
        "#The function doc2bow converts document (a list of words) into the bag-of-words format\n",
        "'''The function doc2bow() simply counts the number of occurrences of each distinct word, \n",
        "converts the word to its integer word id and returns the result as a sparse vector. \n",
        "The sparse vector [(0, 1), (1, 1)] therefore reads: in the document “Human computer interaction”, \n",
        "the words computer (id 0) and human (id 1) appear once; \n",
        "the other ten dictionary words appear (implicitly) zero times.'''\n",
        "print(len(doc_term_matrix))\n",
        "print(doc_term_matrix[100])\n",
        "tfidf = models.TfidfModel(doc_term_matrix) #build TF-IDF model\n",
        "corpus_tfidf = tfidf[doc_term_matrix]"
      ]
    },
    {
      "cell_type": "code",
      "execution_count": 14,
      "metadata": {
        "id": "m5ZUrlyFfx85"
      },
      "outputs": [],
      "source": [
        "from gensim.models.coherencemodel import CoherenceModel\n",
        "from gensim.models.ldamodel import LdaModel\n",
        "from gensim.corpora.dictionary import Dictionary\n",
        "from numpy import array\n",
        "#function to compute coherence values\n",
        "def compute_coherence_values(dictionary, corpus, texts, limit, start, step):\n",
        "    coherence_values = []\n",
        "    model_list = []\n",
        "    for num_topics in range(start, limit, step):\n",
        "        model = LdaModel(corpus=corpus, id2word=dictionary, num_topics=num_topics, iterations=100, random_state=1)\n",
        "        model_list.append(model)\n",
        "        coherencemodel = CoherenceModel(model=model, texts=texts, dictionary=dictionary, coherence='c_v')\n",
        "        coherence_values.append(coherencemodel.get_coherence())\n",
        "        \n",
        "    return model_list, coherence_values"
      ]
    },
    {
      "cell_type": "code",
      "execution_count": 15,
      "metadata": {
        "colab": {
          "base_uri": "https://localhost:8080/",
          "height": 279
        },
        "id": "IBkB1bzOf3AP",
        "outputId": "73fe3950-434a-4fa4-8f87-77a708f4fe7c"
      },
      "outputs": [
        {
          "data": {
            "image/png": "[encoded data removed]",
            "text/plain": [
              "<Figure size 432x288 with 1 Axes>"
            ]
          },
          "metadata": {
            "needs_background": "light"
          },
          "output_type": "display_data"
        }
      ],
      "source": [
        "start=1\n",
        "limit=21\n",
        "step=1\n",
        "model_list, coherence_values = compute_coherence_values(dictionary, corpus=corpus_tfidf, \n",
        "                                                        texts=text_list, start=start, limit=limit, step=step)\n",
        "#show graphs\n",
        "import matplotlib.pyplot as plt\n",
        "x = range(start, limit, step)\n",
        "plt.plot(x, coherence_values)\n",
        "plt.xlabel(\"Num Topics\")\n",
        "plt.ylabel(\"Coherence score\")\n",
        "plt.legend((\"coherence_values\"), loc='best')\n",
        "plt.show()"
      ]
    },
    {
      "cell_type": "code",
      "execution_count": 16,
      "metadata": {
        "colab": {
          "base_uri": "https://localhost:8080/"
        },
        "id": "qaNFv0PIgDYh",
        "outputId": "af7077fa-f1e8-4fb7-e0d6-d84eb319f207"
      },
      "outputs": [
        {
          "name": "stdout",
          "output_type": "stream",
          "text": [
            "Num Topics = 1  has Coherence Value of 0.517\n",
            "Num Topics = 2  has Coherence Value of 0.539\n",
            "Num Topics = 3  has Coherence Value of 0.436\n",
            "Num Topics = 4  has Coherence Value of 0.435\n",
            "Num Topics = 5  has Coherence Value of 0.423\n",
            "Num Topics = 6  has Coherence Value of 0.402\n",
            "Num Topics = 7  has Coherence Value of 0.424\n",
            "Num Topics = 8  has Coherence Value of 0.386\n",
            "Num Topics = 9  has Coherence Value of 0.41\n",
            "Num Topics = 10  has Coherence Value of 0.369\n",
            "Num Topics = 11  has Coherence Value of 0.332\n",
            "Num Topics = 12  has Coherence Value of 0.363\n",
            "Num Topics = 13  has Coherence Value of 0.346\n",
            "Num Topics = 14  has Coherence Value of 0.352\n",
            "Num Topics = 15  has Coherence Value of 0.321\n",
            "Num Topics = 16  has Coherence Value of 0.322\n",
            "Num Topics = 17  has Coherence Value of 0.321\n",
            "Num Topics = 18  has Coherence Value of 0.327\n",
            "Num Topics = 19  has Coherence Value of 0.328\n",
            "Num Topics = 20  has Coherence Value of 0.313\n"
          ]
        }
      ],
      "source": [
        "# Print the coherence scores\n",
        "for m, cv in zip(x, coherence_values):\n",
        "    print(\"Num Topics =\", m, \" has Coherence Value of\", round(cv, 3))"
      ]
    },
    {
      "cell_type": "code",
      "execution_count": 17,
      "metadata": {
        "colab": {
          "base_uri": "https://localhost:8080/"
        },
        "id": "SWVlH8xAgPCu",
        "outputId": "7cc1b7d8-54f0-441e-cb60-e3aa1e8684fa"
      },
      "outputs": [],
      "source": [
        "model = LdaModel(corpus=corpus_tfidf, id2word=dictionary, num_topics=7, random_state=1) #num topic menyesuaikan hasil dari coherence value paling tinggi"
      ]
    },
    {
      "cell_type": "code",
      "execution_count": 18,
      "metadata": {},
      "outputs": [
        {
          "name": "stdout",
          "output_type": "stream",
          "text": [
            "Topic: 1 Word: 0.030*\"bangkit_listrik\" + 0.021*\"capai_target\" + 0.020*\"bangkit\" + 0.018*\"target\" + 0.016*\"baur\" + 0.016*\"panas_bumi\" + 0.016*\"capai\" + 0.013*\"pln\" + 0.013*\"listrik\" + 0.012*\"kejar_target\"\n",
            "Topic: 2 Word: 0.052*\"target_baur\" + 0.043*\"menteri_bumn\" + 0.016*\"dana\" + 0.016*\"negara_maju\" + 0.015*\"tenaga_biogas\" + 0.014*\"alas\" + 0.014*\"untung\" + 0.013*\"anggar\" + 0.012*\"harga_jual\" + 0.011*\"subsidi\"\n",
            "Topic: 3 Word: 0.013*\"wujud\" + 0.009*\"rencana\" + 0.009*\"renewable_energy\" + 0.009*\"capai_persen\" + 0.009*\"milik_potensi\" + 0.008*\"cepat_transisi\" + 0.008*\"beli_listrik\" + 0.008*\"pln\" + 0.008*\"transisi\" + 0.008*\"indonesia_timur\"\n",
            "Topic: 4 Word: 0.022*\"erick_thohir\" + 0.012*\"kembang\" + 0.011*\"erick\" + 0.010*\"thohir\" + 0.009*\"investor\" + 0.009*\"panel_surya\" + 0.008*\"yantie_pln\" + 0.008*\"realisasi\" + 0.008*\"udien_pln\" + 0.007*\"tekan\"\n",
            "Topic: 5 Word: 0.033*\"menteri_esdm\" + 0.011*\"menteri\" + 0.011*\"esdm\" + 0.010*\"pltu\" + 0.009*\"tinggi_indonesia\" + 0.009*\"bahan_bakar\" + 0.008*\"buka_peluang\" + 0.008*\"kembang\" + 0.007*\"komisi_vii\" + 0.007*\"harga\"\n",
            "Topic: 6 Word: 0.046*\"pln_id\" + 0.023*\"pln\" + 0.018*\"ramah_lingkung\" + 0.018*\"id\" + 0.016*\"transisi\" + 0.010*\"ruu\" + 0.010*\"dukung\" + 0.010*\"indonesia\" + 0.010*\"plta\" + 0.009*\"kembang\"\n",
            "Topic: 7 Word: 0.015*\"plts_atap\" + 0.012*\"tenaga_surya\" + 0.011*\"operasi\" + 0.011*\"larang_ekspor\" + 0.010*\"tambah\" + 0.008*\"mobil_listrik\" + 0.008*\"jalan\" + 0.008*\"pres\" + 0.008*\"keren\" + 0.007*\"nuklir\"\n"
          ]
        }
      ],
      "source": [
        "for idx, topic in model.print_topics():\n",
        "    print('Topic: {} Word: {}'.format(idx+1, topic))\n",
        "    # yg belum remove Yang, yg,trus lower text"
      ]
    },
    {
      "cell_type": "code",
      "execution_count": 19,
      "metadata": {},
      "outputs": [
        {
          "name": "stdout",
          "output_type": "stream",
          "text": [
            "1 0.030*\"bangkit_listrik\" + 0.021*\"capai_target\" + 0.020*\"bangkit\" + 0.018*\"target\" + 0.016*\"baur\" + 0.016*\"panas_bumi\" + 0.016*\"capai\" + 0.013*\"pln\" + 0.013*\"listrik\" + 0.012*\"kejar_target\" \n",
            "\n",
            "2 0.052*\"target_baur\" + 0.043*\"menteri_bumn\" + 0.016*\"dana\" + 0.016*\"negara_maju\" + 0.015*\"tenaga_biogas\" + 0.014*\"alas\" + 0.014*\"untung\" + 0.013*\"anggar\" + 0.012*\"harga_jual\" + 0.011*\"subsidi\" \n",
            "\n",
            "3 0.013*\"wujud\" + 0.009*\"rencana\" + 0.009*\"renewable_energy\" + 0.009*\"capai_persen\" + 0.009*\"milik_potensi\" + 0.008*\"cepat_transisi\" + 0.008*\"beli_listrik\" + 0.008*\"pln\" + 0.008*\"transisi\" + 0.008*\"indonesia_timur\" \n",
            "\n",
            "4 0.022*\"erick_thohir\" + 0.012*\"kembang\" + 0.011*\"erick\" + 0.010*\"thohir\" + 0.009*\"investor\" + 0.009*\"panel_surya\" + 0.008*\"yantie_pln\" + 0.008*\"realisasi\" + 0.008*\"udien_pln\" + 0.007*\"tekan\" \n",
            "\n",
            "5 0.033*\"menteri_esdm\" + 0.011*\"menteri\" + 0.011*\"esdm\" + 0.010*\"pltu\" + 0.009*\"tinggi_indonesia\" + 0.009*\"bahan_bakar\" + 0.008*\"buka_peluang\" + 0.008*\"kembang\" + 0.007*\"komisi_vii\" + 0.007*\"harga\" \n",
            "\n",
            "6 0.046*\"pln_id\" + 0.023*\"pln\" + 0.018*\"ramah_lingkung\" + 0.018*\"id\" + 0.016*\"transisi\" + 0.010*\"ruu\" + 0.010*\"dukung\" + 0.010*\"indonesia\" + 0.010*\"plta\" + 0.009*\"kembang\" \n",
            "\n",
            "7 0.015*\"plts_atap\" + 0.012*\"tenaga_surya\" + 0.011*\"operasi\" + 0.011*\"larang_ekspor\" + 0.010*\"tambah\" + 0.008*\"mobil_listrik\" + 0.008*\"jalan\" + 0.008*\"pres\" + 0.008*\"keren\" + 0.007*\"nuklir\" \n",
            "\n"
          ]
        }
      ],
      "source": [
        "for i in range(0, model.num_topics):\n",
        "    print(i+1,model.print_topic(i), \"\\n\")"
      ]
    },
    {
      "cell_type": "code",
      "execution_count": 20,
      "metadata": {
        "colab": {
          "base_uri": "https://localhost:8080/"
        },
        "id": "t5CsIHbigduf",
        "outputId": "ad397ac7-6944-411e-f515-2a9344191f97"
      },
      "outputs": [
        {
          "name": "stdout",
          "output_type": "stream",
          "text": [
            "None\n"
          ]
        }
      ],
      "source": [
        "import pandas as pd\n",
        "top_words_per_topic = []\n",
        "for t in range(model.num_topics):\n",
        "    top_words_per_topic.extend([(t, ) + x for x in model.show_topic(t, topn = 5)]) #ubah2 yg ini\n",
        "# df=pd.DataFrame(top_words_per_topic, columns=['Topic', 'Word', 'P']).to_csv(\"top_words_topic_20.csv\")\n",
        "df = pd.DataFrame(top_words_per_topic, columns=['Topic', 'Word','P']).to_excel(\"data/lda_model.xlsx\")\n",
        "print(df)\n"
      ]
    },
    {
      "cell_type": "code",
      "execution_count": 21,
      "metadata": {
        "colab": {
          "base_uri": "https://localhost:8080/"
        },
        "id": "QSxbGusaEOl8",
        "outputId": "8776726e-83fd-480b-c4cb-9b3cdd8883a3"
      },
      "outputs": [
        {
          "name": "stdout",
          "output_type": "stream",
          "text": [
            "Requirement already satisfied: pyLDAvis in c:\\users\\asus\\onedrive - universitas pertamina\\ta\\tugas-akhir\\venv\\lib\\site-packages (3.3.1)\n",
            "Requirement already satisfied: numexpr in c:\\users\\asus\\onedrive - universitas pertamina\\ta\\tugas-akhir\\venv\\lib\\site-packages (from pyLDAvis) (2.8.3)\n",
            "Requirement already satisfied: pandas>=1.2.0 in c:\\users\\asus\\onedrive - universitas pertamina\\ta\\tugas-akhir\\venv\\lib\\site-packages (from pyLDAvis) (1.4.3)\n",
            "Requirement already satisfied: joblib in c:\\users\\asus\\onedrive - universitas pertamina\\ta\\tugas-akhir\\venv\\lib\\site-packages (from pyLDAvis) (1.1.0)\n",
            "Requirement already satisfied: jinja2 in c:\\users\\asus\\onedrive - universitas pertamina\\ta\\tugas-akhir\\venv\\lib\\site-packages (from pyLDAvis) (3.1.2)\n",
            "Requirement already satisfied: scikit-learn in c:\\users\\asus\\onedrive - universitas pertamina\\ta\\tugas-akhir\\venv\\lib\\site-packages (from pyLDAvis) (1.1.1)\n",
            "Requirement already satisfied: future in c:\\users\\asus\\onedrive - universitas pertamina\\ta\\tugas-akhir\\venv\\lib\\site-packages (from pyLDAvis) (0.18.2)\n",
            "Requirement already satisfied: funcy in c:\\users\\asus\\onedrive - universitas pertamina\\ta\\tugas-akhir\\venv\\lib\\site-packages (from pyLDAvis) (1.17)\n",
            "Requirement already satisfied: sklearn in c:\\users\\asus\\onedrive - universitas pertamina\\ta\\tugas-akhir\\venv\\lib\\site-packages (from pyLDAvis) (0.0)\n",
            "Requirement already satisfied: scipy in c:\\users\\asus\\onedrive - universitas pertamina\\ta\\tugas-akhir\\venv\\lib\\site-packages (from pyLDAvis) (1.9.0)\n",
            "Requirement already satisfied: gensim in c:\\users\\asus\\onedrive - universitas pertamina\\ta\\tugas-akhir\\venv\\lib\\site-packages (from pyLDAvis) (4.2.0)\n",
            "Requirement already satisfied: setuptools in c:\\users\\asus\\onedrive - universitas pertamina\\ta\\tugas-akhir\\venv\\lib\\site-packages (from pyLDAvis) (49.2.1)\n",
            "Requirement already satisfied: numpy>=1.20.0 in c:\\users\\asus\\onedrive - universitas pertamina\\ta\\tugas-akhir\\venv\\lib\\site-packages (from pyLDAvis) (1.23.1)\n",
            "Requirement already satisfied: python-dateutil>=2.8.1 in c:\\users\\asus\\onedrive - universitas pertamina\\ta\\tugas-akhir\\venv\\lib\\site-packages (from pandas>=1.2.0->pyLDAvis) (2.8.2)\n",
            "Requirement already satisfied: pytz>=2020.1 in c:\\users\\asus\\onedrive - universitas pertamina\\ta\\tugas-akhir\\venv\\lib\\site-packages (from pandas>=1.2.0->pyLDAvis) (2022.1)\n",
            "Requirement already satisfied: Cython==0.29.28 in c:\\users\\asus\\onedrive - universitas pertamina\\ta\\tugas-akhir\\venv\\lib\\site-packages (from gensim->pyLDAvis) (0.29.28)\n",
            "Requirement already satisfied: smart-open>=1.8.1 in c:\\users\\asus\\onedrive - universitas pertamina\\ta\\tugas-akhir\\venv\\lib\\site-packages (from gensim->pyLDAvis) (6.0.0)\n",
            "Requirement already satisfied: MarkupSafe>=2.0 in c:\\users\\asus\\onedrive - universitas pertamina\\ta\\tugas-akhir\\venv\\lib\\site-packages (from jinja2->pyLDAvis) (2.1.1)\n",
            "Requirement already satisfied: packaging in c:\\users\\asus\\onedrive - universitas pertamina\\ta\\tugas-akhir\\venv\\lib\\site-packages (from numexpr->pyLDAvis) (21.3)\n",
            "Requirement already satisfied: threadpoolctl>=2.0.0 in c:\\users\\asus\\onedrive - universitas pertamina\\ta\\tugas-akhir\\venv\\lib\\site-packages (from scikit-learn->pyLDAvis) (3.1.0)\n",
            "Requirement already satisfied: six>=1.5 in c:\\users\\asus\\onedrive - universitas pertamina\\ta\\tugas-akhir\\venv\\lib\\site-packages (from python-dateutil>=2.8.1->pandas>=1.2.0->pyLDAvis) (1.16.0)\n",
            "Requirement already satisfied: pyparsing!=3.0.5,>=2.0.2 in c:\\users\\asus\\onedrive - universitas pertamina\\ta\\tugas-akhir\\venv\\lib\\site-packages (from packaging->numexpr->pyLDAvis) (3.0.9)\n"
          ]
        },
        {
          "name": "stderr",
          "output_type": "stream",
          "text": [
            "\n",
            "[notice] A new release of pip available: 22.2.1 -> 22.2.2\n",
            "[notice] To update, run: python.exe -m pip install --upgrade pip\n"
          ]
        }
      ],
      "source": [
        "#ini dilakukan jika module belum tersedia\n",
        "!pip install pyLDAvis\n",
        "#!apt-get -qq install -y pyLDAvis"
      ]
    },
    {
      "cell_type": "code",
      "execution_count": 22,
      "metadata": {
        "colab": {
          "base_uri": "https://localhost:8080/"
        },
        "id": "5BGTseD4gFRQ",
        "outputId": "39e9537e-6629-43ea-bfa0-e077c4ac7f89"
      },
      "outputs": [
        {
          "name": "stderr",
          "output_type": "stream",
          "text": [
            "c:\\Users\\asus\\OneDrive - Universitas Pertamina\\TA\\tugas-akhir\\venv\\lib\\site-packages\\past\\builtins\\misc.py:45: DeprecationWarning: the imp module is deprecated in favour of importlib; see the module's documentation for alternative uses\n",
            "  from imp import reload\n"
          ]
        },
        {
          "name": "stdout",
          "output_type": "stream",
          "text": [
            "PreparedData(topic_coordinates=              x         y  topics  cluster       Freq\n",
            "topic                                                \n",
            "2     -0.035384 -0.238855       1        1  17.356396\n",
            "0      0.204753  0.095364       2        1  16.756378\n",
            "5      0.169429 -0.143969       3        1  16.706684\n",
            "4      0.066384  0.074683       4        1  14.383824\n",
            "6     -0.086128  0.246700       5        1  13.199615\n",
            "3      0.001788  0.005644       6        1  11.577854\n",
            "1     -0.320843 -0.039567       7        1  10.019249, topic_info=                  Term         Freq        Total Category  logprob  loglift\n",
            "7140            pln_id  2086.000000  2086.000000  Default  30.0000  30.0000\n",
            "1895       target_baur  1409.000000  1409.000000  Default  29.0000  29.0000\n",
            "3787      menteri_bumn  1165.000000  1165.000000  Default  28.0000  28.0000\n",
            "357       menteri_esdm  1310.000000  1310.000000  Default  27.0000  27.0000\n",
            "783    bangkit_listrik  1375.000000  1375.000000  Default  26.0000  26.0000\n",
            "...                ...          ...          ...      ...      ...      ...\n",
            "577              pulau   234.121457   254.845419   Topic7  -4.7560   2.2158\n",
            "198            subsidi   293.837633   429.316899   Topic7  -4.5288   1.9215\n",
            "999               jual   247.204461   334.444825   Topic7  -4.7016   1.9984\n",
            "314              hijau   208.154284   513.154393   Topic7  -4.8735   1.3984\n",
            "10994           bahlil   161.139213   212.498543   Topic7  -5.1296   2.0240\n",
            "\n",
            "[346 rows x 6 columns], token_table=       Topic      Freq        Term\n",
            "term                              \n",
            "1323       3  0.990037   airlangga\n",
            "128        7  0.995326         aku\n",
            "383        7  0.997524        alas\n",
            "389        3  0.323151        alih\n",
            "389        4  0.247259        alih\n",
            "...      ...       ...         ...\n",
            "10521      3  0.003772  yantie_pln\n",
            "10521      6  0.991973  yantie_pln\n",
            "2571       1  0.032322        zero\n",
            "2571       3  0.958894        zero\n",
            "2571       5  0.010774        zero\n",
            "\n",
            "[510 rows x 3 columns], R=30, lambda_step=0.01, plot_opts={'xlab': 'PC1', 'ylab': 'PC2'}, topic_order=[3, 1, 6, 5, 7, 4, 2])\n"
          ]
        }
      ],
      "source": [
        "#import gensim\n",
        "import pyLDAvis\n",
        "import pyLDAvis.gensim_models;pyLDAvis.enable_notebook()\n",
        "data = pyLDAvis.gensim_models.prepare(model, corpus_tfidf, dictionary)\n",
        "print(data)\n",
        "pyLDAvis.save_html(data, 'data/lda-gensim_clean_kualitatif7.html')"
      ]
    },
    {
      "cell_type": "code",
      "execution_count": 23,
      "metadata": {},
      "outputs": [
        {
          "data": {
            "text/html": [
              "\n",
              "<link rel=\"stylesheet\" type=\"text/css\" href=\"https://cdn.jsdelivr.net/gh/bmabey/pyLDAvis@3.3.1/pyLDAvis/js/ldavis.v1.0.0.css\">\n",
              "\n",
              "\n",
              "<div id=\"ldavis_el821618453323125768088856\"></div>\n",
              "<script type=\"text/javascript\">\n",
              "\n",
              "var ldavis_el821618453323125768088856_data = {\"mdsDat\": {\"x\": [-29.59400177001953, -45.996585845947266, 20.36885643005371, 53.928768157958984, -12.437127113342285, 3.9659712314605713, 37.52428436279297], \"y\": [60.11271286010742, 11.891684532165527, 70.01932525634766, 31.704309463500977, -26.423267364501953, 21.797719955444336, -16.517805099487305], \"topics\": [1, 2, 3, 4, 5, 6, 7], \"cluster\": [1, 1, 1, 1, 1, 1, 1], \"Freq\": [17.354328524248018, 16.759889614300725, 16.70266421031872, 14.383629309575635, 13.198711006058428, 11.58053663482725, 10.020240700671215]}, \"tinfo\": {\"Term\": [\"pln_id\", \"target_baur\", \"menteri_bumn\", \"menteri_esdm\", \"bangkit_listrik\", \"capai_target\", \"ramah_lingkung\", \"erick_thohir\", \"panas_bumi\", \"id\", \"transisi\", \"baur\", \"wujud\", \"plts_atap\", \"capai\", \"target\", \"negara_maju\", \"kejar_target\", \"dana\", \"bumn\", \"tenaga_biogas\", \"pln\", \"plta_poso\", \"alas\", \"untung\", \"tenaga_surya\", \"bangkit\", \"anggar\", \"operasi\", \"larang_ekspor\", \"wujud\", \"renewable_energy\", \"rencana\", \"capai_persen\", \"milik_potensi\", \"cepat_transisi\", \"beli_listrik\", \"indonesia_timur\", \"mantap\", \"banget\", \"penuh_butuh\", \"tinggal\", \"strategi\", \"inggris\", \"sistem\", \"micho\", \"andal\", \"anak_usaha\", \"hambat\", \"pasang_plts\", \"hadir\", \"proses\", \"via_id\", \"laku_usaha\", \"beli\", \"optimis\", \"kendala\", \"nuklir_ruu\", \"kota\", \"topang\", \"dasamuka_pln\", \"subholding_power\", \"renewable\", \"dmo_batu\", \"green\", \"energy\", \"transisi\", \"pln\", \"usaha\", \"indonesia\", \"ruu\", \"id\", \"bangkit_listrik\", \"capai_target\", \"panas_bumi\", \"kejar_target\", \"bumn\", \"plta_poso\", \"sobat\", \"kurang_emisi\", \"pasok_listrik\", \"kejar\", \"kapasitas_bangkit\", \"genjot\", \"sumber_daya\", \"biaya\", \"tanah_air\", \"tambah_kapasitas\", \"simak\", \"poso\", \"rp_triliun\", \"rp\", \"pasok\", \"konversi_pltd\", \"presiden_jokowi\", \"tarif_listrik\", \"sepakat\", \"penuh_target\", \"mudah\", \"tingkat_baur\", \"emang\", \"triliun\", \"panas\", \"kapasitas\", \"baur\", \"simak_bawah\", \"capai\", \"target\", \"bangkit\", \"bumi\", \"listrik\", \"komitmen\", \"bangun\", \"pln\", \"persen\", \"indonesia\", \"tingkat\", \"kembang\", \"perintah\", \"plts\", \"manfaat\", \"pln_id\", \"ramah_lingkung\", \"plta\", \"ekspor\", \"ramah\", \"kendara_listrik\", \"gas_bumi\", \"depan\", \"bangun_infrastruktur\", \"baik\", \"langkah\", \"wilayah\", \"menko_airlangga\", \"serius\", \"kendara\", \"pltd\", \"lengkap\", \"kawasan_industri\", \"gandeng\", \"tahap\", \"airlangga\", \"tingkat_porsi\", \"arah\", \"pln_persero\", \"terbit\", \"strategis\", \"bahas_ruu\", \"simak_lengkap\", \"perintah_serius\", \"generasi_muda\", \"menteri_jonan\", \"zero\", \"net_zero\", \"bas\", \"lingkung\", \"id\", \"transisi\", \"ruu\", \"upaya\", \"pln\", \"cepat\", \"guna\", \"dukung\", \"moga\", \"indonesia\", \"manfaat\", \"kembang\", \"dorong\", \"hijau\", \"perintah\", \"fosil\", \"tingkat\", \"listrik\", \"pltu\", \"bahan_bakar\", \"buka_peluang\", \"komisi_vii\", \"mahal\", \"sulawesi_selatan\", \"uu\", \"salah_satu\", \"turun\", \"bawah\", \"apresiasi\", \"pltn\", \"beban\", \"indo\", \"menteri_esdm\", \"tinggi_indonesia\", \"jalan_lancar\", \"bakar\", \"komisi\", \"selesai\", \"dirjen_ebtke\", \"satu\", \"dampak_positif\", \"pltb\", \"wujud_komitmen\", \"niscaya\", \"kompetitif\", \"vii\", \"hrs\", \"isi\", \"firing_pltu\", \"peluang\", \"kuat_bidang\", \"sulit\", \"esdm\", \"murah\", \"menteri\", \"atur\", \"harga\", \"ruptl\", \"kembang\", \"listrik\", \"jalan\", \"batu\", \"indonesia\", \"bangkit\", \"plts_atap\", \"tenaga_surya\", \"operasi\", \"larang_ekspor\", \"tambah\", \"mobil_listrik\", \"pres\", \"keren\", \"keren_banget\", \"investasi_sektor\", \"sukses\", \"us_miliar\", \"tinggi\", \"solar_panel\", \"banding\", \"singapura\", \"miliar\", \"daerah_pencil\", \"larang\", \"baterai\", \"darmawan_prasodjo\", \"mobil\", \"solar\", \"plt\", \"bener\", \"tambah_bangkit\", \"dirut\", \"isu\", \"coal\", \"badan\", \"lirik_investasi\", \"us\", \"atap\", \"pilih\", \"power\", \"nuklir\", \"rencana_ekspor\", \"jalan\", \"surya\", \"heroes\", \"tenaga\", \"plts\", \"investasi\", \"listrik\", \"indonesia\", \"erick_thohir\", \"erick\", \"thohir\", \"investor\", \"panel_surya\", \"realisasi\", \"tekan\", \"tekan_emisi\", \"insentif\", \"desa\", \"sinergi_bumn\", \"tahan_pangan\", \"swasta\", \"iklim\", \"usul\", \"cak\", \"sinergi\", \"positif\", \"lancar\", \"percaya\", \"ubah_iklim\", \"yantie_pln\", \"udien\", \"den\", \"udien_pln\", \"sehat\", \"kaji\", \"moga_lancar\", \"menteri_bumn_erick_thohir\", \"pasar\", \"pertamina_alokasi\", \"tantang\", \"dampak\", \"ubah\", \"ekonomi\", \"prioritas\", \"bidang\", \"kembang\", \"investasi\", \"industri\", \"alih\", \"indonesia\", \"target_baur\", \"menteri_bumn\", \"negara_maju\", \"alas\", \"untung\", \"anggar\", \"harga_jual\", \"tahu\", \"era\", \"rancang\", \"hebat\", \"mana\", \"saing\", \"kalah\", \"bank\", \"juang\", \"ekonomi_hijau\", \"serap\", \"liput\", \"aku\", \"berat\", \"ntt\", \"transportasi\", \"imbang\", \"sekjen_esdm\", \"bank_dunia\", \"minim\", \"daya_saing\", \"video\", \"jabar\", \"tenaga_biogas\", \"bangkit_listrik_tenaga_biogas\", \"ruptl_hijau\", \"dana\", \"pulau\", \"subsidi\", \"jual\", \"hijau\", \"bahlil\"], \"Freq\": [2086.0, 1409.0, 1165.0, 1310.0, 1375.0, 950.0, 832.0, 684.0, 740.0, 1024.0, 1078.0, 821.0, 628.0, 535.0, 862.0, 1031.0, 436.0, 563.0, 471.0, 547.0, 401.0, 2350.0, 505.0, 381.0, 376.0, 424.0, 1484.0, 353.0, 402.0, 401.0, 627.6946477094606, 429.2949671294765, 430.28370530930425, 409.5313578521614, 408.28809040338933, 399.96161066435246, 395.37323313909724, 356.2511052058226, 356.1413625137778, 327.2614466915945, 316.4760104506134, 313.64959817608604, 303.8560180545626, 296.8419274118682, 272.8791780446478, 321.8529632143836, 256.7636240063093, 250.68702315544093, 245.69539942382252, 211.76082040046083, 179.59774708394818, 179.05470959128974, 166.9025618409771, 161.06090432841998, 309.4396770414041, 147.16982455746253, 139.30221989839742, 145.1557782791195, 135.8950254958325, 132.0334462855093, 210.80203200693748, 173.1211826462565, 190.87084445317456, 153.45946631860807, 331.0546837392547, 232.74532261610508, 372.00515390566045, 381.8035646378782, 246.72102590349726, 292.34574867890916, 233.887805959938, 213.46899021391184, 1374.724557131007, 949.7638043885455, 739.2009308634416, 562.5051619938973, 546.0577604441052, 504.09857578827103, 443.00944496000903, 333.8614067336249, 284.6290451022183, 281.50661948252366, 253.22628339846258, 260.27890492424655, 237.46870872465036, 234.41121347580963, 231.9494999707681, 223.10739148678834, 219.69078590796332, 219.47784313065583, 210.33992188592725, 205.82813052542525, 192.9940977520917, 185.8242749984469, 184.8202292343827, 165.2357280555455, 157.07712729323, 145.63800542464182, 132.61790748505808, 127.07494888945263, 123.14368211996423, 115.36000017603004, 263.34032313801475, 338.39866555833186, 745.5056656323188, 258.80486675665287, 717.6295433723003, 802.3779696521947, 918.582467548427, 270.45047441433, 598.1051992970492, 319.075518664529, 372.02324616050896, 612.0573831007974, 289.04672771489214, 349.5754046889182, 272.5090343561202, 317.9273198432913, 274.7826575968003, 261.222579438859, 265.68648942202975, 2085.1695061838996, 830.8786075214568, 440.03434682884796, 312.3464932387144, 308.013590491288, 259.030310055068, 225.30982282712387, 189.44606692043087, 184.29217555252205, 183.88055063682904, 175.51778966867508, 166.52928613179384, 157.77164800160162, 156.38641329584325, 163.32930287907152, 147.96500877388254, 138.59944303563296, 137.50819744655308, 129.5138342267726, 127.57982265425603, 129.12160923266322, 123.95301999388138, 115.00930745242121, 113.81549375941299, 106.60786287156698, 104.14494984214997, 98.72745834148127, 98.53115564911694, 91.42964317764594, 90.64357652929523, 194.75310777822713, 177.47599831114076, 375.56498389083055, 292.9439723191735, 351.9739607295071, 801.3257221840465, 705.8300519776225, 469.9790767697483, 287.2580412717551, 1065.5145305600793, 310.1157135847173, 375.49482295438423, 445.0644633158032, 260.05134187567114, 441.14381946843537, 317.89552592881375, 429.20593613209934, 286.94468393271126, 248.0989614301779, 292.22442119716754, 230.67115387941726, 239.62764120584183, 262.5632090645092, 407.48753637285984, 348.95379317597565, 300.2830460910057, 267.48189873169053, 256.30184553530296, 253.11110636482664, 250.21767912301013, 234.06379772767332, 216.49504131210097, 187.0586307574616, 180.75100268317365, 175.8031440087514, 166.6755567869115, 153.79465442283413, 1301.453385744793, 370.5943963299986, 143.14704017465007, 139.73563284043715, 138.5746567840688, 132.80974991541797, 121.90392361485037, 117.66285639720269, 261.93310125600266, 116.3290110251497, 116.08715049188844, 115.4740822665883, 110.73803809529831, 109.87698547899106, 107.3118170309067, 107.06529763410029, 153.60724435725666, 225.91681028865634, 183.17122769881564, 140.75048254979112, 428.13110633085176, 263.31319858782115, 438.03872562015925, 252.87314035031014, 263.9568315057934, 145.11598328107112, 295.86864549118746, 205.16757876135554, 170.2729273911869, 156.3047809459487, 176.60850864674566, 155.98215464544788, 534.7857920023533, 423.81244099797163, 401.1575530458763, 399.98097417161887, 369.98008322031006, 302.6873064201566, 285.8722615685149, 282.83940140515926, 200.06835678165737, 193.28248788884136, 188.8355654832992, 169.54644191646142, 174.9231415160258, 165.38055513421432, 166.06590197478894, 175.16057478550167, 157.82310326328164, 152.10588447692007, 160.2181767176893, 132.29590399103935, 162.8859360531823, 144.02872795136938, 128.53877883866957, 122.55347487918021, 108.31441734640441, 107.52506611686542, 107.53730683894489, 106.06730967369538, 104.01715572022944, 103.59838274944266, 106.05097757793314, 155.5299968607392, 224.3466851115904, 170.15503792664418, 141.64339029637827, 264.99157693959614, 121.97102191185611, 290.0209144828411, 237.1785355405339, 175.1524421365894, 196.7892627205368, 208.50311606656635, 175.93130608991297, 189.07171289247478, 185.9127382227834, 683.4814026118329, 352.51510251553435, 305.0977034269601, 290.07216776378255, 269.25910649341733, 259.5870422733668, 231.53703917865167, 215.32812569477593, 211.92810311948935, 192.72765328905535, 185.6225072115906, 174.11777148240722, 172.51184140551987, 159.19522551404413, 153.738940201446, 147.29019408670592, 145.13384277274372, 143.191881160663, 142.3881102560627, 140.4660462119942, 130.44847054032618, 263.0032407802333, 194.1577873269068, 121.65995797438006, 240.24102371082563, 119.30587640981027, 118.93024021604762, 117.4671828826708, 118.31889549753326, 116.11491749371557, 154.11034193485847, 230.8608442126983, 182.05792676712477, 186.75237551949007, 210.2491469167014, 213.98635854402448, 200.4480122425862, 377.57882937187713, 213.69259835177317, 184.49096856293016, 175.41978745347, 212.94616116118752, 1408.6538388412498, 1164.4696582358183, 436.0017552933076, 381.1385275855368, 375.9257015761401, 352.46324297332205, 340.1314075524079, 283.3272080946478, 282.5492118281398, 267.1586388124208, 261.5948866116977, 248.77236306545473, 232.26146325511368, 228.82020596938753, 221.77739115360242, 212.47580593038646, 192.1835623067783, 193.05753080118885, 167.702023172486, 163.93929061820978, 160.82342609355973, 171.59115508108033, 154.56745676688183, 154.13854838614606, 158.40157896651064, 154.559926053094, 151.58985817585196, 147.40709181937783, 138.64282429272257, 136.49985445724172, 396.72155217583435, 201.07583928985784, 245.60107045885093, 437.4776737719733, 234.14462346491337, 293.86670827811275, 247.22892172208512, 208.1748808996651, 161.15515783930573], \"Total\": [2086.0, 1409.0, 1165.0, 1310.0, 1375.0, 950.0, 832.0, 684.0, 740.0, 1024.0, 1078.0, 821.0, 628.0, 535.0, 862.0, 1031.0, 436.0, 563.0, 471.0, 547.0, 401.0, 2350.0, 505.0, 381.0, 376.0, 424.0, 1484.0, 353.0, 402.0, 401.0, 628.770830534143, 430.33918229507174, 431.34411586283323, 410.57764694030345, 409.3357046354242, 401.024176923384, 396.42527866425064, 357.2982195311018, 357.1958934235545, 328.3245394570093, 317.5214624917345, 314.7017048342107, 304.90594287108564, 297.90480836326105, 273.9364070421799, 323.1368310880857, 257.82243118152036, 251.73209466737015, 246.74369569720622, 212.80600315212916, 180.65485550951053, 180.11814856542057, 167.9712433848725, 162.1058781352968, 311.54277661147285, 148.22003051712505, 140.35128310078875, 146.27325294019494, 136.95610936927517, 133.08958759827914, 212.79679328388636, 174.5781934809429, 193.01763685546845, 155.1957080755001, 355.4051021910784, 305.01715635450876, 1078.7941241198296, 2350.9413678781, 634.0594028175009, 1658.9405459603724, 704.8171823861646, 1024.6485388466288, 1375.8584929934823, 950.890085903165, 740.3708020954923, 563.6285889861127, 547.2589131822132, 505.2289130179181, 444.1656010901511, 334.986272697306, 285.7534178849114, 282.6609286211442, 254.349671122679, 261.4382431177159, 238.59831772736356, 235.5454982906776, 233.07391343496136, 224.24598326682292, 220.8304051822576, 220.64179624645803, 211.46324284675285, 206.95461637423398, 194.12075312815816, 186.95690326404886, 185.94894485439892, 166.35954727522096, 158.24770183873835, 146.7619567662655, 133.75368381900404, 128.20137634459476, 124.27945263609018, 116.49707717387413, 265.97113958345403, 344.09190463874825, 821.06024717685, 275.7612374768982, 862.9766022984204, 1031.3858320394268, 1484.5822099016657, 342.97085716466825, 1481.6483909801564, 521.2732296928501, 759.4404647114883, 2350.9413678781, 453.06308575624195, 1658.9405459603724, 658.4954522133485, 1731.550376686299, 895.8127954849388, 593.7664436000526, 804.7775686035872, 2086.441443498577, 832.0077929688742, 441.2052048258383, 313.5024834455113, 309.19008729986325, 260.23608666364436, 226.43552337722537, 190.5786649463461, 185.4180326749818, 185.0121963145044, 176.64947551215647, 167.66582782047382, 158.90525674706532, 157.5217894559469, 164.53175171255464, 149.12827091367274, 139.73479716086965, 138.6418936449523, 130.64274458829246, 128.71163763991078, 130.26720396372687, 125.07929105495957, 116.1429367951496, 114.94644535489583, 107.74775753088568, 105.28105243036991, 99.85976983783294, 99.66740229852097, 92.5566036571642, 91.80363918140546, 197.8256311002972, 185.58705959200455, 415.46215029408165, 322.3108627934762, 406.47436484625933, 1024.6485388466288, 1078.7941241198296, 704.8171823861646, 379.5886972706559, 2350.9413678781, 518.4433959574271, 730.2565762707486, 1024.5348177823303, 474.03889721144674, 1658.9405459603724, 804.7775686035872, 1731.550376686299, 681.0575162441448, 513.1145460420687, 895.8127954849388, 498.0333292758405, 658.4954522133485, 1481.6483909801564, 408.5968778404186, 350.0495577395696, 301.37833762058057, 268.58422173632727, 257.40108543783157, 254.2085934310718, 251.32051593427028, 235.15985011032686, 217.5980180206489, 188.19637752769876, 181.8621686874213, 176.90835308224536, 167.78205988528438, 154.90949218093115, 1310.9605934703134, 373.40669907650744, 144.25903352894758, 140.83327574751016, 139.6730695598027, 133.90980696391355, 122.99839397661991, 118.76444473563005, 264.390660251143, 117.42961965220256, 117.18567994983701, 116.57306313777792, 111.83661879487165, 110.97337613878237, 108.41384221681207, 108.16848921796056, 155.72796409117336, 242.49862635488918, 194.57162459124928, 149.7895286471011, 594.8600078422837, 337.1472840020772, 673.5381841459599, 327.3445629558695, 441.69555205644673, 175.4234751846415, 1731.550376686299, 1481.6483909801564, 478.277874972148, 377.0208424248004, 1658.9405459603724, 1484.5822099016657, 535.8822646596777, 424.89541919676554, 402.2512600106791, 401.1455014175877, 371.07348837129996, 303.7701693163453, 286.96879933941636, 283.9340092437159, 201.15612076496646, 194.3649189558198, 189.9364127491756, 170.62859051098286, 176.0633915520204, 166.4634105712439, 167.1562336735888, 176.33795390034825, 158.90977257806347, 153.18842523161072, 161.43512191555376, 133.38455095806458, 164.23358908530014, 145.2349201441004, 129.6606858231602, 123.64094784288568, 109.40035554620911, 108.61015225883038, 108.62391821264701, 107.15524165482532, 105.10345586284282, 104.69119041761999, 107.19114514567605, 162.404904290546, 245.46854280556695, 191.49181985431693, 155.4576285557193, 381.03606006042, 130.07893742195085, 478.277874972148, 391.15294205708796, 268.6358013404803, 407.54544973138707, 593.7664436000526, 758.0912562737739, 1481.6483909801564, 1658.9405459603724, 684.5853644949915, 353.63947840680675, 306.1911113358927, 291.15923023368083, 270.3425341019195, 260.67947918984987, 232.62603127966744, 216.4138386776321, 213.01746698952593, 193.81759185027502, 186.7067620947089, 175.2115524670235, 173.59801968717585, 160.28014299374578, 154.8424372025017, 148.38454492374782, 146.22253541652057, 144.28650862038808, 143.48379325974426, 141.55682458480882, 131.53074731815457, 265.18914382032517, 195.79320803821264, 122.74398172597962, 242.40618768911727, 120.39256251494598, 120.01505927307731, 118.55011492510609, 119.41506664389918, 117.2025734949884, 156.84314900705954, 252.65617232970692, 229.1325852524721, 240.63161729386852, 301.4797435469757, 320.4503591986844, 337.7859824173241, 1731.550376686299, 758.0912562737739, 486.22468153104046, 408.4859488358666, 1658.9405459603724, 1409.495695012715, 1165.3137699052431, 436.8444610747638, 381.9832268021704, 376.7704564599898, 353.3096698047395, 340.97326258466427, 284.17342520257176, 283.3944696079782, 268.0058373149784, 262.43987774605785, 249.62184347328122, 233.1069432010263, 229.6646461583157, 222.62118015641315, 213.32070175416175, 193.02583033178743, 193.90482152151813, 168.5479170175688, 164.7864028077932, 161.6687923356824, 172.52200801662153, 155.41221499315373, 154.98434544951002, 159.2765729125433, 155.41682350542595, 152.4345286895487, 148.24867899688948, 139.48661217644806, 137.347872704696, 401.8080405752144, 203.35245246760374, 254.15348128131828, 471.7093149293737, 254.8666199496995, 429.35897602465576, 334.45899273071586, 513.1145460420687, 212.50266889823513], \"Category\": [\"Default\", \"Default\", \"Default\", \"Default\", \"Default\", \"Default\", \"Default\", \"Default\", \"Default\", \"Default\", \"Default\", \"Default\", \"Default\", \"Default\", \"Default\", \"Default\", \"Default\", \"Default\", \"Default\", \"Default\", \"Default\", \"Default\", \"Default\", \"Default\", \"Default\", \"Default\", \"Default\", \"Default\", \"Default\", \"Default\", \"Topic1\", \"Topic1\", \"Topic1\", \"Topic1\", \"Topic1\", \"Topic1\", \"Topic1\", \"Topic1\", \"Topic1\", \"Topic1\", \"Topic1\", \"Topic1\", \"Topic1\", \"Topic1\", \"Topic1\", \"Topic1\", \"Topic1\", \"Topic1\", \"Topic1\", \"Topic1\", \"Topic1\", \"Topic1\", \"Topic1\", \"Topic1\", \"Topic1\", \"Topic1\", \"Topic1\", \"Topic1\", \"Topic1\", \"Topic1\", \"Topic1\", \"Topic1\", \"Topic1\", \"Topic1\", \"Topic1\", \"Topic1\", \"Topic1\", \"Topic1\", \"Topic1\", \"Topic1\", \"Topic1\", \"Topic1\", \"Topic2\", \"Topic2\", \"Topic2\", \"Topic2\", \"Topic2\", \"Topic2\", \"Topic2\", \"Topic2\", \"Topic2\", \"Topic2\", \"Topic2\", \"Topic2\", \"Topic2\", \"Topic2\", \"Topic2\", \"Topic2\", \"Topic2\", \"Topic2\", \"Topic2\", \"Topic2\", \"Topic2\", \"Topic2\", \"Topic2\", \"Topic2\", \"Topic2\", \"Topic2\", \"Topic2\", \"Topic2\", \"Topic2\", \"Topic2\", \"Topic2\", \"Topic2\", \"Topic2\", \"Topic2\", \"Topic2\", \"Topic2\", \"Topic2\", \"Topic2\", \"Topic2\", \"Topic2\", \"Topic2\", \"Topic2\", \"Topic2\", \"Topic2\", \"Topic2\", \"Topic2\", \"Topic2\", \"Topic2\", \"Topic2\", \"Topic3\", \"Topic3\", \"Topic3\", \"Topic3\", \"Topic3\", \"Topic3\", \"Topic3\", \"Topic3\", \"Topic3\", \"Topic3\", \"Topic3\", \"Topic3\", \"Topic3\", \"Topic3\", \"Topic3\", \"Topic3\", \"Topic3\", \"Topic3\", \"Topic3\", \"Topic3\", \"Topic3\", \"Topic3\", \"Topic3\", \"Topic3\", \"Topic3\", \"Topic3\", \"Topic3\", \"Topic3\", \"Topic3\", \"Topic3\", \"Topic3\", \"Topic3\", \"Topic3\", \"Topic3\", \"Topic3\", \"Topic3\", \"Topic3\", \"Topic3\", \"Topic3\", \"Topic3\", \"Topic3\", \"Topic3\", \"Topic3\", \"Topic3\", \"Topic3\", \"Topic3\", \"Topic3\", \"Topic3\", \"Topic3\", \"Topic3\", \"Topic3\", \"Topic3\", \"Topic3\", \"Topic4\", \"Topic4\", \"Topic4\", \"Topic4\", \"Topic4\", \"Topic4\", \"Topic4\", \"Topic4\", \"Topic4\", \"Topic4\", \"Topic4\", \"Topic4\", \"Topic4\", \"Topic4\", \"Topic4\", \"Topic4\", \"Topic4\", \"Topic4\", \"Topic4\", \"Topic4\", \"Topic4\", \"Topic4\", \"Topic4\", \"Topic4\", \"Topic4\", \"Topic4\", \"Topic4\", \"Topic4\", \"Topic4\", \"Topic4\", \"Topic4\", \"Topic4\", \"Topic4\", \"Topic4\", \"Topic4\", \"Topic4\", \"Topic4\", \"Topic4\", \"Topic4\", \"Topic4\", \"Topic4\", \"Topic4\", \"Topic4\", \"Topic4\", \"Topic4\", \"Topic4\", \"Topic5\", \"Topic5\", \"Topic5\", \"Topic5\", \"Topic5\", \"Topic5\", \"Topic5\", \"Topic5\", \"Topic5\", \"Topic5\", \"Topic5\", \"Topic5\", \"Topic5\", \"Topic5\", \"Topic5\", \"Topic5\", \"Topic5\", \"Topic5\", \"Topic5\", \"Topic5\", \"Topic5\", \"Topic5\", \"Topic5\", \"Topic5\", \"Topic5\", \"Topic5\", \"Topic5\", \"Topic5\", \"Topic5\", \"Topic5\", \"Topic5\", \"Topic5\", \"Topic5\", \"Topic5\", \"Topic5\", \"Topic5\", \"Topic5\", \"Topic5\", \"Topic5\", \"Topic5\", \"Topic5\", \"Topic5\", \"Topic5\", \"Topic5\", \"Topic5\", \"Topic6\", \"Topic6\", \"Topic6\", \"Topic6\", \"Topic6\", \"Topic6\", \"Topic6\", \"Topic6\", \"Topic6\", \"Topic6\", \"Topic6\", \"Topic6\", \"Topic6\", \"Topic6\", \"Topic6\", \"Topic6\", \"Topic6\", \"Topic6\", \"Topic6\", \"Topic6\", \"Topic6\", \"Topic6\", \"Topic6\", \"Topic6\", \"Topic6\", \"Topic6\", \"Topic6\", \"Topic6\", \"Topic6\", \"Topic6\", \"Topic6\", \"Topic6\", \"Topic6\", \"Topic6\", \"Topic6\", \"Topic6\", \"Topic6\", \"Topic6\", \"Topic6\", \"Topic6\", \"Topic6\", \"Topic6\", \"Topic7\", \"Topic7\", \"Topic7\", \"Topic7\", \"Topic7\", \"Topic7\", \"Topic7\", \"Topic7\", \"Topic7\", \"Topic7\", \"Topic7\", \"Topic7\", \"Topic7\", \"Topic7\", \"Topic7\", \"Topic7\", \"Topic7\", \"Topic7\", \"Topic7\", \"Topic7\", \"Topic7\", \"Topic7\", \"Topic7\", \"Topic7\", \"Topic7\", \"Topic7\", \"Topic7\", \"Topic7\", \"Topic7\", \"Topic7\", \"Topic7\", \"Topic7\", \"Topic7\", \"Topic7\", \"Topic7\", \"Topic7\", \"Topic7\", \"Topic7\", \"Topic7\"], \"logprob\": [30.0, 29.0, 28.0, 27.0, 26.0, 25.0, 24.0, 23.0, 22.0, 21.0, 20.0, 19.0, 18.0, 17.0, 16.0, 15.0, 14.0, 13.0, 12.0, 11.0, 10.0, 9.0, 8.0, 7.0, 6.0, 5.0, 4.0, 3.0, 2.0, 1.0, -4.3191, -4.699, -4.6967, -4.7461, -4.7492, -4.7698, -4.7813, -4.8855, -4.8858, -4.9704, -5.0039, -5.0129, -5.0446, -5.068, -5.1521, -4.9871, -5.213, -5.2369, -5.2571, -5.4057, -5.5704, -5.5735, -5.6437, -5.6794, -5.0264, -5.7696, -5.8245, -5.7833, -5.8493, -5.8781, -5.4102, -5.6072, -5.5096, -5.7277, -4.9589, -5.3112, -4.8422, -4.8162, -5.2529, -5.0832, -5.3063, -5.3977, -3.5003, -3.8701, -4.1207, -4.3939, -4.4236, -4.5035, -4.6327, -4.9156, -5.0751, -5.0861, -5.192, -5.1645, -5.2563, -5.2692, -5.2798, -5.3186, -5.3341, -5.335, -5.3776, -5.3993, -5.4636, -5.5015, -5.5069, -5.6189, -5.6696, -5.7452, -5.8388, -5.8815, -5.9129, -5.9782, -5.1529, -4.9021, -4.1122, -5.1702, -4.1503, -4.0387, -3.9035, -5.1262, -4.3325, -4.9609, -4.8073, -4.3095, -5.0597, -4.8696, -5.1186, -4.9645, -5.1103, -5.1609, -5.144, -3.0803, -4.0004, -4.636, -4.9788, -4.9927, -5.1659, -5.3054, -5.4788, -5.5064, -5.5086, -5.5551, -5.6077, -5.6617, -5.6705, -5.6271, -5.7259, -5.7913, -5.7992, -5.8591, -5.8741, -5.8621, -5.903, -5.9779, -5.9883, -6.0537, -6.0771, -6.1305, -6.1325, -6.2073, -6.2159, -5.4511, -5.544, -4.7944, -5.0429, -4.8593, -4.0366, -4.1635, -4.5702, -5.0625, -3.7517, -4.9859, -4.7946, -4.6247, -5.162, -4.6335, -4.9612, -4.6609, -5.0636, -5.2091, -5.0454, -5.2819, -5.2438, -5.1524, -4.5634, -4.7185, -4.8687, -4.9843, -5.027, -5.0396, -5.0511, -5.1178, -5.1958, -5.342, -5.3763, -5.404, -5.4574, -5.5378, -3.4022, -4.6583, -5.6095, -5.6336, -5.642, -5.6845, -5.7702, -5.8056, -5.0053, -5.817, -5.8191, -5.8244, -5.8662, -5.874, -5.8977, -5.9, -5.539, -5.1532, -5.363, -5.6264, -4.514, -5.0001, -4.4911, -5.0405, -4.9976, -5.5959, -4.8835, -5.2496, -5.436, -5.5216, -5.3995, -5.5237, -4.2056, -4.4381, -4.4931, -4.496, -4.574, -4.7747, -4.8319, -4.8426, -5.1888, -5.2233, -5.2466, -5.3543, -5.3231, -5.3792, -5.375, -5.3217, -5.426, -5.4629, -5.4109, -5.6024, -5.3944, -5.5174, -5.6312, -5.6789, -5.8024, -5.8097, -5.8096, -5.8234, -5.8429, -5.8469, -5.8235, -5.4406, -5.0742, -5.3507, -5.5341, -4.9077, -5.6836, -4.8175, -5.0186, -5.3218, -5.2053, -5.1475, -5.3173, -5.2453, -5.2622, -3.8294, -4.4915, -4.636, -4.6865, -4.761, -4.7975, -4.9119, -4.9845, -5.0004, -5.0954, -5.1329, -5.1969, -5.2062, -5.2865, -5.3214, -5.3642, -5.379, -5.3925, -5.3981, -5.4117, -5.4857, -4.7845, -5.088, -5.5554, -4.875, -5.5749, -5.5781, -5.5905, -5.5833, -5.6021, -5.319, -4.9148, -5.1523, -5.1269, -5.0083, -4.9907, -5.0561, -4.4229, -4.9921, -5.139, -5.1895, -4.9956, -2.9615, -3.1519, -4.1343, -4.2688, -4.2825, -4.347, -4.3826, -4.5653, -4.5681, -4.6241, -4.6451, -4.6954, -4.7641, -4.779, -4.8102, -4.8531, -4.9535, -4.9489, -5.0897, -5.1124, -5.1316, -5.0668, -5.1713, -5.1741, -5.1468, -5.1713, -5.1907, -5.2187, -5.28, -5.2956, -4.2287, -4.9082, -4.7082, -4.1309, -4.756, -4.5288, -4.7016, -4.8735, -5.1296], \"loglift\": [30.0, 29.0, 28.0, 27.0, 26.0, 25.0, 24.0, 23.0, 22.0, 21.0, 20.0, 19.0, 18.0, 17.0, 16.0, 15.0, 14.0, 13.0, 12.0, 11.0, 10.0, 9.0, 8.0, 7.0, 6.0, 5.0, 4.0, 3.0, 2.0, 1.0, 1.7496, 1.7489, 1.7489, 1.7488, 1.7488, 1.7487, 1.7487, 1.7484, 1.7484, 1.7481, 1.748, 1.748, 1.7479, 1.7478, 1.7475, 1.7473, 1.7472, 1.7472, 1.7471, 1.7464, 1.7455, 1.7454, 1.7449, 1.7449, 1.7446, 1.7442, 1.7438, 1.7437, 1.7436, 1.7434, 1.7419, 1.7429, 1.7401, 1.7401, 1.6804, 1.4809, 0.6866, -0.0663, 0.8074, 0.0153, 0.6482, 0.1827, 1.7854, 1.785, 1.7846, 1.7842, 1.784, 1.7839, 1.7836, 1.7828, 1.7822, 1.7821, 1.7818, 1.7817, 1.7814, 1.7814, 1.7813, 1.7811, 1.781, 1.7809, 1.7809, 1.7807, 1.7804, 1.7801, 1.7801, 1.7794, 1.7788, 1.7785, 1.7777, 1.7774, 1.777, 1.7764, 1.7762, 1.7695, 1.6896, 1.7227, 1.6017, 1.5351, 1.3061, 1.5486, 0.879, 1.2953, 1.0726, 0.4404, 1.3367, 0.229, 0.9039, 0.0912, 0.6044, 0.9651, 0.6779, 1.789, 1.7882, 1.7869, 1.7859, 1.7858, 1.785, 1.7846, 1.7836, 1.7835, 1.7835, 1.7832, 1.7828, 1.7824, 1.7824, 1.7823, 1.7818, 1.7814, 1.7814, 1.7809, 1.7808, 1.7808, 1.7806, 1.7798, 1.7797, 1.779, 1.7788, 1.7782, 1.7781, 1.7774, 1.7769, 1.7739, 1.7449, 1.6886, 1.6941, 1.6456, 1.5438, 1.3654, 1.3844, 1.5109, 0.9982, 1.2757, 1.1245, 0.9558, 1.1892, 0.465, 0.8608, 0.3948, 0.9252, 1.0629, 0.6694, 1.0199, 0.7787, 0.0592, 1.9364, 1.9359, 1.9354, 1.935, 1.9348, 1.9348, 1.9347, 1.9344, 1.934, 1.933, 1.933, 1.9328, 1.9325, 1.9319, 1.9318, 1.9315, 1.9313, 1.9313, 1.9312, 1.9308, 1.9301, 1.9298, 1.9297, 1.9297, 1.9297, 1.9296, 1.9292, 1.9292, 1.9289, 1.9288, 1.9254, 1.8683, 1.8787, 1.8768, 1.6102, 1.6919, 1.5088, 1.681, 1.4242, 1.7494, 0.1722, -0.038, 0.9063, 1.0586, -0.3009, -0.3141, 2.023, 2.0225, 2.0223, 2.0221, 2.0221, 2.0215, 2.0212, 2.0212, 2.0196, 2.0195, 2.0192, 2.0187, 2.0186, 2.0185, 2.0185, 2.0184, 2.0182, 2.018, 2.0175, 2.0169, 2.0168, 2.0167, 2.0164, 2.0162, 2.0151, 2.015, 2.015, 2.0148, 2.0147, 2.0146, 2.0144, 1.9818, 1.9351, 1.9069, 1.932, 1.6619, 1.9607, 1.5248, 1.5248, 1.5974, 1.297, 0.9785, 0.5643, -0.0337, -0.1636, 2.1542, 2.1527, 2.1523, 2.1521, 2.1518, 2.1516, 2.1512, 2.1508, 2.1507, 2.1502, 2.15, 2.1496, 2.1496, 2.1491, 2.1487, 2.1484, 2.1484, 2.1482, 2.1482, 2.1481, 2.1476, 2.1476, 2.1475, 2.147, 2.1469, 2.1468, 2.1468, 2.1467, 2.1466, 2.1465, 2.1383, 2.0656, 1.9259, 1.9024, 1.7954, 1.752, 1.634, 0.6329, 0.8896, 1.1868, 1.3106, 0.1029, 2.3, 2.2998, 2.2986, 2.2983, 2.2983, 2.2982, 2.2981, 2.2976, 2.2976, 2.2974, 2.2973, 2.2972, 2.2969, 2.2969, 2.2968, 2.2966, 2.2962, 2.2962, 2.2955, 2.2954, 2.2953, 2.2952, 2.2951, 2.2951, 2.2951, 2.295, 2.295, 2.2949, 2.2945, 2.2944, 2.2878, 2.2893, 2.2663, 2.2252, 2.2158, 1.9214, 1.9984, 1.3984, 2.024]}, \"token.table\": {\"Topic\": [3, 7, 7, 3, 4, 6, 1, 1, 7, 4, 3, 1, 5, 1, 4, 5, 4, 3, 3, 5, 7, 3, 4, 5, 1, 1, 2, 3, 4, 5, 6, 2, 2, 7, 1, 2, 3, 4, 5, 6, 3, 7, 7, 3, 5, 5, 2, 3, 4, 1, 2, 6, 4, 4, 1, 7, 1, 5, 7, 2, 1, 2, 5, 6, 4, 1, 2, 3, 4, 2, 6, 1, 2, 5, 1, 2, 1, 3, 4, 1, 5, 5, 1, 6, 4, 6, 5, 7, 5, 1, 3, 7, 6, 3, 6, 4, 5, 1, 4, 1, 2, 3, 4, 5, 6, 1, 2, 3, 4, 5, 6, 3, 6, 7, 3, 2, 1, 2, 3, 4, 5, 6, 7, 6, 6, 1, 2, 3, 4, 5, 6, 2, 4, 1, 2, 3, 4, 6, 3, 3, 3, 2, 1, 2, 1, 2, 3, 4, 5, 6, 1, 1, 1, 3, 4, 5, 6, 7, 7, 1, 2, 3, 4, 5, 6, 7, 3, 4, 7, 4, 1, 3, 4, 6, 7, 4, 1, 2, 3, 4, 5, 6, 1, 1, 4, 5, 6, 1, 6, 1, 2, 3, 4, 5, 6, 5, 6, 4, 5, 7, 4, 5, 7, 4, 1, 7, 7, 6, 7, 2, 5, 2, 3, 2, 2, 1, 2, 3, 4, 5, 6, 7, 1, 3, 3, 5, 5, 4, 4, 2, 4, 5, 4, 2, 1, 1, 2, 4, 5, 6, 2, 1, 6, 3, 5, 5, 3, 1, 3, 4, 6, 7, 5, 1, 2, 3, 4, 5, 6, 4, 7, 1, 2, 3, 4, 5, 6, 1, 3, 1, 2, 4, 5, 6, 7, 7, 6, 2, 4, 6, 3, 4, 1, 5, 1, 7, 5, 5, 1, 3, 4, 5, 6, 6, 2, 1, 4, 6, 7, 3, 4, 4, 7, 4, 5, 1, 5, 1, 2, 4, 2, 6, 1, 6, 2, 2, 3, 4, 1, 2, 6, 1, 2, 3, 4, 5, 6, 7, 3, 1, 2, 3, 4, 5, 6, 1, 5, 1, 2, 3, 4, 5, 6, 3, 3, 5, 3, 2, 4, 3, 4, 1, 2, 3, 5, 5, 4, 6, 2, 2, 5, 5, 2, 2, 4, 6, 1, 3, 5, 7, 3, 3, 7, 6, 1, 1, 3, 5, 1, 2, 1, 2, 2, 1, 4, 4, 7, 1, 3, 7, 4, 4, 6, 7, 4, 2, 7, 3, 2, 1, 2, 3, 4, 5, 3, 6, 6, 5, 1, 2, 5, 5, 1, 3, 1, 5, 1, 4, 6, 7, 5, 4, 1, 4, 2, 2, 4, 5, 6, 6, 6, 3, 7, 5, 5, 2, 2, 3, 4, 6, 2, 3, 4, 5, 6, 7, 2, 6, 6, 1, 2, 4, 5, 2, 7, 5, 3, 6, 1, 5, 1, 4, 1, 2, 3, 4, 5, 6, 2, 3, 1, 1, 3, 7, 2, 4, 3, 6, 6, 6, 2, 6, 7, 1, 3, 5, 2, 5, 5, 1, 2, 3, 4, 5, 6, 7, 6, 4, 1, 7, 4, 3, 1, 4, 2, 3, 6, 1, 3, 5], \"Freq\": [0.9902722717217473, 0.9952277445566279, 0.9974259948259989, 0.32314453012688277, 0.2472545268395088, 0.428411308880337, 0.9970917706447503, 0.9968100867804581, 0.9962931390882585, 0.9952592191457742, 0.9901592225348539, 0.08147683516352558, 0.9125405538314865, 0.22606149108386508, 0.7728859087056468, 0.9933978168090095, 0.9970016881428245, 0.9913902281246075, 0.23058533925268246, 0.004705823250054744, 0.7576375432588138, 0.9945290292495974, 0.994083246710784, 0.9930829162145003, 0.9959657616235453, 0.07881005121821427, 0.6190293766627257, 0.09093467448255492, 0.10508006829095236, 0.0996913468401343, 0.006062311632170328, 0.9993760310396351, 0.009835140789947551, 0.9884316493897288, 0.02106814259110937, 0.4898343152432929, 0.23701660414998044, 0.16327810508109764, 0.04872007974194042, 0.038186008446385734, 0.992352239668795, 0.997209698753835, 0.9973180284088653, 0.9090602701397086, 0.08687265380174689, 0.9896198551622378, 0.10874730356101667, 0.4747748131078533, 0.4137702281833805, 0.058460996211963934, 0.9085813161276062, 0.032884310369229716, 0.9936429300955982, 0.9953388348800873, 0.991838114049282, 0.0032098320843018838, 0.9964046726055081, 0.9871997166808327, 0.9958631945843094, 0.9934386422075858, 0.03848590728060143, 0.1687459011534063, 0.19538999080920727, 0.5920908812400221, 0.9954265537746916, 0.008747098878315573, 0.7872388990484015, 0.1924361753229426, 0.008747098878315573, 0.9976996022323459, 0.990669210702103, 0.09154361750897334, 0.8320040173600362, 0.07532069795042111, 0.9985930872160037, 0.9990639444912084, 0.22567555284204577, 0.5979437724874717, 0.17359657910926596, 0.9974460968133109, 0.9895012409079793, 0.9922420690087133, 0.20075712910634, 0.7942999455946496, 0.9909578490825957, 0.007564563733454929, 0.07207828831001699, 0.926417999749336, 0.9924888136941376, 0.9915562952986359, 0.004699318935064625, 0.9915771323876978, 0.9939387519003536, 0.9917164654984306, 0.9957816427163814, 0.9918828698136523, 0.9942561617835807, 0.9858520051699372, 0.0064434771579734455, 0.022024571555602383, 0.2084992773930359, 0.42140346909719223, 0.09250320053353, 0.05139066696307223, 0.20262605831154193, 0.16300080495212643, 0.18642607033446795, 0.43434346229758236, 0.0712518488712888, 0.02440131810660575, 0.11907843236023608, 0.298527519431754, 0.6965642120074259, 0.9946855282009451, 0.9952074272937221, 0.989705034831167, 0.7638914570732992, 0.02294952875327508, 0.03934204929132871, 0.019671024645664354, 0.11146913965876468, 0.042620553398939436, 0.9986080546719072, 0.9981917222316703, 0.997684197505214, 0.02689708467381473, 0.20172813505361048, 0.0016810677921134207, 0.719497015024544, 0.011767474544793944, 0.036983491426495256, 0.006421454270181908, 0.9889039576080139, 0.028110568464075558, 0.08633960313966063, 0.46382437965724665, 0.2790977868933216, 0.14256074006781175, 0.9950801355994319, 0.9936603437666718, 0.9912461075773101, 0.9944987271159549, 0.9313315930451742, 0.06471488410887917, 0.0492977416017856, 0.22868674576383874, 0.5135181416852667, 0.10270362833705332, 0.03560392449017848, 0.06983846726919626, 0.9963751015290256, 0.9969859586681442, 0.09056011502440527, 0.21055226743174224, 0.5976967591610748, 0.06565608339269381, 0.033960043134151977, 0.9971456337154219, 0.9983238913619542, 0.10050782459103083, 0.03722512021890031, 0.03722512021890031, 0.16751304098505138, 0.6514396038307554, 0.0037225120218900305, 0.007445024043780061, 0.48332287968243887, 0.10913742444442168, 0.40536757650785193, 0.9869588404220138, 0.2078761564816736, 0.781731461698688, 0.00878349956964818, 0.9920130905186694, 0.9936487427381452, 0.994128880237572, 0.1760159522962043, 0.21097802501257362, 0.26583231151584275, 0.10669460122064438, 0.1121197504352534, 0.1283951980790805, 0.9963665659101086, 0.26530944417260044, 0.18921293692929642, 0.16453298863417082, 0.37842587385859283, 0.9969627601238388, 0.9952235513645651, 0.02902025292856697, 0.18995074644152926, 0.13982485501945904, 0.12663383096101952, 0.23216202342853576, 0.282287914850606, 0.992977544697096, 0.9960185695203603, 0.9891975081984732, 0.9892189907186562, 0.9901864318816647, 0.35544190709198026, 0.6063420768039663, 0.03554419070919803, 0.9912724111748957, 0.2601215751135345, 0.73850608106946, 0.9938088439457519, 0.9915422341227388, 0.9971060144892413, 0.9822957048491334, 0.014531001551022684, 0.9946936392065235, 0.9953701321579167, 0.9976617616577986, 0.9988847460927355, 0.12127859681557808, 0.1836504466064468, 0.24775484778039522, 0.17094506979719576, 0.057751712769322894, 0.21830147426804056, 0.000577517127693229, 0.9903721357515601, 0.9906902364035443, 0.9952501335249404, 0.9967104706963295, 0.9942526195048408, 0.9951811071244874, 0.9941015830115199, 0.6119631353176613, 0.2685731628353373, 0.11702116380682552, 0.9925192767459631, 0.9948816906605616, 0.9930188629504858, 0.010278991112920731, 0.005139495556460366, 0.9405276868322469, 0.020557982225841463, 0.020557982225841463, 0.9970557817508027, 0.9931780503704264, 0.9896588093607325, 0.9963233657486191, 0.9911102249713388, 0.9971444241215727, 0.9947414876194102, 0.06396467341755727, 0.8659832708838523, 0.044283235442924264, 0.024601797468291258, 0.9967491914034649, 0.9888876535085315, 0.13296002020403666, 0.4036045283350961, 0.17750500159219107, 0.13835941188744932, 0.127560628520624, 0.020247718812797463, 0.994556800584394, 0.9975088579403598, 0.05343091268636079, 0.3305261110365575, 0.3951402380061101, 0.07828249998234256, 0.04597543649756627, 0.09692119045432888, 0.9966519955980109, 0.9943031667699562, 0.0029693936395543503, 0.17222483109415232, 0.6502972070624027, 0.08165832508774463, 0.0712654473493044, 0.022270452296657625, 0.998872604152485, 0.9881500158759785, 0.0007627994349951031, 0.992402064928629, 0.006102395479960825, 0.9857165571287141, 0.010109913406448349, 0.996481889469988, 0.994274911081277, 0.9967368968299166, 0.9971494077274732, 0.9914970852541858, 0.9974646315071733, 0.14555767555340993, 0.5484781977374866, 0.09281938730942083, 0.04008109906543172, 0.17298158544028425, 0.9869243912071669, 0.9943651359911408, 0.002966062748984918, 0.7800745029830335, 0.2135565179269141, 0.9980669067597053, 0.9050162565563465, 0.09387136703642956, 0.9865057750441136, 0.9969742526033477, 0.30180870540642457, 0.6954722341974131, 0.9912953809763463, 0.996889357138009, 0.9917687878428544, 0.9888290902986421, 0.0037598064269910346, 0.9981484924964457, 0.9950339516259273, 0.9962124980489719, 0.9897393593064762, 0.9942265156604959, 0.9973633985185967, 0.06597975518667268, 0.9319640420117516, 0.9952083160621809, 0.994808213360912, 0.9890021227208575, 0.08707176364652787, 0.3069837820871175, 0.325960961343412, 0.10381633357855247, 0.055815233106748637, 0.11944459884844208, 0.0022326093242699455, 0.9831821437297984, 0.07283753860660971, 0.6378802623427335, 0.10153111442133475, 0.18540464372591564, 0.012751592993774817, 0.9818726605206609, 0.10444310370654784, 0.8877663815056567, 0.16248810166830466, 0.260321251887441, 0.4534353831895622, 0.04126006770111401, 0.023820245270746235, 0.058699890131481795, 0.9993091378130603, 0.991766205975542, 0.994816055246518, 0.9972683803077209, 0.9975676114603629, 0.9878257320730771, 0.9924342252025046, 0.9948654030947705, 0.09936566917166682, 0.4395667737933058, 0.10778648859299453, 0.35199025181149773, 0.9983536222079713, 0.9960918011687738, 0.9910836527081487, 0.9925589970967054, 0.0836240724934288, 0.913432176466684, 0.9966240255329274, 0.9948967451515148, 0.1778746640900442, 0.1529097989545994, 0.6678101423731485, 0.9937921382474435, 0.01569448365105419, 0.0667015555169803, 0.91812729358667, 0.9961509526057054, 0.9987887217194468, 0.9962469574354968, 0.9973934304611871, 0.9968838896523613, 0.04612583804045972, 0.007687639673409953, 0.9378920401560142, 0.9895468782628436, 0.0051808737081824275, 0.9968880772419335, 0.9953873153884726, 0.9930803915278399, 0.16531424867439282, 0.8265712433719641, 0.02754241242224739, 0.967919065124694, 0.3320009867066393, 0.6668395886842755, 0.9952513503638041, 0.9950678225480127, 0.9935633536002151, 0.9884331516344865, 0.9919851809390434, 0.9932058227508406, 0.9921155136899883, 0.9953336821930562, 0.990339181257381, 0.9962396247854898, 0.021757952839556168, 0.9392182975741746, 0.010878976419778084, 0.018131627366296806, 0.010878976419778084, 0.9933037052925089, 0.991639213387744, 0.9962145875876184, 0.9924125585516074, 0.9965816626848154, 0.997375751099837, 0.9949045015536838, 0.9912088154014026, 0.9970287792276037, 0.9878320704362529, 0.9909599621265689, 0.005728092266627566, 0.08617497727094284, 0.05123917567461466, 0.1770080614213961, 0.6847417112880323, 0.9950698618783951, 0.9952456625688404, 0.05340827274280114, 0.9413208070918702, 0.993301219628925, 0.1942974009100204, 0.0051130894976321156, 0.6059011054694058, 0.19174085616120434, 0.9965551468371961, 0.9930852021458373, 0.9944710699594882, 0.9958707426574624, 0.9971070733831952, 0.9943821802461309, 0.9944436763206573, 0.9953923911126115, 0.04749537638186193, 0.035621532286396446, 0.9142859953508422, 0.7775945481179947, 0.10665261881917633, 0.07368726391143092, 0.035874062693722945, 0.005817415571955072, 0.9996483174695254, 0.9918276570386925, 0.9973088511366348, 0.9934669673331836, 0.06870399367347808, 0.4048628198615673, 0.04171313901604027, 0.48338166977411373, 0.00995500237942909, 0.9880339861583373, 0.9978926127317205, 0.9930601105023338, 0.9961099088386467, 0.9977702541059306, 0.9939601779640477, 0.005356090303002891, 0.9935547512070363, 0.054670081439432965, 0.4145814509157, 0.36446720959621975, 0.047077014572845056, 0.034928107586304394, 0.08504234890578462, 0.9906289902741328, 0.9913711450883957, 0.9918131266469322, 0.34482946438321466, 0.6544344135874988, 0.9973476023543459, 0.9871492297472861, 0.9926561002936283, 0.2202536831860893, 0.777121485958466, 0.9883620571663605, 0.9908413164267544, 0.004125307235483967, 0.990073736516152, 0.9979551038390091, 0.21338886163474208, 0.7560815220885306, 0.028978734296076086, 0.03694469712112798, 0.9605621251493275, 0.9963160305720137, 0.38955340604118943, 0.1261711436570654, 0.2886164911155371, 0.07570268619423924, 0.06150843253281938, 0.03154278591426635, 0.028388507322839714, 0.9945593907088922, 0.9947456898639518, 0.994217799634625, 0.9965114058700307, 0.9912287417698721, 0.9960288400497044, 0.9987740675987018, 0.9898820406184052, 0.003770893429474378, 0.003770893429474378, 0.9917449719517614, 0.03232984030885789, 0.9537302891113077, 0.010776613436285963], \"Term\": [\"airlangga\", \"aku\", \"alas\", \"alih\", \"alih\", \"alih\", \"anak_usaha\", \"andal\", \"anggar\", \"apresiasi\", \"arah\", \"atap\", \"atap\", \"atur\", \"atur\", \"badan\", \"bahan_bakar\", \"bahas_ruu\", \"bahlil\", \"bahlil\", \"bahlil\", \"baik\", \"bakar\", \"banding\", \"banget\", \"bangkit\", \"bangkit\", \"bangkit\", \"bangkit\", \"bangkit\", \"bangkit\", \"bangkit_listrik\", \"bangkit_listrik_tenaga_biogas\", \"bangkit_listrik_tenaga_biogas\", \"bangun\", \"bangun\", \"bangun\", \"bangun\", \"bangun\", \"bangun\", \"bangun_infrastruktur\", \"bank\", \"bank_dunia\", \"bas\", \"bas\", \"baterai\", \"batu\", \"batu\", \"batu\", \"baur\", \"baur\", \"baur\", \"bawah\", \"beban\", \"beli\", \"beli\", \"beli_listrik\", \"bener\", \"berat\", \"biaya\", \"bidang\", \"bidang\", \"bidang\", \"bidang\", \"buka_peluang\", \"bumi\", \"bumi\", \"bumi\", \"bumi\", \"bumn\", \"cak\", \"capai\", \"capai\", \"capai\", \"capai_persen\", \"capai_target\", \"cepat\", \"cepat\", \"cepat\", \"cepat_transisi\", \"coal\", \"daerah_pencil\", \"dampak\", \"dampak\", \"dampak_positif\", \"dampak_positif\", \"dana\", \"dana\", \"darmawan_prasodjo\", \"dasamuka_pln\", \"dasamuka_pln\", \"daya_saing\", \"den\", \"depan\", \"desa\", \"dirjen_ebtke\", \"dirut\", \"dmo_batu\", \"dmo_batu\", \"dorong\", \"dorong\", \"dorong\", \"dorong\", \"dorong\", \"dorong\", \"dukung\", \"dukung\", \"dukung\", \"dukung\", \"dukung\", \"dukung\", \"ekonomi\", \"ekonomi\", \"ekonomi_hijau\", \"ekspor\", \"emang\", \"energy\", \"energy\", \"energy\", \"energy\", \"energy\", \"energy\", \"era\", \"erick\", \"erick_thohir\", \"esdm\", \"esdm\", \"esdm\", \"esdm\", \"esdm\", \"esdm\", \"firing_pltu\", \"firing_pltu\", \"fosil\", \"fosil\", \"fosil\", \"fosil\", \"fosil\", \"gandeng\", \"gas_bumi\", \"generasi_muda\", \"genjot\", \"green\", \"green\", \"guna\", \"guna\", \"guna\", \"guna\", \"guna\", \"guna\", \"hadir\", \"hambat\", \"harga\", \"harga\", \"harga\", \"harga\", \"harga\", \"harga_jual\", \"hebat\", \"heroes\", \"heroes\", \"heroes\", \"heroes\", \"heroes\", \"heroes\", \"heroes\", \"hijau\", \"hijau\", \"hijau\", \"hrs\", \"id\", \"id\", \"id\", \"iklim\", \"imbang\", \"indo\", \"indonesia\", \"indonesia\", \"indonesia\", \"indonesia\", \"indonesia\", \"indonesia\", \"indonesia_timur\", \"industri\", \"industri\", \"industri\", \"industri\", \"inggris\", \"insentif\", \"investasi\", \"investasi\", \"investasi\", \"investasi\", \"investasi\", \"investasi\", \"investasi_sektor\", \"investor\", \"isi\", \"isu\", \"jabar\", \"jalan\", \"jalan\", \"jalan\", \"jalan_lancar\", \"jual\", \"jual\", \"juang\", \"kaji\", \"kalah\", \"kapasitas\", \"kapasitas\", \"kapasitas_bangkit\", \"kawasan_industri\", \"kejar\", \"kejar_target\", \"kembang\", \"kembang\", \"kembang\", \"kembang\", \"kembang\", \"kembang\", \"kembang\", \"kendala\", \"kendara\", \"kendara_listrik\", \"keren\", \"keren_banget\", \"komisi\", \"komisi_vii\", \"komitmen\", \"komitmen\", \"komitmen\", \"kompetitif\", \"konversi_pltd\", \"kota\", \"kuat_bidang\", \"kuat_bidang\", \"kuat_bidang\", \"kuat_bidang\", \"kuat_bidang\", \"kurang_emisi\", \"laku_usaha\", \"lancar\", \"langkah\", \"larang\", \"larang_ekspor\", \"lengkap\", \"lingkung\", \"lingkung\", \"lingkung\", \"lingkung\", \"liput\", \"lirik_investasi\", \"listrik\", \"listrik\", \"listrik\", \"listrik\", \"listrik\", \"listrik\", \"mahal\", \"mana\", \"manfaat\", \"manfaat\", \"manfaat\", \"manfaat\", \"manfaat\", \"manfaat\", \"mantap\", \"menko_airlangga\", \"menteri\", \"menteri\", \"menteri\", \"menteri\", \"menteri\", \"menteri\", \"menteri_bumn\", \"menteri_bumn_erick_thohir\", \"menteri_esdm\", \"menteri_esdm\", \"menteri_esdm\", \"menteri_jonan\", \"menteri_jonan\", \"micho\", \"miliar\", \"milik_potensi\", \"minim\", \"mobil\", \"mobil_listrik\", \"moga\", \"moga\", \"moga\", \"moga\", \"moga\", \"moga_lancar\", \"mudah\", \"murah\", \"murah\", \"murah\", \"negara_maju\", \"net_zero\", \"net_zero\", \"niscaya\", \"ntt\", \"nuklir\", \"nuklir\", \"nuklir_ruu\", \"operasi\", \"optimis\", \"panas\", \"panas\", \"panas_bumi\", \"panel_surya\", \"pasang_plts\", \"pasar\", \"pasok\", \"pasok_listrik\", \"peluang\", \"peluang\", \"penuh_butuh\", \"penuh_target\", \"percaya\", \"perintah\", \"perintah\", \"perintah\", \"perintah\", \"perintah\", \"perintah\", \"perintah\", \"perintah_serius\", \"persen\", \"persen\", \"persen\", \"persen\", \"pertamina_alokasi\", \"pertamina_alokasi\", \"pilih\", \"pilih\", \"pln\", \"pln\", \"pln\", \"pln\", \"pln\", \"pln\", \"pln_id\", \"pln_persero\", \"plt\", \"plta\", \"plta_poso\", \"pltb\", \"pltd\", \"pltn\", \"plts\", \"plts\", \"plts\", \"plts\", \"plts_atap\", \"pltu\", \"positif\", \"poso\", \"power\", \"power\", \"pres\", \"presiden_jokowi\", \"prioritas\", \"prioritas\", \"prioritas\", \"proses\", \"pulau\", \"pulau\", \"pulau\", \"ramah\", \"ramah_lingkung\", \"rancang\", \"realisasi\", \"rencana\", \"rencana_ekspor\", \"rencana_ekspor\", \"rencana_ekspor\", \"renewable\", \"renewable\", \"renewable_energy\", \"rp\", \"rp_triliun\", \"ruptl\", \"ruptl\", \"ruptl_hijau\", \"ruptl_hijau\", \"ruu\", \"ruu\", \"saing\", \"salah_satu\", \"satu\", \"sehat\", \"sekjen_esdm\", \"selesai\", \"sepakat\", \"serap\", \"serius\", \"simak\", \"simak_bawah\", \"simak_bawah\", \"simak_bawah\", \"simak_bawah\", \"simak_bawah\", \"simak_lengkap\", \"sinergi\", \"sinergi_bumn\", \"singapura\", \"sistem\", \"sobat\", \"solar\", \"solar_panel\", \"strategi\", \"strategis\", \"subholding_power\", \"subholding_power\", \"subsidi\", \"subsidi\", \"subsidi\", \"subsidi\", \"sukses\", \"sulawesi_selatan\", \"sulit\", \"sulit\", \"sumber_daya\", \"surya\", \"surya\", \"surya\", \"surya\", \"swasta\", \"tahan_pangan\", \"tahap\", \"tahu\", \"tambah\", \"tambah_bangkit\", \"tambah_kapasitas\", \"tanah_air\", \"tantang\", \"tantang\", \"tantang\", \"target\", \"target\", \"target\", \"target\", \"target\", \"target_baur\", \"tarif_listrik\", \"tekan\", \"tekan_emisi\", \"tenaga\", \"tenaga\", \"tenaga\", \"tenaga\", \"tenaga_biogas\", \"tenaga_biogas\", \"tenaga_surya\", \"terbit\", \"thohir\", \"tinggal\", \"tinggi\", \"tinggi_indonesia\", \"tinggi_indonesia\", \"tingkat\", \"tingkat\", \"tingkat\", \"tingkat\", \"tingkat\", \"tingkat\", \"tingkat_baur\", \"tingkat_porsi\", \"topang\", \"transisi\", \"transisi\", \"transportasi\", \"triliun\", \"turun\", \"ubah\", \"ubah\", \"ubah_iklim\", \"udien\", \"udien_pln\", \"udien_pln\", \"untung\", \"upaya\", \"upaya\", \"upaya\", \"us\", \"us\", \"us_miliar\", \"usaha\", \"usaha\", \"usaha\", \"usaha\", \"usaha\", \"usaha\", \"usaha\", \"usul\", \"uu\", \"via_id\", \"video\", \"vii\", \"wilayah\", \"wujud\", \"wujud_komitmen\", \"yantie_pln\", \"yantie_pln\", \"yantie_pln\", \"zero\", \"zero\", \"zero\"]}, \"R\": 30, \"lambda.step\": 0.01, \"plot.opts\": {\"xlab\": \"PC1\", \"ylab\": \"PC2\"}, \"topic.order\": [3, 1, 6, 5, 7, 4, 2]};\n",
              "\n",
              "function LDAvis_load_lib(url, callback){\n",
              "  var s = document.createElement('script');\n",
              "  s.src = url;\n",
              "  s.async = true;\n",
              "  s.onreadystatechange = s.onload = callback;\n",
              "  s.onerror = function(){console.warn(\"failed to load library \" + url);};\n",
              "  document.getElementsByTagName(\"head\")[0].appendChild(s);\n",
              "}\n",
              "\n",
              "if(typeof(LDAvis) !== \"undefined\"){\n",
              "   // already loaded: just create the visualization\n",
              "   !function(LDAvis){\n",
              "       new LDAvis(\"#\" + \"ldavis_el821618453323125768088856\", ldavis_el821618453323125768088856_data);\n",
              "   }(LDAvis);\n",
              "}else if(typeof define === \"function\" && define.amd){\n",
              "   // require.js is available: use it to load d3/LDAvis\n",
              "   require.config({paths: {d3: \"https://d3js.org/d3.v5\"}});\n",
              "   require([\"d3\"], function(d3){\n",
              "      window.d3 = d3;\n",
              "      LDAvis_load_lib(\"https://cdn.jsdelivr.net/gh/bmabey/pyLDAvis@3.3.1/pyLDAvis/js/ldavis.v3.0.0.js\", function(){\n",
              "        new LDAvis(\"#\" + \"ldavis_el821618453323125768088856\", ldavis_el821618453323125768088856_data);\n",
              "      });\n",
              "    });\n",
              "}else{\n",
              "    // require.js not available: dynamically load d3 & LDAvis\n",
              "    LDAvis_load_lib(\"https://d3js.org/d3.v5.js\", function(){\n",
              "         LDAvis_load_lib(\"https://cdn.jsdelivr.net/gh/bmabey/pyLDAvis@3.3.1/pyLDAvis/js/ldavis.v3.0.0.js\", function(){\n",
              "                 new LDAvis(\"#\" + \"ldavis_el821618453323125768088856\", ldavis_el821618453323125768088856_data);\n",
              "            })\n",
              "         });\n",
              "}\n",
              "</script>"
            ],
            "text/plain": [
              "PreparedData(topic_coordinates=               x          y  topics  cluster       Freq\n",
              "topic                                                  \n",
              "2     -29.594002  60.112713       1        1  17.354329\n",
              "0     -45.996586  11.891685       2        1  16.759890\n",
              "5      20.368856  70.019325       3        1  16.702664\n",
              "4      53.928768  31.704309       4        1  14.383629\n",
              "6     -12.437127 -26.423267       5        1  13.198711\n",
              "3       3.965971  21.797720       6        1  11.580537\n",
              "1      37.524284 -16.517805       7        1  10.020241, topic_info=                  Term         Freq        Total Category  logprob  loglift\n",
              "7140            pln_id  2086.000000  2086.000000  Default  30.0000  30.0000\n",
              "1895       target_baur  1409.000000  1409.000000  Default  29.0000  29.0000\n",
              "3787      menteri_bumn  1165.000000  1165.000000  Default  28.0000  28.0000\n",
              "357       menteri_esdm  1310.000000  1310.000000  Default  27.0000  27.0000\n",
              "783    bangkit_listrik  1375.000000  1375.000000  Default  26.0000  26.0000\n",
              "...                ...          ...          ...      ...      ...      ...\n",
              "577              pulau   234.144623   254.866620   Topic7  -4.7560   2.2158\n",
              "198            subsidi   293.866708   429.358976   Topic7  -4.5288   1.9214\n",
              "999               jual   247.228922   334.458993   Topic7  -4.7016   1.9984\n",
              "314              hijau   208.174881   513.114546   Topic7  -4.8735   1.3984\n",
              "10994           bahlil   161.155158   212.502669   Topic7  -5.1296   2.0240\n",
              "\n",
              "[346 rows x 6 columns], token_table=       Topic      Freq        Term\n",
              "term                              \n",
              "1323       3  0.990272   airlangga\n",
              "128        7  0.995228         aku\n",
              "383        7  0.997426        alas\n",
              "389        3  0.323145        alih\n",
              "389        4  0.247255        alih\n",
              "...      ...       ...         ...\n",
              "10521      3  0.003771  yantie_pln\n",
              "10521      6  0.991745  yantie_pln\n",
              "2571       1  0.032330        zero\n",
              "2571       3  0.953730        zero\n",
              "2571       5  0.010777        zero\n",
              "\n",
              "[510 rows x 3 columns], R=30, lambda_step=0.01, plot_opts={'xlab': 'PC1', 'ylab': 'PC2'}, topic_order=[3, 1, 6, 5, 7, 4, 2])"
            ]
          },
          "execution_count": 23,
          "metadata": {},
          "output_type": "execute_result"
        }
      ],
      "source": [
        "import pyLDAvis.gensim_models as gensimvis\n",
        "pyLDAvis.enable_notebook()\n",
        "panel = gensimvis.prepare(model, corpus_tfidf, dictionary, mds='tsne')\n",
        "panel"
      ]
    },
    {
      "cell_type": "code",
      "execution_count": null,
      "metadata": {},
      "outputs": [],
      "source": []
    }
  ],
  "metadata": {
    "accelerator": "TPU",
    "colab": {
      "collapsed_sections": [],
      "name": "Data Kualitatif- LDA.ipynb",
      "provenance": []
    },
    "kernelspec": {
      "display_name": "Python 3.9.2 ('venv': venv)",
      "language": "python",
      "name": "python3"
    },
    "language_info": {
      "codemirror_mode": {
        "name": "ipython",
        "version": 3
      },
      "file_extension": ".py",
      "mimetype": "text/x-python",
      "name": "python",
      "nbconvert_exporter": "python",
      "pygments_lexer": "ipython3",
      "version": "3.9.2"
    },
    "vscode": {
      "interpreter": {
        "hash": "58c1471dee2bb56ac69a6c3088a67817a3dc7b2931901bb43f222b8d3b436586"
      }
    }
  },
  "nbformat": 4,
  "nbformat_minor": 0
}
